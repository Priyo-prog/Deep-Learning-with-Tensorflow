{
  "nbformat": 4,
  "nbformat_minor": 0,
  "metadata": {
    "colab": {
      "name": "transfer_learning_with_tensorflow_fine_tuning.ipynb",
      "provenance": [],
      "toc_visible": true,
      "authorship_tag": "ABX9TyNVsunAWEOpOCcA80AyKagG",
      "include_colab_link": true
    },
    "kernelspec": {
      "name": "python3",
      "display_name": "Python 3"
    },
    "language_info": {
      "name": "python"
    },
    "accelerator": "GPU"
  },
  "cells": [
    {
      "cell_type": "markdown",
      "metadata": {
        "id": "view-in-github",
        "colab_type": "text"
      },
      "source": [
        "<a href=\"https://colab.research.google.com/github/Priyo-prog/Deep-Learning-with-Tensorflow/blob/main/Transfer%20Learning%20with%20Tensorflow/transfer_learning_with_tensorflow_fine_tuning.ipynb\" target=\"_parent\"><img src=\"https://colab.research.google.com/assets/colab-badge.svg\" alt=\"Open In Colab\"/></a>"
      ]
    },
    {
      "cell_type": "markdown",
      "source": [
        "# **Transfer Learning with TensorFlow part 2: Fine Tuning**"
      ],
      "metadata": {
        "id": "BGZczUMg-gwo"
      }
    },
    {
      "cell_type": "code",
      "source": [
        "# Check the GPU we are using \n",
        "!nvidia-smi"
      ],
      "metadata": {
        "id": "GZl1cM8r_MjG",
        "outputId": "93bc15c9-e31f-4a2f-b014-8d50dab45f9e",
        "colab": {
          "base_uri": "https://localhost:8080/"
        }
      },
      "execution_count": 1,
      "outputs": [
        {
          "output_type": "stream",
          "name": "stdout",
          "text": [
            "Thu Feb 24 04:32:19 2022       \n",
            "+-----------------------------------------------------------------------------+\n",
            "| NVIDIA-SMI 460.32.03    Driver Version: 460.32.03    CUDA Version: 11.2     |\n",
            "|-------------------------------+----------------------+----------------------+\n",
            "| GPU  Name        Persistence-M| Bus-Id        Disp.A | Volatile Uncorr. ECC |\n",
            "| Fan  Temp  Perf  Pwr:Usage/Cap|         Memory-Usage | GPU-Util  Compute M. |\n",
            "|                               |                      |               MIG M. |\n",
            "|===============================+======================+======================|\n",
            "|   0  Tesla K80           Off  | 00000000:00:04.0 Off |                    0 |\n",
            "| N/A   72C    P8    35W / 149W |      0MiB / 11441MiB |      0%      Default |\n",
            "|                               |                      |                  N/A |\n",
            "+-------------------------------+----------------------+----------------------+\n",
            "                                                                               \n",
            "+-----------------------------------------------------------------------------+\n",
            "| Processes:                                                                  |\n",
            "|  GPU   GI   CI        PID   Type   Process name                  GPU Memory |\n",
            "|        ID   ID                                                   Usage      |\n",
            "|=============================================================================|\n",
            "|  No running processes found                                                 |\n",
            "+-----------------------------------------------------------------------------+\n"
          ]
        }
      ]
    },
    {
      "cell_type": "markdown",
      "source": [
        "## Getting the helper function"
      ],
      "metadata": {
        "id": "OKnzfm5lBXFo"
      }
    },
    {
      "cell_type": "code",
      "source": [
        "!wget https://raw.githubusercontent.com/mrdbourke/tensorflow-deep-learning/main/extras/helper_functions.py"
      ],
      "metadata": {
        "id": "9A2P10YE_qKR",
        "outputId": "d3bc4fc7-47bc-4c90-dbc4-d21ea07aa6f1",
        "colab": {
          "base_uri": "https://localhost:8080/"
        }
      },
      "execution_count": 2,
      "outputs": [
        {
          "output_type": "stream",
          "name": "stdout",
          "text": [
            "--2022-02-24 04:32:19--  https://raw.githubusercontent.com/mrdbourke/tensorflow-deep-learning/main/extras/helper_functions.py\n",
            "Resolving raw.githubusercontent.com (raw.githubusercontent.com)... 185.199.108.133, 185.199.109.133, 185.199.110.133, ...\n",
            "Connecting to raw.githubusercontent.com (raw.githubusercontent.com)|185.199.108.133|:443... connected.\n",
            "HTTP request sent, awaiting response... 200 OK\n",
            "Length: 10246 (10K) [text/plain]\n",
            "Saving to: ‘helper_functions.py’\n",
            "\n",
            "helper_functions.py 100%[===================>]  10.01K  --.-KB/s    in 0s      \n",
            "\n",
            "2022-02-24 04:32:19 (82.4 MB/s) - ‘helper_functions.py’ saved [10246/10246]\n",
            "\n"
          ]
        }
      ]
    },
    {
      "cell_type": "code",
      "source": [
        "# Import the helper functions we are going to use in this notebook\n",
        "from helper_functions import create_tensorboard_callback, plot_loss_curves, unzip_data, walk_through_dir"
      ],
      "metadata": {
        "id": "l3yw31xGBLrL"
      },
      "execution_count": 3,
      "outputs": []
    },
    {
      "cell_type": "markdown",
      "source": [
        "## Get the data\n",
        "\n",
        "This time we are going to see how we can use the pretrained models within 'tf.keras.applications' and apply them to our problem"
      ],
      "metadata": {
        "id": "dz2pGRf_wVIL"
      }
    },
    {
      "cell_type": "code",
      "source": [
        "# Get the 10% of training data of 10 classes of Food101\n",
        "!wget https://storage.googleapis.com/ztm_tf_course/food_vision/10_food_classes_10_percent.zip\n",
        "\n",
        "unzip_data(\"10_food_classes_10_percent.zip\")"
      ],
      "metadata": {
        "colab": {
          "base_uri": "https://localhost:8080/"
        },
        "id": "rX5STlEFw9n4",
        "outputId": "dfe1deb7-06a7-422a-ec57-ab106780b609"
      },
      "execution_count": 4,
      "outputs": [
        {
          "output_type": "stream",
          "name": "stdout",
          "text": [
            "--2022-02-24 04:32:22--  https://storage.googleapis.com/ztm_tf_course/food_vision/10_food_classes_10_percent.zip\n",
            "Resolving storage.googleapis.com (storage.googleapis.com)... 74.125.133.128, 74.125.140.128, 108.177.15.128, ...\n",
            "Connecting to storage.googleapis.com (storage.googleapis.com)|74.125.133.128|:443... connected.\n",
            "HTTP request sent, awaiting response... 200 OK\n",
            "Length: 168546183 (161M) [application/zip]\n",
            "Saving to: ‘10_food_classes_10_percent.zip’\n",
            "\n",
            "10_food_classes_10_ 100%[===================>] 160.74M  63.7MB/s    in 2.5s    \n",
            "\n",
            "2022-02-24 04:32:25 (63.7 MB/s) - ‘10_food_classes_10_percent.zip’ saved [168546183/168546183]\n",
            "\n"
          ]
        }
      ]
    },
    {
      "cell_type": "code",
      "source": [
        "# Check out how many images and subdirectories are in our dataset\n",
        "walk_through_dir(\"10_food_classes_10_percent\")"
      ],
      "metadata": {
        "colab": {
          "base_uri": "https://localhost:8080/"
        },
        "id": "JjCYVSl-xMmv",
        "outputId": "07f294aa-23d0-4629-ec68-a29b228cf0a9"
      },
      "execution_count": 5,
      "outputs": [
        {
          "output_type": "stream",
          "name": "stdout",
          "text": [
            "There are 2 directories and 0 images in '10_food_classes_10_percent'.\n",
            "There are 10 directories and 0 images in '10_food_classes_10_percent/test'.\n",
            "There are 0 directories and 250 images in '10_food_classes_10_percent/test/sushi'.\n",
            "There are 0 directories and 250 images in '10_food_classes_10_percent/test/ramen'.\n",
            "There are 0 directories and 250 images in '10_food_classes_10_percent/test/chicken_curry'.\n",
            "There are 0 directories and 250 images in '10_food_classes_10_percent/test/hamburger'.\n",
            "There are 0 directories and 250 images in '10_food_classes_10_percent/test/chicken_wings'.\n",
            "There are 0 directories and 250 images in '10_food_classes_10_percent/test/steak'.\n",
            "There are 0 directories and 250 images in '10_food_classes_10_percent/test/ice_cream'.\n",
            "There are 0 directories and 250 images in '10_food_classes_10_percent/test/fried_rice'.\n",
            "There are 0 directories and 250 images in '10_food_classes_10_percent/test/pizza'.\n",
            "There are 0 directories and 250 images in '10_food_classes_10_percent/test/grilled_salmon'.\n",
            "There are 10 directories and 0 images in '10_food_classes_10_percent/train'.\n",
            "There are 0 directories and 75 images in '10_food_classes_10_percent/train/sushi'.\n",
            "There are 0 directories and 75 images in '10_food_classes_10_percent/train/ramen'.\n",
            "There are 0 directories and 75 images in '10_food_classes_10_percent/train/chicken_curry'.\n",
            "There are 0 directories and 75 images in '10_food_classes_10_percent/train/hamburger'.\n",
            "There are 0 directories and 75 images in '10_food_classes_10_percent/train/chicken_wings'.\n",
            "There are 0 directories and 75 images in '10_food_classes_10_percent/train/steak'.\n",
            "There are 0 directories and 75 images in '10_food_classes_10_percent/train/ice_cream'.\n",
            "There are 0 directories and 75 images in '10_food_classes_10_percent/train/fried_rice'.\n",
            "There are 0 directories and 75 images in '10_food_classes_10_percent/train/pizza'.\n",
            "There are 0 directories and 75 images in '10_food_classes_10_percent/train/grilled_salmon'.\n"
          ]
        }
      ]
    },
    {
      "cell_type": "code",
      "source": [
        "# Create training and test directories paths\n",
        "train_dir = \"10_food_classes_10_percent/train\"\n",
        "test_data = \"10_food_classes_10_percent/test\""
      ],
      "metadata": {
        "id": "F-B60cX6xzaG"
      },
      "execution_count": 6,
      "outputs": []
    },
    {
      "cell_type": "code",
      "source": [
        "import tensorflow as tf\n",
        "\n",
        "IMG_SIZE = (224,224)\n",
        "BATCH_SIZE = 32\n",
        "train_data_10_percent = tf.keras.preprocessing.image_dataset_from_directory(directory=train_dir,\n",
        "                                                                            image_size=IMG_SIZE,\n",
        "                                                                            label_mode=\"categorical\",\n",
        "                                                                            batch_size=BATCH_SIZE)\n",
        "\n",
        "test_data = tf.keras.preprocessing.image_dataset_from_directory(directory=test_data,\n",
        "                                                                image_size=IMG_SIZE,\n",
        "                                                                label_mode=\"categorical\",\n",
        "                                                                batch_size=BATCH_SIZE)"
      ],
      "metadata": {
        "colab": {
          "base_uri": "https://localhost:8080/"
        },
        "id": "vDmUbdU_yXvF",
        "outputId": "6a57abe0-e386-4b76-be22-b42f333b9e9b"
      },
      "execution_count": 7,
      "outputs": [
        {
          "output_type": "stream",
          "name": "stdout",
          "text": [
            "Found 750 files belonging to 10 classes.\n",
            "Found 2500 files belonging to 10 classes.\n"
          ]
        }
      ]
    },
    {
      "cell_type": "code",
      "source": [
        "# Check out the class names of our dataset\n",
        "train_data_10_percent.class_names"
      ],
      "metadata": {
        "colab": {
          "base_uri": "https://localhost:8080/"
        },
        "id": "uymfSVQu0Qhc",
        "outputId": "51fedd46-9576-4ef1-9f81-00295807b9ed"
      },
      "execution_count": 8,
      "outputs": [
        {
          "output_type": "execute_result",
          "data": {
            "text/plain": [
              "['chicken_curry',\n",
              " 'chicken_wings',\n",
              " 'fried_rice',\n",
              " 'grilled_salmon',\n",
              " 'hamburger',\n",
              " 'ice_cream',\n",
              " 'pizza',\n",
              " 'ramen',\n",
              " 'steak',\n",
              " 'sushi']"
            ]
          },
          "metadata": {},
          "execution_count": 8
        }
      ]
    },
    {
      "cell_type": "code",
      "source": [
        "# See an example of batch of data\n",
        "for images, labels in train_data_10_percent.take(1):\n",
        "  print(images,labels)"
      ],
      "metadata": {
        "colab": {
          "base_uri": "https://localhost:8080/"
        },
        "id": "3p3Do-Z11CL7",
        "outputId": "63d25f21-a970-4fb8-da71-fd9f6d88c925"
      },
      "execution_count": 9,
      "outputs": [
        {
          "output_type": "stream",
          "name": "stdout",
          "text": [
            "tf.Tensor(\n",
            "[[[[1.38872452e+02 1.37872452e+02 1.35872452e+02]\n",
            "   [1.36974487e+02 1.36974487e+02 1.37066330e+02]\n",
            "   [1.36923477e+02 1.36137756e+02 1.40341843e+02]\n",
            "   ...\n",
            "   [1.29923462e+02 1.45923462e+02 1.35923462e+02]\n",
            "   [1.29311218e+02 1.45311218e+02 1.35311218e+02]\n",
            "   [1.28056122e+02 1.44056122e+02 1.34056122e+02]]\n",
            "\n",
            "  [[1.38974487e+02 1.38974487e+02 1.38974487e+02]\n",
            "   [1.38928574e+02 1.38928574e+02 1.40928574e+02]\n",
            "   [1.38928574e+02 1.38142853e+02 1.42500000e+02]\n",
            "   ...\n",
            "   [1.30015305e+02 1.46015305e+02 1.36015305e+02]\n",
            "   [1.30933685e+02 1.46933685e+02 1.36933685e+02]\n",
            "   [1.31668365e+02 1.47668365e+02 1.37668365e+02]]\n",
            "\n",
            "  [[1.38280609e+02 1.38280609e+02 1.38709183e+02]\n",
            "   [1.39071426e+02 1.39071426e+02 1.41071426e+02]\n",
            "   [1.40000000e+02 1.39214279e+02 1.43571426e+02]\n",
            "   ...\n",
            "   [1.30811218e+02 1.46168365e+02 1.36382645e+02]\n",
            "   [1.29714264e+02 1.45071411e+02 1.35285690e+02]\n",
            "   [1.28428574e+02 1.43785721e+02 1.34000000e+02]]\n",
            "\n",
            "  ...\n",
            "\n",
            "  [[1.03357140e+02 1.13357140e+02 1.04357140e+02]\n",
            "   [1.07056122e+02 1.12056122e+02 1.06056122e+02]\n",
            "   [1.09357162e+02 1.12000023e+02 1.09928596e+02]\n",
            "   ...\n",
            "   [1.21214264e+02 1.22785675e+02 1.22336731e+02]\n",
            "   [1.21214264e+02 1.21214264e+02 1.22785736e+02]\n",
            "   [1.22000000e+02 1.20428528e+02 1.24785736e+02]]\n",
            "\n",
            "  [[1.06719406e+02 1.16714302e+02 1.05525490e+02]\n",
            "   [1.09005104e+02 1.14061234e+02 1.06928543e+02]\n",
            "   [1.09857155e+02 1.12413261e+02 1.08642830e+02]\n",
            "   ...\n",
            "   [1.21214294e+02 1.22770393e+02 1.22459206e+02]\n",
            "   [1.22066338e+02 1.21132652e+02 1.25933723e+02]\n",
            "   [1.23117371e+02 1.20117371e+02 1.27117371e+02]]\n",
            "\n",
            "  [[1.07515259e+02 1.15515259e+02 1.02515259e+02]\n",
            "   [1.08449013e+02 1.13239731e+02 1.03785683e+02]\n",
            "   [1.10709175e+02 1.12137749e+02 1.06709175e+02]\n",
            "   ...\n",
            "   [1.20933655e+02 1.22290771e+02 1.22576538e+02]\n",
            "   [1.22596916e+02 1.21596916e+02 1.26596916e+02]\n",
            "   [1.24642853e+02 1.21642853e+02 1.28642853e+02]]]\n",
            "\n",
            "\n",
            " [[[0.00000000e+00 0.00000000e+00 0.00000000e+00]\n",
            "   [0.00000000e+00 0.00000000e+00 0.00000000e+00]\n",
            "   [0.00000000e+00 0.00000000e+00 0.00000000e+00]\n",
            "   ...\n",
            "   [6.49897842e+01 7.09897842e+01 6.09897804e+01]\n",
            "   [6.39081688e+01 6.99081650e+01 5.99081688e+01]\n",
            "   [6.11734810e+01 6.71734772e+01 5.71734810e+01]]\n",
            "\n",
            "  [[0.00000000e+00 0.00000000e+00 0.00000000e+00]\n",
            "   [0.00000000e+00 0.00000000e+00 0.00000000e+00]\n",
            "   [0.00000000e+00 0.00000000e+00 0.00000000e+00]\n",
            "   ...\n",
            "   [6.39591866e+01 6.99591827e+01 5.79591866e+01]\n",
            "   [6.59286041e+01 7.19286041e+01 5.99286041e+01]\n",
            "   [6.23826714e+01 6.83826675e+01 5.63826714e+01]]\n",
            "\n",
            "  [[0.00000000e+00 0.00000000e+00 0.00000000e+00]\n",
            "   [0.00000000e+00 0.00000000e+00 0.00000000e+00]\n",
            "   [0.00000000e+00 0.00000000e+00 0.00000000e+00]\n",
            "   ...\n",
            "   [6.88520050e+01 7.28520050e+01 5.76836472e+01]\n",
            "   [6.56275558e+01 6.96275558e+01 5.42856979e+01]\n",
            "   [6.70102005e+01 7.10102005e+01 5.60153084e+01]]\n",
            "\n",
            "  ...\n",
            "\n",
            "  [[8.95969849e+01 8.10918732e+01 4.65306969e+01]\n",
            "   [7.87141571e+01 6.87141571e+01 3.34998894e+01]\n",
            "   [9.24233932e+01 8.24233932e+01 4.72091255e+01]\n",
            "   ...\n",
            "   [1.62142334e+01 1.30458546e+01 0.00000000e+00]\n",
            "   [1.58264542e+01 1.34999695e+01 1.98963091e-01]\n",
            "   [1.45713501e+01 1.23570862e+01 7.65237585e-02]]\n",
            "\n",
            "  [[8.67806396e+01 7.77806396e+01 4.67806358e+01]\n",
            "   [8.79999771e+01 7.69999771e+01 4.68673210e+01]\n",
            "   [9.00255127e+01 7.90255127e+01 4.86275635e+01]\n",
            "   ...\n",
            "   [1.27550869e+01 1.08010149e+01 0.00000000e+00]\n",
            "   [1.09948673e+01 1.17959394e+01 0.00000000e+00]\n",
            "   [8.66836834e+00 9.66836834e+00 0.00000000e+00]]\n",
            "\n",
            "  [[9.06069870e+01 8.16069870e+01 5.26069870e+01]\n",
            "   [8.99032364e+01 7.89032364e+01 5.09032326e+01]\n",
            "   [9.21582184e+01 8.11582184e+01 5.31582222e+01]\n",
            "   ...\n",
            "   [1.37908354e+01 1.24337187e+01 0.00000000e+00]\n",
            "   [1.26429443e+01 1.36429443e+01 3.31671268e-01]\n",
            "   [9.78582764e+00 1.17858276e+01 1.27565026e-01]]]\n",
            "\n",
            "\n",
            " [[[1.87255112e+02 1.77255112e+02 1.67382660e+02]\n",
            "   [1.93204086e+02 1.84132660e+02 1.68204086e+02]\n",
            "   [1.91362244e+02 1.83576538e+02 1.59428574e+02]\n",
            "   ...\n",
            "   [6.80668793e+01 7.72811432e+01 1.07271042e+02]\n",
            "   [5.57348289e+01 6.17348289e+01 9.77348251e+01]\n",
            "   [6.28567238e+01 6.68567276e+01 1.03397499e+02]]\n",
            "\n",
            "  [[1.84045914e+02 1.77045914e+02 1.58260193e+02]\n",
            "   [1.91117340e+02 1.84979599e+02 1.63397964e+02]\n",
            "   [1.98596939e+02 1.92596939e+02 1.70025513e+02]\n",
            "   ...\n",
            "   [6.63517532e+01 7.66221390e+01 1.10351837e+02]\n",
            "   [6.95917511e+01 7.85917511e+01 1.11459068e+02]\n",
            "   [6.30854683e+01 6.94171295e+01 1.00513969e+02]]\n",
            "\n",
            "  [[2.17469391e+02 2.11897964e+02 1.87683670e+02]\n",
            "   [1.97770401e+02 1.92198975e+02 1.67984695e+02]\n",
            "   [2.07489807e+02 2.01704086e+02 1.79795929e+02]\n",
            "   ...\n",
            "   [5.53826103e+01 6.80458679e+01 1.01923386e+02]\n",
            "   [5.97907906e+01 7.08469238e+01 9.73060608e+01]\n",
            "   [6.70713959e+01 7.75050735e+01 9.87091446e+01]]\n",
            "\n",
            "  ...\n",
            "\n",
            "  [[1.60918381e+02 1.28918381e+02 4.45000877e+01]\n",
            "   [1.75163330e+02 1.42377594e+02 6.23776779e+01]\n",
            "   [1.47943726e+02 1.14943726e+02 3.55151978e+01]\n",
            "   ...\n",
            "   [1.42188309e+02 1.08851601e+02 6.88617249e+01]\n",
            "   [1.34882614e+02 1.01882614e+02 6.07703476e+01]\n",
            "   [1.48403366e+02 1.15403366e+02 7.21175385e+01]]\n",
            "\n",
            "  [[1.73999924e+02 1.40928482e+02 6.34795494e+01]\n",
            "   [1.52923798e+02 1.18923790e+02 4.51330185e+01]\n",
            "   [1.76673203e+02 1.42673203e+02 7.07446442e+01]\n",
            "   ...\n",
            "   [1.56234772e+02 1.23020500e+02 8.26632919e+01]\n",
            "   [1.71316040e+02 1.38387482e+02 9.32343903e+01]\n",
            "   [1.68352341e+02 1.36352341e+02 8.84951096e+01]]\n",
            "\n",
            "  [[1.70739456e+02 1.36739456e+02 6.55098724e+01]\n",
            "   [1.69719696e+02 1.34765625e+02 6.66278763e+01]\n",
            "   [1.63500214e+02 1.28500214e+02 6.10614891e+01]\n",
            "   ...\n",
            "   [1.43597366e+02 1.10383095e+02 7.00258865e+01]\n",
            "   [1.74127594e+02 1.42127594e+02 9.49336700e+01]\n",
            "   [1.73127716e+02 1.41484894e+02 8.94133606e+01]]]\n",
            "\n",
            "\n",
            " ...\n",
            "\n",
            "\n",
            " [[[8.36989822e+01 8.36989822e+01 8.16989822e+01]\n",
            "   [8.69030609e+01 8.69030609e+01 8.49030609e+01]\n",
            "   [8.62193909e+01 8.62193909e+01 8.42193909e+01]\n",
            "   ...\n",
            "   [1.06571404e+02 1.02571404e+02 1.01571404e+02]\n",
            "   [1.06357140e+02 1.02357140e+02 1.01357140e+02]\n",
            "   [1.06714287e+02 1.02714287e+02 1.01714287e+02]]\n",
            "\n",
            "  [[8.05000000e+01 8.05000000e+01 7.85000000e+01]\n",
            "   [8.46428604e+01 8.46428604e+01 8.26428604e+01]\n",
            "   [8.78724518e+01 8.78724518e+01 8.58724518e+01]\n",
            "   ...\n",
            "   [1.07928574e+02 1.03928574e+02 1.02928574e+02]\n",
            "   [1.07933678e+02 1.03933678e+02 1.02933678e+02]\n",
            "   [1.08954086e+02 1.04954086e+02 1.03954086e+02]]\n",
            "\n",
            "  [[7.76326523e+01 7.76326523e+01 7.56326523e+01]\n",
            "   [8.02857208e+01 8.02857208e+01 7.82857208e+01]\n",
            "   [8.44744873e+01 8.44744873e+01 8.24744873e+01]\n",
            "   ...\n",
            "   [1.06214287e+02 1.02214287e+02 1.01214287e+02]\n",
            "   [1.05500015e+02 1.01500015e+02 1.00500015e+02]\n",
            "   [1.06785751e+02 1.02785751e+02 1.01785751e+02]]\n",
            "\n",
            "  ...\n",
            "\n",
            "  [[1.39000000e+02 1.60000000e+02 1.79000000e+02]\n",
            "   [1.39000000e+02 1.60000000e+02 1.79000000e+02]\n",
            "   [1.38831635e+02 1.57663269e+02 1.75168381e+02]\n",
            "   ...\n",
            "   [1.79045883e+02 2.05045883e+02 2.32045883e+02]\n",
            "   [1.77000000e+02 2.03000000e+02 2.30000000e+02]\n",
            "   [1.78357178e+02 2.04357178e+02 2.31357178e+02]]\n",
            "\n",
            "  [[1.39000000e+02 1.60000000e+02 1.80857178e+02]\n",
            "   [1.39000000e+02 1.60000000e+02 1.79000000e+02]\n",
            "   [1.38270386e+02 1.58673508e+02 1.77301041e+02]\n",
            "   ...\n",
            "   [1.78229568e+02 2.04229568e+02 2.31229568e+02]\n",
            "   [1.77000000e+02 2.03000000e+02 2.30000000e+02]\n",
            "   [1.77428589e+02 2.03428589e+02 2.30428589e+02]]\n",
            "\n",
            "  [[1.39642853e+02 1.60642853e+02 1.81642853e+02]\n",
            "   [1.39642853e+02 1.60642853e+02 1.81642853e+02]\n",
            "   [1.39352036e+02 1.59785721e+02 1.78770401e+02]\n",
            "   ...\n",
            "   [1.78581635e+02 2.04581635e+02 2.31581635e+02]\n",
            "   [1.77928558e+02 2.03928558e+02 2.30928558e+02]\n",
            "   [1.76770386e+02 2.02770386e+02 2.29770386e+02]]]\n",
            "\n",
            "\n",
            " [[[2.33290817e+02 1.71290817e+02 9.82908173e+01]\n",
            "   [2.36433670e+02 1.74433670e+02 9.95255051e+01]\n",
            "   [2.39005096e+02 1.77005096e+02 1.02005104e+02]\n",
            "   ...\n",
            "   [2.53132706e+02 2.08989761e+02 1.28050980e+02]\n",
            "   [2.52020401e+02 2.06306168e+02 1.28449051e+02]\n",
            "   [2.48158081e+02 2.08515259e+02 1.38872437e+02]]\n",
            "\n",
            "  [[2.37760208e+02 1.72831635e+02 1.04617348e+02]\n",
            "   [2.36719391e+02 1.72653076e+02 1.01785721e+02]\n",
            "   [2.33198975e+02 1.69198975e+02 9.71989822e+01]\n",
            "   ...\n",
            "   [2.51387817e+02 2.07244873e+02 1.26459137e+02]\n",
            "   [2.50066345e+02 2.04219421e+02 1.26428650e+02]\n",
            "   [2.49908066e+02 2.08714249e+02 1.36765274e+02]]\n",
            "\n",
            "  [[2.36132660e+02 1.70637756e+02 1.08198982e+02]\n",
            "   [2.37602036e+02 1.72586731e+02 1.07173470e+02]\n",
            "   [2.32979599e+02 1.67979599e+02 9.99795914e+01]\n",
            "   ...\n",
            "   [2.50714417e+02 2.07000000e+02 1.26520355e+02]\n",
            "   [2.52142883e+02 2.06673492e+02 1.26086792e+02]\n",
            "   [2.50295822e+02 2.06857101e+02 1.32137741e+02]]\n",
            "\n",
            "  ...\n",
            "\n",
            "  [[2.25280365e+02 1.65494629e+02 9.59231491e+01]\n",
            "   [2.38601868e+02 1.79943665e+02 1.12030373e+02]\n",
            "   [2.46673462e+02 1.90101990e+02 1.21959091e+02]\n",
            "   ...\n",
            "   [2.39571472e+02 1.74571472e+02 9.25714722e+01]\n",
            "   [2.37270401e+02 1.72270401e+02 8.86989288e+01]\n",
            "   [2.38300934e+02 1.73300934e+02 8.93009415e+01]]\n",
            "\n",
            "  [[2.13433578e+02 1.45214157e+02 7.43111115e+01]\n",
            "   [2.18351944e+02 1.51270294e+02 8.11376266e+01]\n",
            "   [2.29617233e+02 1.67158020e+02 9.78467789e+01]\n",
            "   ...\n",
            "   [2.39658157e+02 1.74658157e+02 9.10560760e+01]\n",
            "   [2.39270462e+02 1.74408234e+02 8.99948959e+01]\n",
            "   [2.44290634e+02 1.80290634e+02 9.32906342e+01]]\n",
            "\n",
            "  [[1.99673370e+02 1.26499863e+02 5.43722610e+01]\n",
            "   [2.06474457e+02 1.36331604e+02 6.43315964e+01]\n",
            "   [2.11423294e+02 1.47561035e+02 7.57753220e+01]\n",
            "   ...\n",
            "   [2.37356995e+02 1.72637650e+02 8.77957001e+01]\n",
            "   [2.35785675e+02 1.71785675e+02 8.47856750e+01]\n",
            "   [2.34867477e+02 1.70867477e+02 8.28674850e+01]]]\n",
            "\n",
            "\n",
            " [[[8.99799118e+01 8.25637741e+01 1.01812180e+02]\n",
            "   [7.47889023e+01 6.79008331e+01 8.58220673e+01]\n",
            "   [6.60758896e+01 6.18223839e+01 7.72110901e+01]\n",
            "   ...\n",
            "   [1.33571424e+01 1.23571424e+01 1.73571434e+01]\n",
            "   [1.33571424e+01 1.23571424e+01 1.73571434e+01]\n",
            "   [1.32311926e+01 1.42311926e+01 1.82311916e+01]]\n",
            "\n",
            "  [[7.46125641e+01 7.08686218e+01 9.30918350e+01]\n",
            "   [8.22959213e+01 7.92691345e+01 1.00023598e+02]\n",
            "   [7.16910095e+01 7.05481491e+01 8.84767227e+01]\n",
            "   ...\n",
            "   [1.30000000e+01 1.20000000e+01 1.70000000e+01]\n",
            "   [1.30000000e+01 1.20000000e+01 1.70000000e+01]\n",
            "   [1.26011009e+01 1.36011009e+01 1.76011009e+01]]\n",
            "\n",
            "  [[8.86648636e+01 8.96600723e+01 1.15735970e+02]\n",
            "   [8.37662659e+01 8.61948395e+01 1.11532211e+02]\n",
            "   [8.56744232e+01 8.81029968e+01 1.11960136e+02]\n",
            "   ...\n",
            "   [1.38364210e+01 1.28364210e+01 1.78364220e+01]\n",
            "   [1.40000000e+01 1.30000000e+01 1.80000000e+01]\n",
            "   [1.37857141e+01 1.47857141e+01 1.87857132e+01]]\n",
            "\n",
            "  ...\n",
            "\n",
            "  [[1.90755653e+01 1.20755663e+01 4.07556629e+00]\n",
            "   [1.92018280e+01 1.22018290e+01 4.20182896e+00]\n",
            "   [1.84001751e+01 1.14001741e+01 3.40017462e+00]\n",
            "   ...\n",
            "   [7.09172211e+01 8.91314850e+01 1.27560013e+02]\n",
            "   [5.75088615e+01 7.63286285e+01 1.12671349e+02]\n",
            "   [3.04589252e+01 5.03159828e+01 8.17272339e+01]]\n",
            "\n",
            "  [[2.09285583e+01 1.39285583e+01 5.92855835e+00]\n",
            "   [1.99285583e+01 1.29285583e+01 4.92855835e+00]\n",
            "   [1.99285583e+01 1.29285583e+01 4.92855835e+00]\n",
            "   ...\n",
            "   [5.40877495e+01 6.85261307e+01 1.01003731e+02]\n",
            "   [3.51433601e+01 4.88078690e+01 7.59467621e+01]\n",
            "   [2.42514782e+01 3.53183708e+01 5.78093681e+01]]\n",
            "\n",
            "  [[1.97732906e+01 1.27732906e+01 4.77329016e+00]\n",
            "   [1.83364487e+01 1.13364487e+01 3.33644867e+00]\n",
            "   [1.82726669e+01 1.12726669e+01 3.27266693e+00]\n",
            "   ...\n",
            "   [3.31408157e+01 4.30061455e+01 7.00066605e+01]\n",
            "   [2.43985920e+01 3.01408710e+01 5.16378479e+01]\n",
            "   [2.55209541e+01 2.87431355e+01 4.57341042e+01]]]], shape=(32, 224, 224, 3), dtype=float32) tf.Tensor(\n",
            "[[0. 0. 0. 1. 0. 0. 0. 0. 0. 0.]\n",
            " [0. 0. 0. 0. 0. 0. 0. 1. 0. 0.]\n",
            " [0. 0. 1. 0. 0. 0. 0. 0. 0. 0.]\n",
            " [0. 0. 0. 0. 0. 0. 0. 0. 1. 0.]\n",
            " [0. 0. 0. 0. 0. 0. 1. 0. 0. 0.]\n",
            " [0. 0. 0. 0. 1. 0. 0. 0. 0. 0.]\n",
            " [0. 0. 0. 0. 0. 0. 0. 0. 0. 1.]\n",
            " [0. 0. 0. 0. 1. 0. 0. 0. 0. 0.]\n",
            " [0. 0. 0. 0. 0. 0. 0. 1. 0. 0.]\n",
            " [0. 0. 0. 0. 1. 0. 0. 0. 0. 0.]\n",
            " [0. 0. 0. 0. 0. 0. 0. 0. 0. 1.]\n",
            " [1. 0. 0. 0. 0. 0. 0. 0. 0. 0.]\n",
            " [0. 0. 0. 0. 0. 0. 0. 0. 1. 0.]\n",
            " [0. 0. 0. 0. 0. 0. 0. 0. 0. 1.]\n",
            " [0. 0. 0. 0. 0. 0. 0. 0. 0. 1.]\n",
            " [0. 0. 0. 1. 0. 0. 0. 0. 0. 0.]\n",
            " [0. 0. 1. 0. 0. 0. 0. 0. 0. 0.]\n",
            " [0. 1. 0. 0. 0. 0. 0. 0. 0. 0.]\n",
            " [0. 0. 0. 0. 0. 0. 0. 0. 1. 0.]\n",
            " [0. 0. 0. 1. 0. 0. 0. 0. 0. 0.]\n",
            " [0. 0. 0. 0. 1. 0. 0. 0. 0. 0.]\n",
            " [0. 0. 0. 0. 0. 0. 1. 0. 0. 0.]\n",
            " [0. 0. 1. 0. 0. 0. 0. 0. 0. 0.]\n",
            " [1. 0. 0. 0. 0. 0. 0. 0. 0. 0.]\n",
            " [0. 0. 0. 1. 0. 0. 0. 0. 0. 0.]\n",
            " [0. 0. 0. 0. 0. 0. 1. 0. 0. 0.]\n",
            " [0. 0. 0. 0. 0. 1. 0. 0. 0. 0.]\n",
            " [0. 0. 0. 0. 0. 1. 0. 0. 0. 0.]\n",
            " [0. 0. 1. 0. 0. 0. 0. 0. 0. 0.]\n",
            " [0. 0. 0. 1. 0. 0. 0. 0. 0. 0.]\n",
            " [0. 0. 1. 0. 0. 0. 0. 0. 0. 0.]\n",
            " [1. 0. 0. 0. 0. 0. 0. 0. 0. 0.]], shape=(32, 10), dtype=float32)\n"
          ]
        }
      ]
    },
    {
      "cell_type": "markdown",
      "source": [
        "## Build Transfer Learning model using Functional API\n",
        "\n",
        "The Sequential API is straight forward, it runs our layer in sequential order\n",
        "\n",
        "But the Functional API gives us more flexibility with our models :- \n",
        "\n",
        "[Tensorflow Keras Functional API](https://www.tensorflow.org/guide/keras/functional)"
      ],
      "metadata": {
        "id": "GsWSb0zW1hyU"
      }
    },
    {
      "cell_type": "code",
      "source": [
        "# 1. Create bas model with tf.keras.applications\n",
        "base_model = tf.keras.applications.EfficientNetB0(include_top=False)\n",
        "\n",
        "# 2. Freeze the base model (so the underlying pre-trained patterns aren't updated during training)\n",
        "base_model.trainable = False\n",
        "\n",
        "# 3. Create inputs in our model\n",
        "inputs = tf.keras.layers.Input(shape=(224,224,3), name=\"input_layer\")\n",
        "\n",
        "# 4. If using a model like ResNet50V2 you will need to normalize inputs (you don't need to for EfficientNet)\n",
        "#x = tf.keras.layers.experimental.preprocessing.Rescaling(1./255)(inputs)\n",
        "\n",
        "# 5. Pass the inputs to the base_model\n",
        "x = base_model(inputs)\n",
        "print(f\"Shape after passing inputs through base model: {x.shape}\")\n",
        "\n",
        "# 6. Average pool the outputs of the base model (aggregate all the important information, reduce number of computations)\n",
        "x = tf.keras.layers.GlobalAveragePooling2D(name=\"global_average_pooling_layer\")(x)\n",
        "print(f\"Shape after GlobalAveragePooling2D: {x.shape}\")\n",
        "\n",
        "# 7. Create the output activation layer\n",
        "outputs = tf.keras.layers.Dense(10, activation=\"softmax\", name=\"output_layer\")(x)\n",
        "\n",
        "# 8. Combine the inputs with the outputs into a model\n",
        "model_0 = tf.keras.Model(inputs, outputs)\n",
        "\n",
        "# 9. Compile the model\n",
        "model_0.compile(loss=tf.keras.losses.CategoricalCrossentropy(),\n",
        "                optimizer=tf.keras.optimizers.Adam(),\n",
        "                metrics=[\"accuracy\"])\n",
        "\n",
        "# 10. Fit the model and save it's history\n",
        "history_10_percent = model_0.fit(train_data_10_percent,\n",
        "                                 epochs=5,\n",
        "                                 steps_per_epoch=len(train_data_10_percent),\n",
        "                                 validation_data=test_data,\n",
        "                                 validation_steps=int(0.25 * len(test_data)),\n",
        "                                 callbacks=[create_tensorboard_callback(dir_name=\"transfer_learning\",\n",
        "                                                                        experiment_name=\"10_percent_feature_extraction\")])"
      ],
      "metadata": {
        "id": "Jte4mPvdwHsS",
        "outputId": "6d9a38e6-daae-4fb7-e198-dd8db18a9b85",
        "colab": {
          "base_uri": "https://localhost:8080/"
        }
      },
      "execution_count": 10,
      "outputs": [
        {
          "output_type": "stream",
          "name": "stdout",
          "text": [
            "Downloading data from https://storage.googleapis.com/keras-applications/efficientnetb0_notop.h5\n",
            "16711680/16705208 [==============================] - 0s 0us/step\n",
            "16719872/16705208 [==============================] - 0s 0us/step\n",
            "Shape after passing inputs through base model: (None, 7, 7, 1280)\n",
            "Shape after GlobalAveragePooling2D: (None, 1280)\n",
            "Saving TensorBoard log files to: transfer_learning/10_percent_feature_extraction/20220224-043244\n",
            "Epoch 1/5\n",
            "24/24 [==============================] - 27s 384ms/step - loss: 1.9028 - accuracy: 0.4227 - val_loss: 1.3099 - val_accuracy: 0.7418\n",
            "Epoch 2/5\n",
            "24/24 [==============================] - 9s 359ms/step - loss: 1.1538 - accuracy: 0.7440 - val_loss: 0.8893 - val_accuracy: 0.8207\n",
            "Epoch 3/5\n",
            "24/24 [==============================] - 7s 270ms/step - loss: 0.8622 - accuracy: 0.8000 - val_loss: 0.7071 - val_accuracy: 0.8438\n",
            "Epoch 4/5\n",
            "24/24 [==============================] - 9s 359ms/step - loss: 0.6950 - accuracy: 0.8213 - val_loss: 0.6491 - val_accuracy: 0.8388\n",
            "Epoch 5/5\n",
            "24/24 [==============================] - 9s 358ms/step - loss: 0.5940 - accuracy: 0.8600 - val_loss: 0.5759 - val_accuracy: 0.8651\n"
          ]
        }
      ]
    },
    {
      "cell_type": "code",
      "source": [
        "# Evaluate on full test dataset\n",
        "model_0.evaluate(test_data)"
      ],
      "metadata": {
        "id": "Rdwh5VzRXcef",
        "outputId": "c607f69d-9c3e-45db-80a8-e31dd2dd8d38",
        "colab": {
          "base_uri": "https://localhost:8080/"
        }
      },
      "execution_count": 11,
      "outputs": [
        {
          "output_type": "stream",
          "name": "stdout",
          "text": [
            "79/79 [==============================] - 12s 139ms/step - loss: 0.6075 - accuracy: 0.8400\n"
          ]
        },
        {
          "output_type": "execute_result",
          "data": {
            "text/plain": [
              "[0.6074551939964294, 0.8399999737739563]"
            ]
          },
          "metadata": {},
          "execution_count": 11
        }
      ]
    },
    {
      "cell_type": "code",
      "source": [
        "# Check the layers in our base model\n",
        "for layer_number, layer in enumerate(base_model.layers):\n",
        "  print(layer_number, layer.name)"
      ],
      "metadata": {
        "id": "6cGaa8W0X9NI",
        "outputId": "f827257c-ade8-463d-c463-d80137dff0ce",
        "colab": {
          "base_uri": "https://localhost:8080/"
        }
      },
      "execution_count": 12,
      "outputs": [
        {
          "output_type": "stream",
          "name": "stdout",
          "text": [
            "0 input_1\n",
            "1 rescaling\n",
            "2 normalization\n",
            "3 stem_conv_pad\n",
            "4 stem_conv\n",
            "5 stem_bn\n",
            "6 stem_activation\n",
            "7 block1a_dwconv\n",
            "8 block1a_bn\n",
            "9 block1a_activation\n",
            "10 block1a_se_squeeze\n",
            "11 block1a_se_reshape\n",
            "12 block1a_se_reduce\n",
            "13 block1a_se_expand\n",
            "14 block1a_se_excite\n",
            "15 block1a_project_conv\n",
            "16 block1a_project_bn\n",
            "17 block2a_expand_conv\n",
            "18 block2a_expand_bn\n",
            "19 block2a_expand_activation\n",
            "20 block2a_dwconv_pad\n",
            "21 block2a_dwconv\n",
            "22 block2a_bn\n",
            "23 block2a_activation\n",
            "24 block2a_se_squeeze\n",
            "25 block2a_se_reshape\n",
            "26 block2a_se_reduce\n",
            "27 block2a_se_expand\n",
            "28 block2a_se_excite\n",
            "29 block2a_project_conv\n",
            "30 block2a_project_bn\n",
            "31 block2b_expand_conv\n",
            "32 block2b_expand_bn\n",
            "33 block2b_expand_activation\n",
            "34 block2b_dwconv\n",
            "35 block2b_bn\n",
            "36 block2b_activation\n",
            "37 block2b_se_squeeze\n",
            "38 block2b_se_reshape\n",
            "39 block2b_se_reduce\n",
            "40 block2b_se_expand\n",
            "41 block2b_se_excite\n",
            "42 block2b_project_conv\n",
            "43 block2b_project_bn\n",
            "44 block2b_drop\n",
            "45 block2b_add\n",
            "46 block3a_expand_conv\n",
            "47 block3a_expand_bn\n",
            "48 block3a_expand_activation\n",
            "49 block3a_dwconv_pad\n",
            "50 block3a_dwconv\n",
            "51 block3a_bn\n",
            "52 block3a_activation\n",
            "53 block3a_se_squeeze\n",
            "54 block3a_se_reshape\n",
            "55 block3a_se_reduce\n",
            "56 block3a_se_expand\n",
            "57 block3a_se_excite\n",
            "58 block3a_project_conv\n",
            "59 block3a_project_bn\n",
            "60 block3b_expand_conv\n",
            "61 block3b_expand_bn\n",
            "62 block3b_expand_activation\n",
            "63 block3b_dwconv\n",
            "64 block3b_bn\n",
            "65 block3b_activation\n",
            "66 block3b_se_squeeze\n",
            "67 block3b_se_reshape\n",
            "68 block3b_se_reduce\n",
            "69 block3b_se_expand\n",
            "70 block3b_se_excite\n",
            "71 block3b_project_conv\n",
            "72 block3b_project_bn\n",
            "73 block3b_drop\n",
            "74 block3b_add\n",
            "75 block4a_expand_conv\n",
            "76 block4a_expand_bn\n",
            "77 block4a_expand_activation\n",
            "78 block4a_dwconv_pad\n",
            "79 block4a_dwconv\n",
            "80 block4a_bn\n",
            "81 block4a_activation\n",
            "82 block4a_se_squeeze\n",
            "83 block4a_se_reshape\n",
            "84 block4a_se_reduce\n",
            "85 block4a_se_expand\n",
            "86 block4a_se_excite\n",
            "87 block4a_project_conv\n",
            "88 block4a_project_bn\n",
            "89 block4b_expand_conv\n",
            "90 block4b_expand_bn\n",
            "91 block4b_expand_activation\n",
            "92 block4b_dwconv\n",
            "93 block4b_bn\n",
            "94 block4b_activation\n",
            "95 block4b_se_squeeze\n",
            "96 block4b_se_reshape\n",
            "97 block4b_se_reduce\n",
            "98 block4b_se_expand\n",
            "99 block4b_se_excite\n",
            "100 block4b_project_conv\n",
            "101 block4b_project_bn\n",
            "102 block4b_drop\n",
            "103 block4b_add\n",
            "104 block4c_expand_conv\n",
            "105 block4c_expand_bn\n",
            "106 block4c_expand_activation\n",
            "107 block4c_dwconv\n",
            "108 block4c_bn\n",
            "109 block4c_activation\n",
            "110 block4c_se_squeeze\n",
            "111 block4c_se_reshape\n",
            "112 block4c_se_reduce\n",
            "113 block4c_se_expand\n",
            "114 block4c_se_excite\n",
            "115 block4c_project_conv\n",
            "116 block4c_project_bn\n",
            "117 block4c_drop\n",
            "118 block4c_add\n",
            "119 block5a_expand_conv\n",
            "120 block5a_expand_bn\n",
            "121 block5a_expand_activation\n",
            "122 block5a_dwconv\n",
            "123 block5a_bn\n",
            "124 block5a_activation\n",
            "125 block5a_se_squeeze\n",
            "126 block5a_se_reshape\n",
            "127 block5a_se_reduce\n",
            "128 block5a_se_expand\n",
            "129 block5a_se_excite\n",
            "130 block5a_project_conv\n",
            "131 block5a_project_bn\n",
            "132 block5b_expand_conv\n",
            "133 block5b_expand_bn\n",
            "134 block5b_expand_activation\n",
            "135 block5b_dwconv\n",
            "136 block5b_bn\n",
            "137 block5b_activation\n",
            "138 block5b_se_squeeze\n",
            "139 block5b_se_reshape\n",
            "140 block5b_se_reduce\n",
            "141 block5b_se_expand\n",
            "142 block5b_se_excite\n",
            "143 block5b_project_conv\n",
            "144 block5b_project_bn\n",
            "145 block5b_drop\n",
            "146 block5b_add\n",
            "147 block5c_expand_conv\n",
            "148 block5c_expand_bn\n",
            "149 block5c_expand_activation\n",
            "150 block5c_dwconv\n",
            "151 block5c_bn\n",
            "152 block5c_activation\n",
            "153 block5c_se_squeeze\n",
            "154 block5c_se_reshape\n",
            "155 block5c_se_reduce\n",
            "156 block5c_se_expand\n",
            "157 block5c_se_excite\n",
            "158 block5c_project_conv\n",
            "159 block5c_project_bn\n",
            "160 block5c_drop\n",
            "161 block5c_add\n",
            "162 block6a_expand_conv\n",
            "163 block6a_expand_bn\n",
            "164 block6a_expand_activation\n",
            "165 block6a_dwconv_pad\n",
            "166 block6a_dwconv\n",
            "167 block6a_bn\n",
            "168 block6a_activation\n",
            "169 block6a_se_squeeze\n",
            "170 block6a_se_reshape\n",
            "171 block6a_se_reduce\n",
            "172 block6a_se_expand\n",
            "173 block6a_se_excite\n",
            "174 block6a_project_conv\n",
            "175 block6a_project_bn\n",
            "176 block6b_expand_conv\n",
            "177 block6b_expand_bn\n",
            "178 block6b_expand_activation\n",
            "179 block6b_dwconv\n",
            "180 block6b_bn\n",
            "181 block6b_activation\n",
            "182 block6b_se_squeeze\n",
            "183 block6b_se_reshape\n",
            "184 block6b_se_reduce\n",
            "185 block6b_se_expand\n",
            "186 block6b_se_excite\n",
            "187 block6b_project_conv\n",
            "188 block6b_project_bn\n",
            "189 block6b_drop\n",
            "190 block6b_add\n",
            "191 block6c_expand_conv\n",
            "192 block6c_expand_bn\n",
            "193 block6c_expand_activation\n",
            "194 block6c_dwconv\n",
            "195 block6c_bn\n",
            "196 block6c_activation\n",
            "197 block6c_se_squeeze\n",
            "198 block6c_se_reshape\n",
            "199 block6c_se_reduce\n",
            "200 block6c_se_expand\n",
            "201 block6c_se_excite\n",
            "202 block6c_project_conv\n",
            "203 block6c_project_bn\n",
            "204 block6c_drop\n",
            "205 block6c_add\n",
            "206 block6d_expand_conv\n",
            "207 block6d_expand_bn\n",
            "208 block6d_expand_activation\n",
            "209 block6d_dwconv\n",
            "210 block6d_bn\n",
            "211 block6d_activation\n",
            "212 block6d_se_squeeze\n",
            "213 block6d_se_reshape\n",
            "214 block6d_se_reduce\n",
            "215 block6d_se_expand\n",
            "216 block6d_se_excite\n",
            "217 block6d_project_conv\n",
            "218 block6d_project_bn\n",
            "219 block6d_drop\n",
            "220 block6d_add\n",
            "221 block7a_expand_conv\n",
            "222 block7a_expand_bn\n",
            "223 block7a_expand_activation\n",
            "224 block7a_dwconv\n",
            "225 block7a_bn\n",
            "226 block7a_activation\n",
            "227 block7a_se_squeeze\n",
            "228 block7a_se_reshape\n",
            "229 block7a_se_reduce\n",
            "230 block7a_se_expand\n",
            "231 block7a_se_excite\n",
            "232 block7a_project_conv\n",
            "233 block7a_project_bn\n",
            "234 top_conv\n",
            "235 top_bn\n",
            "236 top_activation\n"
          ]
        }
      ]
    },
    {
      "cell_type": "code",
      "source": [
        "# Summary of our whole model\n",
        "model_0.summary()"
      ],
      "metadata": {
        "id": "0_nl6M4oYhYA",
        "outputId": "dd5fd4c6-4f1a-4e32-a9ba-d0af737920a0",
        "colab": {
          "base_uri": "https://localhost:8080/"
        }
      },
      "execution_count": 13,
      "outputs": [
        {
          "output_type": "stream",
          "name": "stdout",
          "text": [
            "Model: \"model\"\n",
            "_________________________________________________________________\n",
            " Layer (type)                Output Shape              Param #   \n",
            "=================================================================\n",
            " input_layer (InputLayer)    [(None, 224, 224, 3)]     0         \n",
            "                                                                 \n",
            " efficientnetb0 (Functional)  (None, None, None, 1280)  4049571  \n",
            "                                                                 \n",
            " global_average_pooling_laye  (None, 1280)             0         \n",
            " r (GlobalAveragePooling2D)                                      \n",
            "                                                                 \n",
            " output_layer (Dense)        (None, 10)                12810     \n",
            "                                                                 \n",
            "=================================================================\n",
            "Total params: 4,062,381\n",
            "Trainable params: 12,810\n",
            "Non-trainable params: 4,049,571\n",
            "_________________________________________________________________\n"
          ]
        }
      ]
    },
    {
      "cell_type": "code",
      "source": [
        "# Check out our model's training curves\n",
        "plot_loss_curves(history_10_percent)"
      ],
      "metadata": {
        "id": "tsxCJlpLZPom",
        "outputId": "b93e00e8-84e9-48e9-9c00-ab2c881ad75e",
        "colab": {
          "base_uri": "https://localhost:8080/",
          "height": 573
        }
      },
      "execution_count": 14,
      "outputs": [
        {
          "output_type": "display_data",
          "data": {
            "image/png": "[encoded data removed]",
            "text/plain": [
              "<Figure size 432x288 with 1 Axes>"
            ]
          },
          "metadata": {
            "needs_background": "light"
          }
        },
        {
          "output_type": "display_data",
          "data": {
            "image/png": "[encoded data removed]",
            "text/plain": [
              "<Figure size 432x288 with 1 Axes>"
            ]
          },
          "metadata": {
            "needs_background": "light"
          }
        }
      ]
    },
    {
      "cell_type": "markdown",
      "source": [
        "## Get a feature vector from a trained model\n",
        "\n",
        "Let's demonstrate the Global Average Pooling 2D layer\n",
        "\n",
        "We have a tensor after our model goes through 'base model' of \n",
        "shape(None, 7, 7, 1280) \n",
        "\n",
        "But when it passes through GlobalAveragePooling2D, it turns into \n",
        "shape(None, 1280)..\n",
        "\n",
        "Let's use a similar shaped tensor of (1, 4, 4, 3) and then pass it\n",
        "to GlobalAveragePooling2D.\n"
      ],
      "metadata": {
        "id": "dKy8tPOTZqLh"
      }
    },
    {
      "cell_type": "code",
      "source": [
        "# Define the input shape\n",
        "input_shape = (1, 4, 4, 3)\n",
        "\n",
        "# Create a random tensor\n",
        "tf.random.set_seed(42)\n",
        "input_tensor = tf.random.normal(input_shape)\n",
        "print(f\"Random input tensor:\\n{input_tensor}\\n\")"
      ],
      "metadata": {
        "id": "aJgCViaTaHov",
        "outputId": "147f4416-d438-45bb-d02a-e95f103b247a",
        "colab": {
          "base_uri": "https://localhost:8080/"
        }
      },
      "execution_count": 15,
      "outputs": [
        {
          "output_type": "stream",
          "name": "stdout",
          "text": [
            "Random input tensor:\n",
            "[[[[ 0.3274685  -0.8426258   0.3194337 ]\n",
            "   [-1.4075519  -2.3880599  -1.0392479 ]\n",
            "   [-0.5573232   0.539707    1.6994323 ]\n",
            "   [ 0.28893656 -1.5066116  -0.2645474 ]]\n",
            "\n",
            "  [[-0.59722406 -1.9171132  -0.62044144]\n",
            "   [ 0.8504023  -0.40604794 -3.0258412 ]\n",
            "   [ 0.9058464   0.29855987 -0.22561555]\n",
            "   [-0.7616443  -1.8917141  -0.93847126]]\n",
            "\n",
            "  [[ 0.77852213 -0.47338897  0.97772694]\n",
            "   [ 0.24694404  0.20573747 -0.5256233 ]\n",
            "   [ 0.32410017  0.02545409 -0.10638497]\n",
            "   [-0.6369475   1.1603122   0.2507359 ]]\n",
            "\n",
            "  [[-0.41728503  0.4012578  -1.4145443 ]\n",
            "   [-0.5931857  -1.6617213   0.33567193]\n",
            "   [ 0.10815629  0.23479682 -0.56668764]\n",
            "   [-0.35819843  0.88698614  0.52744764]]]]\n",
            "\n"
          ]
        }
      ]
    },
    {
      "cell_type": "code",
      "source": [
        "# pass the random tensor through a global average pooling 2D layer\n",
        "global_average_pooled_tensor = tf.keras.layers.GlobalAveragePooling2D()(input_tensor) # Passing the input_tensor after the layer\n",
        "print(f\"2D global average pooled random tensor:\\n {global_average_pooled_tensor}\\n\")"
      ],
      "metadata": {
        "id": "LiwCBWFmcUCK",
        "outputId": "06bbd9c0-82a7-42b5-c451-c8babd261abd",
        "colab": {
          "base_uri": "https://localhost:8080/"
        }
      },
      "execution_count": 16,
      "outputs": [
        {
          "output_type": "stream",
          "name": "stdout",
          "text": [
            "2D global average pooled random tensor:\n",
            " [[-0.09368646 -0.45840448 -0.2885598 ]]\n",
            "\n"
          ]
        }
      ]
    },
    {
      "cell_type": "code",
      "source": [
        "# Check the shapes of different tensors\n",
        "print(f\"Shape of input tensor: {input_tensor.shape}\")\n",
        "print(f\"Shape of the global average pooled 2D tensor : {global_average_pooled_tensor}\")"
      ],
      "metadata": {
        "id": "CghgbgSudtOu",
        "outputId": "c01ed1d0-3b9a-4135-c3c7-13e573c3b1b0",
        "colab": {
          "base_uri": "https://localhost:8080/"
        }
      },
      "execution_count": 17,
      "outputs": [
        {
          "output_type": "stream",
          "name": "stdout",
          "text": [
            "Shape of input tensor: (1, 4, 4, 3)\n",
            "Shape of the global average pooled 2D tensor : [[-0.09368646 -0.45840448 -0.2885598 ]]\n"
          ]
        }
      ]
    },
    {
      "cell_type": "code",
      "source": [
        "# Let's replicate the GlobalAveragePooling2D layer\n",
        "tf.reduce_mean(input_tensor, axis=[1,2])"
      ],
      "metadata": {
        "id": "M0FsazsgeUCg",
        "outputId": "26ad4703-57eb-478a-9cf6-bdc7ac13509b",
        "colab": {
          "base_uri": "https://localhost:8080/"
        }
      },
      "execution_count": 18,
      "outputs": [
        {
          "output_type": "execute_result",
          "data": {
            "text/plain": [
              "<tf.Tensor: shape=(1, 3), dtype=float32, numpy=array([[-0.09368646, -0.45840448, -0.2885598 ]], dtype=float32)>"
            ]
          },
          "metadata": {},
          "execution_count": 18
        }
      ]
    },
    {
      "cell_type": "markdown",
      "source": [
        "## Feature Vector\n",
        "\n",
        "**What is a feature vector?**\n",
        "\n",
        "Ans : A feature vector is a learned representation of the input data(a compressed form of the input data based on how model see's it)\n",
        "\n",
        "We've seen the incredible results transfer learning can get with only 10% of the training data, but how does it goes with **1%** of the training data... how about we setup a bunch of experiments to find out:\n",
        "\n",
        "1. 'model_1' - use feature extraction transfer learning with 1% of data with data augmentation\n",
        "\n",
        "2. 'model_2' - use feature extraction transfer learning with 10% of the training data with data augmentation \n",
        "\n",
        "3. 'model_3' - use **fine-tuning** transfer learning on 10% of the training data with data augmentation.\n",
        "\n",
        "4. 'model_4' - use fine-tuning transfer learning on 100% of the training data with data augmentation. \n",
        "\n",
        "\n",
        "Note: throught all experiments the same test dataset will be used to evaluate our model.... this ensure consistency across evaluation metrics."
      ],
      "metadata": {
        "id": "jyzbChGIfoAN"
      }
    },
    {
      "cell_type": "code",
      "source": [
        "# Download and unzip the data -  preprocessed from Food101\n",
        "!wget https://storage.googleapis.com/ztm_tf_course/food_vision/10_food_classes_1_percent.zip\n",
        "\n",
        "unzip_data(\"10_food_classes_1_percent.zip\")"
      ],
      "metadata": {
        "id": "xaMeLgOHq0L4",
        "outputId": "661215da-1502-4632-f18b-134588381118",
        "colab": {
          "base_uri": "https://localhost:8080/"
        }
      },
      "execution_count": 19,
      "outputs": [
        {
          "output_type": "stream",
          "name": "stdout",
          "text": [
            "--2022-02-24 04:34:02--  https://storage.googleapis.com/ztm_tf_course/food_vision/10_food_classes_1_percent.zip\n",
            "Resolving storage.googleapis.com (storage.googleapis.com)... 74.125.133.128, 74.125.140.128, 108.177.15.128, ...\n",
            "Connecting to storage.googleapis.com (storage.googleapis.com)|74.125.133.128|:443... connected.\n",
            "HTTP request sent, awaiting response... 200 OK\n",
            "Length: 133612354 (127M) [application/zip]\n",
            "Saving to: ‘10_food_classes_1_percent.zip’\n",
            "\n",
            "10_food_classes_1_p 100%[===================>] 127.42M   110MB/s    in 1.2s    \n",
            "\n",
            "2022-02-24 04:34:03 (110 MB/s) - ‘10_food_classes_1_percent.zip’ saved [133612354/133612354]\n",
            "\n"
          ]
        }
      ]
    },
    {
      "cell_type": "code",
      "source": [
        "# Create train and test dirs \n",
        "train_dir_1_percent = \"10_food_classes_1_percent/train\"\n",
        "test_dir = \"10_food_classes_1_percent/test\""
      ],
      "metadata": {
        "id": "6341dTxbsQAe"
      },
      "execution_count": 20,
      "outputs": []
    },
    {
      "cell_type": "code",
      "source": [
        "# How many images are we working with ?\n",
        "walk_through_dir(\"10_food_classes_1_percent\")"
      ],
      "metadata": {
        "id": "ijDnS96NsqUx",
        "outputId": "349e11df-b58c-44f2-e62f-d322e2b4f2a1",
        "colab": {
          "base_uri": "https://localhost:8080/"
        }
      },
      "execution_count": 21,
      "outputs": [
        {
          "output_type": "stream",
          "name": "stdout",
          "text": [
            "There are 2 directories and 0 images in '10_food_classes_1_percent'.\n",
            "There are 10 directories and 0 images in '10_food_classes_1_percent/test'.\n",
            "There are 0 directories and 250 images in '10_food_classes_1_percent/test/sushi'.\n",
            "There are 0 directories and 250 images in '10_food_classes_1_percent/test/ramen'.\n",
            "There are 0 directories and 250 images in '10_food_classes_1_percent/test/chicken_curry'.\n",
            "There are 0 directories and 250 images in '10_food_classes_1_percent/test/hamburger'.\n",
            "There are 0 directories and 250 images in '10_food_classes_1_percent/test/chicken_wings'.\n",
            "There are 0 directories and 250 images in '10_food_classes_1_percent/test/steak'.\n",
            "There are 0 directories and 250 images in '10_food_classes_1_percent/test/ice_cream'.\n",
            "There are 0 directories and 250 images in '10_food_classes_1_percent/test/fried_rice'.\n",
            "There are 0 directories and 250 images in '10_food_classes_1_percent/test/pizza'.\n",
            "There are 0 directories and 250 images in '10_food_classes_1_percent/test/grilled_salmon'.\n",
            "There are 10 directories and 0 images in '10_food_classes_1_percent/train'.\n",
            "There are 0 directories and 7 images in '10_food_classes_1_percent/train/sushi'.\n",
            "There are 0 directories and 7 images in '10_food_classes_1_percent/train/ramen'.\n",
            "There are 0 directories and 7 images in '10_food_classes_1_percent/train/chicken_curry'.\n",
            "There are 0 directories and 7 images in '10_food_classes_1_percent/train/hamburger'.\n",
            "There are 0 directories and 7 images in '10_food_classes_1_percent/train/chicken_wings'.\n",
            "There are 0 directories and 7 images in '10_food_classes_1_percent/train/steak'.\n",
            "There are 0 directories and 7 images in '10_food_classes_1_percent/train/ice_cream'.\n",
            "There are 0 directories and 7 images in '10_food_classes_1_percent/train/fried_rice'.\n",
            "There are 0 directories and 7 images in '10_food_classes_1_percent/train/pizza'.\n",
            "There are 0 directories and 7 images in '10_food_classes_1_percent/train/grilled_salmon'.\n"
          ]
        }
      ]
    },
    {
      "cell_type": "code",
      "source": [
        "# Set up the data loaders\n",
        "IMG_SIZE = (224,224)\n",
        "train_data_1_percent = tf.keras.preprocessing.image_dataset_from_directory(train_dir_1_percent,\n",
        "                                                                           label_mode='categorical',\n",
        "                                                                           image_size=IMG_SIZE,\n",
        "                                                                           batch_size=BATCH_SIZE)\n",
        "\n",
        "test_data = tf.keras.preprocessing.image_dataset_from_directory(test_dir,\n",
        "                                                                label_mode='categorical',\n",
        "                                                                image_size=IMG_SIZE,\n",
        "                                                                batch_size=BATCH_SIZE)"
      ],
      "metadata": {
        "id": "1aXLEILn7xF3",
        "outputId": "357bb10e-8e43-4775-b9fb-cadcfa94dd40",
        "colab": {
          "base_uri": "https://localhost:8080/"
        }
      },
      "execution_count": 22,
      "outputs": [
        {
          "output_type": "stream",
          "name": "stdout",
          "text": [
            "Found 70 files belonging to 10 classes.\n",
            "Found 2500 files belonging to 10 classes.\n"
          ]
        }
      ]
    },
    {
      "cell_type": "markdown",
      "source": [
        "* Adding data augmentation right into the model\n",
        "\n",
        "   To add the data augmentation right into our models, we can use the layers   inside:\n",
        "   * tf.keras.layers.experimental.preprocessing()\n",
        "\n",
        "* Benefits of in-layer data augmentation\n",
        "\n",
        "There are two important points to be aware of in this case:\n",
        "\n",
        "* Data augmentation will run on-device, synchronously with the rest of your layers, and benefit from GPU acceleration.\n",
        "\n",
        "* When you export your model using **model.save**, the preprocessing layers will be saved along with the rest of your model. If you later deploy this model, it will automatically standardize images (according to the configuration of your layers). This can save you from the effort of having to reimplement that logic server-side.\n",
        "\n",
        "\n"
      ],
      "metadata": {
        "id": "6QNsgSXW8tSD"
      }
    },
    {
      "cell_type": "code",
      "source": [
        "import tensorflow as tf\n",
        "from tensorflow import keras\n",
        "from tensorflow.keras import layers\n",
        "from tensorflow.keras.layers.experimental import preprocessing\n",
        "from tensorflow.keras.models import Sequential\n",
        "\n",
        "# Create data augmentation stage with horizontal flipping, rotation, zooms etc..\n",
        "data_augmentation = Sequential([\n",
        " preprocessing.RandomFlip(\"horizontal\"),\n",
        " preprocessing.RandomRotation(0.2),\n",
        " preprocessing.RandomZoom(0.2),\n",
        " preprocessing.RandomHeight(0.2),\n",
        " preprocessing.RandomWidth(0.2),\n",
        " # preprocessing.Rescale(1./255) # Keep for models like ResNet50V2 but EfficientNet's having rescaling built-in                                      \n",
        "], name=\"data_augmentation\")"
      ],
      "metadata": {
        "id": "zdzY8H8g94Bb"
      },
      "execution_count": 23,
      "outputs": []
    },
    {
      "cell_type": "markdown",
      "source": [
        "## Visualize out data augmentation layer"
      ],
      "metadata": {
        "id": "XX0PhuCjA5VC"
      }
    },
    {
      "cell_type": "code",
      "source": [
        "# View a random image and compare it to it's augmented version\n",
        "import matplotlib.pyplot as plt\n",
        "import matplotlib.image as mpimg\n",
        "import os\n",
        "import random\n",
        "\n",
        "target_class = random.choice(train_data_1_percent.class_names)\n",
        "target_dir = \"10_food_classes_1_percent/train/\" + target_class\n",
        "print(target_dir)"
      ],
      "metadata": {
        "id": "Ih9pVTELKBvI",
        "outputId": "40062663-402d-4464-d682-7e64538836b9",
        "colab": {
          "base_uri": "https://localhost:8080/"
        }
      },
      "execution_count": 24,
      "outputs": [
        {
          "output_type": "stream",
          "name": "stdout",
          "text": [
            "10_food_classes_1_percent/train/chicken_wings\n"
          ]
        }
      ]
    },
    {
      "cell_type": "code",
      "source": [
        "random_image = random.choice(os.listdir(target_dir))\n",
        "random_image_path = target_dir + \"/\" + random_image\n",
        "print(random_image_path)"
      ],
      "metadata": {
        "id": "5GDQ8SbHKtYp",
        "outputId": "ba6f8451-7560-4b1a-f1ac-e27cb8327bbc",
        "colab": {
          "base_uri": "https://localhost:8080/"
        }
      },
      "execution_count": 25,
      "outputs": [
        {
          "output_type": "stream",
          "name": "stdout",
          "text": [
            "10_food_classes_1_percent/train/chicken_wings/1022867.jpg\n"
          ]
        }
      ]
    },
    {
      "cell_type": "code",
      "source": [
        "# Visualize the random image\n",
        "img = mpimg.imread(random_image_path)\n",
        "print(img)\n",
        "plt.imshow(img)\n",
        "plt.title(f'Original random image from class : {target_class}')\n",
        "#plt.axis(emit=False)"
      ],
      "metadata": {
        "id": "8qWKrvOvLqbF",
        "outputId": "2efe6143-86cd-4a3a-a02c-e5824ad5dce4",
        "colab": {
          "base_uri": "https://localhost:8080/",
          "height": 0
        }
      },
      "execution_count": 26,
      "outputs": [
        {
          "output_type": "stream",
          "name": "stdout",
          "text": [
            "[[[ 0  0  0]\n",
            "  [ 0  0  0]\n",
            "  [ 0  0  0]\n",
            "  ...\n",
            "  [ 4  0  0]\n",
            "  [ 2  1  0]\n",
            "  [ 2  1  0]]\n",
            "\n",
            " [[ 0  0  0]\n",
            "  [ 0  0  0]\n",
            "  [ 0  0  0]\n",
            "  ...\n",
            "  [ 4  0  0]\n",
            "  [ 2  1  0]\n",
            "  [ 2  1  0]]\n",
            "\n",
            " [[ 0  0  0]\n",
            "  [ 0  0  0]\n",
            "  [ 0  0  0]\n",
            "  ...\n",
            "  [ 4  0  0]\n",
            "  [ 2  1  0]\n",
            "  [ 2  1  0]]\n",
            "\n",
            " ...\n",
            "\n",
            " [[ 0  0  0]\n",
            "  [ 0  0  0]\n",
            "  [ 0  0  0]\n",
            "  ...\n",
            "  [19 10  5]\n",
            "  [12  9  0]\n",
            "  [13 10  1]]\n",
            "\n",
            " [[ 9  9  9]\n",
            "  [ 5  5  5]\n",
            "  [ 1  1  1]\n",
            "  ...\n",
            "  [19 10  5]\n",
            "  [ 9  9  0]\n",
            "  [ 9  9  0]]\n",
            "\n",
            " [[21 21 21]\n",
            "  [15 15 15]\n",
            "  [ 7  7  7]\n",
            "  ...\n",
            "  [18  9  4]\n",
            "  [13 15  4]\n",
            "  [11 13  2]]]\n"
          ]
        },
        {
          "output_type": "execute_result",
          "data": {
            "text/plain": [
              "Text(0.5, 1.0, 'Original random image from class : chicken_wings')"
            ]
          },
          "metadata": {},
          "execution_count": 26
        },
        {
          "output_type": "display_data",
          "data": {
            "image/png": "[encoded data removed]",
            "text/plain": [
              "<Figure size 432x288 with 1 Axes>"
            ]
          },
          "metadata": {
            "needs_background": "light"
          }
        }
      ]
    },
    {
      "cell_type": "code",
      "source": [
        "# Now let's plot our augmented image\n",
        "augmented_image = data_augmentation(tf.expand_dims(img, axis=0))\n",
        "plt.figure()\n",
        "plt.imshow(tf.squeeze(augmented_image)/255.) #  \n",
        "plt.title(f\"Augmented random image from class: {target_class}\")\n",
        "#plt.axis(False)"
      ],
      "metadata": {
        "id": "Gas_vdlzMLPG",
        "outputId": "dc3509e4-7058-4db5-b208-1b9389e78a8e",
        "colab": {
          "base_uri": "https://localhost:8080/",
          "height": 0
        }
      },
      "execution_count": 27,
      "outputs": [
        {
          "output_type": "execute_result",
          "data": {
            "text/plain": [
              "Text(0.5, 1.0, 'Augmented random image from class: chicken_wings')"
            ]
          },
          "metadata": {},
          "execution_count": 27
        },
        {
          "output_type": "display_data",
          "data": {
            "image/png": "[encoded data removed]",
            "text/plain": [
              "<Figure size 432x288 with 1 Axes>"
            ]
          },
          "metadata": {
            "needs_background": "light"
          }
        }
      ]
    },
    {
      "cell_type": "markdown",
      "source": [
        "## Model 1 : Feature extraction transfer learning on 1% of the data with data augmentation (only 7 images per class for training)"
      ],
      "metadata": {
        "id": "RDy9A50zNtcn"
      }
    },
    {
      "cell_type": "code",
      "source": [
        "#Setup input shape and base model, freezing the base model layers\n",
        "input_shape = (224,224,3)\n",
        "\n",
        "# Create the base model\n",
        "base_model = tf.keras.applications.EfficientNetB0(include_top=False)\n",
        "base_model.trainable = False # Keeping the transfer learning base model intact\n",
        "\n",
        "# Create the input layer\n",
        "inputs = layers.Input(shape=input_shape, name=\"input_layer\")\n",
        "\n",
        "# Add in the data augmentation Sequential model as layer\n",
        "x = data_augmentation(inputs)\n",
        "\n",
        "# Give base model the inputs (after augmentation) and don't train it\n",
        "x = base_model(x, training=False)\n",
        "\n",
        "# Pool output features of the base model\n",
        "x = layers.GlobalAveragePooling2D(name=\"global_average_pooling_layer\")(x) # passing the input to the model api class\n",
        "\n",
        "# Puta  dense layer on as the output \n",
        "outputs = layers.Dense(10, activation=\"softmax\", name=\"output_layer\")(x)\n",
        "\n",
        "# Make a model using the inputs and outputs\n",
        "model_1 = keras.Model(inputs,outputs)\n",
        "\n",
        "# Compile the model\n",
        "model_1.compile(loss=\"categorical_crossentropy\", \n",
        "                optimizer=tf.keras.optimizers.Adam(),\n",
        "                metrics=[\"accuracy\"])\n",
        "\n",
        "# Fit the model\n",
        "history_1_percent = model_1.fit(train_data_1_percent,\n",
        "                                epochs=5,\n",
        "                                steps_per_epoch=len(train_data_1_percent),\n",
        "                                validation_data=test_data,\n",
        "                                validation_steps=int(0.25 * len(test_data)),\n",
        "                                # Track model training logs\n",
        "                                callbacks=[create_tensorboard_callback(dir_name=\"transfer_learninig\",\n",
        "                                                                       experiment_name=\"1_percent_data_aug\")]) # from helper functions                                                                       \n",
        "                                                                       "
      ],
      "metadata": {
        "colab": {
          "base_uri": "https://localhost:8080/"
        },
        "id": "1RznPvmzpnlJ",
        "outputId": "29580b45-0842-4b45-ae2b-eec31726f56e"
      },
      "execution_count": 28,
      "outputs": [
        {
          "output_type": "stream",
          "name": "stdout",
          "text": [
            "Saving TensorBoard log files to: transfer_learninig/1_percent_data_aug/20220224-043409\n",
            "Epoch 1/5\n",
            "3/3 [==============================] - 18s 4s/step - loss: 2.4248 - accuracy: 0.0857 - val_loss: 2.2155 - val_accuracy: 0.1760\n",
            "Epoch 2/5\n",
            "3/3 [==============================] - 7s 3s/step - loss: 2.1915 - accuracy: 0.2429 - val_loss: 2.1085 - val_accuracy: 0.2516\n",
            "Epoch 3/5\n",
            "3/3 [==============================] - 7s 3s/step - loss: 1.9228 - accuracy: 0.5143 - val_loss: 2.0103 - val_accuracy: 0.3092\n",
            "Epoch 4/5\n",
            "3/3 [==============================] - 5s 2s/step - loss: 1.7858 - accuracy: 0.5571 - val_loss: 1.9144 - val_accuracy: 0.3865\n",
            "Epoch 5/5\n",
            "3/3 [==============================] - 7s 3s/step - loss: 1.6997 - accuracy: 0.5857 - val_loss: 1.8230 - val_accuracy: 0.4474\n"
          ]
        }
      ]
    },
    {
      "cell_type": "code",
      "source": [
        "# Check out the model summary\n",
        "model_1.summary()"
      ],
      "metadata": {
        "colab": {
          "base_uri": "https://localhost:8080/"
        },
        "id": "iU3MgNGIqBbj",
        "outputId": "e3d0e250-80ec-48c3-f765-c43d469d94ca"
      },
      "execution_count": 29,
      "outputs": [
        {
          "output_type": "stream",
          "name": "stdout",
          "text": [
            "Model: \"model_1\"\n",
            "_________________________________________________________________\n",
            " Layer (type)                Output Shape              Param #   \n",
            "=================================================================\n",
            " input_layer (InputLayer)    [(None, 224, 224, 3)]     0         \n",
            "                                                                 \n",
            " data_augmentation (Sequenti  (None, None, None, 3)    0         \n",
            " al)                                                             \n",
            "                                                                 \n",
            " efficientnetb0 (Functional)  (None, None, None, 1280)  4049571  \n",
            "                                                                 \n",
            " global_average_pooling_laye  (None, 1280)             0         \n",
            " r (GlobalAveragePooling2D)                                      \n",
            "                                                                 \n",
            " output_layer (Dense)        (None, 10)                12810     \n",
            "                                                                 \n",
            "=================================================================\n",
            "Total params: 4,062,381\n",
            "Trainable params: 12,810\n",
            "Non-trainable params: 4,049,571\n",
            "_________________________________________________________________\n"
          ]
        }
      ]
    },
    {
      "cell_type": "code",
      "source": [
        "# Evaluate the full test dataset\n",
        "results_1_percent_data_aug = model_1.evaluate(test_data)\n",
        "results_1_percent_data_aug"
      ],
      "metadata": {
        "colab": {
          "base_uri": "https://localhost:8080/"
        },
        "id": "OgNoP7PYw4r2",
        "outputId": "b0269bfe-2b0f-4920-fbbc-a243a9e3dc1b"
      },
      "execution_count": 30,
      "outputs": [
        {
          "output_type": "stream",
          "name": "stdout",
          "text": [
            "79/79 [==============================] - 11s 134ms/step - loss: 1.8348 - accuracy: 0.4404\n"
          ]
        },
        {
          "output_type": "execute_result",
          "data": {
            "text/plain": [
              "[1.8347822427749634, 0.44040000438690186]"
            ]
          },
          "metadata": {},
          "execution_count": 30
        }
      ]
    },
    {
      "cell_type": "code",
      "source": [
        "# How do the model with 1% of the training data and data augmentation loss curves look?\n",
        "plot_loss_curves(history_1_percent)"
      ],
      "metadata": {
        "id": "z5Q8vZGFxvDj",
        "outputId": "69f458da-8202-4f11-ea16-04807208e177",
        "colab": {
          "base_uri": "https://localhost:8080/",
          "height": 573
        }
      },
      "execution_count": 31,
      "outputs": [
        {
          "output_type": "display_data",
          "data": {
            "image/png": "[encoded data removed]",
            "text/plain": [
              "<Figure size 432x288 with 1 Axes>"
            ]
          },
          "metadata": {
            "needs_background": "light"
          }
        },
        {
          "output_type": "display_data",
          "data": {
            "image/png": "[encoded data removed]",
            "text/plain": [
              "<Figure size 432x288 with 1 Axes>"
            ]
          },
          "metadata": {
            "needs_background": "light"
          }
        }
      ]
    },
    {
      "cell_type": "markdown",
      "source": [
        "\n",
        "## Model 2: Feature extraction transfer learning model with 10% of data and data augmentation"
      ],
      "metadata": {
        "id": "yhAXG8LNyKNs"
      }
    },
    {
      "cell_type": "code",
      "source": [
        "#!wget https://storage.googleapis.com/ztm_tf_course/food_vision/101_food_classes_10_percent.zip\n",
        "#unzip_data(10_food_classes_10_percent)\n",
        "\n",
        "train_dir_10_percent = \"10_food_classes_10_percent/train\"\n",
        "test_dir = \"10_food_classes_10_percent/test\""
      ],
      "metadata": {
        "id": "wA9P0DI8hZlJ"
      },
      "execution_count": 32,
      "outputs": []
    },
    {
      "cell_type": "code",
      "source": [
        "# Set data inputs\n",
        "import tensorflow as tf\n",
        "IMG_SIZE = (224,224)\n",
        "train_data_10_percent = tf.keras.preprocessing.image_dataset_from_directory(train_dir_10_percent,\n",
        "                                                                            label_mode=\"categorical\",\n",
        "                                                                            image_size=IMG_SIZE)\n",
        "test_data = tf.keras.preprocessing.image_dataset_from_directory(test_dir,\n",
        "                                                                label_mode=\"categorical\",\n",
        "                                                                image_size=IMG_SIZE)"
      ],
      "metadata": {
        "id": "lPTtm1FQiKvl",
        "outputId": "aad5301e-070f-4dc5-eecc-b9d54952cb0c",
        "colab": {
          "base_uri": "https://localhost:8080/"
        }
      },
      "execution_count": 33,
      "outputs": [
        {
          "output_type": "stream",
          "name": "stdout",
          "text": [
            "Found 750 files belonging to 10 classes.\n",
            "Found 2500 files belonging to 10 classes.\n"
          ]
        }
      ]
    },
    {
      "cell_type": "code",
      "source": [
        "# Create Model 2 with data augmentation built in\n",
        "from tensorflow.keras import layers\n",
        "from tensorflow.keras.layers.experimental import preprocessing\n",
        "from tensorflow.keras.models import Sequential\n",
        "\n",
        "# Build Data Augmentation Layer\n",
        "data_augmentation = Sequential([\n",
        " preprocessing.RandomFlip(\"horizontal\"),\n",
        " preprocessing.RandomHeight(0.2),\n",
        " preprocessing.RandomWidth(0.2),\n",
        " preprocessing.RandomZoom(0.2),\n",
        " preprocessing.RandomRotation(0.2),\n",
        " #preprocessing.Rescaling(1./255) # if you're using a model such as ResNet50V2, you'll need to rescale your data, efficientnet has rescaling built-in                                \n",
        "], name=\"data_augmentation\")\n",
        "\n",
        "# Setup the input shape of our model\n",
        "input_shape = (224,224,3)\n",
        "\n",
        "# Create a frozen base model (also called the backbone)\n",
        "base_model = tf.keras.applications.EfficientNetB0(include_top=False)\n",
        "base_model.trainable = False\n",
        "\n",
        "# Create the inputs and outputs (including the layers in between)\n",
        "inputs = layers.Input(shape=input_shape, name=\"input_layer\")\n",
        "x = data_augmentation(inputs) # augment our training images\n",
        "\n",
        "# pass augmented images to base model but keep it in inference mode, \n",
        "# this also ensures batchnorm layers don't get updates\n",
        "x= base_model(x, training=False) # Result is a multidimensional tensor\n",
        "\n",
        "# compress the multidimensional tensor to a feature vector\n",
        "x = layers.GlobalAveragePooling2D(name=\"global_average_pooling_2d\")(x)\n",
        "outputs = layers.Dense(10, activation=\"softmax\", name=\"output_layer\")(x)\n",
        "model_2 = tf.keras.Model(inputs,outputs)\n",
        "\n",
        "# Compile the model\n",
        "model_2.compile(loss=\"categorical_crossentropy\",\n",
        "                optimizer=tf.keras.optimizers.Adam(),\n",
        "                metrics=[\"accuracy\"])"
      ],
      "metadata": {
        "id": "DEYPwZ5wjn-p"
      },
      "execution_count": 34,
      "outputs": []
    },
    {
      "cell_type": "markdown",
      "source": [
        "### Create a model checkpoint callback\n",
        "\n",
        "* Callbacks are which can add helpful functionality to your models during training,evaluation or inference\n",
        "\n",
        "* ModelCheckpoint callback intermediately saves our model ( The full model or just the weights) during training. This is useful so we can come and start where we left off."
      ],
      "metadata": {
        "id": "SxFFbeTlj05R"
      }
    },
    {
      "cell_type": "code",
      "source": [
        "# Set checkpoint path\n",
        "checkpoint_path = \"ten_percent_model_checkpoints_weights/checkpoint.ckpt\"\n",
        "\n",
        "# Create a model checkpoint callback that saves the model's weights only\n",
        "checkpoint_callback = tf.keras.callbacks.ModelCheckpoint(filepath=checkpoint_path,\n",
        "                                                         save_weights_only=True,\n",
        "                                                         save_best_only=False,\n",
        "                                                         save_freq=\"epoch\", # save every epoch\n",
        "                                                         verbose=1 # do you want to see the output or not\n",
        "                                                         )"
      ],
      "metadata": {
        "id": "IVHYwxIJzA32"
      },
      "execution_count": 37,
      "outputs": []
    },
    {
      "cell_type": "markdown",
      "source": [
        "### Fit the model 2 passing in the model checkpoint callback"
      ],
      "metadata": {
        "id": "Ruxmj2jgB5wN"
      }
    },
    {
      "cell_type": "code",
      "source": [
        "# Fit the model saving checkpoint every epoch\n",
        "initial_epochs = 5\n",
        "history_10_percent_data_aug = model_2.fit(train_data_10_percent,\n",
        "                                          epochs=initial_epochs,\n",
        "                                          steps_per_epoch=len(train_data_10_percent),\n",
        "                                          validation_data=test_data,\n",
        "                                          validation_steps=int(0.25 * len(test_data)),\n",
        "                                          callbacks=[create_tensorboard_callback(dir_name=\"transfer_learning\", \n",
        "                                                                                 experiment_name=\"10_percent_data_aug\"),\n",
        "                                                                                  checkpoint_callback])"
      ],
      "metadata": {
        "id": "vmTQZpRPCagh",
        "outputId": "1566d713-1366-49a8-d8a9-ca8b55dc2fe3",
        "colab": {
          "base_uri": "https://localhost:8080/"
        }
      },
      "execution_count": 39,
      "outputs": [
        {
          "output_type": "stream",
          "name": "stdout",
          "text": [
            "Saving TensorBoard log files to: transfer_learning/10_percent_data_aug/20220224-045050\n",
            "Epoch 1/5\n",
            "24/24 [==============================] - ETA: 0s - loss: 2.0216 - accuracy: 0.3213\n",
            "Epoch 1: saving model to ten_percent_model_checkpoints_weights/checkpoint.ckpt\n",
            "24/24 [==============================] - 26s 752ms/step - loss: 2.0216 - accuracy: 0.3213 - val_loss: 1.5296 - val_accuracy: 0.6332\n",
            "Epoch 2/5\n",
            "24/24 [==============================] - ETA: 0s - loss: 1.3530 - accuracy: 0.6893\n",
            "Epoch 2: saving model to ten_percent_model_checkpoints_weights/checkpoint.ckpt\n",
            "24/24 [==============================] - 16s 629ms/step - loss: 1.3530 - accuracy: 0.6893 - val_loss: 1.0765 - val_accuracy: 0.7336\n",
            "Epoch 3/5\n",
            "24/24 [==============================] - ETA: 0s - loss: 1.0463 - accuracy: 0.7627\n",
            "Epoch 3: saving model to ten_percent_model_checkpoints_weights/checkpoint.ckpt\n",
            "24/24 [==============================] - 14s 571ms/step - loss: 1.0463 - accuracy: 0.7627 - val_loss: 0.8680 - val_accuracy: 0.7681\n",
            "Epoch 4/5\n",
            "24/24 [==============================] - ETA: 0s - loss: 0.8985 - accuracy: 0.7667\n",
            "Epoch 4: saving model to ten_percent_model_checkpoints_weights/checkpoint.ckpt\n",
            "24/24 [==============================] - 14s 585ms/step - loss: 0.8985 - accuracy: 0.7667 - val_loss: 0.7574 - val_accuracy: 0.7961\n",
            "Epoch 5/5\n",
            "24/24 [==============================] - ETA: 0s - loss: 0.7929 - accuracy: 0.8067\n",
            "Epoch 5: saving model to ten_percent_model_checkpoints_weights/checkpoint.ckpt\n",
            "24/24 [==============================] - 12s 501ms/step - loss: 0.7929 - accuracy: 0.8067 - val_loss: 0.7204 - val_accuracy: 0.7697\n"
          ]
        }
      ]
    },
    {
      "cell_type": "code",
      "source": [
        "# What were model_0 results?\n",
        "model_0.evaluate(test_data)"
      ],
      "metadata": {
        "id": "R_-y6Pm_ENGv",
        "outputId": "77e929c9-67d9-494b-8832-63848e1ce91a",
        "colab": {
          "base_uri": "https://localhost:8080/"
        }
      },
      "execution_count": 40,
      "outputs": [
        {
          "output_type": "stream",
          "name": "stdout",
          "text": [
            "79/79 [==============================] - 13s 143ms/step - loss: 0.6075 - accuracy: 0.8400\n"
          ]
        },
        {
          "output_type": "execute_result",
          "data": {
            "text/plain": [
              "[0.6074551939964294, 0.8399999737739563]"
            ]
          },
          "metadata": {},
          "execution_count": 40
        }
      ]
    },
    {
      "cell_type": "code",
      "source": [
        "# What were model_2 test_results?\n",
        "model_2.evaluate(test_data)"
      ],
      "metadata": {
        "id": "neMMxoOPE5-G",
        "outputId": "5d2fdf33-edfe-4be7-953c-e2d7b1b36a09",
        "colab": {
          "base_uri": "https://localhost:8080/"
        }
      },
      "execution_count": 41,
      "outputs": [
        {
          "output_type": "stream",
          "name": "stdout",
          "text": [
            "79/79 [==============================] - 12s 139ms/step - loss: 0.6901 - accuracy: 0.8112\n"
          ]
        },
        {
          "output_type": "execute_result",
          "data": {
            "text/plain": [
              "[0.6900917887687683, 0.8112000226974487]"
            ]
          },
          "metadata": {},
          "execution_count": 41
        }
      ]
    },
    {
      "cell_type": "code",
      "source": [
        "# Plot model loss curves\n",
        "plot_loss_curves(history_10_percent_data_aug)"
      ],
      "metadata": {
        "id": "Unog3koCFGJD",
        "outputId": "91a55189-03ee-4ddb-cfe6-7dfa63b4e4e8",
        "colab": {
          "base_uri": "https://localhost:8080/",
          "height": 573
        }
      },
      "execution_count": 43,
      "outputs": [
        {
          "output_type": "display_data",
          "data": {
            "image/png": "[encoded data removed]",
            "text/plain": [
              "<Figure size 432x288 with 1 Axes>"
            ]
          },
          "metadata": {
            "needs_background": "light"
          }
        },
        {
          "output_type": "display_data",
          "data": {
            "image/png": "[encoded data removed]",
            "text/plain": [
              "<Figure size 432x288 with 1 Axes>"
            ]
          },
          "metadata": {
            "needs_background": "light"
          }
        }
      ]
    },
    {
      "cell_type": "code",
      "source": [
        ""
      ],
      "metadata": {
        "id": "aRsWF-RtFe3P"
      },
      "execution_count": null,
      "outputs": []
    }
  ]
}