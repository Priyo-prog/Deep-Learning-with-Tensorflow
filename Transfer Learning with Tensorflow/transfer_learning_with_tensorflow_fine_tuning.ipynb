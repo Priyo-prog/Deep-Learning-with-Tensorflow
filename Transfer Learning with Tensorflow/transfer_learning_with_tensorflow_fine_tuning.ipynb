{
  "nbformat": 4,
  "nbformat_minor": 0,
  "metadata": {
    "colab": {
      "name": "transfer_learning_with_tensorflow_fine_tuning.ipynb",
      "provenance": [],
      "toc_visible": true,
      "authorship_tag": "ABX9TyNarlUB1IxnOTaH8zODCe87",
      "include_colab_link": true
    },
    "kernelspec": {
      "name": "python3",
      "display_name": "Python 3"
    },
    "language_info": {
      "name": "python"
    },
    "accelerator": "GPU"
  },
  "cells": [
    {
      "cell_type": "markdown",
      "metadata": {
        "id": "view-in-github",
        "colab_type": "text"
      },
      "source": [
        "<a href=\"https://colab.research.google.com/github/Priyo-prog/Deep-Learning-with-Tensorflow/blob/main/Transfer%20Learning%20with%20Tensorflow/transfer_learning_with_tensorflow_fine_tuning.ipynb\" target=\"_parent\"><img src=\"https://colab.research.google.com/assets/colab-badge.svg\" alt=\"Open In Colab\"/></a>"
      ]
    },
    {
      "cell_type": "markdown",
      "source": [
        "# **Transfer Learning with TensorFlow part 2: Fine Tuning**"
      ],
      "metadata": {
        "id": "BGZczUMg-gwo"
      }
    },
    {
      "cell_type": "code",
      "source": [
        "# Check the GPU we are using \n",
        "!nvidia-smi"
      ],
      "metadata": {
        "id": "GZl1cM8r_MjG",
        "outputId": "4096c0a0-d519-4145-ea68-89b77df657b4",
        "colab": {
          "base_uri": "https://localhost:8080/"
        }
      },
      "execution_count": 2,
      "outputs": [
        {
          "output_type": "stream",
          "name": "stdout",
          "text": [
            "Mon Jan 17 06:37:46 2022       \n",
            "+-----------------------------------------------------------------------------+\n",
            "| NVIDIA-SMI 495.46       Driver Version: 460.32.03    CUDA Version: 11.2     |\n",
            "|-------------------------------+----------------------+----------------------+\n",
            "| GPU  Name        Persistence-M| Bus-Id        Disp.A | Volatile Uncorr. ECC |\n",
            "| Fan  Temp  Perf  Pwr:Usage/Cap|         Memory-Usage | GPU-Util  Compute M. |\n",
            "|                               |                      |               MIG M. |\n",
            "|===============================+======================+======================|\n",
            "|   0  Tesla T4            Off  | 00000000:00:04.0 Off |                    0 |\n",
            "| N/A   37C    P8     9W /  70W |      0MiB / 15109MiB |      0%      Default |\n",
            "|                               |                      |                  N/A |\n",
            "+-------------------------------+----------------------+----------------------+\n",
            "                                                                               \n",
            "+-----------------------------------------------------------------------------+\n",
            "| Processes:                                                                  |\n",
            "|  GPU   GI   CI        PID   Type   Process name                  GPU Memory |\n",
            "|        ID   ID                                                   Usage      |\n",
            "|=============================================================================|\n",
            "|  No running processes found                                                 |\n",
            "+-----------------------------------------------------------------------------+\n"
          ]
        }
      ]
    },
    {
      "cell_type": "markdown",
      "source": [
        "## Getting the helper function"
      ],
      "metadata": {
        "id": "OKnzfm5lBXFo"
      }
    },
    {
      "cell_type": "code",
      "source": [
        "!wget https://raw.githubusercontent.com/mrdbourke/tensorflow-deep-learning/main/extras/helper_functions.py"
      ],
      "metadata": {
        "id": "9A2P10YE_qKR",
        "outputId": "76b85e57-19b4-408c-ea8c-180c4b14349a",
        "colab": {
          "base_uri": "https://localhost:8080/"
        }
      },
      "execution_count": 3,
      "outputs": [
        {
          "output_type": "stream",
          "name": "stdout",
          "text": [
            "--2022-01-17 06:37:47--  https://raw.githubusercontent.com/mrdbourke/tensorflow-deep-learning/main/extras/helper_functions.py\n",
            "Resolving raw.githubusercontent.com (raw.githubusercontent.com)... 185.199.108.133, 185.199.109.133, 185.199.110.133, ...\n",
            "Connecting to raw.githubusercontent.com (raw.githubusercontent.com)|185.199.108.133|:443... connected.\n",
            "HTTP request sent, awaiting response... 200 OK\n",
            "Length: 10246 (10K) [text/plain]\n",
            "Saving to: ‘helper_functions.py’\n",
            "\n",
            "\rhelper_functions.py   0%[                    ]       0  --.-KB/s               \rhelper_functions.py 100%[===================>]  10.01K  --.-KB/s    in 0s      \n",
            "\n",
            "2022-01-17 06:37:47 (111 MB/s) - ‘helper_functions.py’ saved [10246/10246]\n",
            "\n"
          ]
        }
      ]
    },
    {
      "cell_type": "code",
      "source": [
        "# Import the helper functions we are going to use in this notebook\n",
        "from helper_functions import create_tensorboard_callback, plot_loss_curves, unzip_data, walk_through_dir"
      ],
      "metadata": {
        "id": "l3yw31xGBLrL"
      },
      "execution_count": 4,
      "outputs": []
    },
    {
      "cell_type": "markdown",
      "source": [
        "## Get the data\n",
        "\n",
        "This time we are going to see how we can use the pretrained models within 'tf.keras.applications' and apply them to our problem"
      ],
      "metadata": {
        "id": "dz2pGRf_wVIL"
      }
    },
    {
      "cell_type": "code",
      "source": [
        "# Get the 10% of training data of 10 classes of Food101\n",
        "!wget https://storage.googleapis.com/ztm_tf_course/food_vision/10_food_classes_10_percent.zip\n",
        "\n",
        "unzip_data(\"10_food_classes_10_percent.zip\")"
      ],
      "metadata": {
        "colab": {
          "base_uri": "https://localhost:8080/"
        },
        "id": "rX5STlEFw9n4",
        "outputId": "17c08555-e4fd-4ecd-a2d0-6658685ec9d2"
      },
      "execution_count": 6,
      "outputs": [
        {
          "output_type": "stream",
          "name": "stdout",
          "text": [
            "--2022-01-17 06:42:41--  https://storage.googleapis.com/ztm_tf_course/food_vision/10_food_classes_10_percent.zip\n",
            "Resolving storage.googleapis.com (storage.googleapis.com)... 172.253.122.128, 142.250.188.48, 142.251.111.128, ...\n",
            "Connecting to storage.googleapis.com (storage.googleapis.com)|172.253.122.128|:443... connected.\n",
            "HTTP request sent, awaiting response... 200 OK\n",
            "Length: 168546183 (161M) [application/zip]\n",
            "Saving to: ‘10_food_classes_10_percent.zip.1’\n",
            "\n",
            "10_food_classes_10_ 100%[===================>] 160.74M   205MB/s    in 0.8s    \n",
            "\n",
            "2022-01-17 06:42:42 (205 MB/s) - ‘10_food_classes_10_percent.zip.1’ saved [168546183/168546183]\n",
            "\n"
          ]
        }
      ]
    },
    {
      "cell_type": "code",
      "source": [
        "# Check out how many images and subdirectories are in our dataset\n",
        "walk_through_dir(\"10_food_classes_10_percent\")"
      ],
      "metadata": {
        "colab": {
          "base_uri": "https://localhost:8080/"
        },
        "id": "JjCYVSl-xMmv",
        "outputId": "f77b3cc8-949b-41ab-f508-0fe2c6c8c504"
      },
      "execution_count": 7,
      "outputs": [
        {
          "output_type": "stream",
          "name": "stdout",
          "text": [
            "There are 2 directories and 0 images in '10_food_classes_10_percent'.\n",
            "There are 10 directories and 0 images in '10_food_classes_10_percent/test'.\n",
            "There are 0 directories and 250 images in '10_food_classes_10_percent/test/grilled_salmon'.\n",
            "There are 0 directories and 250 images in '10_food_classes_10_percent/test/chicken_wings'.\n",
            "There are 0 directories and 250 images in '10_food_classes_10_percent/test/sushi'.\n",
            "There are 0 directories and 250 images in '10_food_classes_10_percent/test/ice_cream'.\n",
            "There are 0 directories and 250 images in '10_food_classes_10_percent/test/hamburger'.\n",
            "There are 0 directories and 250 images in '10_food_classes_10_percent/test/steak'.\n",
            "There are 0 directories and 250 images in '10_food_classes_10_percent/test/pizza'.\n",
            "There are 0 directories and 250 images in '10_food_classes_10_percent/test/ramen'.\n",
            "There are 0 directories and 250 images in '10_food_classes_10_percent/test/fried_rice'.\n",
            "There are 0 directories and 250 images in '10_food_classes_10_percent/test/chicken_curry'.\n",
            "There are 10 directories and 0 images in '10_food_classes_10_percent/train'.\n",
            "There are 0 directories and 75 images in '10_food_classes_10_percent/train/grilled_salmon'.\n",
            "There are 0 directories and 75 images in '10_food_classes_10_percent/train/chicken_wings'.\n",
            "There are 0 directories and 75 images in '10_food_classes_10_percent/train/sushi'.\n",
            "There are 0 directories and 75 images in '10_food_classes_10_percent/train/ice_cream'.\n",
            "There are 0 directories and 75 images in '10_food_classes_10_percent/train/hamburger'.\n",
            "There are 0 directories and 75 images in '10_food_classes_10_percent/train/steak'.\n",
            "There are 0 directories and 75 images in '10_food_classes_10_percent/train/pizza'.\n",
            "There are 0 directories and 75 images in '10_food_classes_10_percent/train/ramen'.\n",
            "There are 0 directories and 75 images in '10_food_classes_10_percent/train/fried_rice'.\n",
            "There are 0 directories and 75 images in '10_food_classes_10_percent/train/chicken_curry'.\n"
          ]
        }
      ]
    },
    {
      "cell_type": "code",
      "source": [
        "# Create training and test directories paths\n",
        "train_dir = \"10_food_classes_10_percent/train\"\n",
        "test_data = \"10_food_classes_10_percent/test\""
      ],
      "metadata": {
        "id": "F-B60cX6xzaG"
      },
      "execution_count": 8,
      "outputs": []
    },
    {
      "cell_type": "code",
      "source": [
        "import tensorflow as tf\n",
        "\n",
        "IMG_SIZE = (224,224)\n",
        "BATCH_SIZE = 32\n",
        "train_data_10_percent = tf.keras.preprocessing.image_dataset_from_directory(directory=train_dir,\n",
        "                                                                            image_size=IMG_SIZE,\n",
        "                                                                            label_mode=\"categorical\",\n",
        "                                                                            batch_size=BATCH_SIZE)\n",
        "\n",
        "test_data = tf.keras.preprocessing.image_dataset_from_directory(directory=test_data,\n",
        "                                                                image_size=IMG_SIZE,\n",
        "                                                                label_mode=\"categorical\",\n",
        "                                                                batch_size=BATCH_SIZE)"
      ],
      "metadata": {
        "colab": {
          "base_uri": "https://localhost:8080/"
        },
        "id": "vDmUbdU_yXvF",
        "outputId": "e9e4007a-069d-48d9-9c00-c4be320a4aeb"
      },
      "execution_count": 9,
      "outputs": [
        {
          "output_type": "stream",
          "name": "stdout",
          "text": [
            "Found 750 files belonging to 10 classes.\n",
            "Found 2500 files belonging to 10 classes.\n"
          ]
        }
      ]
    },
    {
      "cell_type": "code",
      "source": [
        "# Check out the class names of our dataset\n",
        "train_data_10_percent.class_names"
      ],
      "metadata": {
        "colab": {
          "base_uri": "https://localhost:8080/"
        },
        "id": "uymfSVQu0Qhc",
        "outputId": "07acbac8-b6e3-471c-b584-5048fb81ca77"
      },
      "execution_count": 10,
      "outputs": [
        {
          "output_type": "execute_result",
          "data": {
            "text/plain": [
              "['chicken_curry',\n",
              " 'chicken_wings',\n",
              " 'fried_rice',\n",
              " 'grilled_salmon',\n",
              " 'hamburger',\n",
              " 'ice_cream',\n",
              " 'pizza',\n",
              " 'ramen',\n",
              " 'steak',\n",
              " 'sushi']"
            ]
          },
          "metadata": {},
          "execution_count": 10
        }
      ]
    },
    {
      "cell_type": "code",
      "source": [
        "# See an example of batch of data\n",
        "for images, labels in train_data_10_percent.take(1):\n",
        "  print(images,labels)"
      ],
      "metadata": {
        "colab": {
          "base_uri": "https://localhost:8080/"
        },
        "id": "3p3Do-Z11CL7",
        "outputId": "69ca9f1c-046b-40b9-908d-023566708c97"
      },
      "execution_count": 12,
      "outputs": [
        {
          "output_type": "stream",
          "name": "stdout",
          "text": [
            "tf.Tensor(\n",
            "[[[[1.96612244e+02 1.90438782e+02 1.71025513e+02]\n",
            "   [1.93663269e+02 1.90520416e+02 1.72714294e+02]\n",
            "   [1.87357147e+02 1.88418365e+02 1.74147949e+02]\n",
            "   ...\n",
            "   [1.01642921e+02 6.29949265e+01 4.57041397e+01]\n",
            "   [1.02979591e+02 6.39336624e+01 4.90714417e+01]\n",
            "   [1.05040840e+02 6.43265533e+01 5.36122704e+01]]\n",
            "\n",
            "  [[1.93428574e+02 1.89290817e+02 1.72479584e+02]\n",
            "   [1.90494904e+02 1.88341827e+02 1.73071426e+02]\n",
            "   [1.91642868e+02 1.92127548e+02 1.80198975e+02]\n",
            "   ...\n",
            "   [9.97857590e+01 6.57857361e+01 5.29031448e+01]\n",
            "   [9.98622055e+01 6.27907791e+01 5.45764923e+01]\n",
            "   [9.51887741e+01 5.81173439e+01 5.19030609e+01]]\n",
            "\n",
            "  [[1.94801025e+02 1.95096939e+02 1.79806122e+02]\n",
            "   [1.94040817e+02 1.95255096e+02 1.81142853e+02]\n",
            "   [1.92760208e+02 1.93433670e+02 1.81525497e+02]\n",
            "   ...\n",
            "   [9.16836319e+01 6.32346840e+01 5.73265572e+01]\n",
            "   [8.76581650e+01 5.85153084e+01 5.71581650e+01]\n",
            "   [9.13673935e+01 6.06531105e+01 6.20816841e+01]]\n",
            "\n",
            "  ...\n",
            "\n",
            "  [[1.73938782e+02 1.71153046e+02 1.61510254e+02]\n",
            "   [1.73714310e+02 1.73714310e+02 1.61714310e+02]\n",
            "   [1.71382629e+02 1.73811203e+02 1.60596924e+02]\n",
            "   ...\n",
            "   [1.74382614e+02 1.84382614e+02 1.76382614e+02]\n",
            "   [1.72341843e+02 1.82341843e+02 1.73229568e+02]\n",
            "   [1.74923508e+02 1.83352036e+02 1.72780563e+02]]\n",
            "\n",
            "  [[1.70785736e+02 1.67785736e+02 1.58785736e+02]\n",
            "   [1.73066360e+02 1.73066360e+02 1.63066360e+02]\n",
            "   [1.68413300e+02 1.70841873e+02 1.59199020e+02]\n",
            "   ...\n",
            "   [1.75000000e+02 1.85056137e+02 1.73887726e+02]\n",
            "   [1.75142883e+02 1.83142883e+02 1.70132675e+02]\n",
            "   [1.77545868e+02 1.85545868e+02 1.71739655e+02]]\n",
            "\n",
            "  [[1.74127533e+02 1.71127533e+02 1.64127533e+02]\n",
            "   [1.75428543e+02 1.75428543e+02 1.67428543e+02]\n",
            "   [1.73066360e+02 1.75280640e+02 1.64280640e+02]\n",
            "   ...\n",
            "   [1.75494949e+02 1.84137741e+02 1.70923477e+02]\n",
            "   [1.73714264e+02 1.81714264e+02 1.66714264e+02]\n",
            "   [1.73214111e+02 1.81800888e+02 1.65627335e+02]]]\n",
            "\n",
            "\n",
            " [[[2.42301025e+02 2.28301025e+02 2.15301025e+02]\n",
            "   [2.41877548e+02 2.28877548e+02 2.12877548e+02]\n",
            "   [2.39653061e+02 2.26653061e+02 2.09653061e+02]\n",
            "   ...\n",
            "   [2.43219406e+02 2.53219406e+02 2.43790878e+02]\n",
            "   [2.44000000e+02 2.54000000e+02 2.46000000e+02]\n",
            "   [2.44000000e+02 2.53000000e+02 2.48000000e+02]]\n",
            "\n",
            "  [[2.38357147e+02 2.24357147e+02 2.11357147e+02]\n",
            "   [2.37428574e+02 2.24428574e+02 2.08428574e+02]\n",
            "   [2.37071442e+02 2.24071442e+02 2.06642853e+02]\n",
            "   ...\n",
            "   [2.40372513e+02 2.50372513e+02 2.40943985e+02]\n",
            "   [2.44933670e+02 2.54933670e+02 2.46933670e+02]\n",
            "   [2.44000000e+02 2.53000000e+02 2.48000000e+02]]\n",
            "\n",
            "  [[2.33780609e+02 2.19994904e+02 2.06352036e+02]\n",
            "   [2.32183670e+02 2.19183670e+02 2.03183670e+02]\n",
            "   [2.32091843e+02 2.19091843e+02 2.01663269e+02]\n",
            "   ...\n",
            "   [2.42045959e+02 2.52045959e+02 2.42617432e+02]\n",
            "   [2.45071442e+02 2.55000000e+02 2.47071442e+02]\n",
            "   [2.45000000e+02 2.54000000e+02 2.49000000e+02]]\n",
            "\n",
            "  ...\n",
            "\n",
            "  [[1.76265244e+02 8.42652512e+01 7.69377804e+00]\n",
            "   [1.66219406e+02 7.42193985e+01 2.34683633e-01]\n",
            "   [1.66499985e+02 7.63316269e+01 1.45404339e+00]\n",
            "   ...\n",
            "   [9.79537888e+01 8.46170731e+01 7.84487228e+01]\n",
            "   [9.84132843e+01 8.56836777e+01 7.58724823e+01]\n",
            "   [9.96479721e+01 8.76479721e+01 7.36479721e+01]]\n",
            "\n",
            "  [[1.73025558e+02 8.21174088e+01 2.92859745e+00]\n",
            "   [1.71525467e+02 8.26581421e+01 2.65814066e+00]\n",
            "   [1.63000000e+02 7.65714569e+01 0.00000000e+00]\n",
            "   ...\n",
            "   [1.02459145e+02 8.74438324e+01 8.44897537e+01]\n",
            "   [1.02147804e+02 8.72192459e+01 7.99334793e+01]\n",
            "   [9.91022491e+01 8.51022491e+01 7.21940994e+01]]\n",
            "\n",
            "  [[1.74790787e+02 8.57907867e+01 1.79078877e+00]\n",
            "   [1.70923630e+02 8.47858887e+01 1.83180439e+00]\n",
            "   [1.66566422e+02 8.28369141e+01 1.77056015e+00]\n",
            "   ...\n",
            "   [1.04933922e+02 8.69339218e+01 8.59237442e+01]\n",
            "   [9.95666351e+01 8.46380768e+01 7.73523102e+01]\n",
            "   [9.71330032e+01 8.31330032e+01 7.14186478e+01]]]\n",
            "\n",
            "\n",
            " [[[1.64826523e+02 1.32826523e+02 1.19826530e+02]\n",
            "   [1.66392853e+02 1.34392853e+02 1.21392853e+02]\n",
            "   [1.62311218e+02 1.30311218e+02 1.17311226e+02]\n",
            "   ...\n",
            "   [1.65071487e+02 1.41071487e+02 1.30642960e+02]\n",
            "   [1.62785721e+02 1.38785721e+02 1.28785721e+02]\n",
            "   [1.66999924e+02 1.42999924e+02 1.32999924e+02]]\n",
            "\n",
            "  [[1.63872452e+02 1.29872452e+02 1.17872444e+02]\n",
            "   [1.61224487e+02 1.27224487e+02 1.15224487e+02]\n",
            "   [1.58270401e+02 1.24270409e+02 1.12270409e+02]\n",
            "   ...\n",
            "   [1.67214355e+02 1.43214355e+02 1.32785828e+02]\n",
            "   [1.64862259e+02 1.40862259e+02 1.30862259e+02]\n",
            "   [1.69142792e+02 1.45142792e+02 1.35142792e+02]]\n",
            "\n",
            "  [[1.65862244e+02 1.31862244e+02 1.19862244e+02]\n",
            "   [1.63663269e+02 1.29663269e+02 1.17663269e+02]\n",
            "   [1.64352036e+02 1.30352036e+02 1.18352043e+02]\n",
            "   ...\n",
            "   [1.64000061e+02 1.39357208e+02 1.29142960e+02]\n",
            "   [1.61515320e+02 1.36872467e+02 1.27086754e+02]\n",
            "   [1.65928497e+02 1.41285645e+02 1.31499924e+02]]\n",
            "\n",
            "  ...\n",
            "\n",
            "  [[1.74571411e+02 1.42571411e+02 1.29571411e+02]\n",
            "   [1.73428528e+02 1.41428528e+02 1.28428528e+02]\n",
            "   [1.73933594e+02 1.44428543e+02 1.30596893e+02]\n",
            "   ...\n",
            "   [2.14188858e+02 1.76617386e+02 1.39831650e+02]\n",
            "   [2.27387756e+02 1.92260254e+02 1.54673462e+02]\n",
            "   [2.33622467e+02 1.99775528e+02 1.62699005e+02]]\n",
            "\n",
            "  [[1.76831650e+02 1.44831650e+02 1.31831650e+02]\n",
            "   [1.72280655e+02 1.43280655e+02 1.29280655e+02]\n",
            "   [1.72199020e+02 1.43199020e+02 1.29199020e+02]\n",
            "   ...\n",
            "   [2.03658218e+02 1.61658218e+02 1.21627609e+02]\n",
            "   [2.17596863e+02 1.79729538e+02 1.40663208e+02]\n",
            "   [2.26755356e+02 1.91617584e+02 1.53663498e+02]]\n",
            "\n",
            "  [[1.72214111e+02 1.43214111e+02 1.29214111e+02]\n",
            "   [1.74188705e+02 1.45188705e+02 1.31188705e+02]\n",
            "   [1.75214249e+02 1.46214249e+02 1.32214249e+02]\n",
            "   ...\n",
            "   [2.02785919e+02 1.60571655e+02 1.18357391e+02]\n",
            "   [2.06688782e+02 1.67734695e+02 1.28734695e+02]\n",
            "   [2.15703812e+02 1.77703812e+02 1.40703812e+02]]]\n",
            "\n",
            "\n",
            " ...\n",
            "\n",
            "\n",
            " [[[0.00000000e+00 0.00000000e+00 2.00000000e+00]\n",
            "   [0.00000000e+00 9.28571701e-01 2.92857170e+00]\n",
            "   [0.00000000e+00 1.00000000e+00 5.00000000e+00]\n",
            "   ...\n",
            "   [0.00000000e+00 1.00000000e+00 5.21426392e+00]\n",
            "   [0.00000000e+00 1.00000000e+00 5.00000000e+00]\n",
            "   [0.00000000e+00 1.00000000e+00 5.00000000e+00]]\n",
            "\n",
            "  [[0.00000000e+00 0.00000000e+00 2.85714293e+00]\n",
            "   [0.00000000e+00 9.28571701e-01 3.78571463e+00]\n",
            "   [0.00000000e+00 1.00000000e+00 5.00000000e+00]\n",
            "   ...\n",
            "   [0.00000000e+00 1.00000000e+00 5.55100775e+00]\n",
            "   [0.00000000e+00 1.00000000e+00 5.00000000e+00]\n",
            "   [0.00000000e+00 1.00000000e+00 5.00000000e+00]]\n",
            "\n",
            "  [[0.00000000e+00 0.00000000e+00 4.00000000e+00]\n",
            "   [0.00000000e+00 9.28571701e-01 4.92857170e+00]\n",
            "   [0.00000000e+00 1.00000000e+00 5.00000000e+00]\n",
            "   ...\n",
            "   [0.00000000e+00 1.00000000e+00 6.00000000e+00]\n",
            "   [0.00000000e+00 1.00000000e+00 5.00000000e+00]\n",
            "   [0.00000000e+00 1.00000000e+00 5.00000000e+00]]\n",
            "\n",
            "  ...\n",
            "\n",
            "  [[8.81634045e+00 8.81634045e+00 8.81634045e+00]\n",
            "   [1.23571606e+01 1.03571606e+01 1.13571606e+01]\n",
            "   [1.30714464e+01 1.06428747e+01 1.16428747e+01]\n",
            "   ...\n",
            "   [3.63775368e+01 5.55102158e+00 4.51019478e+00]\n",
            "   [3.11632938e+01 2.69388318e+00 3.49996948e+00]\n",
            "   [2.71326237e+01 1.35711670e+00 1.21423340e+00]]\n",
            "\n",
            "  [[7.07144594e+00 7.07144594e+00 7.07144594e+00]\n",
            "   [9.78574944e+00 8.92857170e+00 9.35716057e+00]\n",
            "   [1.10714464e+01 8.64287472e+00 9.64287472e+00]\n",
            "   ...\n",
            "   [3.03572083e+01 3.85711670e+00 5.78573608e+00]\n",
            "   [2.40306797e+01 1.92855835e+00 4.35714722e+00]\n",
            "   [2.03571777e+01 2.75506467e-01 3.21423340e+00]]\n",
            "\n",
            "  [[5.78570986e+00 5.78570986e+00 5.78570986e+00]\n",
            "   [8.13264942e+00 8.13264942e+00 8.13264942e+00]\n",
            "   [9.78571033e+00 7.35713863e+00 8.35713863e+00]\n",
            "   ...\n",
            "   [2.56428223e+01 3.24487209e+00 5.96939182e+00]\n",
            "   [2.00815868e+01 1.13264716e+00 4.78570557e+00]\n",
            "   [1.60713806e+01 0.00000000e+00 4.49996948e+00]]]\n",
            "\n",
            "\n",
            " [[[1.32943878e+02 1.32943878e+02 1.24943878e+02]\n",
            "   [1.34428574e+02 1.34428574e+02 1.26428566e+02]\n",
            "   [1.35637756e+02 1.35637756e+02 1.27637756e+02]\n",
            "   ...\n",
            "   [8.87757206e+00 9.87757206e+00 3.87757206e+00]\n",
            "   [1.35714808e+01 1.45714808e+01 8.57148075e+00]\n",
            "   [1.44846954e+01 1.70255070e+01 1.02551003e+01]]\n",
            "\n",
            "  [[1.32357147e+02 1.32357147e+02 1.24357140e+02]\n",
            "   [1.34071426e+02 1.34071426e+02 1.26071426e+02]\n",
            "   [1.35000000e+02 1.35000000e+02 1.27000000e+02]\n",
            "   ...\n",
            "   [3.99999046e+00 2.99999046e+00 5.61216138e-02]\n",
            "   [4.93880749e+00 4.07146263e+00 6.63275197e-02]\n",
            "   [1.10459042e+01 1.13826313e+01 5.71426773e+00]]\n",
            "\n",
            "  [[1.27928574e+02 1.27928574e+02 1.19928566e+02]\n",
            "   [1.29642853e+02 1.29642853e+02 1.21642853e+02]\n",
            "   [1.30739792e+02 1.30739792e+02 1.22739792e+02]\n",
            "   ...\n",
            "   [5.81124020e+00 2.38266850e+00 0.00000000e+00]\n",
            "   [1.07296581e+01 7.30108595e+00 2.58678317e+00]\n",
            "   [1.63418255e+01 1.29132538e+01 8.12753963e+00]]\n",
            "\n",
            "  ...\n",
            "\n",
            "  [[1.30000000e+02 1.35000000e+02 1.41000000e+02]\n",
            "   [1.30198959e+02 1.35198959e+02 1.41198959e+02]\n",
            "   [1.29382629e+02 1.34382629e+02 1.40382629e+02]\n",
            "   ...\n",
            "   [1.88826584e+02 1.97255112e+02 1.98872528e+02]\n",
            "   [1.97173828e+02 2.05602356e+02 2.08173828e+02]\n",
            "   [1.87326660e+02 1.94969452e+02 2.00112396e+02]]\n",
            "\n",
            "  [[1.30045929e+02 1.35045929e+02 1.41045929e+02]\n",
            "   [1.29066345e+02 1.34066345e+02 1.40066345e+02]\n",
            "   [1.28214279e+02 1.33214279e+02 1.39214279e+02]\n",
            "   ...\n",
            "   [1.79653030e+02 1.87438736e+02 1.91081619e+02]\n",
            "   [1.88663193e+02 1.95663193e+02 2.01663193e+02]\n",
            "   [1.89469345e+02 1.96469345e+02 2.04469345e+02]]\n",
            "\n",
            "  [[1.31770416e+02 1.36770416e+02 1.42770416e+02]\n",
            "   [1.29928574e+02 1.34928574e+02 1.40928574e+02]\n",
            "   [1.28494919e+02 1.33494919e+02 1.39494919e+02]\n",
            "   ...\n",
            "   [1.79500244e+02 1.86500244e+02 1.92928833e+02]\n",
            "   [1.76648056e+02 1.83648056e+02 1.91648056e+02]\n",
            "   [1.85969452e+02 1.89969452e+02 2.00969452e+02]]]\n",
            "\n",
            "\n",
            " [[[3.93544312e+01 4.03544312e+01 3.43544312e+01]\n",
            "   [3.95036659e+01 4.05036659e+01 3.45036659e+01]\n",
            "   [4.03080330e+01 4.13080330e+01 3.53080330e+01]\n",
            "   ...\n",
            "   [2.80000000e+01 2.90000000e+01 2.40000000e+01]\n",
            "   [2.60000000e+01 2.70000000e+01 2.20000000e+01]\n",
            "   [2.50000000e+01 2.60000000e+01 2.10000000e+01]]\n",
            "\n",
            "  [[4.19241066e+01 4.29241066e+01 3.69241066e+01]\n",
            "   [4.17680168e+01 4.27680168e+01 3.67680168e+01]\n",
            "   [4.25691948e+01 4.35691948e+01 3.75691948e+01]\n",
            "   ...\n",
            "   [2.80000000e+01 2.90000000e+01 2.40000000e+01]\n",
            "   [2.67275085e+01 2.77275085e+01 2.27275085e+01]\n",
            "   [2.55036392e+01 2.65036392e+01 2.15036392e+01]]\n",
            "\n",
            "  [[4.30000000e+01 4.40000000e+01 3.80000000e+01]\n",
            "   [4.30000000e+01 4.40000000e+01 3.80000000e+01]\n",
            "   [4.37857132e+01 4.47857132e+01 3.87857132e+01]\n",
            "   ...\n",
            "   [2.87603493e+01 2.97603493e+01 2.47603493e+01]\n",
            "   [2.73058033e+01 2.83058033e+01 2.33058033e+01]\n",
            "   [2.63058033e+01 2.73058033e+01 2.23058033e+01]]\n",
            "\n",
            "  ...\n",
            "\n",
            "  [[9.30000000e+01 9.81092072e+01 9.12278671e+01]\n",
            "   [9.20000000e+01 9.70714264e+01 9.97142868e+01]\n",
            "   [9.20000000e+01 9.72142868e+01 9.98116837e+01]\n",
            "   ...\n",
            "   [9.92142639e+01 1.09214264e+02 1.10214264e+02]\n",
            "   [9.69504013e+01 1.06950401e+02 1.07950401e+02]\n",
            "   [9.61965637e+01 1.06196564e+02 1.07196564e+02]]\n",
            "\n",
            "  [[9.30000000e+01 9.80000000e+01 9.19985733e+01]\n",
            "   [9.20000000e+01 9.80000000e+01 9.73121719e+01]\n",
            "   [9.20000000e+01 9.73844147e+01 9.87098083e+01]\n",
            "   ...\n",
            "   [9.79977417e+01 1.07997742e+02 1.08997742e+02]\n",
            "   [9.57834778e+01 1.05783478e+02 1.06783478e+02]\n",
            "   [9.50000000e+01 1.05000000e+02 1.06000000e+02]]\n",
            "\n",
            "  [[9.30000000e+01 9.80000000e+01 9.38134689e+01]\n",
            "   [9.20000000e+01 9.80000000e+01 9.44849701e+01]\n",
            "   [9.20000000e+01 9.80000000e+01 9.48207245e+01]\n",
            "   ...\n",
            "   [9.72142639e+01 1.07214264e+02 1.08214264e+02]\n",
            "   [9.50000000e+01 1.05000000e+02 1.06000000e+02]\n",
            "   [9.42611389e+01 1.04261139e+02 1.05261139e+02]]]], shape=(32, 224, 224, 3), dtype=float32) tf.Tensor(\n",
            "[[0. 0. 0. 0. 0. 1. 0. 0. 0. 0.]\n",
            " [1. 0. 0. 0. 0. 0. 0. 0. 0. 0.]\n",
            " [0. 0. 0. 0. 0. 0. 0. 0. 0. 1.]\n",
            " [1. 0. 0. 0. 0. 0. 0. 0. 0. 0.]\n",
            " [0. 0. 0. 0. 0. 0. 0. 0. 1. 0.]\n",
            " [0. 0. 0. 0. 0. 0. 0. 0. 1. 0.]\n",
            " [0. 0. 0. 0. 0. 0. 0. 0. 1. 0.]\n",
            " [0. 1. 0. 0. 0. 0. 0. 0. 0. 0.]\n",
            " [0. 0. 1. 0. 0. 0. 0. 0. 0. 0.]\n",
            " [0. 0. 0. 1. 0. 0. 0. 0. 0. 0.]\n",
            " [0. 0. 0. 1. 0. 0. 0. 0. 0. 0.]\n",
            " [0. 0. 0. 0. 1. 0. 0. 0. 0. 0.]\n",
            " [0. 0. 0. 0. 0. 1. 0. 0. 0. 0.]\n",
            " [0. 0. 0. 0. 0. 0. 0. 1. 0. 0.]\n",
            " [0. 0. 0. 0. 0. 0. 0. 0. 1. 0.]\n",
            " [0. 0. 0. 0. 0. 0. 1. 0. 0. 0.]\n",
            " [0. 0. 0. 0. 0. 0. 0. 0. 0. 1.]\n",
            " [0. 0. 0. 0. 0. 1. 0. 0. 0. 0.]\n",
            " [1. 0. 0. 0. 0. 0. 0. 0. 0. 0.]\n",
            " [0. 0. 0. 0. 0. 1. 0. 0. 0. 0.]\n",
            " [0. 0. 0. 0. 0. 0. 0. 0. 1. 0.]\n",
            " [0. 0. 0. 0. 0. 0. 0. 0. 1. 0.]\n",
            " [0. 0. 0. 1. 0. 0. 0. 0. 0. 0.]\n",
            " [1. 0. 0. 0. 0. 0. 0. 0. 0. 0.]\n",
            " [0. 0. 1. 0. 0. 0. 0. 0. 0. 0.]\n",
            " [0. 0. 0. 0. 0. 0. 0. 1. 0. 0.]\n",
            " [0. 0. 0. 0. 0. 0. 0. 0. 0. 1.]\n",
            " [0. 1. 0. 0. 0. 0. 0. 0. 0. 0.]\n",
            " [0. 0. 0. 0. 0. 0. 0. 1. 0. 0.]\n",
            " [0. 0. 1. 0. 0. 0. 0. 0. 0. 0.]\n",
            " [0. 0. 1. 0. 0. 0. 0. 0. 0. 0.]\n",
            " [0. 0. 0. 0. 0. 1. 0. 0. 0. 0.]], shape=(32, 10), dtype=float32)\n"
          ]
        }
      ]
    },
    {
      "cell_type": "code",
      "source": [
        "# Next lesson 4"
      ],
      "metadata": {
        "id": "GsWSb0zW1hyU"
      },
      "execution_count": null,
      "outputs": []
    }
  ]
}