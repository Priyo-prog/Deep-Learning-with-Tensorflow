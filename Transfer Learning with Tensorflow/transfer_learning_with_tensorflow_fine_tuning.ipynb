{
  "nbformat": 4,
  "nbformat_minor": 0,
  "metadata": {
    "colab": {
      "name": "transfer_learning_with_tensorflow_fine_tuning.ipynb",
      "provenance": [],
      "toc_visible": true,
      "authorship_tag": "ABX9TyOMWdFScJQBHQZ94ffSmy8j",
      "include_colab_link": true
    },
    "kernelspec": {
      "name": "python3",
      "display_name": "Python 3"
    },
    "language_info": {
      "name": "python"
    },
    "accelerator": "GPU"
  },
  "cells": [
    {
      "cell_type": "markdown",
      "metadata": {
        "id": "view-in-github",
        "colab_type": "text"
      },
      "source": [
        "<a href=\"https://colab.research.google.com/github/Priyo-prog/Deep-Learning-with-Tensorflow/blob/main/Transfer%20Learning%20with%20Tensorflow/transfer_learning_with_tensorflow_fine_tuning.ipynb\" target=\"_parent\"><img src=\"https://colab.research.google.com/assets/colab-badge.svg\" alt=\"Open In Colab\"/></a>"
      ]
    },
    {
      "cell_type": "markdown",
      "source": [
        "# **Transfer Learning with TensorFlow part 2: Fine Tuning**"
      ],
      "metadata": {
        "id": "BGZczUMg-gwo"
      }
    },
    {
      "cell_type": "code",
      "source": [
        "# Check the GPU we are using \n",
        "!nvidia-smi"
      ],
      "metadata": {
        "id": "GZl1cM8r_MjG",
        "outputId": "4ec110d1-760a-4557-bcc7-b7ab50e13681",
        "colab": {
          "base_uri": "https://localhost:8080/"
        }
      },
      "execution_count": 5,
      "outputs": [
        {
          "output_type": "stream",
          "name": "stdout",
          "text": [
            "Mon Feb 21 05:27:39 2022       \n",
            "+-----------------------------------------------------------------------------+\n",
            "| NVIDIA-SMI 460.32.03    Driver Version: 460.32.03    CUDA Version: 11.2     |\n",
            "|-------------------------------+----------------------+----------------------+\n",
            "| GPU  Name        Persistence-M| Bus-Id        Disp.A | Volatile Uncorr. ECC |\n",
            "| Fan  Temp  Perf  Pwr:Usage/Cap|         Memory-Usage | GPU-Util  Compute M. |\n",
            "|                               |                      |               MIG M. |\n",
            "|===============================+======================+======================|\n",
            "|   0  Tesla K80           Off  | 00000000:00:04.0 Off |                    0 |\n",
            "| N/A   74C    P0    75W / 149W |    175MiB / 11441MiB |      0%      Default |\n",
            "|                               |                      |                  N/A |\n",
            "+-------------------------------+----------------------+----------------------+\n",
            "                                                                               \n",
            "+-----------------------------------------------------------------------------+\n",
            "| Processes:                                                                  |\n",
            "|  GPU   GI   CI        PID   Type   Process name                  GPU Memory |\n",
            "|        ID   ID                                                   Usage      |\n",
            "|=============================================================================|\n",
            "+-----------------------------------------------------------------------------+\n"
          ]
        }
      ]
    },
    {
      "cell_type": "markdown",
      "source": [
        "## Getting the helper function"
      ],
      "metadata": {
        "id": "OKnzfm5lBXFo"
      }
    },
    {
      "cell_type": "code",
      "source": [
        "!wget https://raw.githubusercontent.com/mrdbourke/tensorflow-deep-learning/main/extras/helper_functions.py"
      ],
      "metadata": {
        "id": "9A2P10YE_qKR",
        "outputId": "b3d9bca6-43fd-4676-ec18-1194ba856f92",
        "colab": {
          "base_uri": "https://localhost:8080/"
        }
      },
      "execution_count": 6,
      "outputs": [
        {
          "output_type": "stream",
          "name": "stdout",
          "text": [
            "--2022-02-21 05:27:39--  https://raw.githubusercontent.com/mrdbourke/tensorflow-deep-learning/main/extras/helper_functions.py\n",
            "Resolving raw.githubusercontent.com (raw.githubusercontent.com)... 185.199.111.133, 185.199.110.133, 185.199.109.133, ...\n",
            "Connecting to raw.githubusercontent.com (raw.githubusercontent.com)|185.199.111.133|:443... connected.\n",
            "HTTP request sent, awaiting response... 200 OK\n",
            "Length: 10246 (10K) [text/plain]\n",
            "Saving to: ‘helper_functions.py’\n",
            "\n",
            "\rhelper_functions.py   0%[                    ]       0  --.-KB/s               \rhelper_functions.py 100%[===================>]  10.01K  --.-KB/s    in 0s      \n",
            "\n",
            "2022-02-21 05:27:40 (67.2 MB/s) - ‘helper_functions.py’ saved [10246/10246]\n",
            "\n"
          ]
        }
      ]
    },
    {
      "cell_type": "code",
      "source": [
        "# Import the helper functions we are going to use in this notebook\n",
        "from helper_functions import create_tensorboard_callback, plot_loss_curves, unzip_data, walk_through_dir"
      ],
      "metadata": {
        "id": "l3yw31xGBLrL"
      },
      "execution_count": 7,
      "outputs": []
    },
    {
      "cell_type": "markdown",
      "source": [
        "## Get the data\n",
        "\n",
        "This time we are going to see how we can use the pretrained models within 'tf.keras.applications' and apply them to our problem"
      ],
      "metadata": {
        "id": "dz2pGRf_wVIL"
      }
    },
    {
      "cell_type": "code",
      "source": [
        "# Get the 10% of training data of 10 classes of Food101\n",
        "!wget https://storage.googleapis.com/ztm_tf_course/food_vision/10_food_classes_10_percent.zip\n",
        "\n",
        "unzip_data(\"10_food_classes_10_percent.zip\")"
      ],
      "metadata": {
        "colab": {
          "base_uri": "https://localhost:8080/"
        },
        "id": "rX5STlEFw9n4",
        "outputId": "93af99b8-bd7c-4d21-c68c-17f6451199c2"
      },
      "execution_count": 8,
      "outputs": [
        {
          "output_type": "stream",
          "name": "stdout",
          "text": [
            "--2022-02-21 05:27:40--  https://storage.googleapis.com/ztm_tf_course/food_vision/10_food_classes_10_percent.zip\n",
            "Resolving storage.googleapis.com (storage.googleapis.com)... 173.194.76.128, 64.233.167.128, 74.125.133.128, ...\n",
            "Connecting to storage.googleapis.com (storage.googleapis.com)|173.194.76.128|:443... connected.\n",
            "HTTP request sent, awaiting response... 200 OK\n",
            "Length: 168546183 (161M) [application/zip]\n",
            "Saving to: ‘10_food_classes_10_percent.zip’\n",
            "\n",
            "10_food_classes_10_ 100%[===================>] 160.74M  50.0MB/s    in 3.2s    \n",
            "\n",
            "2022-02-21 05:27:44 (50.0 MB/s) - ‘10_food_classes_10_percent.zip’ saved [168546183/168546183]\n",
            "\n"
          ]
        }
      ]
    },
    {
      "cell_type": "code",
      "source": [
        "# Check out how many images and subdirectories are in our dataset\n",
        "walk_through_dir(\"10_food_classes_10_percent\")"
      ],
      "metadata": {
        "colab": {
          "base_uri": "https://localhost:8080/"
        },
        "id": "JjCYVSl-xMmv",
        "outputId": "4c2abdc9-aab7-45fa-f313-e4938eb45f5c"
      },
      "execution_count": 9,
      "outputs": [
        {
          "output_type": "stream",
          "name": "stdout",
          "text": [
            "There are 2 directories and 0 images in '10_food_classes_10_percent'.\n",
            "There are 10 directories and 0 images in '10_food_classes_10_percent/train'.\n",
            "There are 0 directories and 75 images in '10_food_classes_10_percent/train/pizza'.\n",
            "There are 0 directories and 75 images in '10_food_classes_10_percent/train/fried_rice'.\n",
            "There are 0 directories and 75 images in '10_food_classes_10_percent/train/grilled_salmon'.\n",
            "There are 0 directories and 75 images in '10_food_classes_10_percent/train/hamburger'.\n",
            "There are 0 directories and 75 images in '10_food_classes_10_percent/train/steak'.\n",
            "There are 0 directories and 75 images in '10_food_classes_10_percent/train/sushi'.\n",
            "There are 0 directories and 75 images in '10_food_classes_10_percent/train/chicken_wings'.\n",
            "There are 0 directories and 75 images in '10_food_classes_10_percent/train/ramen'.\n",
            "There are 0 directories and 75 images in '10_food_classes_10_percent/train/ice_cream'.\n",
            "There are 0 directories and 75 images in '10_food_classes_10_percent/train/chicken_curry'.\n",
            "There are 10 directories and 0 images in '10_food_classes_10_percent/test'.\n",
            "There are 0 directories and 250 images in '10_food_classes_10_percent/test/pizza'.\n",
            "There are 0 directories and 250 images in '10_food_classes_10_percent/test/fried_rice'.\n",
            "There are 0 directories and 250 images in '10_food_classes_10_percent/test/grilled_salmon'.\n",
            "There are 0 directories and 250 images in '10_food_classes_10_percent/test/hamburger'.\n",
            "There are 0 directories and 250 images in '10_food_classes_10_percent/test/steak'.\n",
            "There are 0 directories and 250 images in '10_food_classes_10_percent/test/sushi'.\n",
            "There are 0 directories and 250 images in '10_food_classes_10_percent/test/chicken_wings'.\n",
            "There are 0 directories and 250 images in '10_food_classes_10_percent/test/ramen'.\n",
            "There are 0 directories and 250 images in '10_food_classes_10_percent/test/ice_cream'.\n",
            "There are 0 directories and 250 images in '10_food_classes_10_percent/test/chicken_curry'.\n"
          ]
        }
      ]
    },
    {
      "cell_type": "code",
      "source": [
        "# Create training and test directories paths\n",
        "train_dir = \"10_food_classes_10_percent/train\"\n",
        "test_data = \"10_food_classes_10_percent/test\""
      ],
      "metadata": {
        "id": "F-B60cX6xzaG"
      },
      "execution_count": 10,
      "outputs": []
    },
    {
      "cell_type": "code",
      "source": [
        "import tensorflow as tf\n",
        "\n",
        "IMG_SIZE = (224,224)\n",
        "BATCH_SIZE = 32\n",
        "train_data_10_percent = tf.keras.preprocessing.image_dataset_from_directory(directory=train_dir,\n",
        "                                                                            image_size=IMG_SIZE,\n",
        "                                                                            label_mode=\"categorical\",\n",
        "                                                                            batch_size=BATCH_SIZE)\n",
        "\n",
        "test_data = tf.keras.preprocessing.image_dataset_from_directory(directory=test_data,\n",
        "                                                                image_size=IMG_SIZE,\n",
        "                                                                label_mode=\"categorical\",\n",
        "                                                                batch_size=BATCH_SIZE)"
      ],
      "metadata": {
        "colab": {
          "base_uri": "https://localhost:8080/"
        },
        "id": "vDmUbdU_yXvF",
        "outputId": "bfd286a7-8a26-43f3-cceb-d188cacf0bc2"
      },
      "execution_count": 11,
      "outputs": [
        {
          "output_type": "stream",
          "name": "stdout",
          "text": [
            "Found 750 files belonging to 10 classes.\n",
            "Found 2500 files belonging to 10 classes.\n"
          ]
        }
      ]
    },
    {
      "cell_type": "code",
      "source": [
        "# Check out the class names of our dataset\n",
        "train_data_10_percent.class_names"
      ],
      "metadata": {
        "colab": {
          "base_uri": "https://localhost:8080/"
        },
        "id": "uymfSVQu0Qhc",
        "outputId": "7df966c2-b280-4d88-dbdf-87ab179eb603"
      },
      "execution_count": 12,
      "outputs": [
        {
          "output_type": "execute_result",
          "data": {
            "text/plain": [
              "['chicken_curry',\n",
              " 'chicken_wings',\n",
              " 'fried_rice',\n",
              " 'grilled_salmon',\n",
              " 'hamburger',\n",
              " 'ice_cream',\n",
              " 'pizza',\n",
              " 'ramen',\n",
              " 'steak',\n",
              " 'sushi']"
            ]
          },
          "metadata": {},
          "execution_count": 12
        }
      ]
    },
    {
      "cell_type": "code",
      "source": [
        "# See an example of batch of data\n",
        "for images, labels in train_data_10_percent.take(1):\n",
        "  print(images,labels)"
      ],
      "metadata": {
        "colab": {
          "base_uri": "https://localhost:8080/"
        },
        "id": "3p3Do-Z11CL7",
        "outputId": "007627ed-7ed2-495d-91aa-a5e2f4e86989"
      },
      "execution_count": 13,
      "outputs": [
        {
          "output_type": "stream",
          "name": "stdout",
          "text": [
            "tf.Tensor(\n",
            "[[[[1.65357147e+02 1.48357147e+02 1.63571434e+01]\n",
            "   [1.62382645e+02 1.48382645e+02 1.53826532e+01]\n",
            "   [1.61005096e+02 1.47433670e+02 1.42193880e+01]\n",
            "   ...\n",
            "   [6.62142410e+01 1.27857141e+01 5.71426344e+00]\n",
            "   [6.68571548e+01 1.38571558e+01 5.85715580e+00]\n",
            "   [6.65000381e+01 1.65000343e+01 7.50003433e+00]]\n",
            "\n",
            "  [[1.60071426e+02 1.46071426e+02 1.30714283e+01]\n",
            "   [1.59076523e+02 1.45076523e+02 1.20765305e+01]\n",
            "   [1.56913269e+02 1.44586731e+02 1.12857141e+01]\n",
            "   ...\n",
            "   [8.00714111e+01 1.95867138e+01 1.85714340e+00]\n",
            "   [7.58060913e+01 1.47193899e+01 7.14416504e-02]\n",
            "   [7.32192917e+01 1.25969067e+01 4.03093427e-01]]\n",
            "\n",
            "  [[1.57357147e+02 1.43571426e+02 1.27857141e+01]\n",
            "   [1.55642853e+02 1.42586731e+02 1.18010206e+01]\n",
            "   [1.53591843e+02 1.41693878e+02 1.08316326e+01]\n",
            "   ...\n",
            "   [1.55382599e+02 6.37142258e+01 2.62398033e+01]\n",
            "   [1.46428513e+02 5.38009758e+01 2.21275253e+01]\n",
            "   [1.37714188e+02 4.49285431e+01 1.61427898e+01]]\n",
            "\n",
            "  ...\n",
            "\n",
            "  [[2.40632629e+02 2.28846954e+02 2.12066284e+02]\n",
            "   [2.35857071e+02 2.22841766e+02 2.06158066e+02]\n",
            "   [2.28974380e+02 2.13806000e+02 1.92377380e+02]\n",
            "   ...\n",
            "   [2.34234756e+02 2.09382614e+02 1.92765244e+02]\n",
            "   [2.35000000e+02 2.09000000e+02 1.92000000e+02]\n",
            "   [2.34642822e+02 2.08642822e+02 1.91642822e+02]]\n",
            "\n",
            "  [[2.36260193e+02 2.27234680e+02 2.11117355e+02]\n",
            "   [2.34076523e+02 2.21214294e+02 2.04362259e+02]\n",
            "   [2.28561264e+02 2.13331680e+02 1.93520462e+02]\n",
            "   ...\n",
            "   [2.34000000e+02 2.08000000e+02 1.91000000e+02]\n",
            "   [2.34862213e+02 2.08862213e+02 1.91862213e+02]\n",
            "   [2.33974487e+02 2.07974487e+02 1.90974487e+02]]\n",
            "\n",
            "  [[2.35515335e+02 2.25515335e+02 2.14688843e+02]\n",
            "   [2.36525543e+02 2.24500031e+02 2.12576569e+02]\n",
            "   [2.36576614e+02 2.20362320e+02 2.04214386e+02]\n",
            "   ...\n",
            "   [2.33923477e+02 2.07923477e+02 1.90923477e+02]\n",
            "   [2.34000000e+02 2.08000000e+02 1.91000000e+02]\n",
            "   [2.33413223e+02 2.07413223e+02 1.90413223e+02]]]\n",
            "\n",
            "\n",
            " [[[6.84846954e+01 7.54846954e+01 4.24846954e+01]\n",
            "   [6.73112259e+01 7.43112259e+01 4.13112221e+01]\n",
            "   [6.77959213e+01 7.47959213e+01 4.22244911e+01]\n",
            "   ...\n",
            "   [2.18468895e+01 1.38468885e+01 2.41836119e+00]\n",
            "   [1.96887703e+01 1.26887703e+01 2.68877077e+00]\n",
            "   [1.78724365e+01 1.08724365e+01 2.87243652e+00]]\n",
            "\n",
            "  [[6.85714340e+01 7.55714340e+01 4.25714264e+01]\n",
            "   [6.99948959e+01 7.69948959e+01 4.39948997e+01]\n",
            "   [6.97142868e+01 7.67142868e+01 4.37142868e+01]\n",
            "   ...\n",
            "   [2.06580963e+01 1.26580963e+01 1.22956848e+00]\n",
            "   [1.70000000e+01 1.00000000e+01 0.00000000e+00]\n",
            "   [1.67397633e+01 9.73976326e+00 1.73976314e+00]]\n",
            "\n",
            "  [[7.20000000e+01 7.90000000e+01 4.50000000e+01]\n",
            "   [7.16275482e+01 7.86275482e+01 4.46275520e+01]\n",
            "   [7.07857132e+01 7.89336777e+01 4.47193909e+01]\n",
            "   ...\n",
            "   [2.14744415e+01 1.34744415e+01 2.04591370e+00]\n",
            "   [1.86581402e+01 1.16581402e+01 1.65813982e+00]\n",
            "   [1.43621826e+01 7.36218262e+00 0.00000000e+00]]\n",
            "\n",
            "  ...\n",
            "\n",
            "  [[2.52805767e+01 2.12805767e+01 1.18520489e+01]\n",
            "   [2.75152607e+01 2.44999561e+01 1.54999561e+01]\n",
            "   [2.25713844e+01 2.27856712e+01 1.52142420e+01]\n",
            "   ...\n",
            "   [5.91937637e+01 4.28111458e+01 1.63826180e+01]\n",
            "   [5.91988335e+01 4.35406761e+01 1.68417492e+01]\n",
            "   [5.80814667e+01 4.49234085e+01 1.72142334e+01]]\n",
            "\n",
            "  [[2.15918274e+01 2.05969429e+01 1.29285717e+01]\n",
            "   [2.29999866e+01 2.29999866e+01 1.49999866e+01]\n",
            "   [1.91428566e+01 1.85714283e+01 1.35714283e+01]\n",
            "   ...\n",
            "   [6.54999695e+01 4.95561028e+01 2.46683731e+01]\n",
            "   [5.90867538e+01 4.53725204e+01 1.95000916e+01]\n",
            "   [4.96939163e+01 3.85001221e+01 1.21888685e+01]]\n",
            "\n",
            "  [[2.01581516e+01 1.91581516e+01 1.41581507e+01]\n",
            "   [1.97142506e+01 2.07142506e+01 1.47142506e+01]\n",
            "   [1.62142506e+01 1.72142506e+01 1.14285364e+01]\n",
            "   ...\n",
            "   [4.79279785e+01 3.27902451e+01 1.15147781e+01]\n",
            "   [4.95963173e+01 3.80453453e+01 1.59075718e+01]\n",
            "   [4.62696648e+01 3.72596054e+01 1.39840212e+01]]]\n",
            "\n",
            "\n",
            " [[[0.00000000e+00 0.00000000e+00 0.00000000e+00]\n",
            "   [0.00000000e+00 0.00000000e+00 0.00000000e+00]\n",
            "   [0.00000000e+00 0.00000000e+00 0.00000000e+00]\n",
            "   ...\n",
            "   [0.00000000e+00 0.00000000e+00 0.00000000e+00]\n",
            "   [0.00000000e+00 0.00000000e+00 0.00000000e+00]\n",
            "   [0.00000000e+00 0.00000000e+00 0.00000000e+00]]\n",
            "\n",
            "  [[0.00000000e+00 0.00000000e+00 0.00000000e+00]\n",
            "   [0.00000000e+00 0.00000000e+00 0.00000000e+00]\n",
            "   [0.00000000e+00 0.00000000e+00 0.00000000e+00]\n",
            "   ...\n",
            "   [0.00000000e+00 0.00000000e+00 0.00000000e+00]\n",
            "   [0.00000000e+00 0.00000000e+00 0.00000000e+00]\n",
            "   [0.00000000e+00 0.00000000e+00 0.00000000e+00]]\n",
            "\n",
            "  [[0.00000000e+00 0.00000000e+00 0.00000000e+00]\n",
            "   [0.00000000e+00 0.00000000e+00 0.00000000e+00]\n",
            "   [0.00000000e+00 0.00000000e+00 0.00000000e+00]\n",
            "   ...\n",
            "   [0.00000000e+00 0.00000000e+00 0.00000000e+00]\n",
            "   [0.00000000e+00 0.00000000e+00 0.00000000e+00]\n",
            "   [0.00000000e+00 0.00000000e+00 0.00000000e+00]]\n",
            "\n",
            "  ...\n",
            "\n",
            "  [[0.00000000e+00 0.00000000e+00 0.00000000e+00]\n",
            "   [0.00000000e+00 0.00000000e+00 0.00000000e+00]\n",
            "   [0.00000000e+00 0.00000000e+00 0.00000000e+00]\n",
            "   ...\n",
            "   [0.00000000e+00 0.00000000e+00 0.00000000e+00]\n",
            "   [0.00000000e+00 0.00000000e+00 0.00000000e+00]\n",
            "   [0.00000000e+00 0.00000000e+00 0.00000000e+00]]\n",
            "\n",
            "  [[0.00000000e+00 0.00000000e+00 0.00000000e+00]\n",
            "   [0.00000000e+00 0.00000000e+00 0.00000000e+00]\n",
            "   [0.00000000e+00 0.00000000e+00 0.00000000e+00]\n",
            "   ...\n",
            "   [0.00000000e+00 0.00000000e+00 0.00000000e+00]\n",
            "   [0.00000000e+00 0.00000000e+00 0.00000000e+00]\n",
            "   [0.00000000e+00 0.00000000e+00 0.00000000e+00]]\n",
            "\n",
            "  [[0.00000000e+00 0.00000000e+00 0.00000000e+00]\n",
            "   [0.00000000e+00 0.00000000e+00 0.00000000e+00]\n",
            "   [0.00000000e+00 0.00000000e+00 0.00000000e+00]\n",
            "   ...\n",
            "   [0.00000000e+00 0.00000000e+00 0.00000000e+00]\n",
            "   [0.00000000e+00 0.00000000e+00 0.00000000e+00]\n",
            "   [0.00000000e+00 0.00000000e+00 0.00000000e+00]]]\n",
            "\n",
            "\n",
            " ...\n",
            "\n",
            "\n",
            " [[[1.29346939e+02 9.53469391e+01 9.33469391e+01]\n",
            "   [1.27826530e+02 9.38265305e+01 9.21836777e+01]\n",
            "   [1.26683678e+02 9.26836777e+01 9.16836777e+01]\n",
            "   ...\n",
            "   [2.02571335e+02 2.00999863e+02 2.11785599e+02]\n",
            "   [1.99311203e+02 1.97311203e+02 2.08311203e+02]\n",
            "   [1.93101913e+02 1.91101913e+02 2.02101913e+02]]\n",
            "\n",
            "  [[1.31500000e+02 9.85000000e+01 9.23061218e+01]\n",
            "   [1.33785721e+02 1.00785713e+02 9.57857132e+01]\n",
            "   [1.32688782e+02 9.96173477e+01 9.48316345e+01]\n",
            "   ...\n",
            "   [2.06499939e+02 2.04928467e+02 2.15714203e+02]\n",
            "   [1.97790771e+02 1.95790771e+02 2.06790771e+02]\n",
            "   [1.93617310e+02 1.91617310e+02 2.02617310e+02]]\n",
            "\n",
            "  [[1.31775513e+02 9.77755127e+01 8.85612259e+01]\n",
            "   [1.34270416e+02 1.00270416e+02 9.10561295e+01]\n",
            "   [1.40913269e+02 1.06678574e+02 9.98673477e+01]\n",
            "   ...\n",
            "   [2.02025452e+02 1.99811157e+02 2.10811157e+02]\n",
            "   [1.97857101e+02 1.94857101e+02 2.05857101e+02]\n",
            "   [1.89418243e+02 1.86418243e+02 1.97418243e+02]]\n",
            "\n",
            "  ...\n",
            "\n",
            "  [[2.22928619e+02 2.28928619e+02 2.24928619e+02]\n",
            "   [2.20841858e+02 2.26841858e+02 2.22841858e+02]\n",
            "   [2.18739807e+02 2.24357162e+02 2.19591888e+02]\n",
            "   ...\n",
            "   [2.54000000e+02 2.54000000e+02 2.54000000e+02]\n",
            "   [2.54000000e+02 2.54000000e+02 2.54000000e+02]\n",
            "   [2.54000000e+02 2.54000000e+02 2.54000000e+02]]\n",
            "\n",
            "  [[2.25785721e+02 2.31785721e+02 2.27785721e+02]\n",
            "   [2.21209198e+02 2.27209198e+02 2.23209198e+02]\n",
            "   [2.18841858e+02 2.24841858e+02 2.20841858e+02]\n",
            "   ...\n",
            "   [2.54000000e+02 2.54000000e+02 2.54000000e+02]\n",
            "   [2.54000000e+02 2.54000000e+02 2.54000000e+02]\n",
            "   [2.54000000e+02 2.54000000e+02 2.54000000e+02]]\n",
            "\n",
            "  [[2.29071457e+02 2.35071457e+02 2.31071457e+02]\n",
            "   [2.23500031e+02 2.29500031e+02 2.25500031e+02]\n",
            "   [2.21005142e+02 2.27005142e+02 2.23005142e+02]\n",
            "   ...\n",
            "   [2.54000000e+02 2.54000000e+02 2.54000000e+02]\n",
            "   [2.54000000e+02 2.54000000e+02 2.54000000e+02]\n",
            "   [2.54000000e+02 2.54000000e+02 2.54000000e+02]]]\n",
            "\n",
            "\n",
            " [[[8.04559937e+01 6.74559937e+01 5.94559975e+01]\n",
            "   [9.45000000e+01 8.35000000e+01 7.75000000e+01]\n",
            "   [9.68526764e+01 8.78526764e+01 8.08526764e+01]\n",
            "   ...\n",
            "   [8.62484741e+01 2.20000000e+01 5.36992598e+00]\n",
            "   [8.78823090e+01 1.95876694e+01 4.23499107e+00]\n",
            "   [8.72474365e+01 1.50108318e+01 1.53668332e+00]]\n",
            "\n",
            "  [[6.32560577e+01 5.02560577e+01 4.22560577e+01]\n",
            "   [9.49473877e+01 8.36967468e+01 7.76967468e+01]\n",
            "   [9.85331650e+01 8.79617386e+01 8.17474518e+01]\n",
            "   ...\n",
            "   [8.31935349e+01 2.02142639e+01 2.09819221e+00]\n",
            "   [8.20092621e+01 1.91253319e+01 2.06729555e+00]\n",
            "   [8.47263947e+01 2.18839283e+01 4.82589245e+00]]\n",
            "\n",
            "  [[4.90287018e+01 3.45019150e+01 2.72653065e+01]\n",
            "   [9.66989822e+01 8.36989822e+01 7.76989822e+01]\n",
            "   [9.93440704e+01 8.87726440e+01 8.40851440e+01]\n",
            "   ...\n",
            "   [8.42202759e+01 1.92873039e+01 5.06963581e-02]\n",
            "   [8.24177094e+01 2.15813236e+01 2.76339293e+00]\n",
            "   [7.87588577e+01 2.00000000e+01 1.72733307e+00]]\n",
            "\n",
            "  ...\n",
            "\n",
            "  [[4.10000000e+01 1.52901001e+01 1.12901001e+01]\n",
            "   [4.12366333e+01 1.55267334e+01 1.15267334e+01]\n",
            "   [4.17098999e+01 1.60000000e+01 1.20000000e+01]\n",
            "   ...\n",
            "   [3.50000000e+01 1.62873344e+01 1.04449339e+01]\n",
            "   [3.50545349e+01 1.63080750e+01 1.06760893e+01]\n",
            "   [3.55267334e+01 1.68478870e+01 1.07949352e+01]]\n",
            "\n",
            "  [[4.10000000e+01 1.30000000e+01 9.00000000e+00]\n",
            "   [4.19327164e+01 1.39327154e+01 9.93271542e+00]\n",
            "   [4.32598686e+01 1.52598686e+01 1.12598686e+01]\n",
            "   ...\n",
            "   [3.59419861e+01 1.70124302e+01 1.25714722e+01]\n",
            "   [3.49327011e+01 1.59948616e+01 1.18478336e+01]\n",
            "   [3.40000000e+01 1.50787354e+01 1.03436584e+01]]\n",
            "\n",
            "  [[4.16473389e+01 1.46473389e+01 7.64733887e+00]\n",
            "   [4.13737106e+01 1.43737097e+01 7.37370968e+00]\n",
            "   [4.12139435e+01 1.42139454e+01 7.21394539e+00]\n",
            "   ...\n",
            "   [3.67860413e+01 1.45669250e+01 8.76846123e+00]\n",
            "   [3.56221428e+01 1.33526611e+01 7.65493298e+00]\n",
            "   [3.45213776e+01 1.23526611e+01 6.45339680e+00]]]\n",
            "\n",
            "\n",
            " [[[1.60357147e+02 4.74285736e+01 2.01989803e+01]\n",
            "   [1.68688782e+02 5.43775520e+01 2.32397957e+01]\n",
            "   [1.80275513e+02 6.10612259e+01 2.69234695e+01]\n",
            "   ...\n",
            "   [1.07750336e+02 5.31176491e+01 5.61239958e-01]\n",
            "   [1.84551529e+02 1.23265762e+02 5.81943207e+01]\n",
            "   [1.94115814e+02 1.25345390e+02 6.03453903e+01]]\n",
            "\n",
            "  [[1.78239807e+02 6.13826523e+01 2.73316326e+01]\n",
            "   [1.77775497e+02 5.96479607e+01 2.39285717e+01]\n",
            "   [1.76974487e+02 5.69438782e+01 1.99438801e+01]\n",
            "   ...\n",
            "   [1.29725006e+02 7.38117371e+01 1.70972309e+01]\n",
            "   [2.19913300e+02 1.55627533e+02 9.35561142e+01]\n",
            "   [1.68881363e+02 9.41670761e+01 3.58813629e+01]]\n",
            "\n",
            "  [[1.61377548e+02 5.04438782e+01 1.78010216e+01]\n",
            "   [1.62673462e+02 5.18163261e+01 1.84591846e+01]\n",
            "   [1.61265305e+02 5.36224480e+01 1.89744892e+01]\n",
            "   ...\n",
            "   [1.61128433e+02 9.84396591e+01 4.29394798e+01]\n",
            "   [2.28183228e+02 1.57397461e+02 9.87852402e+01]\n",
            "   [1.50234055e+02 6.90911331e+01 1.80810204e+01]]\n",
            "\n",
            "  ...\n",
            "\n",
            "  [[1.45714722e+01 7.21426392e+00 3.57147217e+00]\n",
            "   [1.47704315e+01 7.41322327e+00 4.19895935e+00]\n",
            "   [1.60918064e+01 6.42850590e+00 5.68872738e+00]\n",
            "   ...\n",
            "   [2.49163437e+02 2.15637878e+02 1.54163437e+02]\n",
            "   [2.46260254e+02 2.11903046e+02 1.53688782e+02]\n",
            "   [2.47995010e+02 2.13637802e+02 1.57423538e+02]]\n",
            "\n",
            "  [[1.20714417e+01 4.00000000e+00 2.21432495e+00]\n",
            "   [1.30051165e+01 4.07144165e+00 5.00514317e+00]\n",
            "   [1.40714417e+01 5.07144165e+00 8.07144165e+00]\n",
            "   ...\n",
            "   [2.41229385e+02 2.05285461e+02 1.42872238e+02]\n",
            "   [2.37479507e+02 2.01479507e+02 1.41479507e+02]\n",
            "   [2.32341980e+02 1.96341980e+02 1.38341980e+02]]\n",
            "\n",
            "  [[1.37703857e+01 4.77038574e+00 7.77038574e+00]\n",
            "   [1.33111572e+01 4.31115723e+00 9.21932602e+00]\n",
            "   [1.29284668e+01 3.92846680e+00 8.92846680e+00]\n",
            "   ...\n",
            "   [2.35633286e+02 1.97556763e+02 1.34128235e+02]\n",
            "   [2.30321838e+02 1.91321838e+02 1.32321838e+02]\n",
            "   [2.35173553e+02 1.96173553e+02 1.39173553e+02]]]], shape=(32, 224, 224, 3), dtype=float32) tf.Tensor(\n",
            "[[0. 0. 0. 1. 0. 0. 0. 0. 0. 0.]\n",
            " [0. 0. 0. 0. 0. 0. 0. 0. 1. 0.]\n",
            " [0. 0. 0. 0. 0. 0. 0. 0. 0. 1.]\n",
            " [0. 0. 0. 0. 0. 0. 0. 1. 0. 0.]\n",
            " [0. 0. 0. 1. 0. 0. 0. 0. 0. 0.]\n",
            " [0. 0. 0. 1. 0. 0. 0. 0. 0. 0.]\n",
            " [0. 0. 0. 1. 0. 0. 0. 0. 0. 0.]\n",
            " [0. 0. 0. 0. 0. 0. 0. 0. 0. 1.]\n",
            " [0. 0. 0. 0. 0. 0. 1. 0. 0. 0.]\n",
            " [0. 0. 0. 0. 0. 0. 0. 0. 0. 1.]\n",
            " [0. 0. 0. 0. 0. 0. 0. 0. 0. 1.]\n",
            " [1. 0. 0. 0. 0. 0. 0. 0. 0. 0.]\n",
            " [1. 0. 0. 0. 0. 0. 0. 0. 0. 0.]\n",
            " [0. 0. 0. 0. 0. 0. 1. 0. 0. 0.]\n",
            " [0. 0. 0. 0. 0. 0. 0. 0. 1. 0.]\n",
            " [0. 1. 0. 0. 0. 0. 0. 0. 0. 0.]\n",
            " [0. 0. 1. 0. 0. 0. 0. 0. 0. 0.]\n",
            " [0. 0. 0. 0. 0. 1. 0. 0. 0. 0.]\n",
            " [0. 0. 0. 1. 0. 0. 0. 0. 0. 0.]\n",
            " [0. 0. 0. 0. 0. 0. 0. 0. 1. 0.]\n",
            " [0. 0. 0. 0. 0. 0. 0. 1. 0. 0.]\n",
            " [0. 1. 0. 0. 0. 0. 0. 0. 0. 0.]\n",
            " [1. 0. 0. 0. 0. 0. 0. 0. 0. 0.]\n",
            " [0. 0. 0. 0. 0. 0. 0. 0. 1. 0.]\n",
            " [0. 0. 0. 1. 0. 0. 0. 0. 0. 0.]\n",
            " [0. 0. 0. 0. 1. 0. 0. 0. 0. 0.]\n",
            " [0. 0. 0. 0. 0. 0. 0. 1. 0. 0.]\n",
            " [0. 0. 0. 0. 0. 1. 0. 0. 0. 0.]\n",
            " [0. 1. 0. 0. 0. 0. 0. 0. 0. 0.]\n",
            " [0. 0. 0. 0. 0. 0. 0. 0. 1. 0.]\n",
            " [0. 1. 0. 0. 0. 0. 0. 0. 0. 0.]\n",
            " [0. 0. 0. 0. 0. 0. 0. 1. 0. 0.]], shape=(32, 10), dtype=float32)\n"
          ]
        }
      ]
    },
    {
      "cell_type": "markdown",
      "source": [
        "## Build Transfer Learning model using Functional API\n",
        "\n",
        "The Sequential API is straight forward, it runs our layer in sequential order\n",
        "\n",
        "But the Functional API gives us more flexibility with our models :- \n",
        "\n",
        "[Tensorflow Keras Functional API](https://www.tensorflow.org/guide/keras/functional)"
      ],
      "metadata": {
        "id": "GsWSb0zW1hyU"
      }
    },
    {
      "cell_type": "code",
      "source": [
        "# 1. Create bas model with tf.keras.applications\n",
        "base_model = tf.keras.applications.EfficientNetB0(include_top=False)\n",
        "\n",
        "# 2. Freeze the base model (so the underlying pre-trained patterns aren't updated during training)\n",
        "base_model.trainable = False\n",
        "\n",
        "# 3. Create inputs in our model\n",
        "inputs = tf.keras.layers.Input(shape=(224,224,3), name=\"input_layer\")\n",
        "\n",
        "# 4. If using a model like ResNet50V2 you will need to normalize inputs (you don't need to for EfficientNet)\n",
        "#x = tf.keras.layers.experimental.preprocessing.Rescaling(1./255)(inputs)\n",
        "\n",
        "# 5. Pass the inputs to the base_model\n",
        "x = base_model(inputs)\n",
        "print(f\"Shape after passing inputs through base model: {x.shape}\")\n",
        "\n",
        "# 6. Average pool the outputs of the base model (aggregate all the important information, reduce number of computations)\n",
        "x = tf.keras.layers.GlobalAveragePooling2D(name=\"global_average_pooling_layer\")(x)\n",
        "print(f\"Shape after GlobalAveragePooling2D: {x.shape}\")\n",
        "\n",
        "# 7. Create the output activation layer\n",
        "outputs = tf.keras.layers.Dense(10, activation=\"softmax\", name=\"output_layer\")(x)\n",
        "\n",
        "# 8. Combine the inputs with the outputs into a model\n",
        "model_0 = tf.keras.Model(inputs, outputs)\n",
        "\n",
        "# 9. Compile the model\n",
        "model_0.compile(loss=tf.keras.losses.CategoricalCrossentropy(),\n",
        "                optimizer=tf.keras.optimizers.Adam(),\n",
        "                metrics=[\"accuracy\"])\n",
        "\n",
        "# 10. Fit the model and save it's history\n",
        "history_10_percent = model_0.fit(train_data_10_percent,\n",
        "                                 epochs=5,\n",
        "                                 steps_per_epoch=len(train_data_10_percent),\n",
        "                                 validation_data=test_data,\n",
        "                                 validation_steps=int(0.25 * len(test_data)),\n",
        "                                 callbacks=[create_tensorboard_callback(dir_name=\"transfer_learning\",\n",
        "                                                                        experiment_name=\"10_percent_feature_extraction\")])"
      ],
      "metadata": {
        "id": "Jte4mPvdwHsS",
        "outputId": "d7673391-6096-4231-97ef-cbe85f59192b",
        "colab": {
          "base_uri": "https://localhost:8080/"
        }
      },
      "execution_count": 14,
      "outputs": [
        {
          "output_type": "stream",
          "name": "stdout",
          "text": [
            "Shape after passing inputs through base model: (None, 7, 7, 1280)\n",
            "Shape after GlobalAveragePooling2D: (None, 1280)\n",
            "Saving TensorBoard log files to: transfer_learning/10_percent_feature_extraction/20220221-052750\n",
            "Epoch 1/5\n",
            "24/24 [==============================] - 28s 468ms/step - loss: 1.9192 - accuracy: 0.3640 - val_loss: 1.3703 - val_accuracy: 0.7253\n",
            "Epoch 2/5\n",
            "24/24 [==============================] - 9s 363ms/step - loss: 1.1549 - accuracy: 0.7520 - val_loss: 0.9258 - val_accuracy: 0.8043\n",
            "Epoch 3/5\n",
            "24/24 [==============================] - 7s 272ms/step - loss: 0.8418 - accuracy: 0.8213 - val_loss: 0.7161 - val_accuracy: 0.8355\n",
            "Epoch 4/5\n",
            "24/24 [==============================] - 7s 272ms/step - loss: 0.6955 - accuracy: 0.8280 - val_loss: 0.6525 - val_accuracy: 0.8454\n",
            "Epoch 5/5\n",
            "24/24 [==============================] - 7s 274ms/step - loss: 0.5924 - accuracy: 0.8627 - val_loss: 0.6023 - val_accuracy: 0.8289\n"
          ]
        }
      ]
    },
    {
      "cell_type": "code",
      "source": [
        "# Evaluate on full test dataset\n",
        "model_0.evaluate(test_data)"
      ],
      "metadata": {
        "id": "Rdwh5VzRXcef",
        "outputId": "60e0c369-c775-4eec-a0d4-82dc7419d5bd",
        "colab": {
          "base_uri": "https://localhost:8080/"
        }
      },
      "execution_count": 15,
      "outputs": [
        {
          "output_type": "stream",
          "name": "stdout",
          "text": [
            "79/79 [==============================] - 12s 139ms/step - loss: 0.6097 - accuracy: 0.8368\n"
          ]
        },
        {
          "output_type": "execute_result",
          "data": {
            "text/plain": [
              "[0.6097059845924377, 0.8367999792098999]"
            ]
          },
          "metadata": {},
          "execution_count": 15
        }
      ]
    },
    {
      "cell_type": "code",
      "source": [
        "# Check the layers in our base model\n",
        "for layer_number, layer in enumerate(base_model.layers):\n",
        "  print(layer_number, layer.name)"
      ],
      "metadata": {
        "id": "6cGaa8W0X9NI",
        "outputId": "37c953be-fad8-4784-96ec-25c6c52f0402",
        "colab": {
          "base_uri": "https://localhost:8080/"
        }
      },
      "execution_count": 16,
      "outputs": [
        {
          "output_type": "stream",
          "name": "stdout",
          "text": [
            "0 input_2\n",
            "1 rescaling_1\n",
            "2 normalization_1\n",
            "3 stem_conv_pad\n",
            "4 stem_conv\n",
            "5 stem_bn\n",
            "6 stem_activation\n",
            "7 block1a_dwconv\n",
            "8 block1a_bn\n",
            "9 block1a_activation\n",
            "10 block1a_se_squeeze\n",
            "11 block1a_se_reshape\n",
            "12 block1a_se_reduce\n",
            "13 block1a_se_expand\n",
            "14 block1a_se_excite\n",
            "15 block1a_project_conv\n",
            "16 block1a_project_bn\n",
            "17 block2a_expand_conv\n",
            "18 block2a_expand_bn\n",
            "19 block2a_expand_activation\n",
            "20 block2a_dwconv_pad\n",
            "21 block2a_dwconv\n",
            "22 block2a_bn\n",
            "23 block2a_activation\n",
            "24 block2a_se_squeeze\n",
            "25 block2a_se_reshape\n",
            "26 block2a_se_reduce\n",
            "27 block2a_se_expand\n",
            "28 block2a_se_excite\n",
            "29 block2a_project_conv\n",
            "30 block2a_project_bn\n",
            "31 block2b_expand_conv\n",
            "32 block2b_expand_bn\n",
            "33 block2b_expand_activation\n",
            "34 block2b_dwconv\n",
            "35 block2b_bn\n",
            "36 block2b_activation\n",
            "37 block2b_se_squeeze\n",
            "38 block2b_se_reshape\n",
            "39 block2b_se_reduce\n",
            "40 block2b_se_expand\n",
            "41 block2b_se_excite\n",
            "42 block2b_project_conv\n",
            "43 block2b_project_bn\n",
            "44 block2b_drop\n",
            "45 block2b_add\n",
            "46 block3a_expand_conv\n",
            "47 block3a_expand_bn\n",
            "48 block3a_expand_activation\n",
            "49 block3a_dwconv_pad\n",
            "50 block3a_dwconv\n",
            "51 block3a_bn\n",
            "52 block3a_activation\n",
            "53 block3a_se_squeeze\n",
            "54 block3a_se_reshape\n",
            "55 block3a_se_reduce\n",
            "56 block3a_se_expand\n",
            "57 block3a_se_excite\n",
            "58 block3a_project_conv\n",
            "59 block3a_project_bn\n",
            "60 block3b_expand_conv\n",
            "61 block3b_expand_bn\n",
            "62 block3b_expand_activation\n",
            "63 block3b_dwconv\n",
            "64 block3b_bn\n",
            "65 block3b_activation\n",
            "66 block3b_se_squeeze\n",
            "67 block3b_se_reshape\n",
            "68 block3b_se_reduce\n",
            "69 block3b_se_expand\n",
            "70 block3b_se_excite\n",
            "71 block3b_project_conv\n",
            "72 block3b_project_bn\n",
            "73 block3b_drop\n",
            "74 block3b_add\n",
            "75 block4a_expand_conv\n",
            "76 block4a_expand_bn\n",
            "77 block4a_expand_activation\n",
            "78 block4a_dwconv_pad\n",
            "79 block4a_dwconv\n",
            "80 block4a_bn\n",
            "81 block4a_activation\n",
            "82 block4a_se_squeeze\n",
            "83 block4a_se_reshape\n",
            "84 block4a_se_reduce\n",
            "85 block4a_se_expand\n",
            "86 block4a_se_excite\n",
            "87 block4a_project_conv\n",
            "88 block4a_project_bn\n",
            "89 block4b_expand_conv\n",
            "90 block4b_expand_bn\n",
            "91 block4b_expand_activation\n",
            "92 block4b_dwconv\n",
            "93 block4b_bn\n",
            "94 block4b_activation\n",
            "95 block4b_se_squeeze\n",
            "96 block4b_se_reshape\n",
            "97 block4b_se_reduce\n",
            "98 block4b_se_expand\n",
            "99 block4b_se_excite\n",
            "100 block4b_project_conv\n",
            "101 block4b_project_bn\n",
            "102 block4b_drop\n",
            "103 block4b_add\n",
            "104 block4c_expand_conv\n",
            "105 block4c_expand_bn\n",
            "106 block4c_expand_activation\n",
            "107 block4c_dwconv\n",
            "108 block4c_bn\n",
            "109 block4c_activation\n",
            "110 block4c_se_squeeze\n",
            "111 block4c_se_reshape\n",
            "112 block4c_se_reduce\n",
            "113 block4c_se_expand\n",
            "114 block4c_se_excite\n",
            "115 block4c_project_conv\n",
            "116 block4c_project_bn\n",
            "117 block4c_drop\n",
            "118 block4c_add\n",
            "119 block5a_expand_conv\n",
            "120 block5a_expand_bn\n",
            "121 block5a_expand_activation\n",
            "122 block5a_dwconv\n",
            "123 block5a_bn\n",
            "124 block5a_activation\n",
            "125 block5a_se_squeeze\n",
            "126 block5a_se_reshape\n",
            "127 block5a_se_reduce\n",
            "128 block5a_se_expand\n",
            "129 block5a_se_excite\n",
            "130 block5a_project_conv\n",
            "131 block5a_project_bn\n",
            "132 block5b_expand_conv\n",
            "133 block5b_expand_bn\n",
            "134 block5b_expand_activation\n",
            "135 block5b_dwconv\n",
            "136 block5b_bn\n",
            "137 block5b_activation\n",
            "138 block5b_se_squeeze\n",
            "139 block5b_se_reshape\n",
            "140 block5b_se_reduce\n",
            "141 block5b_se_expand\n",
            "142 block5b_se_excite\n",
            "143 block5b_project_conv\n",
            "144 block5b_project_bn\n",
            "145 block5b_drop\n",
            "146 block5b_add\n",
            "147 block5c_expand_conv\n",
            "148 block5c_expand_bn\n",
            "149 block5c_expand_activation\n",
            "150 block5c_dwconv\n",
            "151 block5c_bn\n",
            "152 block5c_activation\n",
            "153 block5c_se_squeeze\n",
            "154 block5c_se_reshape\n",
            "155 block5c_se_reduce\n",
            "156 block5c_se_expand\n",
            "157 block5c_se_excite\n",
            "158 block5c_project_conv\n",
            "159 block5c_project_bn\n",
            "160 block5c_drop\n",
            "161 block5c_add\n",
            "162 block6a_expand_conv\n",
            "163 block6a_expand_bn\n",
            "164 block6a_expand_activation\n",
            "165 block6a_dwconv_pad\n",
            "166 block6a_dwconv\n",
            "167 block6a_bn\n",
            "168 block6a_activation\n",
            "169 block6a_se_squeeze\n",
            "170 block6a_se_reshape\n",
            "171 block6a_se_reduce\n",
            "172 block6a_se_expand\n",
            "173 block6a_se_excite\n",
            "174 block6a_project_conv\n",
            "175 block6a_project_bn\n",
            "176 block6b_expand_conv\n",
            "177 block6b_expand_bn\n",
            "178 block6b_expand_activation\n",
            "179 block6b_dwconv\n",
            "180 block6b_bn\n",
            "181 block6b_activation\n",
            "182 block6b_se_squeeze\n",
            "183 block6b_se_reshape\n",
            "184 block6b_se_reduce\n",
            "185 block6b_se_expand\n",
            "186 block6b_se_excite\n",
            "187 block6b_project_conv\n",
            "188 block6b_project_bn\n",
            "189 block6b_drop\n",
            "190 block6b_add\n",
            "191 block6c_expand_conv\n",
            "192 block6c_expand_bn\n",
            "193 block6c_expand_activation\n",
            "194 block6c_dwconv\n",
            "195 block6c_bn\n",
            "196 block6c_activation\n",
            "197 block6c_se_squeeze\n",
            "198 block6c_se_reshape\n",
            "199 block6c_se_reduce\n",
            "200 block6c_se_expand\n",
            "201 block6c_se_excite\n",
            "202 block6c_project_conv\n",
            "203 block6c_project_bn\n",
            "204 block6c_drop\n",
            "205 block6c_add\n",
            "206 block6d_expand_conv\n",
            "207 block6d_expand_bn\n",
            "208 block6d_expand_activation\n",
            "209 block6d_dwconv\n",
            "210 block6d_bn\n",
            "211 block6d_activation\n",
            "212 block6d_se_squeeze\n",
            "213 block6d_se_reshape\n",
            "214 block6d_se_reduce\n",
            "215 block6d_se_expand\n",
            "216 block6d_se_excite\n",
            "217 block6d_project_conv\n",
            "218 block6d_project_bn\n",
            "219 block6d_drop\n",
            "220 block6d_add\n",
            "221 block7a_expand_conv\n",
            "222 block7a_expand_bn\n",
            "223 block7a_expand_activation\n",
            "224 block7a_dwconv\n",
            "225 block7a_bn\n",
            "226 block7a_activation\n",
            "227 block7a_se_squeeze\n",
            "228 block7a_se_reshape\n",
            "229 block7a_se_reduce\n",
            "230 block7a_se_expand\n",
            "231 block7a_se_excite\n",
            "232 block7a_project_conv\n",
            "233 block7a_project_bn\n",
            "234 top_conv\n",
            "235 top_bn\n",
            "236 top_activation\n"
          ]
        }
      ]
    },
    {
      "cell_type": "code",
      "source": [
        "# Summary of our whole model\n",
        "model_0.summary()"
      ],
      "metadata": {
        "id": "0_nl6M4oYhYA",
        "outputId": "1c2c080b-8b20-4ca5-f36a-3981fd6d219a",
        "colab": {
          "base_uri": "https://localhost:8080/"
        }
      },
      "execution_count": 17,
      "outputs": [
        {
          "output_type": "stream",
          "name": "stdout",
          "text": [
            "Model: \"model_1\"\n",
            "_________________________________________________________________\n",
            " Layer (type)                Output Shape              Param #   \n",
            "=================================================================\n",
            " input_layer (InputLayer)    [(None, 224, 224, 3)]     0         \n",
            "                                                                 \n",
            " efficientnetb0 (Functional)  (None, None, None, 1280)  4049571  \n",
            "                                                                 \n",
            " global_average_pooling_laye  (None, 1280)             0         \n",
            " r (GlobalAveragePooling2D)                                      \n",
            "                                                                 \n",
            " output_layer (Dense)        (None, 10)                12810     \n",
            "                                                                 \n",
            "=================================================================\n",
            "Total params: 4,062,381\n",
            "Trainable params: 12,810\n",
            "Non-trainable params: 4,049,571\n",
            "_________________________________________________________________\n"
          ]
        }
      ]
    },
    {
      "cell_type": "code",
      "source": [
        "# Check out our model's training curves\n",
        "plot_loss_curves(history_10_percent)"
      ],
      "metadata": {
        "id": "tsxCJlpLZPom",
        "outputId": "efdc17d0-f494-42cc-cee1-62b8309f6e05",
        "colab": {
          "base_uri": "https://localhost:8080/",
          "height": 573
        }
      },
      "execution_count": 18,
      "outputs": [
        {
          "output_type": "display_data",
          "data": {
            "image/png": "[encoded data removed]",
            "text/plain": [
              "<Figure size 432x288 with 1 Axes>"
            ]
          },
          "metadata": {
            "needs_background": "light"
          }
        },
        {
          "output_type": "display_data",
          "data": {
            "image/png": "[encoded data removed]",
            "text/plain": [
              "<Figure size 432x288 with 1 Axes>"
            ]
          },
          "metadata": {
            "needs_background": "light"
          }
        }
      ]
    },
    {
      "cell_type": "markdown",
      "source": [
        "## Get a feature vector from a trained model\n",
        "\n",
        "Let's demonstrate the Global Average Pooling 2D layer\n",
        "\n",
        "We have a tensor after our model goes through 'base model' of \n",
        "shape(None, 7, 7, 1280) \n",
        "\n",
        "But when it passes through GlobalAveragePooling2D, it turns into \n",
        "shape(None, 1280)..\n",
        "\n",
        "Let's use a similar shaped tensor of (1, 4, 4, 3) and then pass it\n",
        "to GlobalAveragePooling2D.\n"
      ],
      "metadata": {
        "id": "dKy8tPOTZqLh"
      }
    },
    {
      "cell_type": "code",
      "source": [
        "# Define the input shape\n",
        "input_shape = (1, 4, 4, 3)\n",
        "\n",
        "# Create a random tensor\n",
        "tf.random.set_seed(42)\n",
        "input_tensor = tf.random.normal(input_shape)\n",
        "print(f\"Random input tensor:\\n{input_tensor}\\n\")"
      ],
      "metadata": {
        "id": "aJgCViaTaHov",
        "outputId": "b258cce3-3c99-4d1b-dc35-d6e9d0d68f2f",
        "colab": {
          "base_uri": "https://localhost:8080/"
        }
      },
      "execution_count": 19,
      "outputs": [
        {
          "output_type": "stream",
          "name": "stdout",
          "text": [
            "Random input tensor:\n",
            "[[[[ 0.3274685  -0.8426258   0.3194337 ]\n",
            "   [-1.4075519  -2.3880599  -1.0392479 ]\n",
            "   [-0.5573232   0.539707    1.6994323 ]\n",
            "   [ 0.28893656 -1.5066116  -0.2645474 ]]\n",
            "\n",
            "  [[-0.59722406 -1.9171132  -0.62044144]\n",
            "   [ 0.8504023  -0.40604794 -3.0258412 ]\n",
            "   [ 0.9058464   0.29855987 -0.22561555]\n",
            "   [-0.7616443  -1.8917141  -0.93847126]]\n",
            "\n",
            "  [[ 0.77852213 -0.47338897  0.97772694]\n",
            "   [ 0.24694404  0.20573747 -0.5256233 ]\n",
            "   [ 0.32410017  0.02545409 -0.10638497]\n",
            "   [-0.6369475   1.1603122   0.2507359 ]]\n",
            "\n",
            "  [[-0.41728503  0.4012578  -1.4145443 ]\n",
            "   [-0.5931857  -1.6617213   0.33567193]\n",
            "   [ 0.10815629  0.23479682 -0.56668764]\n",
            "   [-0.35819843  0.88698614  0.52744764]]]]\n",
            "\n"
          ]
        }
      ]
    },
    {
      "cell_type": "code",
      "source": [
        "# pass the random tensor through a global average pooling 2D layer\n",
        "global_average_pooled_tensor = tf.keras.layers.GlobalAveragePooling2D()(input_tensor) # Passing the input_tensor after the layer\n",
        "print(f\"2D global average pooled random tensor:\\n {global_average_pooled_tensor}\\n\")"
      ],
      "metadata": {
        "id": "LiwCBWFmcUCK",
        "outputId": "855c8319-4957-40da-ea3c-05ce39304480",
        "colab": {
          "base_uri": "https://localhost:8080/"
        }
      },
      "execution_count": 20,
      "outputs": [
        {
          "output_type": "stream",
          "name": "stdout",
          "text": [
            "2D global average pooled random tensor:\n",
            " [[-0.09368646 -0.45840448 -0.2885598 ]]\n",
            "\n"
          ]
        }
      ]
    },
    {
      "cell_type": "code",
      "source": [
        "# Check the shapes of different tensors\n",
        "print(f\"Shape of input tensor: {input_tensor.shape}\")\n",
        "print(f\"Shape of the global average pooled 2D tensor : {global_average_pooled_tensor}\")"
      ],
      "metadata": {
        "id": "CghgbgSudtOu",
        "outputId": "3c07beca-41c0-40eb-b261-9bf75d841256",
        "colab": {
          "base_uri": "https://localhost:8080/"
        }
      },
      "execution_count": 21,
      "outputs": [
        {
          "output_type": "stream",
          "name": "stdout",
          "text": [
            "Shape of input tensor: (1, 4, 4, 3)\n",
            "Shape of the global average pooled 2D tensor : [[-0.09368646 -0.45840448 -0.2885598 ]]\n"
          ]
        }
      ]
    },
    {
      "cell_type": "code",
      "source": [
        "# Let's replicate the GlobalAveragePooling2D layer\n",
        "tf.reduce_mean(input_tensor, axis=[1,2])"
      ],
      "metadata": {
        "id": "M0FsazsgeUCg",
        "outputId": "b50fa5ab-76b5-44df-e9bd-cdce0174a8e0",
        "colab": {
          "base_uri": "https://localhost:8080/"
        }
      },
      "execution_count": 22,
      "outputs": [
        {
          "output_type": "execute_result",
          "data": {
            "text/plain": [
              "<tf.Tensor: shape=(1, 3), dtype=float32, numpy=array([[-0.09368646, -0.45840448, -0.2885598 ]], dtype=float32)>"
            ]
          },
          "metadata": {},
          "execution_count": 22
        }
      ]
    },
    {
      "cell_type": "markdown",
      "source": [
        "## Feature Vector\n",
        "\n",
        "**What is a feature vector?**\n",
        "\n",
        "Ans : A feature vector is a learned representation of the input data(a compressed form of the input data based on how model see's it)\n",
        "\n",
        "We've seen the incredible results transfer learning can get with only 10% of the training data, but how does it goes with **1%** of the training data... how about we setup a bunch of experiments to find out:\n",
        "\n",
        "1. 'model_1' - use feature extraction transfer learning with 1% of data with data augmentation\n",
        "\n",
        "2. 'model_2' - use feature extraction transfer learning with 10% of the training data with data augmentation \n",
        "\n",
        "3. 'model_3' - use **fine-tuning** transfer learning on 10% of the training data with data augmentation.\n",
        "\n",
        "4. 'model_4' - use fine-tuning transfer learning on 100% of the training data with data augmentation. \n",
        "\n",
        "\n",
        "Note: throught all experiments the same test dataset will be used to evaluate our model.... this ensure consistency across evaluation metrics."
      ],
      "metadata": {
        "id": "jyzbChGIfoAN"
      }
    },
    {
      "cell_type": "code",
      "source": [
        "# Download and unzip the data -  preprocessed from Food101\n",
        "!wget https://storage.googleapis.com/ztm_tf_course/food_vision/10_food_classes_1_percent.zip\n",
        "\n",
        "unzip_data(\"10_food_classes_1_percent.zip\")"
      ],
      "metadata": {
        "id": "xaMeLgOHq0L4",
        "outputId": "1642a089-d068-4601-bbdf-a496c4aa66cd",
        "colab": {
          "base_uri": "https://localhost:8080/"
        }
      },
      "execution_count": 23,
      "outputs": [
        {
          "output_type": "stream",
          "name": "stdout",
          "text": [
            "--2022-02-21 05:29:26--  https://storage.googleapis.com/ztm_tf_course/food_vision/10_food_classes_1_percent.zip\n",
            "Resolving storage.googleapis.com (storage.googleapis.com)... 74.125.140.128, 108.177.15.128, 173.194.76.128, ...\n",
            "Connecting to storage.googleapis.com (storage.googleapis.com)|74.125.140.128|:443... connected.\n",
            "HTTP request sent, awaiting response... 200 OK\n",
            "Length: 133612354 (127M) [application/zip]\n",
            "Saving to: ‘10_food_classes_1_percent.zip’\n",
            "\n",
            "10_food_classes_1_p 100%[===================>] 127.42M  92.3MB/s    in 1.4s    \n",
            "\n",
            "2022-02-21 05:29:28 (92.3 MB/s) - ‘10_food_classes_1_percent.zip’ saved [133612354/133612354]\n",
            "\n"
          ]
        }
      ]
    },
    {
      "cell_type": "code",
      "source": [
        "# Create train and test dirs \n",
        "train_dir_1_percent = \"10_food_classes_1_percent/train\"\n",
        "test_dir = \"10_food_classes_1_percent/test\""
      ],
      "metadata": {
        "id": "6341dTxbsQAe"
      },
      "execution_count": 24,
      "outputs": []
    },
    {
      "cell_type": "code",
      "source": [
        "# How many images are we working with ?\n",
        "walk_through_dir(\"10_food_classes_1_percent\")"
      ],
      "metadata": {
        "id": "ijDnS96NsqUx",
        "outputId": "81e81b35-a882-469b-ddc4-2474caac45c8",
        "colab": {
          "base_uri": "https://localhost:8080/"
        }
      },
      "execution_count": 25,
      "outputs": [
        {
          "output_type": "stream",
          "name": "stdout",
          "text": [
            "There are 2 directories and 0 images in '10_food_classes_1_percent'.\n",
            "There are 10 directories and 0 images in '10_food_classes_1_percent/train'.\n",
            "There are 0 directories and 7 images in '10_food_classes_1_percent/train/pizza'.\n",
            "There are 0 directories and 7 images in '10_food_classes_1_percent/train/fried_rice'.\n",
            "There are 0 directories and 7 images in '10_food_classes_1_percent/train/grilled_salmon'.\n",
            "There are 0 directories and 7 images in '10_food_classes_1_percent/train/hamburger'.\n",
            "There are 0 directories and 7 images in '10_food_classes_1_percent/train/steak'.\n",
            "There are 0 directories and 7 images in '10_food_classes_1_percent/train/sushi'.\n",
            "There are 0 directories and 7 images in '10_food_classes_1_percent/train/chicken_wings'.\n",
            "There are 0 directories and 7 images in '10_food_classes_1_percent/train/ramen'.\n",
            "There are 0 directories and 7 images in '10_food_classes_1_percent/train/ice_cream'.\n",
            "There are 0 directories and 7 images in '10_food_classes_1_percent/train/chicken_curry'.\n",
            "There are 10 directories and 0 images in '10_food_classes_1_percent/test'.\n",
            "There are 0 directories and 250 images in '10_food_classes_1_percent/test/pizza'.\n",
            "There are 0 directories and 250 images in '10_food_classes_1_percent/test/fried_rice'.\n",
            "There are 0 directories and 250 images in '10_food_classes_1_percent/test/grilled_salmon'.\n",
            "There are 0 directories and 250 images in '10_food_classes_1_percent/test/hamburger'.\n",
            "There are 0 directories and 250 images in '10_food_classes_1_percent/test/steak'.\n",
            "There are 0 directories and 250 images in '10_food_classes_1_percent/test/sushi'.\n",
            "There are 0 directories and 250 images in '10_food_classes_1_percent/test/chicken_wings'.\n",
            "There are 0 directories and 250 images in '10_food_classes_1_percent/test/ramen'.\n",
            "There are 0 directories and 250 images in '10_food_classes_1_percent/test/ice_cream'.\n",
            "There are 0 directories and 250 images in '10_food_classes_1_percent/test/chicken_curry'.\n"
          ]
        }
      ]
    },
    {
      "cell_type": "code",
      "source": [
        "# Set up the data loaders\n",
        "IMG_SIZE = (224,224)\n",
        "train_data_1_percent = tf.keras.preprocessing.image_dataset_from_directory(train_dir_1_percent,\n",
        "                                                                           label_mode='categorical',\n",
        "                                                                           image_size=IMG_SIZE,\n",
        "                                                                           batch_size=BATCH_SIZE)\n",
        "\n",
        "test_data = tf.keras.preprocessing.image_dataset_from_directory(test_dir,\n",
        "                                                                label_mode='categorical',\n",
        "                                                                image_size=IMG_SIZE,\n",
        "                                                                batch_size=BATCH_SIZE)"
      ],
      "metadata": {
        "id": "1aXLEILn7xF3",
        "outputId": "e65cabe1-11b4-44e1-d9f2-c9f2f8f67f03",
        "colab": {
          "base_uri": "https://localhost:8080/"
        }
      },
      "execution_count": 26,
      "outputs": [
        {
          "output_type": "stream",
          "name": "stdout",
          "text": [
            "Found 70 files belonging to 10 classes.\n",
            "Found 2500 files belonging to 10 classes.\n"
          ]
        }
      ]
    },
    {
      "cell_type": "markdown",
      "source": [
        "* Adding data augmentation right into the model\n",
        "\n",
        "   To add the data augmentation right into our models, we can use the layers   inside:\n",
        "   * tf.keras.layers.experimental.preprocessing()\n",
        "\n",
        "* Benefits of in-layer data augmentation\n",
        "\n",
        "There are two important points to be aware of in this case:\n",
        "\n",
        "* Data augmentation will run on-device, synchronously with the rest of your layers, and benefit from GPU acceleration.\n",
        "\n",
        "* When you export your model using **model.save**, the preprocessing layers will be saved along with the rest of your model. If you later deploy this model, it will automatically standardize images (according to the configuration of your layers). This can save you from the effort of having to reimplement that logic server-side.\n",
        "\n",
        "\n"
      ],
      "metadata": {
        "id": "6QNsgSXW8tSD"
      }
    },
    {
      "cell_type": "code",
      "source": [
        "import tensorflow as tf\n",
        "from tensorflow import keras\n",
        "from tensorflow.keras import layers\n",
        "from tensorflow.keras.layers.experimental import preprocessing\n",
        "\n",
        "# Create data augmentation stage with horizontal flipping, rotation, zooms etc..\n",
        "data_augmentation = keras.Sequential([\n",
        " preprocessing.RandomFlip(\"horizontal\"),\n",
        " preprocessing.RandomRotation(0.2),\n",
        " preprocessing.RandomZoom(0.2),\n",
        " preprocessing.RandomHeight(0.2),\n",
        " preprocessing.RandomWidth(0.2),\n",
        " # preprocessing.Rescale(1./255) # Keep for models like ResNet50V2 but EfficientNet's having rescaling built-in                                      \n",
        "], name=\"data_augmentation\")"
      ],
      "metadata": {
        "id": "zdzY8H8g94Bb"
      },
      "execution_count": 27,
      "outputs": []
    },
    {
      "cell_type": "markdown",
      "source": [
        "## Visualize out data augmentation layer"
      ],
      "metadata": {
        "id": "XX0PhuCjA5VC"
      }
    },
    {
      "cell_type": "code",
      "source": [
        "# View a random image and compare it to it's augmented version\n",
        "import matplotlib.pyplot as plt\n",
        "import matplotlib.image as mpimg\n",
        "import os\n",
        "import random\n",
        "\n",
        "target_class = random.choice(train_data_1_percent.class_names)\n",
        "target_dir = \"10_food_classes_1_percent/train/\" + target_class\n",
        "print(target_dir)"
      ],
      "metadata": {
        "id": "Ih9pVTELKBvI",
        "outputId": "d53b684a-d8af-43fc-e72c-192d87792bef",
        "colab": {
          "base_uri": "https://localhost:8080/"
        }
      },
      "execution_count": 28,
      "outputs": [
        {
          "output_type": "stream",
          "name": "stdout",
          "text": [
            "10_food_classes_1_percent/train/chicken_wings\n"
          ]
        }
      ]
    },
    {
      "cell_type": "code",
      "source": [
        "random_image = random.choice(os.listdir(target_dir))\n",
        "random_image_path = target_dir + \"/\" + random_image\n",
        "print(random_image_path)"
      ],
      "metadata": {
        "id": "5GDQ8SbHKtYp",
        "outputId": "a6549fae-1af4-4054-9058-8fcb226bb0a9",
        "colab": {
          "base_uri": "https://localhost:8080/"
        }
      },
      "execution_count": 29,
      "outputs": [
        {
          "output_type": "stream",
          "name": "stdout",
          "text": [
            "10_food_classes_1_percent/train/chicken_wings/1528703.jpg\n"
          ]
        }
      ]
    },
    {
      "cell_type": "code",
      "source": [
        "# Visualize the random image\n",
        "img = mpimg.imread(random_image_path)\n",
        "print(img)\n",
        "plt.imshow(img)\n",
        "plt.title(f'Original random image from class : {target_class}')\n",
        "#plt.axis(emit=False)"
      ],
      "metadata": {
        "id": "8qWKrvOvLqbF",
        "outputId": "723599a7-97ee-499e-b5a0-5878d21f61c3",
        "colab": {
          "base_uri": "https://localhost:8080/",
          "height": 1000
        }
      },
      "execution_count": 30,
      "outputs": [
        {
          "output_type": "stream",
          "name": "stdout",
          "text": [
            "[[[ 15   0   0]\n",
            "  [ 19   6   0]\n",
            "  [ 18   8   0]\n",
            "  ...\n",
            "  [ 67  71  34]\n",
            "  [ 63  69  35]\n",
            "  [ 51  58  27]]\n",
            "\n",
            " [[ 15   0   0]\n",
            "  [ 18   5   0]\n",
            "  [ 16   6   0]\n",
            "  ...\n",
            "  [ 68  72  35]\n",
            "  [ 64  70  36]\n",
            "  [ 52  59  28]]\n",
            "\n",
            " [[ 17   4   0]\n",
            "  [ 17   6   0]\n",
            "  [ 14   5   0]\n",
            "  ...\n",
            "  [ 66  72  34]\n",
            "  [ 62  69  36]\n",
            "  [ 51  58  27]]\n",
            "\n",
            " ...\n",
            "\n",
            " [[114 126 116]\n",
            "  [118 130 120]\n",
            "  [120 132 122]\n",
            "  ...\n",
            "  [125 156 210]\n",
            "  [126 156 210]\n",
            "  [126 155 211]]\n",
            "\n",
            " [[117 130 120]\n",
            "  [117 130 120]\n",
            "  [119 132 122]\n",
            "  ...\n",
            "  [123 154 208]\n",
            "  [126 156 210]\n",
            "  [129 159 213]]\n",
            "\n",
            " [[118 131 121]\n",
            "  [116 129 119]\n",
            "  [117 130 120]\n",
            "  ...\n",
            "  [121 153 204]\n",
            "  [126 156 210]\n",
            "  [131 161 215]]]\n"
          ]
        },
        {
          "output_type": "execute_result",
          "data": {
            "text/plain": [
              "Text(0.5, 1.0, 'Original random image from class : chicken_wings')"
            ]
          },
          "metadata": {},
          "execution_count": 30
        },
        {
          "output_type": "display_data",
          "data": {
            "image/png": "[encoded data removed]",
            "text/plain": [
              "<Figure size 432x288 with 1 Axes>"
            ]
          },
          "metadata": {
            "needs_background": "light"
          }
        }
      ]
    },
    {
      "cell_type": "code",
      "source": [
        "# Now let's plot our augmented image\n",
        "augmented_image = data_augmentation(tf.expand_dims(img, axis=0))\n",
        "plt.figure()\n",
        "plt.imshow(tf.squeeze(augmented_image)/255.) #  \n",
        "plt.title(f\"Augmented random image from class: {target_class}\")\n",
        "#plt.axis(False)"
      ],
      "metadata": {
        "id": "Gas_vdlzMLPG",
        "outputId": "2b78568d-076c-47b7-aa42-fdea705b4ade",
        "colab": {
          "base_uri": "https://localhost:8080/",
          "height": 298
        }
      },
      "execution_count": 31,
      "outputs": [
        {
          "output_type": "execute_result",
          "data": {
            "text/plain": [
              "Text(0.5, 1.0, 'Augmented random image from class: chicken_wings')"
            ]
          },
          "metadata": {},
          "execution_count": 31
        },
        {
          "output_type": "display_data",
          "data": {
            "image/png": "[encoded data removed]",
            "text/plain": [
              "<Figure size 432x288 with 1 Axes>"
            ]
          },
          "metadata": {
            "needs_background": "light"
          }
        }
      ]
    },
    {
      "cell_type": "markdown",
      "source": [
        "## Model 1 : Feature extraction transfer learning on 1% of the data with data augmentation (only 7 images per class for training)"
      ],
      "metadata": {
        "id": "RDy9A50zNtcn"
      }
    },
    {
      "cell_type": "code",
      "source": [
        "#Setup input shape and base model, freezing the base model layers\n",
        "input_shape = (224,224,3)\n",
        "\n",
        "# Create the base model\n",
        "base_model = tf.keras.applications.EfficientNetB0(include_top=False)\n",
        "base_model.trainable = False # Keeping the transfer learning base model intact\n",
        "\n",
        "# Create the input layer\n",
        "inputs = layers.Input(shape=input_shape, name=\"input_layer\")\n",
        "\n",
        "# Add in the data augmentation Sequential model as layer\n",
        "x = data_augmentation(inputs)\n",
        "\n",
        "# Give base model the inputs (after augmentation) and don't train it\n",
        "x = base_model(x, training=False)\n",
        "\n",
        "# Pool output features of the base model\n",
        "x = layers.GlobalAveragePooling2D(name=\"global_average_pooling_layer\")(x) # passing the input to the model api class\n",
        "\n",
        "# Puta  dense layer on as the output \n",
        "outputs = layers.Dense(10, activation=\"softmax\", name=\"output_layer\")(x)\n",
        "\n",
        "# Make a model using the inputs and outputs\n",
        "model_1 = keras.Model(inputs,outputs)\n",
        "\n",
        "# Compile the model\n",
        "model_1.compile(loss=\"categorical_crossentropy\", \n",
        "                optimizer=tf.keras.optimizers.Adam(),\n",
        "                metrics=[\"accuracy\"])\n",
        "\n",
        "# Fit the model\n",
        "history_1_percent = model_1.fit(train_data_1_percent,\n",
        "                                epochs=5,\n",
        "                                steps_per_epoch=len(train_data_1_percent),\n",
        "                                validation_data=test_data,\n",
        "                                validation_steps=int(0.25 * len(test_data)),\n",
        "                                # Track model training logs\n",
        "                                callbacks=[create_tensorboard_callback(dir_name=\"transfer_learninig\",\n",
        "                                                                       experiment_name=\"1_percent_data_aug\")]) # from helper functions                                                                       \n",
        "                                                                       "
      ],
      "metadata": {
        "id": "1RznPvmzpnlJ",
        "outputId": "346417e4-d564-42e5-dab0-d237bd05cdb3",
        "colab": {
          "base_uri": "https://localhost:8080/"
        }
      },
      "execution_count": 32,
      "outputs": [
        {
          "output_type": "stream",
          "name": "stdout",
          "text": [
            "Saving TensorBoard log files to: transfer_learninig/1_percent_data_aug/20220221-052934\n",
            "Epoch 1/5\n",
            "3/3 [==============================] - 15s 3s/step - loss: 2.4025 - accuracy: 0.1286 - val_loss: 2.2437 - val_accuracy: 0.1645\n",
            "Epoch 2/5\n",
            "3/3 [==============================] - 7s 3s/step - loss: 2.1652 - accuracy: 0.3000 - val_loss: 2.1229 - val_accuracy: 0.2401\n",
            "Epoch 3/5\n",
            "3/3 [==============================] - 5s 2s/step - loss: 1.9781 - accuracy: 0.4286 - val_loss: 2.0320 - val_accuracy: 0.3191\n",
            "Epoch 4/5\n",
            "3/3 [==============================] - 7s 3s/step - loss: 1.8394 - accuracy: 0.5143 - val_loss: 1.9395 - val_accuracy: 0.3586\n",
            "Epoch 5/5\n",
            "3/3 [==============================] - 6s 2s/step - loss: 1.6775 - accuracy: 0.6429 - val_loss: 1.8570 - val_accuracy: 0.4095\n"
          ]
        }
      ]
    },
    {
      "cell_type": "code",
      "source": [
        "# Check out the model summary\n",
        "model_1.summary()"
      ],
      "metadata": {
        "id": "iU3MgNGIqBbj",
        "outputId": "1c22f92f-dcac-4fbe-a190-71b239d4701d",
        "colab": {
          "base_uri": "https://localhost:8080/"
        }
      },
      "execution_count": 33,
      "outputs": [
        {
          "output_type": "stream",
          "name": "stdout",
          "text": [
            "Model: \"model_2\"\n",
            "_________________________________________________________________\n",
            " Layer (type)                Output Shape              Param #   \n",
            "=================================================================\n",
            " input_layer (InputLayer)    [(None, 224, 224, 3)]     0         \n",
            "                                                                 \n",
            " data_augmentation (Sequenti  (None, None, None, 3)    0         \n",
            " al)                                                             \n",
            "                                                                 \n",
            " efficientnetb0 (Functional)  (None, None, None, 1280)  4049571  \n",
            "                                                                 \n",
            " global_average_pooling_laye  (None, 1280)             0         \n",
            " r (GlobalAveragePooling2D)                                      \n",
            "                                                                 \n",
            " output_layer (Dense)        (None, 10)                12810     \n",
            "                                                                 \n",
            "=================================================================\n",
            "Total params: 4,062,381\n",
            "Trainable params: 12,810\n",
            "Non-trainable params: 4,049,571\n",
            "_________________________________________________________________\n"
          ]
        }
      ]
    },
    {
      "cell_type": "code",
      "source": [
        ""
      ],
      "metadata": {
        "id": "OgNoP7PYw4r2"
      },
      "execution_count": null,
      "outputs": []
    }
  ]
}