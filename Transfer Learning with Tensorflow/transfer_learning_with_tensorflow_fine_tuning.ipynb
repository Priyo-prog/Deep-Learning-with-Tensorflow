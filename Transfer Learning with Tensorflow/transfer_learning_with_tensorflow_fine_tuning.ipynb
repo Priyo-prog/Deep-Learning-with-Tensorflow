{
  "nbformat": 4,
  "nbformat_minor": 0,
  "metadata": {
    "colab": {
      "name": "transfer_learning_with_tensorflow_fine_tuning.ipynb",
      "provenance": [],
      "toc_visible": true,
      "authorship_tag": "ABX9TyNrpVrwPIQVSFeVWrOP/KUy",
      "include_colab_link": true
    },
    "kernelspec": {
      "name": "python3",
      "display_name": "Python 3"
    },
    "language_info": {
      "name": "python"
    },
    "accelerator": "GPU"
  },
  "cells": [
    {
      "cell_type": "markdown",
      "metadata": {
        "id": "view-in-github",
        "colab_type": "text"
      },
      "source": [
        "<a href=\"https://colab.research.google.com/github/Priyo-prog/Deep-Learning-with-Tensorflow/blob/main/Transfer%20Learning%20with%20Tensorflow/transfer_learning_with_tensorflow_fine_tuning.ipynb\" target=\"_parent\"><img src=\"https://colab.research.google.com/assets/colab-badge.svg\" alt=\"Open In Colab\"/></a>"
      ]
    },
    {
      "cell_type": "markdown",
      "source": [
        "# **Transfer Learning with TensorFlow part 2: Fine Tuning**"
      ],
      "metadata": {
        "id": "BGZczUMg-gwo"
      }
    },
    {
      "cell_type": "code",
      "source": [
        "# Check the GPU we are using \n",
        "!nvidia-smi"
      ],
      "metadata": {
        "id": "GZl1cM8r_MjG",
        "outputId": "39346550-6caf-4315-cd20-1e1f6a4b7529",
        "colab": {
          "base_uri": "https://localhost:8080/"
        }
      },
      "execution_count": 1,
      "outputs": [
        {
          "output_type": "stream",
          "name": "stdout",
          "text": [
            "Tue Feb  8 03:12:58 2022       \n",
            "+-----------------------------------------------------------------------------+\n",
            "| NVIDIA-SMI 460.32.03    Driver Version: 460.32.03    CUDA Version: 11.2     |\n",
            "|-------------------------------+----------------------+----------------------+\n",
            "| GPU  Name        Persistence-M| Bus-Id        Disp.A | Volatile Uncorr. ECC |\n",
            "| Fan  Temp  Perf  Pwr:Usage/Cap|         Memory-Usage | GPU-Util  Compute M. |\n",
            "|                               |                      |               MIG M. |\n",
            "|===============================+======================+======================|\n",
            "|   0  Tesla T4            Off  | 00000000:00:04.0 Off |                    0 |\n",
            "| N/A   35C    P8     9W /  70W |      0MiB / 15109MiB |      0%      Default |\n",
            "|                               |                      |                  N/A |\n",
            "+-------------------------------+----------------------+----------------------+\n",
            "                                                                               \n",
            "+-----------------------------------------------------------------------------+\n",
            "| Processes:                                                                  |\n",
            "|  GPU   GI   CI        PID   Type   Process name                  GPU Memory |\n",
            "|        ID   ID                                                   Usage      |\n",
            "|=============================================================================|\n",
            "|  No running processes found                                                 |\n",
            "+-----------------------------------------------------------------------------+\n"
          ]
        }
      ]
    },
    {
      "cell_type": "markdown",
      "source": [
        "## Getting the helper function"
      ],
      "metadata": {
        "id": "OKnzfm5lBXFo"
      }
    },
    {
      "cell_type": "code",
      "source": [
        "!wget https://raw.githubusercontent.com/mrdbourke/tensorflow-deep-learning/main/extras/helper_functions.py"
      ],
      "metadata": {
        "id": "9A2P10YE_qKR",
        "outputId": "3936c36b-8d7d-4d12-8e0b-a8ced084caad",
        "colab": {
          "base_uri": "https://localhost:8080/"
        }
      },
      "execution_count": 2,
      "outputs": [
        {
          "output_type": "stream",
          "name": "stdout",
          "text": [
            "--2022-02-08 03:12:59--  https://raw.githubusercontent.com/mrdbourke/tensorflow-deep-learning/main/extras/helper_functions.py\n",
            "Resolving raw.githubusercontent.com (raw.githubusercontent.com)... 185.199.110.133, 185.199.109.133, 185.199.111.133, ...\n",
            "Connecting to raw.githubusercontent.com (raw.githubusercontent.com)|185.199.110.133|:443... connected.\n",
            "HTTP request sent, awaiting response... 200 OK\n",
            "Length: 10246 (10K) [text/plain]\n",
            "Saving to: ‘helper_functions.py’\n",
            "\n",
            "helper_functions.py 100%[===================>]  10.01K  --.-KB/s    in 0s      \n",
            "\n",
            "2022-02-08 03:12:59 (62.5 MB/s) - ‘helper_functions.py’ saved [10246/10246]\n",
            "\n"
          ]
        }
      ]
    },
    {
      "cell_type": "code",
      "source": [
        "# Import the helper functions we are going to use in this notebook\n",
        "from helper_functions import create_tensorboard_callback, plot_loss_curves, unzip_data, walk_through_dir"
      ],
      "metadata": {
        "id": "l3yw31xGBLrL"
      },
      "execution_count": 3,
      "outputs": []
    },
    {
      "cell_type": "markdown",
      "source": [
        "## Get the data\n",
        "\n",
        "This time we are going to see how we can use the pretrained models within 'tf.keras.applications' and apply them to our problem"
      ],
      "metadata": {
        "id": "dz2pGRf_wVIL"
      }
    },
    {
      "cell_type": "code",
      "source": [
        "# Get the 10% of training data of 10 classes of Food101\n",
        "!wget https://storage.googleapis.com/ztm_tf_course/food_vision/10_food_classes_10_percent.zip\n",
        "\n",
        "unzip_data(\"10_food_classes_10_percent.zip\")"
      ],
      "metadata": {
        "colab": {
          "base_uri": "https://localhost:8080/"
        },
        "id": "rX5STlEFw9n4",
        "outputId": "8124750d-8406-46ee-c320-f528bc46f4f8"
      },
      "execution_count": 4,
      "outputs": [
        {
          "output_type": "stream",
          "name": "stdout",
          "text": [
            "--2022-02-08 03:13:01--  https://storage.googleapis.com/ztm_tf_course/food_vision/10_food_classes_10_percent.zip\n",
            "Resolving storage.googleapis.com (storage.googleapis.com)... 173.194.216.128, 173.194.217.128, 173.194.218.128, ...\n",
            "Connecting to storage.googleapis.com (storage.googleapis.com)|173.194.216.128|:443... connected.\n",
            "HTTP request sent, awaiting response... 200 OK\n",
            "Length: 168546183 (161M) [application/zip]\n",
            "Saving to: ‘10_food_classes_10_percent.zip’\n",
            "\n",
            "10_food_classes_10_ 100%[===================>] 160.74M  88.2MB/s    in 1.8s    \n",
            "\n",
            "2022-02-08 03:13:03 (88.2 MB/s) - ‘10_food_classes_10_percent.zip’ saved [168546183/168546183]\n",
            "\n"
          ]
        }
      ]
    },
    {
      "cell_type": "code",
      "source": [
        "# Check out how many images and subdirectories are in our dataset\n",
        "walk_through_dir(\"10_food_classes_10_percent\")"
      ],
      "metadata": {
        "colab": {
          "base_uri": "https://localhost:8080/"
        },
        "id": "JjCYVSl-xMmv",
        "outputId": "c1337bed-b786-4ceb-e893-ace42e874a6a"
      },
      "execution_count": 5,
      "outputs": [
        {
          "output_type": "stream",
          "name": "stdout",
          "text": [
            "There are 2 directories and 0 images in '10_food_classes_10_percent'.\n",
            "There are 10 directories and 0 images in '10_food_classes_10_percent/test'.\n",
            "There are 0 directories and 250 images in '10_food_classes_10_percent/test/fried_rice'.\n",
            "There are 0 directories and 250 images in '10_food_classes_10_percent/test/sushi'.\n",
            "There are 0 directories and 250 images in '10_food_classes_10_percent/test/pizza'.\n",
            "There are 0 directories and 250 images in '10_food_classes_10_percent/test/ramen'.\n",
            "There are 0 directories and 250 images in '10_food_classes_10_percent/test/chicken_curry'.\n",
            "There are 0 directories and 250 images in '10_food_classes_10_percent/test/hamburger'.\n",
            "There are 0 directories and 250 images in '10_food_classes_10_percent/test/grilled_salmon'.\n",
            "There are 0 directories and 250 images in '10_food_classes_10_percent/test/ice_cream'.\n",
            "There are 0 directories and 250 images in '10_food_classes_10_percent/test/chicken_wings'.\n",
            "There are 0 directories and 250 images in '10_food_classes_10_percent/test/steak'.\n",
            "There are 10 directories and 0 images in '10_food_classes_10_percent/train'.\n",
            "There are 0 directories and 75 images in '10_food_classes_10_percent/train/fried_rice'.\n",
            "There are 0 directories and 75 images in '10_food_classes_10_percent/train/sushi'.\n",
            "There are 0 directories and 75 images in '10_food_classes_10_percent/train/pizza'.\n",
            "There are 0 directories and 75 images in '10_food_classes_10_percent/train/ramen'.\n",
            "There are 0 directories and 75 images in '10_food_classes_10_percent/train/chicken_curry'.\n",
            "There are 0 directories and 75 images in '10_food_classes_10_percent/train/hamburger'.\n",
            "There are 0 directories and 75 images in '10_food_classes_10_percent/train/grilled_salmon'.\n",
            "There are 0 directories and 75 images in '10_food_classes_10_percent/train/ice_cream'.\n",
            "There are 0 directories and 75 images in '10_food_classes_10_percent/train/chicken_wings'.\n",
            "There are 0 directories and 75 images in '10_food_classes_10_percent/train/steak'.\n"
          ]
        }
      ]
    },
    {
      "cell_type": "code",
      "source": [
        "# Create training and test directories paths\n",
        "train_dir = \"10_food_classes_10_percent/train\"\n",
        "test_data = \"10_food_classes_10_percent/test\""
      ],
      "metadata": {
        "id": "F-B60cX6xzaG"
      },
      "execution_count": 6,
      "outputs": []
    },
    {
      "cell_type": "code",
      "source": [
        "import tensorflow as tf\n",
        "\n",
        "IMG_SIZE = (224,224)\n",
        "BATCH_SIZE = 32\n",
        "train_data_10_percent = tf.keras.preprocessing.image_dataset_from_directory(directory=train_dir,\n",
        "                                                                            image_size=IMG_SIZE,\n",
        "                                                                            label_mode=\"categorical\",\n",
        "                                                                            batch_size=BATCH_SIZE)\n",
        "\n",
        "test_data = tf.keras.preprocessing.image_dataset_from_directory(directory=test_data,\n",
        "                                                                image_size=IMG_SIZE,\n",
        "                                                                label_mode=\"categorical\",\n",
        "                                                                batch_size=BATCH_SIZE)"
      ],
      "metadata": {
        "colab": {
          "base_uri": "https://localhost:8080/"
        },
        "id": "vDmUbdU_yXvF",
        "outputId": "f4d70bf8-4289-4254-ee89-28e478865343"
      },
      "execution_count": 7,
      "outputs": [
        {
          "output_type": "stream",
          "name": "stdout",
          "text": [
            "Found 750 files belonging to 10 classes.\n",
            "Found 2500 files belonging to 10 classes.\n"
          ]
        }
      ]
    },
    {
      "cell_type": "code",
      "source": [
        "# Check out the class names of our dataset\n",
        "train_data_10_percent.class_names"
      ],
      "metadata": {
        "colab": {
          "base_uri": "https://localhost:8080/"
        },
        "id": "uymfSVQu0Qhc",
        "outputId": "24328511-6297-4f15-c672-86576b27f9db"
      },
      "execution_count": 8,
      "outputs": [
        {
          "output_type": "execute_result",
          "data": {
            "text/plain": [
              "['chicken_curry',\n",
              " 'chicken_wings',\n",
              " 'fried_rice',\n",
              " 'grilled_salmon',\n",
              " 'hamburger',\n",
              " 'ice_cream',\n",
              " 'pizza',\n",
              " 'ramen',\n",
              " 'steak',\n",
              " 'sushi']"
            ]
          },
          "metadata": {},
          "execution_count": 8
        }
      ]
    },
    {
      "cell_type": "code",
      "source": [
        "# See an example of batch of data\n",
        "for images, labels in train_data_10_percent.take(1):\n",
        "  print(images,labels)"
      ],
      "metadata": {
        "colab": {
          "base_uri": "https://localhost:8080/"
        },
        "id": "3p3Do-Z11CL7",
        "outputId": "48dd6d65-da0d-4555-b76b-b27ebb99769c"
      },
      "execution_count": 9,
      "outputs": [
        {
          "output_type": "stream",
          "name": "stdout",
          "text": [
            "tf.Tensor(\n",
            "[[[[8.04559937e+01 6.74559937e+01 5.94559975e+01]\n",
            "   [9.45000000e+01 8.35000000e+01 7.75000000e+01]\n",
            "   [9.68526764e+01 8.78526764e+01 8.08526764e+01]\n",
            "   ...\n",
            "   [8.62484741e+01 2.20000000e+01 5.36992598e+00]\n",
            "   [8.78823090e+01 1.95876694e+01 4.23499107e+00]\n",
            "   [8.72474365e+01 1.50108318e+01 1.53668332e+00]]\n",
            "\n",
            "  [[6.32560577e+01 5.02560577e+01 4.22560577e+01]\n",
            "   [9.49473877e+01 8.36967468e+01 7.76967468e+01]\n",
            "   [9.85331650e+01 8.79617386e+01 8.17474518e+01]\n",
            "   ...\n",
            "   [8.31935349e+01 2.02142639e+01 2.09819221e+00]\n",
            "   [8.20092621e+01 1.91253319e+01 2.06729555e+00]\n",
            "   [8.47263947e+01 2.18839283e+01 4.82589245e+00]]\n",
            "\n",
            "  [[4.90287018e+01 3.45019150e+01 2.72653065e+01]\n",
            "   [9.66989822e+01 8.36989822e+01 7.76989822e+01]\n",
            "   [9.93440704e+01 8.87726440e+01 8.40851440e+01]\n",
            "   ...\n",
            "   [8.42202759e+01 1.92873039e+01 5.06963581e-02]\n",
            "   [8.24177094e+01 2.15813236e+01 2.76339293e+00]\n",
            "   [7.87588577e+01 2.00000000e+01 1.72733307e+00]]\n",
            "\n",
            "  ...\n",
            "\n",
            "  [[4.10000000e+01 1.52901001e+01 1.12901001e+01]\n",
            "   [4.12366333e+01 1.55267334e+01 1.15267334e+01]\n",
            "   [4.17098999e+01 1.60000000e+01 1.20000000e+01]\n",
            "   ...\n",
            "   [3.50000000e+01 1.62873344e+01 1.04449339e+01]\n",
            "   [3.50545349e+01 1.63080750e+01 1.06760893e+01]\n",
            "   [3.55267334e+01 1.68478870e+01 1.07949352e+01]]\n",
            "\n",
            "  [[4.10000000e+01 1.30000000e+01 9.00000000e+00]\n",
            "   [4.19327164e+01 1.39327154e+01 9.93271542e+00]\n",
            "   [4.32598686e+01 1.52598686e+01 1.12598686e+01]\n",
            "   ...\n",
            "   [3.59419861e+01 1.70124302e+01 1.25714722e+01]\n",
            "   [3.49327011e+01 1.59948616e+01 1.18478336e+01]\n",
            "   [3.40000000e+01 1.50787354e+01 1.03436584e+01]]\n",
            "\n",
            "  [[4.16473389e+01 1.46473389e+01 7.64733887e+00]\n",
            "   [4.13737106e+01 1.43737097e+01 7.37370968e+00]\n",
            "   [4.12139435e+01 1.42139454e+01 7.21394539e+00]\n",
            "   ...\n",
            "   [3.67860413e+01 1.45669250e+01 8.76846123e+00]\n",
            "   [3.56221428e+01 1.33526611e+01 7.65493298e+00]\n",
            "   [3.45213776e+01 1.23526611e+01 6.45339680e+00]]]\n",
            "\n",
            "\n",
            " [[[2.21816330e+02 2.19816330e+02 2.06816330e+02]\n",
            "   [2.20816330e+02 2.18816330e+02 2.05816330e+02]\n",
            "   [2.22096939e+02 2.20739792e+02 2.07525497e+02]\n",
            "   ...\n",
            "   [2.19076477e+02 2.20076477e+02 2.06076477e+02]\n",
            "   [2.21285721e+02 2.22285721e+02 2.08285721e+02]\n",
            "   [2.19499924e+02 2.20499924e+02 2.06499924e+02]]\n",
            "\n",
            "  [[2.22397964e+02 2.23397964e+02 2.09397964e+02]\n",
            "   [2.20852051e+02 2.21852051e+02 2.07852051e+02]\n",
            "   [2.20938782e+02 2.18938782e+02 2.05938782e+02]\n",
            "   ...\n",
            "   [2.19086731e+02 2.20086731e+02 2.06086731e+02]\n",
            "   [2.21147964e+02 2.22147964e+02 2.08147964e+02]\n",
            "   [2.19831589e+02 2.20831589e+02 2.06831589e+02]]\n",
            "\n",
            "  [[2.16418365e+02 2.17632660e+02 2.03632660e+02]\n",
            "   [2.23688782e+02 2.24688782e+02 2.10688782e+02]\n",
            "   [2.20239792e+02 2.17811234e+02 2.05025513e+02]\n",
            "   ...\n",
            "   [2.21739807e+02 2.22739807e+02 2.08739807e+02]\n",
            "   [2.21443848e+02 2.22443848e+02 2.08443848e+02]\n",
            "   [2.18505081e+02 2.19505081e+02 2.05505081e+02]]\n",
            "\n",
            "  ...\n",
            "\n",
            "  [[2.22428589e+02 2.23428589e+02 2.09428589e+02]\n",
            "   [2.24984695e+02 2.25984695e+02 2.11984695e+02]\n",
            "   [2.18811188e+02 2.19642807e+02 2.05979553e+02]\n",
            "   ...\n",
            "   [2.18811142e+02 2.19811142e+02 2.05811142e+02]\n",
            "   [2.20326538e+02 2.21326538e+02 2.07326538e+02]\n",
            "   [2.20362167e+02 2.21362167e+02 2.07362167e+02]]\n",
            "\n",
            "  [[2.20908127e+02 2.21908127e+02 2.07908127e+02]\n",
            "   [2.20637741e+02 2.21637741e+02 2.07637741e+02]\n",
            "   [2.21841858e+02 2.22627563e+02 2.09056137e+02]\n",
            "   ...\n",
            "   [2.21984695e+02 2.22984695e+02 2.08984695e+02]\n",
            "   [2.18928558e+02 2.19928558e+02 2.05928558e+02]\n",
            "   [2.22000092e+02 2.23000092e+02 2.09000092e+02]]\n",
            "\n",
            "  [[2.20245010e+02 2.21245010e+02 2.07245010e+02]\n",
            "   [2.21954300e+02 2.22954300e+02 2.08954300e+02]\n",
            "   [2.20928604e+02 2.21714325e+02 2.08142899e+02]\n",
            "   ...\n",
            "   [2.21076523e+02 2.22076523e+02 2.08076523e+02]\n",
            "   [2.21428711e+02 2.22428711e+02 2.08428711e+02]\n",
            "   [2.21102020e+02 2.22102020e+02 2.08102020e+02]]]\n",
            "\n",
            "\n",
            " [[[1.48724489e+01 1.48724489e+01 4.87244892e+00]\n",
            "   [1.30714283e+01 1.30714283e+01 3.07142854e+00]\n",
            "   [1.40000000e+01 1.55714283e+01 4.78571415e+00]\n",
            "   ...\n",
            "   [1.20663147e+01 1.72806091e+01 1.17091980e+01]\n",
            "   [6.29072809e+00 1.32856445e+01 8.95400524e+00]\n",
            "   [1.33417645e+01 2.36274700e+01 1.79846172e+01]]\n",
            "\n",
            "  [[1.43775501e+01 1.43775501e+01 4.37755108e+00]\n",
            "   [1.40000000e+01 1.60000000e+01 5.00000000e+00]\n",
            "   [1.57142859e+01 1.77142868e+01 6.71428585e+00]\n",
            "   ...\n",
            "   [7.98468399e+00 1.31989784e+01 7.62756729e+00]\n",
            "   [6.14794016e+00 1.21479406e+01 8.14794064e+00]\n",
            "   [1.68111382e+01 2.58111382e+01 2.08111382e+01]]\n",
            "\n",
            "  [[1.63571434e+01 1.67857151e+01 6.57142878e+00]\n",
            "   [1.72142868e+01 1.92142868e+01 8.21428585e+00]\n",
            "   [1.60918350e+01 1.82602043e+01 7.59693909e+00]\n",
            "   ...\n",
            "   [6.21427727e+00 1.14285717e+01 5.85716057e+00]\n",
            "   [4.30099916e+00 1.03009996e+01 6.30099916e+00]\n",
            "   [1.68570557e+01 2.58570557e+01 2.08570557e+01]]\n",
            "\n",
            "  ...\n",
            "\n",
            "  [[1.19928551e+02 1.40142807e+02 8.11428146e+01]\n",
            "   [1.24214264e+02 1.44428528e+02 8.54285278e+01]\n",
            "   [1.22811188e+02 1.42857101e+02 8.38571014e+01]\n",
            "   ...\n",
            "   [9.79081726e+01 1.02096970e+02 8.20510864e+01]\n",
            "   [9.71735458e+01 9.99592819e+01 8.05307541e+01]\n",
            "   [9.97806549e+01 1.02566391e+02 8.31378632e+01]]\n",
            "\n",
            "  [[1.16974487e+02 1.36974487e+02 7.79744873e+01]\n",
            "   [1.16923439e+02 1.36923447e+02 7.79234390e+01]\n",
            "   [1.19357101e+02 1.37785675e+02 7.95713882e+01]\n",
            "   ...\n",
            "   [9.35867538e+01 1.01642883e+02 8.06428833e+01]\n",
            "   [9.79235153e+01 1.05923515e+02 8.49235153e+01]\n",
            "   [1.03898003e+02 1.09903107e+02 9.22347336e+01]]\n",
            "\n",
            "  [[1.13571327e+02 1.31571320e+02 7.35713272e+01]\n",
            "   [1.13362183e+02 1.31362183e+02 7.33621826e+01]\n",
            "   [1.16209244e+02 1.34209244e+02 7.62092438e+01]\n",
            "   ...\n",
            "   [9.93522339e+01 1.10709351e+02 8.93522339e+01]\n",
            "   [1.05143066e+02 1.14143066e+02 9.51430664e+01]\n",
            "   [1.18515503e+02 1.27515503e+02 1.08515503e+02]]]\n",
            "\n",
            "\n",
            " ...\n",
            "\n",
            "\n",
            " [[[1.90214279e+02 1.99214279e+02 1.70928574e+02]\n",
            "   [2.16357147e+02 2.24357147e+02 2.00714279e+02]\n",
            "   [2.22244904e+02 2.26750000e+02 2.08464294e+02]\n",
            "   ...\n",
            "   [1.27265335e+02 1.51265335e+02 1.37984711e+02]\n",
            "   [1.44188828e+02 1.68260269e+02 1.52045944e+02]\n",
            "   [1.46464203e+02 1.69464203e+02 1.52290680e+02]]\n",
            "\n",
            "  [[2.07168365e+02 2.14433670e+02 1.78051025e+02]\n",
            "   [2.23193878e+02 2.30056122e+02 1.97346939e+02]\n",
            "   [2.27903061e+02 2.31943878e+02 2.05658157e+02]\n",
            "   ...\n",
            "   [1.54107422e+02 1.77806335e+02 1.67821625e+02]\n",
            "   [1.56367447e+02 1.80367447e+02 1.67285812e+02]\n",
            "   [1.71704102e+02 1.93729614e+02 1.81581650e+02]]\n",
            "\n",
            "  [[2.08923462e+02 2.13280609e+02 1.72494904e+02]\n",
            "   [2.06515305e+02 2.10872452e+02 1.71086731e+02]\n",
            "   [2.19051010e+02 2.22408157e+02 1.87959183e+02]\n",
            "   ...\n",
            "   [1.43428589e+02 1.68520416e+02 1.64306183e+02]\n",
            "   [1.50331726e+02 1.72387848e+02 1.69433746e+02]\n",
            "   [1.57806015e+02 1.78591736e+02 1.74448868e+02]]\n",
            "\n",
            "  ...\n",
            "\n",
            "  [[1.63239761e+02 1.95096939e+02 2.01030655e+02]\n",
            "   [1.55780441e+02 1.87010101e+02 2.00010086e+02]\n",
            "   [1.63989441e+02 1.92821060e+02 2.11326187e+02]\n",
            "   ...\n",
            "   [1.71591660e+02 2.08117233e+02 2.15826431e+02]\n",
            "   [1.78607086e+02 2.15607086e+02 2.24392822e+02]\n",
            "   [1.79296188e+02 2.16296188e+02 2.25081924e+02]]\n",
            "\n",
            "  [[1.70178436e+02 2.06540680e+02 2.11800888e+02]\n",
            "   [1.67846878e+02 2.01994873e+02 2.13775482e+02]\n",
            "   [1.59321411e+02 1.91892838e+02 2.11107117e+02]\n",
            "   ...\n",
            "   [1.67066345e+02 2.03637817e+02 2.11209290e+02]\n",
            "   [1.68403137e+02 2.05403137e+02 2.14403137e+02]\n",
            "   [1.76234467e+02 2.12234467e+02 2.24234467e+02]]\n",
            "\n",
            "  [[1.64183762e+02 2.03540909e+02 2.07469482e+02]\n",
            "   [1.62550751e+02 2.00622177e+02 2.11336456e+02]\n",
            "   [1.56163361e+02 1.89296066e+02 2.08510361e+02]\n",
            "   ...\n",
            "   [1.65779770e+02 2.02351242e+02 2.09769653e+02]\n",
            "   [1.67780228e+02 2.04780228e+02 2.13780228e+02]\n",
            "   [1.64765457e+02 2.00765457e+02 2.13939011e+02]]]\n",
            "\n",
            "\n",
            " [[[0.00000000e+00 0.00000000e+00 2.00000000e+00]\n",
            "   [0.00000000e+00 9.28571701e-01 2.92857170e+00]\n",
            "   [0.00000000e+00 1.00000000e+00 5.00000000e+00]\n",
            "   ...\n",
            "   [0.00000000e+00 1.00000000e+00 5.21426392e+00]\n",
            "   [0.00000000e+00 1.00000000e+00 5.00000000e+00]\n",
            "   [0.00000000e+00 1.00000000e+00 5.00000000e+00]]\n",
            "\n",
            "  [[0.00000000e+00 0.00000000e+00 2.85714293e+00]\n",
            "   [0.00000000e+00 9.28571701e-01 3.78571463e+00]\n",
            "   [0.00000000e+00 1.00000000e+00 5.00000000e+00]\n",
            "   ...\n",
            "   [0.00000000e+00 1.00000000e+00 5.55100775e+00]\n",
            "   [0.00000000e+00 1.00000000e+00 5.00000000e+00]\n",
            "   [0.00000000e+00 1.00000000e+00 5.00000000e+00]]\n",
            "\n",
            "  [[0.00000000e+00 0.00000000e+00 4.00000000e+00]\n",
            "   [0.00000000e+00 9.28571701e-01 4.92857170e+00]\n",
            "   [0.00000000e+00 1.00000000e+00 5.00000000e+00]\n",
            "   ...\n",
            "   [0.00000000e+00 1.00000000e+00 6.00000000e+00]\n",
            "   [0.00000000e+00 1.00000000e+00 5.00000000e+00]\n",
            "   [0.00000000e+00 1.00000000e+00 5.00000000e+00]]\n",
            "\n",
            "  ...\n",
            "\n",
            "  [[8.81634045e+00 8.81634045e+00 8.81634045e+00]\n",
            "   [1.23571606e+01 1.03571606e+01 1.13571606e+01]\n",
            "   [1.30714464e+01 1.06428747e+01 1.16428747e+01]\n",
            "   ...\n",
            "   [3.63775368e+01 5.55102158e+00 4.51019478e+00]\n",
            "   [3.11632938e+01 2.69388318e+00 3.49996948e+00]\n",
            "   [2.71326237e+01 1.35711670e+00 1.21423340e+00]]\n",
            "\n",
            "  [[7.07144594e+00 7.07144594e+00 7.07144594e+00]\n",
            "   [9.78574944e+00 8.92857170e+00 9.35716057e+00]\n",
            "   [1.10714464e+01 8.64287472e+00 9.64287472e+00]\n",
            "   ...\n",
            "   [3.03572083e+01 3.85711670e+00 5.78573608e+00]\n",
            "   [2.40306797e+01 1.92855835e+00 4.35714722e+00]\n",
            "   [2.03571777e+01 2.75506467e-01 3.21423340e+00]]\n",
            "\n",
            "  [[5.78570986e+00 5.78570986e+00 5.78570986e+00]\n",
            "   [8.13264942e+00 8.13264942e+00 8.13264942e+00]\n",
            "   [9.78571033e+00 7.35713863e+00 8.35713863e+00]\n",
            "   ...\n",
            "   [2.56428223e+01 3.24487209e+00 5.96939182e+00]\n",
            "   [2.00815868e+01 1.13264716e+00 4.78570557e+00]\n",
            "   [1.60713806e+01 0.00000000e+00 4.49996948e+00]]]\n",
            "\n",
            "\n",
            " [[[1.61642853e+02 1.77642853e+02 1.67642853e+02]\n",
            "   [1.63571426e+02 1.79571426e+02 1.69571426e+02]\n",
            "   [1.65642853e+02 1.81642853e+02 1.71642853e+02]\n",
            "   ...\n",
            "   [1.00290787e+02 1.03290787e+02 8.42907867e+01]\n",
            "   [9.70000000e+01 1.00000000e+02 8.10000000e+01]\n",
            "   [9.73571396e+01 1.00357140e+02 8.13571396e+01]]\n",
            "\n",
            "  [[1.61739792e+02 1.77739792e+02 1.67739792e+02]\n",
            "   [1.63005096e+02 1.79005096e+02 1.69005096e+02]\n",
            "   [1.65086731e+02 1.81086731e+02 1.71086731e+02]\n",
            "   ...\n",
            "   [1.01443832e+02 1.04443832e+02 8.54438324e+01]\n",
            "   [9.70714417e+01 1.00071442e+02 8.10714417e+01]\n",
            "   [9.93826904e+01 1.02382690e+02 8.33826904e+01]]\n",
            "\n",
            "  [[1.63785721e+02 1.79785721e+02 1.69785721e+02]\n",
            "   [1.64000000e+02 1.80000000e+02 1.70000000e+02]\n",
            "   [1.66214279e+02 1.82214279e+02 1.72214279e+02]\n",
            "   ...\n",
            "   [1.01642792e+02 1.04642792e+02 8.56427917e+01]\n",
            "   [9.70714417e+01 1.00071442e+02 8.10714417e+01]\n",
            "   [1.00219429e+02 1.03219429e+02 8.42194290e+01]]\n",
            "\n",
            "  ...\n",
            "\n",
            "  [[1.09280624e+02 1.18637741e+02 1.10066330e+02]\n",
            "   [1.14556152e+02 1.23913269e+02 1.15127563e+02]\n",
            "   [1.15000031e+02 1.24494911e+02 1.15234718e+02]\n",
            "   ...\n",
            "   [6.00000000e+00 7.00000000e+00 2.00000000e+00]\n",
            "   [6.27042675e+00 7.27042675e+00 2.27042651e+00]\n",
            "   [7.00000000e+00 8.00000000e+00 2.00000000e+00]]\n",
            "\n",
            "  [[1.11831657e+02 1.18831657e+02 1.11831657e+02]\n",
            "   [1.14270355e+02 1.21270355e+02 1.13270355e+02]\n",
            "   [1.19137772e+02 1.26780632e+02 1.18137772e+02]\n",
            "   ...\n",
            "   [6.00000000e+00 7.00000000e+00 2.00000000e+00]\n",
            "   [7.00000000e+00 8.00000000e+00 3.00000000e+00]\n",
            "   [6.07141113e+00 7.07141113e+00 1.07141113e+00]]\n",
            "\n",
            "  [[9.18827286e+01 9.88827286e+01 9.18827286e+01]\n",
            "   [1.05933701e+02 1.12933701e+02 1.04933701e+02]\n",
            "   [1.15928589e+02 1.23142876e+02 1.14500015e+02]\n",
            "   ...\n",
            "   [5.78573608e+00 6.78573608e+00 1.78573608e+00]\n",
            "   [7.00000000e+00 8.00000000e+00 3.00000000e+00]\n",
            "   [6.00000000e+00 7.00000000e+00 1.00000000e+00]]]], shape=(32, 224, 224, 3), dtype=float32) tf.Tensor(\n",
            "[[0. 1. 0. 0. 0. 0. 0. 0. 0. 0.]\n",
            " [0. 0. 1. 0. 0. 0. 0. 0. 0. 0.]\n",
            " [0. 0. 0. 0. 0. 1. 0. 0. 0. 0.]\n",
            " [0. 0. 0. 0. 0. 0. 0. 0. 1. 0.]\n",
            " [0. 0. 0. 0. 0. 0. 0. 1. 0. 0.]\n",
            " [0. 0. 0. 1. 0. 0. 0. 0. 0. 0.]\n",
            " [0. 0. 0. 0. 0. 0. 0. 0. 0. 1.]\n",
            " [0. 0. 0. 0. 0. 0. 0. 0. 1. 0.]\n",
            " [1. 0. 0. 0. 0. 0. 0. 0. 0. 0.]\n",
            " [1. 0. 0. 0. 0. 0. 0. 0. 0. 0.]\n",
            " [0. 0. 0. 0. 1. 0. 0. 0. 0. 0.]\n",
            " [0. 0. 0. 0. 0. 0. 0. 1. 0. 0.]\n",
            " [0. 0. 0. 0. 0. 0. 0. 1. 0. 0.]\n",
            " [0. 1. 0. 0. 0. 0. 0. 0. 0. 0.]\n",
            " [0. 0. 1. 0. 0. 0. 0. 0. 0. 0.]\n",
            " [0. 1. 0. 0. 0. 0. 0. 0. 0. 0.]\n",
            " [0. 0. 0. 1. 0. 0. 0. 0. 0. 0.]\n",
            " [0. 0. 0. 0. 1. 0. 0. 0. 0. 0.]\n",
            " [0. 0. 0. 0. 0. 0. 0. 1. 0. 0.]\n",
            " [0. 0. 0. 0. 0. 0. 1. 0. 0. 0.]\n",
            " [0. 0. 0. 0. 0. 0. 0. 0. 0. 1.]\n",
            " [1. 0. 0. 0. 0. 0. 0. 0. 0. 0.]\n",
            " [0. 0. 1. 0. 0. 0. 0. 0. 0. 0.]\n",
            " [0. 0. 0. 0. 0. 0. 0. 0. 1. 0.]\n",
            " [0. 0. 0. 0. 0. 0. 1. 0. 0. 0.]\n",
            " [0. 0. 0. 0. 0. 1. 0. 0. 0. 0.]\n",
            " [0. 0. 0. 0. 0. 0. 0. 0. 1. 0.]\n",
            " [0. 0. 0. 0. 0. 0. 0. 0. 0. 1.]\n",
            " [0. 0. 0. 0. 0. 1. 0. 0. 0. 0.]\n",
            " [0. 0. 0. 0. 0. 1. 0. 0. 0. 0.]\n",
            " [0. 0. 1. 0. 0. 0. 0. 0. 0. 0.]\n",
            " [0. 0. 0. 0. 0. 0. 1. 0. 0. 0.]], shape=(32, 10), dtype=float32)\n"
          ]
        }
      ]
    },
    {
      "cell_type": "markdown",
      "source": [
        "## Build Transfer Learning model using Functional API\n",
        "\n",
        "The Sequential API is straight forward, it runs our layer in sequential order\n",
        "\n",
        "But the Functional API gives us more flexibility with our models :- \n",
        "\n",
        "[Tensorflow Keras Functional API](https://www.tensorflow.org/guide/keras/functional)"
      ],
      "metadata": {
        "id": "GsWSb0zW1hyU"
      }
    },
    {
      "cell_type": "code",
      "source": [
        "# 1. Create bas model with tf.keras.applications\n",
        "base_model = tf.keras.applications.EfficientNetB0(include_top=False)\n",
        "\n",
        "# 2. Freeze the base model (so the underlying pre-trained patterns aren't updated during training)\n",
        "base_model.trainable = False\n",
        "\n",
        "# 3. Create inputs in our model\n",
        "inputs = tf.keras.layers.Input(shape=(224,224,3), name=\"input_layer\")\n",
        "\n",
        "# 4. If using a model like ResNet50V2 you will need to normalize inputs (you don't need to for EfficientNet)\n",
        "#x = tf.keras.layers.experimental.preprocessing.Rescaling(1./255)(inputs)\n",
        "\n",
        "# 5. Pass the inputs to the base_model\n",
        "x = base_model(inputs)\n",
        "print(f\"Shape after passing inputs through base model: {x.shape}\")\n",
        "\n",
        "# 6. Average pool the outputs of the base model (aggregate all the important information, reduce number of computations)\n",
        "x = tf.keras.layers.GlobalAveragePooling2D(name=\"global_average_pooling_layer\")(x)\n",
        "print(f\"Shape after GlobalAveragePooling2D: {x.shape}\")\n",
        "\n",
        "# 7. Create the output activation layer\n",
        "outputs = tf.keras.layers.Dense(10, activation=\"softmax\", name=\"output_layer\")(x)\n",
        "\n",
        "# 8. Combine the inputs with the outputs into a model\n",
        "model_0 = tf.keras.Model(inputs, outputs)\n",
        "\n",
        "# 9. Compile the model\n",
        "model_0.compile(loss=tf.keras.losses.CategoricalCrossentropy(),\n",
        "                optimizer=tf.keras.optimizers.Adam(),\n",
        "                metrics=[\"accuracy\"])\n",
        "\n",
        "# 10. Fit the model and save it's history\n",
        "history_10_percent = model_0.fit(train_data_10_percent,\n",
        "                                 epochs=5,\n",
        "                                 steps_per_epoch=len(train_data_10_percent),\n",
        "                                 validation_data=test_data,\n",
        "                                 validation_steps=int(0.25 * len(test_data)),\n",
        "                                 callbacks=[create_tensorboard_callback(dir_name=\"transfer_learning\",\n",
        "                                                                        experiment_name=\"10_percent_feature_extraction\")])"
      ],
      "metadata": {
        "id": "Jte4mPvdwHsS",
        "outputId": "b58a90ba-1eb2-4924-8ea2-9441de3e772c",
        "colab": {
          "base_uri": "https://localhost:8080/"
        }
      },
      "execution_count": 13,
      "outputs": [
        {
          "output_type": "stream",
          "name": "stdout",
          "text": [
            "Downloading data from https://storage.googleapis.com/keras-applications/efficientnetb0_notop.h5\n",
            "16711680/16705208 [==============================] - 0s 0us/step\n",
            "16719872/16705208 [==============================] - 0s 0us/step\n",
            "Shape after passing inputs through base model: (None, 7, 7, 1280)\n",
            "Shape after GlobalAveragePooling2D: (None, 1280)\n",
            "Saving TensorBoard log files to: transfer_learning/10_percent_feature_extraction/20220208-032621\n",
            "Epoch 1/5\n"
          ]
        },
        {
          "output_type": "stream",
          "name": "stderr",
          "text": [
            "/usr/local/lib/python3.7/dist-packages/keras/engine/functional.py:1410: CustomMaskWarning: Custom mask layers require a config and must override get_config. When loading, the custom mask layer must be passed to the custom_objects argument.\n",
            "  layer_config = serialize_layer_fn(layer)\n"
          ]
        },
        {
          "output_type": "stream",
          "name": "stdout",
          "text": [
            "24/24 [==============================] - 20s 229ms/step - loss: 1.9504 - accuracy: 0.3480 - val_loss: 1.4281 - val_accuracy: 0.6793\n",
            "Epoch 2/5\n",
            "24/24 [==============================] - 4s 153ms/step - loss: 1.1768 - accuracy: 0.7467 - val_loss: 0.9712 - val_accuracy: 0.7961\n",
            "Epoch 3/5\n",
            "24/24 [==============================] - 5s 187ms/step - loss: 0.8522 - accuracy: 0.8013 - val_loss: 0.7875 - val_accuracy: 0.8273\n",
            "Epoch 4/5\n",
            "24/24 [==============================] - 5s 189ms/step - loss: 0.7102 - accuracy: 0.8360 - val_loss: 0.6589 - val_accuracy: 0.8454\n",
            "Epoch 5/5\n",
            "24/24 [==============================] - 5s 186ms/step - loss: 0.6043 - accuracy: 0.8493 - val_loss: 0.6134 - val_accuracy: 0.8372\n"
          ]
        }
      ]
    },
    {
      "cell_type": "code",
      "source": [
        "# Evaluate on full test dataset\n",
        "model_0.evaluate(test_data)"
      ],
      "metadata": {
        "id": "Rdwh5VzRXcef",
        "outputId": "ca1109dc-833b-4252-fbe1-413c42fb453d",
        "colab": {
          "base_uri": "https://localhost:8080/"
        }
      },
      "execution_count": 14,
      "outputs": [
        {
          "output_type": "stream",
          "name": "stdout",
          "text": [
            "79/79 [==============================] - 7s 80ms/step - loss: 0.6148 - accuracy: 0.8368\n"
          ]
        },
        {
          "output_type": "execute_result",
          "data": {
            "text/plain": [
              "[0.6148011088371277, 0.8367999792098999]"
            ]
          },
          "metadata": {},
          "execution_count": 14
        }
      ]
    },
    {
      "cell_type": "code",
      "source": [
        "# Check the layers in our base model\n",
        "for layer_number, layer in enumerate(base_model.layers):\n",
        "  print(layer_number, layer.name)"
      ],
      "metadata": {
        "id": "6cGaa8W0X9NI",
        "outputId": "5bf96a1e-e555-4228-e75f-1ce36e25a288",
        "colab": {
          "base_uri": "https://localhost:8080/"
        }
      },
      "execution_count": 15,
      "outputs": [
        {
          "output_type": "stream",
          "name": "stdout",
          "text": [
            "0 input_1\n",
            "1 rescaling\n",
            "2 normalization\n",
            "3 stem_conv_pad\n",
            "4 stem_conv\n",
            "5 stem_bn\n",
            "6 stem_activation\n",
            "7 block1a_dwconv\n",
            "8 block1a_bn\n",
            "9 block1a_activation\n",
            "10 block1a_se_squeeze\n",
            "11 block1a_se_reshape\n",
            "12 block1a_se_reduce\n",
            "13 block1a_se_expand\n",
            "14 block1a_se_excite\n",
            "15 block1a_project_conv\n",
            "16 block1a_project_bn\n",
            "17 block2a_expand_conv\n",
            "18 block2a_expand_bn\n",
            "19 block2a_expand_activation\n",
            "20 block2a_dwconv_pad\n",
            "21 block2a_dwconv\n",
            "22 block2a_bn\n",
            "23 block2a_activation\n",
            "24 block2a_se_squeeze\n",
            "25 block2a_se_reshape\n",
            "26 block2a_se_reduce\n",
            "27 block2a_se_expand\n",
            "28 block2a_se_excite\n",
            "29 block2a_project_conv\n",
            "30 block2a_project_bn\n",
            "31 block2b_expand_conv\n",
            "32 block2b_expand_bn\n",
            "33 block2b_expand_activation\n",
            "34 block2b_dwconv\n",
            "35 block2b_bn\n",
            "36 block2b_activation\n",
            "37 block2b_se_squeeze\n",
            "38 block2b_se_reshape\n",
            "39 block2b_se_reduce\n",
            "40 block2b_se_expand\n",
            "41 block2b_se_excite\n",
            "42 block2b_project_conv\n",
            "43 block2b_project_bn\n",
            "44 block2b_drop\n",
            "45 block2b_add\n",
            "46 block3a_expand_conv\n",
            "47 block3a_expand_bn\n",
            "48 block3a_expand_activation\n",
            "49 block3a_dwconv_pad\n",
            "50 block3a_dwconv\n",
            "51 block3a_bn\n",
            "52 block3a_activation\n",
            "53 block3a_se_squeeze\n",
            "54 block3a_se_reshape\n",
            "55 block3a_se_reduce\n",
            "56 block3a_se_expand\n",
            "57 block3a_se_excite\n",
            "58 block3a_project_conv\n",
            "59 block3a_project_bn\n",
            "60 block3b_expand_conv\n",
            "61 block3b_expand_bn\n",
            "62 block3b_expand_activation\n",
            "63 block3b_dwconv\n",
            "64 block3b_bn\n",
            "65 block3b_activation\n",
            "66 block3b_se_squeeze\n",
            "67 block3b_se_reshape\n",
            "68 block3b_se_reduce\n",
            "69 block3b_se_expand\n",
            "70 block3b_se_excite\n",
            "71 block3b_project_conv\n",
            "72 block3b_project_bn\n",
            "73 block3b_drop\n",
            "74 block3b_add\n",
            "75 block4a_expand_conv\n",
            "76 block4a_expand_bn\n",
            "77 block4a_expand_activation\n",
            "78 block4a_dwconv_pad\n",
            "79 block4a_dwconv\n",
            "80 block4a_bn\n",
            "81 block4a_activation\n",
            "82 block4a_se_squeeze\n",
            "83 block4a_se_reshape\n",
            "84 block4a_se_reduce\n",
            "85 block4a_se_expand\n",
            "86 block4a_se_excite\n",
            "87 block4a_project_conv\n",
            "88 block4a_project_bn\n",
            "89 block4b_expand_conv\n",
            "90 block4b_expand_bn\n",
            "91 block4b_expand_activation\n",
            "92 block4b_dwconv\n",
            "93 block4b_bn\n",
            "94 block4b_activation\n",
            "95 block4b_se_squeeze\n",
            "96 block4b_se_reshape\n",
            "97 block4b_se_reduce\n",
            "98 block4b_se_expand\n",
            "99 block4b_se_excite\n",
            "100 block4b_project_conv\n",
            "101 block4b_project_bn\n",
            "102 block4b_drop\n",
            "103 block4b_add\n",
            "104 block4c_expand_conv\n",
            "105 block4c_expand_bn\n",
            "106 block4c_expand_activation\n",
            "107 block4c_dwconv\n",
            "108 block4c_bn\n",
            "109 block4c_activation\n",
            "110 block4c_se_squeeze\n",
            "111 block4c_se_reshape\n",
            "112 block4c_se_reduce\n",
            "113 block4c_se_expand\n",
            "114 block4c_se_excite\n",
            "115 block4c_project_conv\n",
            "116 block4c_project_bn\n",
            "117 block4c_drop\n",
            "118 block4c_add\n",
            "119 block5a_expand_conv\n",
            "120 block5a_expand_bn\n",
            "121 block5a_expand_activation\n",
            "122 block5a_dwconv\n",
            "123 block5a_bn\n",
            "124 block5a_activation\n",
            "125 block5a_se_squeeze\n",
            "126 block5a_se_reshape\n",
            "127 block5a_se_reduce\n",
            "128 block5a_se_expand\n",
            "129 block5a_se_excite\n",
            "130 block5a_project_conv\n",
            "131 block5a_project_bn\n",
            "132 block5b_expand_conv\n",
            "133 block5b_expand_bn\n",
            "134 block5b_expand_activation\n",
            "135 block5b_dwconv\n",
            "136 block5b_bn\n",
            "137 block5b_activation\n",
            "138 block5b_se_squeeze\n",
            "139 block5b_se_reshape\n",
            "140 block5b_se_reduce\n",
            "141 block5b_se_expand\n",
            "142 block5b_se_excite\n",
            "143 block5b_project_conv\n",
            "144 block5b_project_bn\n",
            "145 block5b_drop\n",
            "146 block5b_add\n",
            "147 block5c_expand_conv\n",
            "148 block5c_expand_bn\n",
            "149 block5c_expand_activation\n",
            "150 block5c_dwconv\n",
            "151 block5c_bn\n",
            "152 block5c_activation\n",
            "153 block5c_se_squeeze\n",
            "154 block5c_se_reshape\n",
            "155 block5c_se_reduce\n",
            "156 block5c_se_expand\n",
            "157 block5c_se_excite\n",
            "158 block5c_project_conv\n",
            "159 block5c_project_bn\n",
            "160 block5c_drop\n",
            "161 block5c_add\n",
            "162 block6a_expand_conv\n",
            "163 block6a_expand_bn\n",
            "164 block6a_expand_activation\n",
            "165 block6a_dwconv_pad\n",
            "166 block6a_dwconv\n",
            "167 block6a_bn\n",
            "168 block6a_activation\n",
            "169 block6a_se_squeeze\n",
            "170 block6a_se_reshape\n",
            "171 block6a_se_reduce\n",
            "172 block6a_se_expand\n",
            "173 block6a_se_excite\n",
            "174 block6a_project_conv\n",
            "175 block6a_project_bn\n",
            "176 block6b_expand_conv\n",
            "177 block6b_expand_bn\n",
            "178 block6b_expand_activation\n",
            "179 block6b_dwconv\n",
            "180 block6b_bn\n",
            "181 block6b_activation\n",
            "182 block6b_se_squeeze\n",
            "183 block6b_se_reshape\n",
            "184 block6b_se_reduce\n",
            "185 block6b_se_expand\n",
            "186 block6b_se_excite\n",
            "187 block6b_project_conv\n",
            "188 block6b_project_bn\n",
            "189 block6b_drop\n",
            "190 block6b_add\n",
            "191 block6c_expand_conv\n",
            "192 block6c_expand_bn\n",
            "193 block6c_expand_activation\n",
            "194 block6c_dwconv\n",
            "195 block6c_bn\n",
            "196 block6c_activation\n",
            "197 block6c_se_squeeze\n",
            "198 block6c_se_reshape\n",
            "199 block6c_se_reduce\n",
            "200 block6c_se_expand\n",
            "201 block6c_se_excite\n",
            "202 block6c_project_conv\n",
            "203 block6c_project_bn\n",
            "204 block6c_drop\n",
            "205 block6c_add\n",
            "206 block6d_expand_conv\n",
            "207 block6d_expand_bn\n",
            "208 block6d_expand_activation\n",
            "209 block6d_dwconv\n",
            "210 block6d_bn\n",
            "211 block6d_activation\n",
            "212 block6d_se_squeeze\n",
            "213 block6d_se_reshape\n",
            "214 block6d_se_reduce\n",
            "215 block6d_se_expand\n",
            "216 block6d_se_excite\n",
            "217 block6d_project_conv\n",
            "218 block6d_project_bn\n",
            "219 block6d_drop\n",
            "220 block6d_add\n",
            "221 block7a_expand_conv\n",
            "222 block7a_expand_bn\n",
            "223 block7a_expand_activation\n",
            "224 block7a_dwconv\n",
            "225 block7a_bn\n",
            "226 block7a_activation\n",
            "227 block7a_se_squeeze\n",
            "228 block7a_se_reshape\n",
            "229 block7a_se_reduce\n",
            "230 block7a_se_expand\n",
            "231 block7a_se_excite\n",
            "232 block7a_project_conv\n",
            "233 block7a_project_bn\n",
            "234 top_conv\n",
            "235 top_bn\n",
            "236 top_activation\n"
          ]
        }
      ]
    },
    {
      "cell_type": "code",
      "source": [
        "# Summary of our whole model\n",
        "model_0.summary()"
      ],
      "metadata": {
        "id": "0_nl6M4oYhYA",
        "outputId": "4d57b865-086f-4987-d305-37a9765c589e",
        "colab": {
          "base_uri": "https://localhost:8080/"
        }
      },
      "execution_count": 16,
      "outputs": [
        {
          "output_type": "stream",
          "name": "stdout",
          "text": [
            "Model: \"model\"\n",
            "_________________________________________________________________\n",
            " Layer (type)                Output Shape              Param #   \n",
            "=================================================================\n",
            " input_layer (InputLayer)    [(None, 224, 224, 3)]     0         \n",
            "                                                                 \n",
            " efficientnetb0 (Functional)  (None, None, None, 1280)  4049571  \n",
            "                                                                 \n",
            " global_average_pooling_laye  (None, 1280)             0         \n",
            " r (GlobalAveragePooling2D)                                      \n",
            "                                                                 \n",
            " output_layer (Dense)        (None, 10)                12810     \n",
            "                                                                 \n",
            "=================================================================\n",
            "Total params: 4,062,381\n",
            "Trainable params: 12,810\n",
            "Non-trainable params: 4,049,571\n",
            "_________________________________________________________________\n"
          ]
        }
      ]
    },
    {
      "cell_type": "code",
      "source": [
        "# Check out our model's training curves\n",
        "plot_loss_curves(history_10_percent)"
      ],
      "metadata": {
        "id": "tsxCJlpLZPom",
        "outputId": "ed3ac7b8-17e2-4d88-aad8-f7b06c279b98",
        "colab": {
          "base_uri": "https://localhost:8080/",
          "height": 573
        }
      },
      "execution_count": 17,
      "outputs": [
        {
          "output_type": "display_data",
          "data": {
            "image/png": "[encoded data removed]",
            "text/plain": [
              "<Figure size 432x288 with 1 Axes>"
            ]
          },
          "metadata": {
            "needs_background": "light"
          }
        },
        {
          "output_type": "display_data",
          "data": {
            "image/png": "[encoded data removed]",
            "text/plain": [
              "<Figure size 432x288 with 1 Axes>"
            ]
          },
          "metadata": {
            "needs_background": "light"
          }
        }
      ]
    },
    {
      "cell_type": "code",
      "source": [
        "# Next lesson 8"
      ],
      "metadata": {
        "id": "dKy8tPOTZqLh"
      },
      "execution_count": null,
      "outputs": []
    }
  ]
}