{
  "nbformat": 4,
  "nbformat_minor": 0,
  "metadata": {
    "colab": {
      "name": "transfer_learning_with_tensorflow_fine_tuning.ipynb",
      "provenance": [],
      "toc_visible": true,
      "authorship_tag": "ABX9TyOCa9luEvgRUov1vGb25yiH",
      "include_colab_link": true
    },
    "kernelspec": {
      "name": "python3",
      "display_name": "Python 3"
    },
    "language_info": {
      "name": "python"
    },
    "accelerator": "GPU"
  },
  "cells": [
    {
      "cell_type": "markdown",
      "metadata": {
        "id": "view-in-github",
        "colab_type": "text"
      },
      "source": [
        "<a href=\"https://colab.research.google.com/github/Priyo-prog/Deep-Learning-with-Tensorflow/blob/main/Transfer%20Learning%20with%20Tensorflow/transfer_learning_with_tensorflow_fine_tuning.ipynb\" target=\"_parent\"><img src=\"https://colab.research.google.com/assets/colab-badge.svg\" alt=\"Open In Colab\"/></a>"
      ]
    },
    {
      "cell_type": "markdown",
      "source": [
        "# **Transfer Learning with TensorFlow part 2: Fine Tuning**"
      ],
      "metadata": {
        "id": "BGZczUMg-gwo"
      }
    },
    {
      "cell_type": "code",
      "source": [
        "# Check the GPU we are using \n",
        "!nvidia-smi"
      ],
      "metadata": {
        "id": "GZl1cM8r_MjG",
        "outputId": "bdc31f91-2292-43be-d85c-26707f340082",
        "colab": {
          "base_uri": "https://localhost:8080/"
        }
      },
      "execution_count": 1,
      "outputs": [
        {
          "output_type": "stream",
          "name": "stdout",
          "text": [
            "Mon Feb 14 08:41:54 2022       \n",
            "+-----------------------------------------------------------------------------+\n",
            "| NVIDIA-SMI 460.32.03    Driver Version: 460.32.03    CUDA Version: 11.2     |\n",
            "|-------------------------------+----------------------+----------------------+\n",
            "| GPU  Name        Persistence-M| Bus-Id        Disp.A | Volatile Uncorr. ECC |\n",
            "| Fan  Temp  Perf  Pwr:Usage/Cap|         Memory-Usage | GPU-Util  Compute M. |\n",
            "|                               |                      |               MIG M. |\n",
            "|===============================+======================+======================|\n",
            "|   0  Tesla K80           Off  | 00000000:00:04.0 Off |                    0 |\n",
            "| N/A   71C    P8    35W / 149W |      0MiB / 11441MiB |      0%      Default |\n",
            "|                               |                      |                  N/A |\n",
            "+-------------------------------+----------------------+----------------------+\n",
            "                                                                               \n",
            "+-----------------------------------------------------------------------------+\n",
            "| Processes:                                                                  |\n",
            "|  GPU   GI   CI        PID   Type   Process name                  GPU Memory |\n",
            "|        ID   ID                                                   Usage      |\n",
            "|=============================================================================|\n",
            "|  No running processes found                                                 |\n",
            "+-----------------------------------------------------------------------------+\n"
          ]
        }
      ]
    },
    {
      "cell_type": "markdown",
      "source": [
        "## Getting the helper function"
      ],
      "metadata": {
        "id": "OKnzfm5lBXFo"
      }
    },
    {
      "cell_type": "code",
      "source": [
        "!wget https://raw.githubusercontent.com/mrdbourke/tensorflow-deep-learning/main/extras/helper_functions.py"
      ],
      "metadata": {
        "id": "9A2P10YE_qKR",
        "outputId": "bd3b54e8-4b8c-4146-fde7-35a7fbf25752",
        "colab": {
          "base_uri": "https://localhost:8080/"
        }
      },
      "execution_count": 2,
      "outputs": [
        {
          "output_type": "stream",
          "name": "stdout",
          "text": [
            "--2022-02-14 08:41:55--  https://raw.githubusercontent.com/mrdbourke/tensorflow-deep-learning/main/extras/helper_functions.py\n",
            "Resolving raw.githubusercontent.com (raw.githubusercontent.com)... 185.199.108.133, 185.199.109.133, 185.199.110.133, ...\n",
            "Connecting to raw.githubusercontent.com (raw.githubusercontent.com)|185.199.108.133|:443... connected.\n",
            "HTTP request sent, awaiting response... 200 OK\n",
            "Length: 10246 (10K) [text/plain]\n",
            "Saving to: ‘helper_functions.py’\n",
            "\n",
            "\rhelper_functions.py   0%[                    ]       0  --.-KB/s               \rhelper_functions.py 100%[===================>]  10.01K  --.-KB/s    in 0s      \n",
            "\n",
            "2022-02-14 08:41:55 (52.9 MB/s) - ‘helper_functions.py’ saved [10246/10246]\n",
            "\n"
          ]
        }
      ]
    },
    {
      "cell_type": "code",
      "source": [
        "# Import the helper functions we are going to use in this notebook\n",
        "from helper_functions import create_tensorboard_callback, plot_loss_curves, unzip_data, walk_through_dir"
      ],
      "metadata": {
        "id": "l3yw31xGBLrL"
      },
      "execution_count": 3,
      "outputs": []
    },
    {
      "cell_type": "markdown",
      "source": [
        "## Get the data\n",
        "\n",
        "This time we are going to see how we can use the pretrained models within 'tf.keras.applications' and apply them to our problem"
      ],
      "metadata": {
        "id": "dz2pGRf_wVIL"
      }
    },
    {
      "cell_type": "code",
      "source": [
        "# Get the 10% of training data of 10 classes of Food101\n",
        "!wget https://storage.googleapis.com/ztm_tf_course/food_vision/10_food_classes_10_percent.zip\n",
        "\n",
        "unzip_data(\"10_food_classes_10_percent.zip\")"
      ],
      "metadata": {
        "colab": {
          "base_uri": "https://localhost:8080/"
        },
        "id": "rX5STlEFw9n4",
        "outputId": "6d9ab6d0-0b8d-4a61-c322-5357ec445ad6"
      },
      "execution_count": 4,
      "outputs": [
        {
          "output_type": "stream",
          "name": "stdout",
          "text": [
            "--2022-02-14 08:41:57--  https://storage.googleapis.com/ztm_tf_course/food_vision/10_food_classes_10_percent.zip\n",
            "Resolving storage.googleapis.com (storage.googleapis.com)... 142.250.152.128, 173.194.198.128, 64.233.191.128, ...\n",
            "Connecting to storage.googleapis.com (storage.googleapis.com)|142.250.152.128|:443... connected.\n",
            "HTTP request sent, awaiting response... 200 OK\n",
            "Length: 168546183 (161M) [application/zip]\n",
            "Saving to: ‘10_food_classes_10_percent.zip’\n",
            "\n",
            "10_food_classes_10_ 100%[===================>] 160.74M   180MB/s    in 0.9s    \n",
            "\n",
            "2022-02-14 08:41:58 (180 MB/s) - ‘10_food_classes_10_percent.zip’ saved [168546183/168546183]\n",
            "\n"
          ]
        }
      ]
    },
    {
      "cell_type": "code",
      "source": [
        "# Check out how many images and subdirectories are in our dataset\n",
        "walk_through_dir(\"10_food_classes_10_percent\")"
      ],
      "metadata": {
        "colab": {
          "base_uri": "https://localhost:8080/"
        },
        "id": "JjCYVSl-xMmv",
        "outputId": "54f367d2-9e74-44ce-92da-65d5b338baae"
      },
      "execution_count": 5,
      "outputs": [
        {
          "output_type": "stream",
          "name": "stdout",
          "text": [
            "There are 2 directories and 0 images in '10_food_classes_10_percent'.\n",
            "There are 10 directories and 0 images in '10_food_classes_10_percent/test'.\n",
            "There are 0 directories and 250 images in '10_food_classes_10_percent/test/chicken_wings'.\n",
            "There are 0 directories and 250 images in '10_food_classes_10_percent/test/pizza'.\n",
            "There are 0 directories and 250 images in '10_food_classes_10_percent/test/steak'.\n",
            "There are 0 directories and 250 images in '10_food_classes_10_percent/test/chicken_curry'.\n",
            "There are 0 directories and 250 images in '10_food_classes_10_percent/test/ice_cream'.\n",
            "There are 0 directories and 250 images in '10_food_classes_10_percent/test/ramen'.\n",
            "There are 0 directories and 250 images in '10_food_classes_10_percent/test/fried_rice'.\n",
            "There are 0 directories and 250 images in '10_food_classes_10_percent/test/hamburger'.\n",
            "There are 0 directories and 250 images in '10_food_classes_10_percent/test/sushi'.\n",
            "There are 0 directories and 250 images in '10_food_classes_10_percent/test/grilled_salmon'.\n",
            "There are 10 directories and 0 images in '10_food_classes_10_percent/train'.\n",
            "There are 0 directories and 75 images in '10_food_classes_10_percent/train/chicken_wings'.\n",
            "There are 0 directories and 75 images in '10_food_classes_10_percent/train/pizza'.\n",
            "There are 0 directories and 75 images in '10_food_classes_10_percent/train/steak'.\n",
            "There are 0 directories and 75 images in '10_food_classes_10_percent/train/chicken_curry'.\n",
            "There are 0 directories and 75 images in '10_food_classes_10_percent/train/ice_cream'.\n",
            "There are 0 directories and 75 images in '10_food_classes_10_percent/train/ramen'.\n",
            "There are 0 directories and 75 images in '10_food_classes_10_percent/train/fried_rice'.\n",
            "There are 0 directories and 75 images in '10_food_classes_10_percent/train/hamburger'.\n",
            "There are 0 directories and 75 images in '10_food_classes_10_percent/train/sushi'.\n",
            "There are 0 directories and 75 images in '10_food_classes_10_percent/train/grilled_salmon'.\n"
          ]
        }
      ]
    },
    {
      "cell_type": "code",
      "source": [
        "# Create training and test directories paths\n",
        "train_dir = \"10_food_classes_10_percent/train\"\n",
        "test_data = \"10_food_classes_10_percent/test\""
      ],
      "metadata": {
        "id": "F-B60cX6xzaG"
      },
      "execution_count": 6,
      "outputs": []
    },
    {
      "cell_type": "code",
      "source": [
        "import tensorflow as tf\n",
        "\n",
        "IMG_SIZE = (224,224)\n",
        "BATCH_SIZE = 32\n",
        "train_data_10_percent = tf.keras.preprocessing.image_dataset_from_directory(directory=train_dir,\n",
        "                                                                            image_size=IMG_SIZE,\n",
        "                                                                            label_mode=\"categorical\",\n",
        "                                                                            batch_size=BATCH_SIZE)\n",
        "\n",
        "test_data = tf.keras.preprocessing.image_dataset_from_directory(directory=test_data,\n",
        "                                                                image_size=IMG_SIZE,\n",
        "                                                                label_mode=\"categorical\",\n",
        "                                                                batch_size=BATCH_SIZE)"
      ],
      "metadata": {
        "colab": {
          "base_uri": "https://localhost:8080/"
        },
        "id": "vDmUbdU_yXvF",
        "outputId": "de7df312-e0bb-4f33-c645-0e1cf71befa9"
      },
      "execution_count": 7,
      "outputs": [
        {
          "output_type": "stream",
          "name": "stdout",
          "text": [
            "Found 750 files belonging to 10 classes.\n",
            "Found 2500 files belonging to 10 classes.\n"
          ]
        }
      ]
    },
    {
      "cell_type": "code",
      "source": [
        "# Check out the class names of our dataset\n",
        "train_data_10_percent.class_names"
      ],
      "metadata": {
        "colab": {
          "base_uri": "https://localhost:8080/"
        },
        "id": "uymfSVQu0Qhc",
        "outputId": "3e159554-1650-4b98-9aa5-5dd38270e87b"
      },
      "execution_count": 8,
      "outputs": [
        {
          "output_type": "execute_result",
          "data": {
            "text/plain": [
              "['chicken_curry',\n",
              " 'chicken_wings',\n",
              " 'fried_rice',\n",
              " 'grilled_salmon',\n",
              " 'hamburger',\n",
              " 'ice_cream',\n",
              " 'pizza',\n",
              " 'ramen',\n",
              " 'steak',\n",
              " 'sushi']"
            ]
          },
          "metadata": {},
          "execution_count": 8
        }
      ]
    },
    {
      "cell_type": "code",
      "source": [
        "# See an example of batch of data\n",
        "for images, labels in train_data_10_percent.take(1):\n",
        "  print(images,labels)"
      ],
      "metadata": {
        "colab": {
          "base_uri": "https://localhost:8080/"
        },
        "id": "3p3Do-Z11CL7",
        "outputId": "3a56f4c1-aeef-47a7-d412-e0f8f881a712"
      },
      "execution_count": 9,
      "outputs": [
        {
          "output_type": "stream",
          "name": "stdout",
          "text": [
            "tf.Tensor(\n",
            "[[[[2.44000000e+02 2.41000000e+02 2.34000000e+02]\n",
            "   [2.44058029e+02 2.41058029e+02 2.34058029e+02]\n",
            "   [2.45000000e+02 2.42000000e+02 2.35000000e+02]\n",
            "   ...\n",
            "   [1.98272629e+02 2.19272629e+02 2.24272629e+02]\n",
            "   [1.97058014e+02 2.18058014e+02 2.23058014e+02]\n",
            "   [1.96357147e+02 2.17357147e+02 2.22357147e+02]]\n",
            "\n",
            "  [[2.44000000e+02 2.41000000e+02 2.34000000e+02]\n",
            "   [2.44058029e+02 2.41058029e+02 2.34058029e+02]\n",
            "   [2.45000000e+02 2.42000000e+02 2.35000000e+02]\n",
            "   ...\n",
            "   [1.97763367e+02 2.17817886e+02 2.24708847e+02]\n",
            "   [1.96125305e+02 2.16125305e+02 2.23125305e+02]\n",
            "   [1.96000000e+02 2.16000000e+02 2.23000000e+02]]\n",
            "\n",
            "  [[2.44000000e+02 2.41000000e+02 2.34000000e+02]\n",
            "   [2.44058029e+02 2.41058029e+02 2.34058029e+02]\n",
            "   [2.45000000e+02 2.42000000e+02 2.35000000e+02]\n",
            "   ...\n",
            "   [1.98977646e+02 2.18650497e+02 2.28242645e+02]\n",
            "   [1.97272293e+02 2.17070450e+02 2.28584839e+02]\n",
            "   [1.97214279e+02 2.17000000e+02 2.28642853e+02]]\n",
            "\n",
            "  ...\n",
            "\n",
            "  [[2.06914425e+01 1.53514805e+01 9.71744347e+00]\n",
            "   [2.54484653e+01 1.80332222e+01 7.75632572e+00]\n",
            "   [1.24872955e+02 1.15152534e+02 9.50797501e+01]\n",
            "   ...\n",
            "   [5.76102829e+01 5.28108711e+01 3.84106750e+01]\n",
            "   [5.03294182e+01 4.73294182e+01 3.23294182e+01]\n",
            "   [4.30449524e+01 3.98306885e+01 2.54734783e+01]]\n",
            "\n",
            "  [[3.41301727e+01 2.48871517e+01 1.27692795e+01]\n",
            "   [1.50805786e+02 1.40618271e+02 1.15198883e+02]\n",
            "   [1.62831345e+02 1.49233124e+02 1.20623367e+02]\n",
            "   ...\n",
            "   [6.57356567e+01 5.97356567e+01 4.42089233e+01]\n",
            "   [6.25581055e+01 5.65581055e+01 4.25581055e+01]\n",
            "   [5.70414772e+01 5.40414772e+01 3.90414772e+01]]\n",
            "\n",
            "  [[1.50723328e+02 1.37723328e+02 1.05008980e+02]\n",
            "   [1.72307907e+02 1.58876114e+02 1.24556244e+02]\n",
            "   [1.78152344e+02 1.61928131e+02 1.27450386e+02]\n",
            "   ...\n",
            "   [7.56112518e+01 6.96112518e+01 5.40845184e+01]\n",
            "   [7.37516479e+01 6.77516479e+01 5.37516479e+01]\n",
            "   [6.79446106e+01 6.49446106e+01 4.99446068e+01]]]\n",
            "\n",
            "\n",
            " [[[1.83571434e+01 1.43571424e+01 1.33571424e+01]\n",
            "   [1.85714283e+01 1.45714293e+01 1.15714293e+01]\n",
            "   [1.96428566e+01 1.56428576e+01 1.26428576e+01]\n",
            "   ...\n",
            "   [1.16785652e+02 9.97856522e+01 8.37856522e+01]\n",
            "   [1.08969307e+02 8.99693069e+01 7.49693069e+01]\n",
            "   [9.90305862e+01 8.00305862e+01 6.50305862e+01]]\n",
            "\n",
            "  [[2.08826542e+01 1.68826542e+01 1.58826532e+01]\n",
            "   [2.18571434e+01 1.78571434e+01 1.48571434e+01]\n",
            "   [2.25000000e+01 1.85000000e+01 1.55000000e+01]\n",
            "   ...\n",
            "   [1.49999878e+02 1.33999878e+02 1.17999878e+02]\n",
            "   [1.35438675e+02 1.18438675e+02 1.02438675e+02]\n",
            "   [1.23908134e+02 1.06908134e+02 9.09081345e+01]]\n",
            "\n",
            "  [[2.58622456e+01 2.18622456e+01 2.08622456e+01]\n",
            "   [2.28163261e+01 1.88163261e+01 1.58163261e+01]\n",
            "   [2.12346935e+01 1.72346935e+01 1.42346935e+01]\n",
            "   ...\n",
            "   [1.85550964e+02 1.72765259e+02 1.56765259e+02]\n",
            "   [1.75499878e+02 1.62714157e+02 1.46714157e+02]\n",
            "   [1.58862122e+02 1.44423431e+02 1.28928497e+02]]\n",
            "\n",
            "  ...\n",
            "\n",
            "  [[1.37143078e+01 1.47143078e+01 8.71430779e+00]\n",
            "   [1.92857800e+01 2.02857800e+01 1.52857800e+01]\n",
            "   [1.60663776e+01 1.58520927e+01 1.38520918e+01]\n",
            "   ...\n",
            "   [2.20617386e+02 2.11617386e+02 1.94617386e+02]\n",
            "   [2.22214264e+02 2.11214264e+02 1.93214264e+02]\n",
            "   [2.22418381e+02 2.11418381e+02 1.93418381e+02]]\n",
            "\n",
            "  [[1.59795885e+01 1.69795876e+01 1.09795885e+01]\n",
            "   [1.67856750e+01 1.77856750e+01 1.27856750e+01]\n",
            "   [1.59438677e+01 1.57295818e+01 1.37295818e+01]\n",
            "   ...\n",
            "   [2.20729599e+02 2.11729599e+02 1.94729599e+02]\n",
            "   [2.20933655e+02 2.09933655e+02 1.91933655e+02]\n",
            "   [2.21688843e+02 2.10688843e+02 1.92688843e+02]]\n",
            "\n",
            "  [[1.42295446e+01 1.52295446e+01 9.22954464e+00]\n",
            "   [1.33316650e+01 1.43316650e+01 9.33166504e+00]\n",
            "   [1.57857141e+01 1.57857141e+01 1.42142859e+01]\n",
            "   ...\n",
            "   [2.18719345e+02 2.09719345e+02 1.92719345e+02]\n",
            "   [2.22025513e+02 2.11025513e+02 1.93025513e+02]\n",
            "   [2.21102020e+02 2.10102020e+02 1.92102020e+02]]]\n",
            "\n",
            "\n",
            " [[[9.54132614e+01 1.95561218e+01 1.84183657e+00]\n",
            "   [9.46683655e+01 2.29540825e+01 7.57142925e+00]\n",
            "   [8.89234695e+01 2.60714283e+01 1.23673468e+01]\n",
            "   ...\n",
            "   [4.15816383e+01 1.10101671e+01 1.60101662e+01]\n",
            "   [4.14388313e+01 9.51027203e+00 1.21530638e+01]\n",
            "   [4.43621483e+01 1.33621473e+01 1.10049696e+01]]\n",
            "\n",
            "  [[7.13775406e+01 2.29744892e+01 1.27091846e+01]\n",
            "   [6.64948883e+01 2.24132633e+01 1.49948978e+01]\n",
            "   [5.97142792e+01 2.07704067e+01 1.56989784e+01]\n",
            "   ...\n",
            "   [3.94286346e+01 7.64290047e+00 1.28571644e+01]\n",
            "   [4.50611954e+01 1.30662985e+01 1.59081068e+01]\n",
            "   [4.37193604e+01 9.71936035e+00 8.36218262e+00]]\n",
            "\n",
            "  [[4.36326523e+01 2.68469372e+01 2.65612240e+01]\n",
            "   [4.13979568e+01 2.53265305e+01 2.59693871e+01]\n",
            "   [4.24030609e+01 2.80255108e+01 3.03571434e+01]\n",
            "   ...\n",
            "   [4.26632576e+01 8.16830635e+00 1.36632118e+01]\n",
            "   [3.79796944e+01 3.97969294e+00 4.97969294e+00]\n",
            "   [4.29487648e+01 8.94876480e+00 7.94876480e+00]]\n",
            "\n",
            "  ...\n",
            "\n",
            "  [[5.49745064e+01 4.52703896e+01 6.55100775e+00]\n",
            "   [5.22449150e+01 3.98877068e+01 4.67344284e+00]\n",
            "   [5.62653351e+01 4.39081268e+01 1.00306091e+01]\n",
            "   ...\n",
            "   [1.69050827e+02 1.65387527e+02 1.27387527e+02]\n",
            "   [1.73984634e+02 1.71770370e+02 1.34872299e+02]\n",
            "   [1.73009995e+02 1.69795731e+02 1.36081314e+02]]\n",
            "\n",
            "  [[5.57295799e+01 4.17295799e+01 6.72958136e+00]\n",
            "   [5.65664024e+01 4.25664024e+01 7.56640339e+00]\n",
            "   [6.23367577e+01 4.73061409e+01 1.47500200e+01]\n",
            "   ...\n",
            "   [1.69642731e+02 1.66214203e+02 1.25856995e+02]\n",
            "   [1.68923462e+02 1.68066345e+02 1.19622375e+02]\n",
            "   [1.76000000e+02 1.76071442e+02 1.23591759e+02]]\n",
            "\n",
            "  [[5.86429634e+01 4.26429634e+01 8.64296150e+00]\n",
            "   [6.33162308e+01 4.73162308e+01 1.43162308e+01]\n",
            "   [6.83827591e+01 5.13827591e+01 2.13827591e+01]\n",
            "   ...\n",
            "   [1.66713959e+02 1.63071167e+02 1.21571014e+02]\n",
            "   [1.70734634e+02 1.69806076e+02 1.14663078e+02]\n",
            "   [1.66560745e+02 1.69147522e+02 1.02718811e+02]]]\n",
            "\n",
            "\n",
            " ...\n",
            "\n",
            "\n",
            " [[[6.42857194e-01 2.64285707e+00 1.64285719e+00]\n",
            "   [1.00000000e+00 3.00000000e+00 2.00000000e+00]\n",
            "   [1.00000000e+00 3.00000000e+00 2.00000000e+00]\n",
            "   ...\n",
            "   [1.68571205e+01 1.96428566e+01 8.00006580e+00]\n",
            "   [5.78567505e+00 1.07856750e+01 3.78567505e+00]\n",
            "   [2.71432066e+00 8.94390011e+00 4.25516176e+00]]\n",
            "\n",
            "  [[0.00000000e+00 2.00000000e+00 1.00000000e+00]\n",
            "   [1.00000000e+00 3.00000000e+00 2.00000000e+00]\n",
            "   [7.85714149e-01 2.78571415e+00 1.78571415e+00]\n",
            "   ...\n",
            "   [1.51734447e+01 1.79591808e+01 6.33169317e+00]\n",
            "   [5.79079103e+00 1.07907915e+01 3.79079103e+00]\n",
            "   [4.31126165e+00 1.13112621e+01 4.31126165e+00]]\n",
            "\n",
            "  [[0.00000000e+00 2.00000000e+00 2.14285612e-01]\n",
            "   [9.43877757e-01 2.94387770e+00 4.28571224e-01]\n",
            "   [1.68367237e-01 2.16836715e+00 3.82652849e-01]\n",
            "   ...\n",
            "   [1.41937780e+01 1.69795132e+01 5.55098629e+00]\n",
            "   [4.14284420e+00 9.14284420e+00 2.14284396e+00]\n",
            "   [2.64800143e+00 9.64800167e+00 2.64800143e+00]]\n",
            "\n",
            "  ...\n",
            "\n",
            "  [[1.12581635e+02 8.12245178e+01 5.58163023e+00]\n",
            "   [1.07801003e+02 7.64438858e+01 2.65814614e+00]\n",
            "   [1.05714256e+02 7.33571396e+01 2.57141972e+00]\n",
            "   ...\n",
            "   [0.00000000e+00 3.21426392e+00 0.00000000e+00]\n",
            "   [1.00000000e+00 3.00000000e+00 2.00000000e+00]\n",
            "   [3.71435547e+00 2.71435547e+00 7.71435547e+00]]\n",
            "\n",
            "  [[1.12357140e+02 8.33571396e+01 3.49996519e+00]\n",
            "   [1.05423447e+02 7.64234467e+01 2.80595243e-01]\n",
            "   [1.02428551e+02 7.24285507e+01 1.27519876e-01]\n",
            "   ...\n",
            "   [0.00000000e+00 3.21426392e+00 0.00000000e+00]\n",
            "   [1.00000000e+00 3.00000000e+00 2.00000000e+00]\n",
            "   [3.71435547e+00 2.71435547e+00 7.71435547e+00]]\n",
            "\n",
            "  [[1.08714294e+02 8.07142944e+01 0.00000000e+00]\n",
            "   [1.03000008e+02 7.40000076e+01 0.00000000e+00]\n",
            "   [1.01989799e+02 7.19897995e+01 0.00000000e+00]\n",
            "   ...\n",
            "   [0.00000000e+00 3.21426392e+00 0.00000000e+00]\n",
            "   [1.00000000e+00 3.00000000e+00 2.00000000e+00]\n",
            "   [3.71435547e+00 2.71435547e+00 7.71435547e+00]]]\n",
            "\n",
            "\n",
            " [[[1.53214279e+02 1.32214279e+02 6.59285736e+01]\n",
            "   [1.55693878e+02 1.33622452e+02 6.09795914e+01]\n",
            "   [1.58933685e+02 1.36505112e+02 6.17193871e+01]\n",
            "   ...\n",
            "   [1.66326904e+02 1.26755432e+02 7.67452011e+01]\n",
            "   [1.63642838e+02 1.24714287e+02 6.73570786e+01]\n",
            "   [1.60540665e+02 1.22897842e+02 5.68263130e+01]]\n",
            "\n",
            "  [[1.62591843e+02 1.39234695e+02 7.33061295e+01]\n",
            "   [1.59709198e+02 1.37637756e+02 6.48622437e+01]\n",
            "   [1.67357147e+02 1.42928574e+02 6.89285736e+01]\n",
            "   ...\n",
            "   [1.73448929e+02 1.34076416e+02 8.21784515e+01]\n",
            "   [1.65132706e+02 1.26204147e+02 6.88469391e+01]\n",
            "   [1.67188629e+02 1.29188629e+02 6.54742813e+01]]\n",
            "\n",
            "  [[1.71979584e+02 1.46556122e+02 7.49081650e+01]\n",
            "   [1.67270416e+02 1.41056122e+02 6.52857132e+01]\n",
            "   [1.69571426e+02 1.43265305e+02 6.49489822e+01]\n",
            "   ...\n",
            "   [1.73265381e+02 1.36525574e+02 8.38163910e+01]\n",
            "   [1.78913254e+02 1.42397949e+02 8.68723831e+01]\n",
            "   [1.66938477e+02 1.31647690e+02 6.91476212e+01]]\n",
            "\n",
            "  ...\n",
            "\n",
            "  [[6.82396088e+01 5.12344666e+01 3.15252533e+01]\n",
            "   [5.69487686e+01 4.00916061e+01 2.23772774e+01]\n",
            "   [7.50969391e+01 5.96938210e+01 4.39999352e+01]\n",
            "   ...\n",
            "   [4.00000000e+00 2.00000000e+00 5.00000000e+00]\n",
            "   [7.01530743e+00 5.01530743e+00 6.44383526e+00]\n",
            "   [5.56629181e+00 3.56629205e+00 4.99481964e+00]]\n",
            "\n",
            "  [[6.13010216e+01 4.13010216e+01 1.73010216e+01]\n",
            "   [7.39489441e+01 5.29489479e+01 3.36734123e+01]\n",
            "   [6.11276016e+01 4.19694099e+01 2.54132900e+01]\n",
            "   ...\n",
            "   [4.85717773e+00 2.85717773e+00 3.85717773e+00]\n",
            "   [5.99489594e+00 4.13267565e+00 4.71933746e+00]\n",
            "   [5.92855835e+00 4.92855835e+00 2.92855835e+00]]\n",
            "\n",
            "  [[6.54999313e+01 4.34999313e+01 1.94999313e+01]\n",
            "   [6.91123352e+01 4.60408058e+01 2.45917969e+01]\n",
            "   [6.77961426e+01 4.39542236e+01 2.81021576e+01]\n",
            "   ...\n",
            "   [7.06638336e+00 5.85211945e+00 4.49491119e+00]\n",
            "   [5.52545643e+00 4.52545643e+00 2.52545643e+00]\n",
            "   [4.22960186e+00 3.22960186e+00 0.00000000e+00]]]\n",
            "\n",
            "\n",
            " [[[2.13540817e+02 1.63806122e+02 9.16632690e+01]\n",
            "   [2.15403061e+02 1.61811218e+02 5.92091827e+01]\n",
            "   [2.17280609e+02 1.57091827e+02 5.85765305e+01]\n",
            "   ...\n",
            "   [4.92857780e+01 1.67040977e+01 2.78560543e+00]\n",
            "   [6.12091942e+01 2.53061523e+01 1.04591370e+00]\n",
            "   [5.93571777e+01 2.76582546e+01 2.55126953e-01]]\n",
            "\n",
            "  [[2.19423477e+02 1.68311234e+02 5.43775520e+01]\n",
            "   [2.17877548e+02 1.63214279e+02 4.61122475e+01]\n",
            "   [2.20831635e+02 1.60545929e+02 7.97499924e+01]\n",
            "   ...\n",
            "   [6.74030533e+01 2.69030781e+01 2.32649016e+00]\n",
            "   [6.82703247e+01 3.27652893e+01 6.57649231e+00]\n",
            "   [5.49541206e+01 2.83827248e+01 2.35728240e+00]]\n",
            "\n",
            "  [[2.19219391e+02 1.62270416e+02 5.87551041e+01]\n",
            "   [2.18000000e+02 1.62010208e+02 4.96173477e+01]\n",
            "   [2.15719391e+02 1.64219391e+02 6.12091827e+01]\n",
            "   ...\n",
            "   [7.26988297e+01 2.83162136e+01 2.14285612e-01]\n",
            "   [5.81274414e+01 2.59846382e+01 2.28568792e+00]\n",
            "   [4.81991310e+01 2.20512352e+01 1.98999035e+00]]\n",
            "\n",
            "  ...\n",
            "\n",
            "  [[4.57656860e+00 1.37760714e-01 1.55102367e+01]\n",
            "   [5.15817261e+00 3.08674455e+00 8.37245750e+00]\n",
            "   [5.04592896e+00 2.59696293e+00 1.24540977e+01]\n",
            "   ...\n",
            "   [3.57144165e+00 4.00003052e+00 1.00713806e+01]\n",
            "   [1.65813184e+00 1.92855835e+00 8.47439575e+00]\n",
            "   [2.80636549e-01 1.28063655e+00 5.63775301e+00]]\n",
            "\n",
            "  [[9.92350483e+00 6.42857194e-01 1.74999828e+01]\n",
            "   [5.13773870e+00 3.92857170e+00 9.21428490e+00]\n",
            "   [4.54078913e+00 4.05610895e+00 1.33265219e+01]\n",
            "   ...\n",
            "   [1.85714722e+00 3.85714722e+00 9.99969482e-01]\n",
            "   [9.28558350e-01 2.85714722e+00 3.46882731e-01]\n",
            "   [3.31671268e-01 2.26026011e+00 1.47449350e+00]]\n",
            "\n",
            "  [[1.03571339e+01 8.26525092e-01 1.52550964e+01]\n",
            "   [3.18877459e+00 3.57142448e+00 5.92856598e+00]\n",
            "   [2.42857170e+00 1.78571415e+00 1.27244835e+01]\n",
            "   ...\n",
            "   [1.78573608e+00 3.14288330e+00 5.35714722e+00]\n",
            "   [1.97448480e+00 2.92855835e+00 6.99489594e+00]\n",
            "   [2.87246537e+00 3.22961259e+00 1.02602491e+01]]]], shape=(32, 224, 224, 3), dtype=float32) tf.Tensor(\n",
            "[[0. 0. 0. 0. 0. 0. 1. 0. 0. 0.]\n",
            " [0. 0. 0. 0. 0. 0. 0. 0. 0. 1.]\n",
            " [0. 1. 0. 0. 0. 0. 0. 0. 0. 0.]\n",
            " [0. 0. 0. 0. 0. 0. 0. 1. 0. 0.]\n",
            " [0. 0. 0. 0. 1. 0. 0. 0. 0. 0.]\n",
            " [0. 0. 1. 0. 0. 0. 0. 0. 0. 0.]\n",
            " [0. 0. 0. 0. 0. 0. 0. 0. 1. 0.]\n",
            " [0. 0. 0. 1. 0. 0. 0. 0. 0. 0.]\n",
            " [0. 1. 0. 0. 0. 0. 0. 0. 0. 0.]\n",
            " [0. 0. 0. 1. 0. 0. 0. 0. 0. 0.]\n",
            " [0. 0. 0. 0. 0. 0. 0. 1. 0. 0.]\n",
            " [0. 0. 0. 0. 0. 0. 0. 0. 1. 0.]\n",
            " [0. 0. 0. 0. 1. 0. 0. 0. 0. 0.]\n",
            " [0. 0. 0. 0. 0. 1. 0. 0. 0. 0.]\n",
            " [0. 1. 0. 0. 0. 0. 0. 0. 0. 0.]\n",
            " [0. 0. 0. 1. 0. 0. 0. 0. 0. 0.]\n",
            " [0. 0. 0. 0. 0. 0. 1. 0. 0. 0.]\n",
            " [0. 1. 0. 0. 0. 0. 0. 0. 0. 0.]\n",
            " [0. 0. 0. 0. 0. 0. 0. 1. 0. 0.]\n",
            " [0. 0. 0. 0. 1. 0. 0. 0. 0. 0.]\n",
            " [0. 0. 0. 0. 0. 0. 0. 1. 0. 0.]\n",
            " [0. 0. 0. 1. 0. 0. 0. 0. 0. 0.]\n",
            " [0. 0. 1. 0. 0. 0. 0. 0. 0. 0.]\n",
            " [0. 0. 0. 1. 0. 0. 0. 0. 0. 0.]\n",
            " [0. 0. 0. 0. 0. 0. 0. 0. 0. 1.]\n",
            " [0. 0. 0. 0. 0. 0. 0. 0. 1. 0.]\n",
            " [0. 0. 0. 0. 1. 0. 0. 0. 0. 0.]\n",
            " [0. 1. 0. 0. 0. 0. 0. 0. 0. 0.]\n",
            " [0. 0. 1. 0. 0. 0. 0. 0. 0. 0.]\n",
            " [0. 0. 0. 0. 1. 0. 0. 0. 0. 0.]\n",
            " [0. 0. 0. 0. 1. 0. 0. 0. 0. 0.]\n",
            " [0. 0. 1. 0. 0. 0. 0. 0. 0. 0.]], shape=(32, 10), dtype=float32)\n"
          ]
        }
      ]
    },
    {
      "cell_type": "markdown",
      "source": [
        "## Build Transfer Learning model using Functional API\n",
        "\n",
        "The Sequential API is straight forward, it runs our layer in sequential order\n",
        "\n",
        "But the Functional API gives us more flexibility with our models :- \n",
        "\n",
        "[Tensorflow Keras Functional API](https://www.tensorflow.org/guide/keras/functional)"
      ],
      "metadata": {
        "id": "GsWSb0zW1hyU"
      }
    },
    {
      "cell_type": "code",
      "source": [
        "# 1. Create bas model with tf.keras.applications\n",
        "base_model = tf.keras.applications.EfficientNetB0(include_top=False)\n",
        "\n",
        "# 2. Freeze the base model (so the underlying pre-trained patterns aren't updated during training)\n",
        "base_model.trainable = False\n",
        "\n",
        "# 3. Create inputs in our model\n",
        "inputs = tf.keras.layers.Input(shape=(224,224,3), name=\"input_layer\")\n",
        "\n",
        "# 4. If using a model like ResNet50V2 you will need to normalize inputs (you don't need to for EfficientNet)\n",
        "#x = tf.keras.layers.experimental.preprocessing.Rescaling(1./255)(inputs)\n",
        "\n",
        "# 5. Pass the inputs to the base_model\n",
        "x = base_model(inputs)\n",
        "print(f\"Shape after passing inputs through base model: {x.shape}\")\n",
        "\n",
        "# 6. Average pool the outputs of the base model (aggregate all the important information, reduce number of computations)\n",
        "x = tf.keras.layers.GlobalAveragePooling2D(name=\"global_average_pooling_layer\")(x)\n",
        "print(f\"Shape after GlobalAveragePooling2D: {x.shape}\")\n",
        "\n",
        "# 7. Create the output activation layer\n",
        "outputs = tf.keras.layers.Dense(10, activation=\"softmax\", name=\"output_layer\")(x)\n",
        "\n",
        "# 8. Combine the inputs with the outputs into a model\n",
        "model_0 = tf.keras.Model(inputs, outputs)\n",
        "\n",
        "# 9. Compile the model\n",
        "model_0.compile(loss=tf.keras.losses.CategoricalCrossentropy(),\n",
        "                optimizer=tf.keras.optimizers.Adam(),\n",
        "                metrics=[\"accuracy\"])\n",
        "\n",
        "# 10. Fit the model and save it's history\n",
        "history_10_percent = model_0.fit(train_data_10_percent,\n",
        "                                 epochs=5,\n",
        "                                 steps_per_epoch=len(train_data_10_percent),\n",
        "                                 validation_data=test_data,\n",
        "                                 validation_steps=int(0.25 * len(test_data)),\n",
        "                                 callbacks=[create_tensorboard_callback(dir_name=\"transfer_learning\",\n",
        "                                                                        experiment_name=\"10_percent_feature_extraction\")])"
      ],
      "metadata": {
        "id": "Jte4mPvdwHsS",
        "outputId": "45abc3c2-791e-4bb1-f76c-28195843dac8",
        "colab": {
          "base_uri": "https://localhost:8080/"
        }
      },
      "execution_count": 10,
      "outputs": [
        {
          "output_type": "stream",
          "name": "stdout",
          "text": [
            "Downloading data from https://storage.googleapis.com/keras-applications/efficientnetb0_notop.h5\n",
            "16711680/16705208 [==============================] - 0s 0us/step\n",
            "16719872/16705208 [==============================] - 0s 0us/step\n",
            "Shape after passing inputs through base model: (None, 7, 7, 1280)\n",
            "Shape after GlobalAveragePooling2D: (None, 1280)\n",
            "Saving TensorBoard log files to: transfer_learning/10_percent_feature_extraction/20220214-084209\n",
            "Epoch 1/5\n"
          ]
        },
        {
          "output_type": "stream",
          "name": "stderr",
          "text": [
            "/usr/local/lib/python3.7/dist-packages/keras/engine/functional.py:1410: CustomMaskWarning: Custom mask layers require a config and must override get_config. When loading, the custom mask layer must be passed to the custom_objects argument.\n",
            "  layer_config = serialize_layer_fn(layer)\n"
          ]
        },
        {
          "output_type": "stream",
          "name": "stdout",
          "text": [
            "24/24 [==============================] - 24s 358ms/step - loss: 1.8834 - accuracy: 0.3960 - val_loss: 1.3226 - val_accuracy: 0.6990\n",
            "Epoch 2/5\n",
            "24/24 [==============================] - 7s 266ms/step - loss: 1.1461 - accuracy: 0.7427 - val_loss: 0.9116 - val_accuracy: 0.7895\n",
            "Epoch 3/5\n",
            "24/24 [==============================] - 7s 266ms/step - loss: 0.8533 - accuracy: 0.7973 - val_loss: 0.7300 - val_accuracy: 0.8257\n",
            "Epoch 4/5\n",
            "24/24 [==============================] - 7s 264ms/step - loss: 0.6977 - accuracy: 0.8147 - val_loss: 0.6442 - val_accuracy: 0.8339\n",
            "Epoch 5/5\n",
            "24/24 [==============================] - 7s 263ms/step - loss: 0.6037 - accuracy: 0.8493 - val_loss: 0.6114 - val_accuracy: 0.8289\n"
          ]
        }
      ]
    },
    {
      "cell_type": "code",
      "source": [
        "# Evaluate on full test dataset\n",
        "model_0.evaluate(test_data)"
      ],
      "metadata": {
        "id": "Rdwh5VzRXcef",
        "outputId": "a01f4ab8-9797-471f-eccf-a21d01daafd5",
        "colab": {
          "base_uri": "https://localhost:8080/"
        }
      },
      "execution_count": 11,
      "outputs": [
        {
          "output_type": "stream",
          "name": "stdout",
          "text": [
            "79/79 [==============================] - 11s 137ms/step - loss: 0.6002 - accuracy: 0.8432\n"
          ]
        },
        {
          "output_type": "execute_result",
          "data": {
            "text/plain": [
              "[0.6002182364463806, 0.8432000279426575]"
            ]
          },
          "metadata": {},
          "execution_count": 11
        }
      ]
    },
    {
      "cell_type": "code",
      "source": [
        "# Check the layers in our base model\n",
        "for layer_number, layer in enumerate(base_model.layers):\n",
        "  print(layer_number, layer.name)"
      ],
      "metadata": {
        "id": "6cGaa8W0X9NI",
        "outputId": "766b6fd0-e643-43f8-aa57-51a1b5be39af",
        "colab": {
          "base_uri": "https://localhost:8080/"
        }
      },
      "execution_count": 12,
      "outputs": [
        {
          "output_type": "stream",
          "name": "stdout",
          "text": [
            "0 input_1\n",
            "1 rescaling\n",
            "2 normalization\n",
            "3 stem_conv_pad\n",
            "4 stem_conv\n",
            "5 stem_bn\n",
            "6 stem_activation\n",
            "7 block1a_dwconv\n",
            "8 block1a_bn\n",
            "9 block1a_activation\n",
            "10 block1a_se_squeeze\n",
            "11 block1a_se_reshape\n",
            "12 block1a_se_reduce\n",
            "13 block1a_se_expand\n",
            "14 block1a_se_excite\n",
            "15 block1a_project_conv\n",
            "16 block1a_project_bn\n",
            "17 block2a_expand_conv\n",
            "18 block2a_expand_bn\n",
            "19 block2a_expand_activation\n",
            "20 block2a_dwconv_pad\n",
            "21 block2a_dwconv\n",
            "22 block2a_bn\n",
            "23 block2a_activation\n",
            "24 block2a_se_squeeze\n",
            "25 block2a_se_reshape\n",
            "26 block2a_se_reduce\n",
            "27 block2a_se_expand\n",
            "28 block2a_se_excite\n",
            "29 block2a_project_conv\n",
            "30 block2a_project_bn\n",
            "31 block2b_expand_conv\n",
            "32 block2b_expand_bn\n",
            "33 block2b_expand_activation\n",
            "34 block2b_dwconv\n",
            "35 block2b_bn\n",
            "36 block2b_activation\n",
            "37 block2b_se_squeeze\n",
            "38 block2b_se_reshape\n",
            "39 block2b_se_reduce\n",
            "40 block2b_se_expand\n",
            "41 block2b_se_excite\n",
            "42 block2b_project_conv\n",
            "43 block2b_project_bn\n",
            "44 block2b_drop\n",
            "45 block2b_add\n",
            "46 block3a_expand_conv\n",
            "47 block3a_expand_bn\n",
            "48 block3a_expand_activation\n",
            "49 block3a_dwconv_pad\n",
            "50 block3a_dwconv\n",
            "51 block3a_bn\n",
            "52 block3a_activation\n",
            "53 block3a_se_squeeze\n",
            "54 block3a_se_reshape\n",
            "55 block3a_se_reduce\n",
            "56 block3a_se_expand\n",
            "57 block3a_se_excite\n",
            "58 block3a_project_conv\n",
            "59 block3a_project_bn\n",
            "60 block3b_expand_conv\n",
            "61 block3b_expand_bn\n",
            "62 block3b_expand_activation\n",
            "63 block3b_dwconv\n",
            "64 block3b_bn\n",
            "65 block3b_activation\n",
            "66 block3b_se_squeeze\n",
            "67 block3b_se_reshape\n",
            "68 block3b_se_reduce\n",
            "69 block3b_se_expand\n",
            "70 block3b_se_excite\n",
            "71 block3b_project_conv\n",
            "72 block3b_project_bn\n",
            "73 block3b_drop\n",
            "74 block3b_add\n",
            "75 block4a_expand_conv\n",
            "76 block4a_expand_bn\n",
            "77 block4a_expand_activation\n",
            "78 block4a_dwconv_pad\n",
            "79 block4a_dwconv\n",
            "80 block4a_bn\n",
            "81 block4a_activation\n",
            "82 block4a_se_squeeze\n",
            "83 block4a_se_reshape\n",
            "84 block4a_se_reduce\n",
            "85 block4a_se_expand\n",
            "86 block4a_se_excite\n",
            "87 block4a_project_conv\n",
            "88 block4a_project_bn\n",
            "89 block4b_expand_conv\n",
            "90 block4b_expand_bn\n",
            "91 block4b_expand_activation\n",
            "92 block4b_dwconv\n",
            "93 block4b_bn\n",
            "94 block4b_activation\n",
            "95 block4b_se_squeeze\n",
            "96 block4b_se_reshape\n",
            "97 block4b_se_reduce\n",
            "98 block4b_se_expand\n",
            "99 block4b_se_excite\n",
            "100 block4b_project_conv\n",
            "101 block4b_project_bn\n",
            "102 block4b_drop\n",
            "103 block4b_add\n",
            "104 block4c_expand_conv\n",
            "105 block4c_expand_bn\n",
            "106 block4c_expand_activation\n",
            "107 block4c_dwconv\n",
            "108 block4c_bn\n",
            "109 block4c_activation\n",
            "110 block4c_se_squeeze\n",
            "111 block4c_se_reshape\n",
            "112 block4c_se_reduce\n",
            "113 block4c_se_expand\n",
            "114 block4c_se_excite\n",
            "115 block4c_project_conv\n",
            "116 block4c_project_bn\n",
            "117 block4c_drop\n",
            "118 block4c_add\n",
            "119 block5a_expand_conv\n",
            "120 block5a_expand_bn\n",
            "121 block5a_expand_activation\n",
            "122 block5a_dwconv\n",
            "123 block5a_bn\n",
            "124 block5a_activation\n",
            "125 block5a_se_squeeze\n",
            "126 block5a_se_reshape\n",
            "127 block5a_se_reduce\n",
            "128 block5a_se_expand\n",
            "129 block5a_se_excite\n",
            "130 block5a_project_conv\n",
            "131 block5a_project_bn\n",
            "132 block5b_expand_conv\n",
            "133 block5b_expand_bn\n",
            "134 block5b_expand_activation\n",
            "135 block5b_dwconv\n",
            "136 block5b_bn\n",
            "137 block5b_activation\n",
            "138 block5b_se_squeeze\n",
            "139 block5b_se_reshape\n",
            "140 block5b_se_reduce\n",
            "141 block5b_se_expand\n",
            "142 block5b_se_excite\n",
            "143 block5b_project_conv\n",
            "144 block5b_project_bn\n",
            "145 block5b_drop\n",
            "146 block5b_add\n",
            "147 block5c_expand_conv\n",
            "148 block5c_expand_bn\n",
            "149 block5c_expand_activation\n",
            "150 block5c_dwconv\n",
            "151 block5c_bn\n",
            "152 block5c_activation\n",
            "153 block5c_se_squeeze\n",
            "154 block5c_se_reshape\n",
            "155 block5c_se_reduce\n",
            "156 block5c_se_expand\n",
            "157 block5c_se_excite\n",
            "158 block5c_project_conv\n",
            "159 block5c_project_bn\n",
            "160 block5c_drop\n",
            "161 block5c_add\n",
            "162 block6a_expand_conv\n",
            "163 block6a_expand_bn\n",
            "164 block6a_expand_activation\n",
            "165 block6a_dwconv_pad\n",
            "166 block6a_dwconv\n",
            "167 block6a_bn\n",
            "168 block6a_activation\n",
            "169 block6a_se_squeeze\n",
            "170 block6a_se_reshape\n",
            "171 block6a_se_reduce\n",
            "172 block6a_se_expand\n",
            "173 block6a_se_excite\n",
            "174 block6a_project_conv\n",
            "175 block6a_project_bn\n",
            "176 block6b_expand_conv\n",
            "177 block6b_expand_bn\n",
            "178 block6b_expand_activation\n",
            "179 block6b_dwconv\n",
            "180 block6b_bn\n",
            "181 block6b_activation\n",
            "182 block6b_se_squeeze\n",
            "183 block6b_se_reshape\n",
            "184 block6b_se_reduce\n",
            "185 block6b_se_expand\n",
            "186 block6b_se_excite\n",
            "187 block6b_project_conv\n",
            "188 block6b_project_bn\n",
            "189 block6b_drop\n",
            "190 block6b_add\n",
            "191 block6c_expand_conv\n",
            "192 block6c_expand_bn\n",
            "193 block6c_expand_activation\n",
            "194 block6c_dwconv\n",
            "195 block6c_bn\n",
            "196 block6c_activation\n",
            "197 block6c_se_squeeze\n",
            "198 block6c_se_reshape\n",
            "199 block6c_se_reduce\n",
            "200 block6c_se_expand\n",
            "201 block6c_se_excite\n",
            "202 block6c_project_conv\n",
            "203 block6c_project_bn\n",
            "204 block6c_drop\n",
            "205 block6c_add\n",
            "206 block6d_expand_conv\n",
            "207 block6d_expand_bn\n",
            "208 block6d_expand_activation\n",
            "209 block6d_dwconv\n",
            "210 block6d_bn\n",
            "211 block6d_activation\n",
            "212 block6d_se_squeeze\n",
            "213 block6d_se_reshape\n",
            "214 block6d_se_reduce\n",
            "215 block6d_se_expand\n",
            "216 block6d_se_excite\n",
            "217 block6d_project_conv\n",
            "218 block6d_project_bn\n",
            "219 block6d_drop\n",
            "220 block6d_add\n",
            "221 block7a_expand_conv\n",
            "222 block7a_expand_bn\n",
            "223 block7a_expand_activation\n",
            "224 block7a_dwconv\n",
            "225 block7a_bn\n",
            "226 block7a_activation\n",
            "227 block7a_se_squeeze\n",
            "228 block7a_se_reshape\n",
            "229 block7a_se_reduce\n",
            "230 block7a_se_expand\n",
            "231 block7a_se_excite\n",
            "232 block7a_project_conv\n",
            "233 block7a_project_bn\n",
            "234 top_conv\n",
            "235 top_bn\n",
            "236 top_activation\n"
          ]
        }
      ]
    },
    {
      "cell_type": "code",
      "source": [
        "# Summary of our whole model\n",
        "model_0.summary()"
      ],
      "metadata": {
        "id": "0_nl6M4oYhYA",
        "outputId": "e4591365-8020-4f57-f1d0-ad3605a90b65",
        "colab": {
          "base_uri": "https://localhost:8080/"
        }
      },
      "execution_count": 13,
      "outputs": [
        {
          "output_type": "stream",
          "name": "stdout",
          "text": [
            "Model: \"model\"\n",
            "_________________________________________________________________\n",
            " Layer (type)                Output Shape              Param #   \n",
            "=================================================================\n",
            " input_layer (InputLayer)    [(None, 224, 224, 3)]     0         \n",
            "                                                                 \n",
            " efficientnetb0 (Functional)  (None, None, None, 1280)  4049571  \n",
            "                                                                 \n",
            " global_average_pooling_laye  (None, 1280)             0         \n",
            " r (GlobalAveragePooling2D)                                      \n",
            "                                                                 \n",
            " output_layer (Dense)        (None, 10)                12810     \n",
            "                                                                 \n",
            "=================================================================\n",
            "Total params: 4,062,381\n",
            "Trainable params: 12,810\n",
            "Non-trainable params: 4,049,571\n",
            "_________________________________________________________________\n"
          ]
        }
      ]
    },
    {
      "cell_type": "code",
      "source": [
        "# Check out our model's training curves\n",
        "plot_loss_curves(history_10_percent)"
      ],
      "metadata": {
        "id": "tsxCJlpLZPom",
        "outputId": "71e472cd-6065-4a89-efd3-767403074bfc",
        "colab": {
          "base_uri": "https://localhost:8080/",
          "height": 573
        }
      },
      "execution_count": 14,
      "outputs": [
        {
          "output_type": "display_data",
          "data": {
            "image/png": "[encoded data removed]",
            "text/plain": [
              "<Figure size 432x288 with 1 Axes>"
            ]
          },
          "metadata": {
            "needs_background": "light"
          }
        },
        {
          "output_type": "display_data",
          "data": {
            "image/png": "[encoded data removed]",
            "text/plain": [
              "<Figure size 432x288 with 1 Axes>"
            ]
          },
          "metadata": {
            "needs_background": "light"
          }
        }
      ]
    },
    {
      "cell_type": "markdown",
      "source": [
        "## Get a feature vector from a trained model\n",
        "\n",
        "Let's demonstrate the Global Average Pooling 2D layer\n",
        "\n",
        "We have a tensor after our model goes through 'base model' of \n",
        "shape(None, 7, 7, 1280) \n",
        "\n",
        "But when it passes through GlobalAveragePooling2D, it turns into \n",
        "shape(None, 1280)..\n",
        "\n",
        "Let's use a similar shaped tensor of (1, 4, 4, 3) and then pass it\n",
        "to GlobalAveragePooling2D.\n"
      ],
      "metadata": {
        "id": "dKy8tPOTZqLh"
      }
    },
    {
      "cell_type": "code",
      "source": [
        "# Define the input shape\n",
        "input_shape = (1, 4, 4, 3)\n",
        "\n",
        "# Create a random tensor\n",
        "tf.random.set_seed(42)\n",
        "input_tensor = tf.random.normal(input_shape)\n",
        "print(f\"Random input tensor:\\n{input_tensor}\\n\")"
      ],
      "metadata": {
        "id": "aJgCViaTaHov",
        "outputId": "892fab3c-23dc-4314-f0c6-d8cf151784d0",
        "colab": {
          "base_uri": "https://localhost:8080/"
        }
      },
      "execution_count": 16,
      "outputs": [
        {
          "output_type": "stream",
          "name": "stdout",
          "text": [
            "Random input tensor:\n",
            "[[[[ 0.3274685  -0.8426258   0.3194337 ]\n",
            "   [-1.4075519  -2.3880599  -1.0392479 ]\n",
            "   [-0.5573232   0.539707    1.6994323 ]\n",
            "   [ 0.28893656 -1.5066116  -0.2645474 ]]\n",
            "\n",
            "  [[-0.59722406 -1.9171132  -0.62044144]\n",
            "   [ 0.8504023  -0.40604794 -3.0258412 ]\n",
            "   [ 0.9058464   0.29855987 -0.22561555]\n",
            "   [-0.7616443  -1.8917141  -0.93847126]]\n",
            "\n",
            "  [[ 0.77852213 -0.47338897  0.97772694]\n",
            "   [ 0.24694404  0.20573747 -0.5256233 ]\n",
            "   [ 0.32410017  0.02545409 -0.10638497]\n",
            "   [-0.6369475   1.1603122   0.2507359 ]]\n",
            "\n",
            "  [[-0.41728503  0.4012578  -1.4145443 ]\n",
            "   [-0.5931857  -1.6617213   0.33567193]\n",
            "   [ 0.10815629  0.23479682 -0.56668764]\n",
            "   [-0.35819843  0.88698614  0.52744764]]]]\n",
            "\n"
          ]
        }
      ]
    },
    {
      "cell_type": "code",
      "source": [
        "# pass the random tensor through a global average pooling 2D layer\n",
        "global_average_pooled_tensor = tf.keras.layers.GlobalAveragePooling2D()(input_tensor) # Passing the input_tensor after the layer\n",
        "print(f\"2D global average pooled random tensor:\\n {global_average_pooled_tensor}\\n\")"
      ],
      "metadata": {
        "id": "LiwCBWFmcUCK",
        "outputId": "990865fc-54b8-47f8-c1d1-1cec4943e780",
        "colab": {
          "base_uri": "https://localhost:8080/"
        }
      },
      "execution_count": 17,
      "outputs": [
        {
          "output_type": "stream",
          "name": "stdout",
          "text": [
            "2D global average pooled random tensor:\n",
            " [[-0.09368646 -0.45840448 -0.2885598 ]]\n",
            "\n"
          ]
        }
      ]
    },
    {
      "cell_type": "code",
      "source": [
        "# Check the shapes of different tensors\n",
        "print(f\"Shape of input tensor: {input_tensor.shape}\")\n",
        "print(f\"Shape of the global average pooled 2D tensor : {global_average_pooled_tensor}\")"
      ],
      "metadata": {
        "id": "CghgbgSudtOu",
        "outputId": "2c20000a-5718-4c58-cad1-c24caccc43b6",
        "colab": {
          "base_uri": "https://localhost:8080/"
        }
      },
      "execution_count": 18,
      "outputs": [
        {
          "output_type": "stream",
          "name": "stdout",
          "text": [
            "Shape of input tensor: (1, 4, 4, 3)\n",
            "Shape of the global average pooled 2D tensor : [[-0.09368646 -0.45840448 -0.2885598 ]]\n"
          ]
        }
      ]
    },
    {
      "cell_type": "code",
      "source": [
        "# Let's replicate the GlobalAveragePooling2D layer\n",
        "tf.reduce_mean(input_tensor, axis=[1,2])"
      ],
      "metadata": {
        "id": "M0FsazsgeUCg",
        "outputId": "05ceb656-e7bb-4cd1-dd2e-4a1f353f5f18",
        "colab": {
          "base_uri": "https://localhost:8080/"
        }
      },
      "execution_count": 19,
      "outputs": [
        {
          "output_type": "execute_result",
          "data": {
            "text/plain": [
              "<tf.Tensor: shape=(1, 3), dtype=float32, numpy=array([[-0.09368646, -0.45840448, -0.2885598 ]], dtype=float32)>"
            ]
          },
          "metadata": {},
          "execution_count": 19
        }
      ]
    },
    {
      "cell_type": "code",
      "source": [
        "# Next lesson 9"
      ],
      "metadata": {
        "id": "jyzbChGIfoAN"
      },
      "execution_count": null,
      "outputs": []
    }
  ]
}