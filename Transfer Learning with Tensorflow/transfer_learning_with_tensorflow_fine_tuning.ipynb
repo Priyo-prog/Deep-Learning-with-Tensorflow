{
  "nbformat": 4,
  "nbformat_minor": 0,
  "metadata": {
    "colab": {
      "name": "transfer_learning_with_tensorflow_fine_tuning.ipynb",
      "provenance": [],
      "toc_visible": true,
      "authorship_tag": "ABX9TyOdOgopXMFoa56cgCJncIEO",
      "include_colab_link": true
    },
    "kernelspec": {
      "name": "python3",
      "display_name": "Python 3"
    },
    "language_info": {
      "name": "python"
    },
    "accelerator": "GPU"
  },
  "cells": [
    {
      "cell_type": "markdown",
      "metadata": {
        "id": "view-in-github",
        "colab_type": "text"
      },
      "source": [
        "<a href=\"https://colab.research.google.com/github/Priyo-prog/Deep-Learning-with-Tensorflow/blob/main/Transfer%20Learning%20with%20Tensorflow/transfer_learning_with_tensorflow_fine_tuning.ipynb\" target=\"_parent\"><img src=\"https://colab.research.google.com/assets/colab-badge.svg\" alt=\"Open In Colab\"/></a>"
      ]
    },
    {
      "cell_type": "markdown",
      "source": [
        "# **Transfer Learning with TensorFlow part 2: Fine Tuning**"
      ],
      "metadata": {
        "id": "BGZczUMg-gwo"
      }
    },
    {
      "cell_type": "code",
      "source": [
        "# Check the GPU we are using \n",
        "!nvidia-smi"
      ],
      "metadata": {
        "id": "GZl1cM8r_MjG",
        "outputId": "aadee7ff-7b72-48c7-d21f-3945e239d192",
        "colab": {
          "base_uri": "https://localhost:8080/"
        }
      },
      "execution_count": 1,
      "outputs": [
        {
          "output_type": "stream",
          "name": "stdout",
          "text": [
            "Fri Feb 18 03:34:23 2022       \n",
            "+-----------------------------------------------------------------------------+\n",
            "| NVIDIA-SMI 460.32.03    Driver Version: 460.32.03    CUDA Version: 11.2     |\n",
            "|-------------------------------+----------------------+----------------------+\n",
            "| GPU  Name        Persistence-M| Bus-Id        Disp.A | Volatile Uncorr. ECC |\n",
            "| Fan  Temp  Perf  Pwr:Usage/Cap|         Memory-Usage | GPU-Util  Compute M. |\n",
            "|                               |                      |               MIG M. |\n",
            "|===============================+======================+======================|\n",
            "|   0  Tesla K80           Off  | 00000000:00:04.0 Off |                    0 |\n",
            "| N/A   63C    P8    33W / 149W |      0MiB / 11441MiB |      0%      Default |\n",
            "|                               |                      |                  N/A |\n",
            "+-------------------------------+----------------------+----------------------+\n",
            "                                                                               \n",
            "+-----------------------------------------------------------------------------+\n",
            "| Processes:                                                                  |\n",
            "|  GPU   GI   CI        PID   Type   Process name                  GPU Memory |\n",
            "|        ID   ID                                                   Usage      |\n",
            "|=============================================================================|\n",
            "|  No running processes found                                                 |\n",
            "+-----------------------------------------------------------------------------+\n"
          ]
        }
      ]
    },
    {
      "cell_type": "markdown",
      "source": [
        "## Getting the helper function"
      ],
      "metadata": {
        "id": "OKnzfm5lBXFo"
      }
    },
    {
      "cell_type": "code",
      "source": [
        "!wget https://raw.githubusercontent.com/mrdbourke/tensorflow-deep-learning/main/extras/helper_functions.py"
      ],
      "metadata": {
        "id": "9A2P10YE_qKR",
        "outputId": "7ec30b79-a961-4139-e2a5-f8c362688f52",
        "colab": {
          "base_uri": "https://localhost:8080/"
        }
      },
      "execution_count": 2,
      "outputs": [
        {
          "output_type": "stream",
          "name": "stdout",
          "text": [
            "--2022-02-18 03:34:23--  https://raw.githubusercontent.com/mrdbourke/tensorflow-deep-learning/main/extras/helper_functions.py\n",
            "Resolving raw.githubusercontent.com (raw.githubusercontent.com)... 185.199.108.133, 185.199.109.133, 185.199.111.133, ...\n",
            "Connecting to raw.githubusercontent.com (raw.githubusercontent.com)|185.199.108.133|:443... connected.\n",
            "HTTP request sent, awaiting response... 200 OK\n",
            "Length: 10246 (10K) [text/plain]\n",
            "Saving to: ‘helper_functions.py’\n",
            "\n",
            "helper_functions.py 100%[===================>]  10.01K  --.-KB/s    in 0s      \n",
            "\n",
            "2022-02-18 03:34:23 (86.8 MB/s) - ‘helper_functions.py’ saved [10246/10246]\n",
            "\n"
          ]
        }
      ]
    },
    {
      "cell_type": "code",
      "source": [
        "# Import the helper functions we are going to use in this notebook\n",
        "from helper_functions import create_tensorboard_callback, plot_loss_curves, unzip_data, walk_through_dir"
      ],
      "metadata": {
        "id": "l3yw31xGBLrL"
      },
      "execution_count": 3,
      "outputs": []
    },
    {
      "cell_type": "markdown",
      "source": [
        "## Get the data\n",
        "\n",
        "This time we are going to see how we can use the pretrained models within 'tf.keras.applications' and apply them to our problem"
      ],
      "metadata": {
        "id": "dz2pGRf_wVIL"
      }
    },
    {
      "cell_type": "code",
      "source": [
        "# Get the 10% of training data of 10 classes of Food101\n",
        "!wget https://storage.googleapis.com/ztm_tf_course/food_vision/10_food_classes_10_percent.zip\n",
        "\n",
        "unzip_data(\"10_food_classes_10_percent.zip\")"
      ],
      "metadata": {
        "colab": {
          "base_uri": "https://localhost:8080/"
        },
        "id": "rX5STlEFw9n4",
        "outputId": "0cda6ade-2e4e-415f-ab6e-d17169f1fcda"
      },
      "execution_count": 4,
      "outputs": [
        {
          "output_type": "stream",
          "name": "stdout",
          "text": [
            "--2022-02-18 03:34:26--  https://storage.googleapis.com/ztm_tf_course/food_vision/10_food_classes_10_percent.zip\n",
            "Resolving storage.googleapis.com (storage.googleapis.com)... 173.194.193.128, 173.194.194.128, 142.250.152.128, ...\n",
            "Connecting to storage.googleapis.com (storage.googleapis.com)|173.194.193.128|:443... connected.\n",
            "HTTP request sent, awaiting response... 200 OK\n",
            "Length: 168546183 (161M) [application/zip]\n",
            "Saving to: ‘10_food_classes_10_percent.zip’\n",
            "\n",
            "10_food_classes_10_ 100%[===================>] 160.74M   202MB/s    in 0.8s    \n",
            "\n",
            "2022-02-18 03:34:27 (202 MB/s) - ‘10_food_classes_10_percent.zip’ saved [168546183/168546183]\n",
            "\n"
          ]
        }
      ]
    },
    {
      "cell_type": "code",
      "source": [
        "# Check out how many images and subdirectories are in our dataset\n",
        "walk_through_dir(\"10_food_classes_10_percent\")"
      ],
      "metadata": {
        "colab": {
          "base_uri": "https://localhost:8080/"
        },
        "id": "JjCYVSl-xMmv",
        "outputId": "f0b3c01a-1a3c-4312-881c-6944e0670d06"
      },
      "execution_count": 5,
      "outputs": [
        {
          "output_type": "stream",
          "name": "stdout",
          "text": [
            "There are 2 directories and 0 images in '10_food_classes_10_percent'.\n",
            "There are 10 directories and 0 images in '10_food_classes_10_percent/test'.\n",
            "There are 0 directories and 250 images in '10_food_classes_10_percent/test/ice_cream'.\n",
            "There are 0 directories and 250 images in '10_food_classes_10_percent/test/sushi'.\n",
            "There are 0 directories and 250 images in '10_food_classes_10_percent/test/pizza'.\n",
            "There are 0 directories and 250 images in '10_food_classes_10_percent/test/chicken_curry'.\n",
            "There are 0 directories and 250 images in '10_food_classes_10_percent/test/steak'.\n",
            "There are 0 directories and 250 images in '10_food_classes_10_percent/test/hamburger'.\n",
            "There are 0 directories and 250 images in '10_food_classes_10_percent/test/ramen'.\n",
            "There are 0 directories and 250 images in '10_food_classes_10_percent/test/chicken_wings'.\n",
            "There are 0 directories and 250 images in '10_food_classes_10_percent/test/fried_rice'.\n",
            "There are 0 directories and 250 images in '10_food_classes_10_percent/test/grilled_salmon'.\n",
            "There are 10 directories and 0 images in '10_food_classes_10_percent/train'.\n",
            "There are 0 directories and 75 images in '10_food_classes_10_percent/train/ice_cream'.\n",
            "There are 0 directories and 75 images in '10_food_classes_10_percent/train/sushi'.\n",
            "There are 0 directories and 75 images in '10_food_classes_10_percent/train/pizza'.\n",
            "There are 0 directories and 75 images in '10_food_classes_10_percent/train/chicken_curry'.\n",
            "There are 0 directories and 75 images in '10_food_classes_10_percent/train/steak'.\n",
            "There are 0 directories and 75 images in '10_food_classes_10_percent/train/hamburger'.\n",
            "There are 0 directories and 75 images in '10_food_classes_10_percent/train/ramen'.\n",
            "There are 0 directories and 75 images in '10_food_classes_10_percent/train/chicken_wings'.\n",
            "There are 0 directories and 75 images in '10_food_classes_10_percent/train/fried_rice'.\n",
            "There are 0 directories and 75 images in '10_food_classes_10_percent/train/grilled_salmon'.\n"
          ]
        }
      ]
    },
    {
      "cell_type": "code",
      "source": [
        "# Create training and test directories paths\n",
        "train_dir = \"10_food_classes_10_percent/train\"\n",
        "test_data = \"10_food_classes_10_percent/test\""
      ],
      "metadata": {
        "id": "F-B60cX6xzaG"
      },
      "execution_count": 6,
      "outputs": []
    },
    {
      "cell_type": "code",
      "source": [
        "import tensorflow as tf\n",
        "\n",
        "IMG_SIZE = (224,224)\n",
        "BATCH_SIZE = 32\n",
        "train_data_10_percent = tf.keras.preprocessing.image_dataset_from_directory(directory=train_dir,\n",
        "                                                                            image_size=IMG_SIZE,\n",
        "                                                                            label_mode=\"categorical\",\n",
        "                                                                            batch_size=BATCH_SIZE)\n",
        "\n",
        "test_data = tf.keras.preprocessing.image_dataset_from_directory(directory=test_data,\n",
        "                                                                image_size=IMG_SIZE,\n",
        "                                                                label_mode=\"categorical\",\n",
        "                                                                batch_size=BATCH_SIZE)"
      ],
      "metadata": {
        "colab": {
          "base_uri": "https://localhost:8080/"
        },
        "id": "vDmUbdU_yXvF",
        "outputId": "1e5df380-491a-4417-9407-70408d7c8b3d"
      },
      "execution_count": 7,
      "outputs": [
        {
          "output_type": "stream",
          "name": "stdout",
          "text": [
            "Found 750 files belonging to 10 classes.\n",
            "Found 2500 files belonging to 10 classes.\n"
          ]
        }
      ]
    },
    {
      "cell_type": "code",
      "source": [
        "# Check out the class names of our dataset\n",
        "train_data_10_percent.class_names"
      ],
      "metadata": {
        "colab": {
          "base_uri": "https://localhost:8080/"
        },
        "id": "uymfSVQu0Qhc",
        "outputId": "918c4d95-0445-4e20-a37a-04d24fb29f3f"
      },
      "execution_count": 8,
      "outputs": [
        {
          "output_type": "execute_result",
          "data": {
            "text/plain": [
              "['chicken_curry',\n",
              " 'chicken_wings',\n",
              " 'fried_rice',\n",
              " 'grilled_salmon',\n",
              " 'hamburger',\n",
              " 'ice_cream',\n",
              " 'pizza',\n",
              " 'ramen',\n",
              " 'steak',\n",
              " 'sushi']"
            ]
          },
          "metadata": {},
          "execution_count": 8
        }
      ]
    },
    {
      "cell_type": "code",
      "source": [
        "# See an example of batch of data\n",
        "for images, labels in train_data_10_percent.take(1):\n",
        "  print(images,labels)"
      ],
      "metadata": {
        "colab": {
          "base_uri": "https://localhost:8080/"
        },
        "id": "3p3Do-Z11CL7",
        "outputId": "ef0a0029-42e6-4858-d9ea-e09d489d0543"
      },
      "execution_count": 9,
      "outputs": [
        {
          "output_type": "stream",
          "name": "stdout",
          "text": [
            "tf.Tensor(\n",
            "[[[[2.41357147e+02 2.23357147e+02 1.87357147e+02]\n",
            "   [2.37403061e+02 2.21403061e+02 1.86596939e+02]\n",
            "   [2.35852036e+02 2.20066330e+02 1.87494888e+02]\n",
            "   ...\n",
            "   [1.22122330e+02 6.06835670e+01 2.32550411e+01]\n",
            "   [1.04336586e+02 4.55509148e+01 1.24897299e+01]\n",
            "   [8.05813675e+01 2.53977413e+01 0.00000000e+00]]\n",
            "\n",
            "  [[2.36857132e+02 2.20857132e+02 1.84857132e+02]\n",
            "   [2.32352036e+02 2.16352036e+02 1.82352036e+02]\n",
            "   [2.30928574e+02 2.16913269e+02 1.81943878e+02]\n",
            "   ...\n",
            "   [1.31897980e+02 6.96990280e+01 3.02704964e+01]\n",
            "   [1.30545868e+02 7.08162918e+01 3.38316002e+01]\n",
            "   [1.21418221e+02 6.22295151e+01 2.60151920e+01]]\n",
            "\n",
            "  [[2.39357147e+02 2.23571426e+02 1.89785721e+02]\n",
            "   [2.35714279e+02 2.21714279e+02 1.86714279e+02]\n",
            "   [2.33336746e+02 2.18785721e+02 1.81433670e+02]\n",
            "   ...\n",
            "   [1.33382660e+02 7.01683731e+01 2.69540863e+01]\n",
            "   [1.30484665e+02 6.71428452e+01 2.59132500e+01]\n",
            "   [1.28352036e+02 6.48521042e+01 2.60663528e+01]]\n",
            "\n",
            "  ...\n",
            "\n",
            "  [[2.44280624e+02 2.07280624e+02 9.07091446e+01]\n",
            "   [2.43214264e+02 2.06214264e+02 9.11020203e+01]\n",
            "   [2.46168396e+02 2.08954102e+02 9.55969696e+01]\n",
            "   ...\n",
            "   [1.28764557e+02 9.13106232e+01 5.81933937e+01]\n",
            "   [1.08107094e+02 8.80050964e+01 7.19439240e+01]\n",
            "   [1.02387909e+02 9.23829117e+01 8.83115616e+01]]\n",
            "\n",
            "  [[2.46285706e+02 2.10285706e+02 9.01428146e+01]\n",
            "   [2.44066330e+02 2.07204086e+02 8.97907944e+01]\n",
            "   [2.45056091e+02 2.07841812e+02 9.44285355e+01]\n",
            "   ...\n",
            "   [1.26723961e+02 8.25658875e+01 4.50507965e+01]\n",
            "   [1.03724625e+02 8.10818329e+01 6.33114700e+01]\n",
            "   [1.05096718e+02 9.43620453e+01 8.97907562e+01]]\n",
            "\n",
            "  [[2.44642853e+02 2.08642853e+02 8.66428604e+01]\n",
            "   [2.46046021e+02 2.10046021e+02 9.00460205e+01]\n",
            "   [2.45500076e+02 2.08285782e+02 9.41429291e+01]\n",
            "   ...\n",
            "   [1.57872284e+02 1.11295914e+02 6.93777161e+01]\n",
            "   [1.14632935e+02 8.78728104e+01 6.73729019e+01]\n",
            "   [1.05556290e+02 9.28114395e+01 8.84697495e+01]]]\n",
            "\n",
            "\n",
            " [[[1.97872452e+02 1.81872452e+02 1.66872452e+02]\n",
            "   [2.00285721e+02 1.84285721e+02 1.68285721e+02]\n",
            "   [1.99785721e+02 1.84785721e+02 1.65357147e+02]\n",
            "   ...\n",
            "   [7.85736084e-01 7.85736084e-01 2.78573608e+00]\n",
            "   [9.28558350e-01 9.28558350e-01 2.92855835e+00]\n",
            "   [0.00000000e+00 0.00000000e+00 2.00000000e+00]]\n",
            "\n",
            "  [[1.96403061e+02 1.83403061e+02 1.67403061e+02]\n",
            "   [1.94280609e+02 1.81280609e+02 1.64280609e+02]\n",
            "   [1.93270401e+02 1.80484680e+02 1.60841827e+02]\n",
            "   ...\n",
            "   [5.61237931e-02 5.61237931e-02 2.05612373e+00]\n",
            "   [9.28558350e-01 9.28558350e-01 2.92855835e+00]\n",
            "   [0.00000000e+00 0.00000000e+00 2.00000000e+00]]\n",
            "\n",
            "  [[1.86489792e+02 1.75132660e+02 1.59346939e+02]\n",
            "   [1.85770401e+02 1.74413269e+02 1.58198975e+02]\n",
            "   [1.83928574e+02 1.73571442e+02 1.53357147e+02]\n",
            "   ...\n",
            "   [0.00000000e+00 0.00000000e+00 2.00000000e+00]\n",
            "   [0.00000000e+00 0.00000000e+00 2.00000000e+00]\n",
            "   [4.94925439e-01 4.94925439e-01 2.49492550e+00]]\n",
            "\n",
            "  ...\n",
            "\n",
            "  [[1.61709213e+02 1.50923477e+02 1.44280685e+02]\n",
            "   [1.64642883e+02 1.53857147e+02 1.47214355e+02]\n",
            "   [1.66000015e+02 1.55214279e+02 1.48571487e+02]\n",
            "   ...\n",
            "   [2.20143250e+02 2.04648315e+02 1.89311600e+02]\n",
            "   [2.24617584e+02 2.09260376e+02 1.95617584e+02]\n",
            "   [2.28071411e+02 2.12714203e+02 1.99071411e+02]]\n",
            "\n",
            "  [[1.64000061e+02 1.53000061e+02 1.49000061e+02]\n",
            "   [1.68280701e+02 1.57280701e+02 1.53280701e+02]\n",
            "   [1.72658234e+02 1.61658234e+02 1.58086807e+02]\n",
            "   ...\n",
            "   [2.27316437e+02 2.09744965e+02 1.95316437e+02]\n",
            "   [2.28132675e+02 2.10127579e+02 1.98418442e+02]\n",
            "   [2.28596893e+02 2.10454010e+02 2.00668335e+02]]\n",
            "\n",
            "  [[1.76199127e+02 1.65199127e+02 1.63199127e+02]\n",
            "   [1.76647934e+02 1.65647934e+02 1.63647934e+02]\n",
            "   [1.75780396e+02 1.64566116e+02 1.62994675e+02]\n",
            "   ...\n",
            "   [2.28142761e+02 2.10571289e+02 1.96142761e+02]\n",
            "   [2.28545868e+02 2.08545868e+02 2.00352066e+02]\n",
            "   [2.30127579e+02 2.06127579e+02 2.02841934e+02]]]\n",
            "\n",
            "\n",
            " [[[7.28571415e+00 8.28571415e+00 1.22857151e+01]\n",
            "   [6.71428537e+00 7.71428537e+00 1.17142859e+01]\n",
            "   [3.57142878e+00 4.57142878e+00 7.58163261e+00]\n",
            "   ...\n",
            "   [1.50775497e+02 1.39627594e+02 1.06357208e+02]\n",
            "   [1.48979568e+02 1.37979568e+02 1.05979561e+02]\n",
            "   [1.37382370e+02 1.26382378e+02 9.43823776e+01]]\n",
            "\n",
            "  [[5.66836739e+00 6.66836739e+00 1.05255108e+01]\n",
            "   [5.93367338e+00 6.93367338e+00 8.93367386e+00]\n",
            "   [5.19897985e+00 6.21428585e+00 8.16836739e+00]\n",
            "   ...\n",
            "   [1.51071518e+02 1.40428726e+02 1.05627686e+02]\n",
            "   [1.53852020e+02 1.43852020e+02 1.08852028e+02]\n",
            "   [1.48908066e+02 1.37979492e+02 1.05765205e+02]]\n",
            "\n",
            "  [[7.06632662e+00 8.06632614e+00 1.00663261e+01]\n",
            "   [5.07142830e+00 6.07142830e+00 8.07142830e+00]\n",
            "   [4.21428585e+00 6.04591846e+00 5.55102015e+00]\n",
            "   ...\n",
            "   [1.52500092e+02 1.41857300e+02 1.06239929e+02]\n",
            "   [1.55158127e+02 1.45158127e+02 1.10158127e+02]\n",
            "   [1.50775528e+02 1.40775528e+02 1.05775528e+02]]\n",
            "\n",
            "  ...\n",
            "\n",
            "  [[1.02142868e+02 1.01142868e+02 8.31428680e+01]\n",
            "   [1.03872437e+02 1.02872437e+02 8.48724365e+01]\n",
            "   [1.04831627e+02 1.03831627e+02 8.42602158e+01]\n",
            "   ...\n",
            "   [1.18525497e+02 1.23954086e+02 1.28719376e+02]\n",
            "   [1.19571381e+02 1.25214264e+02 1.28999969e+02]\n",
            "   [1.15000000e+02 1.20642883e+02 1.24428589e+02]]\n",
            "\n",
            "  [[1.03260208e+02 1.02260208e+02 8.42602081e+01]\n",
            "   [1.03142853e+02 1.02142853e+02 8.41428528e+01]\n",
            "   [1.03285698e+02 1.02285698e+02 8.42856979e+01]\n",
            "   ...\n",
            "   [1.15127518e+02 1.23586777e+02 1.28857147e+02]\n",
            "   [1.17857086e+02 1.26785675e+02 1.31642853e+02]\n",
            "   [1.15331673e+02 1.24260262e+02 1.29117432e+02]]\n",
            "\n",
            "  [[1.02515312e+02 1.01515312e+02 8.08724594e+01]\n",
            "   [1.01545921e+02 1.00545921e+02 8.05459213e+01]\n",
            "   [1.03214287e+02 1.02214287e+02 8.42142868e+01]\n",
            "   ...\n",
            "   [1.14494888e+02 1.23494888e+02 1.28770370e+02]\n",
            "   [1.13928558e+02 1.24214264e+02 1.28571411e+02]\n",
            "   [1.12301086e+02 1.23301086e+02 1.27301086e+02]]]\n",
            "\n",
            "\n",
            " ...\n",
            "\n",
            "\n",
            " [[[1.48693878e+02 1.68693878e+02 1.75693878e+02]\n",
            "   [1.32801010e+02 1.51801010e+02 1.58801010e+02]\n",
            "   [1.39408157e+02 1.55765305e+02 1.66408157e+02]\n",
            "   ...\n",
            "   [1.82770447e+02 1.86198975e+02 1.92984711e+02]\n",
            "   [1.83525482e+02 1.83525482e+02 1.91525482e+02]\n",
            "   [1.77984467e+02 1.77984467e+02 1.85984467e+02]]\n",
            "\n",
            "  [[1.49015305e+02 1.69015305e+02 1.78015305e+02]\n",
            "   [1.36775513e+02 1.55051025e+02 1.64913269e+02]\n",
            "   [1.59433670e+02 1.75734695e+02 1.86545914e+02]\n",
            "   ...\n",
            "   [1.77413422e+02 1.80571564e+02 1.89739929e+02]\n",
            "   [1.81867355e+02 1.84801041e+02 1.94000015e+02]\n",
            "   [1.84285538e+02 1.84285538e+02 1.94377365e+02]]\n",
            "\n",
            "  [[1.54025513e+02 1.75596939e+02 1.86168365e+02]\n",
            "   [1.55928574e+02 1.76040817e+02 1.86612244e+02]\n",
            "   [1.61903061e+02 1.79045914e+02 1.93000000e+02]\n",
            "   ...\n",
            "   [1.68597092e+02 1.72765396e+02 1.84290955e+02]\n",
            "   [1.71525574e+02 1.73540894e+02 1.86224548e+02]\n",
            "   [1.79994751e+02 1.81566177e+02 1.93918182e+02]]\n",
            "\n",
            "  ...\n",
            "\n",
            "  [[7.06122684e+00 4.92349243e+00 2.63520374e+01]\n",
            "   [1.88010406e+01 4.92861557e+00 1.03979912e+01]\n",
            "   [6.00459251e+01 2.65000286e+01 9.14287567e+00]\n",
            "   ...\n",
            "   [4.65714722e+01 4.69745026e+01 6.70510559e+01]\n",
            "   [5.59286194e+01 5.39133110e+01 6.76989822e+01]\n",
            "   [7.39339600e+01 7.07860107e+01 7.71481934e+01]]\n",
            "\n",
            "  [[7.88266468e+00 9.12248898e+00 2.81939182e+01]\n",
            "   [2.67297134e+01 1.62195263e+01 2.07246265e+01]\n",
            "   [6.33316956e+01 3.19745502e+01 1.38316917e+01]\n",
            "   ...\n",
            "   [4.82296867e+01 4.64439507e+01 6.68011627e+01]\n",
            "   [5.61480446e+01 5.23521080e+01 6.70000305e+01]\n",
            "   [7.42145996e+01 6.92145996e+01 7.58574219e+01]]\n",
            "\n",
            "  [[7.62755728e+00 1.30408106e+01 3.04693871e+01]\n",
            "   [3.72652893e+01 2.87652874e+01 3.23367119e+01]\n",
            "   [6.72295837e+01 3.80867271e+01 1.89438667e+01]\n",
            "   ...\n",
            "   [5.14183655e+01 4.84183655e+01 6.69898376e+01]\n",
            "   [5.75969887e+01 5.36684303e+01 6.83826599e+01]\n",
            "   [7.13420715e+01 6.63420715e+01 7.29848938e+01]]]\n",
            "\n",
            "\n",
            " [[[1.93261154e+02 1.19261162e+02 5.62611618e+01]\n",
            "   [1.93503662e+02 1.19503670e+02 5.45036659e+01]\n",
            "   [1.94838974e+02 1.24848061e+02 5.65755730e+01]\n",
            "   ...\n",
            "   [6.94935455e+01 4.08507538e+01 1.98038578e+01]\n",
            "   [5.97142334e+01 3.27142334e+01 1.51919117e+01]\n",
            "   [5.78131104e+01 3.08131084e+01 1.38131084e+01]]\n",
            "\n",
            "  [[1.94279816e+02 1.20279816e+02 5.72798157e+01]\n",
            "   [1.96439575e+02 1.22439575e+02 5.90065384e+01]\n",
            "   [1.95496338e+02 1.24757011e+02 6.06133614e+01]\n",
            "   ...\n",
            "   [7.00226746e+01 4.13798828e+01 1.95941467e+01]\n",
            "   [6.27921906e+01 3.50087051e+01 1.44417419e+01]\n",
            "   [5.67989693e+01 2.82320061e+01 1.04485235e+01]]\n",
            "\n",
            "  [[1.92745544e+02 1.19662941e+02 5.63571434e+01]\n",
            "   [1.93551346e+02 1.22551346e+02 5.91629486e+01]\n",
            "   [1.90534119e+02 1.20054207e+02 5.92691307e+01]\n",
            "   ...\n",
            "   [7.01545410e+01 4.12454491e+01 1.71144028e+01]\n",
            "   [6.80307388e+01 3.94191284e+01 1.68075218e+01]\n",
            "   [6.13684196e+01 3.27568092e+01 1.01452036e+01]]\n",
            "\n",
            "  ...\n",
            "\n",
            "  [[1.20000000e+01 9.00000000e+00 2.00000000e+00]\n",
            "   [1.30000000e+01 8.00000000e+00 2.00000000e+00]\n",
            "   [1.30000000e+01 8.00000000e+00 2.00000000e+00]\n",
            "   ...\n",
            "   [1.42934479e+02 1.04934479e+02 6.79344788e+01]\n",
            "   [1.44049591e+02 1.06049599e+02 6.93553848e+01]\n",
            "   [1.45000000e+02 1.07000000e+02 7.03057861e+01]]\n",
            "\n",
            "  [[1.20000000e+01 9.00000000e+00 2.00000000e+00]\n",
            "   [1.30000000e+01 8.00000000e+00 2.00000000e+00]\n",
            "   [1.30000000e+01 8.00000000e+00 2.00000000e+00]\n",
            "   ...\n",
            "   [1.43832123e+02 1.05832130e+02 6.87393417e+01]\n",
            "   [1.45272491e+02 1.07272491e+02 7.02724915e+01]\n",
            "   [1.46216522e+02 1.08216522e+02 7.12165222e+01]]\n",
            "\n",
            "  [[1.20000000e+01 9.00000000e+00 2.00000000e+00]\n",
            "   [1.30000000e+01 8.00000000e+00 2.00000000e+00]\n",
            "   [1.30000000e+01 8.00000000e+00 2.00000000e+00]\n",
            "   ...\n",
            "   [1.44580551e+02 1.06580551e+02 6.79909210e+01]\n",
            "   [1.46000000e+02 1.08000000e+02 6.95222778e+01]\n",
            "   [1.47000000e+02 1.09000000e+02 7.20000000e+01]]]\n",
            "\n",
            "\n",
            " [[[2.19841827e+02 1.08841835e+02 1.17841835e+02]\n",
            "   [2.23168365e+02 1.13168365e+02 1.22168365e+02]\n",
            "   [2.19785721e+02 1.10428574e+02 1.21214287e+02]\n",
            "   ...\n",
            "   [2.27285721e+02 2.23285721e+02 2.24285721e+02]\n",
            "   [2.26642853e+02 2.22642853e+02 2.23642853e+02]\n",
            "   [2.26642853e+02 2.22642853e+02 2.23642853e+02]]\n",
            "\n",
            "  [[2.23091843e+02 1.11091835e+02 1.23091835e+02]\n",
            "   [2.26642868e+02 1.14642853e+02 1.26642853e+02]\n",
            "   [2.20173462e+02 1.10602036e+02 1.22030609e+02]\n",
            "   ...\n",
            "   [2.26086731e+02 2.22086731e+02 2.23086731e+02]\n",
            "   [2.25137756e+02 2.21137756e+02 2.22137756e+02]\n",
            "   [2.24142853e+02 2.20142853e+02 2.21142853e+02]]\n",
            "\n",
            "  [[2.21576523e+02 1.06576530e+02 1.21576530e+02]\n",
            "   [2.21387756e+02 1.09341835e+02 1.23357140e+02]\n",
            "   [2.21000000e+02 1.11000000e+02 1.24000000e+02]\n",
            "   ...\n",
            "   [2.26214279e+02 2.19571426e+02 2.19785721e+02]\n",
            "   [2.26443878e+02 2.19801025e+02 2.20015305e+02]\n",
            "   [2.26642853e+02 2.20000000e+02 2.20214279e+02]]\n",
            "\n",
            "  ...\n",
            "\n",
            "  [[2.38928619e+02 2.17357147e+02 2.19142883e+02]\n",
            "   [2.37571472e+02 2.16000000e+02 2.17785736e+02]\n",
            "   [2.36617340e+02 2.15045868e+02 2.16831604e+02]\n",
            "   ...\n",
            "   [1.74974594e+02 1.53122452e+02 1.44403122e+02]\n",
            "   [1.74214203e+02 1.51214203e+02 1.43214203e+02]\n",
            "   [1.73995010e+02 1.50995010e+02 1.42995010e+02]]\n",
            "\n",
            "  [[2.36877533e+02 2.14877533e+02 2.16877533e+02]\n",
            "   [2.37928558e+02 2.15928558e+02 2.17928558e+02]\n",
            "   [2.36015305e+02 2.14015305e+02 2.16015305e+02]\n",
            "   ...\n",
            "   [1.77714294e+02 1.55714294e+02 1.44714294e+02]\n",
            "   [1.72928558e+02 1.50928558e+02 1.39928558e+02]\n",
            "   [1.74428711e+02 1.52428711e+02 1.41428711e+02]]\n",
            "\n",
            "  [[2.35285721e+02 2.13285721e+02 2.15285721e+02]\n",
            "   [2.37025513e+02 2.15025513e+02 2.17025513e+02]\n",
            "   [2.35857101e+02 2.13857101e+02 2.15857101e+02]\n",
            "   ...\n",
            "   [1.75428558e+02 1.53428558e+02 1.42428558e+02]\n",
            "   [1.77168365e+02 1.55168365e+02 1.44168365e+02]\n",
            "   [1.75816376e+02 1.51816376e+02 1.41816376e+02]]]], shape=(32, 224, 224, 3), dtype=float32) tf.Tensor(\n",
            "[[0. 0. 0. 0. 0. 0. 1. 0. 0. 0.]\n",
            " [0. 0. 0. 0. 0. 1. 0. 0. 0. 0.]\n",
            " [0. 0. 0. 0. 0. 0. 0. 0. 0. 1.]\n",
            " [0. 0. 0. 0. 0. 0. 0. 0. 0. 1.]\n",
            " [0. 0. 1. 0. 0. 0. 0. 0. 0. 0.]\n",
            " [0. 0. 0. 0. 0. 0. 1. 0. 0. 0.]\n",
            " [0. 0. 0. 0. 0. 1. 0. 0. 0. 0.]\n",
            " [0. 1. 0. 0. 0. 0. 0. 0. 0. 0.]\n",
            " [0. 0. 0. 1. 0. 0. 0. 0. 0. 0.]\n",
            " [0. 1. 0. 0. 0. 0. 0. 0. 0. 0.]\n",
            " [0. 0. 1. 0. 0. 0. 0. 0. 0. 0.]\n",
            " [0. 0. 0. 0. 0. 1. 0. 0. 0. 0.]\n",
            " [0. 0. 0. 0. 0. 0. 0. 0. 0. 1.]\n",
            " [1. 0. 0. 0. 0. 0. 0. 0. 0. 0.]\n",
            " [0. 0. 0. 0. 0. 1. 0. 0. 0. 0.]\n",
            " [0. 1. 0. 0. 0. 0. 0. 0. 0. 0.]\n",
            " [0. 0. 0. 0. 1. 0. 0. 0. 0. 0.]\n",
            " [0. 0. 0. 0. 0. 0. 1. 0. 0. 0.]\n",
            " [0. 0. 0. 0. 0. 0. 0. 1. 0. 0.]\n",
            " [1. 0. 0. 0. 0. 0. 0. 0. 0. 0.]\n",
            " [0. 0. 0. 0. 0. 0. 0. 0. 1. 0.]\n",
            " [0. 0. 0. 0. 0. 0. 0. 0. 1. 0.]\n",
            " [1. 0. 0. 0. 0. 0. 0. 0. 0. 0.]\n",
            " [0. 0. 1. 0. 0. 0. 0. 0. 0. 0.]\n",
            " [0. 0. 0. 0. 0. 0. 0. 0. 0. 1.]\n",
            " [0. 0. 0. 0. 0. 0. 0. 0. 1. 0.]\n",
            " [0. 0. 0. 0. 0. 0. 0. 0. 0. 1.]\n",
            " [0. 0. 1. 0. 0. 0. 0. 0. 0. 0.]\n",
            " [0. 0. 0. 1. 0. 0. 0. 0. 0. 0.]\n",
            " [0. 0. 0. 0. 1. 0. 0. 0. 0. 0.]\n",
            " [0. 0. 0. 0. 0. 0. 0. 1. 0. 0.]\n",
            " [0. 0. 0. 0. 1. 0. 0. 0. 0. 0.]], shape=(32, 10), dtype=float32)\n"
          ]
        }
      ]
    },
    {
      "cell_type": "markdown",
      "source": [
        "## Build Transfer Learning model using Functional API\n",
        "\n",
        "The Sequential API is straight forward, it runs our layer in sequential order\n",
        "\n",
        "But the Functional API gives us more flexibility with our models :- \n",
        "\n",
        "[Tensorflow Keras Functional API](https://www.tensorflow.org/guide/keras/functional)"
      ],
      "metadata": {
        "id": "GsWSb0zW1hyU"
      }
    },
    {
      "cell_type": "code",
      "source": [
        "# 1. Create bas model with tf.keras.applications\n",
        "base_model = tf.keras.applications.EfficientNetB0(include_top=False)\n",
        "\n",
        "# 2. Freeze the base model (so the underlying pre-trained patterns aren't updated during training)\n",
        "base_model.trainable = False\n",
        "\n",
        "# 3. Create inputs in our model\n",
        "inputs = tf.keras.layers.Input(shape=(224,224,3), name=\"input_layer\")\n",
        "\n",
        "# 4. If using a model like ResNet50V2 you will need to normalize inputs (you don't need to for EfficientNet)\n",
        "#x = tf.keras.layers.experimental.preprocessing.Rescaling(1./255)(inputs)\n",
        "\n",
        "# 5. Pass the inputs to the base_model\n",
        "x = base_model(inputs)\n",
        "print(f\"Shape after passing inputs through base model: {x.shape}\")\n",
        "\n",
        "# 6. Average pool the outputs of the base model (aggregate all the important information, reduce number of computations)\n",
        "x = tf.keras.layers.GlobalAveragePooling2D(name=\"global_average_pooling_layer\")(x)\n",
        "print(f\"Shape after GlobalAveragePooling2D: {x.shape}\")\n",
        "\n",
        "# 7. Create the output activation layer\n",
        "outputs = tf.keras.layers.Dense(10, activation=\"softmax\", name=\"output_layer\")(x)\n",
        "\n",
        "# 8. Combine the inputs with the outputs into a model\n",
        "model_0 = tf.keras.Model(inputs, outputs)\n",
        "\n",
        "# 9. Compile the model\n",
        "model_0.compile(loss=tf.keras.losses.CategoricalCrossentropy(),\n",
        "                optimizer=tf.keras.optimizers.Adam(),\n",
        "                metrics=[\"accuracy\"])\n",
        "\n",
        "# 10. Fit the model and save it's history\n",
        "history_10_percent = model_0.fit(train_data_10_percent,\n",
        "                                 epochs=5,\n",
        "                                 steps_per_epoch=len(train_data_10_percent),\n",
        "                                 validation_data=test_data,\n",
        "                                 validation_steps=int(0.25 * len(test_data)),\n",
        "                                 callbacks=[create_tensorboard_callback(dir_name=\"transfer_learning\",\n",
        "                                                                        experiment_name=\"10_percent_feature_extraction\")])"
      ],
      "metadata": {
        "id": "Jte4mPvdwHsS",
        "outputId": "4f7c25ae-3a5a-49a4-f811-76d18193c664",
        "colab": {
          "base_uri": "https://localhost:8080/"
        }
      },
      "execution_count": 10,
      "outputs": [
        {
          "output_type": "stream",
          "name": "stdout",
          "text": [
            "Downloading data from https://storage.googleapis.com/keras-applications/efficientnetb0_notop.h5\n",
            "16711680/16705208 [==============================] - 0s 0us/step\n",
            "16719872/16705208 [==============================] - 0s 0us/step\n",
            "Shape after passing inputs through base model: (None, 7, 7, 1280)\n",
            "Shape after GlobalAveragePooling2D: (None, 1280)\n",
            "Saving TensorBoard log files to: transfer_learning/10_percent_feature_extraction/20220218-033444\n",
            "Epoch 1/5\n",
            "24/24 [==============================] - 26s 376ms/step - loss: 1.9253 - accuracy: 0.4053 - val_loss: 1.3572 - val_accuracy: 0.7122\n",
            "Epoch 2/5\n",
            "24/24 [==============================] - 7s 272ms/step - loss: 1.1428 - accuracy: 0.7760 - val_loss: 0.9228 - val_accuracy: 0.7780\n",
            "Epoch 3/5\n",
            "24/24 [==============================] - 7s 271ms/step - loss: 0.8407 - accuracy: 0.8187 - val_loss: 0.7407 - val_accuracy: 0.8224\n",
            "Epoch 4/5\n",
            "24/24 [==============================] - 7s 274ms/step - loss: 0.6716 - accuracy: 0.8480 - val_loss: 0.6663 - val_accuracy: 0.8257\n",
            "Epoch 5/5\n",
            "24/24 [==============================] - 7s 277ms/step - loss: 0.5913 - accuracy: 0.8613 - val_loss: 0.6069 - val_accuracy: 0.8470\n"
          ]
        }
      ]
    },
    {
      "cell_type": "code",
      "source": [
        "# Evaluate on full test dataset\n",
        "model_0.evaluate(test_data)"
      ],
      "metadata": {
        "id": "Rdwh5VzRXcef",
        "outputId": "1be51792-60aa-45b5-9ade-50d885fc9fa3",
        "colab": {
          "base_uri": "https://localhost:8080/"
        }
      },
      "execution_count": 11,
      "outputs": [
        {
          "output_type": "stream",
          "name": "stdout",
          "text": [
            "79/79 [==============================] - 12s 141ms/step - loss: 0.6060 - accuracy: 0.8348\n"
          ]
        },
        {
          "output_type": "execute_result",
          "data": {
            "text/plain": [
              "[0.6060144305229187, 0.8348000049591064]"
            ]
          },
          "metadata": {},
          "execution_count": 11
        }
      ]
    },
    {
      "cell_type": "code",
      "source": [
        "# Check the layers in our base model\n",
        "for layer_number, layer in enumerate(base_model.layers):\n",
        "  print(layer_number, layer.name)"
      ],
      "metadata": {
        "id": "6cGaa8W0X9NI",
        "outputId": "7d87046d-ddf2-482f-adc5-86f53704e732",
        "colab": {
          "base_uri": "https://localhost:8080/"
        }
      },
      "execution_count": 12,
      "outputs": [
        {
          "output_type": "stream",
          "name": "stdout",
          "text": [
            "0 input_1\n",
            "1 rescaling\n",
            "2 normalization\n",
            "3 stem_conv_pad\n",
            "4 stem_conv\n",
            "5 stem_bn\n",
            "6 stem_activation\n",
            "7 block1a_dwconv\n",
            "8 block1a_bn\n",
            "9 block1a_activation\n",
            "10 block1a_se_squeeze\n",
            "11 block1a_se_reshape\n",
            "12 block1a_se_reduce\n",
            "13 block1a_se_expand\n",
            "14 block1a_se_excite\n",
            "15 block1a_project_conv\n",
            "16 block1a_project_bn\n",
            "17 block2a_expand_conv\n",
            "18 block2a_expand_bn\n",
            "19 block2a_expand_activation\n",
            "20 block2a_dwconv_pad\n",
            "21 block2a_dwconv\n",
            "22 block2a_bn\n",
            "23 block2a_activation\n",
            "24 block2a_se_squeeze\n",
            "25 block2a_se_reshape\n",
            "26 block2a_se_reduce\n",
            "27 block2a_se_expand\n",
            "28 block2a_se_excite\n",
            "29 block2a_project_conv\n",
            "30 block2a_project_bn\n",
            "31 block2b_expand_conv\n",
            "32 block2b_expand_bn\n",
            "33 block2b_expand_activation\n",
            "34 block2b_dwconv\n",
            "35 block2b_bn\n",
            "36 block2b_activation\n",
            "37 block2b_se_squeeze\n",
            "38 block2b_se_reshape\n",
            "39 block2b_se_reduce\n",
            "40 block2b_se_expand\n",
            "41 block2b_se_excite\n",
            "42 block2b_project_conv\n",
            "43 block2b_project_bn\n",
            "44 block2b_drop\n",
            "45 block2b_add\n",
            "46 block3a_expand_conv\n",
            "47 block3a_expand_bn\n",
            "48 block3a_expand_activation\n",
            "49 block3a_dwconv_pad\n",
            "50 block3a_dwconv\n",
            "51 block3a_bn\n",
            "52 block3a_activation\n",
            "53 block3a_se_squeeze\n",
            "54 block3a_se_reshape\n",
            "55 block3a_se_reduce\n",
            "56 block3a_se_expand\n",
            "57 block3a_se_excite\n",
            "58 block3a_project_conv\n",
            "59 block3a_project_bn\n",
            "60 block3b_expand_conv\n",
            "61 block3b_expand_bn\n",
            "62 block3b_expand_activation\n",
            "63 block3b_dwconv\n",
            "64 block3b_bn\n",
            "65 block3b_activation\n",
            "66 block3b_se_squeeze\n",
            "67 block3b_se_reshape\n",
            "68 block3b_se_reduce\n",
            "69 block3b_se_expand\n",
            "70 block3b_se_excite\n",
            "71 block3b_project_conv\n",
            "72 block3b_project_bn\n",
            "73 block3b_drop\n",
            "74 block3b_add\n",
            "75 block4a_expand_conv\n",
            "76 block4a_expand_bn\n",
            "77 block4a_expand_activation\n",
            "78 block4a_dwconv_pad\n",
            "79 block4a_dwconv\n",
            "80 block4a_bn\n",
            "81 block4a_activation\n",
            "82 block4a_se_squeeze\n",
            "83 block4a_se_reshape\n",
            "84 block4a_se_reduce\n",
            "85 block4a_se_expand\n",
            "86 block4a_se_excite\n",
            "87 block4a_project_conv\n",
            "88 block4a_project_bn\n",
            "89 block4b_expand_conv\n",
            "90 block4b_expand_bn\n",
            "91 block4b_expand_activation\n",
            "92 block4b_dwconv\n",
            "93 block4b_bn\n",
            "94 block4b_activation\n",
            "95 block4b_se_squeeze\n",
            "96 block4b_se_reshape\n",
            "97 block4b_se_reduce\n",
            "98 block4b_se_expand\n",
            "99 block4b_se_excite\n",
            "100 block4b_project_conv\n",
            "101 block4b_project_bn\n",
            "102 block4b_drop\n",
            "103 block4b_add\n",
            "104 block4c_expand_conv\n",
            "105 block4c_expand_bn\n",
            "106 block4c_expand_activation\n",
            "107 block4c_dwconv\n",
            "108 block4c_bn\n",
            "109 block4c_activation\n",
            "110 block4c_se_squeeze\n",
            "111 block4c_se_reshape\n",
            "112 block4c_se_reduce\n",
            "113 block4c_se_expand\n",
            "114 block4c_se_excite\n",
            "115 block4c_project_conv\n",
            "116 block4c_project_bn\n",
            "117 block4c_drop\n",
            "118 block4c_add\n",
            "119 block5a_expand_conv\n",
            "120 block5a_expand_bn\n",
            "121 block5a_expand_activation\n",
            "122 block5a_dwconv\n",
            "123 block5a_bn\n",
            "124 block5a_activation\n",
            "125 block5a_se_squeeze\n",
            "126 block5a_se_reshape\n",
            "127 block5a_se_reduce\n",
            "128 block5a_se_expand\n",
            "129 block5a_se_excite\n",
            "130 block5a_project_conv\n",
            "131 block5a_project_bn\n",
            "132 block5b_expand_conv\n",
            "133 block5b_expand_bn\n",
            "134 block5b_expand_activation\n",
            "135 block5b_dwconv\n",
            "136 block5b_bn\n",
            "137 block5b_activation\n",
            "138 block5b_se_squeeze\n",
            "139 block5b_se_reshape\n",
            "140 block5b_se_reduce\n",
            "141 block5b_se_expand\n",
            "142 block5b_se_excite\n",
            "143 block5b_project_conv\n",
            "144 block5b_project_bn\n",
            "145 block5b_drop\n",
            "146 block5b_add\n",
            "147 block5c_expand_conv\n",
            "148 block5c_expand_bn\n",
            "149 block5c_expand_activation\n",
            "150 block5c_dwconv\n",
            "151 block5c_bn\n",
            "152 block5c_activation\n",
            "153 block5c_se_squeeze\n",
            "154 block5c_se_reshape\n",
            "155 block5c_se_reduce\n",
            "156 block5c_se_expand\n",
            "157 block5c_se_excite\n",
            "158 block5c_project_conv\n",
            "159 block5c_project_bn\n",
            "160 block5c_drop\n",
            "161 block5c_add\n",
            "162 block6a_expand_conv\n",
            "163 block6a_expand_bn\n",
            "164 block6a_expand_activation\n",
            "165 block6a_dwconv_pad\n",
            "166 block6a_dwconv\n",
            "167 block6a_bn\n",
            "168 block6a_activation\n",
            "169 block6a_se_squeeze\n",
            "170 block6a_se_reshape\n",
            "171 block6a_se_reduce\n",
            "172 block6a_se_expand\n",
            "173 block6a_se_excite\n",
            "174 block6a_project_conv\n",
            "175 block6a_project_bn\n",
            "176 block6b_expand_conv\n",
            "177 block6b_expand_bn\n",
            "178 block6b_expand_activation\n",
            "179 block6b_dwconv\n",
            "180 block6b_bn\n",
            "181 block6b_activation\n",
            "182 block6b_se_squeeze\n",
            "183 block6b_se_reshape\n",
            "184 block6b_se_reduce\n",
            "185 block6b_se_expand\n",
            "186 block6b_se_excite\n",
            "187 block6b_project_conv\n",
            "188 block6b_project_bn\n",
            "189 block6b_drop\n",
            "190 block6b_add\n",
            "191 block6c_expand_conv\n",
            "192 block6c_expand_bn\n",
            "193 block6c_expand_activation\n",
            "194 block6c_dwconv\n",
            "195 block6c_bn\n",
            "196 block6c_activation\n",
            "197 block6c_se_squeeze\n",
            "198 block6c_se_reshape\n",
            "199 block6c_se_reduce\n",
            "200 block6c_se_expand\n",
            "201 block6c_se_excite\n",
            "202 block6c_project_conv\n",
            "203 block6c_project_bn\n",
            "204 block6c_drop\n",
            "205 block6c_add\n",
            "206 block6d_expand_conv\n",
            "207 block6d_expand_bn\n",
            "208 block6d_expand_activation\n",
            "209 block6d_dwconv\n",
            "210 block6d_bn\n",
            "211 block6d_activation\n",
            "212 block6d_se_squeeze\n",
            "213 block6d_se_reshape\n",
            "214 block6d_se_reduce\n",
            "215 block6d_se_expand\n",
            "216 block6d_se_excite\n",
            "217 block6d_project_conv\n",
            "218 block6d_project_bn\n",
            "219 block6d_drop\n",
            "220 block6d_add\n",
            "221 block7a_expand_conv\n",
            "222 block7a_expand_bn\n",
            "223 block7a_expand_activation\n",
            "224 block7a_dwconv\n",
            "225 block7a_bn\n",
            "226 block7a_activation\n",
            "227 block7a_se_squeeze\n",
            "228 block7a_se_reshape\n",
            "229 block7a_se_reduce\n",
            "230 block7a_se_expand\n",
            "231 block7a_se_excite\n",
            "232 block7a_project_conv\n",
            "233 block7a_project_bn\n",
            "234 top_conv\n",
            "235 top_bn\n",
            "236 top_activation\n"
          ]
        }
      ]
    },
    {
      "cell_type": "code",
      "source": [
        "# Summary of our whole model\n",
        "model_0.summary()"
      ],
      "metadata": {
        "id": "0_nl6M4oYhYA",
        "outputId": "feae1e55-d814-47b8-9b61-3a687207f47f",
        "colab": {
          "base_uri": "https://localhost:8080/"
        }
      },
      "execution_count": 13,
      "outputs": [
        {
          "output_type": "stream",
          "name": "stdout",
          "text": [
            "Model: \"model\"\n",
            "_________________________________________________________________\n",
            " Layer (type)                Output Shape              Param #   \n",
            "=================================================================\n",
            " input_layer (InputLayer)    [(None, 224, 224, 3)]     0         \n",
            "                                                                 \n",
            " efficientnetb0 (Functional)  (None, None, None, 1280)  4049571  \n",
            "                                                                 \n",
            " global_average_pooling_laye  (None, 1280)             0         \n",
            " r (GlobalAveragePooling2D)                                      \n",
            "                                                                 \n",
            " output_layer (Dense)        (None, 10)                12810     \n",
            "                                                                 \n",
            "=================================================================\n",
            "Total params: 4,062,381\n",
            "Trainable params: 12,810\n",
            "Non-trainable params: 4,049,571\n",
            "_________________________________________________________________\n"
          ]
        }
      ]
    },
    {
      "cell_type": "code",
      "source": [
        "# Check out our model's training curves\n",
        "plot_loss_curves(history_10_percent)"
      ],
      "metadata": {
        "id": "tsxCJlpLZPom",
        "outputId": "7109d42f-0f1d-4789-b422-e83aa7bef5a0",
        "colab": {
          "base_uri": "https://localhost:8080/",
          "height": 573
        }
      },
      "execution_count": 14,
      "outputs": [
        {
          "output_type": "display_data",
          "data": {
            "image/png": "[encoded data removed]",
            "text/plain": [
              "<Figure size 432x288 with 1 Axes>"
            ]
          },
          "metadata": {
            "needs_background": "light"
          }
        },
        {
          "output_type": "display_data",
          "data": {
            "image/png": "[encoded data removed]",
            "text/plain": [
              "<Figure size 432x288 with 1 Axes>"
            ]
          },
          "metadata": {
            "needs_background": "light"
          }
        }
      ]
    },
    {
      "cell_type": "markdown",
      "source": [
        "## Get a feature vector from a trained model\n",
        "\n",
        "Let's demonstrate the Global Average Pooling 2D layer\n",
        "\n",
        "We have a tensor after our model goes through 'base model' of \n",
        "shape(None, 7, 7, 1280) \n",
        "\n",
        "But when it passes through GlobalAveragePooling2D, it turns into \n",
        "shape(None, 1280)..\n",
        "\n",
        "Let's use a similar shaped tensor of (1, 4, 4, 3) and then pass it\n",
        "to GlobalAveragePooling2D.\n"
      ],
      "metadata": {
        "id": "dKy8tPOTZqLh"
      }
    },
    {
      "cell_type": "code",
      "source": [
        "# Define the input shape\n",
        "input_shape = (1, 4, 4, 3)\n",
        "\n",
        "# Create a random tensor\n",
        "tf.random.set_seed(42)\n",
        "input_tensor = tf.random.normal(input_shape)\n",
        "print(f\"Random input tensor:\\n{input_tensor}\\n\")"
      ],
      "metadata": {
        "id": "aJgCViaTaHov",
        "outputId": "6473d55d-baea-4ca0-a1b7-e35512d7eb90",
        "colab": {
          "base_uri": "https://localhost:8080/"
        }
      },
      "execution_count": 15,
      "outputs": [
        {
          "output_type": "stream",
          "name": "stdout",
          "text": [
            "Random input tensor:\n",
            "[[[[ 0.3274685  -0.8426258   0.3194337 ]\n",
            "   [-1.4075519  -2.3880599  -1.0392479 ]\n",
            "   [-0.5573232   0.539707    1.6994323 ]\n",
            "   [ 0.28893656 -1.5066116  -0.2645474 ]]\n",
            "\n",
            "  [[-0.59722406 -1.9171132  -0.62044144]\n",
            "   [ 0.8504023  -0.40604794 -3.0258412 ]\n",
            "   [ 0.9058464   0.29855987 -0.22561555]\n",
            "   [-0.7616443  -1.8917141  -0.93847126]]\n",
            "\n",
            "  [[ 0.77852213 -0.47338897  0.97772694]\n",
            "   [ 0.24694404  0.20573747 -0.5256233 ]\n",
            "   [ 0.32410017  0.02545409 -0.10638497]\n",
            "   [-0.6369475   1.1603122   0.2507359 ]]\n",
            "\n",
            "  [[-0.41728503  0.4012578  -1.4145443 ]\n",
            "   [-0.5931857  -1.6617213   0.33567193]\n",
            "   [ 0.10815629  0.23479682 -0.56668764]\n",
            "   [-0.35819843  0.88698614  0.52744764]]]]\n",
            "\n"
          ]
        }
      ]
    },
    {
      "cell_type": "code",
      "source": [
        "# pass the random tensor through a global average pooling 2D layer\n",
        "global_average_pooled_tensor = tf.keras.layers.GlobalAveragePooling2D()(input_tensor) # Passing the input_tensor after the layer\n",
        "print(f\"2D global average pooled random tensor:\\n {global_average_pooled_tensor}\\n\")"
      ],
      "metadata": {
        "id": "LiwCBWFmcUCK",
        "outputId": "76f8ad56-8864-4a22-ef8b-4b49d0cbc11b",
        "colab": {
          "base_uri": "https://localhost:8080/"
        }
      },
      "execution_count": 16,
      "outputs": [
        {
          "output_type": "stream",
          "name": "stdout",
          "text": [
            "2D global average pooled random tensor:\n",
            " [[-0.09368646 -0.45840448 -0.2885598 ]]\n",
            "\n"
          ]
        }
      ]
    },
    {
      "cell_type": "code",
      "source": [
        "# Check the shapes of different tensors\n",
        "print(f\"Shape of input tensor: {input_tensor.shape}\")\n",
        "print(f\"Shape of the global average pooled 2D tensor : {global_average_pooled_tensor}\")"
      ],
      "metadata": {
        "id": "CghgbgSudtOu",
        "outputId": "cfe4b325-d456-4968-c173-19b5d17447fa",
        "colab": {
          "base_uri": "https://localhost:8080/"
        }
      },
      "execution_count": 17,
      "outputs": [
        {
          "output_type": "stream",
          "name": "stdout",
          "text": [
            "Shape of input tensor: (1, 4, 4, 3)\n",
            "Shape of the global average pooled 2D tensor : [[-0.09368646 -0.45840448 -0.2885598 ]]\n"
          ]
        }
      ]
    },
    {
      "cell_type": "code",
      "source": [
        "# Let's replicate the GlobalAveragePooling2D layer\n",
        "tf.reduce_mean(input_tensor, axis=[1,2])"
      ],
      "metadata": {
        "id": "M0FsazsgeUCg",
        "outputId": "9c2d0c2e-e9ba-489a-e952-a6f9ae63c891",
        "colab": {
          "base_uri": "https://localhost:8080/"
        }
      },
      "execution_count": 18,
      "outputs": [
        {
          "output_type": "execute_result",
          "data": {
            "text/plain": [
              "<tf.Tensor: shape=(1, 3), dtype=float32, numpy=array([[-0.09368646, -0.45840448, -0.2885598 ]], dtype=float32)>"
            ]
          },
          "metadata": {},
          "execution_count": 18
        }
      ]
    },
    {
      "cell_type": "markdown",
      "source": [
        "## Feature Vector\n",
        "\n",
        "**What is a feature vector?**\n",
        "\n",
        "Ans : A feature vector is a learned representation of the input data(a compressed form of the input data based on how model see's it)\n",
        "\n",
        "We've seen the incredible results transfer learning can get with only 10% of the training data, but how does it goes with **1%** of the training data... how about we setup a bunch of experiments to find out:\n",
        "\n",
        "1. 'model_1' - use feature extraction transfer learning with 1% of data with data augmentation\n",
        "\n",
        "2. 'model_2' - use feature extraction transfer learning with 10% of the training data with data augmentation \n",
        "\n",
        "3. 'model_3' - use **fine-tuning** transfer learning on 10% of the training data with data augmentation.\n",
        "\n",
        "4. 'model_4' - use fine-tuning transfer learning on 100% of the training data with data augmentation. \n",
        "\n",
        "\n",
        "Note: throught all experiments the same test dataset will be used to evaluate our model.... this ensure consistency across evaluation metrics."
      ],
      "metadata": {
        "id": "jyzbChGIfoAN"
      }
    },
    {
      "cell_type": "code",
      "source": [
        "# Download and unzip the data -  preprocessed from Food101\n",
        "!wget https://storage.googleapis.com/ztm_tf_course/food_vision/10_food_classes_1_percent.zip\n",
        "\n",
        "unzip_data(\"10_food_classes_1_percent.zip\")"
      ],
      "metadata": {
        "id": "xaMeLgOHq0L4",
        "outputId": "4f633bd1-67bb-4175-f405-6049e23c27cf",
        "colab": {
          "base_uri": "https://localhost:8080/"
        }
      },
      "execution_count": 19,
      "outputs": [
        {
          "output_type": "stream",
          "name": "stdout",
          "text": [
            "--2022-02-18 03:36:07--  https://storage.googleapis.com/ztm_tf_course/food_vision/10_food_classes_1_percent.zip\n",
            "Resolving storage.googleapis.com (storage.googleapis.com)... 142.250.148.128, 209.85.200.128, 209.85.234.128, ...\n",
            "Connecting to storage.googleapis.com (storage.googleapis.com)|142.250.148.128|:443... connected.\n",
            "HTTP request sent, awaiting response... 200 OK\n",
            "Length: 133612354 (127M) [application/zip]\n",
            "Saving to: ‘10_food_classes_1_percent.zip’\n",
            "\n",
            "10_food_classes_1_p 100%[===================>] 127.42M   171MB/s    in 0.7s    \n",
            "\n",
            "2022-02-18 03:36:08 (171 MB/s) - ‘10_food_classes_1_percent.zip’ saved [133612354/133612354]\n",
            "\n"
          ]
        }
      ]
    },
    {
      "cell_type": "code",
      "source": [
        "# Create train and test dirs \n",
        "train_dir_1_percent = \"10_food_classes_1_percent/train\"\n",
        "test_dir = \"10_food_classes_1_percent/test\""
      ],
      "metadata": {
        "id": "6341dTxbsQAe"
      },
      "execution_count": 20,
      "outputs": []
    },
    {
      "cell_type": "code",
      "source": [
        "# How many images are we working with ?\n",
        "walk_through_dir(\"10_food_classes_1_percent\")"
      ],
      "metadata": {
        "id": "ijDnS96NsqUx",
        "outputId": "3bb8e751-7f94-4fe7-ee21-110783f39baf",
        "colab": {
          "base_uri": "https://localhost:8080/"
        }
      },
      "execution_count": 22,
      "outputs": [
        {
          "output_type": "stream",
          "name": "stdout",
          "text": [
            "There are 2 directories and 0 images in '10_food_classes_1_percent'.\n",
            "There are 10 directories and 0 images in '10_food_classes_1_percent/test'.\n",
            "There are 0 directories and 250 images in '10_food_classes_1_percent/test/ice_cream'.\n",
            "There are 0 directories and 250 images in '10_food_classes_1_percent/test/sushi'.\n",
            "There are 0 directories and 250 images in '10_food_classes_1_percent/test/pizza'.\n",
            "There are 0 directories and 250 images in '10_food_classes_1_percent/test/chicken_curry'.\n",
            "There are 0 directories and 250 images in '10_food_classes_1_percent/test/steak'.\n",
            "There are 0 directories and 250 images in '10_food_classes_1_percent/test/hamburger'.\n",
            "There are 0 directories and 250 images in '10_food_classes_1_percent/test/ramen'.\n",
            "There are 0 directories and 250 images in '10_food_classes_1_percent/test/chicken_wings'.\n",
            "There are 0 directories and 250 images in '10_food_classes_1_percent/test/fried_rice'.\n",
            "There are 0 directories and 250 images in '10_food_classes_1_percent/test/grilled_salmon'.\n",
            "There are 10 directories and 0 images in '10_food_classes_1_percent/train'.\n",
            "There are 0 directories and 7 images in '10_food_classes_1_percent/train/ice_cream'.\n",
            "There are 0 directories and 7 images in '10_food_classes_1_percent/train/sushi'.\n",
            "There are 0 directories and 7 images in '10_food_classes_1_percent/train/pizza'.\n",
            "There are 0 directories and 7 images in '10_food_classes_1_percent/train/chicken_curry'.\n",
            "There are 0 directories and 7 images in '10_food_classes_1_percent/train/steak'.\n",
            "There are 0 directories and 7 images in '10_food_classes_1_percent/train/hamburger'.\n",
            "There are 0 directories and 7 images in '10_food_classes_1_percent/train/ramen'.\n",
            "There are 0 directories and 7 images in '10_food_classes_1_percent/train/chicken_wings'.\n",
            "There are 0 directories and 7 images in '10_food_classes_1_percent/train/fried_rice'.\n",
            "There are 0 directories and 7 images in '10_food_classes_1_percent/train/grilled_salmon'.\n"
          ]
        }
      ]
    },
    {
      "cell_type": "code",
      "source": [
        "# Set up the data loaders\n",
        "IMG_SIZE = (224,224)\n",
        "train_data_1_percent = tf.keras.preprocessing.image_dataset_from_directory(train_dir_1_percent,\n",
        "                                                                           label_mode='categorical',\n",
        "                                                                           image_size=IMG_SIZE,\n",
        "                                                                           batch_size=BATCH_SIZE)\n",
        "\n",
        "test_data = tf.keras.preprocessing.image_dataset_from_directory(test_dir,\n",
        "                                                                label_mode='categorical',\n",
        "                                                                image_size=IMG_SIZE,\n",
        "                                                                batch_size=BATCH_SIZE)"
      ],
      "metadata": {
        "id": "1aXLEILn7xF3",
        "outputId": "c86d5afe-277c-4e27-89a7-f3d8f5099ab6",
        "colab": {
          "base_uri": "https://localhost:8080/"
        }
      },
      "execution_count": 26,
      "outputs": [
        {
          "output_type": "stream",
          "name": "stdout",
          "text": [
            "Found 70 files belonging to 10 classes.\n",
            "Found 2500 files belonging to 10 classes.\n"
          ]
        }
      ]
    },
    {
      "cell_type": "markdown",
      "source": [
        "* Adding data augmentation right into the model\n",
        "\n",
        "   To add the data augmentation right into our models, we can use the layers   inside:\n",
        "   * tf.keras.layers.experimental.preprocessing()\n",
        "\n",
        "* Benefits of in-layer data augmentation\n",
        "\n",
        "There are two important points to be aware of in this case:\n",
        "\n",
        "* Data augmentation will run on-device, synchronously with the rest of your layers, and benefit from GPU acceleration.\n",
        "\n",
        "* When you export your model using **model.save**, the preprocessing layers will be saved along with the rest of your model. If you later deploy this model, it will automatically standardize images (according to the configuration of your layers). This can save you from the effort of having to reimplement that logic server-side.\n",
        "\n",
        "\n"
      ],
      "metadata": {
        "id": "6QNsgSXW8tSD"
      }
    },
    {
      "cell_type": "code",
      "source": [
        "import tensorflow as tf\n",
        "from tensorflow import keras\n",
        "from tensorflow.keras import layers\n",
        "from tensorflow.keras.layers.experimental import preprocessing\n",
        "\n",
        "# Create data augmentation stage with horizontal flipping, rotation, zooms etc..\n",
        "data_augmentation = keras.Sequential([\n",
        " preprocessing.RandomFlip(\"horizontal\"),\n",
        " preprocessing.RandomRotation(0.2),\n",
        " preprocessing.RandomZoom(0.2),\n",
        " preprocessing.RandomHeight(0.2),\n",
        " preprocessing.RandomWidth(0.2),\n",
        " # preprocessing.Rescale(1./255) # Keep for models like ResNet50V2 but EfficientNet's having rescaling built-in                                      \n",
        "], name=\"data_augmentation\")"
      ],
      "metadata": {
        "id": "zdzY8H8g94Bb"
      },
      "execution_count": 29,
      "outputs": []
    },
    {
      "cell_type": "code",
      "source": [
        "# Next lesson 12"
      ],
      "metadata": {
        "id": "XX0PhuCjA5VC"
      },
      "execution_count": null,
      "outputs": []
    }
  ]
}