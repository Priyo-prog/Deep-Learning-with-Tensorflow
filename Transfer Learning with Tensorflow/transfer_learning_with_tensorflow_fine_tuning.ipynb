{
  "nbformat": 4,
  "nbformat_minor": 0,
  "metadata": {
    "colab": {
      "name": "transfer_learning_with_tensorflow_fine_tuning.ipynb",
      "provenance": [],
      "toc_visible": true,
      "authorship_tag": "ABX9TyNvDerITM6anJqOU0UK2GDc",
      "include_colab_link": true
    },
    "kernelspec": {
      "name": "python3",
      "display_name": "Python 3"
    },
    "language_info": {
      "name": "python"
    },
    "accelerator": "GPU"
  },
  "cells": [
    {
      "cell_type": "markdown",
      "metadata": {
        "id": "view-in-github",
        "colab_type": "text"
      },
      "source": [
        "<a href=\"https://colab.research.google.com/github/Priyo-prog/Deep-Learning-with-Tensorflow/blob/main/Transfer%20Learning%20with%20Tensorflow/transfer_learning_with_tensorflow_fine_tuning.ipynb\" target=\"_parent\"><img src=\"https://colab.research.google.com/assets/colab-badge.svg\" alt=\"Open In Colab\"/></a>"
      ]
    },
    {
      "cell_type": "markdown",
      "source": [
        "# **Transfer Learning with TensorFlow part 2: Fine Tuning**"
      ],
      "metadata": {
        "id": "BGZczUMg-gwo"
      }
    },
    {
      "cell_type": "code",
      "source": [
        "# Check the GPU we are using \n",
        "!nvidia-smi"
      ],
      "metadata": {
        "id": "GZl1cM8r_MjG",
        "outputId": "5679ca4e-76b8-491c-b525-928223badd86",
        "colab": {
          "base_uri": "https://localhost:8080/"
        }
      },
      "execution_count": 1,
      "outputs": [
        {
          "output_type": "stream",
          "name": "stdout",
          "text": [
            "Wed Feb 23 13:10:12 2022       \n",
            "+-----------------------------------------------------------------------------+\n",
            "| NVIDIA-SMI 460.32.03    Driver Version: 460.32.03    CUDA Version: 11.2     |\n",
            "|-------------------------------+----------------------+----------------------+\n",
            "| GPU  Name        Persistence-M| Bus-Id        Disp.A | Volatile Uncorr. ECC |\n",
            "| Fan  Temp  Perf  Pwr:Usage/Cap|         Memory-Usage | GPU-Util  Compute M. |\n",
            "|                               |                      |               MIG M. |\n",
            "|===============================+======================+======================|\n",
            "|   0  Tesla K80           Off  | 00000000:00:04.0 Off |                    0 |\n",
            "| N/A   51C    P8    31W / 149W |      0MiB / 11441MiB |      0%      Default |\n",
            "|                               |                      |                  N/A |\n",
            "+-------------------------------+----------------------+----------------------+\n",
            "                                                                               \n",
            "+-----------------------------------------------------------------------------+\n",
            "| Processes:                                                                  |\n",
            "|  GPU   GI   CI        PID   Type   Process name                  GPU Memory |\n",
            "|        ID   ID                                                   Usage      |\n",
            "|=============================================================================|\n",
            "|  No running processes found                                                 |\n",
            "+-----------------------------------------------------------------------------+\n"
          ]
        }
      ]
    },
    {
      "cell_type": "markdown",
      "source": [
        "## Getting the helper function"
      ],
      "metadata": {
        "id": "OKnzfm5lBXFo"
      }
    },
    {
      "cell_type": "code",
      "source": [
        "!wget https://raw.githubusercontent.com/mrdbourke/tensorflow-deep-learning/main/extras/helper_functions.py"
      ],
      "metadata": {
        "id": "9A2P10YE_qKR",
        "outputId": "f6d9eaf9-e812-46ed-f3ee-13cc49bb203c",
        "colab": {
          "base_uri": "https://localhost:8080/"
        }
      },
      "execution_count": 2,
      "outputs": [
        {
          "output_type": "stream",
          "name": "stdout",
          "text": [
            "--2022-02-23 13:10:12--  https://raw.githubusercontent.com/mrdbourke/tensorflow-deep-learning/main/extras/helper_functions.py\n",
            "Resolving raw.githubusercontent.com (raw.githubusercontent.com)... 185.199.108.133, 185.199.109.133, 185.199.110.133, ...\n",
            "Connecting to raw.githubusercontent.com (raw.githubusercontent.com)|185.199.108.133|:443... connected.\n",
            "HTTP request sent, awaiting response... 200 OK\n",
            "Length: 10246 (10K) [text/plain]\n",
            "Saving to: ‘helper_functions.py’\n",
            "\n",
            "helper_functions.py 100%[===================>]  10.01K  --.-KB/s    in 0s      \n",
            "\n",
            "2022-02-23 13:10:12 (79.6 MB/s) - ‘helper_functions.py’ saved [10246/10246]\n",
            "\n"
          ]
        }
      ]
    },
    {
      "cell_type": "code",
      "source": [
        "# Import the helper functions we are going to use in this notebook\n",
        "from helper_functions import create_tensorboard_callback, plot_loss_curves, unzip_data, walk_through_dir"
      ],
      "metadata": {
        "id": "l3yw31xGBLrL"
      },
      "execution_count": 3,
      "outputs": []
    },
    {
      "cell_type": "markdown",
      "source": [
        "## Get the data\n",
        "\n",
        "This time we are going to see how we can use the pretrained models within 'tf.keras.applications' and apply them to our problem"
      ],
      "metadata": {
        "id": "dz2pGRf_wVIL"
      }
    },
    {
      "cell_type": "code",
      "source": [
        "# Get the 10% of training data of 10 classes of Food101\n",
        "!wget https://storage.googleapis.com/ztm_tf_course/food_vision/10_food_classes_10_percent.zip\n",
        "\n",
        "unzip_data(\"10_food_classes_10_percent.zip\")"
      ],
      "metadata": {
        "colab": {
          "base_uri": "https://localhost:8080/"
        },
        "id": "rX5STlEFw9n4",
        "outputId": "915fd56b-0ff1-4092-c1aa-69bc39d26ea6"
      },
      "execution_count": 4,
      "outputs": [
        {
          "output_type": "stream",
          "name": "stdout",
          "text": [
            "--2022-02-23 13:10:15--  https://storage.googleapis.com/ztm_tf_course/food_vision/10_food_classes_10_percent.zip\n",
            "Resolving storage.googleapis.com (storage.googleapis.com)... 173.194.194.128, 142.250.152.128, 64.233.191.128, ...\n",
            "Connecting to storage.googleapis.com (storage.googleapis.com)|173.194.194.128|:443... connected.\n",
            "HTTP request sent, awaiting response... 200 OK\n",
            "Length: 168546183 (161M) [application/zip]\n",
            "Saving to: ‘10_food_classes_10_percent.zip’\n",
            "\n",
            "10_food_classes_10_ 100%[===================>] 160.74M   160MB/s    in 1.0s    \n",
            "\n",
            "2022-02-23 13:10:16 (160 MB/s) - ‘10_food_classes_10_percent.zip’ saved [168546183/168546183]\n",
            "\n"
          ]
        }
      ]
    },
    {
      "cell_type": "code",
      "source": [
        "# Check out how many images and subdirectories are in our dataset\n",
        "walk_through_dir(\"10_food_classes_10_percent\")"
      ],
      "metadata": {
        "colab": {
          "base_uri": "https://localhost:8080/"
        },
        "id": "JjCYVSl-xMmv",
        "outputId": "bd5577aa-77d8-4f40-b108-83345b8a7bef"
      },
      "execution_count": 5,
      "outputs": [
        {
          "output_type": "stream",
          "name": "stdout",
          "text": [
            "There are 2 directories and 0 images in '10_food_classes_10_percent'.\n",
            "There are 10 directories and 0 images in '10_food_classes_10_percent/train'.\n",
            "There are 0 directories and 75 images in '10_food_classes_10_percent/train/chicken_wings'.\n",
            "There are 0 directories and 75 images in '10_food_classes_10_percent/train/hamburger'.\n",
            "There are 0 directories and 75 images in '10_food_classes_10_percent/train/ice_cream'.\n",
            "There are 0 directories and 75 images in '10_food_classes_10_percent/train/pizza'.\n",
            "There are 0 directories and 75 images in '10_food_classes_10_percent/train/ramen'.\n",
            "There are 0 directories and 75 images in '10_food_classes_10_percent/train/grilled_salmon'.\n",
            "There are 0 directories and 75 images in '10_food_classes_10_percent/train/sushi'.\n",
            "There are 0 directories and 75 images in '10_food_classes_10_percent/train/fried_rice'.\n",
            "There are 0 directories and 75 images in '10_food_classes_10_percent/train/steak'.\n",
            "There are 0 directories and 75 images in '10_food_classes_10_percent/train/chicken_curry'.\n",
            "There are 10 directories and 0 images in '10_food_classes_10_percent/test'.\n",
            "There are 0 directories and 250 images in '10_food_classes_10_percent/test/chicken_wings'.\n",
            "There are 0 directories and 250 images in '10_food_classes_10_percent/test/hamburger'.\n",
            "There are 0 directories and 250 images in '10_food_classes_10_percent/test/ice_cream'.\n",
            "There are 0 directories and 250 images in '10_food_classes_10_percent/test/pizza'.\n",
            "There are 0 directories and 250 images in '10_food_classes_10_percent/test/ramen'.\n",
            "There are 0 directories and 250 images in '10_food_classes_10_percent/test/grilled_salmon'.\n",
            "There are 0 directories and 250 images in '10_food_classes_10_percent/test/sushi'.\n",
            "There are 0 directories and 250 images in '10_food_classes_10_percent/test/fried_rice'.\n",
            "There are 0 directories and 250 images in '10_food_classes_10_percent/test/steak'.\n",
            "There are 0 directories and 250 images in '10_food_classes_10_percent/test/chicken_curry'.\n"
          ]
        }
      ]
    },
    {
      "cell_type": "code",
      "source": [
        "# Create training and test directories paths\n",
        "train_dir = \"10_food_classes_10_percent/train\"\n",
        "test_data = \"10_food_classes_10_percent/test\""
      ],
      "metadata": {
        "id": "F-B60cX6xzaG"
      },
      "execution_count": 6,
      "outputs": []
    },
    {
      "cell_type": "code",
      "source": [
        "import tensorflow as tf\n",
        "\n",
        "IMG_SIZE = (224,224)\n",
        "BATCH_SIZE = 32\n",
        "train_data_10_percent = tf.keras.preprocessing.image_dataset_from_directory(directory=train_dir,\n",
        "                                                                            image_size=IMG_SIZE,\n",
        "                                                                            label_mode=\"categorical\",\n",
        "                                                                            batch_size=BATCH_SIZE)\n",
        "\n",
        "test_data = tf.keras.preprocessing.image_dataset_from_directory(directory=test_data,\n",
        "                                                                image_size=IMG_SIZE,\n",
        "                                                                label_mode=\"categorical\",\n",
        "                                                                batch_size=BATCH_SIZE)"
      ],
      "metadata": {
        "colab": {
          "base_uri": "https://localhost:8080/"
        },
        "id": "vDmUbdU_yXvF",
        "outputId": "b09b4b5c-2b7d-4ad4-f96a-abe94a1540aa"
      },
      "execution_count": 7,
      "outputs": [
        {
          "output_type": "stream",
          "name": "stdout",
          "text": [
            "Found 750 files belonging to 10 classes.\n",
            "Found 2500 files belonging to 10 classes.\n"
          ]
        }
      ]
    },
    {
      "cell_type": "code",
      "source": [
        "# Check out the class names of our dataset\n",
        "train_data_10_percent.class_names"
      ],
      "metadata": {
        "colab": {
          "base_uri": "https://localhost:8080/"
        },
        "id": "uymfSVQu0Qhc",
        "outputId": "21941103-a9b5-4eb8-f989-06f3589e71be"
      },
      "execution_count": 8,
      "outputs": [
        {
          "output_type": "execute_result",
          "data": {
            "text/plain": [
              "['chicken_curry',\n",
              " 'chicken_wings',\n",
              " 'fried_rice',\n",
              " 'grilled_salmon',\n",
              " 'hamburger',\n",
              " 'ice_cream',\n",
              " 'pizza',\n",
              " 'ramen',\n",
              " 'steak',\n",
              " 'sushi']"
            ]
          },
          "metadata": {},
          "execution_count": 8
        }
      ]
    },
    {
      "cell_type": "code",
      "source": [
        "# See an example of batch of data\n",
        "for images, labels in train_data_10_percent.take(1):\n",
        "  print(images,labels)"
      ],
      "metadata": {
        "colab": {
          "base_uri": "https://localhost:8080/"
        },
        "id": "3p3Do-Z11CL7",
        "outputId": "16785c88-e364-4812-93d8-0e9b8bdf9b4a"
      },
      "execution_count": 9,
      "outputs": [
        {
          "output_type": "stream",
          "name": "stdout",
          "text": [
            "tf.Tensor(\n",
            "[[[[1.71648605e+02 1.69413269e+02 1.58119263e+02]\n",
            "   [1.72491074e+02 1.70427933e+02 1.58617340e+02]\n",
            "   [1.79185577e+02 1.77185577e+02 1.65185577e+02]\n",
            "   ...\n",
            "   [2.04771667e+02 1.48650482e+02 7.47110748e+01]\n",
            "   [2.21585464e+02 1.67711731e+02 9.36485901e+01]\n",
            "   [2.24397308e+02 1.70867966e+02 9.66326370e+01]]\n",
            "\n",
            "  [[1.77438126e+02 1.77686874e+02 1.70616074e+02]\n",
            "   [1.78796555e+02 1.79633926e+02 1.71505096e+02]\n",
            "   [1.83351395e+02 1.84893494e+02 1.74437500e+02]\n",
            "   ...\n",
            "   [2.29057419e+02 1.76985992e+02 1.00985985e+02]\n",
            "   [2.21822067e+02 1.72628830e+02 9.66932373e+01]\n",
            "   [2.21200256e+02 1.72064423e+02 9.61096954e+01]]\n",
            "\n",
            "  [[1.83303574e+02 1.85867996e+02 1.81892853e+02]\n",
            "   [1.84491074e+02 1.87842484e+02 1.81253189e+02]\n",
            "   [1.87393494e+02 1.90688766e+02 1.84242355e+02]\n",
            "   ...\n",
            "   [2.21239807e+02 1.71705994e+02 9.48839340e+01]\n",
            "   [2.28496826e+02 1.79071426e+02 1.02187508e+02]\n",
            "   [2.25626923e+02 1.78198364e+02 1.00412643e+02]]\n",
            "\n",
            "  ...\n",
            "\n",
            "  [[4.64356422e+01 2.74356441e+01 1.08641720e+01]\n",
            "   [4.63572083e+01 2.73572083e+01 1.07857361e+01]\n",
            "   [4.85632019e+01 2.95632000e+01 1.29917269e+01]\n",
            "   ...\n",
            "   [9.44987717e+01 6.04987755e+01 2.54987736e+01]\n",
            "   [9.22142639e+01 5.82142639e+01 2.32142639e+01]\n",
            "   [9.22142639e+01 5.82142639e+01 2.32142639e+01]]\n",
            "\n",
            "  [[5.30714417e+01 3.20714417e+01 1.50714417e+01]\n",
            "   [5.30070152e+01 3.20070152e+01 1.50070162e+01]\n",
            "   [5.31575241e+01 3.21575241e+01 1.51575232e+01]\n",
            "   ...\n",
            "   [9.18182297e+01 5.78182335e+01 2.28182335e+01]\n",
            "   [9.30000000e+01 5.90000000e+01 2.40000000e+01]\n",
            "   [9.30714417e+01 5.90714417e+01 2.40714417e+01]]\n",
            "\n",
            "  [[5.30000000e+01 3.20000000e+01 1.50000000e+01]\n",
            "   [5.26779022e+01 3.16779022e+01 1.46779022e+01]\n",
            "   [5.14731789e+01 3.04731789e+01 1.34731798e+01]\n",
            "   ...\n",
            "   [9.49018860e+01 6.09018860e+01 2.59018860e+01]\n",
            "   [9.30000000e+01 5.90000000e+01 2.40000000e+01]\n",
            "   [9.37735672e+01 5.97735710e+01 2.47735710e+01]]]\n",
            "\n",
            "\n",
            " [[[1.22852043e+02 6.08520432e+01 9.85204124e+00]\n",
            "   [1.20403061e+02 6.31887779e+01 9.06632614e+00]\n",
            "   [1.19117348e+02 6.47602005e+01 7.82653046e+00]\n",
            "   ...\n",
            "   [2.17214325e+02 2.04214325e+02 1.88214325e+02]\n",
            "   [2.16954071e+02 2.03954071e+02 1.87954071e+02]\n",
            "   [2.16714325e+02 2.03714325e+02 1.87714325e+02]]\n",
            "\n",
            "  [[1.14714287e+02 5.47142868e+01 3.37755060e+00]\n",
            "   [1.15566322e+02 5.83520393e+01 3.42346787e+00]\n",
            "   [1.24122452e+02 6.93214340e+01 1.17244930e+01]\n",
            "   ...\n",
            "   [2.17785736e+02 2.04785736e+02 1.88785736e+02]\n",
            "   [2.16928558e+02 2.03928558e+02 1.87928558e+02]\n",
            "   [2.17260239e+02 2.04260239e+02 1.88260239e+02]]\n",
            "\n",
            "  [[1.23285713e+02 6.39285736e+01 1.17142868e+01]\n",
            "   [1.29229599e+02 7.22295914e+01 1.72295933e+01]\n",
            "   [1.31770416e+02 7.51275482e+01 1.79132652e+01]\n",
            "   ...\n",
            "   [2.17214279e+02 2.04214279e+02 1.88214279e+02]\n",
            "   [2.17056137e+02 2.04056137e+02 1.88056137e+02]\n",
            "   [2.19637817e+02 2.06637817e+02 1.90637817e+02]]\n",
            "\n",
            "  ...\n",
            "\n",
            "  [[2.53785736e+02 2.54785736e+02 2.48785736e+02]\n",
            "   [2.54000000e+02 2.55000000e+02 2.49000000e+02]\n",
            "   [2.54000000e+02 2.55000000e+02 2.49000000e+02]\n",
            "   ...\n",
            "   [2.49168350e+02 2.39168350e+02 2.29168350e+02]\n",
            "   [2.54556168e+02 2.44556168e+02 2.34556168e+02]\n",
            "   [2.49295822e+02 2.39295822e+02 2.29295822e+02]]\n",
            "\n",
            "  [[2.54403076e+02 2.55000000e+02 2.47403076e+02]\n",
            "   [2.54000000e+02 2.55000000e+02 2.47000000e+02]\n",
            "   [2.53000000e+02 2.54000000e+02 2.46000000e+02]\n",
            "   ...\n",
            "   [2.50153091e+02 2.40153091e+02 2.30153091e+02]\n",
            "   [2.48270462e+02 2.38270462e+02 2.28270462e+02]\n",
            "   [2.52545959e+02 2.42545959e+02 2.32545959e+02]]\n",
            "\n",
            "  [[2.55000000e+02 2.55000000e+02 2.48000000e+02]\n",
            "   [2.54071426e+02 2.55000000e+02 2.47071426e+02]\n",
            "   [2.53000000e+02 2.54000000e+02 2.46000000e+02]\n",
            "   ...\n",
            "   [2.50959122e+02 2.40959122e+02 2.30959122e+02]\n",
            "   [2.51647934e+02 2.41647934e+02 2.31647934e+02]\n",
            "   [2.50943954e+02 2.40943954e+02 2.30943954e+02]]]\n",
            "\n",
            "\n",
            " [[[3.60000000e+01 2.61224484e+00 1.71428549e+00]\n",
            "   [4.42397957e+01 5.10202050e-02 4.54081208e-01]\n",
            "   [4.77806091e+01 3.28061295e+00 2.20918369e+00]\n",
            "   ...\n",
            "   [9.15609818e+01 1.91324501e+01 5.40283871e+00]\n",
            "   [9.68673325e+01 2.58673363e+01 7.86733580e+00]\n",
            "   [9.25407028e+01 2.15407009e+01 1.99993014e+00]]\n",
            "\n",
            "  [[3.48520393e+01 4.13775587e+00 4.35714388e+00]\n",
            "   [4.20663261e+01 1.32652596e-01 2.04080895e-01]\n",
            "   [4.63979607e+01 2.19898081e+00 6.12245381e-01]\n",
            "   ...\n",
            "   [9.74900513e+01 2.44900513e+01 9.49005127e+00]\n",
            "   [1.00382698e+02 2.93826962e+01 1.13826962e+01]\n",
            "   [9.34948578e+01 2.24948559e+01 2.54588127e+00]]\n",
            "\n",
            "  [[3.26326523e+01 6.29081535e+00 5.57142782e+00]\n",
            "   [4.02244911e+01 0.00000000e+00 1.12244450e-01]\n",
            "   [5.36224518e+01 5.74489880e+00 3.27040887e+00]\n",
            "   ...\n",
            "   [9.28111877e+01 1.88775635e+01 1.61734200e+00]\n",
            "   [8.73725815e+01 1.43725824e+01 3.92929018e-01]\n",
            "   [9.13979492e+01 1.99693775e+01 6.88738585e-01]]\n",
            "\n",
            "  ...\n",
            "\n",
            "  [[1.20719383e+02 9.17193832e+01 2.52908516e+01]\n",
            "   [1.23127533e+02 9.41275330e+01 2.61275311e+01]\n",
            "   [1.24382637e+02 9.53826370e+01 2.69540634e+01]\n",
            "   ...\n",
            "   [1.14790649e+02 6.81221390e+01 1.82653904e+01]\n",
            "   [9.94843597e+01 4.67853088e+01 1.11733150e+01]\n",
            "   [8.07853088e+01 2.34281006e+01 5.50934434e-01]]\n",
            "\n",
            "  [[1.17974487e+02 9.09744873e+01 2.39744854e+01]\n",
            "   [1.19928574e+02 9.29285736e+01 2.59285717e+01]\n",
            "   [1.21928558e+02 9.49285583e+01 2.59285583e+01]\n",
            "   ...\n",
            "   [9.34537430e+01 3.94842949e+01 1.07702456e+01]\n",
            "   [7.84437790e+01 1.94386749e+01 1.87242842e+00]\n",
            "   [7.37652969e+01 1.43621969e+01 1.69397902e+00]]\n",
            "\n",
            "  [[1.16642860e+02 8.96428604e+01 2.26428566e+01]\n",
            "   [1.18928574e+02 9.19285736e+01 2.49285717e+01]\n",
            "   [1.20137749e+02 9.31377487e+01 2.41377487e+01]\n",
            "   ...\n",
            "   [7.41272202e+01 1.66934814e+01 2.70902276e+00]\n",
            "   [7.05712891e+01 1.02141113e+01 2.09184861e+00]\n",
            "   [7.07293549e+01 9.72935772e+00 5.44371319e+00]]]\n",
            "\n",
            "\n",
            " ...\n",
            "\n",
            "\n",
            " [[[1.00000000e+00 1.00000000e+00 1.00000000e+00]\n",
            "   [1.00000000e+00 1.00000000e+00 1.00000000e+00]\n",
            "   [2.00000000e+00 2.00000000e+00 2.00000000e+00]\n",
            "   ...\n",
            "   [1.03877735e+01 8.10205936e+00 1.38777375e+00]\n",
            "   [1.05714283e+01 8.28571415e+00 1.59184039e+00]\n",
            "   [9.35710812e+00 7.07139349e+00 9.48974550e-01]]\n",
            "\n",
            "  [[1.00000000e+00 1.00000000e+00 1.00000000e+00]\n",
            "   [1.00000000e+00 1.00000000e+00 1.00000000e+00]\n",
            "   [2.00000000e+00 2.00000000e+00 2.00000000e+00]\n",
            "   ...\n",
            "   [6.37754154e+00 1.01836548e+01 5.33674383e+00]\n",
            "   [6.28571415e+00 1.00000000e+01 6.42859745e+00]\n",
            "   [6.51018429e+00 1.02244701e+01 8.51018429e+00]]\n",
            "\n",
            "  [[1.00000000e+00 1.00000000e+00 1.00000000e+00]\n",
            "   [1.00000000e+00 1.00000000e+00 1.00000000e+00]\n",
            "   [2.00000000e+00 2.00000000e+00 2.00000000e+00]\n",
            "   ...\n",
            "   [9.92854881e+00 1.17040539e+01 1.80611372e+00]\n",
            "   [9.05102921e+00 1.07142859e+01 4.62248516e+00]\n",
            "   [1.07142849e+01 1.17142859e+01 8.39798450e+00]]\n",
            "\n",
            "  ...\n",
            "\n",
            "  [[3.79286156e+01 2.79286156e+01 1.59286156e+01]\n",
            "   [3.07449150e+01 2.20714626e+01 1.08367777e+01]\n",
            "   [2.66326160e+01 1.80612049e+01 6.77549982e+00]\n",
            "   ...\n",
            "   [5.92754211e+01 3.45306320e+01 2.13979130e+01]\n",
            "   [5.44796181e+01 3.64184418e+01 1.88266201e+01]\n",
            "   [5.28264809e+01 3.64591637e+01 2.18469181e+01]]\n",
            "\n",
            "  [[3.20714989e+01 2.20714989e+01 1.00714979e+01]\n",
            "   [2.96224365e+01 1.96224365e+01 7.62243652e+00]\n",
            "   [3.22550240e+01 2.22550220e+01 1.02550230e+01]\n",
            "   ...\n",
            "   [6.19998779e+01 3.55713501e+01 2.29998779e+01]\n",
            "   [5.42244682e+01 3.22449455e+01 1.59286194e+01]\n",
            "   [5.42243729e+01 3.61632195e+01 2.27244930e+01]]\n",
            "\n",
            "  [[2.91938725e+01 1.98061199e+01 7.49999571e+00]\n",
            "   [3.15204163e+01 2.15204163e+01 9.52041721e+00]\n",
            "   [3.59285812e+01 2.62347050e+01 1.18469372e+01]\n",
            "   ...\n",
            "   [6.46938782e+01 3.71020203e+01 2.52040386e+01]\n",
            "   [5.93673820e+01 3.64388237e+01 2.21735306e+01]\n",
            "   [5.60304527e+01 3.67753220e+01 2.37958336e+01]]]\n",
            "\n",
            "\n",
            " [[[1.36056122e+02 5.40561218e+01 0.00000000e+00]\n",
            "   [1.40000000e+02 5.80000000e+01 0.00000000e+00]\n",
            "   [1.39642853e+02 5.76428566e+01 4.28571701e-01]\n",
            "   ...\n",
            "   [8.59947968e+01 7.46375885e+01 5.84233246e+01]\n",
            "   [8.80917892e+01 7.51632309e+01 5.59489059e+01]\n",
            "   [7.88979874e+01 6.68979874e+01 4.33571434e+01]]\n",
            "\n",
            "  [[1.36357147e+02 5.43571434e+01 0.00000000e+00]\n",
            "   [1.40066330e+02 5.80663261e+01 6.63265213e-02]\n",
            "   [1.40484695e+02 5.84846954e+01 4.84694123e-01]\n",
            "   ...\n",
            "   [8.66427917e+01 7.52855835e+01 5.91019287e+01]\n",
            "   [9.15049973e+01 7.85713348e+01 5.93723221e+01]\n",
            "   [8.15053177e+01 6.95053177e+01 4.75053177e+01]]\n",
            "\n",
            "  [[1.37566330e+02 5.55663261e+01 0.00000000e+00]\n",
            "   [1.40928574e+02 5.89285736e+01 9.28571701e-01]\n",
            "   [1.41214279e+02 5.92142868e+01 8.77550900e-01]\n",
            "   ...\n",
            "   [8.58570786e+01 7.44998703e+01 5.87141342e+01]\n",
            "   [8.94693146e+01 7.80407486e+01 5.82550316e+01]\n",
            "   [8.83473053e+01 7.71330185e+01 5.51330223e+01]]\n",
            "\n",
            "  ...\n",
            "\n",
            "  [[1.13571424e+01 1.43571424e+01 5.35714293e+00]\n",
            "   [9.07142830e+00 1.20714283e+01 3.07142830e+00]\n",
            "   [9.83162594e+00 1.28316259e+01 3.83162594e+00]\n",
            "   ...\n",
            "   [2.13572083e+01 2.35714722e+01 1.25714722e+01]\n",
            "   [2.07040596e+01 2.16734409e+01 5.53055811e+00]\n",
            "   [2.28623085e+01 2.15102596e+01 1.57147217e+00]]\n",
            "\n",
            "  [[1.13571424e+01 1.43571424e+01 5.35714293e+00]\n",
            "   [9.07142830e+00 1.20714283e+01 3.07142830e+00]\n",
            "   [9.01530266e+00 1.20153027e+01 3.01530242e+00]\n",
            "   ...\n",
            "   [1.87704048e+01 2.09846687e+01 8.52541733e+00]\n",
            "   [2.29286499e+01 2.11990204e+01 5.78570557e+00]\n",
            "   [2.93572998e+01 2.73113956e+01 6.40320444e+00]]\n",
            "\n",
            "  [[1.11275520e+01 1.41275520e+01 5.12755251e+00]\n",
            "   [8.42857552e+00 1.14285755e+01 2.42857552e+00]\n",
            "   [8.07653141e+00 1.10765314e+01 2.07653165e+00]\n",
            "   ...\n",
            "   [1.94234467e+01 2.06274853e+01 8.56112480e+00]\n",
            "   [2.42857666e+01 2.32857666e+01 5.09695673e+00]\n",
            "   [3.17143250e+01 2.97143250e+01 7.99996948e+00]]]\n",
            "\n",
            "\n",
            " [[[2.54000000e+02 2.54000000e+02 2.54000000e+02]\n",
            "   [2.53000000e+02 2.55000000e+02 2.54000000e+02]\n",
            "   [2.52571426e+02 2.55000000e+02 2.54000000e+02]\n",
            "   ...\n",
            "   [2.54000000e+02 2.54000000e+02 2.54000000e+02]\n",
            "   [2.54000000e+02 2.54000000e+02 2.54000000e+02]\n",
            "   [2.54000000e+02 2.54000000e+02 2.54000000e+02]]\n",
            "\n",
            "  [[2.54000000e+02 2.54000000e+02 2.54000000e+02]\n",
            "   [2.53000000e+02 2.55000000e+02 2.54000000e+02]\n",
            "   [2.52571426e+02 2.55000000e+02 2.54000000e+02]\n",
            "   ...\n",
            "   [2.54000000e+02 2.54000000e+02 2.54000000e+02]\n",
            "   [2.54000000e+02 2.54000000e+02 2.54000000e+02]\n",
            "   [2.54000000e+02 2.54000000e+02 2.54000000e+02]]\n",
            "\n",
            "  [[2.54000000e+02 2.54000000e+02 2.54000000e+02]\n",
            "   [2.53000000e+02 2.55000000e+02 2.54000000e+02]\n",
            "   [2.52663269e+02 2.55000000e+02 2.54000000e+02]\n",
            "   ...\n",
            "   [2.54000000e+02 2.54000000e+02 2.54000000e+02]\n",
            "   [2.54000000e+02 2.54000000e+02 2.54000000e+02]\n",
            "   [2.54000000e+02 2.54000000e+02 2.54000000e+02]]\n",
            "\n",
            "  ...\n",
            "\n",
            "  [[2.53000000e+02 2.53000000e+02 2.53000000e+02]\n",
            "   [2.48285706e+02 2.48285706e+02 2.48285706e+02]\n",
            "   [2.35857147e+02 2.35857147e+02 2.35857147e+02]\n",
            "   ...\n",
            "   [2.54000000e+02 2.54000000e+02 2.54000000e+02]\n",
            "   [2.54000000e+02 2.54000000e+02 2.54000000e+02]\n",
            "   [2.54000000e+02 2.54000000e+02 2.54000000e+02]]\n",
            "\n",
            "  [[2.53000000e+02 2.53000000e+02 2.53000000e+02]\n",
            "   [2.47352051e+02 2.47352051e+02 2.47352051e+02]\n",
            "   [2.34785706e+02 2.34785706e+02 2.34785706e+02]\n",
            "   ...\n",
            "   [2.54000000e+02 2.54000000e+02 2.54000000e+02]\n",
            "   [2.54000000e+02 2.54000000e+02 2.54000000e+02]\n",
            "   [2.54000000e+02 2.54000000e+02 2.54000000e+02]]\n",
            "\n",
            "  [[2.53000000e+02 2.53000000e+02 2.53000000e+02]\n",
            "   [2.47285706e+02 2.47285706e+02 2.47285706e+02]\n",
            "   [2.33780609e+02 2.33780609e+02 2.33780609e+02]\n",
            "   ...\n",
            "   [2.54000000e+02 2.54000000e+02 2.54000000e+02]\n",
            "   [2.54000000e+02 2.54000000e+02 2.54000000e+02]\n",
            "   [2.54000000e+02 2.54000000e+02 2.54000000e+02]]]], shape=(32, 224, 224, 3), dtype=float32) tf.Tensor(\n",
            "[[0. 0. 0. 0. 0. 0. 0. 0. 1. 0.]\n",
            " [1. 0. 0. 0. 0. 0. 0. 0. 0. 0.]\n",
            " [0. 0. 1. 0. 0. 0. 0. 0. 0. 0.]\n",
            " [1. 0. 0. 0. 0. 0. 0. 0. 0. 0.]\n",
            " [0. 0. 0. 0. 0. 0. 1. 0. 0. 0.]\n",
            " [0. 0. 0. 1. 0. 0. 0. 0. 0. 0.]\n",
            " [0. 0. 0. 0. 1. 0. 0. 0. 0. 0.]\n",
            " [0. 0. 0. 0. 0. 0. 1. 0. 0. 0.]\n",
            " [0. 0. 0. 0. 0. 0. 0. 0. 0. 1.]\n",
            " [0. 0. 0. 0. 0. 0. 0. 0. 1. 0.]\n",
            " [0. 0. 0. 0. 0. 0. 0. 0. 0. 1.]\n",
            " [0. 0. 0. 0. 1. 0. 0. 0. 0. 0.]\n",
            " [0. 0. 0. 0. 1. 0. 0. 0. 0. 0.]\n",
            " [0. 0. 0. 0. 0. 0. 0. 0. 0. 1.]\n",
            " [0. 0. 0. 0. 0. 0. 0. 0. 1. 0.]\n",
            " [0. 0. 0. 0. 0. 0. 0. 0. 1. 0.]\n",
            " [0. 0. 0. 0. 0. 0. 0. 1. 0. 0.]\n",
            " [0. 0. 0. 1. 0. 0. 0. 0. 0. 0.]\n",
            " [0. 0. 0. 0. 0. 0. 0. 1. 0. 0.]\n",
            " [0. 0. 1. 0. 0. 0. 0. 0. 0. 0.]\n",
            " [0. 0. 0. 0. 0. 0. 0. 0. 0. 1.]\n",
            " [0. 0. 0. 0. 1. 0. 0. 0. 0. 0.]\n",
            " [0. 0. 0. 0. 0. 1. 0. 0. 0. 0.]\n",
            " [0. 0. 0. 0. 0. 0. 0. 0. 0. 1.]\n",
            " [0. 0. 0. 0. 0. 0. 0. 0. 1. 0.]\n",
            " [0. 1. 0. 0. 0. 0. 0. 0. 0. 0.]\n",
            " [0. 0. 0. 1. 0. 0. 0. 0. 0. 0.]\n",
            " [0. 0. 0. 0. 0. 0. 1. 0. 0. 0.]\n",
            " [0. 0. 0. 0. 0. 0. 0. 0. 1. 0.]\n",
            " [0. 0. 0. 0. 0. 0. 0. 0. 0. 1.]\n",
            " [0. 0. 0. 0. 0. 0. 0. 0. 0. 1.]\n",
            " [0. 1. 0. 0. 0. 0. 0. 0. 0. 0.]], shape=(32, 10), dtype=float32)\n"
          ]
        }
      ]
    },
    {
      "cell_type": "markdown",
      "source": [
        "## Build Transfer Learning model using Functional API\n",
        "\n",
        "The Sequential API is straight forward, it runs our layer in sequential order\n",
        "\n",
        "But the Functional API gives us more flexibility with our models :- \n",
        "\n",
        "[Tensorflow Keras Functional API](https://www.tensorflow.org/guide/keras/functional)"
      ],
      "metadata": {
        "id": "GsWSb0zW1hyU"
      }
    },
    {
      "cell_type": "code",
      "source": [
        "# 1. Create bas model with tf.keras.applications\n",
        "base_model = tf.keras.applications.EfficientNetB0(include_top=False)\n",
        "\n",
        "# 2. Freeze the base model (so the underlying pre-trained patterns aren't updated during training)\n",
        "base_model.trainable = False\n",
        "\n",
        "# 3. Create inputs in our model\n",
        "inputs = tf.keras.layers.Input(shape=(224,224,3), name=\"input_layer\")\n",
        "\n",
        "# 4. If using a model like ResNet50V2 you will need to normalize inputs (you don't need to for EfficientNet)\n",
        "#x = tf.keras.layers.experimental.preprocessing.Rescaling(1./255)(inputs)\n",
        "\n",
        "# 5. Pass the inputs to the base_model\n",
        "x = base_model(inputs)\n",
        "print(f\"Shape after passing inputs through base model: {x.shape}\")\n",
        "\n",
        "# 6. Average pool the outputs of the base model (aggregate all the important information, reduce number of computations)\n",
        "x = tf.keras.layers.GlobalAveragePooling2D(name=\"global_average_pooling_layer\")(x)\n",
        "print(f\"Shape after GlobalAveragePooling2D: {x.shape}\")\n",
        "\n",
        "# 7. Create the output activation layer\n",
        "outputs = tf.keras.layers.Dense(10, activation=\"softmax\", name=\"output_layer\")(x)\n",
        "\n",
        "# 8. Combine the inputs with the outputs into a model\n",
        "model_0 = tf.keras.Model(inputs, outputs)\n",
        "\n",
        "# 9. Compile the model\n",
        "model_0.compile(loss=tf.keras.losses.CategoricalCrossentropy(),\n",
        "                optimizer=tf.keras.optimizers.Adam(),\n",
        "                metrics=[\"accuracy\"])\n",
        "\n",
        "# 10. Fit the model and save it's history\n",
        "history_10_percent = model_0.fit(train_data_10_percent,\n",
        "                                 epochs=5,\n",
        "                                 steps_per_epoch=len(train_data_10_percent),\n",
        "                                 validation_data=test_data,\n",
        "                                 validation_steps=int(0.25 * len(test_data)),\n",
        "                                 callbacks=[create_tensorboard_callback(dir_name=\"transfer_learning\",\n",
        "                                                                        experiment_name=\"10_percent_feature_extraction\")])"
      ],
      "metadata": {
        "id": "Jte4mPvdwHsS",
        "outputId": "ce882a28-10be-4230-8bef-6aa22f543fbd",
        "colab": {
          "base_uri": "https://localhost:8080/"
        }
      },
      "execution_count": 10,
      "outputs": [
        {
          "output_type": "stream",
          "name": "stdout",
          "text": [
            "Downloading data from https://storage.googleapis.com/keras-applications/efficientnetb0_notop.h5\n",
            "16711680/16705208 [==============================] - 0s 0us/step\n",
            "16719872/16705208 [==============================] - 0s 0us/step\n",
            "Shape after passing inputs through base model: (None, 7, 7, 1280)\n",
            "Shape after GlobalAveragePooling2D: (None, 1280)\n",
            "Saving TensorBoard log files to: transfer_learning/10_percent_feature_extraction/20220223-131035\n",
            "Epoch 1/5\n",
            "24/24 [==============================] - 28s 371ms/step - loss: 1.8650 - accuracy: 0.4067 - val_loss: 1.3272 - val_accuracy: 0.7171\n",
            "Epoch 2/5\n",
            "24/24 [==============================] - 9s 361ms/step - loss: 1.1286 - accuracy: 0.7467 - val_loss: 0.9289 - val_accuracy: 0.7928\n",
            "Epoch 3/5\n",
            "24/24 [==============================] - 7s 273ms/step - loss: 0.8281 - accuracy: 0.8160 - val_loss: 0.7541 - val_accuracy: 0.8224\n",
            "Epoch 4/5\n",
            "24/24 [==============================] - 9s 361ms/step - loss: 0.6707 - accuracy: 0.8547 - val_loss: 0.6435 - val_accuracy: 0.8355\n",
            "Epoch 5/5\n",
            "24/24 [==============================] - 7s 272ms/step - loss: 0.5840 - accuracy: 0.8627 - val_loss: 0.6127 - val_accuracy: 0.8339\n"
          ]
        }
      ]
    },
    {
      "cell_type": "code",
      "source": [
        "# Evaluate on full test dataset\n",
        "model_0.evaluate(test_data)"
      ],
      "metadata": {
        "id": "Rdwh5VzRXcef",
        "outputId": "c9693ec0-7980-4fb7-fed3-62e6d4dc590b",
        "colab": {
          "base_uri": "https://localhost:8080/"
        }
      },
      "execution_count": 11,
      "outputs": [
        {
          "output_type": "stream",
          "name": "stdout",
          "text": [
            "79/79 [==============================] - 12s 141ms/step - loss: 0.6059 - accuracy: 0.8388\n"
          ]
        },
        {
          "output_type": "execute_result",
          "data": {
            "text/plain": [
              "[0.6058934330940247, 0.8388000130653381]"
            ]
          },
          "metadata": {},
          "execution_count": 11
        }
      ]
    },
    {
      "cell_type": "code",
      "source": [
        "# Check the layers in our base model\n",
        "for layer_number, layer in enumerate(base_model.layers):\n",
        "  print(layer_number, layer.name)"
      ],
      "metadata": {
        "id": "6cGaa8W0X9NI",
        "outputId": "36f83ea4-1a23-4ab2-a838-8c89649cfc4d",
        "colab": {
          "base_uri": "https://localhost:8080/"
        }
      },
      "execution_count": 12,
      "outputs": [
        {
          "output_type": "stream",
          "name": "stdout",
          "text": [
            "0 input_1\n",
            "1 rescaling\n",
            "2 normalization\n",
            "3 stem_conv_pad\n",
            "4 stem_conv\n",
            "5 stem_bn\n",
            "6 stem_activation\n",
            "7 block1a_dwconv\n",
            "8 block1a_bn\n",
            "9 block1a_activation\n",
            "10 block1a_se_squeeze\n",
            "11 block1a_se_reshape\n",
            "12 block1a_se_reduce\n",
            "13 block1a_se_expand\n",
            "14 block1a_se_excite\n",
            "15 block1a_project_conv\n",
            "16 block1a_project_bn\n",
            "17 block2a_expand_conv\n",
            "18 block2a_expand_bn\n",
            "19 block2a_expand_activation\n",
            "20 block2a_dwconv_pad\n",
            "21 block2a_dwconv\n",
            "22 block2a_bn\n",
            "23 block2a_activation\n",
            "24 block2a_se_squeeze\n",
            "25 block2a_se_reshape\n",
            "26 block2a_se_reduce\n",
            "27 block2a_se_expand\n",
            "28 block2a_se_excite\n",
            "29 block2a_project_conv\n",
            "30 block2a_project_bn\n",
            "31 block2b_expand_conv\n",
            "32 block2b_expand_bn\n",
            "33 block2b_expand_activation\n",
            "34 block2b_dwconv\n",
            "35 block2b_bn\n",
            "36 block2b_activation\n",
            "37 block2b_se_squeeze\n",
            "38 block2b_se_reshape\n",
            "39 block2b_se_reduce\n",
            "40 block2b_se_expand\n",
            "41 block2b_se_excite\n",
            "42 block2b_project_conv\n",
            "43 block2b_project_bn\n",
            "44 block2b_drop\n",
            "45 block2b_add\n",
            "46 block3a_expand_conv\n",
            "47 block3a_expand_bn\n",
            "48 block3a_expand_activation\n",
            "49 block3a_dwconv_pad\n",
            "50 block3a_dwconv\n",
            "51 block3a_bn\n",
            "52 block3a_activation\n",
            "53 block3a_se_squeeze\n",
            "54 block3a_se_reshape\n",
            "55 block3a_se_reduce\n",
            "56 block3a_se_expand\n",
            "57 block3a_se_excite\n",
            "58 block3a_project_conv\n",
            "59 block3a_project_bn\n",
            "60 block3b_expand_conv\n",
            "61 block3b_expand_bn\n",
            "62 block3b_expand_activation\n",
            "63 block3b_dwconv\n",
            "64 block3b_bn\n",
            "65 block3b_activation\n",
            "66 block3b_se_squeeze\n",
            "67 block3b_se_reshape\n",
            "68 block3b_se_reduce\n",
            "69 block3b_se_expand\n",
            "70 block3b_se_excite\n",
            "71 block3b_project_conv\n",
            "72 block3b_project_bn\n",
            "73 block3b_drop\n",
            "74 block3b_add\n",
            "75 block4a_expand_conv\n",
            "76 block4a_expand_bn\n",
            "77 block4a_expand_activation\n",
            "78 block4a_dwconv_pad\n",
            "79 block4a_dwconv\n",
            "80 block4a_bn\n",
            "81 block4a_activation\n",
            "82 block4a_se_squeeze\n",
            "83 block4a_se_reshape\n",
            "84 block4a_se_reduce\n",
            "85 block4a_se_expand\n",
            "86 block4a_se_excite\n",
            "87 block4a_project_conv\n",
            "88 block4a_project_bn\n",
            "89 block4b_expand_conv\n",
            "90 block4b_expand_bn\n",
            "91 block4b_expand_activation\n",
            "92 block4b_dwconv\n",
            "93 block4b_bn\n",
            "94 block4b_activation\n",
            "95 block4b_se_squeeze\n",
            "96 block4b_se_reshape\n",
            "97 block4b_se_reduce\n",
            "98 block4b_se_expand\n",
            "99 block4b_se_excite\n",
            "100 block4b_project_conv\n",
            "101 block4b_project_bn\n",
            "102 block4b_drop\n",
            "103 block4b_add\n",
            "104 block4c_expand_conv\n",
            "105 block4c_expand_bn\n",
            "106 block4c_expand_activation\n",
            "107 block4c_dwconv\n",
            "108 block4c_bn\n",
            "109 block4c_activation\n",
            "110 block4c_se_squeeze\n",
            "111 block4c_se_reshape\n",
            "112 block4c_se_reduce\n",
            "113 block4c_se_expand\n",
            "114 block4c_se_excite\n",
            "115 block4c_project_conv\n",
            "116 block4c_project_bn\n",
            "117 block4c_drop\n",
            "118 block4c_add\n",
            "119 block5a_expand_conv\n",
            "120 block5a_expand_bn\n",
            "121 block5a_expand_activation\n",
            "122 block5a_dwconv\n",
            "123 block5a_bn\n",
            "124 block5a_activation\n",
            "125 block5a_se_squeeze\n",
            "126 block5a_se_reshape\n",
            "127 block5a_se_reduce\n",
            "128 block5a_se_expand\n",
            "129 block5a_se_excite\n",
            "130 block5a_project_conv\n",
            "131 block5a_project_bn\n",
            "132 block5b_expand_conv\n",
            "133 block5b_expand_bn\n",
            "134 block5b_expand_activation\n",
            "135 block5b_dwconv\n",
            "136 block5b_bn\n",
            "137 block5b_activation\n",
            "138 block5b_se_squeeze\n",
            "139 block5b_se_reshape\n",
            "140 block5b_se_reduce\n",
            "141 block5b_se_expand\n",
            "142 block5b_se_excite\n",
            "143 block5b_project_conv\n",
            "144 block5b_project_bn\n",
            "145 block5b_drop\n",
            "146 block5b_add\n",
            "147 block5c_expand_conv\n",
            "148 block5c_expand_bn\n",
            "149 block5c_expand_activation\n",
            "150 block5c_dwconv\n",
            "151 block5c_bn\n",
            "152 block5c_activation\n",
            "153 block5c_se_squeeze\n",
            "154 block5c_se_reshape\n",
            "155 block5c_se_reduce\n",
            "156 block5c_se_expand\n",
            "157 block5c_se_excite\n",
            "158 block5c_project_conv\n",
            "159 block5c_project_bn\n",
            "160 block5c_drop\n",
            "161 block5c_add\n",
            "162 block6a_expand_conv\n",
            "163 block6a_expand_bn\n",
            "164 block6a_expand_activation\n",
            "165 block6a_dwconv_pad\n",
            "166 block6a_dwconv\n",
            "167 block6a_bn\n",
            "168 block6a_activation\n",
            "169 block6a_se_squeeze\n",
            "170 block6a_se_reshape\n",
            "171 block6a_se_reduce\n",
            "172 block6a_se_expand\n",
            "173 block6a_se_excite\n",
            "174 block6a_project_conv\n",
            "175 block6a_project_bn\n",
            "176 block6b_expand_conv\n",
            "177 block6b_expand_bn\n",
            "178 block6b_expand_activation\n",
            "179 block6b_dwconv\n",
            "180 block6b_bn\n",
            "181 block6b_activation\n",
            "182 block6b_se_squeeze\n",
            "183 block6b_se_reshape\n",
            "184 block6b_se_reduce\n",
            "185 block6b_se_expand\n",
            "186 block6b_se_excite\n",
            "187 block6b_project_conv\n",
            "188 block6b_project_bn\n",
            "189 block6b_drop\n",
            "190 block6b_add\n",
            "191 block6c_expand_conv\n",
            "192 block6c_expand_bn\n",
            "193 block6c_expand_activation\n",
            "194 block6c_dwconv\n",
            "195 block6c_bn\n",
            "196 block6c_activation\n",
            "197 block6c_se_squeeze\n",
            "198 block6c_se_reshape\n",
            "199 block6c_se_reduce\n",
            "200 block6c_se_expand\n",
            "201 block6c_se_excite\n",
            "202 block6c_project_conv\n",
            "203 block6c_project_bn\n",
            "204 block6c_drop\n",
            "205 block6c_add\n",
            "206 block6d_expand_conv\n",
            "207 block6d_expand_bn\n",
            "208 block6d_expand_activation\n",
            "209 block6d_dwconv\n",
            "210 block6d_bn\n",
            "211 block6d_activation\n",
            "212 block6d_se_squeeze\n",
            "213 block6d_se_reshape\n",
            "214 block6d_se_reduce\n",
            "215 block6d_se_expand\n",
            "216 block6d_se_excite\n",
            "217 block6d_project_conv\n",
            "218 block6d_project_bn\n",
            "219 block6d_drop\n",
            "220 block6d_add\n",
            "221 block7a_expand_conv\n",
            "222 block7a_expand_bn\n",
            "223 block7a_expand_activation\n",
            "224 block7a_dwconv\n",
            "225 block7a_bn\n",
            "226 block7a_activation\n",
            "227 block7a_se_squeeze\n",
            "228 block7a_se_reshape\n",
            "229 block7a_se_reduce\n",
            "230 block7a_se_expand\n",
            "231 block7a_se_excite\n",
            "232 block7a_project_conv\n",
            "233 block7a_project_bn\n",
            "234 top_conv\n",
            "235 top_bn\n",
            "236 top_activation\n"
          ]
        }
      ]
    },
    {
      "cell_type": "code",
      "source": [
        "# Summary of our whole model\n",
        "model_0.summary()"
      ],
      "metadata": {
        "id": "0_nl6M4oYhYA",
        "outputId": "73dbf3af-7d0e-4f9f-9015-07504a72da2c",
        "colab": {
          "base_uri": "https://localhost:8080/"
        }
      },
      "execution_count": 13,
      "outputs": [
        {
          "output_type": "stream",
          "name": "stdout",
          "text": [
            "Model: \"model\"\n",
            "_________________________________________________________________\n",
            " Layer (type)                Output Shape              Param #   \n",
            "=================================================================\n",
            " input_layer (InputLayer)    [(None, 224, 224, 3)]     0         \n",
            "                                                                 \n",
            " efficientnetb0 (Functional)  (None, None, None, 1280)  4049571  \n",
            "                                                                 \n",
            " global_average_pooling_laye  (None, 1280)             0         \n",
            " r (GlobalAveragePooling2D)                                      \n",
            "                                                                 \n",
            " output_layer (Dense)        (None, 10)                12810     \n",
            "                                                                 \n",
            "=================================================================\n",
            "Total params: 4,062,381\n",
            "Trainable params: 12,810\n",
            "Non-trainable params: 4,049,571\n",
            "_________________________________________________________________\n"
          ]
        }
      ]
    },
    {
      "cell_type": "code",
      "source": [
        "# Check out our model's training curves\n",
        "plot_loss_curves(history_10_percent)"
      ],
      "metadata": {
        "id": "tsxCJlpLZPom",
        "outputId": "c88144dd-7832-40b3-c12b-6d51d891f979",
        "colab": {
          "base_uri": "https://localhost:8080/",
          "height": 573
        }
      },
      "execution_count": 14,
      "outputs": [
        {
          "output_type": "display_data",
          "data": {
            "image/png": "[encoded data removed]",
            "text/plain": [
              "<Figure size 432x288 with 1 Axes>"
            ]
          },
          "metadata": {
            "needs_background": "light"
          }
        },
        {
          "output_type": "display_data",
          "data": {
            "image/png": "[encoded data removed]",
            "text/plain": [
              "<Figure size 432x288 with 1 Axes>"
            ]
          },
          "metadata": {
            "needs_background": "light"
          }
        }
      ]
    },
    {
      "cell_type": "markdown",
      "source": [
        "## Get a feature vector from a trained model\n",
        "\n",
        "Let's demonstrate the Global Average Pooling 2D layer\n",
        "\n",
        "We have a tensor after our model goes through 'base model' of \n",
        "shape(None, 7, 7, 1280) \n",
        "\n",
        "But when it passes through GlobalAveragePooling2D, it turns into \n",
        "shape(None, 1280)..\n",
        "\n",
        "Let's use a similar shaped tensor of (1, 4, 4, 3) and then pass it\n",
        "to GlobalAveragePooling2D.\n"
      ],
      "metadata": {
        "id": "dKy8tPOTZqLh"
      }
    },
    {
      "cell_type": "code",
      "source": [
        "# Define the input shape\n",
        "input_shape = (1, 4, 4, 3)\n",
        "\n",
        "# Create a random tensor\n",
        "tf.random.set_seed(42)\n",
        "input_tensor = tf.random.normal(input_shape)\n",
        "print(f\"Random input tensor:\\n{input_tensor}\\n\")"
      ],
      "metadata": {
        "id": "aJgCViaTaHov",
        "outputId": "3f6bbd68-a03e-4ffe-88ec-5e59011bf214",
        "colab": {
          "base_uri": "https://localhost:8080/"
        }
      },
      "execution_count": 15,
      "outputs": [
        {
          "output_type": "stream",
          "name": "stdout",
          "text": [
            "Random input tensor:\n",
            "[[[[ 0.3274685  -0.8426258   0.3194337 ]\n",
            "   [-1.4075519  -2.3880599  -1.0392479 ]\n",
            "   [-0.5573232   0.539707    1.6994323 ]\n",
            "   [ 0.28893656 -1.5066116  -0.2645474 ]]\n",
            "\n",
            "  [[-0.59722406 -1.9171132  -0.62044144]\n",
            "   [ 0.8504023  -0.40604794 -3.0258412 ]\n",
            "   [ 0.9058464   0.29855987 -0.22561555]\n",
            "   [-0.7616443  -1.8917141  -0.93847126]]\n",
            "\n",
            "  [[ 0.77852213 -0.47338897  0.97772694]\n",
            "   [ 0.24694404  0.20573747 -0.5256233 ]\n",
            "   [ 0.32410017  0.02545409 -0.10638497]\n",
            "   [-0.6369475   1.1603122   0.2507359 ]]\n",
            "\n",
            "  [[-0.41728503  0.4012578  -1.4145443 ]\n",
            "   [-0.5931857  -1.6617213   0.33567193]\n",
            "   [ 0.10815629  0.23479682 -0.56668764]\n",
            "   [-0.35819843  0.88698614  0.52744764]]]]\n",
            "\n"
          ]
        }
      ]
    },
    {
      "cell_type": "code",
      "source": [
        "# pass the random tensor through a global average pooling 2D layer\n",
        "global_average_pooled_tensor = tf.keras.layers.GlobalAveragePooling2D()(input_tensor) # Passing the input_tensor after the layer\n",
        "print(f\"2D global average pooled random tensor:\\n {global_average_pooled_tensor}\\n\")"
      ],
      "metadata": {
        "id": "LiwCBWFmcUCK",
        "outputId": "fedaeeb5-8da6-4604-8186-c4291e9e7df1",
        "colab": {
          "base_uri": "https://localhost:8080/"
        }
      },
      "execution_count": 16,
      "outputs": [
        {
          "output_type": "stream",
          "name": "stdout",
          "text": [
            "2D global average pooled random tensor:\n",
            " [[-0.09368646 -0.45840448 -0.2885598 ]]\n",
            "\n"
          ]
        }
      ]
    },
    {
      "cell_type": "code",
      "source": [
        "# Check the shapes of different tensors\n",
        "print(f\"Shape of input tensor: {input_tensor.shape}\")\n",
        "print(f\"Shape of the global average pooled 2D tensor : {global_average_pooled_tensor}\")"
      ],
      "metadata": {
        "id": "CghgbgSudtOu",
        "outputId": "38a83b96-448a-4ab8-93ec-8212cba0c47d",
        "colab": {
          "base_uri": "https://localhost:8080/"
        }
      },
      "execution_count": 17,
      "outputs": [
        {
          "output_type": "stream",
          "name": "stdout",
          "text": [
            "Shape of input tensor: (1, 4, 4, 3)\n",
            "Shape of the global average pooled 2D tensor : [[-0.09368646 -0.45840448 -0.2885598 ]]\n"
          ]
        }
      ]
    },
    {
      "cell_type": "code",
      "source": [
        "# Let's replicate the GlobalAveragePooling2D layer\n",
        "tf.reduce_mean(input_tensor, axis=[1,2])"
      ],
      "metadata": {
        "id": "M0FsazsgeUCg",
        "outputId": "cf380a8e-35fc-4248-cdd8-4a51a42011e9",
        "colab": {
          "base_uri": "https://localhost:8080/"
        }
      },
      "execution_count": 18,
      "outputs": [
        {
          "output_type": "execute_result",
          "data": {
            "text/plain": [
              "<tf.Tensor: shape=(1, 3), dtype=float32, numpy=array([[-0.09368646, -0.45840448, -0.2885598 ]], dtype=float32)>"
            ]
          },
          "metadata": {},
          "execution_count": 18
        }
      ]
    },
    {
      "cell_type": "markdown",
      "source": [
        "## Feature Vector\n",
        "\n",
        "**What is a feature vector?**\n",
        "\n",
        "Ans : A feature vector is a learned representation of the input data(a compressed form of the input data based on how model see's it)\n",
        "\n",
        "We've seen the incredible results transfer learning can get with only 10% of the training data, but how does it goes with **1%** of the training data... how about we setup a bunch of experiments to find out:\n",
        "\n",
        "1. 'model_1' - use feature extraction transfer learning with 1% of data with data augmentation\n",
        "\n",
        "2. 'model_2' - use feature extraction transfer learning with 10% of the training data with data augmentation \n",
        "\n",
        "3. 'model_3' - use **fine-tuning** transfer learning on 10% of the training data with data augmentation.\n",
        "\n",
        "4. 'model_4' - use fine-tuning transfer learning on 100% of the training data with data augmentation. \n",
        "\n",
        "\n",
        "Note: throught all experiments the same test dataset will be used to evaluate our model.... this ensure consistency across evaluation metrics."
      ],
      "metadata": {
        "id": "jyzbChGIfoAN"
      }
    },
    {
      "cell_type": "code",
      "source": [
        "# Download and unzip the data -  preprocessed from Food101\n",
        "!wget https://storage.googleapis.com/ztm_tf_course/food_vision/10_food_classes_1_percent.zip\n",
        "\n",
        "unzip_data(\"10_food_classes_1_percent.zip\")"
      ],
      "metadata": {
        "id": "xaMeLgOHq0L4",
        "outputId": "71e43406-7b7b-4dcb-99ee-1bcfb4e79553",
        "colab": {
          "base_uri": "https://localhost:8080/"
        }
      },
      "execution_count": 19,
      "outputs": [
        {
          "output_type": "stream",
          "name": "stdout",
          "text": [
            "--2022-02-23 13:11:58--  https://storage.googleapis.com/ztm_tf_course/food_vision/10_food_classes_1_percent.zip\n",
            "Resolving storage.googleapis.com (storage.googleapis.com)... 172.217.214.128, 172.253.114.128, 172.253.119.128, ...\n",
            "Connecting to storage.googleapis.com (storage.googleapis.com)|172.217.214.128|:443... connected.\n",
            "HTTP request sent, awaiting response... 200 OK\n",
            "Length: 133612354 (127M) [application/zip]\n",
            "Saving to: ‘10_food_classes_1_percent.zip’\n",
            "\n",
            "10_food_classes_1_p 100%[===================>] 127.42M   187MB/s    in 0.7s    \n",
            "\n",
            "2022-02-23 13:11:59 (187 MB/s) - ‘10_food_classes_1_percent.zip’ saved [133612354/133612354]\n",
            "\n"
          ]
        }
      ]
    },
    {
      "cell_type": "code",
      "source": [
        "# Create train and test dirs \n",
        "train_dir_1_percent = \"10_food_classes_1_percent/train\"\n",
        "test_dir = \"10_food_classes_1_percent/test\""
      ],
      "metadata": {
        "id": "6341dTxbsQAe"
      },
      "execution_count": 20,
      "outputs": []
    },
    {
      "cell_type": "code",
      "source": [
        "# How many images are we working with ?\n",
        "walk_through_dir(\"10_food_classes_1_percent\")"
      ],
      "metadata": {
        "id": "ijDnS96NsqUx",
        "outputId": "5b07d89e-8b77-432c-9a08-947178f1e90e",
        "colab": {
          "base_uri": "https://localhost:8080/"
        }
      },
      "execution_count": 21,
      "outputs": [
        {
          "output_type": "stream",
          "name": "stdout",
          "text": [
            "There are 2 directories and 0 images in '10_food_classes_1_percent'.\n",
            "There are 10 directories and 0 images in '10_food_classes_1_percent/train'.\n",
            "There are 0 directories and 7 images in '10_food_classes_1_percent/train/chicken_wings'.\n",
            "There are 0 directories and 7 images in '10_food_classes_1_percent/train/hamburger'.\n",
            "There are 0 directories and 7 images in '10_food_classes_1_percent/train/ice_cream'.\n",
            "There are 0 directories and 7 images in '10_food_classes_1_percent/train/pizza'.\n",
            "There are 0 directories and 7 images in '10_food_classes_1_percent/train/ramen'.\n",
            "There are 0 directories and 7 images in '10_food_classes_1_percent/train/grilled_salmon'.\n",
            "There are 0 directories and 7 images in '10_food_classes_1_percent/train/sushi'.\n",
            "There are 0 directories and 7 images in '10_food_classes_1_percent/train/fried_rice'.\n",
            "There are 0 directories and 7 images in '10_food_classes_1_percent/train/steak'.\n",
            "There are 0 directories and 7 images in '10_food_classes_1_percent/train/chicken_curry'.\n",
            "There are 10 directories and 0 images in '10_food_classes_1_percent/test'.\n",
            "There are 0 directories and 250 images in '10_food_classes_1_percent/test/chicken_wings'.\n",
            "There are 0 directories and 250 images in '10_food_classes_1_percent/test/hamburger'.\n",
            "There are 0 directories and 250 images in '10_food_classes_1_percent/test/ice_cream'.\n",
            "There are 0 directories and 250 images in '10_food_classes_1_percent/test/pizza'.\n",
            "There are 0 directories and 250 images in '10_food_classes_1_percent/test/ramen'.\n",
            "There are 0 directories and 250 images in '10_food_classes_1_percent/test/grilled_salmon'.\n",
            "There are 0 directories and 250 images in '10_food_classes_1_percent/test/sushi'.\n",
            "There are 0 directories and 250 images in '10_food_classes_1_percent/test/fried_rice'.\n",
            "There are 0 directories and 250 images in '10_food_classes_1_percent/test/steak'.\n",
            "There are 0 directories and 250 images in '10_food_classes_1_percent/test/chicken_curry'.\n"
          ]
        }
      ]
    },
    {
      "cell_type": "code",
      "source": [
        "# Set up the data loaders\n",
        "IMG_SIZE = (224,224)\n",
        "train_data_1_percent = tf.keras.preprocessing.image_dataset_from_directory(train_dir_1_percent,\n",
        "                                                                           label_mode='categorical',\n",
        "                                                                           image_size=IMG_SIZE,\n",
        "                                                                           batch_size=BATCH_SIZE)\n",
        "\n",
        "test_data = tf.keras.preprocessing.image_dataset_from_directory(test_dir,\n",
        "                                                                label_mode='categorical',\n",
        "                                                                image_size=IMG_SIZE,\n",
        "                                                                batch_size=BATCH_SIZE)"
      ],
      "metadata": {
        "id": "1aXLEILn7xF3",
        "outputId": "7485f176-8f8a-4403-db47-f9eb3d04a888",
        "colab": {
          "base_uri": "https://localhost:8080/"
        }
      },
      "execution_count": 22,
      "outputs": [
        {
          "output_type": "stream",
          "name": "stdout",
          "text": [
            "Found 70 files belonging to 10 classes.\n",
            "Found 2500 files belonging to 10 classes.\n"
          ]
        }
      ]
    },
    {
      "cell_type": "markdown",
      "source": [
        "* Adding data augmentation right into the model\n",
        "\n",
        "   To add the data augmentation right into our models, we can use the layers   inside:\n",
        "   * tf.keras.layers.experimental.preprocessing()\n",
        "\n",
        "* Benefits of in-layer data augmentation\n",
        "\n",
        "There are two important points to be aware of in this case:\n",
        "\n",
        "* Data augmentation will run on-device, synchronously with the rest of your layers, and benefit from GPU acceleration.\n",
        "\n",
        "* When you export your model using **model.save**, the preprocessing layers will be saved along with the rest of your model. If you later deploy this model, it will automatically standardize images (according to the configuration of your layers). This can save you from the effort of having to reimplement that logic server-side.\n",
        "\n",
        "\n"
      ],
      "metadata": {
        "id": "6QNsgSXW8tSD"
      }
    },
    {
      "cell_type": "code",
      "source": [
        "import tensorflow as tf\n",
        "from tensorflow import keras\n",
        "from tensorflow.keras import layers\n",
        "from tensorflow.keras.layers.experimental import preprocessing\n",
        "from tensorflow.keras.models import Sequential\n",
        "\n",
        "# Create data augmentation stage with horizontal flipping, rotation, zooms etc..\n",
        "data_augmentation = Sequential([\n",
        " preprocessing.RandomFlip(\"horizontal\"),\n",
        " preprocessing.RandomRotation(0.2),\n",
        " preprocessing.RandomZoom(0.2),\n",
        " preprocessing.RandomHeight(0.2),\n",
        " preprocessing.RandomWidth(0.2),\n",
        " # preprocessing.Rescale(1./255) # Keep for models like ResNet50V2 but EfficientNet's having rescaling built-in                                      \n",
        "], name=\"data_augmentation\")"
      ],
      "metadata": {
        "id": "zdzY8H8g94Bb"
      },
      "execution_count": 23,
      "outputs": []
    },
    {
      "cell_type": "markdown",
      "source": [
        "## Visualize out data augmentation layer"
      ],
      "metadata": {
        "id": "XX0PhuCjA5VC"
      }
    },
    {
      "cell_type": "code",
      "source": [
        "# View a random image and compare it to it's augmented version\n",
        "import matplotlib.pyplot as plt\n",
        "import matplotlib.image as mpimg\n",
        "import os\n",
        "import random\n",
        "\n",
        "target_class = random.choice(train_data_1_percent.class_names)\n",
        "target_dir = \"10_food_classes_1_percent/train/\" + target_class\n",
        "print(target_dir)"
      ],
      "metadata": {
        "id": "Ih9pVTELKBvI",
        "outputId": "2fe3c0b0-5d7f-4fae-b34a-e01fd0acccec",
        "colab": {
          "base_uri": "https://localhost:8080/"
        }
      },
      "execution_count": 24,
      "outputs": [
        {
          "output_type": "stream",
          "name": "stdout",
          "text": [
            "10_food_classes_1_percent/train/pizza\n"
          ]
        }
      ]
    },
    {
      "cell_type": "code",
      "source": [
        "random_image = random.choice(os.listdir(target_dir))\n",
        "random_image_path = target_dir + \"/\" + random_image\n",
        "print(random_image_path)"
      ],
      "metadata": {
        "id": "5GDQ8SbHKtYp",
        "outputId": "64060b1b-4da9-4992-c215-d1e01b6b68ad",
        "colab": {
          "base_uri": "https://localhost:8080/"
        }
      },
      "execution_count": 25,
      "outputs": [
        {
          "output_type": "stream",
          "name": "stdout",
          "text": [
            "10_food_classes_1_percent/train/pizza/2410138.jpg\n"
          ]
        }
      ]
    },
    {
      "cell_type": "code",
      "source": [
        "# Visualize the random image\n",
        "img = mpimg.imread(random_image_path)\n",
        "print(img)\n",
        "plt.imshow(img)\n",
        "plt.title(f'Original random image from class : {target_class}')\n",
        "#plt.axis(emit=False)"
      ],
      "metadata": {
        "id": "8qWKrvOvLqbF",
        "outputId": "aba78e22-90db-44f2-d8af-403dd556feba",
        "colab": {
          "base_uri": "https://localhost:8080/",
          "height": 1000
        }
      },
      "execution_count": 26,
      "outputs": [
        {
          "output_type": "stream",
          "name": "stdout",
          "text": [
            "[[[0 0 0]\n",
            "  [0 0 0]\n",
            "  [0 0 0]\n",
            "  ...\n",
            "  [0 0 0]\n",
            "  [0 0 0]\n",
            "  [0 0 0]]\n",
            "\n",
            " [[0 0 0]\n",
            "  [0 0 0]\n",
            "  [0 0 0]\n",
            "  ...\n",
            "  [0 0 0]\n",
            "  [0 0 0]\n",
            "  [0 0 0]]\n",
            "\n",
            " [[0 0 0]\n",
            "  [0 0 0]\n",
            "  [0 0 0]\n",
            "  ...\n",
            "  [0 0 0]\n",
            "  [0 0 0]\n",
            "  [0 0 0]]\n",
            "\n",
            " ...\n",
            "\n",
            " [[0 0 0]\n",
            "  [0 0 0]\n",
            "  [0 0 0]\n",
            "  ...\n",
            "  [0 0 0]\n",
            "  [0 0 0]\n",
            "  [0 0 0]]\n",
            "\n",
            " [[0 0 0]\n",
            "  [0 0 0]\n",
            "  [0 0 0]\n",
            "  ...\n",
            "  [0 0 0]\n",
            "  [0 0 0]\n",
            "  [0 0 0]]\n",
            "\n",
            " [[0 0 0]\n",
            "  [0 0 0]\n",
            "  [0 0 0]\n",
            "  ...\n",
            "  [0 0 0]\n",
            "  [0 0 0]\n",
            "  [0 0 0]]]\n"
          ]
        },
        {
          "output_type": "execute_result",
          "data": {
            "text/plain": [
              "Text(0.5, 1.0, 'Original random image from class : pizza')"
            ]
          },
          "metadata": {},
          "execution_count": 26
        },
        {
          "output_type": "display_data",
          "data": {
            "image/png": "[encoded data removed]",
            "text/plain": [
              "<Figure size 432x288 with 1 Axes>"
            ]
          },
          "metadata": {
            "needs_background": "light"
          }
        }
      ]
    },
    {
      "cell_type": "code",
      "source": [
        "# Now let's plot our augmented image\n",
        "augmented_image = data_augmentation(tf.expand_dims(img, axis=0))\n",
        "plt.figure()\n",
        "plt.imshow(tf.squeeze(augmented_image)/255.) #  \n",
        "plt.title(f\"Augmented random image from class: {target_class}\")\n",
        "#plt.axis(False)"
      ],
      "metadata": {
        "id": "Gas_vdlzMLPG",
        "outputId": "7697f4f2-b0d5-4746-c864-f9f6cfa179c5",
        "colab": {
          "base_uri": "https://localhost:8080/",
          "height": 298
        }
      },
      "execution_count": 27,
      "outputs": [
        {
          "output_type": "execute_result",
          "data": {
            "text/plain": [
              "Text(0.5, 1.0, 'Augmented random image from class: pizza')"
            ]
          },
          "metadata": {},
          "execution_count": 27
        },
        {
          "output_type": "display_data",
          "data": {
            "image/png": "[encoded data removed]",
            "text/plain": [
              "<Figure size 432x288 with 1 Axes>"
            ]
          },
          "metadata": {
            "needs_background": "light"
          }
        }
      ]
    },
    {
      "cell_type": "markdown",
      "source": [
        "## Model 1 : Feature extraction transfer learning on 1% of the data with data augmentation (only 7 images per class for training)"
      ],
      "metadata": {
        "id": "RDy9A50zNtcn"
      }
    },
    {
      "cell_type": "code",
      "source": [
        "#Setup input shape and base model, freezing the base model layers\n",
        "input_shape = (224,224,3)\n",
        "\n",
        "# Create the base model\n",
        "base_model = tf.keras.applications.EfficientNetB0(include_top=False)\n",
        "base_model.trainable = False # Keeping the transfer learning base model intact\n",
        "\n",
        "# Create the input layer\n",
        "inputs = layers.Input(shape=input_shape, name=\"input_layer\")\n",
        "\n",
        "# Add in the data augmentation Sequential model as layer\n",
        "x = data_augmentation(inputs)\n",
        "\n",
        "# Give base model the inputs (after augmentation) and don't train it\n",
        "x = base_model(x, training=False)\n",
        "\n",
        "# Pool output features of the base model\n",
        "x = layers.GlobalAveragePooling2D(name=\"global_average_pooling_layer\")(x) # passing the input to the model api class\n",
        "\n",
        "# Puta  dense layer on as the output \n",
        "outputs = layers.Dense(10, activation=\"softmax\", name=\"output_layer\")(x)\n",
        "\n",
        "# Make a model using the inputs and outputs\n",
        "model_1 = keras.Model(inputs,outputs)\n",
        "\n",
        "# Compile the model\n",
        "model_1.compile(loss=\"categorical_crossentropy\", \n",
        "                optimizer=tf.keras.optimizers.Adam(),\n",
        "                metrics=[\"accuracy\"])\n",
        "\n",
        "# Fit the model\n",
        "history_1_percent = model_1.fit(train_data_1_percent,\n",
        "                                epochs=5,\n",
        "                                steps_per_epoch=len(train_data_1_percent),\n",
        "                                validation_data=test_data,\n",
        "                                validation_steps=int(0.25 * len(test_data)),\n",
        "                                # Track model training logs\n",
        "                                callbacks=[create_tensorboard_callback(dir_name=\"transfer_learninig\",\n",
        "                                                                       experiment_name=\"1_percent_data_aug\")]) # from helper functions                                                                       \n",
        "                                                                       "
      ],
      "metadata": {
        "colab": {
          "base_uri": "https://localhost:8080/"
        },
        "id": "1RznPvmzpnlJ",
        "outputId": "c1115694-a12b-43b4-b20c-71c3b5a7588a"
      },
      "execution_count": 28,
      "outputs": [
        {
          "output_type": "stream",
          "name": "stdout",
          "text": [
            "Saving TensorBoard log files to: transfer_learninig/1_percent_data_aug/20220223-131205\n",
            "Epoch 1/5\n",
            "3/3 [==============================] - 17s 3s/step - loss: 2.4096 - accuracy: 0.1143 - val_loss: 2.2505 - val_accuracy: 0.1480\n",
            "Epoch 2/5\n",
            "3/3 [==============================] - 5s 2s/step - loss: 2.2062 - accuracy: 0.2714 - val_loss: 2.1407 - val_accuracy: 0.2286\n",
            "Epoch 3/5\n",
            "3/3 [==============================] - 7s 3s/step - loss: 1.9988 - accuracy: 0.3857 - val_loss: 2.0362 - val_accuracy: 0.2862\n",
            "Epoch 4/5\n",
            "3/3 [==============================] - 5s 2s/step - loss: 1.7969 - accuracy: 0.5857 - val_loss: 1.9474 - val_accuracy: 0.3684\n",
            "Epoch 5/5\n",
            "3/3 [==============================] - 7s 3s/step - loss: 1.6566 - accuracy: 0.6571 - val_loss: 1.8556 - val_accuracy: 0.4243\n"
          ]
        }
      ]
    },
    {
      "cell_type": "code",
      "source": [
        "# Check out the model summary\n",
        "model_1.summary()"
      ],
      "metadata": {
        "colab": {
          "base_uri": "https://localhost:8080/"
        },
        "id": "iU3MgNGIqBbj",
        "outputId": "7147eee8-bd3d-44d2-beba-be4f63fdd218"
      },
      "execution_count": 29,
      "outputs": [
        {
          "output_type": "stream",
          "name": "stdout",
          "text": [
            "Model: \"model_1\"\n",
            "_________________________________________________________________\n",
            " Layer (type)                Output Shape              Param #   \n",
            "=================================================================\n",
            " input_layer (InputLayer)    [(None, 224, 224, 3)]     0         \n",
            "                                                                 \n",
            " data_augmentation (Sequenti  (None, None, None, 3)    0         \n",
            " al)                                                             \n",
            "                                                                 \n",
            " efficientnetb0 (Functional)  (None, None, None, 1280)  4049571  \n",
            "                                                                 \n",
            " global_average_pooling_laye  (None, 1280)             0         \n",
            " r (GlobalAveragePooling2D)                                      \n",
            "                                                                 \n",
            " output_layer (Dense)        (None, 10)                12810     \n",
            "                                                                 \n",
            "=================================================================\n",
            "Total params: 4,062,381\n",
            "Trainable params: 12,810\n",
            "Non-trainable params: 4,049,571\n",
            "_________________________________________________________________\n"
          ]
        }
      ]
    },
    {
      "cell_type": "code",
      "source": [
        "# Evaluate the full test dataset\n",
        "results_1_percent_data_aug = model_1.evaluate(test_data)\n",
        "results_1_percent_data_aug"
      ],
      "metadata": {
        "colab": {
          "base_uri": "https://localhost:8080/"
        },
        "id": "OgNoP7PYw4r2",
        "outputId": "2832f7b2-73cb-40e3-a488-2882355b00c5"
      },
      "execution_count": 30,
      "outputs": [
        {
          "output_type": "stream",
          "name": "stdout",
          "text": [
            "79/79 [==============================] - 11s 135ms/step - loss: 1.8391 - accuracy: 0.4344\n"
          ]
        },
        {
          "output_type": "execute_result",
          "data": {
            "text/plain": [
              "[1.8390556573867798, 0.4343999922275543]"
            ]
          },
          "metadata": {},
          "execution_count": 30
        }
      ]
    },
    {
      "cell_type": "code",
      "source": [
        "# How do the model with 1% of the training data and data augmentation loss curves look?\n",
        "plot_loss_curves(history_1_percent)"
      ],
      "metadata": {
        "id": "z5Q8vZGFxvDj",
        "outputId": "b3563045-3607-4173-aa80-c12263d22457",
        "colab": {
          "base_uri": "https://localhost:8080/",
          "height": 573
        }
      },
      "execution_count": 31,
      "outputs": [
        {
          "output_type": "display_data",
          "data": {
            "image/png": "[encoded data removed]",
            "text/plain": [
              "<Figure size 432x288 with 1 Axes>"
            ]
          },
          "metadata": {
            "needs_background": "light"
          }
        },
        {
          "output_type": "display_data",
          "data": {
            "image/png": "[encoded data removed]",
            "text/plain": [
              "<Figure size 432x288 with 1 Axes>"
            ]
          },
          "metadata": {
            "needs_background": "light"
          }
        }
      ]
    },
    {
      "cell_type": "markdown",
      "source": [
        "\n",
        "## Model 2: Feature extraction transfer learning model with 10% of data and data augmentation"
      ],
      "metadata": {
        "id": "yhAXG8LNyKNs"
      }
    },
    {
      "cell_type": "code",
      "source": [
        "#!wget https://storage.googleapis.com/ztm_tf_course/food_vision/101_food_classes_10_percent.zip\n",
        "#unzip_data(10_food_classes_10_percent)\n",
        "\n",
        "train_dir_10_percent = \"10_food_classes_10_percent/train\"\n",
        "test_dir = \"10_food_classes_10_percent/test\""
      ],
      "metadata": {
        "id": "wA9P0DI8hZlJ"
      },
      "execution_count": 32,
      "outputs": []
    },
    {
      "cell_type": "code",
      "source": [
        "# Set data inputs\n",
        "import tensorflow as tf\n",
        "IMG_SIZE = (224,224)\n",
        "train_data_10_percent = tf.keras.preprocessing.image_dataset_from_directory(train_dir_10_percent,\n",
        "                                                                            label_mode=\"categorical\",\n",
        "                                                                            image_size=IMG_SIZE)\n",
        "test_data = tf.keras.preprocessing.image_dataset_from_directory(test_dir,\n",
        "                                                                label_mode=\"categorical\",\n",
        "                                                                image_size=IMG_SIZE)"
      ],
      "metadata": {
        "id": "lPTtm1FQiKvl",
        "outputId": "f3950742-cee2-4e1c-a45c-413a19422e2f",
        "colab": {
          "base_uri": "https://localhost:8080/"
        }
      },
      "execution_count": 33,
      "outputs": [
        {
          "output_type": "stream",
          "name": "stdout",
          "text": [
            "Found 750 files belonging to 10 classes.\n",
            "Found 2500 files belonging to 10 classes.\n"
          ]
        }
      ]
    },
    {
      "cell_type": "code",
      "source": [
        "# Create Model 2 with data augmentation built in\n",
        "from tensorflow.keras import layers\n",
        "from tensorflow.keras.layers.experimental import preprocessing\n",
        "from tensorflow.keras.models import Sequential\n",
        "\n",
        "# Build Data Augmentation Layer\n",
        "data_augmentation = Sequential([\n",
        " preprocessing.RandomFlip(\"horizontal\"),\n",
        " preprocessing.RandomHeight(0.2),\n",
        " preprocessing.RandomWidth(0.2),\n",
        " preprocessing.RandomZoom(0.2),\n",
        " preprocessing.RandomRotation(0.2),\n",
        " #preprocessing.Rescaling(1./255) # if you're using a model such as ResNet50V2, you'll need to rescale your data, efficientnet has rescaling built-in                                \n",
        "], name=\"data_augmentation\")\n",
        "\n",
        "# Setup the input shape of our model\n",
        "input_shape = (224,224,3)\n",
        "\n",
        "# Create a frozen base model (also called the backbone)\n",
        "base_model = tf.keras.applications.EfficientNetB0(include_top=False)\n",
        "base_model.trainable = False\n",
        "\n",
        "# Create the inputs and outputs (including the layers in between)\n",
        "inputs = layers.Input(shape=input_shape, name=\"input_layer\")\n",
        "x = data_augmentation(inputs) # augment our training images\n",
        "\n",
        "# pass augmented images to base model but keep it in inference mode, \n",
        "# this also ensures batchnorm layers don't get updates\n",
        "x= base_model(x, training=False) # Result is a multidimensional tensor\n",
        "\n",
        "# compress the multidimensional tensor to a feature vector\n",
        "x = layers.GlobalAveragePooling2D(name=\"global_average_pooling_2d\")(x)\n",
        "outputs = layers.Dense(10, activation=\"softmax\", name=\"output_layer\")(x)\n",
        "model_2 = tf.keras.Model(inputs,outputs)\n",
        "\n",
        "# Compile the model\n",
        "model_2.compile(loss=\"categorical_crossentropy\",\n",
        "                optimizer=tf.keras.optimizers.Adam(),\n",
        "                metrics=[\"accuracy\"])"
      ],
      "metadata": {
        "id": "DEYPwZ5wjn-p"
      },
      "execution_count": 36,
      "outputs": []
    },
    {
      "cell_type": "markdown",
      "source": [
        "### Create a model checkpoint callback\n",
        "\n",
        "* Callbacks are which can add helpful functionality to your models during training,evaluation or inference\n",
        "\n",
        "* ModelCheckpoint callback intermediately saves our model ( The full model or just the weights) during training. This is useful so we can come and start where we left off."
      ],
      "metadata": {
        "id": "SxFFbeTlj05R"
      }
    },
    {
      "cell_type": "code",
      "source": [
        "# Set checkpoint path\n",
        "checkpoint_path = \"ten_percent_model_checkpoints_weights/checkpoint.ckpt\""
      ],
      "metadata": {
        "id": "IVHYwxIJzA32"
      },
      "execution_count": null,
      "outputs": []
    }
  ]
}