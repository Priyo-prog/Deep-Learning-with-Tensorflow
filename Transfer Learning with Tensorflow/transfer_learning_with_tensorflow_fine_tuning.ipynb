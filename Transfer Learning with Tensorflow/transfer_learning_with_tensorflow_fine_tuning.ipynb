{
  "nbformat": 4,
  "nbformat_minor": 0,
  "metadata": {
    "colab": {
      "name": "transfer_learning_with_tensorflow_fine_tuning.ipynb",
      "provenance": [],
      "toc_visible": true,
      "authorship_tag": "ABX9TyPIJZ097HRq0hLXlzL0bHBD",
      "include_colab_link": true
    },
    "kernelspec": {
      "name": "python3",
      "display_name": "Python 3"
    },
    "language_info": {
      "name": "python"
    },
    "accelerator": "GPU"
  },
  "cells": [
    {
      "cell_type": "markdown",
      "metadata": {
        "id": "view-in-github",
        "colab_type": "text"
      },
      "source": [
        "<a href=\"https://colab.research.google.com/github/Priyo-prog/Deep-Learning-with-Tensorflow/blob/main/Transfer%20Learning%20with%20Tensorflow/transfer_learning_with_tensorflow_fine_tuning.ipynb\" target=\"_parent\"><img src=\"https://colab.research.google.com/assets/colab-badge.svg\" alt=\"Open In Colab\"/></a>"
      ]
    },
    {
      "cell_type": "markdown",
      "source": [
        "# **Transfer Learning with TensorFlow part 2: Fine Tuning**"
      ],
      "metadata": {
        "id": "BGZczUMg-gwo"
      }
    },
    {
      "cell_type": "code",
      "source": [
        "# Check the GPU we are using \n",
        "!nvidia-smi"
      ],
      "metadata": {
        "id": "GZl1cM8r_MjG",
        "outputId": "b8a9f79c-3f79-4332-ec9f-1ea82daeab04",
        "colab": {
          "base_uri": "https://localhost:8080/"
        }
      },
      "execution_count": 1,
      "outputs": [
        {
          "output_type": "stream",
          "name": "stdout",
          "text": [
            "Tue Feb 15 04:08:47 2022       \n",
            "+-----------------------------------------------------------------------------+\n",
            "| NVIDIA-SMI 460.32.03    Driver Version: 460.32.03    CUDA Version: 11.2     |\n",
            "|-------------------------------+----------------------+----------------------+\n",
            "| GPU  Name        Persistence-M| Bus-Id        Disp.A | Volatile Uncorr. ECC |\n",
            "| Fan  Temp  Perf  Pwr:Usage/Cap|         Memory-Usage | GPU-Util  Compute M. |\n",
            "|                               |                      |               MIG M. |\n",
            "|===============================+======================+======================|\n",
            "|   0  Tesla T4            Off  | 00000000:00:04.0 Off |                    0 |\n",
            "| N/A   42C    P8     9W /  70W |      0MiB / 15109MiB |      0%      Default |\n",
            "|                               |                      |                  N/A |\n",
            "+-------------------------------+----------------------+----------------------+\n",
            "                                                                               \n",
            "+-----------------------------------------------------------------------------+\n",
            "| Processes:                                                                  |\n",
            "|  GPU   GI   CI        PID   Type   Process name                  GPU Memory |\n",
            "|        ID   ID                                                   Usage      |\n",
            "|=============================================================================|\n",
            "|  No running processes found                                                 |\n",
            "+-----------------------------------------------------------------------------+\n"
          ]
        }
      ]
    },
    {
      "cell_type": "markdown",
      "source": [
        "## Getting the helper function"
      ],
      "metadata": {
        "id": "OKnzfm5lBXFo"
      }
    },
    {
      "cell_type": "code",
      "source": [
        "!wget https://raw.githubusercontent.com/mrdbourke/tensorflow-deep-learning/main/extras/helper_functions.py"
      ],
      "metadata": {
        "id": "9A2P10YE_qKR",
        "outputId": "412ac043-a5ad-4476-b045-ff9d955a1814",
        "colab": {
          "base_uri": "https://localhost:8080/"
        }
      },
      "execution_count": 2,
      "outputs": [
        {
          "output_type": "stream",
          "name": "stdout",
          "text": [
            "--2022-02-15 04:08:47--  https://raw.githubusercontent.com/mrdbourke/tensorflow-deep-learning/main/extras/helper_functions.py\n",
            "Resolving raw.githubusercontent.com (raw.githubusercontent.com)... 185.199.108.133, 185.199.109.133, 185.199.110.133, ...\n",
            "Connecting to raw.githubusercontent.com (raw.githubusercontent.com)|185.199.108.133|:443... connected.\n",
            "HTTP request sent, awaiting response... 200 OK\n",
            "Length: 10246 (10K) [text/plain]\n",
            "Saving to: ‘helper_functions.py’\n",
            "\n",
            "helper_functions.py 100%[===================>]  10.01K  --.-KB/s    in 0s      \n",
            "\n",
            "2022-02-15 04:08:47 (93.5 MB/s) - ‘helper_functions.py’ saved [10246/10246]\n",
            "\n"
          ]
        }
      ]
    },
    {
      "cell_type": "code",
      "source": [
        "# Import the helper functions we are going to use in this notebook\n",
        "from helper_functions import create_tensorboard_callback, plot_loss_curves, unzip_data, walk_through_dir"
      ],
      "metadata": {
        "id": "l3yw31xGBLrL"
      },
      "execution_count": 3,
      "outputs": []
    },
    {
      "cell_type": "markdown",
      "source": [
        "## Get the data\n",
        "\n",
        "This time we are going to see how we can use the pretrained models within 'tf.keras.applications' and apply them to our problem"
      ],
      "metadata": {
        "id": "dz2pGRf_wVIL"
      }
    },
    {
      "cell_type": "code",
      "source": [
        "# Get the 10% of training data of 10 classes of Food101\n",
        "!wget https://storage.googleapis.com/ztm_tf_course/food_vision/10_food_classes_10_percent.zip\n",
        "\n",
        "unzip_data(\"10_food_classes_10_percent.zip\")"
      ],
      "metadata": {
        "colab": {
          "base_uri": "https://localhost:8080/"
        },
        "id": "rX5STlEFw9n4",
        "outputId": "05046447-770a-4961-c59a-f05720c4960d"
      },
      "execution_count": 4,
      "outputs": [
        {
          "output_type": "stream",
          "name": "stdout",
          "text": [
            "--2022-02-15 04:08:50--  https://storage.googleapis.com/ztm_tf_course/food_vision/10_food_classes_10_percent.zip\n",
            "Resolving storage.googleapis.com (storage.googleapis.com)... 142.251.16.128, 142.251.45.16, 172.217.0.48, ...\n",
            "Connecting to storage.googleapis.com (storage.googleapis.com)|142.251.16.128|:443... connected.\n",
            "HTTP request sent, awaiting response... 200 OK\n",
            "Length: 168546183 (161M) [application/zip]\n",
            "Saving to: ‘10_food_classes_10_percent.zip’\n",
            "\n",
            "10_food_classes_10_ 100%[===================>] 160.74M  77.1MB/s    in 2.1s    \n",
            "\n",
            "2022-02-15 04:08:52 (77.1 MB/s) - ‘10_food_classes_10_percent.zip’ saved [168546183/168546183]\n",
            "\n"
          ]
        }
      ]
    },
    {
      "cell_type": "code",
      "source": [
        "# Check out how many images and subdirectories are in our dataset\n",
        "walk_through_dir(\"10_food_classes_10_percent\")"
      ],
      "metadata": {
        "colab": {
          "base_uri": "https://localhost:8080/"
        },
        "id": "JjCYVSl-xMmv",
        "outputId": "513fc321-4b38-40df-ed32-75770768d0f0"
      },
      "execution_count": 5,
      "outputs": [
        {
          "output_type": "stream",
          "name": "stdout",
          "text": [
            "There are 2 directories and 0 images in '10_food_classes_10_percent'.\n",
            "There are 10 directories and 0 images in '10_food_classes_10_percent/test'.\n",
            "There are 0 directories and 250 images in '10_food_classes_10_percent/test/chicken_wings'.\n",
            "There are 0 directories and 250 images in '10_food_classes_10_percent/test/pizza'.\n",
            "There are 0 directories and 250 images in '10_food_classes_10_percent/test/steak'.\n",
            "There are 0 directories and 250 images in '10_food_classes_10_percent/test/chicken_curry'.\n",
            "There are 0 directories and 250 images in '10_food_classes_10_percent/test/ice_cream'.\n",
            "There are 0 directories and 250 images in '10_food_classes_10_percent/test/ramen'.\n",
            "There are 0 directories and 250 images in '10_food_classes_10_percent/test/fried_rice'.\n",
            "There are 0 directories and 250 images in '10_food_classes_10_percent/test/hamburger'.\n",
            "There are 0 directories and 250 images in '10_food_classes_10_percent/test/sushi'.\n",
            "There are 0 directories and 250 images in '10_food_classes_10_percent/test/grilled_salmon'.\n",
            "There are 10 directories and 0 images in '10_food_classes_10_percent/train'.\n",
            "There are 0 directories and 75 images in '10_food_classes_10_percent/train/chicken_wings'.\n",
            "There are 0 directories and 75 images in '10_food_classes_10_percent/train/pizza'.\n",
            "There are 0 directories and 75 images in '10_food_classes_10_percent/train/steak'.\n",
            "There are 0 directories and 75 images in '10_food_classes_10_percent/train/chicken_curry'.\n",
            "There are 0 directories and 75 images in '10_food_classes_10_percent/train/ice_cream'.\n",
            "There are 0 directories and 75 images in '10_food_classes_10_percent/train/ramen'.\n",
            "There are 0 directories and 75 images in '10_food_classes_10_percent/train/fried_rice'.\n",
            "There are 0 directories and 75 images in '10_food_classes_10_percent/train/hamburger'.\n",
            "There are 0 directories and 75 images in '10_food_classes_10_percent/train/sushi'.\n",
            "There are 0 directories and 75 images in '10_food_classes_10_percent/train/grilled_salmon'.\n"
          ]
        }
      ]
    },
    {
      "cell_type": "code",
      "source": [
        "# Create training and test directories paths\n",
        "train_dir = \"10_food_classes_10_percent/train\"\n",
        "test_data = \"10_food_classes_10_percent/test\""
      ],
      "metadata": {
        "id": "F-B60cX6xzaG"
      },
      "execution_count": 6,
      "outputs": []
    },
    {
      "cell_type": "code",
      "source": [
        "import tensorflow as tf\n",
        "\n",
        "IMG_SIZE = (224,224)\n",
        "BATCH_SIZE = 32\n",
        "train_data_10_percent = tf.keras.preprocessing.image_dataset_from_directory(directory=train_dir,\n",
        "                                                                            image_size=IMG_SIZE,\n",
        "                                                                            label_mode=\"categorical\",\n",
        "                                                                            batch_size=BATCH_SIZE)\n",
        "\n",
        "test_data = tf.keras.preprocessing.image_dataset_from_directory(directory=test_data,\n",
        "                                                                image_size=IMG_SIZE,\n",
        "                                                                label_mode=\"categorical\",\n",
        "                                                                batch_size=BATCH_SIZE)"
      ],
      "metadata": {
        "colab": {
          "base_uri": "https://localhost:8080/"
        },
        "id": "vDmUbdU_yXvF",
        "outputId": "f458e523-cdaf-485a-edeb-98cbf962ccbd"
      },
      "execution_count": 7,
      "outputs": [
        {
          "output_type": "stream",
          "name": "stdout",
          "text": [
            "Found 750 files belonging to 10 classes.\n",
            "Found 2500 files belonging to 10 classes.\n"
          ]
        }
      ]
    },
    {
      "cell_type": "code",
      "source": [
        "# Check out the class names of our dataset\n",
        "train_data_10_percent.class_names"
      ],
      "metadata": {
        "colab": {
          "base_uri": "https://localhost:8080/"
        },
        "id": "uymfSVQu0Qhc",
        "outputId": "a506c2b5-84de-4552-ce6a-98f9351dcf41"
      },
      "execution_count": 8,
      "outputs": [
        {
          "output_type": "execute_result",
          "data": {
            "text/plain": [
              "['chicken_curry',\n",
              " 'chicken_wings',\n",
              " 'fried_rice',\n",
              " 'grilled_salmon',\n",
              " 'hamburger',\n",
              " 'ice_cream',\n",
              " 'pizza',\n",
              " 'ramen',\n",
              " 'steak',\n",
              " 'sushi']"
            ]
          },
          "metadata": {},
          "execution_count": 8
        }
      ]
    },
    {
      "cell_type": "code",
      "source": [
        "# See an example of batch of data\n",
        "for images, labels in train_data_10_percent.take(1):\n",
        "  print(images,labels)"
      ],
      "metadata": {
        "colab": {
          "base_uri": "https://localhost:8080/"
        },
        "id": "3p3Do-Z11CL7",
        "outputId": "538ccd46-445b-40b6-e1fe-515ed235dc56"
      },
      "execution_count": 9,
      "outputs": [
        {
          "output_type": "stream",
          "name": "stdout",
          "text": [
            "tf.Tensor(\n",
            "[[[[2.01928574e+02 1.69928574e+02 1.18928574e+02]\n",
            "   [2.14454071e+02 1.82454071e+02 1.33454071e+02]\n",
            "   [1.97903061e+02 1.66903061e+02 1.20117348e+02]\n",
            "   ...\n",
            "   [3.36717868e+00 5.36717844e+00 1.37741089e+00]\n",
            "   [1.14797182e+01 1.64797192e+01 1.04797182e+01]\n",
            "   [2.50867577e+01 3.00867577e+01 2.40867577e+01]]\n",
            "\n",
            "  [[2.05785721e+02 1.74857147e+02 1.27642860e+02]\n",
            "   [2.19790817e+02 1.88790817e+02 1.42653061e+02]\n",
            "   [2.16255096e+02 1.85255096e+02 1.39255096e+02]\n",
            "   ...\n",
            "   [2.44872928e-01 1.45913684e+00 0.00000000e+00]\n",
            "   [3.06151718e-01 4.44391870e+00 1.68384731e-01]\n",
            "   [4.85717583e+00 9.85717583e+00 3.85717583e+00]]\n",
            "\n",
            "  [[2.15158157e+02 1.88801010e+02 1.44015305e+02]\n",
            "   [2.29928574e+02 2.01357147e+02 1.57571426e+02]\n",
            "   [2.19668365e+02 1.90193878e+02 1.46668365e+02]\n",
            "   ...\n",
            "   [2.45408726e+00 4.68881512e+00 5.96943855e-01]\n",
            "   [1.69897783e+00 4.69897795e+00 8.41834486e-01]\n",
            "   [9.94891107e-01 4.42346287e+00 5.66319406e-01]]\n",
            "\n",
            "  ...\n",
            "\n",
            "  [[1.23173470e+02 1.27744934e+02 9.59592056e+01]\n",
            "   [1.23923409e+02 1.28494888e+02 9.67091446e+01]\n",
            "   [1.28168365e+02 1.33168365e+02 1.01168373e+02]\n",
            "   ...\n",
            "   [1.58933594e+02 1.89362122e+02 1.87576385e+02]\n",
            "   [1.56770432e+02 1.88770432e+02 1.86198959e+02]\n",
            "   [1.52510086e+02 1.84510086e+02 1.81938614e+02]]\n",
            "\n",
            "  [[1.25290802e+02 1.30290802e+02 9.82908020e+01]\n",
            "   [1.28775497e+02 1.33775497e+02 1.01775497e+02]\n",
            "   [1.20999962e+02 1.26999962e+02 9.29999619e+01]\n",
            "   ...\n",
            "   [1.67719330e+02 1.98290802e+02 1.93505066e+02]\n",
            "   [1.56010208e+02 1.88010208e+02 1.83010208e+02]\n",
            "   [1.57989960e+02 1.92989960e+02 1.86989960e+02]]\n",
            "\n",
            "  [[1.23790855e+02 1.28790863e+02 9.67908554e+01]\n",
            "   [1.23984604e+02 1.29984604e+02 9.59846039e+01]\n",
            "   [1.24066528e+02 1.30066528e+02 9.60665283e+01]\n",
            "   ...\n",
            "   [1.63331650e+02 1.93903122e+02 1.88117386e+02]\n",
            "   [1.62403107e+02 1.95403107e+02 1.88403107e+02]\n",
            "   [1.59867477e+02 1.94867477e+02 1.87867477e+02]]]\n",
            "\n",
            "\n",
            " [[[2.00000000e+00 2.00000000e+00 0.00000000e+00]\n",
            "   [1.07142830e+00 1.07142830e+00 0.00000000e+00]\n",
            "   [1.00000000e+00 1.00000000e+00 0.00000000e+00]\n",
            "   ...\n",
            "   [1.87857361e+01 9.78573608e+00 2.78573608e+00]\n",
            "   [1.85714149e+01 9.57141590e+00 2.57141542e+00]\n",
            "   [1.66428566e+01 7.64285707e+00 6.42857194e-01]]\n",
            "\n",
            "  [[2.00000000e+00 2.00000000e+00 0.00000000e+00]\n",
            "   [1.07142830e+00 1.07142830e+00 0.00000000e+00]\n",
            "   [1.00000000e+00 1.00000000e+00 0.00000000e+00]\n",
            "   ...\n",
            "   [1.87857361e+01 9.78573608e+00 2.78573608e+00]\n",
            "   [2.08571301e+01 1.18571301e+01 4.85713005e+00]\n",
            "   [1.95713940e+01 1.05713940e+01 3.57139397e+00]]\n",
            "\n",
            "  [[2.00000000e+00 2.00000000e+00 0.00000000e+00]\n",
            "   [1.07142830e+00 1.07142830e+00 0.00000000e+00]\n",
            "   [1.00000000e+00 1.00000000e+00 0.00000000e+00]\n",
            "   ...\n",
            "   [2.00000229e+01 1.07857361e+01 1.78573608e+00]\n",
            "   [2.09285583e+01 1.17142725e+01 2.71427250e+00]\n",
            "   [1.90000000e+01 9.78571415e+00 7.85714149e-01]]\n",
            "\n",
            "  ...\n",
            "\n",
            "  [[1.67285721e+02 1.59285721e+02 1.56285721e+02]\n",
            "   [1.68198959e+02 1.63198959e+02 1.59198959e+02]\n",
            "   [1.65785690e+02 1.63214264e+02 1.58214264e+02]\n",
            "   ...\n",
            "   [7.13060837e+01 3.73060837e+01 9.52034569e+00]\n",
            "   [7.08009186e+01 3.68009224e+01 1.02294493e+01]\n",
            "   [7.08469086e+01 3.68469086e+01 1.02754364e+01]]\n",
            "\n",
            "  [[1.68239792e+02 1.61239792e+02 1.55239792e+02]\n",
            "   [1.67066330e+02 1.62066330e+02 1.56066330e+02]\n",
            "   [1.65015305e+02 1.62015305e+02 1.55015305e+02]\n",
            "   ...\n",
            "   [7.54438934e+01 4.04438972e+01 1.20153685e+01]\n",
            "   [7.49387665e+01 3.99387665e+01 1.19387665e+01]\n",
            "   [7.67602768e+01 4.17602806e+01 1.37602797e+01]]\n",
            "\n",
            "  [[1.63928497e+02 1.58928497e+02 1.52928497e+02]\n",
            "   [1.64642822e+02 1.59642822e+02 1.53642822e+02]\n",
            "   [1.64352036e+02 1.61352036e+02 1.54352036e+02]\n",
            "   ...\n",
            "   [6.91479111e+01 3.41479111e+01 4.14791107e+00]\n",
            "   [7.30969620e+01 3.80969582e+01 1.00969591e+01]\n",
            "   [7.38724213e+01 3.88724251e+01 1.08724241e+01]]]\n",
            "\n",
            "\n",
            " [[[1.99285721e+02 1.99285721e+02 1.99285721e+02]\n",
            "   [2.01214294e+02 2.01214294e+02 2.01214294e+02]\n",
            "   [2.01285721e+02 2.01285721e+02 2.01285721e+02]\n",
            "   ...\n",
            "   [2.01571426e+02 2.01571426e+02 2.01571426e+02]\n",
            "   [2.02499985e+02 2.02499985e+02 2.02499985e+02]\n",
            "   [1.99857071e+02 1.99857071e+02 1.99857071e+02]]\n",
            "\n",
            "  [[2.24428574e+02 2.24428574e+02 2.24428574e+02]\n",
            "   [2.25714294e+02 2.25714294e+02 2.25714294e+02]\n",
            "   [2.26770416e+02 2.26770416e+02 2.26770416e+02]\n",
            "   ...\n",
            "   [2.24801025e+02 2.24801025e+02 2.24801025e+02]\n",
            "   [2.25719376e+02 2.25719376e+02 2.25719376e+02]\n",
            "   [2.23474457e+02 2.23474457e+02 2.23474457e+02]]\n",
            "\n",
            "  [[2.39066330e+02 2.39066330e+02 2.39066330e+02]\n",
            "   [2.40127548e+02 2.40127548e+02 2.40127548e+02]\n",
            "   [2.40928574e+02 2.40928574e+02 2.40928574e+02]\n",
            "   ...\n",
            "   [2.39928558e+02 2.39928558e+02 2.39928558e+02]\n",
            "   [2.40714294e+02 2.40714294e+02 2.40714294e+02]\n",
            "   [2.38999939e+02 2.38999939e+02 2.38999939e+02]]\n",
            "\n",
            "  ...\n",
            "\n",
            "  [[2.50000000e+02 2.50000000e+02 2.50000000e+02]\n",
            "   [2.52928574e+02 2.52928574e+02 2.52928574e+02]\n",
            "   [2.54000000e+02 2.54000000e+02 2.54000000e+02]\n",
            "   ...\n",
            "   [2.53785736e+02 2.53785736e+02 2.53785736e+02]\n",
            "   [2.52928558e+02 2.52928558e+02 2.52928558e+02]\n",
            "   [2.50642822e+02 2.50642822e+02 2.50642822e+02]]\n",
            "\n",
            "  [[2.50000000e+02 2.50000000e+02 2.50000000e+02]\n",
            "   [2.52928574e+02 2.52928574e+02 2.52928574e+02]\n",
            "   [2.54000000e+02 2.54000000e+02 2.54000000e+02]\n",
            "   ...\n",
            "   [2.53785736e+02 2.53785736e+02 2.53785736e+02]\n",
            "   [2.52928558e+02 2.52928558e+02 2.52928558e+02]\n",
            "   [2.50642822e+02 2.50642822e+02 2.50642822e+02]]\n",
            "\n",
            "  [[2.50000000e+02 2.50000000e+02 2.50000000e+02]\n",
            "   [2.52928574e+02 2.52928574e+02 2.52928574e+02]\n",
            "   [2.54000000e+02 2.54000000e+02 2.54000000e+02]\n",
            "   ...\n",
            "   [2.53785736e+02 2.53785736e+02 2.53785736e+02]\n",
            "   [2.52928558e+02 2.52928558e+02 2.52928558e+02]\n",
            "   [2.50642822e+02 2.50642822e+02 2.50642822e+02]]]\n",
            "\n",
            "\n",
            " ...\n",
            "\n",
            "\n",
            " [[[1.64285707e+00 3.57142866e-01 1.71428573e+00]\n",
            "   [1.64285707e+00 3.57142866e-01 1.71428573e+00]\n",
            "   [1.50510192e+00 0.00000000e+00 3.98979616e+00]\n",
            "   ...\n",
            "   [1.04637520e+02 4.94995842e+01 8.22429943e+00]\n",
            "   [8.76377411e+01 1.85407715e+01 6.63255990e-01]\n",
            "   [8.55201950e+01 1.03059082e+01 0.00000000e+00]]\n",
            "\n",
            "  [[0.00000000e+00 1.04591835e+00 5.21428585e+00]\n",
            "   [0.00000000e+00 1.06632650e+00 5.08163261e+00]\n",
            "   [0.00000000e+00 1.00000000e+00 6.14285707e+00]\n",
            "   ...\n",
            "   [1.09453888e+02 6.33823090e+01 1.58110113e+01]\n",
            "   [1.05464241e+02 4.58162422e+01 1.16019945e+01]\n",
            "   [9.49384766e+01 3.03670464e+01 3.59680128e+00]]\n",
            "\n",
            "  [[0.00000000e+00 1.64285719e+00 9.57142830e+00]\n",
            "   [0.00000000e+00 1.92857170e+00 7.71428537e+00]\n",
            "   [0.00000000e+00 1.78571439e+00 8.00000000e+00]\n",
            "   ...\n",
            "   [1.18025360e+02 8.26885071e+01 2.82600689e+01]\n",
            "   [9.95205307e+01 5.35766106e+01 8.29093456e+00]\n",
            "   [1.14305908e+02 6.31630516e+01 2.20916233e+01]]\n",
            "\n",
            "  ...\n",
            "\n",
            "  [[4.08009338e+01 1.50917625e+01 0.00000000e+00]\n",
            "   [1.03357048e+02 7.48825684e+01 4.37703552e+01]\n",
            "   [1.33214203e+02 1.08520325e+02 6.89030075e+01]\n",
            "   ...\n",
            "   [1.21551025e+02 1.14551025e+02 8.63367615e+01]\n",
            "   [1.29540817e+02 1.19484688e+02 9.46530838e+01]\n",
            "   [1.27913055e+02 1.16913055e+02 9.64844666e+01]]\n",
            "\n",
            "  [[2.75611210e+01 4.77544355e+00 0.00000000e+00]\n",
            "   [8.27191849e+01 5.67090034e+01 3.16478424e+01]\n",
            "   [1.14800812e+02 9.15151291e+01 5.70713081e+01]\n",
            "   ...\n",
            "   [1.36877441e+02 1.30076401e+02 1.00535622e+02]\n",
            "   [1.29923553e+02 1.19923546e+02 9.49235458e+01]\n",
            "   [1.36739868e+02 1.25739861e+02 1.03739861e+02]]\n",
            "\n",
            "  [[1.79744854e+01 4.59180504e-01 0.00000000e+00]\n",
            "   [6.48112335e+01 4.17908096e+01 1.97653046e+01]\n",
            "   [1.07913208e+02 8.84030075e+01 5.66887169e+01]\n",
            "   ...\n",
            "   [1.36219360e+02 1.29433624e+02 9.97908325e+01]\n",
            "   [1.41459152e+02 1.31459152e+02 1.06459145e+02]\n",
            "   [1.40520340e+02 1.29520340e+02 1.07520348e+02]]]\n",
            "\n",
            "\n",
            " [[[1.02015305e+02 3.40153046e+01 3.30153046e+01]\n",
            "   [1.07494904e+02 3.94948997e+01 3.84948997e+01]\n",
            "   [1.07010201e+02 3.90102043e+01 3.80102043e+01]\n",
            "   ...\n",
            "   [2.68571873e+01 9.85718632e+00 1.58571863e+01]\n",
            "   [2.92142735e+01 1.22142725e+01 1.82142735e+01]\n",
            "   [2.49285011e+01 7.92850161e+00 1.39285021e+01]]\n",
            "\n",
            "  [[1.03357140e+02 3.53571396e+01 3.43571396e+01]\n",
            "   [1.02352036e+02 3.43520393e+01 3.33520393e+01]\n",
            "   [1.04270409e+02 3.62704086e+01 3.52704086e+01]\n",
            "   ...\n",
            "   [2.78418598e+01 1.08418598e+01 1.68418598e+01]\n",
            "   [2.90714149e+01 1.20714149e+01 1.80714149e+01]\n",
            "   [2.82806396e+01 1.12806396e+01 1.72806396e+01]]\n",
            "\n",
            "  [[1.04627548e+02 3.72704048e+01 3.56275482e+01]\n",
            "   [1.02428574e+02 3.50714264e+01 3.34285698e+01]\n",
            "   [1.05811226e+02 3.78112259e+01 3.64744911e+01]\n",
            "   ...\n",
            "   [2.77397995e+01 1.11683722e+01 1.69540863e+01]\n",
            "   [2.51122646e+01 8.54083729e+00 1.43265514e+01]\n",
            "   [3.14286766e+01 1.48572474e+01 2.06429615e+01]]\n",
            "\n",
            "  ...\n",
            "\n",
            "  [[2.20107544e+02 2.12898376e+02 1.15827164e+02]\n",
            "   [2.05796005e+02 2.00311356e+02 9.89390640e+01]\n",
            "   [1.93102127e+02 1.88811340e+02 8.00972061e+01]\n",
            "   ...\n",
            "   [2.53357208e+02 2.46357208e+02 2.28311295e+02]\n",
            "   [2.52872482e+02 2.49984756e+02 2.30928619e+02]\n",
            "   [2.55000000e+02 2.54724533e+02 2.35219437e+02]]\n",
            "\n",
            "  [[2.16959503e+02 2.13030945e+02 1.52082214e+02]\n",
            "   [2.13311371e+02 2.09311386e+02 1.39821793e+02]\n",
            "   [2.03898010e+02 2.01627640e+02 1.18097160e+02]\n",
            "   ...\n",
            "   [2.54658157e+02 2.49372513e+02 2.30571472e+02]\n",
            "   [2.54071442e+02 2.53071442e+02 2.33071442e+02]\n",
            "   [2.54954071e+02 2.55000000e+02 2.38311249e+02]]\n",
            "\n",
            "  [[2.54081680e+02 2.53209274e+02 2.29979980e+02]\n",
            "   [2.54668335e+02 2.54020401e+02 2.17408340e+02]\n",
            "   [2.40107788e+02 2.40107788e+02 1.80388626e+02]\n",
            "   ...\n",
            "   [2.53137741e+02 2.49709213e+02 2.30709213e+02]\n",
            "   [2.53525452e+02 2.52668335e+02 2.34668335e+02]\n",
            "   [2.54357178e+02 2.55000000e+02 2.37357178e+02]]]\n",
            "\n",
            "\n",
            " [[[1.31734695e+02 1.48918365e+02 1.60433670e+02]\n",
            "   [9.33214264e+01 1.10515305e+02 1.24112236e+02]\n",
            "   [7.28418350e+01 9.00561218e+01 1.07923470e+02]\n",
            "   ...\n",
            "   [2.45295929e+02 1.43168304e+02 8.95918045e+01]\n",
            "   [2.52096939e+02 1.44025513e+02 9.23826599e+01]\n",
            "   [2.48362183e+02 1.37647903e+02 8.70050430e+01]]\n",
            "\n",
            "  [[6.43265305e+01 8.50918350e+01 9.94234695e+01]\n",
            "   [7.23010178e+01 9.12959213e+01 1.08015312e+02]\n",
            "   [6.52193832e+01 8.32755051e+01 1.03107140e+02]\n",
            "   ...\n",
            "   [2.47040802e+02 1.54581528e+02 9.75101242e+01]\n",
            "   [2.42285706e+02 1.42795883e+02 8.80050735e+01]\n",
            "   [2.46260406e+02 1.42092041e+02 8.85001373e+01]]\n",
            "\n",
            "  [[7.08571472e+01 9.35000000e+01 1.14714287e+02]\n",
            "   [5.77142868e+01 8.03571472e+01 1.01571426e+02]\n",
            "   [6.78163223e+01 8.88622437e+01 1.10841835e+02]\n",
            "   ...\n",
            "   [2.45907913e+02 1.65162903e+02 1.08948647e+02]\n",
            "   [2.41056137e+02 1.48255066e+02 9.11836319e+01]\n",
            "   [2.46857422e+02 1.47500244e+02 8.84237061e+01]]\n",
            "\n",
            "  ...\n",
            "\n",
            "  [[5.10917854e+01 7.18775177e+01 1.00448990e+02]\n",
            "   [4.72091026e+01 6.82091064e+01 9.72091064e+01]\n",
            "   [4.67907219e+01 6.77907257e+01 9.84540253e+01]\n",
            "   ...\n",
            "   [6.52855835e+01 7.83314896e+01 1.14265083e+02]\n",
            "   [6.11019936e+01 7.43162613e+01 1.09744789e+02]\n",
            "   [6.03521500e+01 7.35664139e+01 1.08994942e+02]]\n",
            "\n",
            "  [[4.38163185e+01 6.68163147e+01 9.78163147e+01]\n",
            "   [4.33367424e+01 6.63367462e+01 9.73367462e+01]\n",
            "   [5.18979797e+01 7.48979797e+01 1.05897980e+02]\n",
            "   ...\n",
            "   [6.58162918e+01 7.88162918e+01 1.13816292e+02]\n",
            "   [6.83723373e+01 8.13723373e+01 1.16372337e+02]\n",
            "   [6.13369827e+01 7.43369827e+01 1.08336983e+02]]\n",
            "\n",
            "  [[4.71124458e+01 7.21124420e+01 1.03112442e+02]\n",
            "   [4.59541893e+01 7.09541931e+01 1.01954193e+02]\n",
            "   [4.95815773e+01 7.25815735e+01 1.04367294e+02]\n",
            "   ...\n",
            "   [6.09898224e+01 7.39898224e+01 1.08989822e+02]\n",
            "   [6.87348251e+01 8.17348251e+01 1.15734825e+02]\n",
            "   [6.17603378e+01 7.47603378e+01 1.08760338e+02]]]], shape=(32, 224, 224, 3), dtype=float32) tf.Tensor(\n",
            "[[1. 0. 0. 0. 0. 0. 0. 0. 0. 0.]\n",
            " [0. 0. 1. 0. 0. 0. 0. 0. 0. 0.]\n",
            " [0. 0. 0. 0. 0. 1. 0. 0. 0. 0.]\n",
            " [0. 0. 0. 0. 0. 0. 0. 1. 0. 0.]\n",
            " [0. 1. 0. 0. 0. 0. 0. 0. 0. 0.]\n",
            " [0. 0. 0. 0. 0. 0. 0. 0. 1. 0.]\n",
            " [0. 0. 0. 0. 1. 0. 0. 0. 0. 0.]\n",
            " [0. 0. 0. 0. 0. 0. 0. 0. 1. 0.]\n",
            " [0. 0. 1. 0. 0. 0. 0. 0. 0. 0.]\n",
            " [0. 0. 0. 0. 1. 0. 0. 0. 0. 0.]\n",
            " [0. 0. 0. 0. 0. 0. 0. 0. 0. 1.]\n",
            " [1. 0. 0. 0. 0. 0. 0. 0. 0. 0.]\n",
            " [1. 0. 0. 0. 0. 0. 0. 0. 0. 0.]\n",
            " [1. 0. 0. 0. 0. 0. 0. 0. 0. 0.]\n",
            " [0. 0. 1. 0. 0. 0. 0. 0. 0. 0.]\n",
            " [0. 0. 0. 1. 0. 0. 0. 0. 0. 0.]\n",
            " [0. 0. 0. 0. 0. 0. 1. 0. 0. 0.]\n",
            " [0. 0. 0. 0. 0. 0. 0. 0. 0. 1.]\n",
            " [0. 0. 1. 0. 0. 0. 0. 0. 0. 0.]\n",
            " [0. 0. 0. 0. 0. 0. 0. 0. 0. 1.]\n",
            " [1. 0. 0. 0. 0. 0. 0. 0. 0. 0.]\n",
            " [1. 0. 0. 0. 0. 0. 0. 0. 0. 0.]\n",
            " [0. 1. 0. 0. 0. 0. 0. 0. 0. 0.]\n",
            " [1. 0. 0. 0. 0. 0. 0. 0. 0. 0.]\n",
            " [0. 0. 1. 0. 0. 0. 0. 0. 0. 0.]\n",
            " [0. 0. 0. 0. 0. 0. 1. 0. 0. 0.]\n",
            " [0. 0. 0. 0. 0. 0. 1. 0. 0. 0.]\n",
            " [0. 0. 0. 0. 0. 1. 0. 0. 0. 0.]\n",
            " [0. 0. 0. 0. 0. 0. 0. 1. 0. 0.]\n",
            " [0. 0. 0. 0. 0. 0. 0. 1. 0. 0.]\n",
            " [0. 0. 0. 0. 1. 0. 0. 0. 0. 0.]\n",
            " [0. 0. 0. 0. 0. 0. 0. 0. 1. 0.]], shape=(32, 10), dtype=float32)\n"
          ]
        }
      ]
    },
    {
      "cell_type": "markdown",
      "source": [
        "## Build Transfer Learning model using Functional API\n",
        "\n",
        "The Sequential API is straight forward, it runs our layer in sequential order\n",
        "\n",
        "But the Functional API gives us more flexibility with our models :- \n",
        "\n",
        "[Tensorflow Keras Functional API](https://www.tensorflow.org/guide/keras/functional)"
      ],
      "metadata": {
        "id": "GsWSb0zW1hyU"
      }
    },
    {
      "cell_type": "code",
      "source": [
        "# 1. Create bas model with tf.keras.applications\n",
        "base_model = tf.keras.applications.EfficientNetB0(include_top=False)\n",
        "\n",
        "# 2. Freeze the base model (so the underlying pre-trained patterns aren't updated during training)\n",
        "base_model.trainable = False\n",
        "\n",
        "# 3. Create inputs in our model\n",
        "inputs = tf.keras.layers.Input(shape=(224,224,3), name=\"input_layer\")\n",
        "\n",
        "# 4. If using a model like ResNet50V2 you will need to normalize inputs (you don't need to for EfficientNet)\n",
        "#x = tf.keras.layers.experimental.preprocessing.Rescaling(1./255)(inputs)\n",
        "\n",
        "# 5. Pass the inputs to the base_model\n",
        "x = base_model(inputs)\n",
        "print(f\"Shape after passing inputs through base model: {x.shape}\")\n",
        "\n",
        "# 6. Average pool the outputs of the base model (aggregate all the important information, reduce number of computations)\n",
        "x = tf.keras.layers.GlobalAveragePooling2D(name=\"global_average_pooling_layer\")(x)\n",
        "print(f\"Shape after GlobalAveragePooling2D: {x.shape}\")\n",
        "\n",
        "# 7. Create the output activation layer\n",
        "outputs = tf.keras.layers.Dense(10, activation=\"softmax\", name=\"output_layer\")(x)\n",
        "\n",
        "# 8. Combine the inputs with the outputs into a model\n",
        "model_0 = tf.keras.Model(inputs, outputs)\n",
        "\n",
        "# 9. Compile the model\n",
        "model_0.compile(loss=tf.keras.losses.CategoricalCrossentropy(),\n",
        "                optimizer=tf.keras.optimizers.Adam(),\n",
        "                metrics=[\"accuracy\"])\n",
        "\n",
        "# 10. Fit the model and save it's history\n",
        "history_10_percent = model_0.fit(train_data_10_percent,\n",
        "                                 epochs=5,\n",
        "                                 steps_per_epoch=len(train_data_10_percent),\n",
        "                                 validation_data=test_data,\n",
        "                                 validation_steps=int(0.25 * len(test_data)),\n",
        "                                 callbacks=[create_tensorboard_callback(dir_name=\"transfer_learning\",\n",
        "                                                                        experiment_name=\"10_percent_feature_extraction\")])"
      ],
      "metadata": {
        "id": "Jte4mPvdwHsS",
        "outputId": "b70448e3-5db9-4a31-d34f-ed515ad1a919",
        "colab": {
          "base_uri": "https://localhost:8080/"
        }
      },
      "execution_count": 10,
      "outputs": [
        {
          "output_type": "stream",
          "name": "stdout",
          "text": [
            "Downloading data from https://storage.googleapis.com/keras-applications/efficientnetb0_notop.h5\n",
            "16711680/16705208 [==============================] - 0s 0us/step\n",
            "16719872/16705208 [==============================] - 0s 0us/step\n",
            "Shape after passing inputs through base model: (None, 7, 7, 1280)\n",
            "Shape after GlobalAveragePooling2D: (None, 1280)\n",
            "Saving TensorBoard log files to: transfer_learning/10_percent_feature_extraction/20220215-040903\n"
          ]
        },
        {
          "output_type": "stream",
          "name": "stderr",
          "text": [
            "/usr/local/lib/python3.7/dist-packages/keras/engine/functional.py:1410: CustomMaskWarning: Custom mask layers require a config and must override get_config. When loading, the custom mask layer must be passed to the custom_objects argument.\n",
            "  layer_config = serialize_layer_fn(layer)\n"
          ]
        },
        {
          "output_type": "stream",
          "name": "stdout",
          "text": [
            "Epoch 1/5\n",
            "24/24 [==============================] - 23s 251ms/step - loss: 1.8961 - accuracy: 0.3960 - val_loss: 1.3521 - val_accuracy: 0.7072\n",
            "Epoch 2/5\n",
            "24/24 [==============================] - 4s 157ms/step - loss: 1.1427 - accuracy: 0.7480 - val_loss: 0.9393 - val_accuracy: 0.7928\n",
            "Epoch 3/5\n",
            "24/24 [==============================] - 5s 186ms/step - loss: 0.8390 - accuracy: 0.8000 - val_loss: 0.7469 - val_accuracy: 0.8289\n",
            "Epoch 4/5\n",
            "24/24 [==============================] - 5s 187ms/step - loss: 0.6809 - accuracy: 0.8360 - val_loss: 0.6744 - val_accuracy: 0.8289\n",
            "Epoch 5/5\n",
            "24/24 [==============================] - 4s 154ms/step - loss: 0.5923 - accuracy: 0.8507 - val_loss: 0.6078 - val_accuracy: 0.8405\n"
          ]
        }
      ]
    },
    {
      "cell_type": "code",
      "source": [
        "# Evaluate on full test dataset\n",
        "model_0.evaluate(test_data)"
      ],
      "metadata": {
        "id": "Rdwh5VzRXcef",
        "outputId": "64445659-1ef4-44f7-dd2e-3f60c928ef31",
        "colab": {
          "base_uri": "https://localhost:8080/"
        }
      },
      "execution_count": 11,
      "outputs": [
        {
          "output_type": "stream",
          "name": "stdout",
          "text": [
            "79/79 [==============================] - 7s 78ms/step - loss: 0.6122 - accuracy: 0.8476\n"
          ]
        },
        {
          "output_type": "execute_result",
          "data": {
            "text/plain": [
              "[0.6121675372123718, 0.847599983215332]"
            ]
          },
          "metadata": {},
          "execution_count": 11
        }
      ]
    },
    {
      "cell_type": "code",
      "source": [
        "# Check the layers in our base model\n",
        "for layer_number, layer in enumerate(base_model.layers):\n",
        "  print(layer_number, layer.name)"
      ],
      "metadata": {
        "id": "6cGaa8W0X9NI",
        "outputId": "92ec6f7c-70f1-4793-df68-1cf63ece5049",
        "colab": {
          "base_uri": "https://localhost:8080/"
        }
      },
      "execution_count": 12,
      "outputs": [
        {
          "output_type": "stream",
          "name": "stdout",
          "text": [
            "0 input_1\n",
            "1 rescaling\n",
            "2 normalization\n",
            "3 stem_conv_pad\n",
            "4 stem_conv\n",
            "5 stem_bn\n",
            "6 stem_activation\n",
            "7 block1a_dwconv\n",
            "8 block1a_bn\n",
            "9 block1a_activation\n",
            "10 block1a_se_squeeze\n",
            "11 block1a_se_reshape\n",
            "12 block1a_se_reduce\n",
            "13 block1a_se_expand\n",
            "14 block1a_se_excite\n",
            "15 block1a_project_conv\n",
            "16 block1a_project_bn\n",
            "17 block2a_expand_conv\n",
            "18 block2a_expand_bn\n",
            "19 block2a_expand_activation\n",
            "20 block2a_dwconv_pad\n",
            "21 block2a_dwconv\n",
            "22 block2a_bn\n",
            "23 block2a_activation\n",
            "24 block2a_se_squeeze\n",
            "25 block2a_se_reshape\n",
            "26 block2a_se_reduce\n",
            "27 block2a_se_expand\n",
            "28 block2a_se_excite\n",
            "29 block2a_project_conv\n",
            "30 block2a_project_bn\n",
            "31 block2b_expand_conv\n",
            "32 block2b_expand_bn\n",
            "33 block2b_expand_activation\n",
            "34 block2b_dwconv\n",
            "35 block2b_bn\n",
            "36 block2b_activation\n",
            "37 block2b_se_squeeze\n",
            "38 block2b_se_reshape\n",
            "39 block2b_se_reduce\n",
            "40 block2b_se_expand\n",
            "41 block2b_se_excite\n",
            "42 block2b_project_conv\n",
            "43 block2b_project_bn\n",
            "44 block2b_drop\n",
            "45 block2b_add\n",
            "46 block3a_expand_conv\n",
            "47 block3a_expand_bn\n",
            "48 block3a_expand_activation\n",
            "49 block3a_dwconv_pad\n",
            "50 block3a_dwconv\n",
            "51 block3a_bn\n",
            "52 block3a_activation\n",
            "53 block3a_se_squeeze\n",
            "54 block3a_se_reshape\n",
            "55 block3a_se_reduce\n",
            "56 block3a_se_expand\n",
            "57 block3a_se_excite\n",
            "58 block3a_project_conv\n",
            "59 block3a_project_bn\n",
            "60 block3b_expand_conv\n",
            "61 block3b_expand_bn\n",
            "62 block3b_expand_activation\n",
            "63 block3b_dwconv\n",
            "64 block3b_bn\n",
            "65 block3b_activation\n",
            "66 block3b_se_squeeze\n",
            "67 block3b_se_reshape\n",
            "68 block3b_se_reduce\n",
            "69 block3b_se_expand\n",
            "70 block3b_se_excite\n",
            "71 block3b_project_conv\n",
            "72 block3b_project_bn\n",
            "73 block3b_drop\n",
            "74 block3b_add\n",
            "75 block4a_expand_conv\n",
            "76 block4a_expand_bn\n",
            "77 block4a_expand_activation\n",
            "78 block4a_dwconv_pad\n",
            "79 block4a_dwconv\n",
            "80 block4a_bn\n",
            "81 block4a_activation\n",
            "82 block4a_se_squeeze\n",
            "83 block4a_se_reshape\n",
            "84 block4a_se_reduce\n",
            "85 block4a_se_expand\n",
            "86 block4a_se_excite\n",
            "87 block4a_project_conv\n",
            "88 block4a_project_bn\n",
            "89 block4b_expand_conv\n",
            "90 block4b_expand_bn\n",
            "91 block4b_expand_activation\n",
            "92 block4b_dwconv\n",
            "93 block4b_bn\n",
            "94 block4b_activation\n",
            "95 block4b_se_squeeze\n",
            "96 block4b_se_reshape\n",
            "97 block4b_se_reduce\n",
            "98 block4b_se_expand\n",
            "99 block4b_se_excite\n",
            "100 block4b_project_conv\n",
            "101 block4b_project_bn\n",
            "102 block4b_drop\n",
            "103 block4b_add\n",
            "104 block4c_expand_conv\n",
            "105 block4c_expand_bn\n",
            "106 block4c_expand_activation\n",
            "107 block4c_dwconv\n",
            "108 block4c_bn\n",
            "109 block4c_activation\n",
            "110 block4c_se_squeeze\n",
            "111 block4c_se_reshape\n",
            "112 block4c_se_reduce\n",
            "113 block4c_se_expand\n",
            "114 block4c_se_excite\n",
            "115 block4c_project_conv\n",
            "116 block4c_project_bn\n",
            "117 block4c_drop\n",
            "118 block4c_add\n",
            "119 block5a_expand_conv\n",
            "120 block5a_expand_bn\n",
            "121 block5a_expand_activation\n",
            "122 block5a_dwconv\n",
            "123 block5a_bn\n",
            "124 block5a_activation\n",
            "125 block5a_se_squeeze\n",
            "126 block5a_se_reshape\n",
            "127 block5a_se_reduce\n",
            "128 block5a_se_expand\n",
            "129 block5a_se_excite\n",
            "130 block5a_project_conv\n",
            "131 block5a_project_bn\n",
            "132 block5b_expand_conv\n",
            "133 block5b_expand_bn\n",
            "134 block5b_expand_activation\n",
            "135 block5b_dwconv\n",
            "136 block5b_bn\n",
            "137 block5b_activation\n",
            "138 block5b_se_squeeze\n",
            "139 block5b_se_reshape\n",
            "140 block5b_se_reduce\n",
            "141 block5b_se_expand\n",
            "142 block5b_se_excite\n",
            "143 block5b_project_conv\n",
            "144 block5b_project_bn\n",
            "145 block5b_drop\n",
            "146 block5b_add\n",
            "147 block5c_expand_conv\n",
            "148 block5c_expand_bn\n",
            "149 block5c_expand_activation\n",
            "150 block5c_dwconv\n",
            "151 block5c_bn\n",
            "152 block5c_activation\n",
            "153 block5c_se_squeeze\n",
            "154 block5c_se_reshape\n",
            "155 block5c_se_reduce\n",
            "156 block5c_se_expand\n",
            "157 block5c_se_excite\n",
            "158 block5c_project_conv\n",
            "159 block5c_project_bn\n",
            "160 block5c_drop\n",
            "161 block5c_add\n",
            "162 block6a_expand_conv\n",
            "163 block6a_expand_bn\n",
            "164 block6a_expand_activation\n",
            "165 block6a_dwconv_pad\n",
            "166 block6a_dwconv\n",
            "167 block6a_bn\n",
            "168 block6a_activation\n",
            "169 block6a_se_squeeze\n",
            "170 block6a_se_reshape\n",
            "171 block6a_se_reduce\n",
            "172 block6a_se_expand\n",
            "173 block6a_se_excite\n",
            "174 block6a_project_conv\n",
            "175 block6a_project_bn\n",
            "176 block6b_expand_conv\n",
            "177 block6b_expand_bn\n",
            "178 block6b_expand_activation\n",
            "179 block6b_dwconv\n",
            "180 block6b_bn\n",
            "181 block6b_activation\n",
            "182 block6b_se_squeeze\n",
            "183 block6b_se_reshape\n",
            "184 block6b_se_reduce\n",
            "185 block6b_se_expand\n",
            "186 block6b_se_excite\n",
            "187 block6b_project_conv\n",
            "188 block6b_project_bn\n",
            "189 block6b_drop\n",
            "190 block6b_add\n",
            "191 block6c_expand_conv\n",
            "192 block6c_expand_bn\n",
            "193 block6c_expand_activation\n",
            "194 block6c_dwconv\n",
            "195 block6c_bn\n",
            "196 block6c_activation\n",
            "197 block6c_se_squeeze\n",
            "198 block6c_se_reshape\n",
            "199 block6c_se_reduce\n",
            "200 block6c_se_expand\n",
            "201 block6c_se_excite\n",
            "202 block6c_project_conv\n",
            "203 block6c_project_bn\n",
            "204 block6c_drop\n",
            "205 block6c_add\n",
            "206 block6d_expand_conv\n",
            "207 block6d_expand_bn\n",
            "208 block6d_expand_activation\n",
            "209 block6d_dwconv\n",
            "210 block6d_bn\n",
            "211 block6d_activation\n",
            "212 block6d_se_squeeze\n",
            "213 block6d_se_reshape\n",
            "214 block6d_se_reduce\n",
            "215 block6d_se_expand\n",
            "216 block6d_se_excite\n",
            "217 block6d_project_conv\n",
            "218 block6d_project_bn\n",
            "219 block6d_drop\n",
            "220 block6d_add\n",
            "221 block7a_expand_conv\n",
            "222 block7a_expand_bn\n",
            "223 block7a_expand_activation\n",
            "224 block7a_dwconv\n",
            "225 block7a_bn\n",
            "226 block7a_activation\n",
            "227 block7a_se_squeeze\n",
            "228 block7a_se_reshape\n",
            "229 block7a_se_reduce\n",
            "230 block7a_se_expand\n",
            "231 block7a_se_excite\n",
            "232 block7a_project_conv\n",
            "233 block7a_project_bn\n",
            "234 top_conv\n",
            "235 top_bn\n",
            "236 top_activation\n"
          ]
        }
      ]
    },
    {
      "cell_type": "code",
      "source": [
        "# Summary of our whole model\n",
        "model_0.summary()"
      ],
      "metadata": {
        "id": "0_nl6M4oYhYA",
        "outputId": "13d9f089-e238-43ef-d043-5d4f4782c1c9",
        "colab": {
          "base_uri": "https://localhost:8080/"
        }
      },
      "execution_count": 13,
      "outputs": [
        {
          "output_type": "stream",
          "name": "stdout",
          "text": [
            "Model: \"model\"\n",
            "_________________________________________________________________\n",
            " Layer (type)                Output Shape              Param #   \n",
            "=================================================================\n",
            " input_layer (InputLayer)    [(None, 224, 224, 3)]     0         \n",
            "                                                                 \n",
            " efficientnetb0 (Functional)  (None, None, None, 1280)  4049571  \n",
            "                                                                 \n",
            " global_average_pooling_laye  (None, 1280)             0         \n",
            " r (GlobalAveragePooling2D)                                      \n",
            "                                                                 \n",
            " output_layer (Dense)        (None, 10)                12810     \n",
            "                                                                 \n",
            "=================================================================\n",
            "Total params: 4,062,381\n",
            "Trainable params: 12,810\n",
            "Non-trainable params: 4,049,571\n",
            "_________________________________________________________________\n"
          ]
        }
      ]
    },
    {
      "cell_type": "code",
      "source": [
        "# Check out our model's training curves\n",
        "plot_loss_curves(history_10_percent)"
      ],
      "metadata": {
        "id": "tsxCJlpLZPom",
        "outputId": "57306bb7-a78d-4707-a924-cd335cdb4114",
        "colab": {
          "base_uri": "https://localhost:8080/",
          "height": 573
        }
      },
      "execution_count": 14,
      "outputs": [
        {
          "output_type": "display_data",
          "data": {
            "image/png": "[encoded data removed]",
            "text/plain": [
              "<Figure size 432x288 with 1 Axes>"
            ]
          },
          "metadata": {
            "needs_background": "light"
          }
        },
        {
          "output_type": "display_data",
          "data": {
            "image/png": "[encoded data removed]",
            "text/plain": [
              "<Figure size 432x288 with 1 Axes>"
            ]
          },
          "metadata": {
            "needs_background": "light"
          }
        }
      ]
    },
    {
      "cell_type": "markdown",
      "source": [
        "## Get a feature vector from a trained model\n",
        "\n",
        "Let's demonstrate the Global Average Pooling 2D layer\n",
        "\n",
        "We have a tensor after our model goes through 'base model' of \n",
        "shape(None, 7, 7, 1280) \n",
        "\n",
        "But when it passes through GlobalAveragePooling2D, it turns into \n",
        "shape(None, 1280)..\n",
        "\n",
        "Let's use a similar shaped tensor of (1, 4, 4, 3) and then pass it\n",
        "to GlobalAveragePooling2D.\n"
      ],
      "metadata": {
        "id": "dKy8tPOTZqLh"
      }
    },
    {
      "cell_type": "code",
      "source": [
        "# Define the input shape\n",
        "input_shape = (1, 4, 4, 3)\n",
        "\n",
        "# Create a random tensor\n",
        "tf.random.set_seed(42)\n",
        "input_tensor = tf.random.normal(input_shape)\n",
        "print(f\"Random input tensor:\\n{input_tensor}\\n\")"
      ],
      "metadata": {
        "id": "aJgCViaTaHov",
        "outputId": "dbf1f431-a482-43dd-d7c4-3dfbaf0522ab",
        "colab": {
          "base_uri": "https://localhost:8080/"
        }
      },
      "execution_count": 15,
      "outputs": [
        {
          "output_type": "stream",
          "name": "stdout",
          "text": [
            "Random input tensor:\n",
            "[[[[ 0.3274685  -0.8426258   0.3194337 ]\n",
            "   [-1.4075519  -2.3880599  -1.0392479 ]\n",
            "   [-0.5573232   0.539707    1.6994323 ]\n",
            "   [ 0.28893656 -1.5066116  -0.2645474 ]]\n",
            "\n",
            "  [[-0.59722406 -1.9171132  -0.62044144]\n",
            "   [ 0.8504023  -0.40604794 -3.0258412 ]\n",
            "   [ 0.9058464   0.29855987 -0.22561555]\n",
            "   [-0.7616443  -1.8917141  -0.93847126]]\n",
            "\n",
            "  [[ 0.77852213 -0.47338897  0.97772694]\n",
            "   [ 0.24694404  0.20573747 -0.5256233 ]\n",
            "   [ 0.32410017  0.02545409 -0.10638497]\n",
            "   [-0.6369475   1.1603122   0.2507359 ]]\n",
            "\n",
            "  [[-0.41728503  0.4012578  -1.4145443 ]\n",
            "   [-0.5931857  -1.6617213   0.33567193]\n",
            "   [ 0.10815629  0.23479682 -0.56668764]\n",
            "   [-0.35819843  0.88698614  0.52744764]]]]\n",
            "\n"
          ]
        }
      ]
    },
    {
      "cell_type": "code",
      "source": [
        "# pass the random tensor through a global average pooling 2D layer\n",
        "global_average_pooled_tensor = tf.keras.layers.GlobalAveragePooling2D()(input_tensor) # Passing the input_tensor after the layer\n",
        "print(f\"2D global average pooled random tensor:\\n {global_average_pooled_tensor}\\n\")"
      ],
      "metadata": {
        "id": "LiwCBWFmcUCK",
        "outputId": "93892ef9-d8ae-4560-cb40-da435f3299b2",
        "colab": {
          "base_uri": "https://localhost:8080/"
        }
      },
      "execution_count": 16,
      "outputs": [
        {
          "output_type": "stream",
          "name": "stdout",
          "text": [
            "2D global average pooled random tensor:\n",
            " [[-0.09368646 -0.45840448 -0.2885598 ]]\n",
            "\n"
          ]
        }
      ]
    },
    {
      "cell_type": "code",
      "source": [
        "# Check the shapes of different tensors\n",
        "print(f\"Shape of input tensor: {input_tensor.shape}\")\n",
        "print(f\"Shape of the global average pooled 2D tensor : {global_average_pooled_tensor}\")"
      ],
      "metadata": {
        "id": "CghgbgSudtOu",
        "outputId": "4795b5b9-9675-49bb-be15-c0ea7c7cdc09",
        "colab": {
          "base_uri": "https://localhost:8080/"
        }
      },
      "execution_count": 17,
      "outputs": [
        {
          "output_type": "stream",
          "name": "stdout",
          "text": [
            "Shape of input tensor: (1, 4, 4, 3)\n",
            "Shape of the global average pooled 2D tensor : [[-0.09368646 -0.45840448 -0.2885598 ]]\n"
          ]
        }
      ]
    },
    {
      "cell_type": "code",
      "source": [
        "# Let's replicate the GlobalAveragePooling2D layer\n",
        "tf.reduce_mean(input_tensor, axis=[1,2])"
      ],
      "metadata": {
        "id": "M0FsazsgeUCg",
        "outputId": "4c4e7105-49ee-4fba-c145-00f4549bcfdf",
        "colab": {
          "base_uri": "https://localhost:8080/"
        }
      },
      "execution_count": 18,
      "outputs": [
        {
          "output_type": "execute_result",
          "data": {
            "text/plain": [
              "<tf.Tensor: shape=(1, 3), dtype=float32, numpy=array([[-0.09368646, -0.45840448, -0.2885598 ]], dtype=float32)>"
            ]
          },
          "metadata": {},
          "execution_count": 18
        }
      ]
    },
    {
      "cell_type": "markdown",
      "source": [
        "## Feature Vector\n",
        "\n",
        "**What is a feature vector?**\n",
        "\n",
        "Ans : A feature vector is a learned representation of the input data(a compressed form of the input data based on how model see's it)\n",
        "\n",
        "We've seen the incredible results transfer learning can get with only 10% of the training data, but how does it goes with **1%** of the training data... how about we setup a bunch of experiments to find out:\n",
        "\n",
        "1. 'model_1' - use feature extraction transfer learning with 1% of data with data augmentation\n",
        "\n",
        "2. 'model_2' - use feature extraction transfer learning with 10% of the training data with data augmentation \n",
        "\n",
        "3. 'model_3' - use **fine-tuning** transfer learning on 10% of the training data with data augmentation.\n",
        "\n",
        "4. 'model_4' - use fine-tuning transfer learning on 100% of the training data with data augmentation. \n",
        "\n",
        "\n",
        "Note: throught all experiments the same test dataset will be used to evaluate our model.... this ensure consistency across evaluation metrics."
      ],
      "metadata": {
        "id": "jyzbChGIfoAN"
      }
    },
    {
      "cell_type": "code",
      "source": [
        "# Download and unzip the data -  preprocessed from Food101\n",
        "!wget https://storage.googleapis.com/ztm_tf_course/food_vision/10_food_classes_1_percent.zip\n",
        "\n",
        "unzip_data(\"10_food_classes_1_percent.zip\")"
      ],
      "metadata": {
        "id": "xaMeLgOHq0L4",
        "outputId": "f96fe81a-732b-43be-f72e-4bb63e6a2287",
        "colab": {
          "base_uri": "https://localhost:8080/"
        }
      },
      "execution_count": 20,
      "outputs": [
        {
          "output_type": "stream",
          "name": "stdout",
          "text": [
            "--2022-02-15 04:43:08--  https://storage.googleapis.com/ztm_tf_course/food_vision/10_food_classes_1_percent.zip\n",
            "Resolving storage.googleapis.com (storage.googleapis.com)... 142.250.188.48, 172.217.2.112, 142.251.16.128, ...\n",
            "Connecting to storage.googleapis.com (storage.googleapis.com)|142.250.188.48|:443... connected.\n",
            "HTTP request sent, awaiting response... 200 OK\n",
            "Length: 133612354 (127M) [application/zip]\n",
            "Saving to: ‘10_food_classes_1_percent.zip’\n",
            "\n",
            "10_food_classes_1_p 100%[===================>] 127.42M  69.2MB/s    in 1.8s    \n",
            "\n",
            "2022-02-15 04:43:10 (69.2 MB/s) - ‘10_food_classes_1_percent.zip’ saved [133612354/133612354]\n",
            "\n"
          ]
        }
      ]
    },
    {
      "cell_type": "code",
      "source": [
        "# Create train and test dirs \n",
        "train_dir_1_percent = \"10_food_classes_1_percent/train\"\n",
        "test_dir = \"10_food_classes_1_percent/test\""
      ],
      "metadata": {
        "id": "6341dTxbsQAe"
      },
      "execution_count": 21,
      "outputs": []
    },
    {
      "cell_type": "code",
      "source": [
        "# Lesson 10 continue..."
      ],
      "metadata": {
        "id": "ijDnS96NsqUx"
      },
      "execution_count": null,
      "outputs": []
    }
  ]
}