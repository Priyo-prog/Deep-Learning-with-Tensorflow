{
  "nbformat": 4,
  "nbformat_minor": 0,
  "metadata": {
    "colab": {
      "name": "transfer_learning_with_tensorflow_fine_tuning.ipynb",
      "provenance": [],
      "toc_visible": true,
      "authorship_tag": "ABX9TyOBG3IukbsTU+2KZitEPbIk",
      "include_colab_link": true
    },
    "kernelspec": {
      "name": "python3",
      "display_name": "Python 3"
    },
    "language_info": {
      "name": "python"
    },
    "accelerator": "GPU"
  },
  "cells": [
    {
      "cell_type": "markdown",
      "metadata": {
        "id": "view-in-github",
        "colab_type": "text"
      },
      "source": [
        "<a href=\"https://colab.research.google.com/github/Priyo-prog/Deep-Learning-with-Tensorflow/blob/main/Transfer%20Learning%20with%20Tensorflow/transfer_learning_with_tensorflow_fine_tuning.ipynb\" target=\"_parent\"><img src=\"https://colab.research.google.com/assets/colab-badge.svg\" alt=\"Open In Colab\"/></a>"
      ]
    },
    {
      "cell_type": "markdown",
      "source": [
        "# **Transfer Learning with TensorFlow part 2: Fine Tuning**"
      ],
      "metadata": {
        "id": "BGZczUMg-gwo"
      }
    },
    {
      "cell_type": "code",
      "source": [
        "# Check the GPU we are using \n",
        "!nvidia-smi"
      ],
      "metadata": {
        "id": "GZl1cM8r_MjG",
        "outputId": "6df7aef0-716c-4da6-e42f-3278603ea98e",
        "colab": {
          "base_uri": "https://localhost:8080/"
        }
      },
      "execution_count": 1,
      "outputs": [
        {
          "output_type": "stream",
          "name": "stdout",
          "text": [
            "Wed Jan 19 05:01:45 2022       \n",
            "+-----------------------------------------------------------------------------+\n",
            "| NVIDIA-SMI 495.46       Driver Version: 460.32.03    CUDA Version: 11.2     |\n",
            "|-------------------------------+----------------------+----------------------+\n",
            "| GPU  Name        Persistence-M| Bus-Id        Disp.A | Volatile Uncorr. ECC |\n",
            "| Fan  Temp  Perf  Pwr:Usage/Cap|         Memory-Usage | GPU-Util  Compute M. |\n",
            "|                               |                      |               MIG M. |\n",
            "|===============================+======================+======================|\n",
            "|   0  Tesla T4            Off  | 00000000:00:04.0 Off |                    0 |\n",
            "| N/A   45C    P8     9W /  70W |      0MiB / 15109MiB |      0%      Default |\n",
            "|                               |                      |                  N/A |\n",
            "+-------------------------------+----------------------+----------------------+\n",
            "                                                                               \n",
            "+-----------------------------------------------------------------------------+\n",
            "| Processes:                                                                  |\n",
            "|  GPU   GI   CI        PID   Type   Process name                  GPU Memory |\n",
            "|        ID   ID                                                   Usage      |\n",
            "|=============================================================================|\n",
            "|  No running processes found                                                 |\n",
            "+-----------------------------------------------------------------------------+\n"
          ]
        }
      ]
    },
    {
      "cell_type": "markdown",
      "source": [
        "## Getting the helper function"
      ],
      "metadata": {
        "id": "OKnzfm5lBXFo"
      }
    },
    {
      "cell_type": "code",
      "source": [
        "!wget https://raw.githubusercontent.com/mrdbourke/tensorflow-deep-learning/main/extras/helper_functions.py"
      ],
      "metadata": {
        "id": "9A2P10YE_qKR",
        "outputId": "afce257a-c613-45ab-9ffb-d6271cb6597b",
        "colab": {
          "base_uri": "https://localhost:8080/"
        }
      },
      "execution_count": 2,
      "outputs": [
        {
          "output_type": "stream",
          "name": "stdout",
          "text": [
            "--2022-01-19 05:01:45--  https://raw.githubusercontent.com/mrdbourke/tensorflow-deep-learning/main/extras/helper_functions.py\n",
            "Resolving raw.githubusercontent.com (raw.githubusercontent.com)... 185.199.108.133, 185.199.111.133, 185.199.110.133, ...\n",
            "Connecting to raw.githubusercontent.com (raw.githubusercontent.com)|185.199.108.133|:443... connected.\n",
            "HTTP request sent, awaiting response... 200 OK\n",
            "Length: 10246 (10K) [text/plain]\n",
            "Saving to: ‘helper_functions.py’\n",
            "\n",
            "helper_functions.py 100%[===================>]  10.01K  --.-KB/s    in 0s      \n",
            "\n",
            "2022-01-19 05:01:45 (64.2 MB/s) - ‘helper_functions.py’ saved [10246/10246]\n",
            "\n"
          ]
        }
      ]
    },
    {
      "cell_type": "code",
      "source": [
        "# Import the helper functions we are going to use in this notebook\n",
        "from helper_functions import create_tensorboard_callback, plot_loss_curves, unzip_data, walk_through_dir"
      ],
      "metadata": {
        "id": "l3yw31xGBLrL"
      },
      "execution_count": 3,
      "outputs": []
    },
    {
      "cell_type": "markdown",
      "source": [
        "## Get the data\n",
        "\n",
        "This time we are going to see how we can use the pretrained models within 'tf.keras.applications' and apply them to our problem"
      ],
      "metadata": {
        "id": "dz2pGRf_wVIL"
      }
    },
    {
      "cell_type": "code",
      "source": [
        "# Get the 10% of training data of 10 classes of Food101\n",
        "!wget https://storage.googleapis.com/ztm_tf_course/food_vision/10_food_classes_10_percent.zip\n",
        "\n",
        "unzip_data(\"10_food_classes_10_percent.zip\")"
      ],
      "metadata": {
        "colab": {
          "base_uri": "https://localhost:8080/"
        },
        "id": "rX5STlEFw9n4",
        "outputId": "f4874f03-4b51-4c23-cd36-2e00209cb1ff"
      },
      "execution_count": 4,
      "outputs": [
        {
          "output_type": "stream",
          "name": "stdout",
          "text": [
            "--2022-01-19 05:01:48--  https://storage.googleapis.com/ztm_tf_course/food_vision/10_food_classes_10_percent.zip\n",
            "Resolving storage.googleapis.com (storage.googleapis.com)... 142.250.98.128, 142.251.107.128, 173.194.216.128, ...\n",
            "Connecting to storage.googleapis.com (storage.googleapis.com)|142.250.98.128|:443... connected.\n",
            "HTTP request sent, awaiting response... 200 OK\n",
            "Length: 168546183 (161M) [application/zip]\n",
            "Saving to: ‘10_food_classes_10_percent.zip’\n",
            "\n",
            "10_food_classes_10_ 100%[===================>] 160.74M   194MB/s    in 0.8s    \n",
            "\n",
            "2022-01-19 05:01:49 (194 MB/s) - ‘10_food_classes_10_percent.zip’ saved [168546183/168546183]\n",
            "\n"
          ]
        }
      ]
    },
    {
      "cell_type": "code",
      "source": [
        "# Check out how many images and subdirectories are in our dataset\n",
        "walk_through_dir(\"10_food_classes_10_percent\")"
      ],
      "metadata": {
        "colab": {
          "base_uri": "https://localhost:8080/"
        },
        "id": "JjCYVSl-xMmv",
        "outputId": "aabf8fe4-75f7-42b4-b7fb-de78e6328839"
      },
      "execution_count": 5,
      "outputs": [
        {
          "output_type": "stream",
          "name": "stdout",
          "text": [
            "There are 2 directories and 0 images in '10_food_classes_10_percent'.\n",
            "There are 10 directories and 0 images in '10_food_classes_10_percent/train'.\n",
            "There are 0 directories and 75 images in '10_food_classes_10_percent/train/sushi'.\n",
            "There are 0 directories and 75 images in '10_food_classes_10_percent/train/fried_rice'.\n",
            "There are 0 directories and 75 images in '10_food_classes_10_percent/train/chicken_curry'.\n",
            "There are 0 directories and 75 images in '10_food_classes_10_percent/train/grilled_salmon'.\n",
            "There are 0 directories and 75 images in '10_food_classes_10_percent/train/chicken_wings'.\n",
            "There are 0 directories and 75 images in '10_food_classes_10_percent/train/hamburger'.\n",
            "There are 0 directories and 75 images in '10_food_classes_10_percent/train/steak'.\n",
            "There are 0 directories and 75 images in '10_food_classes_10_percent/train/ramen'.\n",
            "There are 0 directories and 75 images in '10_food_classes_10_percent/train/pizza'.\n",
            "There are 0 directories and 75 images in '10_food_classes_10_percent/train/ice_cream'.\n",
            "There are 10 directories and 0 images in '10_food_classes_10_percent/test'.\n",
            "There are 0 directories and 250 images in '10_food_classes_10_percent/test/sushi'.\n",
            "There are 0 directories and 250 images in '10_food_classes_10_percent/test/fried_rice'.\n",
            "There are 0 directories and 250 images in '10_food_classes_10_percent/test/chicken_curry'.\n",
            "There are 0 directories and 250 images in '10_food_classes_10_percent/test/grilled_salmon'.\n",
            "There are 0 directories and 250 images in '10_food_classes_10_percent/test/chicken_wings'.\n",
            "There are 0 directories and 250 images in '10_food_classes_10_percent/test/hamburger'.\n",
            "There are 0 directories and 250 images in '10_food_classes_10_percent/test/steak'.\n",
            "There are 0 directories and 250 images in '10_food_classes_10_percent/test/ramen'.\n",
            "There are 0 directories and 250 images in '10_food_classes_10_percent/test/pizza'.\n",
            "There are 0 directories and 250 images in '10_food_classes_10_percent/test/ice_cream'.\n"
          ]
        }
      ]
    },
    {
      "cell_type": "code",
      "source": [
        "# Create training and test directories paths\n",
        "train_dir = \"10_food_classes_10_percent/train\"\n",
        "test_data = \"10_food_classes_10_percent/test\""
      ],
      "metadata": {
        "id": "F-B60cX6xzaG"
      },
      "execution_count": 6,
      "outputs": []
    },
    {
      "cell_type": "code",
      "source": [
        "import tensorflow as tf\n",
        "\n",
        "IMG_SIZE = (224,224)\n",
        "BATCH_SIZE = 32\n",
        "train_data_10_percent = tf.keras.preprocessing.image_dataset_from_directory(directory=train_dir,\n",
        "                                                                            image_size=IMG_SIZE,\n",
        "                                                                            label_mode=\"categorical\",\n",
        "                                                                            batch_size=BATCH_SIZE)\n",
        "\n",
        "test_data = tf.keras.preprocessing.image_dataset_from_directory(directory=test_data,\n",
        "                                                                image_size=IMG_SIZE,\n",
        "                                                                label_mode=\"categorical\",\n",
        "                                                                batch_size=BATCH_SIZE)"
      ],
      "metadata": {
        "colab": {
          "base_uri": "https://localhost:8080/"
        },
        "id": "vDmUbdU_yXvF",
        "outputId": "641261c5-5d58-4fd7-81af-d4af0802968c"
      },
      "execution_count": 7,
      "outputs": [
        {
          "output_type": "stream",
          "name": "stdout",
          "text": [
            "Found 750 files belonging to 10 classes.\n",
            "Found 2500 files belonging to 10 classes.\n"
          ]
        }
      ]
    },
    {
      "cell_type": "code",
      "source": [
        "# Check out the class names of our dataset\n",
        "train_data_10_percent.class_names"
      ],
      "metadata": {
        "colab": {
          "base_uri": "https://localhost:8080/"
        },
        "id": "uymfSVQu0Qhc",
        "outputId": "f49d4d37-a665-41b1-9edc-574223adcb6b"
      },
      "execution_count": 8,
      "outputs": [
        {
          "output_type": "execute_result",
          "data": {
            "text/plain": [
              "['chicken_curry',\n",
              " 'chicken_wings',\n",
              " 'fried_rice',\n",
              " 'grilled_salmon',\n",
              " 'hamburger',\n",
              " 'ice_cream',\n",
              " 'pizza',\n",
              " 'ramen',\n",
              " 'steak',\n",
              " 'sushi']"
            ]
          },
          "metadata": {},
          "execution_count": 8
        }
      ]
    },
    {
      "cell_type": "code",
      "source": [
        "# See an example of batch of data\n",
        "for images, labels in train_data_10_percent.take(1):\n",
        "  print(images,labels)"
      ],
      "metadata": {
        "colab": {
          "base_uri": "https://localhost:8080/"
        },
        "id": "3p3Do-Z11CL7",
        "outputId": "ffe411ab-11c0-43c6-d099-65ccd79e9b78"
      },
      "execution_count": 9,
      "outputs": [
        {
          "output_type": "stream",
          "name": "stdout",
          "text": [
            "tf.Tensor(\n",
            "[[[[1.00000000e+01 7.00000000e+00 2.00000000e+00]\n",
            "   [1.00000000e+01 7.00000000e+00 2.00000000e+00]\n",
            "   [1.00000000e+01 7.00000000e+00 2.00000000e+00]\n",
            "   ...\n",
            "   [1.00000000e+00 1.00000000e+00 3.00000000e+00]\n",
            "   [1.00000000e+00 1.00000000e+00 3.00000000e+00]\n",
            "   [1.00000000e+00 1.00000000e+00 3.00000000e+00]]\n",
            "\n",
            "  [[1.00000000e+01 7.00000000e+00 2.00000000e+00]\n",
            "   [1.00000000e+01 7.00000000e+00 2.00000000e+00]\n",
            "   [1.00000000e+01 7.00000000e+00 2.00000000e+00]\n",
            "   ...\n",
            "   [1.00000000e+00 1.00000000e+00 3.00000000e+00]\n",
            "   [1.00000000e+00 1.00000000e+00 3.00000000e+00]\n",
            "   [1.00000000e+00 1.00000000e+00 3.00000000e+00]]\n",
            "\n",
            "  [[1.00000000e+01 7.00000000e+00 2.00000000e+00]\n",
            "   [1.00000000e+01 7.00000000e+00 2.00000000e+00]\n",
            "   [1.00000000e+01 7.00000000e+00 2.00000000e+00]\n",
            "   ...\n",
            "   [1.00000000e+00 1.00000000e+00 3.00000000e+00]\n",
            "   [1.00000000e+00 1.00000000e+00 3.00000000e+00]\n",
            "   [1.00000000e+00 1.00000000e+00 3.00000000e+00]]\n",
            "\n",
            "  ...\n",
            "\n",
            "  [[1.79785736e+02 1.70785736e+02 1.63785736e+02]\n",
            "   [1.80198959e+02 1.71198959e+02 1.64198959e+02]\n",
            "   [1.81168365e+02 1.72168365e+02 1.65168365e+02]\n",
            "   ...\n",
            "   [1.56811142e+02 1.51045914e+02 1.45045914e+02]\n",
            "   [1.56642792e+02 1.51214264e+02 1.45214264e+02]\n",
            "   [1.57428528e+02 1.52000000e+02 1.46000000e+02]]\n",
            "\n",
            "  [[1.80260193e+02 1.71260193e+02 1.64260193e+02]\n",
            "   [1.79066330e+02 1.70066330e+02 1.63066330e+02]\n",
            "   [1.81142838e+02 1.72142838e+02 1.65142838e+02]\n",
            "   ...\n",
            "   [1.57642792e+02 1.52214264e+02 1.46214264e+02]\n",
            "   [1.55857117e+02 1.50857117e+02 1.44857117e+02]\n",
            "   [1.53928558e+02 1.48928558e+02 1.42928558e+02]]\n",
            "\n",
            "  [[1.77642822e+02 1.68642822e+02 1.61642822e+02]\n",
            "   [1.79928574e+02 1.70928574e+02 1.63928574e+02]\n",
            "   [1.79923462e+02 1.70923462e+02 1.63923462e+02]\n",
            "   ...\n",
            "   [1.55928436e+02 1.50499908e+02 1.44499908e+02]\n",
            "   [1.53974487e+02 1.48974487e+02 1.42974487e+02]\n",
            "   [1.52000000e+02 1.49000000e+02 1.42000000e+02]]]\n",
            "\n",
            "\n",
            " [[[6.54132690e+01 5.02397957e+01 4.98265305e+01]\n",
            "   [1.06285721e+02 9.50714340e+01 9.31428604e+01]\n",
            "   [1.54622452e+02 1.45622452e+02 1.40193878e+02]\n",
            "   ...\n",
            "   [1.57510239e+02 1.06081703e+02 1.24867439e+02]\n",
            "   [1.64357254e+02 1.13357246e+02 1.32357254e+02]\n",
            "   [1.75142899e+02 1.26142891e+02 1.45142899e+02]]\n",
            "\n",
            "  [[6.20510216e+01 5.15714264e+01 4.95969391e+01]\n",
            "   [9.96938858e+01 9.24081650e+01 8.65510254e+01]\n",
            "   [1.51336731e+02 1.46525513e+02 1.37510208e+02]\n",
            "   ...\n",
            "   [1.49040817e+02 9.60408173e+01 1.16040817e+02]\n",
            "   [1.47591858e+02 9.55918655e+01 1.17591866e+02]\n",
            "   [1.49193802e+02 9.71938095e+01 1.19193810e+02]]\n",
            "\n",
            "  [[5.69795914e+01 5.14183655e+01 4.54183655e+01]\n",
            "   [9.10969467e+01 8.79540863e+01 8.10255127e+01]\n",
            "   [1.53591843e+02 1.51403061e+02 1.41591827e+02]\n",
            "   ...\n",
            "   [1.52642853e+02 9.88571396e+01 1.23285713e+02]\n",
            "   [1.50729599e+02 9.69438934e+01 1.21372467e+02]\n",
            "   [1.50152969e+02 9.63672562e+01 1.20795830e+02]]\n",
            "\n",
            "  ...\n",
            "\n",
            "  [[1.64785736e+02 1.66785736e+02 1.55785736e+02]\n",
            "   [1.60413239e+02 1.62413239e+02 1.51413239e+02]\n",
            "   [1.52214249e+02 1.53785675e+02 1.42999954e+02]\n",
            "   ...\n",
            "   [1.36168350e+02 1.26168358e+02 1.16168358e+02]\n",
            "   [1.32000000e+02 1.22000000e+02 1.12000000e+02]\n",
            "   [1.30071381e+02 1.20071381e+02 1.10071381e+02]]\n",
            "\n",
            "  [[1.55668365e+02 1.57668365e+02 1.46668365e+02]\n",
            "   [1.54076523e+02 1.56076523e+02 1.45076523e+02]\n",
            "   [1.50214279e+02 1.51785721e+02 1.41000000e+02]\n",
            "   ...\n",
            "   [1.36357086e+02 1.26357086e+02 1.16357086e+02]\n",
            "   [1.31071442e+02 1.21071442e+02 1.11071442e+02]\n",
            "   [1.31642822e+02 1.21642822e+02 1.11642822e+02]]\n",
            "\n",
            "  [[1.55928467e+02 1.57928467e+02 1.46928467e+02]\n",
            "   [1.53760162e+02 1.55760162e+02 1.44760162e+02]\n",
            "   [1.50785751e+02 1.52357178e+02 1.41571457e+02]\n",
            "   ...\n",
            "   [1.34137741e+02 1.24137733e+02 1.14137733e+02]\n",
            "   [1.31142883e+02 1.21142883e+02 1.11142883e+02]\n",
            "   [1.32056046e+02 1.22056046e+02 1.12056046e+02]]]\n",
            "\n",
            "\n",
            " [[[1.84795914e+01 1.17193880e+01 8.53571510e+00]\n",
            "   [1.65918369e+01 1.03826532e+01 6.83163214e+00]\n",
            "   [1.82244892e+01 1.02244902e+01 7.22448969e+00]\n",
            "   ...\n",
            "   [1.84489708e+01 9.29592419e+00 4.21940184e+00]\n",
            "   [1.96683598e+01 1.18061390e+01 8.80613899e+00]\n",
            "   [1.81326389e+01 1.31326380e+01 1.01326380e+01]]\n",
            "\n",
            "  [[1.28928556e+01 7.58163118e+00 5.65305948e+00]\n",
            "   [1.87193890e+01 1.37142868e+01 1.09285717e+01]\n",
            "   [1.51530609e+01 9.55612087e+00 6.75510120e+00]\n",
            "   ...\n",
            "   [1.95714264e+01 1.10306511e+01 9.03065109e+00]\n",
            "   [1.51326504e+01 9.34185886e+00 9.07144165e+00]\n",
            "   [1.89286766e+01 1.49286766e+01 1.57858200e+01]]\n",
            "\n",
            "  [[2.65204086e+01 6.66836643e+00 2.97448921e+00]\n",
            "   [2.77500057e+01 7.39286041e+00 3.07653308e+00]\n",
            "   [3.36173515e+01 1.32142878e+01 8.35714436e+00]\n",
            "   ...\n",
            "   [2.16275311e+01 1.05561237e+01 7.91331005e+00]\n",
            "   [2.02142868e+01 1.15714283e+01 9.57142830e+00]\n",
            "   [1.77295799e+01 1.08724365e+01 1.06581507e+01]]\n",
            "\n",
            "  ...\n",
            "\n",
            "  [[5.40765228e+01 2.70765228e+01 1.80765228e+01]\n",
            "   [5.40000000e+01 2.70000000e+01 1.80000000e+01]\n",
            "   [5.32142639e+01 2.62142639e+01 1.72142639e+01]\n",
            "   ...\n",
            "   [5.58570557e+01 3.10459099e+01 2.17652378e+01]\n",
            "   [5.33418999e+01 3.12858276e+01 2.09133129e+01]\n",
            "   [5.17849121e+01 3.37849121e+01 2.22134399e+01]]\n",
            "\n",
            "  [[5.40000000e+01 2.70000000e+01 1.80000000e+01]\n",
            "   [5.30714417e+01 2.60714417e+01 1.70714417e+01]\n",
            "   [5.30000000e+01 2.60000000e+01 1.70000000e+01]\n",
            "   ...\n",
            "   [5.66581001e+01 3.20153084e+01 2.02295704e+01]\n",
            "   [5.42857666e+01 3.24286499e+01 2.14286499e+01]\n",
            "   [5.27849121e+01 3.47849121e+01 2.27849121e+01]]\n",
            "\n",
            "  [[5.45867577e+01 2.75867577e+01 1.85867577e+01]\n",
            "   [5.43571777e+01 2.73571777e+01 1.83571777e+01]\n",
            "   [5.40000000e+01 2.70000000e+01 1.80000000e+01]\n",
            "   ...\n",
            "   [5.68570557e+01 3.22142639e+01 2.04285278e+01]\n",
            "   [5.46888695e+01 3.29031944e+01 1.98317528e+01]\n",
            "   [5.27849121e+01 3.47849121e+01 2.27849121e+01]]]\n",
            "\n",
            "\n",
            " ...\n",
            "\n",
            "\n",
            " [[[1.54698975e+02 1.26698982e+02 1.12698982e+02]\n",
            "   [1.49056122e+02 1.21295921e+02 1.05505104e+02]\n",
            "   [1.36561218e+02 1.07698982e+02 8.92857132e+01]\n",
            "   ...\n",
            "   [1.31872498e+02 7.80867538e+01 7.56582260e+01]\n",
            "   [1.30841873e+02 7.98418732e+01 7.68418732e+01]\n",
            "   [1.25509903e+02 7.45099030e+01 7.35099030e+01]]\n",
            "\n",
            "  [[1.91367355e+02 1.67158157e+02 1.50367355e+02]\n",
            "   [1.89989792e+02 1.66576523e+02 1.48714279e+02]\n",
            "   [1.90765320e+02 1.65622467e+02 1.45265320e+02]\n",
            "   ...\n",
            "   [1.23612244e+02 6.79387589e+01 6.64541092e+01]\n",
            "   [1.13709129e+02 5.97091255e+01 5.77091255e+01]\n",
            "   [1.01372223e+02 4.73722267e+01 4.73722267e+01]]\n",
            "\n",
            "  [[2.08413269e+02 1.89846939e+02 1.67561234e+02]\n",
            "   [2.09076538e+02 1.91306122e+02 1.68734695e+02]\n",
            "   [2.12755112e+02 1.92397964e+02 1.70846939e+02]\n",
            "   ...\n",
            "   [1.02964317e+02 4.45357475e+01 4.35816841e+01]\n",
            "   [1.04311287e+02 4.52807045e+01 4.72245712e+01]\n",
            "   [1.20566528e+02 6.22706985e+01 6.39900589e+01]]\n",
            "\n",
            "  ...\n",
            "\n",
            "  [[2.23433777e+02 2.06862305e+02 1.88648041e+02]\n",
            "   [2.18882874e+02 2.03041016e+02 1.80239990e+02]\n",
            "   [2.20729507e+02 2.02300934e+02 1.78086639e+02]\n",
            "   ...\n",
            "   [2.15688400e+02 7.80456009e+01 6.26883965e+01]\n",
            "   [2.20142822e+02 8.05713501e+01 6.59998779e+01]\n",
            "   [2.14734680e+02 7.51632080e+01 6.05917358e+01]]\n",
            "\n",
            "  [[2.21872437e+02 2.04872437e+02 1.84872437e+02]\n",
            "   [2.21724487e+02 2.03724487e+02 1.81724487e+02]\n",
            "   [2.25811172e+02 2.07382599e+02 1.83168320e+02]\n",
            "   ...\n",
            "   [2.19096954e+02 8.25254898e+01 6.40408249e+01]\n",
            "   [2.22270279e+02 8.21324921e+01 6.49947128e+01]\n",
            "   [2.11540543e+02 7.03976593e+01 5.30659943e+01]]\n",
            "\n",
            "  [[2.25596939e+02 2.07596939e+02 1.87596939e+02]\n",
            "   [2.21683517e+02 2.03683517e+02 1.81683517e+02]\n",
            "   [2.23602432e+02 2.03173859e+02 1.79173859e+02]\n",
            "   ...\n",
            "   [2.17505081e+02 8.08774109e+01 5.91580582e+01]\n",
            "   [2.14188538e+02 7.27854309e+01 5.27854309e+01]\n",
            "   [1.99958466e+02 5.49584694e+01 3.59584694e+01]]]\n",
            "\n",
            "\n",
            " [[[4.84183693e+00 4.84183693e+00 6.84183693e+00]\n",
            "   [6.85714293e+00 6.85714293e+00 8.85714340e+00]\n",
            "   [5.00000000e+00 5.00000000e+00 7.00000000e+00]\n",
            "   ...\n",
            "   [3.14285622e+01 2.79999733e+01 2.12142677e+01]\n",
            "   [2.97142677e+01 2.47142677e+01 1.87142677e+01]\n",
            "   [2.96428566e+01 2.46428566e+01 1.86428566e+01]]\n",
            "\n",
            "  [[5.02551031e+00 5.02551031e+00 7.02551031e+00]\n",
            "   [4.99489784e+00 4.99489784e+00 6.99489784e+00]\n",
            "   [4.05612230e+00 4.05612230e+00 6.05612230e+00]\n",
            "   ...\n",
            "   [2.91428566e+01 2.57142677e+01 1.89285622e+01]\n",
            "   [2.82142677e+01 2.32142677e+01 1.72142677e+01]\n",
            "   [2.87397919e+01 2.37397919e+01 1.77397919e+01]]\n",
            "\n",
            "  [[5.50000000e+00 5.50000000e+00 7.50000000e+00]\n",
            "   [4.51530600e+00 4.51530600e+00 6.51530600e+00]\n",
            "   [6.26020432e+00 6.26020432e+00 8.26020432e+00]\n",
            "   ...\n",
            "   [2.83571339e+01 2.59999924e+01 1.87857056e+01]\n",
            "   [2.75714283e+01 2.52142868e+01 1.80000000e+01]\n",
            "   [2.82142811e+01 2.58571396e+01 1.86428528e+01]]\n",
            "\n",
            "  ...\n",
            "\n",
            "  [[2.13423431e+02 2.19785736e+02 1.96571411e+02]\n",
            "   [2.17285721e+02 2.18984695e+02 1.97285690e+02]\n",
            "   [2.22571426e+02 2.18168365e+02 1.98214264e+02]\n",
            "   ...\n",
            "   [1.98214294e+02 1.83954086e+02 1.55428528e+02]\n",
            "   [1.98270370e+02 1.83255066e+02 1.54300980e+02]\n",
            "   [1.98214264e+02 1.83214264e+02 1.53204041e+02]]\n",
            "\n",
            "  [[2.18949020e+02 2.20000000e+02 1.95265305e+02]\n",
            "   [2.22418396e+02 2.19857132e+02 1.96857117e+02]\n",
            "   [2.25071442e+02 2.18928558e+02 1.96969376e+02]\n",
            "   ...\n",
            "   [1.95214294e+02 1.81785706e+02 1.49969376e+02]\n",
            "   [1.96000000e+02 1.81000000e+02 1.48132614e+02]\n",
            "   [1.95071442e+02 1.80071442e+02 1.47071442e+02]]\n",
            "\n",
            "  [[2.23943893e+02 2.18642822e+02 1.92229584e+02]\n",
            "   [2.27668335e+02 2.17617310e+02 1.92642822e+02]\n",
            "   [2.27494919e+02 2.16275497e+02 1.93709183e+02]\n",
            "   ...\n",
            "   [1.94285645e+02 1.80857056e+02 1.47071350e+02]\n",
            "   [1.94285645e+02 1.79285645e+02 1.46285645e+02]\n",
            "   [1.95285675e+02 1.81285675e+02 1.46285675e+02]]]\n",
            "\n",
            "\n",
            " [[[2.04403061e+02 1.43117355e+02 8.17602005e+01]\n",
            "   [2.01239792e+02 1.41954071e+02 7.95969391e+01]\n",
            "   [2.01862244e+02 1.42576538e+02 7.92193832e+01]\n",
            "   ...\n",
            "   [2.57140684e+00 6.92861509e+00 1.14287889e+00]\n",
            "   [3.00000000e+00 4.85711670e+00 1.92855835e+00]\n",
            "   [5.61230469e+00 4.22961426e+00 2.35717773e+00]]\n",
            "\n",
            "  [[1.89852036e+02 1.23331627e+02 6.22602005e+01]\n",
            "   [1.78989792e+02 1.13000000e+02 5.19285660e+01]\n",
            "   [1.80556122e+02 1.16770401e+02 5.56275444e+01]\n",
            "   ...\n",
            "   [2.80104065e+00 2.91328812e+00 8.57164383e-01]\n",
            "   [2.93367457e+00 3.06632543e+00 1.00000000e+00]\n",
            "   [1.73976314e+00 2.40309334e+00 7.14282990e-02]]\n",
            "\n",
            "  [[1.55867355e+02 8.63673401e+01 3.29336700e+01]\n",
            "   [1.53071426e+02 8.39540787e+01 3.26275482e+01]\n",
            "   [1.49403061e+02 8.32602081e+01 3.20204086e+01]\n",
            "   ...\n",
            "   [4.52558041e+00 1.04589176e+00 2.42857170e+00]\n",
            "   [6.05609369e+00 2.34186029e+00 3.27041864e+00]\n",
            "   [0.00000000e+00 3.71936035e+00 4.89781290e-01]]\n",
            "\n",
            "  ...\n",
            "\n",
            "  [[1.77229507e+02 1.72505051e+02 1.69581573e+02]\n",
            "   [1.72959198e+02 1.68744934e+02 1.65744934e+02]\n",
            "   [1.73352051e+02 1.69137787e+02 1.66137787e+02]\n",
            "   ...\n",
            "   [1.66428528e+02 1.44811142e+02 1.29571472e+02]\n",
            "   [1.68857178e+02 1.49857178e+02 1.34428650e+02]\n",
            "   [1.68428558e+02 1.51428558e+02 1.35000031e+02]]\n",
            "\n",
            "  [[1.76877518e+02 1.75877518e+02 1.71877518e+02]\n",
            "   [1.73209198e+02 1.69209198e+02 1.66209198e+02]\n",
            "   [1.75311203e+02 1.71311203e+02 1.68311203e+02]\n",
            "   ...\n",
            "   [1.71770432e+02 1.49556168e+02 1.35127640e+02]\n",
            "   [1.73265350e+02 1.54066345e+02 1.39132675e+02]\n",
            "   [1.72714264e+02 1.55622421e+02 1.39668335e+02]]\n",
            "\n",
            "  [[1.73709351e+02 1.72709351e+02 1.68709351e+02]\n",
            "   [1.71198715e+02 1.70198715e+02 1.66198715e+02]\n",
            "   [1.70173370e+02 1.69173370e+02 1.65173370e+02]\n",
            "   ...\n",
            "   [1.77852127e+02 1.54852127e+02 1.40423599e+02]\n",
            "   [1.72479538e+02 1.50617310e+02 1.36571381e+02]\n",
            "   [1.71841934e+02 1.52841934e+02 1.37841934e+02]]]], shape=(32, 224, 224, 3), dtype=float32) tf.Tensor(\n",
            "[[0. 0. 0. 0. 1. 0. 0. 0. 0. 0.]\n",
            " [0. 0. 0. 0. 1. 0. 0. 0. 0. 0.]\n",
            " [0. 0. 0. 0. 0. 0. 0. 1. 0. 0.]\n",
            " [0. 0. 1. 0. 0. 0. 0. 0. 0. 0.]\n",
            " [0. 0. 0. 0. 0. 0. 0. 0. 0. 1.]\n",
            " [0. 1. 0. 0. 0. 0. 0. 0. 0. 0.]\n",
            " [0. 0. 1. 0. 0. 0. 0. 0. 0. 0.]\n",
            " [0. 1. 0. 0. 0. 0. 0. 0. 0. 0.]\n",
            " [0. 0. 0. 0. 0. 1. 0. 0. 0. 0.]\n",
            " [0. 0. 0. 0. 0. 0. 1. 0. 0. 0.]\n",
            " [0. 0. 0. 0. 0. 0. 0. 0. 0. 1.]\n",
            " [0. 0. 1. 0. 0. 0. 0. 0. 0. 0.]\n",
            " [0. 0. 0. 0. 0. 1. 0. 0. 0. 0.]\n",
            " [0. 0. 0. 0. 1. 0. 0. 0. 0. 0.]\n",
            " [0. 0. 0. 0. 0. 0. 0. 0. 1. 0.]\n",
            " [0. 1. 0. 0. 0. 0. 0. 0. 0. 0.]\n",
            " [0. 0. 0. 0. 0. 0. 1. 0. 0. 0.]\n",
            " [0. 0. 0. 0. 1. 0. 0. 0. 0. 0.]\n",
            " [0. 0. 0. 0. 0. 0. 0. 0. 0. 1.]\n",
            " [0. 0. 0. 0. 0. 0. 0. 0. 0. 1.]\n",
            " [0. 1. 0. 0. 0. 0. 0. 0. 0. 0.]\n",
            " [0. 0. 1. 0. 0. 0. 0. 0. 0. 0.]\n",
            " [0. 0. 0. 0. 0. 1. 0. 0. 0. 0.]\n",
            " [0. 1. 0. 0. 0. 0. 0. 0. 0. 0.]\n",
            " [0. 0. 0. 0. 0. 0. 0. 0. 0. 1.]\n",
            " [0. 0. 0. 0. 0. 0. 1. 0. 0. 0.]\n",
            " [0. 0. 0. 0. 0. 0. 0. 1. 0. 0.]\n",
            " [0. 0. 0. 0. 0. 0. 0. 0. 0. 1.]\n",
            " [0. 1. 0. 0. 0. 0. 0. 0. 0. 0.]\n",
            " [0. 0. 0. 0. 0. 0. 0. 0. 1. 0.]\n",
            " [0. 0. 0. 0. 0. 0. 1. 0. 0. 0.]\n",
            " [0. 1. 0. 0. 0. 0. 0. 0. 0. 0.]], shape=(32, 10), dtype=float32)\n"
          ]
        }
      ]
    },
    {
      "cell_type": "markdown",
      "source": [
        "## Build Transfer Learning model using Functional API\n",
        "\n",
        "The Sequential API is straight forward, it runs our layer in sequential order\n",
        "\n",
        "But the Functional API gives us more flexibility with our models :- \n",
        "\n",
        "[Tensorflow Keras Functional API](https://www.tensorflow.org/guide/keras/functional)"
      ],
      "metadata": {
        "id": "GsWSb0zW1hyU"
      }
    },
    {
      "cell_type": "code",
      "source": [
        "# 1. Create bas model with tf.keras.applications\n",
        "base_model = tf.keras.applications.EfficientNetB0(include_top=False)\n",
        "\n",
        "# 2. Freeze the base model (so the underlying pre-trained patterns aren't updated during training)\n",
        "base_model.trainable = False\n",
        "\n",
        "# 3. Create inputs in our model\n",
        "inputs = tf.keras.layers.Input(shape=(224.224.3), name=\"input_layer\")\n",
        "\n",
        "# 4. If using ResNet50V2 you will need to normalize inputs\n",
        "x = tf.keras.layers.experimental.preprocessing.Rescaling(1./255)(inputs)\n"
      ],
      "metadata": {
        "id": "Jte4mPvdwHsS"
      },
      "execution_count": null,
      "outputs": []
    }
  ]
}