{
  "nbformat": 4,
  "nbformat_minor": 0,
  "metadata": {
    "colab": {
      "name": "Multi_Class_Classification_using_Tensorflow_Practice.ipynb",
      "provenance": [],
      "toc_visible": true,
      "authorship_tag": "ABX9TyNKCdi/18pGc7o5a6HVbn1i",
      "include_colab_link": true
    },
    "kernelspec": {
      "name": "python3",
      "display_name": "Python 3"
    },
    "language_info": {
      "name": "python"
    }
  },
  "cells": [
    {
      "cell_type": "markdown",
      "metadata": {
        "id": "view-in-github",
        "colab_type": "text"
      },
      "source": [
        "<a href=\"https://colab.research.google.com/github/Priyo-prog/Deep-Learning-with-Tensorflow/blob/main/Neural%20Network%20Classification%20with%20Tensorflow/Multi_Class_Classification_using_Tensorflow_Practice.ipynb\" target=\"_parent\"><img src=\"https://colab.research.google.com/assets/colab-badge.svg\" alt=\"Open In Colab\"/></a>"
      ]
    },
    {
      "cell_type": "markdown",
      "metadata": {
        "id": "xhrs82uNhdi_"
      },
      "source": [
        "# Multi-Class Classification Using Tensorflow\n",
        "\n",
        "**Practice Session 1**"
      ]
    },
    {
      "cell_type": "markdown",
      "metadata": {
        "id": "d-38Q8zRh0f9"
      },
      "source": [
        "## Import Packages"
      ]
    },
    {
      "cell_type": "code",
      "metadata": {
        "id": "AC0Qqd22iK0p"
      },
      "source": [
        "import pandas as pd\n",
        "import numpy as np\n",
        "import matplotlib.pyplot as plt\n",
        "import tensorflow as tf"
      ],
      "execution_count": 1,
      "outputs": []
    },
    {
      "cell_type": "markdown",
      "metadata": {
        "id": "O1HgarE0iXxM"
      },
      "source": [
        "## Fetch the dataset"
      ]
    },
    {
      "cell_type": "code",
      "metadata": {
        "id": "KcFiHgyzi0Ne"
      },
      "source": [
        "from tensorflow.dataset import fashion_mnist\n",
        "\n",
        "# Data is already sorted in training and testing set\n"
      ],
      "execution_count": null,
      "outputs": []
    }
  ]
}