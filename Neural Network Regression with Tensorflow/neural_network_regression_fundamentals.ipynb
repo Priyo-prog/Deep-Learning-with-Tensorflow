{
  "nbformat": 4,
  "nbformat_minor": 0,
  "metadata": {
    "colab": {
      "provenance": [],
      "authorship_tag": "ABX9TyMhCiITJa4wMeX7mpiKB0gS",
      "include_colab_link": true
    },
    "kernelspec": {
      "name": "python3",
      "display_name": "Python 3"
    },
    "language_info": {
      "name": "python"
    }
  },
  "cells": [
    {
      "cell_type": "markdown",
      "metadata": {
        "id": "view-in-github",
        "colab_type": "text"
      },
      "source": [
        "<a href=\"https://colab.research.google.com/github/Priyo-prog/Deep-Learning-with-Tensorflow/blob/main/Neural%20Network%20Regression%20with%20Tensorflow/neural_network_regression_fundamentals.ipynb\" target=\"_parent\"><img src=\"https://colab.research.google.com/assets/colab-badge.svg\" alt=\"Open In Colab\"/></a>"
      ]
    },
    {
      "cell_type": "markdown",
      "source": [
        "# Regression Neural Network"
      ],
      "metadata": {
        "id": "OL4fXivNhL6n"
      }
    },
    {
      "cell_type": "code",
      "source": [
        "import tensorflow as tf\n",
        "import matplotlib.pyplot as plt\n",
        "import numpy as np"
      ],
      "metadata": {
        "id": "dBp73Xgrhcs7"
      },
      "execution_count": 1,
      "outputs": []
    },
    {
      "cell_type": "markdown",
      "source": [
        "## Create Data to View and Fit"
      ],
      "metadata": {
        "id": "azGBBjNAmdqU"
      }
    },
    {
      "cell_type": "code",
      "source": [
        "# Create features\n",
        "X = np.array([-7.0, -4.0, -1.0, 2.0, 5.0, 8.0, 11.0, 14.0])\n",
        "\n",
        "# Create labels\n",
        "y = np.array([3.0, 6.0, 9.0, 12.0, 15.0, 18.0, 21.0, 24.0])\n",
        "\n",
        "# Visualize it\n",
        "plt.scatter(X, y)"
      ],
      "metadata": {
        "colab": {
          "base_uri": "https://localhost:8080/",
          "height": 452
        },
        "id": "EngqAweom7Q6",
        "outputId": "b7b88994-264f-4b7a-dae7-74d07c85ade0"
      },
      "execution_count": 2,
      "outputs": [
        {
          "output_type": "execute_result",
          "data": {
            "text/plain": [
              "<matplotlib.collections.PathCollection at 0x7eae214f8e80>"
            ]
          },
          "metadata": {},
          "execution_count": 2
        },
        {
          "output_type": "display_data",
          "data": {
            "text/plain": [
              "<Figure size 640x480 with 1 Axes>"
            ],
            "image/png": "[encoded data removed]"
          },
          "metadata": {}
        }
      ]
    },
    {
      "cell_type": "markdown",
      "source": [
        "## Input and output shapes"
      ],
      "metadata": {
        "id": "jFCeMB87nIjL"
      }
    },
    {
      "cell_type": "code",
      "source": [
        "# create a demo tensor for our house prediction problem\n",
        "house_info = tf.constant(['bedroom', 'bathroom', 'garage'])\n",
        "house_price = tf.constant([939700])\n",
        "house_price = tf.cast(house_price, dtype=tf.float32)"
      ],
      "metadata": {
        "id": "_WzJJSF3o5B6"
      },
      "execution_count": 3,
      "outputs": []
    },
    {
      "cell_type": "code",
      "source": [
        "input_shape = X[0].shape\n",
        "output_shape = y[0].shape\n",
        "input_shape, output_shape"
      ],
      "metadata": {
        "colab": {
          "base_uri": "https://localhost:8080/"
        },
        "id": "0j4jvoZipRXi",
        "outputId": "86aab473-3b44-4595-96fe-1a8d305e7c35"
      },
      "execution_count": 4,
      "outputs": [
        {
          "output_type": "execute_result",
          "data": {
            "text/plain": [
              "((), ())"
            ]
          },
          "metadata": {},
          "execution_count": 4
        }
      ]
    },
    {
      "cell_type": "markdown",
      "source": [
        "In the above case input shape and output shape is coming blank because they are tensors of rank 0, that means it has no dimension or 0 dimension"
      ],
      "metadata": {
        "id": "tM9wf70WpmU6"
      }
    },
    {
      "cell_type": "code",
      "source": [
        "X[0].ndim"
      ],
      "metadata": {
        "colab": {
          "base_uri": "https://localhost:8080/"
        },
        "id": "eFHxHADmpyXr",
        "outputId": "d5923e5f-c9fc-4b93-9d90-8ea3b227c820"
      },
      "execution_count": 5,
      "outputs": [
        {
          "output_type": "execute_result",
          "data": {
            "text/plain": [
              "0"
            ]
          },
          "metadata": {},
          "execution_count": 5
        }
      ]
    },
    {
      "cell_type": "markdown",
      "source": [
        "One of the most common error in deep learning is input and output shape"
      ],
      "metadata": {
        "id": "-noBn6qBqFYL"
      }
    },
    {
      "cell_type": "markdown",
      "source": [
        "## Turn Numpy Arrays To Tensors"
      ],
      "metadata": {
        "id": "4gQdQXnvqg4K"
      }
    },
    {
      "cell_type": "code",
      "source": [
        "X = tf.constant(X)\n",
        "y = tf.constant(y)\n",
        "X,y"
      ],
      "metadata": {
        "colab": {
          "base_uri": "https://localhost:8080/"
        },
        "id": "kLvUMdFHrJhb",
        "outputId": "19e18a0b-a024-4a6c-8e51-a40fbaedfb28"
      },
      "execution_count": 6,
      "outputs": [
        {
          "output_type": "execute_result",
          "data": {
            "text/plain": [
              "(<tf.Tensor: shape=(8,), dtype=float64, numpy=array([-7., -4., -1.,  2.,  5.,  8., 11., 14.])>,\n",
              " <tf.Tensor: shape=(8,), dtype=float64, numpy=array([ 3.,  6.,  9., 12., 15., 18., 21., 24.])>)"
            ]
          },
          "metadata": {},
          "execution_count": 6
        }
      ]
    },
    {
      "cell_type": "code",
      "source": [
        "X[0].shape, y[0].shape"
      ],
      "metadata": {
        "colab": {
          "base_uri": "https://localhost:8080/"
        },
        "id": "F206oN3WrMzD",
        "outputId": "f4e1cae4-9870-4577-ca5a-fc0ce46f15f1"
      },
      "execution_count": 7,
      "outputs": [
        {
          "output_type": "execute_result",
          "data": {
            "text/plain": [
              "(TensorShape([]), TensorShape([]))"
            ]
          },
          "metadata": {},
          "execution_count": 7
        }
      ]
    },
    {
      "cell_type": "code",
      "source": [
        "input_shape = X[0].shape\n",
        "output_shape = y[0].shape\n",
        "input_shape, output_shape"
      ],
      "metadata": {
        "colab": {
          "base_uri": "https://localhost:8080/"
        },
        "id": "4zxSeXBBrSvy",
        "outputId": "1c740584-3c74-4ebe-d40b-d35ff31d367d"
      },
      "execution_count": 8,
      "outputs": [
        {
          "output_type": "execute_result",
          "data": {
            "text/plain": [
              "(TensorShape([]), TensorShape([]))"
            ]
          },
          "metadata": {},
          "execution_count": 8
        }
      ]
    },
    {
      "cell_type": "markdown",
      "source": [
        "## Steps in modelling the tensorflow\n",
        "1. **Creating a model** - Define the input and output layers, as well as the hidden layers in the deep learning model\n",
        "2. **Compiling a model** - Define the `loss function` (in other words, the function which tells us our model how wrong it is) and the `optimizer` ( tells our model how to improve the pattern its learning) and evaluation metrics (what we can use to interpret the performance of our model).\n",
        "3. **Fitting a model** - Letting the model try to find patterns between X & y(features and labels)"
      ],
      "metadata": {
        "id": "ruHPW2Kprb6D"
      }
    },
    {
      "cell_type": "code",
      "source": [
        "# Seta random seed\n",
        "tf.random.set_seed(42)\n",
        "\n",
        "# 1. Create a model using the Sequential API\n",
        "model = tf.keras.Sequential([\n",
        "    tf.keras.layers.Dense(1)\n",
        "])\n",
        "\n",
        "# 2. Compile the model\n",
        "model.compile(loss=tf.keras.losses.mae,\n",
        "              optimizer=tf.keras.optimizers.SGD(),\n",
        "              metrics=['mae'])\n",
        "\n",
        "# 3. Fit the model (BOTH works tf.expand_dims() function as well as X[..., newaxis])\n",
        "# model.fit(tf.expand_dims(X, axis=-1), y, epochs=5)\n",
        "model.fit(X[..., tf.newaxis], y, epochs=5)"
      ],
      "metadata": {
        "colab": {
          "base_uri": "https://localhost:8080/"
        },
        "id": "9S2VTi40ro97",
        "outputId": "eff5bfff-c15d-481c-f3b7-977411728f21"
      },
      "execution_count": 9,
      "outputs": [
        {
          "output_type": "stream",
          "name": "stdout",
          "text": [
            "Epoch 1/5\n",
            "1/1 [==============================] - 1s 1s/step - loss: 9.0446 - mae: 9.0446\n",
            "Epoch 2/5\n",
            "1/1 [==============================] - 0s 38ms/step - loss: 8.9121 - mae: 8.9121\n",
            "Epoch 3/5\n",
            "1/1 [==============================] - 0s 11ms/step - loss: 8.7796 - mae: 8.7796\n",
            "Epoch 4/5\n",
            "1/1 [==============================] - 0s 11ms/step - loss: 8.6471 - mae: 8.6471\n",
            "Epoch 5/5\n",
            "1/1 [==============================] - 0s 13ms/step - loss: 8.5146 - mae: 8.5146\n"
          ]
        },
        {
          "output_type": "execute_result",
          "data": {
            "text/plain": [
              "<keras.src.callbacks.History at 0x7eae1c105d20>"
            ]
          },
          "metadata": {},
          "execution_count": 9
        }
      ]
    },
    {
      "cell_type": "markdown",
      "source": [
        "### Alternative way"
      ],
      "metadata": {
        "id": "fdXQ1PSK2VFC"
      }
    },
    {
      "cell_type": "code",
      "source": [
        "tf.random.set_seed(42)\n",
        "\n",
        "# Create thw model\n",
        "model = tf.keras.Sequential([])\n",
        "\n",
        "# Add a layer to the model\n",
        "model.add(tf.keras.layers.Dense(1))\n",
        "\n",
        "# compile the model\n",
        "model.compile(loss=tf.keras.losses.mae,\n",
        "              optimizer=tf.keras.optimizers.SGD(),\n",
        "              metrics=['mae'])\n",
        "# Fit the model\n",
        "model.fit(X[..., tf.newaxis], y, epochs=5)"
      ],
      "metadata": {
        "colab": {
          "base_uri": "https://localhost:8080/"
        },
        "id": "khgv6y7b3dOb",
        "outputId": "41641684-f690-40e7-e195-b2752d626c36"
      },
      "execution_count": 10,
      "outputs": [
        {
          "output_type": "stream",
          "name": "stdout",
          "text": [
            "Epoch 1/5\n",
            "1/1 [==============================] - 1s 895ms/step - loss: 15.5879 - mae: 15.5879\n",
            "Epoch 2/5\n",
            "1/1 [==============================] - 0s 31ms/step - loss: 15.3066 - mae: 15.3066\n",
            "Epoch 3/5\n",
            "1/1 [==============================] - 0s 31ms/step - loss: 15.0254 - mae: 15.0254\n",
            "Epoch 4/5\n",
            "1/1 [==============================] - 0s 12ms/step - loss: 14.8182 - mae: 14.8182\n",
            "Epoch 5/5\n",
            "1/1 [==============================] - 0s 14ms/step - loss: 14.6857 - mae: 14.6857\n"
          ]
        },
        {
          "output_type": "execute_result",
          "data": {
            "text/plain": [
              "<keras.src.callbacks.History at 0x7eae0f78fcd0>"
            ]
          },
          "metadata": {},
          "execution_count": 10
        }
      ]
    },
    {
      "cell_type": "code",
      "source": [
        "# Predict the label from the model\n",
        "y_pred = model.predict([17.0])\n",
        "y_pred"
      ],
      "metadata": {
        "colab": {
          "base_uri": "https://localhost:8080/"
        },
        "id": "IjdAluNB5G-s",
        "outputId": "8129fa29-f8a6-4e90-f7e8-52d05ad1e5ab"
      },
      "execution_count": 11,
      "outputs": [
        {
          "output_type": "stream",
          "name": "stdout",
          "text": [
            "1/1 [==============================] - 0s 268ms/step\n"
          ]
        },
        {
          "output_type": "execute_result",
          "data": {
            "text/plain": [
              "array([[-5.2793536]], dtype=float32)"
            ]
          },
          "metadata": {},
          "execution_count": 11
        }
      ]
    },
    {
      "cell_type": "code",
      "source": [
        "y_pred = model.predict(y)\n",
        "y_pred"
      ],
      "metadata": {
        "colab": {
          "base_uri": "https://localhost:8080/"
        },
        "id": "iE9x3E9E6gtc",
        "outputId": "a601c2a5-8fe3-451f-d0bf-da90a629945b"
      },
      "execution_count": 12,
      "outputs": [
        {
          "output_type": "stream",
          "name": "stdout",
          "text": [
            "1/1 [==============================] - 0s 217ms/step\n"
          ]
        },
        {
          "output_type": "execute_result",
          "data": {
            "text/plain": [
              "array([[-0.8966506],\n",
              "       [-1.8358012],\n",
              "       [-2.774952 ],\n",
              "       [-3.7141025],\n",
              "       [-4.653253 ],\n",
              "       [-5.592404 ],\n",
              "       [-6.531554 ],\n",
              "       [-7.470705 ]], dtype=float32)"
            ]
          },
          "metadata": {},
          "execution_count": 12
        }
      ]
    },
    {
      "cell_type": "markdown",
      "source": [
        "## Improving the model\n",
        "We can improve our model, by altering the steps we took to create the model.\n",
        "\n",
        "1. **Creating a model** - Here we might add more layers, increase the number of hidden units (all called neurons) within each of the hidden layers, change the activation function of each layer.\n",
        "\n",
        "2. **Compiling a model** - here we might change the optimization function or perhaps the learning rate of the optimization function.\n",
        "\n",
        "3. **Fitting a model** - Here we might fit the model for more epochs (leave it training for longer) or on more data (give the model more examples to learn from)."
      ],
      "metadata": {
        "id": "oe6AgcED6rG0"
      }
    },
    {
      "cell_type": "code",
      "source": [
        "# Let's rebuild the model\n",
        "model = tf.keras.Sequential([\n",
        "    tf.keras.layers.Dense(1)\n",
        "])\n",
        "\n",
        "# Compile the model\n",
        "model.compile(loss=tf.keras.losses.mae,\n",
        "              optimizer=tf.keras.optimizers.SGD(),\n",
        "              metrics=['mae'])\n",
        "\n",
        "# Fit the model\n",
        "model.fit(X[..., tf.newaxis], y, epochs=100, verbose=0)"
      ],
      "metadata": {
        "colab": {
          "base_uri": "https://localhost:8080/"
        },
        "id": "9ySmAT1LU-xT",
        "outputId": "dc215104-ee9e-4972-9aea-1f4a99470c75"
      },
      "execution_count": 13,
      "outputs": [
        {
          "output_type": "execute_result",
          "data": {
            "text/plain": [
              "<keras.src.callbacks.History at 0x7eae1ca06440>"
            ]
          },
          "metadata": {},
          "execution_count": 13
        }
      ]
    },
    {
      "cell_type": "markdown",
      "source": [
        "## See the History of the Model"
      ],
      "metadata": {
        "id": "Bl6po0DAVYbd"
      }
    },
    {
      "cell_type": "code",
      "source": [
        "type(model.history.history)"
      ],
      "metadata": {
        "colab": {
          "base_uri": "https://localhost:8080/"
        },
        "id": "Lp7UYaDmXH-E",
        "outputId": "51b0e7a9-47a8-4755-c2dc-0633972a51d9"
      },
      "execution_count": 14,
      "outputs": [
        {
          "output_type": "execute_result",
          "data": {
            "text/plain": [
              "dict"
            ]
          },
          "metadata": {},
          "execution_count": 14
        }
      ]
    },
    {
      "cell_type": "code",
      "source": [
        "loss_history = model.history.history[\"loss\"]\n",
        "mae_history = model.history.history[\"mae\"]\n",
        "\n",
        "# Last loss\n",
        "last_loss = loss_history[-1]\n",
        "last_mae = mae_history[-1]\n",
        "last_loss, last_mae"
      ],
      "metadata": {
        "colab": {
          "base_uri": "https://localhost:8080/"
        },
        "id": "ixffYVC_WwSV",
        "outputId": "7802249b-6226-4fd6-8c9c-d4cb8fbb138c"
      },
      "execution_count": 15,
      "outputs": [
        {
          "output_type": "execute_result",
          "data": {
            "text/plain": [
              "(6.885000228881836, 6.885000228881836)"
            ]
          },
          "metadata": {},
          "execution_count": 15
        }
      ]
    },
    {
      "cell_type": "code",
      "source": [
        "# create model with extra hidden layer and activation function\n",
        "model = tf.keras.Sequential([\n",
        "    tf.keras.layers.Dense(100, activation=\"relu\"),\n",
        "    tf.keras.layers.Dense(1)\n",
        "])\n",
        "\n",
        "model.compile(loss=tf.keras.losses.mae,\n",
        "              optimizer=tf.keras.optimizers.Adam(learning_rate=0.01),\n",
        "              metrics=['mae'])\n",
        "model.fit(tf.expand_dims(X, axis=-1), y, epochs=100, verbose=0)"
      ],
      "metadata": {
        "colab": {
          "base_uri": "https://localhost:8080/"
        },
        "id": "rPhU8G1terJ1",
        "outputId": "135d6a6a-f912-46d3-d70f-8f6b6a7c41b2"
      },
      "execution_count": 16,
      "outputs": [
        {
          "output_type": "execute_result",
          "data": {
            "text/plain": [
              "<keras.src.callbacks.History at 0x7eae1c8c9b10>"
            ]
          },
          "metadata": {},
          "execution_count": 16
        }
      ]
    },
    {
      "cell_type": "code",
      "source": [
        "loss_history = model.history.history[\"loss\"]\n",
        "mae_history = model.history.history[\"mae\"]\n",
        "\n",
        "# Last loss\n",
        "last_loss = loss_history[-1]\n",
        "last_mae = mae_history[-1]\n",
        "last_loss, last_mae"
      ],
      "metadata": {
        "id": "08mV7lWXfSXV",
        "outputId": "bfd3d568-d3d9-4b29-a298-07c57924f57d",
        "colab": {
          "base_uri": "https://localhost:8080/"
        }
      },
      "execution_count": 17,
      "outputs": [
        {
          "output_type": "execute_result",
          "data": {
            "text/plain": [
              "(0.3129599392414093, 0.3129599392414093)"
            ]
          },
          "metadata": {},
          "execution_count": 17
        }
      ]
    },
    {
      "cell_type": "markdown",
      "source": [
        "## Evaluating a tensorflow model\n",
        "In practice a typical workflow you'll go through when building neural network is :\n",
        "\n",
        "Build a model -> Fit it -> Evaluate it -> Tweak it -> ....\n",
        "\n",
        "When it comes to evaluation ... you should always remember... VISUALIZE..\n",
        "\n",
        "1. The data - What data we are working? what it looks like ?\n",
        "\n",
        "2. The model itself - What does our model look like\n",
        "\n",
        "3. The training of a model - How the model perform while it learns?\n",
        "\n",
        "4. The prediction of the model - How do the predictions of a model line up against the ground truth ?"
      ],
      "metadata": {
        "id": "7Dn7sKoifbzl"
      }
    },
    {
      "cell_type": "code",
      "source": [
        "# create a tensor data with more numbers\n",
        "X = tf.range(-100, 100, 4)\n",
        "X"
      ],
      "metadata": {
        "id": "CI4ZrUqQiga9",
        "outputId": "9cdeb73f-f720-44b5-b173-9a09d4116f9d",
        "colab": {
          "base_uri": "https://localhost:8080/"
        }
      },
      "execution_count": 18,
      "outputs": [
        {
          "output_type": "execute_result",
          "data": {
            "text/plain": [
              "<tf.Tensor: shape=(50,), dtype=int32, numpy=\n",
              "array([-100,  -96,  -92,  -88,  -84,  -80,  -76,  -72,  -68,  -64,  -60,\n",
              "        -56,  -52,  -48,  -44,  -40,  -36,  -32,  -28,  -24,  -20,  -16,\n",
              "        -12,   -8,   -4,    0,    4,    8,   12,   16,   20,   24,   28,\n",
              "         32,   36,   40,   44,   48,   52,   56,   60,   64,   68,   72,\n",
              "         76,   80,   84,   88,   92,   96], dtype=int32)>"
            ]
          },
          "metadata": {},
          "execution_count": 18
        }
      ]
    },
    {
      "cell_type": "code",
      "source": [
        "# Make labels for the data\n",
        "y = X+10\n",
        "y"
      ],
      "metadata": {
        "id": "0B_FSGc0mKOF",
        "outputId": "ca599ea1-3db3-468b-898c-c0ff6f08893c",
        "colab": {
          "base_uri": "https://localhost:8080/"
        }
      },
      "execution_count": 19,
      "outputs": [
        {
          "output_type": "execute_result",
          "data": {
            "text/plain": [
              "<tf.Tensor: shape=(50,), dtype=int32, numpy=\n",
              "array([-90, -86, -82, -78, -74, -70, -66, -62, -58, -54, -50, -46, -42,\n",
              "       -38, -34, -30, -26, -22, -18, -14, -10,  -6,  -2,   2,   6,  10,\n",
              "        14,  18,  22,  26,  30,  34,  38,  42,  46,  50,  54,  58,  62,\n",
              "        66,  70,  74,  78,  82,  86,  90,  94,  98, 102, 106], dtype=int32)>"
            ]
          },
          "metadata": {},
          "execution_count": 19
        }
      ]
    },
    {
      "cell_type": "markdown",
      "source": [
        "## Split the data to training and tseting set\n",
        "\n",
        "1. **The training set** - The model learns from this data, which is typically 70-80% of the total data\n",
        "\n",
        "2. **Validation set** - The model gets tuned in this data, which is typically 10-15% of the total data.\n",
        "\n",
        "3. **Test set** - the model gets evaluated in this set to test what it has learned, this set is typically 10-15% of the total data available"
      ],
      "metadata": {
        "id": "5n1ljRLKmOQ9"
      }
    },
    {
      "cell_type": "code",
      "source": [
        "# Check how many samplse we have\n",
        "len(X)"
      ],
      "metadata": {
        "id": "Z8LRq16JmdUk",
        "outputId": "84c4bffe-a271-4ee6-db69-eb98a3a82276",
        "colab": {
          "base_uri": "https://localhost:8080/"
        }
      },
      "execution_count": 20,
      "outputs": [
        {
          "output_type": "execute_result",
          "data": {
            "text/plain": [
              "50"
            ]
          },
          "metadata": {},
          "execution_count": 20
        }
      ]
    },
    {
      "cell_type": "code",
      "source": [
        "# Split the data\n",
        "X_train = X[:40]\n",
        "y_train = y[:40]\n",
        "\n",
        "X_test = X[40:]\n",
        "y_test = y[40:]\n",
        "\n",
        "len(X_train), len(X_test), len(y_train), len(y_test)"
      ],
      "metadata": {
        "id": "fK4qVUxAm9Vt",
        "outputId": "dce15e40-43fb-4e79-b298-c0ce936eaf48",
        "colab": {
          "base_uri": "https://localhost:8080/"
        }
      },
      "execution_count": 21,
      "outputs": [
        {
          "output_type": "execute_result",
          "data": {
            "text/plain": [
              "(40, 10, 40, 10)"
            ]
          },
          "metadata": {},
          "execution_count": 21
        }
      ]
    },
    {
      "cell_type": "code",
      "source": [
        "# Visualizing the data\n",
        "plt.figure(figsize=(7, 5))\n",
        "plt.scatter(X_train, y_train, c=\"b\", label=\"Training data\")\n",
        "plt.scatter(X_test, y_test, c=\"g\", label=\"Testing data\")\n",
        "plt.legend()"
      ],
      "metadata": {
        "id": "fFOosNDqnTg9",
        "outputId": "7324b3ca-cd23-4854-f990-27f1c327878f",
        "colab": {
          "base_uri": "https://localhost:8080/",
          "height": 462
        }
      },
      "execution_count": 22,
      "outputs": [
        {
          "output_type": "execute_result",
          "data": {
            "text/plain": [
              "<matplotlib.legend.Legend at 0x7eae1c809a20>"
            ]
          },
          "metadata": {},
          "execution_count": 22
        },
        {
          "output_type": "display_data",
          "data": {
            "text/plain": [
              "<Figure size 700x500 with 1 Axes>"
            ],
            "image/png": "[encoded data removed]"
          },
          "metadata": {}
        }
      ]
    },
    {
      "cell_type": "markdown",
      "source": [
        "## Getting Model Summary"
      ],
      "metadata": {
        "id": "vLRNtXw5nmSd"
      }
    },
    {
      "cell_type": "code",
      "source": [
        "model = tf.keras.Sequential([\n",
        "    tf.keras.layers.Dense(1)\n",
        "])\n",
        "\n",
        "model.compile(loss=tf.keras.losses.mae,\n",
        "              optimizer=tf.keras.optimizers.SGD(),\n",
        "              metrics=['mae'])\n",
        "\n",
        "model.fit(tf.expand_dims(X_train, axis=-1), y_train, epochs=100, verbose=0)"
      ],
      "metadata": {
        "id": "0IDl5z4Svc2d",
        "outputId": "726019d7-4238-4ee0-eb98-af2458fa4680",
        "colab": {
          "base_uri": "https://localhost:8080/"
        }
      },
      "execution_count": 23,
      "outputs": [
        {
          "output_type": "execute_result",
          "data": {
            "text/plain": [
              "<keras.src.callbacks.History at 0x7eae0a244eb0>"
            ]
          },
          "metadata": {},
          "execution_count": 23
        }
      ]
    },
    {
      "cell_type": "code",
      "source": [
        "model.summary()"
      ],
      "metadata": {
        "id": "TyH1m4LtvpjO",
        "outputId": "d578d2e9-8763-456b-c3f8-726dd2c45555",
        "colab": {
          "base_uri": "https://localhost:8080/"
        }
      },
      "execution_count": 24,
      "outputs": [
        {
          "output_type": "stream",
          "name": "stdout",
          "text": [
            "Model: \"sequential_4\"\n",
            "_________________________________________________________________\n",
            " Layer (type)                Output Shape              Param #   \n",
            "=================================================================\n",
            " dense_5 (Dense)             (None, 1)                 2         \n",
            "                                                                 \n",
            "=================================================================\n",
            "Total params: 2 (8.00 Byte)\n",
            "Trainable params: 2 (8.00 Byte)\n",
            "Non-trainable params: 0 (0.00 Byte)\n",
            "_________________________________________________________________\n"
          ]
        }
      ]
    },
    {
      "cell_type": "markdown",
      "source": [
        "1. **Total params** - Total number of parameters in the model.\n",
        "\n",
        "2. **Trainable parameters** - These are the parameters (patterns) the model can update as it trains.\n",
        "\n",
        "3. **Non-trainable params** - These are already trained parameters, not required to trained ( this is typical when you bring in already learned patterns or parameters from other models during **transfer learning** )"
      ],
      "metadata": {
        "id": "zalSMtUCvrhN"
      }
    },
    {
      "cell_type": "markdown",
      "source": [
        "## Plot The Model"
      ],
      "metadata": {
        "id": "YNHvErLBwNkd"
      }
    },
    {
      "cell_type": "code",
      "source": [
        "from tensorflow.keras.utils import plot_model\n",
        "\n",
        "plot_model(model,show_shapes=True)"
      ],
      "metadata": {
        "id": "HorIfWnlwYV8",
        "outputId": "4d671980-4c51-478a-8f1d-5a7132694fbf",
        "colab": {
          "base_uri": "https://localhost:8080/",
          "height": 201
        }
      },
      "execution_count": 25,
      "outputs": [
        {
          "output_type": "execute_result",
          "data": {
            "image/png": "[encoded data removed]",
            "text/plain": [
              "<IPython.core.display.Image object>"
            ]
          },
          "metadata": {},
          "execution_count": 25
        }
      ]
    },
    {
      "cell_type": "code",
      "source": [],
      "metadata": {
        "id": "qAZDu6HVwaSd"
      },
      "execution_count": null,
      "outputs": []
    }
  ]
}