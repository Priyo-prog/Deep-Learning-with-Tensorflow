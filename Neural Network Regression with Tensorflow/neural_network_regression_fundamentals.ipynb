{
  "nbformat": 4,
  "nbformat_minor": 0,
  "metadata": {
    "colab": {
      "provenance": [],
      "authorship_tag": "ABX9TyN0SuIj8b3Vetk9VNBtDLcc",
      "include_colab_link": true
    },
    "kernelspec": {
      "name": "python3",
      "display_name": "Python 3"
    },
    "language_info": {
      "name": "python"
    }
  },
  "cells": [
    {
      "cell_type": "markdown",
      "metadata": {
        "id": "view-in-github",
        "colab_type": "text"
      },
      "source": [
        "<a href=\"https://colab.research.google.com/github/Priyo-prog/Deep-Learning-with-Tensorflow/blob/main/Neural%20Network%20Regression%20with%20Tensorflow/neural_network_regression_fundamentals.ipynb\" target=\"_parent\"><img src=\"https://colab.research.google.com/assets/colab-badge.svg\" alt=\"Open In Colab\"/></a>"
      ]
    },
    {
      "cell_type": "markdown",
      "source": [
        "# Regression Neural Network"
      ],
      "metadata": {
        "id": "OL4fXivNhL6n"
      }
    },
    {
      "cell_type": "code",
      "source": [
        "import tensorflow as tf\n",
        "import matplotlib.pyplot as plt\n",
        "import numpy as np"
      ],
      "metadata": {
        "id": "dBp73Xgrhcs7"
      },
      "execution_count": 4,
      "outputs": []
    },
    {
      "cell_type": "markdown",
      "source": [
        "## Create Data to View and Fit"
      ],
      "metadata": {
        "id": "azGBBjNAmdqU"
      }
    },
    {
      "cell_type": "code",
      "source": [
        "# Create features\n",
        "X = np.array([-7.0, -4.0, -1.0, 2.0, 5.0, 8.0, 11.0, 14.0])\n",
        "\n",
        "# Create labels\n",
        "y = np.array([3.0, 6.0, 9.0, 12.0, 15.0, 18.0, 21.0, 24.0])\n",
        "\n",
        "# Visualize it\n",
        "plt.scatter(X, y)"
      ],
      "metadata": {
        "colab": {
          "base_uri": "https://localhost:8080/",
          "height": 452
        },
        "id": "EngqAweom7Q6",
        "outputId": "53f3d1a8-bc99-4b6d-839d-46964f799019"
      },
      "execution_count": 5,
      "outputs": [
        {
          "output_type": "execute_result",
          "data": {
            "text/plain": [
              "<matplotlib.collections.PathCollection at 0x7fc67866db40>"
            ]
          },
          "metadata": {},
          "execution_count": 5
        },
        {
          "output_type": "display_data",
          "data": {
            "text/plain": [
              "<Figure size 640x480 with 1 Axes>"
            ],
            "image/png": "[encoded data removed]"
          },
          "metadata": {}
        }
      ]
    },
    {
      "cell_type": "markdown",
      "source": [
        "## Input and output shapes"
      ],
      "metadata": {
        "id": "jFCeMB87nIjL"
      }
    },
    {
      "cell_type": "code",
      "source": [
        "# create a demo tensor for our house prediction problem\n",
        "house_info = tf.constant(['bedroom', 'bathroom', 'garage'])\n",
        "house_price = tf.constant([939700])\n",
        "house_price = tf.cast(house_price, dtype=tf.float32)"
      ],
      "metadata": {
        "id": "_WzJJSF3o5B6"
      },
      "execution_count": 6,
      "outputs": []
    },
    {
      "cell_type": "code",
      "source": [
        "input_shape = X[0].shape\n",
        "output_shape = y[0].shape\n",
        "input_shape, output_shape"
      ],
      "metadata": {
        "colab": {
          "base_uri": "https://localhost:8080/"
        },
        "id": "0j4jvoZipRXi",
        "outputId": "a61f912f-575c-4a8e-8b63-36f3dba02d67"
      },
      "execution_count": 7,
      "outputs": [
        {
          "output_type": "execute_result",
          "data": {
            "text/plain": [
              "((), ())"
            ]
          },
          "metadata": {},
          "execution_count": 7
        }
      ]
    },
    {
      "cell_type": "markdown",
      "source": [
        "In the above case input shape and output shape is coming blank because they are tensors of rank 0, that means it has no dimension or 0 dimension"
      ],
      "metadata": {
        "id": "tM9wf70WpmU6"
      }
    },
    {
      "cell_type": "code",
      "source": [
        "X[0].ndim"
      ],
      "metadata": {
        "colab": {
          "base_uri": "https://localhost:8080/"
        },
        "id": "eFHxHADmpyXr",
        "outputId": "11675539-c3bc-4d69-e743-facd6fd1da86"
      },
      "execution_count": 8,
      "outputs": [
        {
          "output_type": "execute_result",
          "data": {
            "text/plain": [
              "0"
            ]
          },
          "metadata": {},
          "execution_count": 8
        }
      ]
    },
    {
      "cell_type": "markdown",
      "source": [
        "One of the most common error in deep learning is input and output shape"
      ],
      "metadata": {
        "id": "-noBn6qBqFYL"
      }
    },
    {
      "cell_type": "markdown",
      "source": [
        "## Turn Numpy Arrays To Tensors"
      ],
      "metadata": {
        "id": "4gQdQXnvqg4K"
      }
    },
    {
      "cell_type": "code",
      "source": [
        "X = tf.constant(X)\n",
        "y = tf.constant(y)\n",
        "X,y"
      ],
      "metadata": {
        "colab": {
          "base_uri": "https://localhost:8080/"
        },
        "id": "kLvUMdFHrJhb",
        "outputId": "ef73c35c-3a66-42e8-cff1-f76f87bfd2f4"
      },
      "execution_count": 12,
      "outputs": [
        {
          "output_type": "execute_result",
          "data": {
            "text/plain": [
              "(<tf.Tensor: shape=(8,), dtype=float64, numpy=array([-7., -4., -1.,  2.,  5.,  8., 11., 14.])>,\n",
              " <tf.Tensor: shape=(8,), dtype=float64, numpy=array([ 3.,  6.,  9., 12., 15., 18., 21., 24.])>)"
            ]
          },
          "metadata": {},
          "execution_count": 12
        }
      ]
    },
    {
      "cell_type": "code",
      "source": [
        "X[0].shape, y[0].shape"
      ],
      "metadata": {
        "colab": {
          "base_uri": "https://localhost:8080/"
        },
        "id": "F206oN3WrMzD",
        "outputId": "e0c026a8-e5de-4c20-f176-f0b4aed5fb37"
      },
      "execution_count": 11,
      "outputs": [
        {
          "output_type": "execute_result",
          "data": {
            "text/plain": [
              "(TensorShape([]), TensorShape([]))"
            ]
          },
          "metadata": {},
          "execution_count": 11
        }
      ]
    },
    {
      "cell_type": "code",
      "source": [
        "input_shape = X[0].shape\n",
        "output_shape = y[0].shape\n",
        "input_shape, output_shape"
      ],
      "metadata": {
        "colab": {
          "base_uri": "https://localhost:8080/"
        },
        "id": "4zxSeXBBrSvy",
        "outputId": "b1b2a13e-133d-4ec9-c29d-47994f78f279"
      },
      "execution_count": 13,
      "outputs": [
        {
          "output_type": "execute_result",
          "data": {
            "text/plain": [
              "(TensorShape([]), TensorShape([]))"
            ]
          },
          "metadata": {},
          "execution_count": 13
        }
      ]
    },
    {
      "cell_type": "markdown",
      "source": [
        "## Steps in modelling the tensorflow\n",
        "1. **Creating a model** - Define the input and output layers, as well as the hidden layers in the deep learning model\n",
        "2. **Compiling a model** - Define the `loss function` (in other words, the function which tells us our model how wrong it is) and the `optimizer` ( tells our model how to improve the pattern its learning) and evaluation metrics (what we can use to interpret the performance of our model).\n",
        "3. **Fitting a model** - Letting the model try to find patterns between X & y(features and labels)"
      ],
      "metadata": {
        "id": "ruHPW2Kprb6D"
      }
    },
    {
      "cell_type": "code",
      "source": [
        "# Seta random seed\n",
        "tf.random.set_seed(42)\n",
        "\n",
        "# 1. Create a model using the Sequential API\n",
        "model = tf.keras.Sequential([\n",
        "    tf.keras.layers.Dense(1)\n",
        "])\n",
        "\n",
        "# 2. Compile the model\n",
        "model.compile(loss=tf.keras.losses.mae,\n",
        "              optimizer=tf.keras.optimizers.SGD(),\n",
        "              metrics=['mae'])\n",
        "\n",
        "# 3. Fit the model (BOTH works tf.expand_dims() function as well as X[..., newaxis])\n",
        "# model.fit(tf.expand_dims(X, axis=-1), y, epochs=5)\n",
        "model.fit(X[..., tf.newaxis], y, epochs=5)"
      ],
      "metadata": {
        "colab": {
          "base_uri": "https://localhost:8080/"
        },
        "id": "9S2VTi40ro97",
        "outputId": "9a759e06-2858-460e-bbae-bf9635aeffab"
      },
      "execution_count": 16,
      "outputs": [
        {
          "output_type": "stream",
          "name": "stdout",
          "text": [
            "Epoch 1/5\n",
            "1/1 [==============================] - 0s 327ms/step - loss: 11.2804 - mae: 11.2804\n",
            "Epoch 2/5\n",
            "1/1 [==============================] - 0s 11ms/step - loss: 11.1479 - mae: 11.1479\n",
            "Epoch 3/5\n",
            "1/1 [==============================] - 0s 12ms/step - loss: 11.0154 - mae: 11.0154\n",
            "Epoch 4/5\n",
            "1/1 [==============================] - 0s 11ms/step - loss: 10.8828 - mae: 10.8828\n",
            "Epoch 5/5\n",
            "1/1 [==============================] - 0s 12ms/step - loss: 10.7503 - mae: 10.7503\n"
          ]
        },
        {
          "output_type": "execute_result",
          "data": {
            "text/plain": [
              "<keras.src.callbacks.History at 0x7fc666832f20>"
            ]
          },
          "metadata": {},
          "execution_count": 16
        }
      ]
    },
    {
      "cell_type": "markdown",
      "source": [
        "### Alternative way"
      ],
      "metadata": {
        "id": "fdXQ1PSK2VFC"
      }
    },
    {
      "cell_type": "code",
      "source": [
        "tf.random.set_seed(42)\n",
        "\n",
        "# Create thw model\n",
        "model = tf.keras.Sequential([])\n",
        "\n",
        "# Add a layer to the model\n",
        "model.add(tf.keras.layers.Dense(1))\n",
        "\n",
        "# compile the model\n",
        "model.compile(loss=tf.keras.losses.mae,\n",
        "              optimizer=tf.keras.optimizers.SGD(),\n",
        "              metrics=['mae'])\n",
        "# Fit the model\n",
        "model.fit(X[..., tf.newaxis], y, epochs=5)"
      ],
      "metadata": {
        "colab": {
          "base_uri": "https://localhost:8080/"
        },
        "id": "khgv6y7b3dOb",
        "outputId": "ccddb0da-f3fe-4f90-8f67-c7e964f14016"
      },
      "execution_count": 17,
      "outputs": [
        {
          "output_type": "stream",
          "name": "stdout",
          "text": [
            "Epoch 1/5\n",
            "1/1 [==============================] - 1s 503ms/step - loss: 7.5000 - mae: 7.5000\n",
            "Epoch 2/5\n",
            "1/1 [==============================] - 0s 11ms/step - loss: 7.4944 - mae: 7.4944\n",
            "Epoch 3/5\n",
            "1/1 [==============================] - 0s 10ms/step - loss: 7.4887 - mae: 7.4887\n",
            "Epoch 4/5\n",
            "1/1 [==============================] - 0s 9ms/step - loss: 7.4831 - mae: 7.4831\n",
            "Epoch 5/5\n",
            "1/1 [==============================] - 0s 10ms/step - loss: 7.4775 - mae: 7.4775\n"
          ]
        },
        {
          "output_type": "execute_result",
          "data": {
            "text/plain": [
              "<keras.src.callbacks.History at 0x7fc665d220b0>"
            ]
          },
          "metadata": {},
          "execution_count": 17
        }
      ]
    },
    {
      "cell_type": "code",
      "source": [
        "# Predict the label from the model\n",
        "y_pred = model.predict([17.0])\n",
        "y_pred"
      ],
      "metadata": {
        "colab": {
          "base_uri": "https://localhost:8080/"
        },
        "id": "IjdAluNB5G-s",
        "outputId": "7f1f6ed2-94c6-43f4-d2e2-0d991dad8a48"
      },
      "execution_count": 18,
      "outputs": [
        {
          "output_type": "stream",
          "name": "stdout",
          "text": [
            "1/1 [==============================] - 0s 164ms/step\n"
          ]
        },
        {
          "output_type": "execute_result",
          "data": {
            "text/plain": [
              "array([[29.436102]], dtype=float32)"
            ]
          },
          "metadata": {},
          "execution_count": 18
        }
      ]
    },
    {
      "cell_type": "code",
      "source": [
        "y_pred = model.predict(y)\n",
        "y_pred"
      ],
      "metadata": {
        "colab": {
          "base_uri": "https://localhost:8080/"
        },
        "id": "iE9x3E9E6gtc",
        "outputId": "2a268c05-f37a-4b8c-86c4-452f1d37b4aa"
      },
      "execution_count": 19,
      "outputs": [
        {
          "output_type": "stream",
          "name": "stdout",
          "text": [
            "1/1 [==============================] - 0s 52ms/step\n"
          ]
        },
        {
          "output_type": "execute_result",
          "data": {
            "text/plain": [
              "array([[ 5.225488],\n",
              "       [10.413477],\n",
              "       [15.601465],\n",
              "       [20.789454],\n",
              "       [25.977442],\n",
              "       [31.16543 ],\n",
              "       [36.353416],\n",
              "       [41.541405]], dtype=float32)"
            ]
          },
          "metadata": {},
          "execution_count": 19
        }
      ]
    },
    {
      "cell_type": "code",
      "source": [],
      "metadata": {
        "id": "oe6AgcED6rG0"
      },
      "execution_count": null,
      "outputs": []
    }
  ]
}