{
  "nbformat": 4,
  "nbformat_minor": 0,
  "metadata": {
    "colab": {
      "name": "Neural_Network_Regression.ipynb",
      "provenance": [],
      "include_colab_link": true
    },
    "kernelspec": {
      "name": "python3",
      "display_name": "Python 3"
    },
    "language_info": {
      "name": "python"
    }
  },
  "cells": [
    {
      "cell_type": "markdown",
      "metadata": {
        "id": "view-in-github",
        "colab_type": "text"
      },
      "source": [
        "<a href=\"https://colab.research.google.com/github/Priyo-prog/Deep-Learning-with-Tensorflow/blob/main/Neural%20Network%20Regression%20with%20Tensorflow/Neural_Network_Regression.ipynb\" target=\"_parent\"><img src=\"https://colab.research.google.com/assets/colab-badge.svg\" alt=\"Open In Colab\"/></a>"
      ]
    },
    {
      "cell_type": "markdown",
      "metadata": {
        "id": "CZa3PkU_GlR9"
      },
      "source": [
        "# **Introduction to Regression with Neural Network using Tensorflow**\n",
        "\n",
        "In statistical modeling, regression analysis is a set of statistical processes for estimating the relationships between a dependent variable (often called the 'outcome' or 'response' variable) and one or more independent variables (often called 'predictors', 'covariates', 'explanatory variables' or 'features'). The most common form of regression analysis is linear regression, in which one finds the line (or a more complex linear combination) that most closely fits the data according to a specific mathematical criterion. For example, the method of ordinary least squares computes the unique line (or hyperplane) that minimizes the sum of squared differences between the true data and that line (or hyperplane). For specific mathematical reasons (see linear regression), this allows the researcher to estimate the conditional expectation (or population average value) of the dependent variable when the independent variables take on a given set of values. Less common forms of regression use slightly different procedures to estimate alternative location parameters (e.g., quantile regression or Necessary Condition Analysis[1]) or estimate the conditional expectation across a broader collection of non-linear models (e.g., nonparametric regression)."
      ]
    },
    {
      "cell_type": "code",
      "metadata": {
        "id": "bXr1R3wlGznW",
        "colab": {
          "base_uri": "https://localhost:8080/",
          "height": 35
        },
        "outputId": "a75d331e-d44a-437e-f2fb-a1330b8c0ddd"
      },
      "source": [
        "import tensorflow as tf\n",
        "tf.__version__"
      ],
      "execution_count": null,
      "outputs": [
        {
          "output_type": "execute_result",
          "data": {
            "application/vnd.google.colaboratory.intrinsic+json": {
              "type": "string"
            },
            "text/plain": [
              "'2.6.0'"
            ]
          },
          "metadata": {},
          "execution_count": 1
        }
      ]
    },
    {
      "cell_type": "markdown",
      "metadata": {
        "id": "XJNiGd4sxWVH"
      },
      "source": [
        "# Creating Data to view and fit"
      ]
    },
    {
      "cell_type": "code",
      "metadata": {
        "colab": {
          "base_uri": "https://localhost:8080/",
          "height": 286
        },
        "id": "xj_eUiBrxTKK",
        "outputId": "9580f995-e095-4c17-cfdd-620c12aca91c"
      },
      "source": [
        "import numpy as np\n",
        "import matplotlib.pyplot as plt\n",
        "\n",
        "# Create features\n",
        "\n",
        "X = np.array([-7.,-4.,-1.,2.,5.,8.,11.,14.])\n",
        "\n",
        "# Create Labels\n",
        "y = np.array([3.,6.,9.,12.,15.,18.,21.,24.])\n",
        "\n",
        "# Visualize it\n",
        "plt.scatter(X,y)"
      ],
      "execution_count": null,
      "outputs": [
        {
          "output_type": "execute_result",
          "data": {
            "text/plain": [
              "<matplotlib.collections.PathCollection at 0x7fe2588c9290>"
            ]
          },
          "metadata": {},
          "execution_count": 2
        },
        {
          "output_type": "display_data",
          "data": {
            "image/png": "[encoded data removed]",
            "text/plain": [
              "<Figure size 432x288 with 1 Axes>"
            ]
          },
          "metadata": {
            "needs_background": "light"
          }
        }
      ]
    },
    {
      "cell_type": "code",
      "metadata": {
        "colab": {
          "base_uri": "https://localhost:8080/"
        },
        "id": "MFNvHA-6ylRo",
        "outputId": "9ae6ca88-32a9-4627-cb32-c13dc9b96949"
      },
      "source": [
        "y == X+10"
      ],
      "execution_count": null,
      "outputs": [
        {
          "output_type": "execute_result",
          "data": {
            "text/plain": [
              "array([ True,  True,  True,  True,  True,  True,  True,  True])"
            ]
          },
          "metadata": {},
          "execution_count": 3
        }
      ]
    },
    {
      "cell_type": "markdown",
      "metadata": {
        "id": "ChqoWv2kzeRH"
      },
      "source": [
        "# Input and Output Shapes"
      ]
    },
    {
      "cell_type": "code",
      "metadata": {
        "id": "2NdlVV4UzYAN",
        "colab": {
          "base_uri": "https://localhost:8080/"
        },
        "outputId": "b428b998-7c56-4761-95bd-ee2d3051030c"
      },
      "source": [
        "# Creating a demo tensor for our price prediction problem\n",
        "\n",
        "house_info = tf.constant([\"bedroom\", \"bathroom\", \"garage\"])\n",
        "house_price = tf.constant([939700])\n",
        "house_info, house_price"
      ],
      "execution_count": null,
      "outputs": [
        {
          "output_type": "execute_result",
          "data": {
            "text/plain": [
              "(<tf.Tensor: shape=(3,), dtype=string, numpy=array([b'bedroom', b'bathroom', b'garage'], dtype=object)>,\n",
              " <tf.Tensor: shape=(1,), dtype=int32, numpy=array([939700], dtype=int32)>)"
            ]
          },
          "metadata": {},
          "execution_count": 4
        }
      ]
    },
    {
      "cell_type": "code",
      "metadata": {
        "colab": {
          "base_uri": "https://localhost:8080/"
        },
        "id": "wj1-piPUkvBa",
        "outputId": "9ee39f8c-4522-46f3-9d72-2490d396d2a0"
      },
      "source": [
        "# We want to predict one output of 'y' for one input of 'X'\n",
        "X[0], y[0]"
      ],
      "execution_count": null,
      "outputs": [
        {
          "output_type": "execute_result",
          "data": {
            "text/plain": [
              "(-7.0, 3.0)"
            ]
          },
          "metadata": {},
          "execution_count": 5
        }
      ]
    },
    {
      "cell_type": "code",
      "metadata": {
        "colab": {
          "base_uri": "https://localhost:8080/"
        },
        "id": "qNiheHADmUBX",
        "outputId": "bb9e4760-2482-426d-bd18-370ccd1b277f"
      },
      "source": [
        "input_shape = X[0].shape\n",
        "output_shape = y[0].shape\n",
        "input_shape, output_shape   # These will show no shape because they are individual scalar without dimension "
      ],
      "execution_count": null,
      "outputs": [
        {
          "output_type": "execute_result",
          "data": {
            "text/plain": [
              "((), ())"
            ]
          },
          "metadata": {},
          "execution_count": 6
        }
      ]
    },
    {
      "cell_type": "code",
      "metadata": {
        "colab": {
          "base_uri": "https://localhost:8080/"
        },
        "id": "JN5zTq_FmwFo",
        "outputId": "cac148a7-5ce1-42b7-d875-d0915d6f35e6"
      },
      "source": [
        "X[0].ndim"
      ],
      "execution_count": null,
      "outputs": [
        {
          "output_type": "execute_result",
          "data": {
            "text/plain": [
              "0"
            ]
          },
          "metadata": {},
          "execution_count": 7
        }
      ]
    },
    {
      "cell_type": "code",
      "metadata": {
        "colab": {
          "base_uri": "https://localhost:8080/"
        },
        "id": "YDDpGCctnEM1",
        "outputId": "4211b837-adcd-4139-c4fe-01e5f0f72230"
      },
      "source": [
        "# Turn Numpy arrays to tensors\n",
        "X = tf.constant(X)\n",
        "y = tf.constant(y)\n",
        "X, y"
      ],
      "execution_count": null,
      "outputs": [
        {
          "output_type": "execute_result",
          "data": {
            "text/plain": [
              "(<tf.Tensor: shape=(8,), dtype=float64, numpy=array([-7., -4., -1.,  2.,  5.,  8., 11., 14.])>,\n",
              " <tf.Tensor: shape=(8,), dtype=float64, numpy=array([ 3.,  6.,  9., 12., 15., 18., 21., 24.])>)"
            ]
          },
          "metadata": {},
          "execution_count": 8
        }
      ]
    },
    {
      "cell_type": "markdown",
      "metadata": {
        "id": "d92OuQmzo636"
      },
      "source": [
        "# Steps in modelling the tensorflow\n",
        "\n",
        "1. **Creating a model** - Define the input and output layers, as well\n",
        "as the hidden layers in the deep learning model\n",
        "2. **Compiling a model** - Define the loss function (in other words,\n",
        "the function which tells us our model how wrong it is) and the optimizer ( tells our model how to improve the pattern its learning) and evaluation\n",
        "metrics (what we can use to interpret the performance of our model).\n",
        "3. **Fitting a model** - Letting the model try to find patterns between X & y(features and labels)\n"
      ]
    },
    {
      "cell_type": "code",
      "metadata": {
        "colab": {
          "base_uri": "https://localhost:8080/"
        },
        "id": "hV-3VLmeogrX",
        "outputId": "f4f8b4ba-cf3c-4239-c568-97ddead14e98"
      },
      "source": [
        "# Set random seed\n",
        "tf.random.set_seed(42)\n",
        "\n",
        "# 1.Create the model using Sequential API\n",
        "model = tf.keras.Sequential([\n",
        "        tf.keras.layers.Dense(1)  # Add a hidden layer                            \n",
        "])\n",
        "\n",
        "# 2.Compile the model\n",
        "model.compile(loss=tf.keras.losses.mae, # \"mae\" is short for mean absolute error\n",
        "              optimizer=tf.keras.optimizers.SGD(), # \"sgd\" is short for stochastic gradient descent\n",
        "              metrics=\"mae\") \n",
        "\n",
        "# 3.Fit the model\n",
        "model.fit(X,y, epochs=5) "
      ],
      "execution_count": null,
      "outputs": [
        {
          "output_type": "stream",
          "text": [
            "Epoch 1/5\n",
            "1/1 [==============================] - 1s 609ms/step - loss: 11.5048 - mae: 11.5048\n",
            "Epoch 2/5\n",
            "1/1 [==============================] - 0s 4ms/step - loss: 11.3723 - mae: 11.3723\n",
            "Epoch 3/5\n",
            "1/1 [==============================] - 0s 5ms/step - loss: 11.2398 - mae: 11.2398\n",
            "Epoch 4/5\n",
            "1/1 [==============================] - 0s 3ms/step - loss: 11.1073 - mae: 11.1073\n",
            "Epoch 5/5\n",
            "1/1 [==============================] - 0s 4ms/step - loss: 10.9748 - mae: 10.9748\n"
          ],
          "name": "stdout"
        },
        {
          "output_type": "execute_result",
          "data": {
            "text/plain": [
              "<keras.callbacks.History at 0x7fe254291d50>"
            ]
          },
          "metadata": {},
          "execution_count": 9
        }
      ]
    },
    {
      "cell_type": "code",
      "metadata": {
        "colab": {
          "base_uri": "https://localhost:8080/"
        },
        "id": "VBVdfr1-BBf9",
        "outputId": "a2ce031e-adc8-4094-b43d-d8e23e97e5a3"
      },
      "source": [
        "# X and y\n",
        "X,y"
      ],
      "execution_count": null,
      "outputs": [
        {
          "output_type": "execute_result",
          "data": {
            "text/plain": [
              "(<tf.Tensor: shape=(8,), dtype=float64, numpy=array([-7., -4., -1.,  2.,  5.,  8., 11., 14.])>,\n",
              " <tf.Tensor: shape=(8,), dtype=float64, numpy=array([ 3.,  6.,  9., 12., 15., 18., 21., 24.])>)"
            ]
          },
          "metadata": {},
          "execution_count": 10
        }
      ]
    },
    {
      "cell_type": "code",
      "metadata": {
        "colab": {
          "base_uri": "https://localhost:8080/"
        },
        "id": "oTWiHN7CBfxJ",
        "outputId": "57667f2c-783b-4ef3-f111-414ab0efe96a"
      },
      "source": [
        "# Try to make a prediction using our model\n",
        "y_pred = model.predict([17.0])\n",
        "y_pred"
      ],
      "execution_count": null,
      "outputs": [
        {
          "output_type": "execute_result",
          "data": {
            "text/plain": [
              "array([[12.716021]], dtype=float32)"
            ]
          },
          "metadata": {},
          "execution_count": 11
        }
      ]
    },
    {
      "cell_type": "markdown",
      "metadata": {
        "id": "282sTfv3FCeP"
      },
      "source": [
        "# Improving the model\n",
        "\n",
        "We can improve our model, by altering the steps we took to create the model.\n",
        "\n",
        "1. **Creating a model** - Here we might add more layers, increase the number\n",
        "of hidden units (all called neurons) within each of the hidden layers,\n",
        "change the activation function of each layer.\n",
        "\n",
        "2. **Compiling a model** - here we might change the optimization function or perhaps\n",
        "the **learning rate** of the optimization function.\n",
        "\n",
        "3. Fitting a model - Here we might fit the model for more **epochs** (leave it \n",
        "training for longer) or on more data (give the model more examples to learn\n",
        "from).\n"
      ]
    },
    {
      "cell_type": "code",
      "metadata": {
        "colab": {
          "base_uri": "https://localhost:8080/"
        },
        "id": "TpxlDOhxB9yC",
        "outputId": "82e96732-a1e0-4857-cb5e-1db87f1e988c"
      },
      "source": [
        "# Let's rebuild the model\n",
        "\n",
        "# 1. Create the model\n",
        "model = tf.keras.Sequential()\n",
        "model.add(tf.keras.layers.Dense(1))\n",
        "\n",
        "# 2. Compile the model\n",
        "model.compile(loss=tf.keras.losses.mae,\n",
        "              optimizer=tf.keras.optimizers.SGD(),\n",
        "              metrics=\"mae\")\n",
        "\n",
        "# 3. Fit the model ( we'll train for longer)\n",
        "model.fit(X,y, epochs=100)"
      ],
      "execution_count": null,
      "outputs": [
        {
          "output_type": "stream",
          "text": [
            "Epoch 1/100\n",
            "1/1 [==============================] - 0s 235ms/step - loss: 11.2219 - mae: 11.2219\n",
            "Epoch 2/100\n",
            "1/1 [==============================] - 0s 5ms/step - loss: 11.0894 - mae: 11.0894\n",
            "Epoch 3/100\n",
            "1/1 [==============================] - 0s 4ms/step - loss: 10.9569 - mae: 10.9569\n",
            "Epoch 4/100\n",
            "1/1 [==============================] - 0s 6ms/step - loss: 10.8244 - mae: 10.8244\n",
            "Epoch 5/100\n",
            "1/1 [==============================] - 0s 4ms/step - loss: 10.6919 - mae: 10.6919\n",
            "Epoch 6/100\n",
            "1/1 [==============================] - 0s 6ms/step - loss: 10.5594 - mae: 10.5594\n",
            "Epoch 7/100\n",
            "1/1 [==============================] - 0s 5ms/step - loss: 10.4269 - mae: 10.4269\n",
            "Epoch 8/100\n",
            "1/1 [==============================] - 0s 4ms/step - loss: 10.2944 - mae: 10.2944\n",
            "Epoch 9/100\n",
            "1/1 [==============================] - 0s 4ms/step - loss: 10.1619 - mae: 10.1619\n",
            "Epoch 10/100\n",
            "1/1 [==============================] - 0s 4ms/step - loss: 10.0294 - mae: 10.0294\n",
            "Epoch 11/100\n",
            "1/1 [==============================] - 0s 5ms/step - loss: 9.8969 - mae: 9.8969\n",
            "Epoch 12/100\n",
            "1/1 [==============================] - 0s 9ms/step - loss: 9.7644 - mae: 9.7644\n",
            "Epoch 13/100\n",
            "1/1 [==============================] - 0s 6ms/step - loss: 9.6319 - mae: 9.6319\n",
            "Epoch 14/100\n",
            "1/1 [==============================] - 0s 4ms/step - loss: 9.4994 - mae: 9.4994\n",
            "Epoch 15/100\n",
            "1/1 [==============================] - 0s 4ms/step - loss: 9.3669 - mae: 9.3669\n",
            "Epoch 16/100\n",
            "1/1 [==============================] - 0s 6ms/step - loss: 9.2344 - mae: 9.2344\n",
            "Epoch 17/100\n",
            "1/1 [==============================] - 0s 4ms/step - loss: 9.1019 - mae: 9.1019\n",
            "Epoch 18/100\n",
            "1/1 [==============================] - 0s 9ms/step - loss: 8.9694 - mae: 8.9694\n",
            "Epoch 19/100\n",
            "1/1 [==============================] - 0s 4ms/step - loss: 8.8369 - mae: 8.8369\n",
            "Epoch 20/100\n",
            "1/1 [==============================] - 0s 5ms/step - loss: 8.7044 - mae: 8.7044\n",
            "Epoch 21/100\n",
            "1/1 [==============================] - 0s 5ms/step - loss: 8.5719 - mae: 8.5719\n",
            "Epoch 22/100\n",
            "1/1 [==============================] - 0s 3ms/step - loss: 8.4394 - mae: 8.4394\n",
            "Epoch 23/100\n",
            "1/1 [==============================] - 0s 5ms/step - loss: 8.3069 - mae: 8.3069\n",
            "Epoch 24/100\n",
            "1/1 [==============================] - 0s 3ms/step - loss: 8.1744 - mae: 8.1744\n",
            "Epoch 25/100\n",
            "1/1 [==============================] - 0s 6ms/step - loss: 8.0419 - mae: 8.0419\n",
            "Epoch 26/100\n",
            "1/1 [==============================] - 0s 3ms/step - loss: 7.9094 - mae: 7.9094\n",
            "Epoch 27/100\n",
            "1/1 [==============================] - 0s 3ms/step - loss: 7.7769 - mae: 7.7769\n",
            "Epoch 28/100\n",
            "1/1 [==============================] - 0s 3ms/step - loss: 7.6444 - mae: 7.6444\n",
            "Epoch 29/100\n",
            "1/1 [==============================] - 0s 6ms/step - loss: 7.5119 - mae: 7.5119\n",
            "Epoch 30/100\n",
            "1/1 [==============================] - 0s 3ms/step - loss: 7.3794 - mae: 7.3794\n",
            "Epoch 31/100\n",
            "1/1 [==============================] - 0s 3ms/step - loss: 7.2750 - mae: 7.2750\n",
            "Epoch 32/100\n",
            "1/1 [==============================] - 0s 4ms/step - loss: 7.2694 - mae: 7.2694\n",
            "Epoch 33/100\n",
            "1/1 [==============================] - 0s 5ms/step - loss: 7.2638 - mae: 7.2638\n",
            "Epoch 34/100\n",
            "1/1 [==============================] - 0s 3ms/step - loss: 7.2581 - mae: 7.2581\n",
            "Epoch 35/100\n",
            "1/1 [==============================] - 0s 3ms/step - loss: 7.2525 - mae: 7.2525\n",
            "Epoch 36/100\n",
            "1/1 [==============================] - 0s 5ms/step - loss: 7.2469 - mae: 7.2469\n",
            "Epoch 37/100\n",
            "1/1 [==============================] - 0s 4ms/step - loss: 7.2412 - mae: 7.2412\n",
            "Epoch 38/100\n",
            "1/1 [==============================] - 0s 4ms/step - loss: 7.2356 - mae: 7.2356\n",
            "Epoch 39/100\n",
            "1/1 [==============================] - 0s 4ms/step - loss: 7.2300 - mae: 7.2300\n",
            "Epoch 40/100\n",
            "1/1 [==============================] - 0s 4ms/step - loss: 7.2244 - mae: 7.2244\n",
            "Epoch 41/100\n",
            "1/1 [==============================] - 0s 5ms/step - loss: 7.2188 - mae: 7.2188\n",
            "Epoch 42/100\n",
            "1/1 [==============================] - 0s 3ms/step - loss: 7.2131 - mae: 7.2131\n",
            "Epoch 43/100\n",
            "1/1 [==============================] - 0s 5ms/step - loss: 7.2075 - mae: 7.2075\n",
            "Epoch 44/100\n",
            "1/1 [==============================] - 0s 3ms/step - loss: 7.2019 - mae: 7.2019\n",
            "Epoch 45/100\n",
            "1/1 [==============================] - 0s 4ms/step - loss: 7.1962 - mae: 7.1962\n",
            "Epoch 46/100\n",
            "1/1 [==============================] - 0s 4ms/step - loss: 7.1906 - mae: 7.1906\n",
            "Epoch 47/100\n",
            "1/1 [==============================] - 0s 3ms/step - loss: 7.1850 - mae: 7.1850\n",
            "Epoch 48/100\n",
            "1/1 [==============================] - 0s 4ms/step - loss: 7.1794 - mae: 7.1794\n",
            "Epoch 49/100\n",
            "1/1 [==============================] - 0s 4ms/step - loss: 7.1737 - mae: 7.1737\n",
            "Epoch 50/100\n",
            "1/1 [==============================] - 0s 6ms/step - loss: 7.1681 - mae: 7.1681\n",
            "Epoch 51/100\n",
            "1/1 [==============================] - 0s 3ms/step - loss: 7.1625 - mae: 7.1625\n",
            "Epoch 52/100\n",
            "1/1 [==============================] - 0s 3ms/step - loss: 7.1569 - mae: 7.1569\n",
            "Epoch 53/100\n",
            "1/1 [==============================] - 0s 3ms/step - loss: 7.1512 - mae: 7.1512\n",
            "Epoch 54/100\n",
            "1/1 [==============================] - 0s 3ms/step - loss: 7.1456 - mae: 7.1456\n",
            "Epoch 55/100\n",
            "1/1 [==============================] - 0s 4ms/step - loss: 7.1400 - mae: 7.1400\n",
            "Epoch 56/100\n",
            "1/1 [==============================] - 0s 4ms/step - loss: 7.1344 - mae: 7.1344\n",
            "Epoch 57/100\n",
            "1/1 [==============================] - 0s 4ms/step - loss: 7.1287 - mae: 7.1287\n",
            "Epoch 58/100\n",
            "1/1 [==============================] - 0s 3ms/step - loss: 7.1231 - mae: 7.1231\n",
            "Epoch 59/100\n",
            "1/1 [==============================] - 0s 4ms/step - loss: 7.1175 - mae: 7.1175\n",
            "Epoch 60/100\n",
            "1/1 [==============================] - 0s 4ms/step - loss: 7.1119 - mae: 7.1119\n",
            "Epoch 61/100\n",
            "1/1 [==============================] - 0s 5ms/step - loss: 7.1062 - mae: 7.1062\n",
            "Epoch 62/100\n",
            "1/1 [==============================] - 0s 3ms/step - loss: 7.1006 - mae: 7.1006\n",
            "Epoch 63/100\n",
            "1/1 [==============================] - 0s 4ms/step - loss: 7.0950 - mae: 7.0950\n",
            "Epoch 64/100\n",
            "1/1 [==============================] - 0s 5ms/step - loss: 7.0894 - mae: 7.0894\n",
            "Epoch 65/100\n",
            "1/1 [==============================] - 0s 3ms/step - loss: 7.0838 - mae: 7.0838\n",
            "Epoch 66/100\n",
            "1/1 [==============================] - 0s 6ms/step - loss: 7.0781 - mae: 7.0781\n",
            "Epoch 67/100\n",
            "1/1 [==============================] - 0s 3ms/step - loss: 7.0725 - mae: 7.0725\n",
            "Epoch 68/100\n",
            "1/1 [==============================] - 0s 3ms/step - loss: 7.0669 - mae: 7.0669\n",
            "Epoch 69/100\n",
            "1/1 [==============================] - 0s 4ms/step - loss: 7.0613 - mae: 7.0613\n",
            "Epoch 70/100\n",
            "1/1 [==============================] - 0s 5ms/step - loss: 7.0556 - mae: 7.0556\n",
            "Epoch 71/100\n",
            "1/1 [==============================] - 0s 4ms/step - loss: 7.0500 - mae: 7.0500\n",
            "Epoch 72/100\n",
            "1/1 [==============================] - 0s 4ms/step - loss: 7.0444 - mae: 7.0444\n",
            "Epoch 73/100\n",
            "1/1 [==============================] - 0s 4ms/step - loss: 7.0388 - mae: 7.0388\n",
            "Epoch 74/100\n",
            "1/1 [==============================] - 0s 3ms/step - loss: 7.0331 - mae: 7.0331\n",
            "Epoch 75/100\n",
            "1/1 [==============================] - 0s 5ms/step - loss: 7.0275 - mae: 7.0275\n",
            "Epoch 76/100\n",
            "1/1 [==============================] - 0s 5ms/step - loss: 7.0219 - mae: 7.0219\n",
            "Epoch 77/100\n",
            "1/1 [==============================] - 0s 3ms/step - loss: 7.0163 - mae: 7.0163\n",
            "Epoch 78/100\n",
            "1/1 [==============================] - 0s 4ms/step - loss: 7.0106 - mae: 7.0106\n",
            "Epoch 79/100\n",
            "1/1 [==============================] - 0s 4ms/step - loss: 7.0050 - mae: 7.0050\n",
            "Epoch 80/100\n",
            "1/1 [==============================] - 0s 3ms/step - loss: 6.9994 - mae: 6.9994\n",
            "Epoch 81/100\n",
            "1/1 [==============================] - 0s 4ms/step - loss: 6.9938 - mae: 6.9938\n",
            "Epoch 82/100\n",
            "1/1 [==============================] - 0s 5ms/step - loss: 6.9881 - mae: 6.9881\n",
            "Epoch 83/100\n",
            "1/1 [==============================] - 0s 5ms/step - loss: 6.9825 - mae: 6.9825\n",
            "Epoch 84/100\n",
            "1/1 [==============================] - 0s 3ms/step - loss: 6.9769 - mae: 6.9769\n",
            "Epoch 85/100\n",
            "1/1 [==============================] - 0s 3ms/step - loss: 6.9713 - mae: 6.9713\n",
            "Epoch 86/100\n",
            "1/1 [==============================] - 0s 4ms/step - loss: 6.9656 - mae: 6.9656\n",
            "Epoch 87/100\n",
            "1/1 [==============================] - 0s 4ms/step - loss: 6.9600 - mae: 6.9600\n",
            "Epoch 88/100\n",
            "1/1 [==============================] - 0s 6ms/step - loss: 6.9544 - mae: 6.9544\n",
            "Epoch 89/100\n",
            "1/1 [==============================] - 0s 3ms/step - loss: 6.9488 - mae: 6.9488\n",
            "Epoch 90/100\n",
            "1/1 [==============================] - 0s 3ms/step - loss: 6.9431 - mae: 6.9431\n",
            "Epoch 91/100\n",
            "1/1 [==============================] - 0s 5ms/step - loss: 6.9375 - mae: 6.9375\n",
            "Epoch 92/100\n",
            "1/1 [==============================] - 0s 3ms/step - loss: 6.9319 - mae: 6.9319\n",
            "Epoch 93/100\n",
            "1/1 [==============================] - 0s 4ms/step - loss: 6.9263 - mae: 6.9263\n",
            "Epoch 94/100\n",
            "1/1 [==============================] - 0s 3ms/step - loss: 6.9206 - mae: 6.9206\n",
            "Epoch 95/100\n",
            "1/1 [==============================] - 0s 3ms/step - loss: 6.9150 - mae: 6.9150\n",
            "Epoch 96/100\n",
            "1/1 [==============================] - 0s 4ms/step - loss: 6.9094 - mae: 6.9094\n",
            "Epoch 97/100\n",
            "1/1 [==============================] - 0s 4ms/step - loss: 6.9038 - mae: 6.9038\n",
            "Epoch 98/100\n",
            "1/1 [==============================] - 0s 5ms/step - loss: 6.8981 - mae: 6.8981\n",
            "Epoch 99/100\n",
            "1/1 [==============================] - 0s 3ms/step - loss: 6.8925 - mae: 6.8925\n",
            "Epoch 100/100\n",
            "1/1 [==============================] - 0s 12ms/step - loss: 6.8869 - mae: 6.8869\n"
          ],
          "name": "stdout"
        },
        {
          "output_type": "execute_result",
          "data": {
            "text/plain": [
              "<keras.callbacks.History at 0x7fe2541143d0>"
            ]
          },
          "metadata": {},
          "execution_count": 12
        }
      ]
    },
    {
      "cell_type": "code",
      "metadata": {
        "colab": {
          "base_uri": "https://localhost:8080/"
        },
        "id": "LV0kYdtejl8d",
        "outputId": "4521025d-e8ee-48e7-b44d-bf4fe5ed2dc3"
      },
      "source": [
        "# Remind ourselves X & y\n",
        "X,y"
      ],
      "execution_count": null,
      "outputs": [
        {
          "output_type": "execute_result",
          "data": {
            "text/plain": [
              "(<tf.Tensor: shape=(8,), dtype=float64, numpy=array([-7., -4., -1.,  2.,  5.,  8., 11., 14.])>,\n",
              " <tf.Tensor: shape=(8,), dtype=float64, numpy=array([ 3.,  6.,  9., 12., 15., 18., 21., 24.])>)"
            ]
          },
          "metadata": {},
          "execution_count": 13
        }
      ]
    },
    {
      "cell_type": "code",
      "metadata": {
        "colab": {
          "base_uri": "https://localhost:8080/"
        },
        "id": "YVvKAN3vjynt",
        "outputId": "9103d61b-9491-4c40-eb70-1e2a68b19861"
      },
      "source": [
        "# Let's see if our model has improved\n",
        "model.predict([17.0])"
      ],
      "execution_count": null,
      "outputs": [
        {
          "output_type": "execute_result",
          "data": {
            "text/plain": [
              "array([[29.739855]], dtype=float32)"
            ]
          },
          "metadata": {},
          "execution_count": 14
        }
      ]
    },
    {
      "cell_type": "code",
      "metadata": {
        "colab": {
          "base_uri": "https://localhost:8080/"
        },
        "id": "KGW9hsJMkAuJ",
        "outputId": "e30e4c28-ebd2-46cf-8a8a-70ddc5d8a3c4"
      },
      "source": [
        "# Let's see if we can make another to improve the model\n",
        "\n",
        "# 1. Create the model\n",
        "model = tf.keras.Sequential(\n",
        "    [ tf.keras.layers.Dense(100, activation=\"relu\"), # Adding extra hidden layer with activation\n",
        "      tf.keras.layers.Dense(1)     \n",
        "    ])\n",
        "\n",
        "# 2. Compile the model \n",
        "model.compile(loss=tf.keras.losses.mae,\n",
        "              optimizer=tf.keras.optimizers.SGD(),\n",
        "              metrics=\"mae\")\n",
        "\n",
        "# 3. Fit the model\n",
        "model.fit(X,y, epochs=100) "
      ],
      "execution_count": null,
      "outputs": [
        {
          "output_type": "stream",
          "text": [
            "Epoch 1/100\n",
            "1/1 [==============================] - 0s 286ms/step - loss: 12.3193 - mae: 12.3193\n",
            "Epoch 2/100\n",
            "1/1 [==============================] - 0s 5ms/step - loss: 11.7804 - mae: 11.7804\n",
            "Epoch 3/100\n",
            "1/1 [==============================] - 0s 6ms/step - loss: 11.2324 - mae: 11.2324\n",
            "Epoch 4/100\n",
            "1/1 [==============================] - 0s 4ms/step - loss: 10.6601 - mae: 10.6601\n",
            "Epoch 5/100\n",
            "1/1 [==============================] - 0s 5ms/step - loss: 10.0632 - mae: 10.0632\n",
            "Epoch 6/100\n",
            "1/1 [==============================] - 0s 4ms/step - loss: 9.4503 - mae: 9.4503\n",
            "Epoch 7/100\n",
            "1/1 [==============================] - 0s 4ms/step - loss: 8.7991 - mae: 8.7991\n",
            "Epoch 8/100\n",
            "1/1 [==============================] - 0s 7ms/step - loss: 8.1072 - mae: 8.1072\n",
            "Epoch 9/100\n",
            "1/1 [==============================] - 0s 16ms/step - loss: 7.3691 - mae: 7.3691\n",
            "Epoch 10/100\n",
            "1/1 [==============================] - 0s 10ms/step - loss: 6.5758 - mae: 6.5758\n",
            "Epoch 11/100\n",
            "1/1 [==============================] - 0s 6ms/step - loss: 5.7205 - mae: 5.7205\n",
            "Epoch 12/100\n",
            "1/1 [==============================] - 0s 3ms/step - loss: 4.7947 - mae: 4.7947\n",
            "Epoch 13/100\n",
            "1/1 [==============================] - 0s 12ms/step - loss: 4.3581 - mae: 4.3581\n",
            "Epoch 14/100\n",
            "1/1 [==============================] - 0s 4ms/step - loss: 4.3134 - mae: 4.3134\n",
            "Epoch 15/100\n",
            "1/1 [==============================] - 0s 5ms/step - loss: 4.2550 - mae: 4.2550\n",
            "Epoch 16/100\n",
            "1/1 [==============================] - 0s 19ms/step - loss: 4.2442 - mae: 4.2442\n",
            "Epoch 17/100\n",
            "1/1 [==============================] - 0s 3ms/step - loss: 4.1520 - mae: 4.1520\n",
            "Epoch 18/100\n",
            "1/1 [==============================] - 0s 6ms/step - loss: 4.1739 - mae: 4.1739\n",
            "Epoch 19/100\n",
            "1/1 [==============================] - 0s 6ms/step - loss: 4.0681 - mae: 4.0681\n",
            "Epoch 20/100\n",
            "1/1 [==============================] - 0s 7ms/step - loss: 4.0807 - mae: 4.0807\n",
            "Epoch 21/100\n",
            "1/1 [==============================] - 0s 5ms/step - loss: 3.9954 - mae: 3.9954\n",
            "Epoch 22/100\n",
            "1/1 [==============================] - 0s 5ms/step - loss: 3.9739 - mae: 3.9739\n",
            "Epoch 23/100\n",
            "1/1 [==============================] - 0s 4ms/step - loss: 3.9208 - mae: 3.9208\n",
            "Epoch 24/100\n",
            "1/1 [==============================] - 0s 5ms/step - loss: 3.9047 - mae: 3.9047\n",
            "Epoch 25/100\n",
            "1/1 [==============================] - 0s 4ms/step - loss: 3.9267 - mae: 3.9267\n",
            "Epoch 26/100\n",
            "1/1 [==============================] - 0s 6ms/step - loss: 3.8797 - mae: 3.8797\n",
            "Epoch 27/100\n",
            "1/1 [==============================] - 0s 3ms/step - loss: 3.9341 - mae: 3.9341\n",
            "Epoch 28/100\n",
            "1/1 [==============================] - 0s 5ms/step - loss: 3.8678 - mae: 3.8678\n",
            "Epoch 29/100\n",
            "1/1 [==============================] - 0s 4ms/step - loss: 3.9274 - mae: 3.9274\n",
            "Epoch 30/100\n",
            "1/1 [==============================] - 0s 4ms/step - loss: 3.8751 - mae: 3.8751\n",
            "Epoch 31/100\n",
            "1/1 [==============================] - 0s 4ms/step - loss: 3.9080 - mae: 3.9080\n",
            "Epoch 32/100\n",
            "1/1 [==============================] - 0s 4ms/step - loss: 3.8893 - mae: 3.8893\n",
            "Epoch 33/100\n",
            "1/1 [==============================] - 0s 5ms/step - loss: 3.8834 - mae: 3.8834\n",
            "Epoch 34/100\n",
            "1/1 [==============================] - 0s 4ms/step - loss: 3.8969 - mae: 3.8969\n",
            "Epoch 35/100\n",
            "1/1 [==============================] - 0s 4ms/step - loss: 3.8581 - mae: 3.8581\n",
            "Epoch 36/100\n",
            "1/1 [==============================] - 0s 4ms/step - loss: 3.9046 - mae: 3.9046\n",
            "Epoch 37/100\n",
            "1/1 [==============================] - 0s 4ms/step - loss: 3.8386 - mae: 3.8386\n",
            "Epoch 38/100\n",
            "1/1 [==============================] - 0s 4ms/step - loss: 3.9054 - mae: 3.9054\n",
            "Epoch 39/100\n",
            "1/1 [==============================] - 0s 4ms/step - loss: 3.8482 - mae: 3.8482\n",
            "Epoch 40/100\n",
            "1/1 [==============================] - 0s 3ms/step - loss: 3.8862 - mae: 3.8862\n",
            "Epoch 41/100\n",
            "1/1 [==============================] - 0s 3ms/step - loss: 3.8605 - mae: 3.8605\n",
            "Epoch 42/100\n",
            "1/1 [==============================] - 0s 4ms/step - loss: 3.8608 - mae: 3.8608\n",
            "Epoch 43/100\n",
            "1/1 [==============================] - 0s 3ms/step - loss: 3.8683 - mae: 3.8683\n",
            "Epoch 44/100\n",
            "1/1 [==============================] - 0s 4ms/step - loss: 3.8352 - mae: 3.8352\n",
            "Epoch 45/100\n",
            "1/1 [==============================] - 0s 4ms/step - loss: 3.8762 - mae: 3.8762\n",
            "Epoch 46/100\n",
            "1/1 [==============================] - 0s 4ms/step - loss: 3.8106 - mae: 3.8106\n",
            "Epoch 47/100\n",
            "1/1 [==============================] - 0s 4ms/step - loss: 3.8821 - mae: 3.8821\n",
            "Epoch 48/100\n",
            "1/1 [==============================] - 0s 4ms/step - loss: 3.8234 - mae: 3.8234\n",
            "Epoch 49/100\n",
            "1/1 [==============================] - 0s 5ms/step - loss: 3.8626 - mae: 3.8626\n",
            "Epoch 50/100\n",
            "1/1 [==============================] - 0s 4ms/step - loss: 3.8328 - mae: 3.8328\n",
            "Epoch 51/100\n",
            "1/1 [==============================] - 0s 4ms/step - loss: 3.8369 - mae: 3.8369\n",
            "Epoch 52/100\n",
            "1/1 [==============================] - 0s 5ms/step - loss: 3.8408 - mae: 3.8408\n",
            "Epoch 53/100\n",
            "1/1 [==============================] - 0s 4ms/step - loss: 3.8111 - mae: 3.8111\n",
            "Epoch 54/100\n",
            "1/1 [==============================] - 0s 4ms/step - loss: 3.8489 - mae: 3.8489\n",
            "Epoch 55/100\n",
            "1/1 [==============================] - 0s 4ms/step - loss: 3.7850 - mae: 3.7850\n",
            "Epoch 56/100\n",
            "1/1 [==============================] - 0s 5ms/step - loss: 3.8585 - mae: 3.8585\n",
            "Epoch 57/100\n",
            "1/1 [==============================] - 0s 3ms/step - loss: 3.7982 - mae: 3.7982\n",
            "Epoch 58/100\n",
            "1/1 [==============================] - 0s 4ms/step - loss: 3.8377 - mae: 3.8377\n",
            "Epoch 59/100\n",
            "1/1 [==============================] - 0s 3ms/step - loss: 3.8062 - mae: 3.8062\n",
            "Epoch 60/100\n",
            "1/1 [==============================] - 0s 5ms/step - loss: 3.8117 - mae: 3.8117\n",
            "Epoch 61/100\n",
            "1/1 [==============================] - 0s 5ms/step - loss: 3.8144 - mae: 3.8144\n",
            "Epoch 62/100\n",
            "1/1 [==============================] - 0s 4ms/step - loss: 3.7856 - mae: 3.7856\n",
            "Epoch 63/100\n",
            "1/1 [==============================] - 0s 4ms/step - loss: 3.8227 - mae: 3.8227\n",
            "Epoch 64/100\n",
            "1/1 [==============================] - 0s 4ms/step - loss: 3.7593 - mae: 3.7593\n",
            "Epoch 65/100\n",
            "1/1 [==============================] - 0s 3ms/step - loss: 3.8352 - mae: 3.8352\n",
            "Epoch 66/100\n",
            "1/1 [==============================] - 0s 5ms/step - loss: 3.7725 - mae: 3.7725\n",
            "Epoch 67/100\n",
            "1/1 [==============================] - 0s 5ms/step - loss: 3.8115 - mae: 3.8115\n",
            "Epoch 68/100\n",
            "1/1 [==============================] - 0s 13ms/step - loss: 3.7807 - mae: 3.7807\n",
            "Epoch 69/100\n",
            "1/1 [==============================] - 0s 4ms/step - loss: 3.7853 - mae: 3.7853\n",
            "Epoch 70/100\n",
            "1/1 [==============================] - 0s 5ms/step - loss: 3.7891 - mae: 3.7891\n",
            "Epoch 71/100\n",
            "1/1 [==============================] - 0s 4ms/step - loss: 3.7588 - mae: 3.7588\n",
            "Epoch 72/100\n",
            "1/1 [==============================] - 0s 11ms/step - loss: 3.7975 - mae: 3.7975\n",
            "Epoch 73/100\n",
            "1/1 [==============================] - 0s 5ms/step - loss: 3.7337 - mae: 3.7337\n",
            "Epoch 74/100\n",
            "1/1 [==============================] - 0s 4ms/step - loss: 3.8105 - mae: 3.8105\n",
            "Epoch 75/100\n",
            "1/1 [==============================] - 0s 5ms/step - loss: 3.7478 - mae: 3.7478\n",
            "Epoch 76/100\n",
            "1/1 [==============================] - 0s 3ms/step - loss: 3.7840 - mae: 3.7840\n",
            "Epoch 77/100\n",
            "1/1 [==============================] - 0s 5ms/step - loss: 3.7563 - mae: 3.7563\n",
            "Epoch 78/100\n",
            "1/1 [==============================] - 0s 4ms/step - loss: 3.7575 - mae: 3.7575\n",
            "Epoch 79/100\n",
            "1/1 [==============================] - 0s 6ms/step - loss: 3.7648 - mae: 3.7648\n",
            "Epoch 80/100\n",
            "1/1 [==============================] - 0s 6ms/step - loss: 3.7307 - mae: 3.7307\n",
            "Epoch 81/100\n",
            "1/1 [==============================] - 0s 7ms/step - loss: 3.7735 - mae: 3.7735\n",
            "Epoch 82/100\n",
            "1/1 [==============================] - 0s 4ms/step - loss: 3.7125 - mae: 3.7125\n",
            "Epoch 83/100\n",
            "1/1 [==============================] - 0s 3ms/step - loss: 3.7820 - mae: 3.7820\n",
            "Epoch 84/100\n",
            "1/1 [==============================] - 0s 4ms/step - loss: 3.7242 - mae: 3.7242\n",
            "Epoch 85/100\n",
            "1/1 [==============================] - 0s 4ms/step - loss: 3.7552 - mae: 3.7552\n",
            "Epoch 86/100\n",
            "1/1 [==============================] - 0s 4ms/step - loss: 3.7329 - mae: 3.7329\n",
            "Epoch 87/100\n",
            "1/1 [==============================] - 0s 4ms/step - loss: 3.7284 - mae: 3.7284\n",
            "Epoch 88/100\n",
            "1/1 [==============================] - 0s 3ms/step - loss: 3.7416 - mae: 3.7416\n",
            "Epoch 89/100\n",
            "1/1 [==============================] - 0s 5ms/step - loss: 3.7013 - mae: 3.7013\n",
            "Epoch 90/100\n",
            "1/1 [==============================] - 0s 8ms/step - loss: 3.7505 - mae: 3.7505\n",
            "Epoch 91/100\n",
            "1/1 [==============================] - 0s 13ms/step - loss: 3.6921 - mae: 3.6921\n",
            "Epoch 92/100\n",
            "1/1 [==============================] - 0s 7ms/step - loss: 3.7522 - mae: 3.7522\n",
            "Epoch 93/100\n",
            "1/1 [==============================] - 0s 7ms/step - loss: 3.7016 - mae: 3.7016\n",
            "Epoch 94/100\n",
            "1/1 [==============================] - 0s 6ms/step - loss: 3.7251 - mae: 3.7251\n",
            "Epoch 95/100\n",
            "1/1 [==============================] - 0s 5ms/step - loss: 3.7105 - mae: 3.7105\n",
            "Epoch 96/100\n",
            "1/1 [==============================] - 0s 4ms/step - loss: 3.6979 - mae: 3.6979\n",
            "Epoch 97/100\n",
            "1/1 [==============================] - 0s 10ms/step - loss: 3.7194 - mae: 3.7194\n",
            "Epoch 98/100\n",
            "1/1 [==============================] - 0s 7ms/step - loss: 3.6705 - mae: 3.6705\n",
            "Epoch 99/100\n",
            "1/1 [==============================] - 0s 8ms/step - loss: 3.7299 - mae: 3.7299\n",
            "Epoch 100/100\n",
            "1/1 [==============================] - 0s 5ms/step - loss: 3.6711 - mae: 3.6711\n"
          ],
          "name": "stdout"
        },
        {
          "output_type": "execute_result",
          "data": {
            "text/plain": [
              "<keras.callbacks.History at 0x7fe254087650>"
            ]
          },
          "metadata": {},
          "execution_count": 15
        }
      ]
    },
    {
      "cell_type": "code",
      "metadata": {
        "colab": {
          "base_uri": "https://localhost:8080/"
        },
        "id": "zod5SRK9oAND",
        "outputId": "6a097639-4685-48e2-936a-d47bbeb6defd"
      },
      "source": [
        "# Let's remind ourselves about the data\n",
        "X,y"
      ],
      "execution_count": null,
      "outputs": [
        {
          "output_type": "execute_result",
          "data": {
            "text/plain": [
              "(<tf.Tensor: shape=(8,), dtype=float64, numpy=array([-7., -4., -1.,  2.,  5.,  8., 11., 14.])>,\n",
              " <tf.Tensor: shape=(8,), dtype=float64, numpy=array([ 3.,  6.,  9., 12., 15., 18., 21., 24.])>)"
            ]
          },
          "metadata": {},
          "execution_count": 16
        }
      ]
    },
    {
      "cell_type": "code",
      "metadata": {
        "colab": {
          "base_uri": "https://localhost:8080/"
        },
        "id": "nqefGBwVof-m",
        "outputId": "b1690449-fc51-4bd1-cb5d-57b8369baafd"
      },
      "source": [
        "# Let's see the prediction\n",
        "y_pred = model.predict([17.0])\n",
        "y_pred"
      ],
      "execution_count": null,
      "outputs": [
        {
          "output_type": "execute_result",
          "data": {
            "text/plain": [
              "array([[31.223137]], dtype=float32)"
            ]
          },
          "metadata": {},
          "execution_count": 17
        }
      ]
    },
    {
      "cell_type": "code",
      "metadata": {
        "colab": {
          "base_uri": "https://localhost:8080/"
        },
        "id": "LBuSrcFmorST",
        "outputId": "5852b648-1152-4f78-ae9a-a99c31606ee2"
      },
      "source": [
        "# Let's create the model once again\n",
        "\n",
        "# 1. Creating the model\n",
        "model = tf.keras.Sequential()\n",
        "model.add(tf.keras.layers.Dense(100, activation=\"relu\"))\n",
        "model.add(tf.keras.layers.Dense(1))\n",
        "\n",
        "# Compile the model\n",
        "model.compile(loss=tf.keras.losses.mae,\n",
        "              optimizer=tf.keras.optimizers.Adam(lr=0.01)) # Adding the Adam optimizer and increasing the learning rate\n",
        "\n",
        "# Fit the model\n",
        "model.fit(X,y, epochs=100)"
      ],
      "execution_count": null,
      "outputs": [
        {
          "output_type": "stream",
          "text": [
            "/usr/local/lib/python3.7/dist-packages/keras/optimizer_v2/optimizer_v2.py:356: UserWarning: The `lr` argument is deprecated, use `learning_rate` instead.\n",
            "  \"The `lr` argument is deprecated, use `learning_rate` instead.\")\n"
          ],
          "name": "stderr"
        },
        {
          "output_type": "stream",
          "text": [
            "Epoch 1/100\n",
            "1/1 [==============================] - 0s 294ms/step - loss: 12.7339\n",
            "Epoch 2/100\n",
            "1/1 [==============================] - 0s 6ms/step - loss: 11.9052\n",
            "Epoch 3/100\n",
            "1/1 [==============================] - 0s 4ms/step - loss: 11.0712\n",
            "Epoch 4/100\n",
            "1/1 [==============================] - 0s 5ms/step - loss: 10.2556\n",
            "Epoch 5/100\n",
            "1/1 [==============================] - 0s 10ms/step - loss: 9.6071\n",
            "Epoch 6/100\n",
            "1/1 [==============================] - 0s 4ms/step - loss: 8.9779\n",
            "Epoch 7/100\n",
            "1/1 [==============================] - 0s 6ms/step - loss: 8.3324\n",
            "Epoch 8/100\n",
            "1/1 [==============================] - 0s 6ms/step - loss: 7.6675\n",
            "Epoch 9/100\n",
            "1/1 [==============================] - 0s 5ms/step - loss: 6.9773\n",
            "Epoch 10/100\n",
            "1/1 [==============================] - 0s 4ms/step - loss: 6.2578\n",
            "Epoch 11/100\n",
            "1/1 [==============================] - 0s 4ms/step - loss: 5.5048\n",
            "Epoch 12/100\n",
            "1/1 [==============================] - 0s 4ms/step - loss: 4.7182\n",
            "Epoch 13/100\n",
            "1/1 [==============================] - 0s 4ms/step - loss: 3.9977\n",
            "Epoch 14/100\n",
            "1/1 [==============================] - 0s 4ms/step - loss: 3.7582\n",
            "Epoch 15/100\n",
            "1/1 [==============================] - 0s 4ms/step - loss: 3.8989\n",
            "Epoch 16/100\n",
            "1/1 [==============================] - 0s 4ms/step - loss: 4.0165\n",
            "Epoch 17/100\n",
            "1/1 [==============================] - 0s 4ms/step - loss: 4.2808\n",
            "Epoch 18/100\n",
            "1/1 [==============================] - 0s 4ms/step - loss: 4.4803\n",
            "Epoch 19/100\n",
            "1/1 [==============================] - 0s 4ms/step - loss: 4.5805\n",
            "Epoch 20/100\n",
            "1/1 [==============================] - 0s 11ms/step - loss: 4.5931\n",
            "Epoch 21/100\n",
            "1/1 [==============================] - 0s 4ms/step - loss: 4.5326\n",
            "Epoch 22/100\n",
            "1/1 [==============================] - 0s 4ms/step - loss: 4.4073\n",
            "Epoch 23/100\n",
            "1/1 [==============================] - 0s 4ms/step - loss: 4.2272\n",
            "Epoch 24/100\n",
            "1/1 [==============================] - 0s 4ms/step - loss: 4.0037\n",
            "Epoch 25/100\n",
            "1/1 [==============================] - 0s 12ms/step - loss: 3.7757\n",
            "Epoch 26/100\n",
            "1/1 [==============================] - 0s 7ms/step - loss: 3.6633\n",
            "Epoch 27/100\n",
            "1/1 [==============================] - 0s 4ms/step - loss: 3.5512\n",
            "Epoch 28/100\n",
            "1/1 [==============================] - 0s 4ms/step - loss: 3.4389\n",
            "Epoch 29/100\n",
            "1/1 [==============================] - 0s 4ms/step - loss: 3.3275\n",
            "Epoch 30/100\n",
            "1/1 [==============================] - 0s 4ms/step - loss: 3.3583\n",
            "Epoch 31/100\n",
            "1/1 [==============================] - 0s 4ms/step - loss: 3.3569\n",
            "Epoch 32/100\n",
            "1/1 [==============================] - 0s 4ms/step - loss: 3.3252\n",
            "Epoch 33/100\n",
            "1/1 [==============================] - 0s 4ms/step - loss: 3.2848\n",
            "Epoch 34/100\n",
            "1/1 [==============================] - 0s 4ms/step - loss: 3.2317\n",
            "Epoch 35/100\n",
            "1/1 [==============================] - 0s 4ms/step - loss: 3.1251\n",
            "Epoch 36/100\n",
            "1/1 [==============================] - 0s 4ms/step - loss: 3.0259\n",
            "Epoch 37/100\n",
            "1/1 [==============================] - 0s 5ms/step - loss: 2.9742\n",
            "Epoch 38/100\n",
            "1/1 [==============================] - 0s 4ms/step - loss: 2.9566\n",
            "Epoch 39/100\n",
            "1/1 [==============================] - 0s 4ms/step - loss: 2.9194\n",
            "Epoch 40/100\n",
            "1/1 [==============================] - 0s 4ms/step - loss: 2.8601\n",
            "Epoch 41/100\n",
            "1/1 [==============================] - 0s 4ms/step - loss: 2.7829\n",
            "Epoch 42/100\n",
            "1/1 [==============================] - 0s 4ms/step - loss: 2.6897\n",
            "Epoch 43/100\n",
            "1/1 [==============================] - 0s 4ms/step - loss: 2.5785\n",
            "Epoch 44/100\n",
            "1/1 [==============================] - 0s 4ms/step - loss: 2.4573\n",
            "Epoch 45/100\n",
            "1/1 [==============================] - 0s 4ms/step - loss: 2.3350\n",
            "Epoch 46/100\n",
            "1/1 [==============================] - 0s 4ms/step - loss: 2.2170\n",
            "Epoch 47/100\n",
            "1/1 [==============================] - 0s 4ms/step - loss: 2.1181\n",
            "Epoch 48/100\n",
            "1/1 [==============================] - 0s 4ms/step - loss: 2.0317\n",
            "Epoch 49/100\n",
            "1/1 [==============================] - 0s 4ms/step - loss: 1.9329\n",
            "Epoch 50/100\n",
            "1/1 [==============================] - 0s 4ms/step - loss: 1.8220\n",
            "Epoch 51/100\n",
            "1/1 [==============================] - 0s 4ms/step - loss: 1.6936\n",
            "Epoch 52/100\n",
            "1/1 [==============================] - 0s 4ms/step - loss: 1.5465\n",
            "Epoch 53/100\n",
            "1/1 [==============================] - 0s 4ms/step - loss: 1.4338\n",
            "Epoch 54/100\n",
            "1/1 [==============================] - 0s 4ms/step - loss: 1.2796\n",
            "Epoch 55/100\n",
            "1/1 [==============================] - 0s 4ms/step - loss: 1.1364\n",
            "Epoch 56/100\n",
            "1/1 [==============================] - 0s 5ms/step - loss: 1.0045\n",
            "Epoch 57/100\n",
            "1/1 [==============================] - 0s 4ms/step - loss: 0.8414\n",
            "Epoch 58/100\n",
            "1/1 [==============================] - 0s 4ms/step - loss: 0.6584\n",
            "Epoch 59/100\n",
            "1/1 [==============================] - 0s 4ms/step - loss: 0.4793\n",
            "Epoch 60/100\n",
            "1/1 [==============================] - 0s 7ms/step - loss: 0.3216\n",
            "Epoch 61/100\n",
            "1/1 [==============================] - 0s 4ms/step - loss: 0.2821\n",
            "Epoch 62/100\n",
            "1/1 [==============================] - 0s 26ms/step - loss: 0.2139\n",
            "Epoch 63/100\n",
            "1/1 [==============================] - 0s 4ms/step - loss: 0.3067\n",
            "Epoch 64/100\n",
            "1/1 [==============================] - 0s 4ms/step - loss: 0.4669\n",
            "Epoch 65/100\n",
            "1/1 [==============================] - 0s 4ms/step - loss: 0.5318\n",
            "Epoch 66/100\n",
            "1/1 [==============================] - 0s 4ms/step - loss: 0.4286\n",
            "Epoch 67/100\n",
            "1/1 [==============================] - 0s 4ms/step - loss: 0.6082\n",
            "Epoch 68/100\n",
            "1/1 [==============================] - 0s 5ms/step - loss: 0.4514\n",
            "Epoch 69/100\n",
            "1/1 [==============================] - 0s 5ms/step - loss: 0.5475\n",
            "Epoch 70/100\n",
            "1/1 [==============================] - 0s 4ms/step - loss: 0.4334\n",
            "Epoch 71/100\n",
            "1/1 [==============================] - 0s 4ms/step - loss: 0.3996\n",
            "Epoch 72/100\n",
            "1/1 [==============================] - 0s 4ms/step - loss: 0.4192\n",
            "Epoch 73/100\n",
            "1/1 [==============================] - 0s 4ms/step - loss: 0.4045\n",
            "Epoch 74/100\n",
            "1/1 [==============================] - 0s 4ms/step - loss: 0.4016\n",
            "Epoch 75/100\n",
            "1/1 [==============================] - 0s 4ms/step - loss: 0.2396\n",
            "Epoch 76/100\n",
            "1/1 [==============================] - 0s 5ms/step - loss: 0.3249\n",
            "Epoch 77/100\n",
            "1/1 [==============================] - 0s 4ms/step - loss: 0.3173\n",
            "Epoch 78/100\n",
            "1/1 [==============================] - 0s 4ms/step - loss: 0.2367\n",
            "Epoch 79/100\n",
            "1/1 [==============================] - 0s 6ms/step - loss: 0.2889\n",
            "Epoch 80/100\n",
            "1/1 [==============================] - 0s 3ms/step - loss: 0.2590\n",
            "Epoch 81/100\n",
            "1/1 [==============================] - 0s 4ms/step - loss: 0.2732\n",
            "Epoch 82/100\n",
            "1/1 [==============================] - 0s 4ms/step - loss: 0.3136\n",
            "Epoch 83/100\n",
            "1/1 [==============================] - 0s 4ms/step - loss: 0.2944\n",
            "Epoch 84/100\n",
            "1/1 [==============================] - 0s 4ms/step - loss: 0.2543\n",
            "Epoch 85/100\n",
            "1/1 [==============================] - 0s 55ms/step - loss: 0.2342\n",
            "Epoch 86/100\n",
            "1/1 [==============================] - 0s 11ms/step - loss: 0.1792\n",
            "Epoch 87/100\n",
            "1/1 [==============================] - 0s 6ms/step - loss: 0.1477\n",
            "Epoch 88/100\n",
            "1/1 [==============================] - 0s 8ms/step - loss: 0.1554\n",
            "Epoch 89/100\n",
            "1/1 [==============================] - 0s 6ms/step - loss: 0.1632\n",
            "Epoch 90/100\n",
            "1/1 [==============================] - 0s 6ms/step - loss: 0.1497\n",
            "Epoch 91/100\n",
            "1/1 [==============================] - 0s 5ms/step - loss: 0.2270\n",
            "Epoch 92/100\n",
            "1/1 [==============================] - 0s 4ms/step - loss: 0.1988\n",
            "Epoch 93/100\n",
            "1/1 [==============================] - 0s 5ms/step - loss: 0.2866\n",
            "Epoch 94/100\n",
            "1/1 [==============================] - 0s 4ms/step - loss: 0.2691\n",
            "Epoch 95/100\n",
            "1/1 [==============================] - 0s 4ms/step - loss: 0.3802\n",
            "Epoch 96/100\n",
            "1/1 [==============================] - 0s 4ms/step - loss: 0.3505\n",
            "Epoch 97/100\n",
            "1/1 [==============================] - 0s 4ms/step - loss: 0.1934\n",
            "Epoch 98/100\n",
            "1/1 [==============================] - 0s 4ms/step - loss: 0.4458\n",
            "Epoch 99/100\n",
            "1/1 [==============================] - 0s 4ms/step - loss: 0.4780\n",
            "Epoch 100/100\n",
            "1/1 [==============================] - 0s 4ms/step - loss: 0.2037\n"
          ],
          "name": "stdout"
        },
        {
          "output_type": "execute_result",
          "data": {
            "text/plain": [
              "<keras.callbacks.History at 0x7fe253234c10>"
            ]
          },
          "metadata": {},
          "execution_count": 18
        }
      ]
    },
    {
      "cell_type": "code",
      "metadata": {
        "colab": {
          "base_uri": "https://localhost:8080/"
        },
        "id": "k7_kn7N3vbpM",
        "outputId": "e0dfd19b-4997-44b9-ee35-2ddf2d6636f3"
      },
      "source": [
        "# Let's remind ourselves about the data\n",
        "X,y"
      ],
      "execution_count": null,
      "outputs": [
        {
          "output_type": "execute_result",
          "data": {
            "text/plain": [
              "(<tf.Tensor: shape=(8,), dtype=float64, numpy=array([-7., -4., -1.,  2.,  5.,  8., 11., 14.])>,\n",
              " <tf.Tensor: shape=(8,), dtype=float64, numpy=array([ 3.,  6.,  9., 12., 15., 18., 21., 24.])>)"
            ]
          },
          "metadata": {},
          "execution_count": 19
        }
      ]
    },
    {
      "cell_type": "code",
      "metadata": {
        "colab": {
          "base_uri": "https://localhost:8080/"
        },
        "id": "SwqL1nOPvkTN",
        "outputId": "443256c9-7b93-4bfc-8a1a-5e39ff4d46b0"
      },
      "source": [
        "y_pred = model.predict([17.0])\n",
        "y_pred"
      ],
      "execution_count": null,
      "outputs": [
        {
          "output_type": "execute_result",
          "data": {
            "text/plain": [
              "array([[26.43606]], dtype=float32)"
            ]
          },
          "metadata": {},
          "execution_count": 20
        }
      ]
    },
    {
      "cell_type": "markdown",
      "metadata": {
        "id": "V6IY2RMMLsBV"
      },
      "source": [
        "# Evaluating a tensorflow model\n",
        "\n",
        "In practice a typical workflow you'll go through when building neural network is :\n",
        "\n",
        "\n",
        "Build a model -> Fit it -> Evaluate it -> Tweak it -> ....\n",
        "\n",
        "When it comes to evaluation ... you should always remember... VISUALIZE..\n",
        "\n",
        "1. The data - What data we are working? what it looks like ?\n",
        "\n",
        "2. The model itself - What does our model look like\n",
        "\n",
        "3. The training of a model - How the model perform while it learns?\n",
        "\n",
        "4. The prediction of the model - How do the predictions of a model line up\n",
        "against the ground truth ?\n"
      ]
    },
    {
      "cell_type": "code",
      "metadata": {
        "id": "h9kD_vwHvsBj",
        "colab": {
          "base_uri": "https://localhost:8080/"
        },
        "outputId": "63c785d1-26d9-4567-e649-005bb2f635dd"
      },
      "source": [
        "# Make a bigger dataset\n",
        "X = tf.range(-100,100,4)\n",
        "X"
      ],
      "execution_count": null,
      "outputs": [
        {
          "output_type": "execute_result",
          "data": {
            "text/plain": [
              "<tf.Tensor: shape=(50,), dtype=int32, numpy=\n",
              "array([-100,  -96,  -92,  -88,  -84,  -80,  -76,  -72,  -68,  -64,  -60,\n",
              "        -56,  -52,  -48,  -44,  -40,  -36,  -32,  -28,  -24,  -20,  -16,\n",
              "        -12,   -8,   -4,    0,    4,    8,   12,   16,   20,   24,   28,\n",
              "         32,   36,   40,   44,   48,   52,   56,   60,   64,   68,   72,\n",
              "         76,   80,   84,   88,   92,   96], dtype=int32)>"
            ]
          },
          "metadata": {},
          "execution_count": 21
        }
      ]
    },
    {
      "cell_type": "code",
      "metadata": {
        "colab": {
          "base_uri": "https://localhost:8080/"
        },
        "id": "AhTQfJnnN5il",
        "outputId": "8001f7ca-7db8-4304-ab03-6ee4f978e52a"
      },
      "source": [
        "# Make the labels for the dataset\n",
        "y = X + 10\n",
        "y"
      ],
      "execution_count": null,
      "outputs": [
        {
          "output_type": "execute_result",
          "data": {
            "text/plain": [
              "<tf.Tensor: shape=(50,), dtype=int32, numpy=\n",
              "array([-90, -86, -82, -78, -74, -70, -66, -62, -58, -54, -50, -46, -42,\n",
              "       -38, -34, -30, -26, -22, -18, -14, -10,  -6,  -2,   2,   6,  10,\n",
              "        14,  18,  22,  26,  30,  34,  38,  42,  46,  50,  54,  58,  62,\n",
              "        66,  70,  74,  78,  82,  86,  90,  94,  98, 102, 106], dtype=int32)>"
            ]
          },
          "metadata": {},
          "execution_count": 22
        }
      ]
    },
    {
      "cell_type": "code",
      "metadata": {
        "colab": {
          "base_uri": "https://localhost:8080/"
        },
        "id": "vKXpCWhiOChD",
        "outputId": "0700368b-fc11-47cd-b91d-678573366119"
      },
      "source": [
        "# Visualize the data with matplotlib\n",
        "plt.scatter(X,y)"
      ],
      "execution_count": null,
      "outputs": [
        {
          "output_type": "execute_result",
          "data": {
            "text/plain": [
              "<matplotlib.collections.PathCollection at 0x7fe250f3dcd0>"
            ]
          },
          "metadata": {},
          "execution_count": 23
        },
        {
          "output_type": "display_data",
          "data": {
            "image/png": "[encoded data removed]",
            "text/plain": [
              "<Figure size 432x288 with 1 Axes>"
            ]
          },
          "metadata": {
            "needs_background": "light"
          }
        }
      ]
    },
    {
      "cell_type": "markdown",
      "metadata": {
        "id": "caYse62pVChG"
      },
      "source": [
        "# Splitting the dataset\n",
        "\n",
        "1. **The training set** - The model learns from this data, which is typically 70-80% of the total data\n",
        "\n",
        "2. **Validation set** - The model gets tuned in this data, which is typically 10-15%\n",
        "of the total data.\n",
        "\n",
        "3. **Test set** - the model gets evaluated in this set to test what it has learned,\n",
        "this set is typically 10-15% of the total data available\n",
        "\n"
      ]
    },
    {
      "cell_type": "code",
      "metadata": {
        "colab": {
          "base_uri": "https://localhost:8080/"
        },
        "id": "42_GLQ99OSEw",
        "outputId": "75ba640e-bc37-4c5e-8155-e7694af62302"
      },
      "source": [
        "# Check the length of sample we have\n",
        "len(X)"
      ],
      "execution_count": null,
      "outputs": [
        {
          "output_type": "execute_result",
          "data": {
            "text/plain": [
              "50"
            ]
          },
          "metadata": {},
          "execution_count": 24
        }
      ]
    },
    {
      "cell_type": "code",
      "metadata": {
        "colab": {
          "base_uri": "https://localhost:8080/"
        },
        "id": "e9TYLKZNWVI0",
        "outputId": "9a6b6197-7e0c-4986-9988-056950bfd635"
      },
      "source": [
        "# Splitting the data in train and test sets\n",
        "X_train = X[:40] # First 40 samples(80% of the data)\n",
        "y_train = y[:40]\n",
        "\n",
        "X_test = X[40:]  # Last 10 are testing samples (20% of the data)\n",
        "y_test = y[40:] \n",
        "\n",
        "len(X_train), len(y_train), len(X_test), len(y_test)"
      ],
      "execution_count": null,
      "outputs": [
        {
          "output_type": "execute_result",
          "data": {
            "text/plain": [
              "(40, 40, 10, 10)"
            ]
          },
          "metadata": {},
          "execution_count": 25
        }
      ]
    },
    {
      "cell_type": "markdown",
      "metadata": {
        "id": "nQLKtqHWkZKZ"
      },
      "source": [
        "# Visualizing the data\n",
        "\n",
        "Now we got our train and test datawe visualize again"
      ]
    },
    {
      "cell_type": "code",
      "metadata": {
        "colab": {
          "base_uri": "https://localhost:8080/",
          "height": 445
        },
        "id": "05brQw2qY6rH",
        "outputId": "daf592f7-12a7-41ea-cbee-8f3556937829"
      },
      "source": [
        "plt.figure(figsize=(10,7))\n",
        "\n",
        "# Plot training data in blue\n",
        "plt.scatter(X_train,y_train, c=\"b\", label=\"Training Data\") # model will learn on this data\n",
        "\n",
        "# Plot test data in green\n",
        "plt.scatter(X_test, y_test, c=\"g\", label=\"Testing Data\")   # model will be evaluated in this data\n",
        "\n",
        "# Show a legend\n",
        "plt.legend()"
      ],
      "execution_count": null,
      "outputs": [
        {
          "output_type": "execute_result",
          "data": {
            "text/plain": [
              "<matplotlib.legend.Legend at 0x7fe250ef8a90>"
            ]
          },
          "metadata": {},
          "execution_count": 26
        },
        {
          "output_type": "display_data",
          "data": {
            "image/png": "[encoded data removed]",
            "text/plain": [
              "<Figure size 720x504 with 1 Axes>"
            ]
          },
          "metadata": {
            "needs_background": "light"
          }
        }
      ]
    },
    {
      "cell_type": "code",
      "metadata": {
        "id": "FWHvE3X2koUq"
      },
      "source": [
        "# Build the neural network from our data\n",
        "\n",
        "# 1. Create a model - \n",
        "model = tf.keras.Sequential(\n",
        "    [tf.keras.layers.Dense(1)    \n",
        "    ])\n",
        "\n",
        "# 2. Compile the model\n",
        "model.compile(loss=tf.keras.losses.mae,\n",
        "              optimizer=tf.keras.optimizers.SGD(),\n",
        "              metrics=[\"mae\"])\n",
        "\n",
        "# 3. Fit the data\n",
        "#model.fit(X_train,y_train, epochs=100)"
      ],
      "execution_count": null,
      "outputs": []
    },
    {
      "cell_type": "code",
      "metadata": {
        "colab": {
          "base_uri": "https://localhost:8080/",
          "height": 299
        },
        "id": "q3lijRs9xo9a",
        "outputId": "8a94275a-f6fb-4661-b3fc-0d252ee47991"
      },
      "source": [
        "model.summary()"
      ],
      "execution_count": null,
      "outputs": [
        {
          "output_type": "error",
          "ename": "ValueError",
          "evalue": "ignored",
          "traceback": [
            "\u001b[0;31m---------------------------------------------------------------------------\u001b[0m",
            "\u001b[0;31mValueError\u001b[0m                                Traceback (most recent call last)",
            "\u001b[0;32m<ipython-input-28-5f15418b3570>\u001b[0m in \u001b[0;36m<module>\u001b[0;34m()\u001b[0m\n\u001b[0;32m----> 1\u001b[0;31m \u001b[0mmodel\u001b[0m\u001b[0;34m.\u001b[0m\u001b[0msummary\u001b[0m\u001b[0;34m(\u001b[0m\u001b[0;34m)\u001b[0m\u001b[0;34m\u001b[0m\u001b[0;34m\u001b[0m\u001b[0m\n\u001b[0m",
            "\u001b[0;32m/usr/local/lib/python3.7/dist-packages/keras/engine/training.py\u001b[0m in \u001b[0;36msummary\u001b[0;34m(self, line_length, positions, print_fn)\u001b[0m\n\u001b[1;32m   2519\u001b[0m     \"\"\"\n\u001b[1;32m   2520\u001b[0m     \u001b[0;32mif\u001b[0m \u001b[0;32mnot\u001b[0m \u001b[0mself\u001b[0m\u001b[0;34m.\u001b[0m\u001b[0mbuilt\u001b[0m\u001b[0;34m:\u001b[0m\u001b[0;34m\u001b[0m\u001b[0;34m\u001b[0m\u001b[0m\n\u001b[0;32m-> 2521\u001b[0;31m       raise ValueError('This model has not yet been built. '\n\u001b[0m\u001b[1;32m   2522\u001b[0m                        \u001b[0;34m'Build the model first by calling `build()` or calling '\u001b[0m\u001b[0;34m\u001b[0m\u001b[0;34m\u001b[0m\u001b[0m\n\u001b[1;32m   2523\u001b[0m                        \u001b[0;34m'`fit()` with some data, or specify '\u001b[0m\u001b[0;34m\u001b[0m\u001b[0;34m\u001b[0m\u001b[0m\n",
            "\u001b[0;31mValueError\u001b[0m: This model has not yet been built. Build the model first by calling `build()` or calling `fit()` with some data, or specify an `input_shape` argument in the first layer(s) for automatic build."
          ]
        }
      ]
    },
    {
      "cell_type": "code",
      "metadata": {
        "colab": {
          "base_uri": "https://localhost:8080/"
        },
        "id": "YgPmXET6pN1k",
        "outputId": "4d3c0a6c-c9b4-4055-c0fc-6ba86ddfa78f"
      },
      "source": [
        "# Let's create a model automatically by defining the input_shape arguement in the first layer\n",
        "tf.random.set_seed(42)\n",
        "\n",
        "# 1. Create a model (same as above)\n",
        "model = tf.keras.Sequential(name=\"model_1\")\n",
        "model.add(tf.keras.layers.Dense(10, input_shape=[1])) # shape of the data what we are passing to the model\n",
        "model.add(tf.keras.layers.Dense(1))\n",
        "\n",
        "# 2. Compile the model\n",
        "model.compile(loss=tf.keras.losses.mae,\n",
        "              optimizer=tf.keras.optimizers.SGD(),\n",
        "              metrics=[\"mae\"])\n",
        "\n",
        "model.summary() "
      ],
      "execution_count": null,
      "outputs": [
        {
          "output_type": "stream",
          "text": [
            "Model: \"model_1\"\n",
            "_________________________________________________________________\n",
            "Layer (type)                 Output Shape              Param #   \n",
            "=================================================================\n",
            "dense_7 (Dense)              (None, 10)                20        \n",
            "_________________________________________________________________\n",
            "dense_8 (Dense)              (None, 1)                 11        \n",
            "=================================================================\n",
            "Total params: 31\n",
            "Trainable params: 31\n",
            "Non-trainable params: 0\n",
            "_________________________________________________________________\n"
          ],
          "name": "stdout"
        }
      ]
    },
    {
      "cell_type": "markdown",
      "metadata": {
        "id": "3oo1IeWK1zZT"
      },
      "source": [
        "1. Total params - Total number of parameters in the model.\n",
        "\n",
        "2. Trainable parameters - These are the parameters (patterns) the model can update as it trains.\n",
        "\n",
        "3. Non-trainable params -  These are already trained parameters, not required to trained ( this is typical when you bring in already learned patterns or \n",
        "parameters from other models during **transfer learning** ) "
      ]
    },
    {
      "cell_type": "code",
      "metadata": {
        "colab": {
          "base_uri": "https://localhost:8080/"
        },
        "id": "a6VqVbFfx8eY",
        "outputId": "40fdeff6-2af5-45e8-f056-1abb18da724f"
      },
      "source": [
        "# Lets fit the model with our training data\n",
        "model.fit(X_train, y_train, epochs=100, verbose=0) # verbose hides the training progress"
      ],
      "execution_count": null,
      "outputs": [
        {
          "output_type": "execute_result",
          "data": {
            "text/plain": [
              "<keras.callbacks.History at 0x7fe250d883d0>"
            ]
          },
          "metadata": {},
          "execution_count": 30
        }
      ]
    },
    {
      "cell_type": "code",
      "metadata": {
        "colab": {
          "base_uri": "https://localhost:8080/",
          "height": 312
        },
        "id": "7f0xFZfo478n",
        "outputId": "7e86e8a3-c58b-4ce2-a332-9668b76327b7"
      },
      "source": [
        "from tensorflow.keras.utils import plot_model\n",
        "\n",
        "plot_model(model,show_shapes=True)"
      ],
      "execution_count": null,
      "outputs": [
        {
          "output_type": "execute_result",
          "data": {
            "image/png": "[encoded data removed]",
            "text/plain": [
              "<IPython.core.display.Image object>"
            ]
          },
          "metadata": {},
          "execution_count": 31
        }
      ]
    },
    {
      "cell_type": "markdown",
      "metadata": {
        "id": "w9IdxpoYGxEe"
      },
      "source": [
        "# Visualizing our model's predictions\n",
        "\n",
        "To visualize predictions, it's good idea to plot them against the ground truth labels.\n",
        "\n",
        "Often you'll see this in the form of y_test or y_true vs y_pred (ground truth vs your model's prediction)"
      ]
    },
    {
      "cell_type": "code",
      "metadata": {
        "colab": {
          "base_uri": "https://localhost:8080/"
        },
        "id": "f6t2zX9G8FRw",
        "outputId": "aa7a9638-0530-4f6a-b03c-07119192a1c7"
      },
      "source": [
        "# Make some predictions\n",
        "y_pred = model.predict(X_test)\n",
        "y_pred"
      ],
      "execution_count": null,
      "outputs": [
        {
          "output_type": "stream",
          "text": [
            "WARNING:tensorflow:5 out of the last 5 calls to <function Model.make_predict_function.<locals>.predict_function at 0x7fe253f4f3b0> triggered tf.function retracing. Tracing is expensive and the excessive number of tracings could be due to (1) creating @tf.function repeatedly in a loop, (2) passing tensors with different shapes, (3) passing Python objects instead of tensors. For (1), please define your @tf.function outside of the loop. For (2), @tf.function has experimental_relax_shapes=True option that relaxes argument shapes that can avoid unnecessary retracing. For (3), please refer to https://www.tensorflow.org/guide/function#controlling_retracing and https://www.tensorflow.org/api_docs/python/tf/function for  more details.\n"
          ],
          "name": "stdout"
        },
        {
          "output_type": "execute_result",
          "data": {
            "text/plain": [
              "array([[ 70.55218 ],\n",
              "       [ 75.13991 ],\n",
              "       [ 79.72763 ],\n",
              "       [ 84.31535 ],\n",
              "       [ 88.903076],\n",
              "       [ 93.49081 ],\n",
              "       [ 98.07853 ],\n",
              "       [102.66625 ],\n",
              "       [107.253975],\n",
              "       [111.8417  ]], dtype=float32)"
            ]
          },
          "metadata": {},
          "execution_count": 32
        }
      ]
    },
    {
      "cell_type": "code",
      "metadata": {
        "id": "b6PpvLtnHm7t",
        "colab": {
          "base_uri": "https://localhost:8080/"
        },
        "outputId": "62665c0e-574f-49d1-ac87-36febb1338f6"
      },
      "source": [
        "y_test"
      ],
      "execution_count": null,
      "outputs": [
        {
          "output_type": "execute_result",
          "data": {
            "text/plain": [
              "<tf.Tensor: shape=(10,), dtype=int32, numpy=array([ 70,  74,  78,  82,  86,  90,  94,  98, 102, 106], dtype=int32)>"
            ]
          },
          "metadata": {},
          "execution_count": 33
        }
      ]
    },
    {
      "cell_type": "code",
      "metadata": {
        "id": "p-I-ePCvHpxL"
      },
      "source": [
        "# Let's create a plotting function\n",
        "def plot_predictions(train_data=X_train,\n",
        "                     train_labels=y_train,\n",
        "                     test_data=X_test,\n",
        "                     test_labels=y_test,\n",
        "                     predictions=y_pred):\n",
        "  \"\"\"\n",
        "  Plots training data, test data and compares predictions to ground truth labels\n",
        "  \"\"\"\n",
        "  plt.figure(figsize=(10,7))\n",
        "\n",
        "  # Plot training data in blue\n",
        "  plt.scatter(train_data, train_labels, c=\"b\", label=\"Training data\")\n",
        "\n",
        "  # Plot test data in green\n",
        "  plt.scatter(test_data, test_labels, c=\"g\", label=\"Test data\")\n",
        "\n",
        "  # Plot model's prediction in red\n",
        "  plt.scatter(test_data, predictions, c=\"red\", label=\"Predictions\")\n",
        "\n",
        "  # Show the legend\n",
        "  plt.legend()"
      ],
      "execution_count": null,
      "outputs": []
    },
    {
      "cell_type": "code",
      "metadata": {
        "id": "zoy2JxGNKLCJ",
        "colab": {
          "base_uri": "https://localhost:8080/"
        },
        "outputId": "97c103e2-0e38-486a-baf5-bf8458751b51"
      },
      "source": [
        "plot_predictions()"
      ],
      "execution_count": null,
      "outputs": [
        {
          "output_type": "display_data",
          "data": {
            "image/png": "[encoded data removed]",
            "text/plain": [
              "<Figure size 720x504 with 1 Axes>"
            ]
          },
          "metadata": {
            "needs_background": "light"
          }
        }
      ]
    },
    {
      "cell_type": "markdown",
      "metadata": {
        "id": "wIBRhnKqXbAm"
      },
      "source": [
        "# Evaluating our model's predictions with regression evaluation metrics\n",
        "\n",
        "Depending upon your problem you are working on, there will be different evaluation metrics to evaluate your model's performance.\n",
        "\n",
        "Since we are working on regression, two of the main metrics:\n",
        "\n",
        "1. **MAE** - mean absolute error, \"on average, how wrong is each of my model's predictions\".\n",
        "\n",
        "2. **MSE** - mean square error, \"square the average errors\"."
      ]
    },
    {
      "cell_type": "code",
      "metadata": {
        "id": "LhpUloM3KOM4",
        "colab": {
          "base_uri": "https://localhost:8080/"
        },
        "outputId": "e0861d38-2c50-432c-8026-3cd2c069504c"
      },
      "source": [
        "# Evaluate the model on test\n",
        "model.evaluate(X_test, y_test)"
      ],
      "execution_count": null,
      "outputs": [
        {
          "output_type": "stream",
          "text": [
            "1/1 [==============================] - 0s 117ms/step - loss: 3.1969 - mae: 3.1969\n"
          ],
          "name": "stdout"
        },
        {
          "output_type": "execute_result",
          "data": {
            "text/plain": [
              "[3.196942090988159, 3.196942090988159]"
            ]
          },
          "metadata": {},
          "execution_count": 36
        }
      ]
    },
    {
      "cell_type": "code",
      "metadata": {
        "colab": {
          "base_uri": "https://localhost:8080/"
        },
        "id": "B7MaXeGIbwjn",
        "outputId": "0fdc5420-cb4b-42cc-b821-8e4cc16fef92"
      },
      "source": [
        "# Calculate the mean absolute error\n",
        "mae = tf.keras.metrics.mean_absolute_error(y_test, y_pred)\n",
        "mae"
      ],
      "execution_count": null,
      "outputs": [
        {
          "output_type": "execute_result",
          "data": {
            "text/plain": [
              "<tf.Tensor: shape=(10,), dtype=float32, numpy=\n",
              "array([17.558258 , 14.1160555, 11.708948 , 10.336929 , 10.       ,\n",
              "       10.698161 , 12.447118 , 15.333002 , 19.253975 , 23.841698 ],\n",
              "      dtype=float32)>"
            ]
          },
          "metadata": {},
          "execution_count": 37
        }
      ]
    },
    {
      "cell_type": "code",
      "metadata": {
        "colab": {
          "base_uri": "https://localhost:8080/"
        },
        "id": "UxOI88mUd8iw",
        "outputId": "273b8470-2482-409c-de3e-12856f86822c"
      },
      "source": [
        "tf.constant(y_pred)   # shape is(10,1)"
      ],
      "execution_count": null,
      "outputs": [
        {
          "output_type": "execute_result",
          "data": {
            "text/plain": [
              "<tf.Tensor: shape=(10, 1), dtype=float32, numpy=\n",
              "array([[ 70.55218 ],\n",
              "       [ 75.13991 ],\n",
              "       [ 79.72763 ],\n",
              "       [ 84.31535 ],\n",
              "       [ 88.903076],\n",
              "       [ 93.49081 ],\n",
              "       [ 98.07853 ],\n",
              "       [102.66625 ],\n",
              "       [107.253975],\n",
              "       [111.8417  ]], dtype=float32)>"
            ]
          },
          "metadata": {},
          "execution_count": 38
        }
      ]
    },
    {
      "cell_type": "code",
      "metadata": {
        "colab": {
          "base_uri": "https://localhost:8080/"
        },
        "id": "eOqkCmXbefR6",
        "outputId": "3c424688-c81b-4a33-be96-8859a3fa3800"
      },
      "source": [
        "y_test               # shape is (10,)"
      ],
      "execution_count": null,
      "outputs": [
        {
          "output_type": "execute_result",
          "data": {
            "text/plain": [
              "<tf.Tensor: shape=(10,), dtype=int32, numpy=array([ 70,  74,  78,  82,  86,  90,  94,  98, 102, 106], dtype=int32)>"
            ]
          },
          "metadata": {},
          "execution_count": 39
        }
      ]
    },
    {
      "cell_type": "code",
      "metadata": {
        "colab": {
          "base_uri": "https://localhost:8080/"
        },
        "id": "wSPArWfPekhZ",
        "outputId": "fd892cb6-8b60-4fdb-a363-0e0caf7350a0"
      },
      "source": [
        "# Removing the extra dimension from the y_pred\n",
        "tf.squeeze(y_pred)"
      ],
      "execution_count": null,
      "outputs": [
        {
          "output_type": "execute_result",
          "data": {
            "text/plain": [
              "<tf.Tensor: shape=(10,), dtype=float32, numpy=\n",
              "array([ 70.55218 ,  75.13991 ,  79.72763 ,  84.31535 ,  88.903076,\n",
              "        93.49081 ,  98.07853 , 102.66625 , 107.253975, 111.8417  ],\n",
              "      dtype=float32)>"
            ]
          },
          "metadata": {},
          "execution_count": 40
        }
      ]
    },
    {
      "cell_type": "code",
      "metadata": {
        "colab": {
          "base_uri": "https://localhost:8080/"
        },
        "id": "iq6pwLptgY7w",
        "outputId": "a833bd04-8761-4c2d-be04-6f58decafe06"
      },
      "source": [
        "# Calculate the mean absolute error once again\n",
        "mae = tf.keras.metrics.mean_absolute_error(y_test, tf.squeeze(y_pred)) # Same result as evaluate function\n",
        "mae"
      ],
      "execution_count": null,
      "outputs": [
        {
          "output_type": "execute_result",
          "data": {
            "text/plain": [
              "<tf.Tensor: shape=(), dtype=float32, numpy=3.1969407>"
            ]
          },
          "metadata": {},
          "execution_count": 41
        }
      ]
    },
    {
      "cell_type": "code",
      "metadata": {
        "colab": {
          "base_uri": "https://localhost:8080/"
        },
        "id": "3YhYZGtXgt3s",
        "outputId": "3b42b73f-3b58-4d56-e408-a755f26b43a2"
      },
      "source": [
        "# calculate the mean squared error\n",
        "tf.keras.metrics.mean_squared_error(y_test, tf.squeeze(y_pred))"
      ],
      "execution_count": null,
      "outputs": [
        {
          "output_type": "execute_result",
          "data": {
            "text/plain": [
              "<tf.Tensor: shape=(), dtype=float32, numpy=13.070143>"
            ]
          },
          "metadata": {},
          "execution_count": 42
        }
      ]
    },
    {
      "cell_type": "code",
      "metadata": {
        "id": "DkAYikz1hfPB"
      },
      "source": [
        "# Let's make function for MAE and MSE\n",
        "def mae(y_true, y_pred):\n",
        "  return tf.keras.metrics.mean_absolute_error(y_true, tf.squeeze(y_pred))\n",
        "\n",
        "def mse(y_true, y_pred):\n",
        "  return tf.keras.metrics.mean_squared_error(y_true, tf.squeeze(y_pred))"
      ],
      "execution_count": null,
      "outputs": []
    },
    {
      "cell_type": "markdown",
      "metadata": {
        "id": "oegXEoXwl98v"
      },
      "source": [
        "# Running experiments to improve our model\n",
        "\n",
        "Build a model ->fit it -> evaluate it ->...\n",
        "\n",
        "1. Get more data - Get more examples for your model to train on \n",
        "(more opportunities to learn pattern or relationships between\n",
        "features and labels). \n",
        "\n",
        "2. Make your model larger (using more complex model) - this might\n",
        "come in the form of more layers or hidden units in each layer.\n",
        "\n",
        "3. Train for longer - give your model more of a chance to find \n",
        "patterns in the data. \n",
        "\n",
        "Let's do 3 modelling experiments :\n",
        "\n",
        "1. 'model_1' - same as original model, 1 layer trained for \n",
        "100 epochs.\n",
        "2. 'model_2' - 2 layers, trained for 100 epochs.\n",
        "3. 'model_3' - 2 layers, trained for 500 epochs."
      ]
    },
    {
      "cell_type": "markdown",
      "metadata": {
        "id": "3TrCU9g8oVcP"
      },
      "source": [
        "###**Build model_1**"
      ]
    },
    {
      "cell_type": "code",
      "metadata": {
        "colab": {
          "base_uri": "https://localhost:8080/"
        },
        "id": "dVXd8EcIobrH",
        "outputId": "eed715ad-5b1b-48c3-a3db-285afdaff666"
      },
      "source": [
        "# Set random seed\n",
        "tf.random.set_seed(42)\n",
        "\n",
        "# 1. Create the model\n",
        "model_1 = tf.keras.Sequential([\n",
        "        tf.keras.layers.Dense(1)                     \n",
        "]) \n",
        "\n",
        "# 2. Compile the model\n",
        "model_1.compile(loss=tf.keras.losses.mae,\n",
        "              optimizer=tf.keras.optimizers.SGD(),\n",
        "              metrics=[\"mae\"])\n",
        "\n",
        "# 3. Fit the model\n",
        "model_1.fit(X_train, y_train, epochs=100, verbose=0)\n"
      ],
      "execution_count": null,
      "outputs": [
        {
          "output_type": "execute_result",
          "data": {
            "text/plain": [
              "<keras.callbacks.History at 0x7fe2a4251c50>"
            ]
          },
          "metadata": {},
          "execution_count": 44
        }
      ]
    },
    {
      "cell_type": "code",
      "metadata": {
        "colab": {
          "base_uri": "https://localhost:8080/",
          "height": 465
        },
        "id": "aO5xMH8SnO7n",
        "outputId": "9f3165fb-65d7-4734-a3b0-666e919abc77"
      },
      "source": [
        "# Make and plot predictions for \"model_1\"\n",
        "\n",
        "y_preds_1 = model_1.predict(X_test)\n",
        "plot_predictions(predictions=y_preds_1)"
      ],
      "execution_count": null,
      "outputs": [
        {
          "output_type": "stream",
          "text": [
            "WARNING:tensorflow:6 out of the last 6 calls to <function Model.make_predict_function.<locals>.predict_function at 0x7fe25297ad40> triggered tf.function retracing. Tracing is expensive and the excessive number of tracings could be due to (1) creating @tf.function repeatedly in a loop, (2) passing tensors with different shapes, (3) passing Python objects instead of tensors. For (1), please define your @tf.function outside of the loop. For (2), @tf.function has experimental_relax_shapes=True option that relaxes argument shapes that can avoid unnecessary retracing. For (3), please refer to https://www.tensorflow.org/guide/function#controlling_retracing and https://www.tensorflow.org/api_docs/python/tf/function for  more details.\n"
          ],
          "name": "stdout"
        },
        {
          "output_type": "display_data",
          "data": {
            "image/png": "[encoded data removed]",
            "text/plain": [
              "<Figure size 720x504 with 1 Axes>"
            ]
          },
          "metadata": {
            "needs_background": "light"
          }
        }
      ]
    },
    {
      "cell_type": "code",
      "metadata": {
        "colab": {
          "base_uri": "https://localhost:8080/"
        },
        "id": "0bykYevDtNMv",
        "outputId": "92e8c63d-afcc-4d68-d020-d0058ffe47bb"
      },
      "source": [
        "# Calculate model_1 evaluation metrics\n",
        "mae_1 = mae(y_test, y_preds_1)\n",
        "mse_1 = mse(y_test, y_preds_1)\n",
        "mae_1, mse_1"
      ],
      "execution_count": null,
      "outputs": [
        {
          "output_type": "execute_result",
          "data": {
            "text/plain": [
              "(<tf.Tensor: shape=(), dtype=float32, numpy=18.745327>,\n",
              " <tf.Tensor: shape=(), dtype=float32, numpy=353.57336>)"
            ]
          },
          "metadata": {},
          "execution_count": 46
        }
      ]
    },
    {
      "cell_type": "markdown",
      "metadata": {
        "id": "JW_GAt3wxgHJ"
      },
      "source": [
        "###**Build model_2**\n",
        "\n",
        "2 dense layer for 100 epochs"
      ]
    },
    {
      "cell_type": "code",
      "metadata": {
        "colab": {
          "base_uri": "https://localhost:8080/"
        },
        "id": "OjVGfApHtyL1",
        "outputId": "edf985fc-23e4-498e-a7e1-904a23c1838e"
      },
      "source": [
        "tf.random.set_seed(42)\n",
        "\n",
        "# 1. Create the model\n",
        "model_2 = tf.keras.Sequential([\n",
        "          tf.keras.layers.Dense(10),\n",
        "          tf.keras.layers.Dense(1)                     \n",
        "])\n",
        "\n",
        "# 2. Compile the model\n",
        "model_2.compile(loss=tf.keras.losses.mae,\n",
        "              optimizer=tf.keras.optimizers.SGD(),\n",
        "              metrics=[\"mse\"])\n",
        "\n",
        "# 3. Fit the model\n",
        "model_2.fit(X_train, y_train, epochs=100, verbose=0)"
      ],
      "execution_count": null,
      "outputs": [
        {
          "output_type": "execute_result",
          "data": {
            "text/plain": [
              "<keras.callbacks.History at 0x7fe2a41eb890>"
            ]
          },
          "metadata": {},
          "execution_count": 47
        }
      ]
    },
    {
      "cell_type": "code",
      "metadata": {
        "id": "vjAM_x5-yluX",
        "colab": {
          "base_uri": "https://localhost:8080/",
          "height": 428
        },
        "outputId": "ba6a9c34-ae9d-4d74-a335-b7a3959286cc"
      },
      "source": [
        "# Make plot predictions of model_2\n",
        "y_preds_2 = model_2.predict(X_test)\n",
        "plot_predictions(predictions=y_preds_2)"
      ],
      "execution_count": null,
      "outputs": [
        {
          "output_type": "display_data",
          "data": {
            "image/png": "[encoded data removed]",
            "text/plain": [
              "<Figure size 720x504 with 1 Axes>"
            ]
          },
          "metadata": {
            "needs_background": "light"
          }
        }
      ]
    },
    {
      "cell_type": "code",
      "metadata": {
        "colab": {
          "base_uri": "https://localhost:8080/"
        },
        "id": "PmPzOBnGXL0V",
        "outputId": "1b9b7bfe-fddb-4857-f7f2-19d0c133d8b0"
      },
      "source": [
        "# Calculate model_2 evaluation metrics\n",
        "\n",
        "mae_2 = mae(y_test,y_preds_2)\n",
        "mse_2 = mse(y_test,y_preds_2)\n",
        "mae_2, mse_2"
      ],
      "execution_count": null,
      "outputs": [
        {
          "output_type": "execute_result",
          "data": {
            "text/plain": [
              "(<tf.Tensor: shape=(), dtype=float32, numpy=3.1969407>,\n",
              " <tf.Tensor: shape=(), dtype=float32, numpy=13.070143>)"
            ]
          },
          "metadata": {},
          "execution_count": 52
        }
      ]
    },
    {
      "cell_type": "markdown",
      "metadata": {
        "id": "E8RwsOl1YK_D"
      },
      "source": [
        "###**Build model_3 with 500 epochs**\n",
        "\n",
        "2 layers, trained for 500 epochs"
      ]
    },
    {
      "cell_type": "code",
      "metadata": {
        "colab": {
          "base_uri": "https://localhost:8080/"
        },
        "id": "j-9sS87SX07R",
        "outputId": "3a8b50de-2551-4fda-a662-de1124cfde63"
      },
      "source": [
        "tf.random.set_seed(42)\n",
        "\n",
        "# 1. Create the model\n",
        "model_3 =  tf.keras.Sequential([\n",
        "           tf.keras.layers.Dense(10),\n",
        "           tf.keras.layers.Dense(1)                     \n",
        "])\n",
        "\n",
        "# 2. Compile the model\n",
        "model_3.compile(loss=tf.keras.losses.mae,\n",
        "                optimizer=tf.keras.optimizers.SGD(),\n",
        "                metrics=[\"mae\"])\n",
        "\n",
        "# 3. Fit the model\n",
        "model_3.fit(X_train,y_train, epochs=500, verbose=0)"
      ],
      "execution_count": null,
      "outputs": [
        {
          "output_type": "execute_result",
          "data": {
            "text/plain": [
              "<keras.callbacks.History at 0x7fe24fcb7c90>"
            ]
          },
          "metadata": {},
          "execution_count": 54
        }
      ]
    },
    {
      "cell_type": "code",
      "metadata": {
        "colab": {
          "base_uri": "https://localhost:8080/",
          "height": 428
        },
        "id": "PR9Gn-hhZVNC",
        "outputId": "3a50620e-eb3d-4a12-d3aa-2a258f71091f"
      },
      "source": [
        "# Make plot predictions of model_3\n",
        "y_preds_3 = model_3.predict(X_test)\n",
        "plot_predictions(predictions=y_preds_3)"
      ],
      "execution_count": null,
      "outputs": [
        {
          "output_type": "display_data",
          "data": {
            "image/png": "[encoded data removed]",
            "text/plain": [
              "<Figure size 720x504 with 1 Axes>"
            ]
          },
          "metadata": {
            "needs_background": "light"
          }
        }
      ]
    },
    {
      "cell_type": "code",
      "metadata": {
        "colab": {
          "base_uri": "https://localhost:8080/"
        },
        "id": "5SRVYyXUahEi",
        "outputId": "3034a5ac-7ec9-4131-aa4c-769f1ee18fe9"
      },
      "source": [
        "# Calculate model_3 evaluation metrics\n",
        "mae_3 = mae(y_test, y_preds_3)\n",
        "mse_3 = mse(y_test, y_preds_3)\n",
        "mae_3, mse_3"
      ],
      "execution_count": null,
      "outputs": [
        {
          "output_type": "execute_result",
          "data": {
            "text/plain": [
              "(<tf.Tensor: shape=(), dtype=float32, numpy=68.713615>,\n",
              " <tf.Tensor: shape=(), dtype=float32, numpy=4808.0273>)"
            ]
          },
          "metadata": {},
          "execution_count": 56
        }
      ]
    },
    {
      "cell_type": "markdown",
      "metadata": {
        "id": "cat8zUdjhDp0"
      },
      "source": [
        "# Comparing the results of our experiments\n",
        "\n",
        "Lets compare the results"
      ]
    },
    {
      "cell_type": "code",
      "metadata": {
        "colab": {
          "base_uri": "https://localhost:8080/",
          "height": 142
        },
        "id": "1yFNPxetc43t",
        "outputId": "5ba973fa-8cd5-4444-86a8-cd6c406464a2"
      },
      "source": [
        "# Lets compare the results using pandas dataframe\n",
        "import pandas as pd\n",
        "\n",
        "model_results = [[\"model_1\", mae_1.numpy(), mse_1.numpy()],\n",
        "                 [\"model_2\", mae_2.numpy(), mse_2.numpy()],\n",
        "                 [\"model_3\", mae_3.numpy(), mse_3.numpy()]]\n",
        "\n",
        "all_results = pd.DataFrame(model_results, columns=[\"model\", \"mae\", \"mse\"])\n",
        "all_results                 "
      ],
      "execution_count": null,
      "outputs": [
        {
          "output_type": "execute_result",
          "data": {
            "text/html": [
              "<div>\n",
              "<style scoped>\n",
              "    .dataframe tbody tr th:only-of-type {\n",
              "        vertical-align: middle;\n",
              "    }\n",
              "\n",
              "    .dataframe tbody tr th {\n",
              "        vertical-align: top;\n",
              "    }\n",
              "\n",
              "    .dataframe thead th {\n",
              "        text-align: right;\n",
              "    }\n",
              "</style>\n",
              "<table border=\"1\" class=\"dataframe\">\n",
              "  <thead>\n",
              "    <tr style=\"text-align: right;\">\n",
              "      <th></th>\n",
              "      <th>model</th>\n",
              "      <th>mae</th>\n",
              "      <th>mse</th>\n",
              "    </tr>\n",
              "  </thead>\n",
              "  <tbody>\n",
              "    <tr>\n",
              "      <th>0</th>\n",
              "      <td>model_1</td>\n",
              "      <td>18.745327</td>\n",
              "      <td>353.573364</td>\n",
              "    </tr>\n",
              "    <tr>\n",
              "      <th>1</th>\n",
              "      <td>model_2</td>\n",
              "      <td>3.196941</td>\n",
              "      <td>13.070143</td>\n",
              "    </tr>\n",
              "    <tr>\n",
              "      <th>2</th>\n",
              "      <td>model_3</td>\n",
              "      <td>68.713615</td>\n",
              "      <td>4808.027344</td>\n",
              "    </tr>\n",
              "  </tbody>\n",
              "</table>\n",
              "</div>"
            ],
            "text/plain": [
              "     model        mae          mse\n",
              "0  model_1  18.745327   353.573364\n",
              "1  model_2   3.196941    13.070143\n",
              "2  model_3  68.713615  4808.027344"
            ]
          },
          "metadata": {},
          "execution_count": 61
        }
      ]
    },
    {
      "cell_type": "code",
      "metadata": {
        "colab": {
          "base_uri": "https://localhost:8080/"
        },
        "id": "Fqj0UcqlimjI",
        "outputId": "3e307c03-17c6-43ea-c32e-70327170d939"
      },
      "source": [
        "model_2.summary()"
      ],
      "execution_count": null,
      "outputs": [
        {
          "output_type": "stream",
          "text": [
            "Model: \"sequential_6\"\n",
            "_________________________________________________________________\n",
            "Layer (type)                 Output Shape              Param #   \n",
            "=================================================================\n",
            "dense_10 (Dense)             (None, 10)                20        \n",
            "_________________________________________________________________\n",
            "dense_11 (Dense)             (None, 1)                 11        \n",
            "=================================================================\n",
            "Total params: 31\n",
            "Trainable params: 31\n",
            "Non-trainable params: 0\n",
            "_________________________________________________________________\n"
          ],
          "name": "stdout"
        }
      ]
    },
    {
      "cell_type": "markdown",
      "metadata": {
        "id": "RSIBxpuLmU_9"
      },
      "source": [
        "# Saving our models\n",
        "\n",
        "Saving our models allows us to use them outside of Google Colab ( or\n",
        "wherever they are trained) such as in web application or mobile app.\n",
        "\n",
        "There are two main format we can save our models :\n",
        "\n",
        "1. The SavedModel format\n",
        "2. The HDF5 format"
      ]
    },
    {
      "cell_type": "code",
      "metadata": {
        "colab": {
          "base_uri": "https://localhost:8080/"
        },
        "id": "cHBL3TWojMVA",
        "outputId": "588b52b4-299c-45a0-8e4b-e3b95ae15fcf"
      },
      "source": [
        "# Save a model using SavedModel format\n",
        "model_2.save(\"best_model_SavedModel format\")"
      ],
      "execution_count": null,
      "outputs": [
        {
          "output_type": "stream",
          "text": [
            "INFO:tensorflow:Assets written to: best_model_SavedModel format/assets\n"
          ],
          "name": "stdout"
        }
      ]
    },
    {
      "cell_type": "code",
      "metadata": {
        "id": "ZdwpvmcToMnJ"
      },
      "source": [
        "# Saving the model using HDF5 format\n",
        "model_2.save(\"best_model_HDF5_format.h5\")"
      ],
      "execution_count": null,
      "outputs": []
    },
    {
      "cell_type": "markdown",
      "metadata": {
        "id": "r3ygq4wo7Y2o"
      },
      "source": [
        "# Loading a saved model"
      ]
    },
    {
      "cell_type": "code",
      "metadata": {
        "colab": {
          "base_uri": "https://localhost:8080/"
        },
        "id": "ryE3Z6OdpHNN",
        "outputId": "cd55f19a-2e31-49e3-b3e7-74924ae08a52"
      },
      "source": [
        "# Load in the SavedModel format model\n",
        "loaded_SavedModel_format = tf.keras.models.load_model(\"/content/best_model_SavedModel format\")\n",
        "loaded_SavedModel_format.summary()"
      ],
      "execution_count": null,
      "outputs": [
        {
          "output_type": "stream",
          "text": [
            "Model: \"sequential_6\"\n",
            "_________________________________________________________________\n",
            "Layer (type)                 Output Shape              Param #   \n",
            "=================================================================\n",
            "dense_10 (Dense)             (None, 10)                20        \n",
            "_________________________________________________________________\n",
            "dense_11 (Dense)             (None, 1)                 11        \n",
            "=================================================================\n",
            "Total params: 31\n",
            "Trainable params: 31\n",
            "Non-trainable params: 0\n",
            "_________________________________________________________________\n"
          ],
          "name": "stdout"
        }
      ]
    },
    {
      "cell_type": "code",
      "metadata": {
        "id": "iJfpJRVt7_Ey",
        "colab": {
          "base_uri": "https://localhost:8080/"
        },
        "outputId": "0f5aba99-a3ac-429f-86dd-cec1da3e90d8"
      },
      "source": [
        "# Compare model_2 predictions with SavedModel format model predictions\n",
        "model_2_preds = model_2.predict(X_test)\n",
        "loaded_SavedModel_format_preds = loaded_SavedModel_format.predict(X_test)\n",
        "model_2_preds == loaded_SavedModel_format_preds"
      ],
      "execution_count": null,
      "outputs": [
        {
          "output_type": "execute_result",
          "data": {
            "text/plain": [
              "array([[ True],\n",
              "       [ True],\n",
              "       [ True],\n",
              "       [ True],\n",
              "       [ True],\n",
              "       [ True],\n",
              "       [ True],\n",
              "       [ True],\n",
              "       [ True],\n",
              "       [ True]])"
            ]
          },
          "metadata": {},
          "execution_count": 68
        }
      ]
    },
    {
      "cell_type": "code",
      "metadata": {
        "id": "QflotH5P9DVD",
        "colab": {
          "base_uri": "https://localhost:8080/"
        },
        "outputId": "708e5bf4-6b14-4930-a7c8-77c14a343845"
      },
      "source": [
        "# Load in the model using the .h5 format\n",
        "loaded_h5_model = tf.keras.models.load_model(\"/content/best_model_HDF5_format.h5\")\n",
        "loaded_h5_model.summary()"
      ],
      "execution_count": null,
      "outputs": [
        {
          "output_type": "stream",
          "text": [
            "Model: \"sequential_6\"\n",
            "_________________________________________________________________\n",
            "Layer (type)                 Output Shape              Param #   \n",
            "=================================================================\n",
            "dense_10 (Dense)             (None, 10)                20        \n",
            "_________________________________________________________________\n",
            "dense_11 (Dense)             (None, 1)                 11        \n",
            "=================================================================\n",
            "Total params: 31\n",
            "Trainable params: 31\n",
            "Non-trainable params: 0\n",
            "_________________________________________________________________\n"
          ],
          "name": "stdout"
        }
      ]
    },
    {
      "cell_type": "code",
      "metadata": {
        "id": "GZbkbGMA-NUx",
        "colab": {
          "base_uri": "https://localhost:8080/"
        },
        "outputId": "bb48b913-bbc1-41bc-ab6c-0ce2bf16c5de"
      },
      "source": [
        "# Check to see if loaded .h5 model predictions match model_2\n",
        "model_2_preds = model_2.predict(X_test)\n",
        "loaded_h5_model_preds = loaded_h5_model.predict(X_test)\n",
        "\n",
        "model_2_preds == loaded_h5_model_preds"
      ],
      "execution_count": null,
      "outputs": [
        {
          "output_type": "execute_result",
          "data": {
            "text/plain": [
              "array([[ True],\n",
              "       [ True],\n",
              "       [ True],\n",
              "       [ True],\n",
              "       [ True],\n",
              "       [ True],\n",
              "       [ True],\n",
              "       [ True],\n",
              "       [ True],\n",
              "       [ True]])"
            ]
          },
          "metadata": {},
          "execution_count": 71
        }
      ]
    },
    {
      "cell_type": "markdown",
      "metadata": {
        "id": "2TTYxPxFqSMG"
      },
      "source": [
        "# Practice Session 1"
      ]
    },
    {
      "cell_type": "code",
      "metadata": {
        "id": "coEgx4ZpqWwF"
      },
      "source": [
        "import tensorflow as tf\n",
        "import pandas as pd \n",
        "import numpy as np\n",
        "import matplotlib.pyplot as plt"
      ],
      "execution_count": null,
      "outputs": []
    },
    {
      "cell_type": "code",
      "metadata": {
        "id": "_pcxK3ARrhqm",
        "colab": {
          "base_uri": "https://localhost:8080/",
          "height": 35
        },
        "outputId": "2cdf81a1-790a-4e31-d3af-1bb2ea581fc0"
      },
      "source": [
        "tf.__version__"
      ],
      "execution_count": null,
      "outputs": [
        {
          "output_type": "execute_result",
          "data": {
            "application/vnd.google.colaboratory.intrinsic+json": {
              "type": "string"
            },
            "text/plain": [
              "'2.6.0'"
            ]
          },
          "metadata": {},
          "execution_count": 2
        }
      ]
    },
    {
      "cell_type": "code",
      "metadata": {
        "id": "_6Y6nXOcrpUY"
      },
      "source": [
        "# Create dataset\n",
        "X = np.array([-7.0, -4.0, -2.0, 1.0, 5.0, 8.0, 10.0])\n",
        "y = np.array([3.0,6.0,8.0, 11.0, 15.0, 18.0, 20.0]) # Trend is y=X+10"
      ],
      "execution_count": null,
      "outputs": []
    },
    {
      "cell_type": "code",
      "metadata": {
        "id": "f49OYaRrtVK0",
        "colab": {
          "base_uri": "https://localhost:8080/",
          "height": 283
        },
        "outputId": "75fe27bc-04d9-4796-f1df-0526a0247112"
      },
      "source": [
        "# Visualize the data\n",
        "plt.scatter(X,y)"
      ],
      "execution_count": null,
      "outputs": [
        {
          "output_type": "execute_result",
          "data": {
            "text/plain": [
              "<matplotlib.collections.PathCollection at 0x7f14c4a74e50>"
            ]
          },
          "metadata": {},
          "execution_count": 11
        },
        {
          "output_type": "display_data",
          "data": {
            "image/png": "[encoded data removed]",
            "text/plain": [
              "<Figure size 432x288 with 1 Axes>"
            ]
          },
          "metadata": {
            "needs_background": "light"
          }
        }
      ]
    },
    {
      "cell_type": "code",
      "metadata": {
        "id": "clJQXH8WtoF4",
        "colab": {
          "base_uri": "https://localhost:8080/"
        },
        "outputId": "159c9232-0c05-41d8-8f5a-31117eaa6a9d"
      },
      "source": [
        "# Convert the data to tensors\n",
        "X = tf.constant(X)\n",
        "y = tf.constant(y)\n",
        "X, y"
      ],
      "execution_count": null,
      "outputs": [
        {
          "output_type": "execute_result",
          "data": {
            "text/plain": [
              "(<tf.Tensor: shape=(7,), dtype=float64, numpy=array([-7., -4., -2.,  1.,  5.,  8., 10.])>,\n",
              " <tf.Tensor: shape=(7,), dtype=float64, numpy=array([ 3.,  6.,  8., 11., 15., 18., 20.])>)"
            ]
          },
          "metadata": {},
          "execution_count": 14
        }
      ]
    },
    {
      "cell_type": "code",
      "metadata": {
        "id": "e9SfAtzUtwhM",
        "colab": {
          "base_uri": "https://localhost:8080/"
        },
        "outputId": "fd20e1a0-c5ec-4651-82b4-a989eb4eaa9d"
      },
      "source": [
        "X.shape, y.shape, X.ndim, y.ndim"
      ],
      "execution_count": null,
      "outputs": [
        {
          "output_type": "execute_result",
          "data": {
            "text/plain": [
              "(TensorShape([7]), TensorShape([7]), 1, 1)"
            ]
          },
          "metadata": {},
          "execution_count": 13
        }
      ]
    },
    {
      "cell_type": "code",
      "metadata": {
        "id": "_MgZgGAKt42x",
        "colab": {
          "base_uri": "https://localhost:8080/"
        },
        "outputId": "2d1c2f78-6fca-4154-b748-c013a88e7fa6"
      },
      "source": [
        "# Create the neural Network model\n",
        "tf.random.set_seed(42)\n",
        "\n",
        "# 1. Create the model\n",
        "model_1 = tf.keras.Sequential([\n",
        "          tf.keras.layers.Dense(10),\n",
        "          tf.keras.layers.Dense(1)                     \n",
        "])\n",
        "\n",
        "# 2. Compile the model\n",
        "model_1.compile(loss=tf.keras.losses.mae,\n",
        "                optimizer=tf.keras.optimizers.SGD(),\n",
        "                metrics=[\"mae\"])\n",
        "\n",
        "# 3. Train the model\n",
        "model_1.fit(X,y, epochs=50, verbose=0)"
      ],
      "execution_count": null,
      "outputs": [
        {
          "output_type": "execute_result",
          "data": {
            "text/plain": [
              "<keras.callbacks.History at 0x7f14c4143690>"
            ]
          },
          "metadata": {},
          "execution_count": 15
        }
      ]
    },
    {
      "cell_type": "code",
      "metadata": {
        "id": "mJFCRPIvwlam",
        "colab": {
          "base_uri": "https://localhost:8080/"
        },
        "outputId": "58f12179-12b4-46c0-bd7b-52dcc3a6ee3b"
      },
      "source": [
        "# model summary\n",
        "model_1.summary()"
      ],
      "execution_count": null,
      "outputs": [
        {
          "output_type": "stream",
          "text": [
            "Model: \"sequential\"\n",
            "_________________________________________________________________\n",
            "Layer (type)                 Output Shape              Param #   \n",
            "=================================================================\n",
            "dense (Dense)                (None, 10)                20        \n",
            "_________________________________________________________________\n",
            "dense_1 (Dense)              (None, 1)                 11        \n",
            "=================================================================\n",
            "Total params: 31\n",
            "Trainable params: 31\n",
            "Non-trainable params: 0\n",
            "_________________________________________________________________\n"
          ],
          "name": "stdout"
        }
      ]
    },
    {
      "cell_type": "code",
      "metadata": {
        "id": "jkwqRA0gwqkk",
        "colab": {
          "base_uri": "https://localhost:8080/"
        },
        "outputId": "d98ace28-f520-463d-fc1b-5e370dab37aa"
      },
      "source": [
        "model_1.predict([18.0]) # Prediction is bad"
      ],
      "execution_count": null,
      "outputs": [
        {
          "output_type": "execute_result",
          "data": {
            "text/plain": [
              "array([[34.173527]], dtype=float32)"
            ]
          },
          "metadata": {},
          "execution_count": 17
        }
      ]
    },
    {
      "cell_type": "code",
      "metadata": {
        "id": "BctxV7fEzswH",
        "colab": {
          "base_uri": "https://localhost:8080/"
        },
        "outputId": "5a570499-0205-4efe-8543-63b7f8afba60"
      },
      "source": [
        "# Improve the model\n",
        "tf.random.set_seed(42)\n",
        "\n",
        "# 1. Create the model once again\n",
        "model_2 = tf.keras.Sequential([\n",
        "          tf.keras.layers.Dense(100),\n",
        "          tf.keras.layers.Dense(10),\n",
        "          tf.keras.layers.Dense(1)                     \n",
        "])\n",
        "\n",
        "# 2. Compile the model\n",
        "model_2.compile(loss=tf.keras.losses.mae,\n",
        "                optimizer=tf.keras.optimizers.Adam(learning_rate=0.10),\n",
        "                metrics=[\"mae\"])\n",
        "\n",
        "# Training the model\n",
        "model_2.fit(X,y, epochs=100, verbose=0)"
      ],
      "execution_count": null,
      "outputs": [
        {
          "output_type": "execute_result",
          "data": {
            "text/plain": [
              "<keras.callbacks.History at 0x7f14c16e3d10>"
            ]
          },
          "metadata": {},
          "execution_count": 18
        }
      ]
    },
    {
      "cell_type": "code",
      "metadata": {
        "id": "x9zFImFw1UdQ",
        "colab": {
          "base_uri": "https://localhost:8080/"
        },
        "outputId": "e6b75783-bb8a-4384-92cb-5d53af457548"
      },
      "source": [
        "model_2.summary()"
      ],
      "execution_count": null,
      "outputs": [
        {
          "output_type": "stream",
          "text": [
            "Model: \"sequential_1\"\n",
            "_________________________________________________________________\n",
            "Layer (type)                 Output Shape              Param #   \n",
            "=================================================================\n",
            "dense_2 (Dense)              (None, 100)               200       \n",
            "_________________________________________________________________\n",
            "dense_3 (Dense)              (None, 10)                1010      \n",
            "_________________________________________________________________\n",
            "dense_4 (Dense)              (None, 1)                 11        \n",
            "=================================================================\n",
            "Total params: 1,221\n",
            "Trainable params: 1,221\n",
            "Non-trainable params: 0\n",
            "_________________________________________________________________\n"
          ],
          "name": "stdout"
        }
      ]
    },
    {
      "cell_type": "code",
      "metadata": {
        "id": "mpLmYpAd1YFI",
        "colab": {
          "base_uri": "https://localhost:8080/"
        },
        "outputId": "57f7d011-009f-412d-d09e-4cf422e1c640"
      },
      "source": [
        "model_2.predict([18.0]) # Excellent prediction"
      ],
      "execution_count": null,
      "outputs": [
        {
          "output_type": "execute_result",
          "data": {
            "text/plain": [
              "array([[27.837711]], dtype=float32)"
            ]
          },
          "metadata": {},
          "execution_count": 21
        }
      ]
    },
    {
      "cell_type": "code",
      "metadata": {
        "id": "p5c_aB0e1gbh",
        "colab": {
          "base_uri": "https://localhost:8080/"
        },
        "outputId": "26c0300f-0cfe-4f2a-f6c0-e9afb53f9ed4"
      },
      "source": [
        "# Create a dataset\n",
        "X = tf.range(1,500, 4)\n",
        "X"
      ],
      "execution_count": null,
      "outputs": [
        {
          "output_type": "execute_result",
          "data": {
            "text/plain": [
              "<tf.Tensor: shape=(125,), dtype=int32, numpy=\n",
              "array([  1,   5,   9,  13,  17,  21,  25,  29,  33,  37,  41,  45,  49,\n",
              "        53,  57,  61,  65,  69,  73,  77,  81,  85,  89,  93,  97, 101,\n",
              "       105, 109, 113, 117, 121, 125, 129, 133, 137, 141, 145, 149, 153,\n",
              "       157, 161, 165, 169, 173, 177, 181, 185, 189, 193, 197, 201, 205,\n",
              "       209, 213, 217, 221, 225, 229, 233, 237, 241, 245, 249, 253, 257,\n",
              "       261, 265, 269, 273, 277, 281, 285, 289, 293, 297, 301, 305, 309,\n",
              "       313, 317, 321, 325, 329, 333, 337, 341, 345, 349, 353, 357, 361,\n",
              "       365, 369, 373, 377, 381, 385, 389, 393, 397, 401, 405, 409, 413,\n",
              "       417, 421, 425, 429, 433, 437, 441, 445, 449, 453, 457, 461, 465,\n",
              "       469, 473, 477, 481, 485, 489, 493, 497], dtype=int32)>"
            ]
          },
          "metadata": {},
          "execution_count": 2
        }
      ]
    },
    {
      "cell_type": "code",
      "metadata": {
        "colab": {
          "base_uri": "https://localhost:8080/"
        },
        "id": "AGjSXRknXGP4",
        "outputId": "525cf84d-605d-4406-c71e-16d47fb8b9ec"
      },
      "source": [
        "# Create the labels for dataset\n",
        "y = X+10\n",
        "y"
      ],
      "execution_count": null,
      "outputs": [
        {
          "output_type": "execute_result",
          "data": {
            "text/plain": [
              "<tf.Tensor: shape=(125,), dtype=int32, numpy=\n",
              "array([ 11,  15,  19,  23,  27,  31,  35,  39,  43,  47,  51,  55,  59,\n",
              "        63,  67,  71,  75,  79,  83,  87,  91,  95,  99, 103, 107, 111,\n",
              "       115, 119, 123, 127, 131, 135, 139, 143, 147, 151, 155, 159, 163,\n",
              "       167, 171, 175, 179, 183, 187, 191, 195, 199, 203, 207, 211, 215,\n",
              "       219, 223, 227, 231, 235, 239, 243, 247, 251, 255, 259, 263, 267,\n",
              "       271, 275, 279, 283, 287, 291, 295, 299, 303, 307, 311, 315, 319,\n",
              "       323, 327, 331, 335, 339, 343, 347, 351, 355, 359, 363, 367, 371,\n",
              "       375, 379, 383, 387, 391, 395, 399, 403, 407, 411, 415, 419, 423,\n",
              "       427, 431, 435, 439, 443, 447, 451, 455, 459, 463, 467, 471, 475,\n",
              "       479, 483, 487, 491, 495, 499, 503, 507], dtype=int32)>"
            ]
          },
          "metadata": {},
          "execution_count": 4
        }
      ]
    },
    {
      "cell_type": "code",
      "metadata": {
        "colab": {
          "base_uri": "https://localhost:8080/"
        },
        "id": "bCvLxyl-YQdA",
        "outputId": "993b5361-265a-445d-9170-350746b33d52"
      },
      "source": [
        "len(X)"
      ],
      "execution_count": null,
      "outputs": [
        {
          "output_type": "execute_result",
          "data": {
            "text/plain": [
              "125"
            ]
          },
          "metadata": {},
          "execution_count": 9
        }
      ]
    },
    {
      "cell_type": "code",
      "metadata": {
        "colab": {
          "base_uri": "https://localhost:8080/"
        },
        "id": "J0Jq4eXjYabk",
        "outputId": "704b5377-1fe4-4f10-94b0-1f5384952a01"
      },
      "source": [
        "# Ceate train test data \n",
        "X_train = X[:100]\n",
        "X_test = X[100:]\n",
        "len(X_train), len(X_test)"
      ],
      "execution_count": null,
      "outputs": [
        {
          "output_type": "execute_result",
          "data": {
            "text/plain": [
              "(100, 25)"
            ]
          },
          "metadata": {},
          "execution_count": 10
        }
      ]
    },
    {
      "cell_type": "code",
      "metadata": {
        "colab": {
          "base_uri": "https://localhost:8080/"
        },
        "id": "M33Nd4MrZAHU",
        "outputId": "d087f489-30a6-45b1-8c36-8cf0d5eca9e7"
      },
      "source": [
        "# Create train test data for labels\n",
        "y_train = y[:100]\n",
        "y_test = y[100:]\n",
        "len(y_train), len(y_test)"
      ],
      "execution_count": null,
      "outputs": [
        {
          "output_type": "execute_result",
          "data": {
            "text/plain": [
              "(100, 25)"
            ]
          },
          "metadata": {},
          "execution_count": 13
        }
      ]
    },
    {
      "cell_type": "code",
      "metadata": {
        "colab": {
          "base_uri": "https://localhost:8080/",
          "height": 445
        },
        "id": "_5hhdSA8ZX5r",
        "outputId": "c68947ee-68ac-4a9d-f52e-8833523f1777"
      },
      "source": [
        "# Visualize the data\n",
        "plt.figure(figsize=(10,7))\n",
        "\n",
        "# Plot the training data in blue\n",
        "plt.scatter(X_train, y_train, c=\"b\", label=\"Training Data\")\n",
        "\n",
        "# Plot the testing data in green\n",
        "plt.scatter(X_test,y_test, c=\"g\", label=\"Testing Data\")\n",
        "\n",
        "plt.legend()"
      ],
      "execution_count": null,
      "outputs": [
        {
          "output_type": "execute_result",
          "data": {
            "text/plain": [
              "<matplotlib.legend.Legend at 0x7f8d8975c990>"
            ]
          },
          "metadata": {},
          "execution_count": 14
        },
        {
          "output_type": "display_data",
          "data": {
            "image/png": "[encoded data removed]",
            "text/plain": [
              "<Figure size 720x504 with 1 Axes>"
            ]
          },
          "metadata": {
            "needs_background": "light"
          }
        }
      ]
    },
    {
      "cell_type": "code",
      "metadata": {
        "colab": {
          "base_uri": "https://localhost:8080/"
        },
        "id": "4ApPRGSVa1yT",
        "outputId": "7befe10c-e4c7-4fd6-eaec-6c4702583a51"
      },
      "source": [
        "# Build the neural network\n",
        "tf.random.set_seed(42)\n",
        "\n",
        "# 1. Create the model\n",
        "model_1 = tf.keras.Sequential([\n",
        "          tf.keras.layers.Dense(100),\n",
        "          tf.keras.layers.Dense(100),\n",
        "          tf.keras.layers.Dense(100),\n",
        "          tf.keras.layers.Dense(10),                     \n",
        "          tf.keras.layers.Dense(1)                     \n",
        "])\n",
        "\n",
        "# Compile the model\n",
        "model_1.compile(loss=tf.keras.losses.mae,\n",
        "                optimizer=tf.keras.optimizers.Adam(learning_rate=0.01),\n",
        "                metrics=[\"mae\"])\n",
        "\n",
        "# Fit the model\n",
        "model_1.fit(X_train,y_train, epochs=400)"
      ],
      "execution_count": null,
      "outputs": [
        {
          "output_type": "stream",
          "text": [
            "Epoch 1/400\n",
            "4/4 [==============================] - 0s 4ms/step - loss: 240.6678 - mae: 240.6678\n",
            "Epoch 2/400\n",
            "4/4 [==============================] - 0s 4ms/step - loss: 91.8054 - mae: 91.8054\n",
            "Epoch 3/400\n",
            "4/4 [==============================] - 0s 4ms/step - loss: 63.1159 - mae: 63.1159\n",
            "Epoch 4/400\n",
            "4/4 [==============================] - 0s 6ms/step - loss: 68.1261 - mae: 68.1261\n",
            "Epoch 5/400\n",
            "4/4 [==============================] - 0s 5ms/step - loss: 90.4482 - mae: 90.4482\n",
            "Epoch 6/400\n",
            "4/4 [==============================] - 0s 4ms/step - loss: 45.7665 - mae: 45.7665\n",
            "Epoch 7/400\n",
            "4/4 [==============================] - 0s 5ms/step - loss: 46.6752 - mae: 46.6752\n",
            "Epoch 8/400\n",
            "4/4 [==============================] - 0s 5ms/step - loss: 69.9955 - mae: 69.9955\n",
            "Epoch 9/400\n",
            "4/4 [==============================] - 0s 5ms/step - loss: 35.2692 - mae: 35.2692\n",
            "Epoch 10/400\n",
            "4/4 [==============================] - 0s 5ms/step - loss: 16.1271 - mae: 16.1271\n",
            "Epoch 11/400\n",
            "4/4 [==============================] - 0s 7ms/step - loss: 4.0242 - mae: 4.0242\n",
            "Epoch 12/400\n",
            "4/4 [==============================] - 0s 4ms/step - loss: 7.6663 - mae: 7.6663\n",
            "Epoch 13/400\n",
            "4/4 [==============================] - 0s 5ms/step - loss: 10.3522 - mae: 10.3522\n",
            "Epoch 14/400\n",
            "4/4 [==============================] - 0s 5ms/step - loss: 14.2875 - mae: 14.2875\n",
            "Epoch 15/400\n",
            "4/4 [==============================] - 0s 5ms/step - loss: 41.5318 - mae: 41.5318\n",
            "Epoch 16/400\n",
            "4/4 [==============================] - 0s 4ms/step - loss: 41.3312 - mae: 41.3312\n",
            "Epoch 17/400\n",
            "4/4 [==============================] - 0s 6ms/step - loss: 26.2155 - mae: 26.2155\n",
            "Epoch 18/400\n",
            "4/4 [==============================] - 0s 5ms/step - loss: 25.5667 - mae: 25.5667\n",
            "Epoch 19/400\n",
            "4/4 [==============================] - 0s 4ms/step - loss: 18.5002 - mae: 18.5002\n",
            "Epoch 20/400\n",
            "4/4 [==============================] - 0s 5ms/step - loss: 17.5946 - mae: 17.5946\n",
            "Epoch 21/400\n",
            "4/4 [==============================] - 0s 5ms/step - loss: 23.0541 - mae: 23.0541\n",
            "Epoch 22/400\n",
            "4/4 [==============================] - 0s 5ms/step - loss: 17.4181 - mae: 17.4181\n",
            "Epoch 23/400\n",
            "4/4 [==============================] - 0s 5ms/step - loss: 22.1364 - mae: 22.1364\n",
            "Epoch 24/400\n",
            "4/4 [==============================] - 0s 4ms/step - loss: 14.5460 - mae: 14.5460\n",
            "Epoch 25/400\n",
            "4/4 [==============================] - 0s 4ms/step - loss: 7.8829 - mae: 7.8829\n",
            "Epoch 26/400\n",
            "4/4 [==============================] - 0s 4ms/step - loss: 14.4411 - mae: 14.4411\n",
            "Epoch 27/400\n",
            "4/4 [==============================] - 0s 5ms/step - loss: 13.2840 - mae: 13.2840\n",
            "Epoch 28/400\n",
            "4/4 [==============================] - 0s 5ms/step - loss: 10.6210 - mae: 10.6210\n",
            "Epoch 29/400\n",
            "4/4 [==============================] - 0s 5ms/step - loss: 12.5183 - mae: 12.5183\n",
            "Epoch 30/400\n",
            "4/4 [==============================] - 0s 4ms/step - loss: 6.5993 - mae: 6.5993\n",
            "Epoch 31/400\n",
            "4/4 [==============================] - 0s 4ms/step - loss: 3.5899 - mae: 3.5899\n",
            "Epoch 32/400\n",
            "4/4 [==============================] - 0s 5ms/step - loss: 4.3063 - mae: 4.3063\n",
            "Epoch 33/400\n",
            "4/4 [==============================] - 0s 4ms/step - loss: 6.5777 - mae: 6.5777\n",
            "Epoch 34/400\n",
            "4/4 [==============================] - 0s 5ms/step - loss: 11.0721 - mae: 11.0721\n",
            "Epoch 35/400\n",
            "4/4 [==============================] - 0s 4ms/step - loss: 20.0106 - mae: 20.0106\n",
            "Epoch 36/400\n",
            "4/4 [==============================] - 0s 4ms/step - loss: 13.6795 - mae: 13.6795\n",
            "Epoch 37/400\n",
            "4/4 [==============================] - 0s 6ms/step - loss: 10.7197 - mae: 10.7197\n",
            "Epoch 38/400\n",
            "4/4 [==============================] - 0s 4ms/step - loss: 7.1268 - mae: 7.1268\n",
            "Epoch 39/400\n",
            "4/4 [==============================] - 0s 4ms/step - loss: 10.5300 - mae: 10.5300\n",
            "Epoch 40/400\n",
            "4/4 [==============================] - 0s 4ms/step - loss: 10.5491 - mae: 10.5491\n",
            "Epoch 41/400\n",
            "4/4 [==============================] - 0s 5ms/step - loss: 12.7045 - mae: 12.7045\n",
            "Epoch 42/400\n",
            "4/4 [==============================] - 0s 5ms/step - loss: 6.9117 - mae: 6.9117\n",
            "Epoch 43/400\n",
            "4/4 [==============================] - 0s 4ms/step - loss: 4.9920 - mae: 4.9920\n",
            "Epoch 44/400\n",
            "4/4 [==============================] - 0s 6ms/step - loss: 6.5938 - mae: 6.5938\n",
            "Epoch 45/400\n",
            "4/4 [==============================] - 0s 5ms/step - loss: 7.4801 - mae: 7.4801\n",
            "Epoch 46/400\n",
            "4/4 [==============================] - 0s 5ms/step - loss: 3.9077 - mae: 3.9077\n",
            "Epoch 47/400\n",
            "4/4 [==============================] - 0s 6ms/step - loss: 11.9459 - mae: 11.9459\n",
            "Epoch 48/400\n",
            "4/4 [==============================] - 0s 4ms/step - loss: 14.9338 - mae: 14.9338\n",
            "Epoch 49/400\n",
            "4/4 [==============================] - 0s 5ms/step - loss: 22.8692 - mae: 22.8692\n",
            "Epoch 50/400\n",
            "4/4 [==============================] - 0s 5ms/step - loss: 19.4106 - mae: 19.4106\n",
            "Epoch 51/400\n",
            "4/4 [==============================] - 0s 4ms/step - loss: 32.0453 - mae: 32.0453\n",
            "Epoch 52/400\n",
            "4/4 [==============================] - 0s 4ms/step - loss: 13.8807 - mae: 13.8807\n",
            "Epoch 53/400\n",
            "4/4 [==============================] - 0s 6ms/step - loss: 9.5952 - mae: 9.5952\n",
            "Epoch 54/400\n",
            "4/4 [==============================] - 0s 4ms/step - loss: 14.1324 - mae: 14.1324\n",
            "Epoch 55/400\n",
            "4/4 [==============================] - 0s 5ms/step - loss: 6.0547 - mae: 6.0547\n",
            "Epoch 56/400\n",
            "4/4 [==============================] - 0s 5ms/step - loss: 2.7162 - mae: 2.7162\n",
            "Epoch 57/400\n",
            "4/4 [==============================] - 0s 4ms/step - loss: 5.6831 - mae: 5.6831\n",
            "Epoch 58/400\n",
            "4/4 [==============================] - 0s 6ms/step - loss: 5.5022 - mae: 5.5022\n",
            "Epoch 59/400\n",
            "4/4 [==============================] - 0s 9ms/step - loss: 10.0351 - mae: 10.0351\n",
            "Epoch 60/400\n",
            "4/4 [==============================] - 0s 5ms/step - loss: 15.6653 - mae: 15.6653\n",
            "Epoch 61/400\n",
            "4/4 [==============================] - 0s 6ms/step - loss: 15.6907 - mae: 15.6907\n",
            "Epoch 62/400\n",
            "4/4 [==============================] - 0s 5ms/step - loss: 20.5072 - mae: 20.5072\n",
            "Epoch 63/400\n",
            "4/4 [==============================] - 0s 4ms/step - loss: 10.3619 - mae: 10.3619\n",
            "Epoch 64/400\n",
            "4/4 [==============================] - 0s 4ms/step - loss: 12.7273 - mae: 12.7273\n",
            "Epoch 65/400\n",
            "4/4 [==============================] - 0s 4ms/step - loss: 13.1704 - mae: 13.1704\n",
            "Epoch 66/400\n",
            "4/4 [==============================] - 0s 4ms/step - loss: 5.0061 - mae: 5.0061\n",
            "Epoch 67/400\n",
            "4/4 [==============================] - 0s 4ms/step - loss: 10.5868 - mae: 10.5868\n",
            "Epoch 68/400\n",
            "4/4 [==============================] - 0s 4ms/step - loss: 14.3812 - mae: 14.3812\n",
            "Epoch 69/400\n",
            "4/4 [==============================] - 0s 4ms/step - loss: 12.1696 - mae: 12.1696\n",
            "Epoch 70/400\n",
            "4/4 [==============================] - 0s 6ms/step - loss: 14.4872 - mae: 14.4872\n",
            "Epoch 71/400\n",
            "4/4 [==============================] - 0s 6ms/step - loss: 26.2207 - mae: 26.2207\n",
            "Epoch 72/400\n",
            "4/4 [==============================] - 0s 5ms/step - loss: 12.9271 - mae: 12.9271\n",
            "Epoch 73/400\n",
            "4/4 [==============================] - 0s 5ms/step - loss: 11.1801 - mae: 11.1801\n",
            "Epoch 74/400\n",
            "4/4 [==============================] - 0s 4ms/step - loss: 7.3764 - mae: 7.3764\n",
            "Epoch 75/400\n",
            "4/4 [==============================] - 0s 6ms/step - loss: 20.4647 - mae: 20.4647\n",
            "Epoch 76/400\n",
            "4/4 [==============================] - 0s 4ms/step - loss: 4.9145 - mae: 4.9145\n",
            "Epoch 77/400\n",
            "4/4 [==============================] - 0s 6ms/step - loss: 16.7262 - mae: 16.7262\n",
            "Epoch 78/400\n",
            "4/4 [==============================] - 0s 6ms/step - loss: 10.0954 - mae: 10.0954\n",
            "Epoch 79/400\n",
            "4/4 [==============================] - 0s 5ms/step - loss: 11.7834 - mae: 11.7834\n",
            "Epoch 80/400\n",
            "4/4 [==============================] - 0s 5ms/step - loss: 16.2190 - mae: 16.2190\n",
            "Epoch 81/400\n",
            "4/4 [==============================] - 0s 5ms/step - loss: 14.2902 - mae: 14.2902\n",
            "Epoch 82/400\n",
            "4/4 [==============================] - 0s 5ms/step - loss: 26.5384 - mae: 26.5384\n",
            "Epoch 83/400\n",
            "4/4 [==============================] - 0s 4ms/step - loss: 20.2207 - mae: 20.2207\n",
            "Epoch 84/400\n",
            "4/4 [==============================] - 0s 4ms/step - loss: 9.9468 - mae: 9.9468\n",
            "Epoch 85/400\n",
            "4/4 [==============================] - 0s 6ms/step - loss: 8.3987 - mae: 8.3987\n",
            "Epoch 86/400\n",
            "4/4 [==============================] - 0s 5ms/step - loss: 15.2261 - mae: 15.2261\n",
            "Epoch 87/400\n",
            "4/4 [==============================] - 0s 6ms/step - loss: 4.5759 - mae: 4.5759\n",
            "Epoch 88/400\n",
            "4/4 [==============================] - 0s 6ms/step - loss: 11.0540 - mae: 11.0540\n",
            "Epoch 89/400\n",
            "4/4 [==============================] - 0s 5ms/step - loss: 8.2172 - mae: 8.2172\n",
            "Epoch 90/400\n",
            "4/4 [==============================] - 0s 5ms/step - loss: 11.8808 - mae: 11.8808\n",
            "Epoch 91/400\n",
            "4/4 [==============================] - 0s 5ms/step - loss: 2.9625 - mae: 2.9625\n",
            "Epoch 92/400\n",
            "4/4 [==============================] - 0s 5ms/step - loss: 4.2592 - mae: 4.2592\n",
            "Epoch 93/400\n",
            "4/4 [==============================] - 0s 7ms/step - loss: 9.5704 - mae: 9.5704\n",
            "Epoch 94/400\n",
            "4/4 [==============================] - 0s 5ms/step - loss: 11.8117 - mae: 11.8117\n",
            "Epoch 95/400\n",
            "4/4 [==============================] - 0s 4ms/step - loss: 4.9603 - mae: 4.9603\n",
            "Epoch 96/400\n",
            "4/4 [==============================] - 0s 6ms/step - loss: 2.6510 - mae: 2.6510\n",
            "Epoch 97/400\n",
            "4/4 [==============================] - 0s 6ms/step - loss: 9.1960 - mae: 9.1960\n",
            "Epoch 98/400\n",
            "4/4 [==============================] - 0s 5ms/step - loss: 2.8932 - mae: 2.8932\n",
            "Epoch 99/400\n",
            "4/4 [==============================] - 0s 6ms/step - loss: 4.1568 - mae: 4.1568\n",
            "Epoch 100/400\n",
            "4/4 [==============================] - 0s 6ms/step - loss: 7.2410 - mae: 7.2410\n",
            "Epoch 101/400\n",
            "4/4 [==============================] - 0s 4ms/step - loss: 9.2744 - mae: 9.2744\n",
            "Epoch 102/400\n",
            "4/4 [==============================] - 0s 5ms/step - loss: 3.9685 - mae: 3.9685\n",
            "Epoch 103/400\n",
            "4/4 [==============================] - 0s 5ms/step - loss: 7.2417 - mae: 7.2417\n",
            "Epoch 104/400\n",
            "4/4 [==============================] - 0s 5ms/step - loss: 10.2213 - mae: 10.2213\n",
            "Epoch 105/400\n",
            "4/4 [==============================] - 0s 6ms/step - loss: 14.4436 - mae: 14.4436\n",
            "Epoch 106/400\n",
            "4/4 [==============================] - 0s 5ms/step - loss: 15.8516 - mae: 15.8516\n",
            "Epoch 107/400\n",
            "4/4 [==============================] - 0s 6ms/step - loss: 17.4229 - mae: 17.4229\n",
            "Epoch 108/400\n",
            "4/4 [==============================] - 0s 4ms/step - loss: 22.8830 - mae: 22.8830\n",
            "Epoch 109/400\n",
            "4/4 [==============================] - 0s 6ms/step - loss: 8.8598 - mae: 8.8598\n",
            "Epoch 110/400\n",
            "4/4 [==============================] - 0s 4ms/step - loss: 12.8868 - mae: 12.8868\n",
            "Epoch 111/400\n",
            "4/4 [==============================] - 0s 6ms/step - loss: 9.4988 - mae: 9.4988\n",
            "Epoch 112/400\n",
            "4/4 [==============================] - 0s 5ms/step - loss: 9.1677 - mae: 9.1677\n",
            "Epoch 113/400\n",
            "4/4 [==============================] - 0s 6ms/step - loss: 8.5742 - mae: 8.5742\n",
            "Epoch 114/400\n",
            "4/4 [==============================] - 0s 6ms/step - loss: 8.7561 - mae: 8.7561\n",
            "Epoch 115/400\n",
            "4/4 [==============================] - 0s 5ms/step - loss: 3.6297 - mae: 3.6297\n",
            "Epoch 116/400\n",
            "4/4 [==============================] - 0s 5ms/step - loss: 5.0793 - mae: 5.0793\n",
            "Epoch 117/400\n",
            "4/4 [==============================] - 0s 6ms/step - loss: 6.7691 - mae: 6.7691\n",
            "Epoch 118/400\n",
            "4/4 [==============================] - 0s 5ms/step - loss: 9.0654 - mae: 9.0654\n",
            "Epoch 119/400\n",
            "4/4 [==============================] - 0s 6ms/step - loss: 5.9096 - mae: 5.9096\n",
            "Epoch 120/400\n",
            "4/4 [==============================] - 0s 5ms/step - loss: 4.9455 - mae: 4.9455\n",
            "Epoch 121/400\n",
            "4/4 [==============================] - 0s 4ms/step - loss: 20.0092 - mae: 20.0092\n",
            "Epoch 122/400\n",
            "4/4 [==============================] - 0s 6ms/step - loss: 14.4041 - mae: 14.4041\n",
            "Epoch 123/400\n",
            "4/4 [==============================] - 0s 7ms/step - loss: 11.0705 - mae: 11.0705\n",
            "Epoch 124/400\n",
            "4/4 [==============================] - 0s 4ms/step - loss: 2.4290 - mae: 2.4290\n",
            "Epoch 125/400\n",
            "4/4 [==============================] - 0s 4ms/step - loss: 4.7576 - mae: 4.7576\n",
            "Epoch 126/400\n",
            "4/4 [==============================] - 0s 5ms/step - loss: 6.0667 - mae: 6.0667\n",
            "Epoch 127/400\n",
            "4/4 [==============================] - 0s 5ms/step - loss: 9.0465 - mae: 9.0465\n",
            "Epoch 128/400\n",
            "4/4 [==============================] - 0s 5ms/step - loss: 7.5861 - mae: 7.5861\n",
            "Epoch 129/400\n",
            "4/4 [==============================] - 0s 5ms/step - loss: 2.9385 - mae: 2.9385\n",
            "Epoch 130/400\n",
            "4/4 [==============================] - 0s 4ms/step - loss: 3.7926 - mae: 3.7926\n",
            "Epoch 131/400\n",
            "4/4 [==============================] - 0s 6ms/step - loss: 4.6105 - mae: 4.6105\n",
            "Epoch 132/400\n",
            "4/4 [==============================] - 0s 4ms/step - loss: 3.0673 - mae: 3.0673\n",
            "Epoch 133/400\n",
            "4/4 [==============================] - 0s 5ms/step - loss: 6.7171 - mae: 6.7171\n",
            "Epoch 134/400\n",
            "4/4 [==============================] - 0s 4ms/step - loss: 4.5840 - mae: 4.5840\n",
            "Epoch 135/400\n",
            "4/4 [==============================] - 0s 5ms/step - loss: 10.3430 - mae: 10.3430\n",
            "Epoch 136/400\n",
            "4/4 [==============================] - 0s 6ms/step - loss: 8.7264 - mae: 8.7264\n",
            "Epoch 137/400\n",
            "4/4 [==============================] - 0s 6ms/step - loss: 6.9910 - mae: 6.9910\n",
            "Epoch 138/400\n",
            "4/4 [==============================] - 0s 6ms/step - loss: 2.4530 - mae: 2.4530\n",
            "Epoch 139/400\n",
            "4/4 [==============================] - 0s 7ms/step - loss: 3.0644 - mae: 3.0644\n",
            "Epoch 140/400\n",
            "4/4 [==============================] - 0s 6ms/step - loss: 7.6701 - mae: 7.6701\n",
            "Epoch 141/400\n",
            "4/4 [==============================] - 0s 5ms/step - loss: 10.2893 - mae: 10.2893\n",
            "Epoch 142/400\n",
            "4/4 [==============================] - 0s 6ms/step - loss: 10.2666 - mae: 10.2666\n",
            "Epoch 143/400\n",
            "4/4 [==============================] - 0s 6ms/step - loss: 5.8197 - mae: 5.8197\n",
            "Epoch 144/400\n",
            "4/4 [==============================] - 0s 5ms/step - loss: 11.2939 - mae: 11.2939\n",
            "Epoch 145/400\n",
            "4/4 [==============================] - 0s 5ms/step - loss: 6.2951 - mae: 6.2951\n",
            "Epoch 146/400\n",
            "4/4 [==============================] - 0s 5ms/step - loss: 6.7530 - mae: 6.7530\n",
            "Epoch 147/400\n",
            "4/4 [==============================] - 0s 5ms/step - loss: 12.3854 - mae: 12.3854\n",
            "Epoch 148/400\n",
            "4/4 [==============================] - 0s 6ms/step - loss: 25.0988 - mae: 25.0988\n",
            "Epoch 149/400\n",
            "4/4 [==============================] - 0s 5ms/step - loss: 13.1806 - mae: 13.1806\n",
            "Epoch 150/400\n",
            "4/4 [==============================] - 0s 4ms/step - loss: 29.8851 - mae: 29.8851\n",
            "Epoch 151/400\n",
            "4/4 [==============================] - 0s 5ms/step - loss: 12.6279 - mae: 12.6279\n",
            "Epoch 152/400\n",
            "4/4 [==============================] - 0s 4ms/step - loss: 7.5342 - mae: 7.5342\n",
            "Epoch 153/400\n",
            "4/4 [==============================] - 0s 6ms/step - loss: 8.3174 - mae: 8.3174\n",
            "Epoch 154/400\n",
            "4/4 [==============================] - 0s 4ms/step - loss: 10.5819 - mae: 10.5819\n",
            "Epoch 155/400\n",
            "4/4 [==============================] - 0s 4ms/step - loss: 6.8709 - mae: 6.8709\n",
            "Epoch 156/400\n",
            "4/4 [==============================] - 0s 7ms/step - loss: 3.1814 - mae: 3.1814\n",
            "Epoch 157/400\n",
            "4/4 [==============================] - 0s 7ms/step - loss: 3.2938 - mae: 3.2938\n",
            "Epoch 158/400\n",
            "4/4 [==============================] - 0s 4ms/step - loss: 5.6434 - mae: 5.6434\n",
            "Epoch 159/400\n",
            "4/4 [==============================] - 0s 5ms/step - loss: 9.7188 - mae: 9.7188\n",
            "Epoch 160/400\n",
            "4/4 [==============================] - 0s 4ms/step - loss: 7.0945 - mae: 7.0945\n",
            "Epoch 161/400\n",
            "4/4 [==============================] - 0s 5ms/step - loss: 7.5189 - mae: 7.5189\n",
            "Epoch 162/400\n",
            "4/4 [==============================] - 0s 5ms/step - loss: 7.0545 - mae: 7.0545\n",
            "Epoch 163/400\n",
            "4/4 [==============================] - 0s 5ms/step - loss: 8.7086 - mae: 8.7086\n",
            "Epoch 164/400\n",
            "4/4 [==============================] - 0s 6ms/step - loss: 11.5929 - mae: 11.5929\n",
            "Epoch 165/400\n",
            "4/4 [==============================] - 0s 5ms/step - loss: 12.1480 - mae: 12.1480\n",
            "Epoch 166/400\n",
            "4/4 [==============================] - 0s 7ms/step - loss: 14.5177 - mae: 14.5177\n",
            "Epoch 167/400\n",
            "4/4 [==============================] - 0s 8ms/step - loss: 15.4209 - mae: 15.4209\n",
            "Epoch 168/400\n",
            "4/4 [==============================] - 0s 5ms/step - loss: 9.6806 - mae: 9.6806\n",
            "Epoch 169/400\n",
            "4/4 [==============================] - 0s 6ms/step - loss: 3.1981 - mae: 3.1981\n",
            "Epoch 170/400\n",
            "4/4 [==============================] - 0s 5ms/step - loss: 6.5003 - mae: 6.5003\n",
            "Epoch 171/400\n",
            "4/4 [==============================] - 0s 5ms/step - loss: 11.1874 - mae: 11.1874\n",
            "Epoch 172/400\n",
            "4/4 [==============================] - 0s 4ms/step - loss: 13.3645 - mae: 13.3645\n",
            "Epoch 173/400\n",
            "4/4 [==============================] - 0s 5ms/step - loss: 15.9297 - mae: 15.9297\n",
            "Epoch 174/400\n",
            "4/4 [==============================] - 0s 6ms/step - loss: 20.6782 - mae: 20.6782\n",
            "Epoch 175/400\n",
            "4/4 [==============================] - 0s 5ms/step - loss: 18.5427 - mae: 18.5427\n",
            "Epoch 176/400\n",
            "4/4 [==============================] - 0s 4ms/step - loss: 20.3307 - mae: 20.3307\n",
            "Epoch 177/400\n",
            "4/4 [==============================] - 0s 5ms/step - loss: 14.8872 - mae: 14.8872\n",
            "Epoch 178/400\n",
            "4/4 [==============================] - 0s 6ms/step - loss: 25.4133 - mae: 25.4133\n",
            "Epoch 179/400\n",
            "4/4 [==============================] - 0s 7ms/step - loss: 2.8791 - mae: 2.8791\n",
            "Epoch 180/400\n",
            "4/4 [==============================] - 0s 5ms/step - loss: 4.1006 - mae: 4.1006\n",
            "Epoch 181/400\n",
            "4/4 [==============================] - 0s 5ms/step - loss: 17.5457 - mae: 17.5457\n",
            "Epoch 182/400\n",
            "4/4 [==============================] - 0s 7ms/step - loss: 12.6724 - mae: 12.6724\n",
            "Epoch 183/400\n",
            "4/4 [==============================] - 0s 5ms/step - loss: 18.2318 - mae: 18.2318\n",
            "Epoch 184/400\n",
            "4/4 [==============================] - 0s 5ms/step - loss: 12.9133 - mae: 12.9133\n",
            "Epoch 185/400\n",
            "4/4 [==============================] - 0s 4ms/step - loss: 5.3750 - mae: 5.3750\n",
            "Epoch 186/400\n",
            "4/4 [==============================] - 0s 6ms/step - loss: 13.9901 - mae: 13.9901\n",
            "Epoch 187/400\n",
            "4/4 [==============================] - 0s 4ms/step - loss: 8.1815 - mae: 8.1815\n",
            "Epoch 188/400\n",
            "4/4 [==============================] - 0s 4ms/step - loss: 11.1223 - mae: 11.1223\n",
            "Epoch 189/400\n",
            "4/4 [==============================] - 0s 7ms/step - loss: 6.9430 - mae: 6.9430\n",
            "Epoch 190/400\n",
            "4/4 [==============================] - 0s 6ms/step - loss: 5.0293 - mae: 5.0293\n",
            "Epoch 191/400\n",
            "4/4 [==============================] - 0s 5ms/step - loss: 10.5004 - mae: 10.5004\n",
            "Epoch 192/400\n",
            "4/4 [==============================] - 0s 5ms/step - loss: 19.7543 - mae: 19.7543\n",
            "Epoch 193/400\n",
            "4/4 [==============================] - 0s 6ms/step - loss: 6.3263 - mae: 6.3263\n",
            "Epoch 194/400\n",
            "4/4 [==============================] - 0s 5ms/step - loss: 13.5222 - mae: 13.5222\n",
            "Epoch 195/400\n",
            "4/4 [==============================] - 0s 5ms/step - loss: 19.0913 - mae: 19.0913\n",
            "Epoch 196/400\n",
            "4/4 [==============================] - 0s 5ms/step - loss: 9.2998 - mae: 9.2998\n",
            "Epoch 197/400\n",
            "4/4 [==============================] - 0s 4ms/step - loss: 10.3063 - mae: 10.3063\n",
            "Epoch 198/400\n",
            "4/4 [==============================] - 0s 5ms/step - loss: 2.3513 - mae: 2.3513\n",
            "Epoch 199/400\n",
            "4/4 [==============================] - 0s 5ms/step - loss: 7.8794 - mae: 7.8794\n",
            "Epoch 200/400\n",
            "4/4 [==============================] - 0s 5ms/step - loss: 7.3957 - mae: 7.3957\n",
            "Epoch 201/400\n",
            "4/4 [==============================] - 0s 4ms/step - loss: 8.0887 - mae: 8.0887\n",
            "Epoch 202/400\n",
            "4/4 [==============================] - 0s 5ms/step - loss: 5.2477 - mae: 5.2477\n",
            "Epoch 203/400\n",
            "4/4 [==============================] - 0s 5ms/step - loss: 2.3649 - mae: 2.3649\n",
            "Epoch 204/400\n",
            "4/4 [==============================] - 0s 4ms/step - loss: 6.6395 - mae: 6.6395\n",
            "Epoch 205/400\n",
            "4/4 [==============================] - 0s 7ms/step - loss: 7.2427 - mae: 7.2427\n",
            "Epoch 206/400\n",
            "4/4 [==============================] - 0s 5ms/step - loss: 4.5153 - mae: 4.5153\n",
            "Epoch 207/400\n",
            "4/4 [==============================] - 0s 4ms/step - loss: 2.0557 - mae: 2.0557\n",
            "Epoch 208/400\n",
            "4/4 [==============================] - 0s 4ms/step - loss: 4.2128 - mae: 4.2128\n",
            "Epoch 209/400\n",
            "4/4 [==============================] - 0s 5ms/step - loss: 5.3113 - mae: 5.3113\n",
            "Epoch 210/400\n",
            "4/4 [==============================] - 0s 4ms/step - loss: 11.4394 - mae: 11.4394\n",
            "Epoch 211/400\n",
            "4/4 [==============================] - 0s 7ms/step - loss: 9.2421 - mae: 9.2421\n",
            "Epoch 212/400\n",
            "4/4 [==============================] - 0s 5ms/step - loss: 4.0750 - mae: 4.0750\n",
            "Epoch 213/400\n",
            "4/4 [==============================] - 0s 5ms/step - loss: 2.2474 - mae: 2.2474\n",
            "Epoch 214/400\n",
            "4/4 [==============================] - 0s 5ms/step - loss: 6.8318 - mae: 6.8318\n",
            "Epoch 215/400\n",
            "4/4 [==============================] - 0s 5ms/step - loss: 9.3757 - mae: 9.3757\n",
            "Epoch 216/400\n",
            "4/4 [==============================] - 0s 4ms/step - loss: 10.8271 - mae: 10.8271\n",
            "Epoch 217/400\n",
            "4/4 [==============================] - 0s 4ms/step - loss: 10.9046 - mae: 10.9046\n",
            "Epoch 218/400\n",
            "4/4 [==============================] - 0s 5ms/step - loss: 15.6021 - mae: 15.6021\n",
            "Epoch 219/400\n",
            "4/4 [==============================] - 0s 7ms/step - loss: 29.4298 - mae: 29.4298\n",
            "Epoch 220/400\n",
            "4/4 [==============================] - 0s 5ms/step - loss: 15.1576 - mae: 15.1576\n",
            "Epoch 221/400\n",
            "4/4 [==============================] - 0s 5ms/step - loss: 27.0083 - mae: 27.0083\n",
            "Epoch 222/400\n",
            "4/4 [==============================] - 0s 7ms/step - loss: 49.5974 - mae: 49.5974\n",
            "Epoch 223/400\n",
            "4/4 [==============================] - 0s 6ms/step - loss: 23.6583 - mae: 23.6583\n",
            "Epoch 224/400\n",
            "4/4 [==============================] - 0s 5ms/step - loss: 33.7920 - mae: 33.7920\n",
            "Epoch 225/400\n",
            "4/4 [==============================] - 0s 6ms/step - loss: 25.1865 - mae: 25.1865\n",
            "Epoch 226/400\n",
            "4/4 [==============================] - 0s 5ms/step - loss: 8.3093 - mae: 8.3093\n",
            "Epoch 227/400\n",
            "4/4 [==============================] - 0s 5ms/step - loss: 23.6143 - mae: 23.6143\n",
            "Epoch 228/400\n",
            "4/4 [==============================] - 0s 6ms/step - loss: 28.8584 - mae: 28.8584\n",
            "Epoch 229/400\n",
            "4/4 [==============================] - 0s 6ms/step - loss: 41.5319 - mae: 41.5319\n",
            "Epoch 230/400\n",
            "4/4 [==============================] - 0s 5ms/step - loss: 23.5891 - mae: 23.5891\n",
            "Epoch 231/400\n",
            "4/4 [==============================] - 0s 6ms/step - loss: 22.5269 - mae: 22.5269\n",
            "Epoch 232/400\n",
            "4/4 [==============================] - 0s 6ms/step - loss: 8.3783 - mae: 8.3783\n",
            "Epoch 233/400\n",
            "4/4 [==============================] - 0s 4ms/step - loss: 16.1325 - mae: 16.1325\n",
            "Epoch 234/400\n",
            "4/4 [==============================] - 0s 8ms/step - loss: 14.5285 - mae: 14.5285\n",
            "Epoch 235/400\n",
            "4/4 [==============================] - 0s 5ms/step - loss: 6.2201 - mae: 6.2201\n",
            "Epoch 236/400\n",
            "4/4 [==============================] - 0s 7ms/step - loss: 6.1475 - mae: 6.1475\n",
            "Epoch 237/400\n",
            "4/4 [==============================] - 0s 5ms/step - loss: 9.3741 - mae: 9.3741\n",
            "Epoch 238/400\n",
            "4/4 [==============================] - 0s 6ms/step - loss: 4.0070 - mae: 4.0070\n",
            "Epoch 239/400\n",
            "4/4 [==============================] - 0s 5ms/step - loss: 5.5413 - mae: 5.5413\n",
            "Epoch 240/400\n",
            "4/4 [==============================] - 0s 5ms/step - loss: 4.7185 - mae: 4.7185\n",
            "Epoch 241/400\n",
            "4/4 [==============================] - 0s 6ms/step - loss: 6.3290 - mae: 6.3290\n",
            "Epoch 242/400\n",
            "4/4 [==============================] - 0s 6ms/step - loss: 3.5445 - mae: 3.5445\n",
            "Epoch 243/400\n",
            "4/4 [==============================] - 0s 6ms/step - loss: 6.9555 - mae: 6.9555\n",
            "Epoch 244/400\n",
            "4/4 [==============================] - 0s 6ms/step - loss: 6.0570 - mae: 6.0570\n",
            "Epoch 245/400\n",
            "4/4 [==============================] - 0s 9ms/step - loss: 4.4684 - mae: 4.4684\n",
            "Epoch 246/400\n",
            "4/4 [==============================] - 0s 5ms/step - loss: 3.5213 - mae: 3.5213\n",
            "Epoch 247/400\n",
            "4/4 [==============================] - 0s 5ms/step - loss: 2.6288 - mae: 2.6288\n",
            "Epoch 248/400\n",
            "4/4 [==============================] - 0s 6ms/step - loss: 1.7066 - mae: 1.7066\n",
            "Epoch 249/400\n",
            "4/4 [==============================] - 0s 5ms/step - loss: 3.5337 - mae: 3.5337\n",
            "Epoch 250/400\n",
            "4/4 [==============================] - 0s 5ms/step - loss: 3.6311 - mae: 3.6311\n",
            "Epoch 251/400\n",
            "4/4 [==============================] - 0s 7ms/step - loss: 1.6315 - mae: 1.6315\n",
            "Epoch 252/400\n",
            "4/4 [==============================] - 0s 6ms/step - loss: 4.7599 - mae: 4.7599\n",
            "Epoch 253/400\n",
            "4/4 [==============================] - 0s 5ms/step - loss: 1.5157 - mae: 1.5157\n",
            "Epoch 254/400\n",
            "4/4 [==============================] - 0s 6ms/step - loss: 2.0027 - mae: 2.0027\n",
            "Epoch 255/400\n",
            "4/4 [==============================] - 0s 5ms/step - loss: 7.4392 - mae: 7.4392\n",
            "Epoch 256/400\n",
            "4/4 [==============================] - 0s 6ms/step - loss: 8.9071 - mae: 8.9071\n",
            "Epoch 257/400\n",
            "4/4 [==============================] - 0s 6ms/step - loss: 1.8640 - mae: 1.8640\n",
            "Epoch 258/400\n",
            "4/4 [==============================] - 0s 5ms/step - loss: 5.9252 - mae: 5.9252\n",
            "Epoch 259/400\n",
            "4/4 [==============================] - 0s 5ms/step - loss: 7.6399 - mae: 7.6399\n",
            "Epoch 260/400\n",
            "4/4 [==============================] - 0s 5ms/step - loss: 7.7893 - mae: 7.7893\n",
            "Epoch 261/400\n",
            "4/4 [==============================] - 0s 7ms/step - loss: 4.8877 - mae: 4.8877\n",
            "Epoch 262/400\n",
            "4/4 [==============================] - 0s 4ms/step - loss: 7.1586 - mae: 7.1586\n",
            "Epoch 263/400\n",
            "4/4 [==============================] - 0s 5ms/step - loss: 7.0345 - mae: 7.0345\n",
            "Epoch 264/400\n",
            "4/4 [==============================] - 0s 6ms/step - loss: 2.4817 - mae: 2.4817\n",
            "Epoch 265/400\n",
            "4/4 [==============================] - 0s 4ms/step - loss: 3.1689 - mae: 3.1689\n",
            "Epoch 266/400\n",
            "4/4 [==============================] - 0s 5ms/step - loss: 8.7496 - mae: 8.7496\n",
            "Epoch 267/400\n",
            "4/4 [==============================] - 0s 5ms/step - loss: 5.4404 - mae: 5.4404\n",
            "Epoch 268/400\n",
            "4/4 [==============================] - 0s 4ms/step - loss: 1.9089 - mae: 1.9089\n",
            "Epoch 269/400\n",
            "4/4 [==============================] - 0s 5ms/step - loss: 1.4003 - mae: 1.4003\n",
            "Epoch 270/400\n",
            "4/4 [==============================] - 0s 5ms/step - loss: 1.9280 - mae: 1.9280\n",
            "Epoch 271/400\n",
            "4/4 [==============================] - 0s 6ms/step - loss: 6.9340 - mae: 6.9340\n",
            "Epoch 272/400\n",
            "4/4 [==============================] - 0s 6ms/step - loss: 10.0961 - mae: 10.0961\n",
            "Epoch 273/400\n",
            "4/4 [==============================] - 0s 6ms/step - loss: 7.2522 - mae: 7.2522\n",
            "Epoch 274/400\n",
            "4/4 [==============================] - 0s 4ms/step - loss: 7.2738 - mae: 7.2738\n",
            "Epoch 275/400\n",
            "4/4 [==============================] - 0s 6ms/step - loss: 1.9292 - mae: 1.9292\n",
            "Epoch 276/400\n",
            "4/4 [==============================] - 0s 5ms/step - loss: 2.9752 - mae: 2.9752\n",
            "Epoch 277/400\n",
            "4/4 [==============================] - 0s 6ms/step - loss: 6.2224 - mae: 6.2224\n",
            "Epoch 278/400\n",
            "4/4 [==============================] - 0s 5ms/step - loss: 6.3795 - mae: 6.3795\n",
            "Epoch 279/400\n",
            "4/4 [==============================] - 0s 5ms/step - loss: 8.3223 - mae: 8.3223\n",
            "Epoch 280/400\n",
            "4/4 [==============================] - 0s 10ms/step - loss: 6.2098 - mae: 6.2098\n",
            "Epoch 281/400\n",
            "4/4 [==============================] - 0s 4ms/step - loss: 6.3264 - mae: 6.3264\n",
            "Epoch 282/400\n",
            "4/4 [==============================] - 0s 5ms/step - loss: 2.5870 - mae: 2.5870\n",
            "Epoch 283/400\n",
            "4/4 [==============================] - 0s 6ms/step - loss: 3.5119 - mae: 3.5119\n",
            "Epoch 284/400\n",
            "4/4 [==============================] - 0s 8ms/step - loss: 5.1201 - mae: 5.1201\n",
            "Epoch 285/400\n",
            "4/4 [==============================] - 0s 6ms/step - loss: 3.1194 - mae: 3.1194\n",
            "Epoch 286/400\n",
            "4/4 [==============================] - 0s 5ms/step - loss: 2.5345 - mae: 2.5345\n",
            "Epoch 287/400\n",
            "4/4 [==============================] - 0s 5ms/step - loss: 7.4722 - mae: 7.4722\n",
            "Epoch 288/400\n",
            "4/4 [==============================] - 0s 5ms/step - loss: 10.1029 - mae: 10.1029\n",
            "Epoch 289/400\n",
            "4/4 [==============================] - 0s 6ms/step - loss: 9.2702 - mae: 9.2702\n",
            "Epoch 290/400\n",
            "4/4 [==============================] - 0s 5ms/step - loss: 16.5988 - mae: 16.5988\n",
            "Epoch 291/400\n",
            "4/4 [==============================] - 0s 5ms/step - loss: 10.2083 - mae: 10.2083\n",
            "Epoch 292/400\n",
            "4/4 [==============================] - 0s 6ms/step - loss: 14.4631 - mae: 14.4631\n",
            "Epoch 293/400\n",
            "4/4 [==============================] - 0s 6ms/step - loss: 7.2232 - mae: 7.2232\n",
            "Epoch 294/400\n",
            "4/4 [==============================] - 0s 5ms/step - loss: 7.0654 - mae: 7.0654\n",
            "Epoch 295/400\n",
            "4/4 [==============================] - 0s 7ms/step - loss: 8.4166 - mae: 8.4166\n",
            "Epoch 296/400\n",
            "4/4 [==============================] - 0s 6ms/step - loss: 9.5420 - mae: 9.5420\n",
            "Epoch 297/400\n",
            "4/4 [==============================] - 0s 6ms/step - loss: 4.0669 - mae: 4.0669\n",
            "Epoch 298/400\n",
            "4/4 [==============================] - 0s 7ms/step - loss: 1.5535 - mae: 1.5535\n",
            "Epoch 299/400\n",
            "4/4 [==============================] - 0s 6ms/step - loss: 4.1908 - mae: 4.1908\n",
            "Epoch 300/400\n",
            "4/4 [==============================] - 0s 6ms/step - loss: 1.4798 - mae: 1.4798\n",
            "Epoch 301/400\n",
            "4/4 [==============================] - 0s 6ms/step - loss: 4.1779 - mae: 4.1779\n",
            "Epoch 302/400\n",
            "4/4 [==============================] - 0s 6ms/step - loss: 1.9503 - mae: 1.9503\n",
            "Epoch 303/400\n",
            "4/4 [==============================] - 0s 6ms/step - loss: 6.2332 - mae: 6.2332\n",
            "Epoch 304/400\n",
            "4/4 [==============================] - 0s 5ms/step - loss: 7.4057 - mae: 7.4057\n",
            "Epoch 305/400\n",
            "4/4 [==============================] - 0s 7ms/step - loss: 9.4740 - mae: 9.4740\n",
            "Epoch 306/400\n",
            "4/4 [==============================] - 0s 5ms/step - loss: 7.1471 - mae: 7.1471\n",
            "Epoch 307/400\n",
            "4/4 [==============================] - 0s 4ms/step - loss: 8.9402 - mae: 8.9402\n",
            "Epoch 308/400\n",
            "4/4 [==============================] - 0s 5ms/step - loss: 8.1271 - mae: 8.1271\n",
            "Epoch 309/400\n",
            "4/4 [==============================] - 0s 6ms/step - loss: 7.8695 - mae: 7.8695\n",
            "Epoch 310/400\n",
            "4/4 [==============================] - 0s 5ms/step - loss: 8.7567 - mae: 8.7567\n",
            "Epoch 311/400\n",
            "4/4 [==============================] - 0s 4ms/step - loss: 5.9362 - mae: 5.9362\n",
            "Epoch 312/400\n",
            "4/4 [==============================] - 0s 6ms/step - loss: 8.1437 - mae: 8.1437\n",
            "Epoch 313/400\n",
            "4/4 [==============================] - 0s 4ms/step - loss: 4.6196 - mae: 4.6196\n",
            "Epoch 314/400\n",
            "4/4 [==============================] - 0s 5ms/step - loss: 5.4533 - mae: 5.4533\n",
            "Epoch 315/400\n",
            "4/4 [==============================] - 0s 8ms/step - loss: 11.3291 - mae: 11.3291\n",
            "Epoch 316/400\n",
            "4/4 [==============================] - 0s 7ms/step - loss: 8.1384 - mae: 8.1384\n",
            "Epoch 317/400\n",
            "4/4 [==============================] - 0s 5ms/step - loss: 3.8730 - mae: 3.8730\n",
            "Epoch 318/400\n",
            "4/4 [==============================] - 0s 4ms/step - loss: 3.0203 - mae: 3.0203\n",
            "Epoch 319/400\n",
            "4/4 [==============================] - 0s 4ms/step - loss: 3.2588 - mae: 3.2588\n",
            "Epoch 320/400\n",
            "4/4 [==============================] - 0s 4ms/step - loss: 6.9400 - mae: 6.9400\n",
            "Epoch 321/400\n",
            "4/4 [==============================] - 0s 4ms/step - loss: 5.8991 - mae: 5.8991\n",
            "Epoch 322/400\n",
            "4/4 [==============================] - 0s 6ms/step - loss: 8.1418 - mae: 8.1418\n",
            "Epoch 323/400\n",
            "4/4 [==============================] - 0s 5ms/step - loss: 3.6408 - mae: 3.6408\n",
            "Epoch 324/400\n",
            "4/4 [==============================] - 0s 4ms/step - loss: 2.8758 - mae: 2.8758\n",
            "Epoch 325/400\n",
            "4/4 [==============================] - 0s 5ms/step - loss: 3.2141 - mae: 3.2141\n",
            "Epoch 326/400\n",
            "4/4 [==============================] - 0s 6ms/step - loss: 2.8504 - mae: 2.8504\n",
            "Epoch 327/400\n",
            "4/4 [==============================] - 0s 6ms/step - loss: 1.8158 - mae: 1.8158\n",
            "Epoch 328/400\n",
            "4/4 [==============================] - 0s 6ms/step - loss: 3.8687 - mae: 3.8687\n",
            "Epoch 329/400\n",
            "4/4 [==============================] - 0s 6ms/step - loss: 2.2264 - mae: 2.2264\n",
            "Epoch 330/400\n",
            "4/4 [==============================] - 0s 6ms/step - loss: 7.8475 - mae: 7.8475\n",
            "Epoch 331/400\n",
            "4/4 [==============================] - 0s 6ms/step - loss: 8.7758 - mae: 8.7758\n",
            "Epoch 332/400\n",
            "4/4 [==============================] - 0s 5ms/step - loss: 19.6521 - mae: 19.6521\n",
            "Epoch 333/400\n",
            "4/4 [==============================] - 0s 6ms/step - loss: 6.1234 - mae: 6.1234\n",
            "Epoch 334/400\n",
            "4/4 [==============================] - 0s 5ms/step - loss: 15.1137 - mae: 15.1137\n",
            "Epoch 335/400\n",
            "4/4 [==============================] - 0s 8ms/step - loss: 11.5709 - mae: 11.5709\n",
            "Epoch 336/400\n",
            "4/4 [==============================] - 0s 6ms/step - loss: 12.4529 - mae: 12.4529\n",
            "Epoch 337/400\n",
            "4/4 [==============================] - 0s 7ms/step - loss: 2.4216 - mae: 2.4216\n",
            "Epoch 338/400\n",
            "4/4 [==============================] - 0s 6ms/step - loss: 2.2231 - mae: 2.2231\n",
            "Epoch 339/400\n",
            "4/4 [==============================] - 0s 5ms/step - loss: 2.8480 - mae: 2.8480\n",
            "Epoch 340/400\n",
            "4/4 [==============================] - 0s 5ms/step - loss: 5.8788 - mae: 5.8788\n",
            "Epoch 341/400\n",
            "4/4 [==============================] - 0s 5ms/step - loss: 5.9455 - mae: 5.9455\n",
            "Epoch 342/400\n",
            "4/4 [==============================] - 0s 4ms/step - loss: 9.8863 - mae: 9.8863\n",
            "Epoch 343/400\n",
            "4/4 [==============================] - 0s 6ms/step - loss: 11.2849 - mae: 11.2849\n",
            "Epoch 344/400\n",
            "4/4 [==============================] - 0s 4ms/step - loss: 16.7588 - mae: 16.7588\n",
            "Epoch 345/400\n",
            "4/4 [==============================] - 0s 4ms/step - loss: 16.3561 - mae: 16.3561\n",
            "Epoch 346/400\n",
            "4/4 [==============================] - 0s 5ms/step - loss: 11.8793 - mae: 11.8793\n",
            "Epoch 347/400\n",
            "4/4 [==============================] - 0s 7ms/step - loss: 8.1059 - mae: 8.1059\n",
            "Epoch 348/400\n",
            "4/4 [==============================] - 0s 5ms/step - loss: 8.0186 - mae: 8.0186\n",
            "Epoch 349/400\n",
            "4/4 [==============================] - 0s 5ms/step - loss: 3.8409 - mae: 3.8409\n",
            "Epoch 350/400\n",
            "4/4 [==============================] - 0s 7ms/step - loss: 5.2601 - mae: 5.2601\n",
            "Epoch 351/400\n",
            "4/4 [==============================] - 0s 5ms/step - loss: 2.8077 - mae: 2.8077\n",
            "Epoch 352/400\n",
            "4/4 [==============================] - 0s 5ms/step - loss: 2.9166 - mae: 2.9166\n",
            "Epoch 353/400\n",
            "4/4 [==============================] - 0s 4ms/step - loss: 1.2927 - mae: 1.2927\n",
            "Epoch 354/400\n",
            "4/4 [==============================] - 0s 4ms/step - loss: 3.8732 - mae: 3.8732\n",
            "Epoch 355/400\n",
            "4/4 [==============================] - 0s 4ms/step - loss: 4.6175 - mae: 4.6175\n",
            "Epoch 356/400\n",
            "4/4 [==============================] - 0s 6ms/step - loss: 8.4237 - mae: 8.4237\n",
            "Epoch 357/400\n",
            "4/4 [==============================] - 0s 6ms/step - loss: 3.9771 - mae: 3.9771\n",
            "Epoch 358/400\n",
            "4/4 [==============================] - 0s 6ms/step - loss: 2.0310 - mae: 2.0310\n",
            "Epoch 359/400\n",
            "4/4 [==============================] - 0s 4ms/step - loss: 3.6389 - mae: 3.6389\n",
            "Epoch 360/400\n",
            "4/4 [==============================] - 0s 6ms/step - loss: 3.0057 - mae: 3.0057\n",
            "Epoch 361/400\n",
            "4/4 [==============================] - 0s 6ms/step - loss: 5.3510 - mae: 5.3510\n",
            "Epoch 362/400\n",
            "4/4 [==============================] - 0s 5ms/step - loss: 5.1209 - mae: 5.1209\n",
            "Epoch 363/400\n",
            "4/4 [==============================] - 0s 4ms/step - loss: 5.7026 - mae: 5.7026\n",
            "Epoch 364/400\n",
            "4/4 [==============================] - 0s 6ms/step - loss: 7.7303 - mae: 7.7303\n",
            "Epoch 365/400\n",
            "4/4 [==============================] - 0s 6ms/step - loss: 4.5937 - mae: 4.5937\n",
            "Epoch 366/400\n",
            "4/4 [==============================] - 0s 6ms/step - loss: 7.9088 - mae: 7.9088\n",
            "Epoch 367/400\n",
            "4/4 [==============================] - 0s 5ms/step - loss: 1.6263 - mae: 1.6263\n",
            "Epoch 368/400\n",
            "4/4 [==============================] - 0s 4ms/step - loss: 5.6917 - mae: 5.6917\n",
            "Epoch 369/400\n",
            "4/4 [==============================] - 0s 4ms/step - loss: 3.7471 - mae: 3.7471\n",
            "Epoch 370/400\n",
            "4/4 [==============================] - 0s 4ms/step - loss: 5.8150 - mae: 5.8150\n",
            "Epoch 371/400\n",
            "4/4 [==============================] - 0s 4ms/step - loss: 2.0408 - mae: 2.0408\n",
            "Epoch 372/400\n",
            "4/4 [==============================] - 0s 4ms/step - loss: 3.8876 - mae: 3.8876\n",
            "Epoch 373/400\n",
            "4/4 [==============================] - 0s 5ms/step - loss: 4.7855 - mae: 4.7855\n",
            "Epoch 374/400\n",
            "4/4 [==============================] - 0s 5ms/step - loss: 8.6139 - mae: 8.6139\n",
            "Epoch 375/400\n",
            "4/4 [==============================] - 0s 6ms/step - loss: 12.1397 - mae: 12.1397\n",
            "Epoch 376/400\n",
            "4/4 [==============================] - 0s 5ms/step - loss: 2.0532 - mae: 2.0532\n",
            "Epoch 377/400\n",
            "4/4 [==============================] - 0s 4ms/step - loss: 2.5613 - mae: 2.5613\n",
            "Epoch 378/400\n",
            "4/4 [==============================] - 0s 6ms/step - loss: 5.7789 - mae: 5.7789\n",
            "Epoch 379/400\n",
            "4/4 [==============================] - 0s 5ms/step - loss: 7.5425 - mae: 7.5425\n",
            "Epoch 380/400\n",
            "4/4 [==============================] - 0s 4ms/step - loss: 17.7767 - mae: 17.7767\n",
            "Epoch 381/400\n",
            "4/4 [==============================] - 0s 6ms/step - loss: 5.2687 - mae: 5.2687\n",
            "Epoch 382/400\n",
            "4/4 [==============================] - 0s 5ms/step - loss: 9.3190 - mae: 9.3190\n",
            "Epoch 383/400\n",
            "4/4 [==============================] - 0s 5ms/step - loss: 10.8819 - mae: 10.8819\n",
            "Epoch 384/400\n",
            "4/4 [==============================] - 0s 4ms/step - loss: 15.0863 - mae: 15.0863\n",
            "Epoch 385/400\n",
            "4/4 [==============================] - 0s 4ms/step - loss: 13.8829 - mae: 13.8829\n",
            "Epoch 386/400\n",
            "4/4 [==============================] - 0s 7ms/step - loss: 16.0125 - mae: 16.0125\n",
            "Epoch 387/400\n",
            "4/4 [==============================] - 0s 7ms/step - loss: 10.6965 - mae: 10.6965\n",
            "Epoch 388/400\n",
            "4/4 [==============================] - 0s 6ms/step - loss: 9.2501 - mae: 9.2501\n",
            "Epoch 389/400\n",
            "4/4 [==============================] - 0s 5ms/step - loss: 1.9462 - mae: 1.9462\n",
            "Epoch 390/400\n",
            "4/4 [==============================] - 0s 5ms/step - loss: 4.6805 - mae: 4.6805\n",
            "Epoch 391/400\n",
            "4/4 [==============================] - 0s 4ms/step - loss: 4.6515 - mae: 4.6515\n",
            "Epoch 392/400\n",
            "4/4 [==============================] - 0s 6ms/step - loss: 3.2035 - mae: 3.2035\n",
            "Epoch 393/400\n",
            "4/4 [==============================] - 0s 6ms/step - loss: 4.0040 - mae: 4.0040\n",
            "Epoch 394/400\n",
            "4/4 [==============================] - 0s 5ms/step - loss: 7.5362 - mae: 7.5362\n",
            "Epoch 395/400\n",
            "4/4 [==============================] - 0s 7ms/step - loss: 15.8637 - mae: 15.8637\n",
            "Epoch 396/400\n",
            "4/4 [==============================] - 0s 4ms/step - loss: 11.4070 - mae: 11.4070\n",
            "Epoch 397/400\n",
            "4/4 [==============================] - 0s 4ms/step - loss: 15.0756 - mae: 15.0756\n",
            "Epoch 398/400\n",
            "4/4 [==============================] - 0s 6ms/step - loss: 15.1956 - mae: 15.1956\n",
            "Epoch 399/400\n",
            "4/4 [==============================] - 0s 6ms/step - loss: 7.1968 - mae: 7.1968\n",
            "Epoch 400/400\n",
            "4/4 [==============================] - 0s 6ms/step - loss: 5.4462 - mae: 5.4462\n"
          ],
          "name": "stdout"
        },
        {
          "output_type": "execute_result",
          "data": {
            "text/plain": [
              "<keras.callbacks.History at 0x7f8d873ec7d0>"
            ]
          },
          "metadata": {},
          "execution_count": 53
        }
      ]
    },
    {
      "cell_type": "code",
      "metadata": {
        "colab": {
          "base_uri": "https://localhost:8080/"
        },
        "id": "jDVSHO6PcFHf",
        "outputId": "05a7cbb1-70e2-453e-ffcf-caf51d1ae163"
      },
      "source": [
        "model_1.summary()"
      ],
      "execution_count": null,
      "outputs": [
        {
          "output_type": "stream",
          "text": [
            "Model: \"sequential\"\n",
            "_________________________________________________________________\n",
            "Layer (type)                 Output Shape              Param #   \n",
            "=================================================================\n",
            "dense (Dense)                (None, 100)               200       \n",
            "_________________________________________________________________\n",
            "dense_1 (Dense)              (None, 10)                1010      \n",
            "_________________________________________________________________\n",
            "dense_2 (Dense)              (None, 1)                 11        \n",
            "=================================================================\n",
            "Total params: 1,221\n",
            "Trainable params: 1,221\n",
            "Non-trainable params: 0\n",
            "_________________________________________________________________\n"
          ],
          "name": "stdout"
        }
      ]
    },
    {
      "cell_type": "code",
      "metadata": {
        "colab": {
          "base_uri": "https://localhost:8080/"
        },
        "id": "X0BKuAoYcOoU",
        "outputId": "bc8c8f52-994f-42b6-c3c4-024947467936"
      },
      "source": [
        "y_pred = model_1.predict(X_test)\n",
        "y_pred"
      ],
      "execution_count": null,
      "outputs": [
        {
          "output_type": "execute_result",
          "data": {
            "text/plain": [
              "array([[418.12128],\n",
              "       [422.18982],\n",
              "       [426.25806],\n",
              "       [430.32642],\n",
              "       [434.3947 ],\n",
              "       [438.46313],\n",
              "       [442.53156],\n",
              "       [446.59985],\n",
              "       [450.66812],\n",
              "       [454.73663],\n",
              "       [458.80496],\n",
              "       [462.87326],\n",
              "       [466.94153],\n",
              "       [471.00995],\n",
              "       [475.07828],\n",
              "       [479.14682],\n",
              "       [483.21497],\n",
              "       [487.28348],\n",
              "       [491.35187],\n",
              "       [495.4202 ],\n",
              "       [499.48843],\n",
              "       [503.55685],\n",
              "       [507.62515],\n",
              "       [511.69354],\n",
              "       [515.7619 ]], dtype=float32)"
            ]
          },
          "metadata": {},
          "execution_count": 54
        }
      ]
    },
    {
      "cell_type": "code",
      "metadata": {
        "colab": {
          "base_uri": "https://localhost:8080/"
        },
        "id": "37srrWCIcUpl",
        "outputId": "07eb057f-da71-49c9-b6ca-19d041f1ff75"
      },
      "source": [
        "X_test, X_test.ndim"
      ],
      "execution_count": null,
      "outputs": [
        {
          "output_type": "execute_result",
          "data": {
            "text/plain": [
              "(<tf.Tensor: shape=(25,), dtype=int32, numpy=\n",
              " array([401, 405, 409, 413, 417, 421, 425, 429, 433, 437, 441, 445, 449,\n",
              "        453, 457, 461, 465, 469, 473, 477, 481, 485, 489, 493, 497],\n",
              "       dtype=int32)>, 1)"
            ]
          },
          "metadata": {},
          "execution_count": 20
        }
      ]
    },
    {
      "cell_type": "code",
      "metadata": {
        "colab": {
          "base_uri": "https://localhost:8080/"
        },
        "id": "L0QXgJYbcxOy",
        "outputId": "264afdb9-d512-4d12-acd4-05ad7a54425a"
      },
      "source": [
        "# Evaluate the model\n",
        "model_1.evaluate(X_test, y_test)"
      ],
      "execution_count": null,
      "outputs": [
        {
          "output_type": "stream",
          "text": [
            "WARNING:tensorflow:5 out of the last 6 calls to <function Model.make_test_function.<locals>.test_function at 0x7f8d89844cb0> triggered tf.function retracing. Tracing is expensive and the excessive number of tracings could be due to (1) creating @tf.function repeatedly in a loop, (2) passing tensors with different shapes, (3) passing Python objects instead of tensors. For (1), please define your @tf.function outside of the loop. For (2), @tf.function has experimental_relax_shapes=True option that relaxes argument shapes that can avoid unnecessary retracing. For (3), please refer to https://www.tensorflow.org/guide/function#controlling_retracing and https://www.tensorflow.org/api_docs/python/tf/function for  more details.\n",
            "1/1 [==============================] - 0s 125ms/step - loss: 7.9416 - mae: 7.9416\n"
          ],
          "name": "stdout"
        },
        {
          "output_type": "execute_result",
          "data": {
            "text/plain": [
              "[7.94163703918457, 7.94163703918457]"
            ]
          },
          "metadata": {},
          "execution_count": 55
        }
      ]
    },
    {
      "cell_type": "code",
      "metadata": {
        "colab": {
          "base_uri": "https://localhost:8080/",
          "height": 445
        },
        "id": "frMbhEhUgfBz",
        "outputId": "b9a5b18f-d8e5-4874-d207-d1c57b2f39b9"
      },
      "source": [
        "# Visualize the test predictions\n",
        "\n",
        "plt.figure(figsize=(10,7))\n",
        "\n",
        "# Plot train data in blue\n",
        "plt.scatter(X_train,y_train,c=\"b\", label=\"Training Data\")\n",
        "\n",
        "# Plot test data in green \n",
        "plt.scatter(X_test,y_test, c=\"g\", label=\"Testing data\")\n",
        "\n",
        "# Plot the prediction in red \n",
        "plt.scatter(y_test, y_pred, c=\"r\", label=\"Prediction\")\n",
        "\n",
        "plt.legend()"
      ],
      "execution_count": null,
      "outputs": [
        {
          "output_type": "execute_result",
          "data": {
            "text/plain": [
              "<matplotlib.legend.Legend at 0x7f8d86f19190>"
            ]
          },
          "metadata": {},
          "execution_count": 56
        },
        {
          "output_type": "display_data",
          "data": {
            "image/png": "[encoded data removed]",
            "text/plain": [
              "<Figure size 720x504 with 1 Axes>"
            ]
          },
          "metadata": {
            "needs_background": "light"
          }
        }
      ]
    },
    {
      "cell_type": "code",
      "metadata": {
        "colab": {
          "base_uri": "https://localhost:8080/"
        },
        "id": "tFf3UScYiPAk",
        "outputId": "8087e13a-15ff-4233-9a64-bd8224ba6d80"
      },
      "source": [
        "y_pred.shape, y_test.shape # Since these are not in same shape, prediction has to be squeezed"
      ],
      "execution_count": null,
      "outputs": [
        {
          "output_type": "execute_result",
          "data": {
            "text/plain": [
              "((25, 1), TensorShape([25]))"
            ]
          },
          "metadata": {},
          "execution_count": 59
        }
      ]
    },
    {
      "cell_type": "code",
      "metadata": {
        "colab": {
          "base_uri": "https://localhost:8080/"
        },
        "id": "AI6ds641ugxW",
        "outputId": "71468655-0647-41ec-ee56-0d7f0d7b54d8"
      },
      "source": [
        "# Metrics evaluation\n",
        "\n",
        "# Mean absolute error\n",
        "mae = tf.keras.metrics.mean_absolute_error(y_test, tf.squeeze(y_pred))\n",
        "\n",
        "# Mean Squared Error\n",
        "mse = tf.keras.metrics.mean_squared_error(y_test, tf.squeeze(y_pred))\n",
        "\n",
        "mae, mse"
      ],
      "execution_count": null,
      "outputs": [
        {
          "output_type": "execute_result",
          "data": {
            "text/plain": [
              "(<tf.Tensor: shape=(), dtype=float32, numpy=7.941631>,\n",
              " <tf.Tensor: shape=(), dtype=float32, numpy=63.312477>)"
            ]
          },
          "metadata": {},
          "execution_count": 60
        }
      ]
    },
    {
      "cell_type": "code",
      "metadata": {
        "id": "bq53cXotwxAC"
      },
      "source": [
        ""
      ],
      "execution_count": null,
      "outputs": []
    }
  ]
}