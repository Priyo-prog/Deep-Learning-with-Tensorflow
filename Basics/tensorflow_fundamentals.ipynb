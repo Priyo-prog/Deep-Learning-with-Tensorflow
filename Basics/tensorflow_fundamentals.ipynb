{
  "nbformat": 4,
  "nbformat_minor": 0,
  "metadata": {
    "colab": {
      "provenance": [],
      "authorship_tag": "ABX9TyN6VEwqUnAhZdqiDwO1IUkS",
      "include_colab_link": true
    },
    "kernelspec": {
      "name": "python3",
      "display_name": "Python 3"
    },
    "language_info": {
      "name": "python"
    }
  },
  "cells": [
    {
      "cell_type": "markdown",
      "metadata": {
        "id": "view-in-github",
        "colab_type": "text"
      },
      "source": [
        "<a href=\"https://colab.research.google.com/github/Priyo-prog/Deep-Learning-with-Tensorflow/blob/main/Basics/tensorflow_fundamentals.ipynb\" target=\"_parent\"><img src=\"https://colab.research.google.com/assets/colab-badge.svg\" alt=\"Open In Colab\"/></a>"
      ]
    },
    {
      "cell_type": "markdown",
      "source": [
        "# **Fundamentals of Tensorflow**\n",
        "\n",
        "* Introduction to Tensors\n",
        "* Getting information from Tensors\n",
        "* Manipulating Tensors\n",
        "* Tensors & Numpy\n",
        "* Using @tf.function ( a way to speed up your regular Python Functions)\n",
        "* Using GPUs with Tensorflow (or TPUs)"
      ],
      "metadata": {
        "id": "DMRJPTcRHzQj"
      }
    },
    {
      "cell_type": "markdown",
      "source": [
        "## Create Tensors with tf.constant()"
      ],
      "metadata": {
        "id": "kbVCqotKUpHf"
      }
    },
    {
      "cell_type": "code",
      "source": [
        "import tensorflow as tf\n",
        "\n",
        "scalar = tf.constant(7)\n",
        "scalar"
      ],
      "metadata": {
        "id": "FMlos50UH-OW",
        "colab": {
          "base_uri": "https://localhost:8080/"
        },
        "outputId": "1be149ef-38ee-4b2f-ed4e-e6d985003ef2"
      },
      "execution_count": 2,
      "outputs": [
        {
          "output_type": "execute_result",
          "data": {
            "text/plain": [
              "<tf.Tensor: shape=(), dtype=int32, numpy=7>"
            ]
          },
          "metadata": {},
          "execution_count": 2
        }
      ]
    },
    {
      "cell_type": "code",
      "source": [
        "# create vector\n",
        "vector = tf.constant([10, 10])\n",
        "vector"
      ],
      "metadata": {
        "colab": {
          "base_uri": "https://localhost:8080/"
        },
        "id": "ZSky_UyyMpRY",
        "outputId": "e088f01e-92d2-412b-a54d-ffab74ada744"
      },
      "execution_count": 3,
      "outputs": [
        {
          "output_type": "execute_result",
          "data": {
            "text/plain": [
              "<tf.Tensor: shape=(2,), dtype=int32, numpy=array([10, 10], dtype=int32)>"
            ]
          },
          "metadata": {},
          "execution_count": 3
        }
      ]
    },
    {
      "cell_type": "code",
      "source": [
        "# create matrix\n",
        "matrix = tf.constant([[10, 7],\n",
        "                      [7, 10]])"
      ],
      "metadata": {
        "id": "8Hntc68ZRZhd"
      },
      "execution_count": 4,
      "outputs": []
    },
    {
      "cell_type": "code",
      "source": [
        "matrix.ndim"
      ],
      "metadata": {
        "colab": {
          "base_uri": "https://localhost:8080/"
        },
        "id": "9FarUvyWRiNU",
        "outputId": "9f10e6c5-d55e-44e5-cec3-d50ca43eda8c"
      },
      "execution_count": 5,
      "outputs": [
        {
          "output_type": "execute_result",
          "data": {
            "text/plain": [
              "2"
            ]
          },
          "metadata": {},
          "execution_count": 5
        }
      ]
    },
    {
      "cell_type": "markdown",
      "source": [
        "The general observation is that number of brackets actually signifies the dimension of the tensor"
      ],
      "metadata": {
        "id": "gB6Z7czFRkhU"
      }
    },
    {
      "cell_type": "code",
      "source": [
        "another_matrix = tf.constant([[[1, 2, 3],\n",
        "                     [4, 5, 6]],\n",
        "                    [[7, 8, 9],\n",
        "                     [10, 11, 12]]], dtype = tf.float16)\n",
        "\n",
        "another_matrix"
      ],
      "metadata": {
        "colab": {
          "base_uri": "https://localhost:8080/"
        },
        "id": "s5ojVRyuSF47",
        "outputId": "7468f658-b286-4329-fb37-52925edfd089"
      },
      "execution_count": 9,
      "outputs": [
        {
          "output_type": "execute_result",
          "data": {
            "text/plain": [
              "<tf.Tensor: shape=(2, 2, 3), dtype=float16, numpy=\n",
              "array([[[ 1.,  2.,  3.],\n",
              "        [ 4.,  5.,  6.]],\n",
              "\n",
              "       [[ 7.,  8.,  9.],\n",
              "        [10., 11., 12.]]], dtype=float16)>"
            ]
          },
          "metadata": {},
          "execution_count": 9
        }
      ]
    },
    {
      "cell_type": "markdown",
      "source": [
        "In the above code changing the dtype of the tensor saves space as by default tensorflow tensors are int32"
      ],
      "metadata": {
        "id": "cfguZDdaSYKc"
      }
    },
    {
      "cell_type": "markdown",
      "source": [
        "Show that the dimension of the tensors depends upon the brackets of the tensorflow"
      ],
      "metadata": {
        "id": "HnW5buDRSt5M"
      }
    },
    {
      "cell_type": "code",
      "source": [
        "tensor = tf.constant([[[[1, 2, 3],\n",
        "                     [4, 5, 6]],\n",
        "                    [[7, 8, 9],\n",
        "                     [10, 11, 12]]]])\n",
        "\n",
        "tensor"
      ],
      "metadata": {
        "colab": {
          "base_uri": "https://localhost:8080/"
        },
        "id": "6wMu5XkkTOvy",
        "outputId": "e302479e-3608-4fbe-c55d-ebde1dc46b54"
      },
      "execution_count": 10,
      "outputs": [
        {
          "output_type": "execute_result",
          "data": {
            "text/plain": [
              "<tf.Tensor: shape=(1, 2, 2, 3), dtype=int32, numpy=\n",
              "array([[[[ 1,  2,  3],\n",
              "         [ 4,  5,  6]],\n",
              "\n",
              "        [[ 7,  8,  9],\n",
              "         [10, 11, 12]]]], dtype=int32)>"
            ]
          },
          "metadata": {},
          "execution_count": 10
        }
      ]
    },
    {
      "cell_type": "code",
      "source": [
        "tensor_1 = tf.constant([[[[[1, 2, 3],\n",
        "                     [4, 5, 6]],\n",
        "                    [[7, 8, 9],\n",
        "                     [10, 11, 12]]]]])\n",
        "\n",
        "tensor_1"
      ],
      "metadata": {
        "colab": {
          "base_uri": "https://localhost:8080/"
        },
        "id": "hREiZdqaTVZa",
        "outputId": "f8852405-ce2a-419b-a298-8eeb8cb06500"
      },
      "execution_count": 11,
      "outputs": [
        {
          "output_type": "execute_result",
          "data": {
            "text/plain": [
              "<tf.Tensor: shape=(1, 1, 2, 2, 3), dtype=int32, numpy=\n",
              "array([[[[[ 1,  2,  3],\n",
              "          [ 4,  5,  6]],\n",
              "\n",
              "         [[ 7,  8,  9],\n",
              "          [10, 11, 12]]]]], dtype=int32)>"
            ]
          },
          "metadata": {},
          "execution_count": 11
        }
      ]
    },
    {
      "cell_type": "code",
      "source": [
        "tensor.ndim, tensor_1.ndim"
      ],
      "metadata": {
        "colab": {
          "base_uri": "https://localhost:8080/"
        },
        "id": "a9vxthQ-TfvC",
        "outputId": "bdbbff79-030b-4208-9d76-67924a4b4f0d"
      },
      "execution_count": 12,
      "outputs": [
        {
          "output_type": "execute_result",
          "data": {
            "text/plain": [
              "(4, 5)"
            ]
          },
          "metadata": {},
          "execution_count": 12
        }
      ]
    },
    {
      "cell_type": "markdown",
      "source": [
        "## Create Tensors with tf.variable()"
      ],
      "metadata": {
        "id": "6dDfrwNFTkGZ"
      }
    },
    {
      "cell_type": "code",
      "source": [
        "changeable_tensor = tf.Variable([10, 7])\n",
        "unchangeable_tensor = tf.constant([10, 7])\n",
        "changeable_tensor, unchangeable_tensor"
      ],
      "metadata": {
        "colab": {
          "base_uri": "https://localhost:8080/"
        },
        "id": "eZtyRfO1Uz0Q",
        "outputId": "85e15716-dbe6-4c52-c18d-318fadc940d8"
      },
      "execution_count": 14,
      "outputs": [
        {
          "output_type": "execute_result",
          "data": {
            "text/plain": [
              "(<tf.Variable 'Variable:0' shape=(2,) dtype=int32, numpy=array([10,  7], dtype=int32)>,\n",
              " <tf.Tensor: shape=(2,), dtype=int32, numpy=array([10,  7], dtype=int32)>)"
            ]
          },
          "metadata": {},
          "execution_count": 14
        }
      ]
    },
    {
      "cell_type": "markdown",
      "source": [
        "We cannot directly assign values of an element of a tensor, we need to use .assign() function"
      ],
      "metadata": {
        "id": "SbaDOS0LWsL9"
      }
    },
    {
      "cell_type": "code",
      "source": [
        "changeable_tensor[0].assign(34)"
      ],
      "metadata": {
        "colab": {
          "base_uri": "https://localhost:8080/"
        },
        "id": "5AQRHtEjW5oV",
        "outputId": "c0ece2e2-4353-4011-9840-49955ffaf7d8"
      },
      "execution_count": 15,
      "outputs": [
        {
          "output_type": "execute_result",
          "data": {
            "text/plain": [
              "<tf.Variable 'UnreadVariable' shape=(2,) dtype=int32, numpy=array([34,  7], dtype=int32)>"
            ]
          },
          "metadata": {},
          "execution_count": 15
        }
      ]
    },
    {
      "cell_type": "code",
      "source": [
        "changeable_tensor"
      ],
      "metadata": {
        "colab": {
          "base_uri": "https://localhost:8080/"
        },
        "id": "ESHWq-s4W-_W",
        "outputId": "5081d214-f926-49eb-c842-977550bed770"
      },
      "execution_count": 16,
      "outputs": [
        {
          "output_type": "execute_result",
          "data": {
            "text/plain": [
              "<tf.Variable 'Variable:0' shape=(2,) dtype=int32, numpy=array([34,  7], dtype=int32)>"
            ]
          },
          "metadata": {},
          "execution_count": 16
        }
      ]
    },
    {
      "cell_type": "markdown",
      "source": [
        "## Create Random Tensors"
      ],
      "metadata": {
        "id": "H_hUKlHEXBHG"
      }
    },
    {
      "cell_type": "code",
      "source": [
        "# Create two random (but the same) tensors\n",
        "random_1 = tf.random.Generator.from_seed(42) # set seed\n",
        "random_1 = random_1.normal(shape = (3, 2))\n",
        "\n",
        "random_2 = tf.random.Generator.from_seed(42)\n",
        "random_2 = random_2.normal(shape = (3, 2))\n",
        "\n",
        "# Are they equal\n",
        "random_1, random_2, random_1 == random_2"
      ],
      "metadata": {
        "colab": {
          "base_uri": "https://localhost:8080/"
        },
        "id": "yt3_tDNkapwa",
        "outputId": "1832d191-e610-4fe7-e1a7-749d29cd45c3"
      },
      "execution_count": 17,
      "outputs": [
        {
          "output_type": "execute_result",
          "data": {
            "text/plain": [
              "(<tf.Tensor: shape=(3, 2), dtype=float32, numpy=\n",
              " array([[-0.7565803 , -0.06854702],\n",
              "        [ 0.07595026, -1.2573844 ],\n",
              "        [-0.23193763, -1.8107855 ]], dtype=float32)>,\n",
              " <tf.Tensor: shape=(3, 2), dtype=float32, numpy=\n",
              " array([[-0.7565803 , -0.06854702],\n",
              "        [ 0.07595026, -1.2573844 ],\n",
              "        [-0.23193763, -1.8107855 ]], dtype=float32)>,\n",
              " <tf.Tensor: shape=(3, 2), dtype=bool, numpy=\n",
              " array([[ True,  True],\n",
              "        [ True,  True],\n",
              "        [ True,  True]])>)"
            ]
          },
          "metadata": {},
          "execution_count": 17
        }
      ]
    },
    {
      "cell_type": "markdown",
      "source": [
        "## Shuffle The Random Tensor"
      ],
      "metadata": {
        "id": "7yJWBF9EbqvK"
      }
    },
    {
      "cell_type": "code",
      "source": [
        "not_shuffled = tf.constant([[10, 7],\n",
        "                            [3, 4],\n",
        "                            [2, 5]])\n",
        "not_shuffled"
      ],
      "metadata": {
        "colab": {
          "base_uri": "https://localhost:8080/"
        },
        "id": "JWadnJqPgEDb",
        "outputId": "d08328b5-aa50-4baa-c653-47f73de864d3"
      },
      "execution_count": 18,
      "outputs": [
        {
          "output_type": "execute_result",
          "data": {
            "text/plain": [
              "<tf.Tensor: shape=(3, 2), dtype=int32, numpy=\n",
              "array([[10,  7],\n",
              "       [ 3,  4],\n",
              "       [ 2,  5]], dtype=int32)>"
            ]
          },
          "metadata": {},
          "execution_count": 18
        }
      ]
    },
    {
      "cell_type": "code",
      "source": [
        "tf.random.shuffle(not_shuffled)"
      ],
      "metadata": {
        "colab": {
          "base_uri": "https://localhost:8080/"
        },
        "id": "hDLeYIFIgG-r",
        "outputId": "f455763c-6309-4284-dc53-dfb725078799"
      },
      "execution_count": 22,
      "outputs": [
        {
          "output_type": "execute_result",
          "data": {
            "text/plain": [
              "<tf.Tensor: shape=(3, 2), dtype=int32, numpy=\n",
              "array([[ 3,  4],\n",
              "       [ 2,  5],\n",
              "       [10,  7]], dtype=int32)>"
            ]
          },
          "metadata": {},
          "execution_count": 22
        }
      ]
    },
    {
      "cell_type": "markdown",
      "source": [
        "## Other Ways of Creating Tensors"
      ],
      "metadata": {
        "id": "02zEKQCrgJBb"
      }
    },
    {
      "cell_type": "code",
      "source": [
        "tf.ones([10,7])"
      ],
      "metadata": {
        "id": "jy1Ci3M6hKvr",
        "outputId": "f71e663f-7ad9-4a6e-a4a7-112152b41d9d",
        "colab": {
          "base_uri": "https://localhost:8080/"
        }
      },
      "execution_count": 23,
      "outputs": [
        {
          "output_type": "execute_result",
          "data": {
            "text/plain": [
              "<tf.Tensor: shape=(10, 7), dtype=float32, numpy=\n",
              "array([[1., 1., 1., 1., 1., 1., 1.],\n",
              "       [1., 1., 1., 1., 1., 1., 1.],\n",
              "       [1., 1., 1., 1., 1., 1., 1.],\n",
              "       [1., 1., 1., 1., 1., 1., 1.],\n",
              "       [1., 1., 1., 1., 1., 1., 1.],\n",
              "       [1., 1., 1., 1., 1., 1., 1.],\n",
              "       [1., 1., 1., 1., 1., 1., 1.],\n",
              "       [1., 1., 1., 1., 1., 1., 1.],\n",
              "       [1., 1., 1., 1., 1., 1., 1.],\n",
              "       [1., 1., 1., 1., 1., 1., 1.]], dtype=float32)>"
            ]
          },
          "metadata": {},
          "execution_count": 23
        }
      ]
    },
    {
      "cell_type": "code",
      "source": [
        "tf.zeros(shape = (3, 2))"
      ],
      "metadata": {
        "id": "UkbGCwGBhRUb",
        "outputId": "84941b52-3aae-42a4-8432-399eb272fb8d",
        "colab": {
          "base_uri": "https://localhost:8080/"
        }
      },
      "execution_count": 24,
      "outputs": [
        {
          "output_type": "execute_result",
          "data": {
            "text/plain": [
              "<tf.Tensor: shape=(3, 2), dtype=float32, numpy=\n",
              "array([[0., 0.],\n",
              "       [0., 0.],\n",
              "       [0., 0.]], dtype=float32)>"
            ]
          },
          "metadata": {},
          "execution_count": 24
        }
      ]
    },
    {
      "cell_type": "markdown",
      "source": [
        "## Create Tensor from Numpy"
      ],
      "metadata": {
        "id": "kKz44ChkhTUj"
      }
    },
    {
      "cell_type": "code",
      "source": [
        "import numpy as np\n",
        "numpy_A = np.arange(1, 25, dtype = np.int32)\n",
        "numpy_A"
      ],
      "metadata": {
        "id": "wPNM_rD5jUQg",
        "outputId": "b2cd28f9-7ab4-4ce6-9c83-d9074237cd14",
        "colab": {
          "base_uri": "https://localhost:8080/"
        }
      },
      "execution_count": 25,
      "outputs": [
        {
          "output_type": "execute_result",
          "data": {
            "text/plain": [
              "array([ 1,  2,  3,  4,  5,  6,  7,  8,  9, 10, 11, 12, 13, 14, 15, 16, 17,\n",
              "       18, 19, 20, 21, 22, 23, 24], dtype=int32)"
            ]
          },
          "metadata": {},
          "execution_count": 25
        }
      ]
    },
    {
      "cell_type": "code",
      "source": [
        "A = tf.constant(numpy_A, shape = (2, 3, 4))\n",
        "A"
      ],
      "metadata": {
        "id": "GOg_6p3KjWvJ",
        "outputId": "799a4532-c6a5-48a4-dba7-e6e79fc7a7bb",
        "colab": {
          "base_uri": "https://localhost:8080/"
        }
      },
      "execution_count": 26,
      "outputs": [
        {
          "output_type": "execute_result",
          "data": {
            "text/plain": [
              "<tf.Tensor: shape=(2, 3, 4), dtype=int32, numpy=\n",
              "array([[[ 1,  2,  3,  4],\n",
              "        [ 5,  6,  7,  8],\n",
              "        [ 9, 10, 11, 12]],\n",
              "\n",
              "       [[13, 14, 15, 16],\n",
              "        [17, 18, 19, 20],\n",
              "        [21, 22, 23, 24]]], dtype=int32)>"
            ]
          },
          "metadata": {},
          "execution_count": 26
        }
      ]
    },
    {
      "cell_type": "code",
      "source": [
        "numpy_A.shape, A.shape"
      ],
      "metadata": {
        "id": "GgzMXYBbjeyQ",
        "outputId": "0de23d17-8e9f-4178-8900-8c6a9372f9c9",
        "colab": {
          "base_uri": "https://localhost:8080/"
        }
      },
      "execution_count": 28,
      "outputs": [
        {
          "output_type": "execute_result",
          "data": {
            "text/plain": [
              "((24,), TensorShape([2, 3, 4]))"
            ]
          },
          "metadata": {},
          "execution_count": 28
        }
      ]
    },
    {
      "cell_type": "code",
      "source": [],
      "metadata": {
        "id": "YjOQ4j70jj7X"
      },
      "execution_count": null,
      "outputs": []
    }
  ]
}