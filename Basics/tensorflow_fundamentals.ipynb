{
  "nbformat": 4,
  "nbformat_minor": 0,
  "metadata": {
    "colab": {
      "provenance": [],
      "authorship_tag": "ABX9TyMauohlXMaDxtq8eolNhMMq",
      "include_colab_link": true
    },
    "kernelspec": {
      "name": "python3",
      "display_name": "Python 3"
    },
    "language_info": {
      "name": "python"
    }
  },
  "cells": [
    {
      "cell_type": "markdown",
      "metadata": {
        "id": "view-in-github",
        "colab_type": "text"
      },
      "source": [
        "<a href=\"https://colab.research.google.com/github/Priyo-prog/Deep-Learning-with-Tensorflow/blob/main/Basics/tensorflow_fundamentals.ipynb\" target=\"_parent\"><img src=\"https://colab.research.google.com/assets/colab-badge.svg\" alt=\"Open In Colab\"/></a>"
      ]
    },
    {
      "cell_type": "markdown",
      "source": [
        "# **Fundamentals of Tensorflow**\n",
        "\n",
        "* Introduction to Tensors\n",
        "* Getting information from Tensors\n",
        "* Manipulating Tensors\n",
        "* Tensors & Numpy\n",
        "* Using @tf.function ( a way to speed up your regular Python Functions)\n",
        "* Using GPUs with Tensorflow (or TPUs)"
      ],
      "metadata": {
        "id": "DMRJPTcRHzQj"
      }
    },
    {
      "cell_type": "code",
      "source": [
        "import tensorflow as tf\n",
        "\n",
        "scalar = tf.constant(7)\n",
        "scalar"
      ],
      "metadata": {
        "id": "FMlos50UH-OW",
        "colab": {
          "base_uri": "https://localhost:8080/"
        },
        "outputId": "1be149ef-38ee-4b2f-ed4e-e6d985003ef2"
      },
      "execution_count": 2,
      "outputs": [
        {
          "output_type": "execute_result",
          "data": {
            "text/plain": [
              "<tf.Tensor: shape=(), dtype=int32, numpy=7>"
            ]
          },
          "metadata": {},
          "execution_count": 2
        }
      ]
    },
    {
      "cell_type": "code",
      "source": [
        "# create vector\n",
        "vector = tf.constant([10, 10])\n",
        "vector"
      ],
      "metadata": {
        "colab": {
          "base_uri": "https://localhost:8080/"
        },
        "id": "ZSky_UyyMpRY",
        "outputId": "e088f01e-92d2-412b-a54d-ffab74ada744"
      },
      "execution_count": 3,
      "outputs": [
        {
          "output_type": "execute_result",
          "data": {
            "text/plain": [
              "<tf.Tensor: shape=(2,), dtype=int32, numpy=array([10, 10], dtype=int32)>"
            ]
          },
          "metadata": {},
          "execution_count": 3
        }
      ]
    },
    {
      "cell_type": "code",
      "source": [
        "# create matrix\n",
        "matrix = tf.constant([[10, 7],\n",
        "                      [7, 10]])"
      ],
      "metadata": {
        "id": "8Hntc68ZRZhd"
      },
      "execution_count": 4,
      "outputs": []
    },
    {
      "cell_type": "code",
      "source": [
        "matrix.ndim"
      ],
      "metadata": {
        "colab": {
          "base_uri": "https://localhost:8080/"
        },
        "id": "9FarUvyWRiNU",
        "outputId": "9f10e6c5-d55e-44e5-cec3-d50ca43eda8c"
      },
      "execution_count": 5,
      "outputs": [
        {
          "output_type": "execute_result",
          "data": {
            "text/plain": [
              "2"
            ]
          },
          "metadata": {},
          "execution_count": 5
        }
      ]
    },
    {
      "cell_type": "markdown",
      "source": [
        "The general observation is that number of brackets actually signifies the dimension of the tensor"
      ],
      "metadata": {
        "id": "gB6Z7czFRkhU"
      }
    },
    {
      "cell_type": "code",
      "source": [
        "another_matrix = tf.constant([[[1, 2, 3],\n",
        "                     [4, 5, 6]],\n",
        "                    [[7, 8, 9],\n",
        "                     [10, 11, 12]]], dtype = tf.float16)\n",
        "\n",
        "another_matrix"
      ],
      "metadata": {
        "id": "s5ojVRyuSF47",
        "outputId": "7468f658-b286-4329-fb37-52925edfd089",
        "colab": {
          "base_uri": "https://localhost:8080/"
        }
      },
      "execution_count": 9,
      "outputs": [
        {
          "output_type": "execute_result",
          "data": {
            "text/plain": [
              "<tf.Tensor: shape=(2, 2, 3), dtype=float16, numpy=\n",
              "array([[[ 1.,  2.,  3.],\n",
              "        [ 4.,  5.,  6.]],\n",
              "\n",
              "       [[ 7.,  8.,  9.],\n",
              "        [10., 11., 12.]]], dtype=float16)>"
            ]
          },
          "metadata": {},
          "execution_count": 9
        }
      ]
    },
    {
      "cell_type": "markdown",
      "source": [
        "In the above code changing the dtype of the tensor saves space as by default tensorflow tensors are int32"
      ],
      "metadata": {
        "id": "cfguZDdaSYKc"
      }
    },
    {
      "cell_type": "markdown",
      "source": [
        "Show that the dimension of the tensors depends upon the brackets of the tensorflow"
      ],
      "metadata": {
        "id": "HnW5buDRSt5M"
      }
    },
    {
      "cell_type": "code",
      "source": [
        "tensor = tf.constant([[[[1, 2, 3],\n",
        "                     [4, 5, 6]],\n",
        "                    [[7, 8, 9],\n",
        "                     [10, 11, 12]]]])\n",
        "\n",
        "tensor"
      ],
      "metadata": {
        "id": "6wMu5XkkTOvy",
        "outputId": "e302479e-3608-4fbe-c55d-ebde1dc46b54",
        "colab": {
          "base_uri": "https://localhost:8080/"
        }
      },
      "execution_count": 10,
      "outputs": [
        {
          "output_type": "execute_result",
          "data": {
            "text/plain": [
              "<tf.Tensor: shape=(1, 2, 2, 3), dtype=int32, numpy=\n",
              "array([[[[ 1,  2,  3],\n",
              "         [ 4,  5,  6]],\n",
              "\n",
              "        [[ 7,  8,  9],\n",
              "         [10, 11, 12]]]], dtype=int32)>"
            ]
          },
          "metadata": {},
          "execution_count": 10
        }
      ]
    },
    {
      "cell_type": "code",
      "source": [
        "tensor_1 = tf.constant([[[[[1, 2, 3],\n",
        "                     [4, 5, 6]],\n",
        "                    [[7, 8, 9],\n",
        "                     [10, 11, 12]]]]])\n",
        "\n",
        "tensor_1"
      ],
      "metadata": {
        "id": "hREiZdqaTVZa",
        "outputId": "f8852405-ce2a-419b-a298-8eeb8cb06500",
        "colab": {
          "base_uri": "https://localhost:8080/"
        }
      },
      "execution_count": 11,
      "outputs": [
        {
          "output_type": "execute_result",
          "data": {
            "text/plain": [
              "<tf.Tensor: shape=(1, 1, 2, 2, 3), dtype=int32, numpy=\n",
              "array([[[[[ 1,  2,  3],\n",
              "          [ 4,  5,  6]],\n",
              "\n",
              "         [[ 7,  8,  9],\n",
              "          [10, 11, 12]]]]], dtype=int32)>"
            ]
          },
          "metadata": {},
          "execution_count": 11
        }
      ]
    },
    {
      "cell_type": "code",
      "source": [
        "tensor.ndim, tensor_1.ndim"
      ],
      "metadata": {
        "id": "a9vxthQ-TfvC",
        "outputId": "bdbbff79-030b-4208-9d76-67924a4b4f0d",
        "colab": {
          "base_uri": "https://localhost:8080/"
        }
      },
      "execution_count": 12,
      "outputs": [
        {
          "output_type": "execute_result",
          "data": {
            "text/plain": [
              "(4, 5)"
            ]
          },
          "metadata": {},
          "execution_count": 12
        }
      ]
    },
    {
      "cell_type": "code",
      "source": [],
      "metadata": {
        "id": "6dDfrwNFTkGZ"
      },
      "execution_count": null,
      "outputs": []
    }
  ]
}