{
  "nbformat": 4,
  "nbformat_minor": 0,
  "metadata": {
    "colab": {
      "provenance": [],
      "authorship_tag": "ABX9TyMeJlzlKqY41jYGOYRj9AOb",
      "include_colab_link": true
    },
    "kernelspec": {
      "name": "python3",
      "display_name": "Python 3"
    },
    "language_info": {
      "name": "python"
    }
  },
  "cells": [
    {
      "cell_type": "markdown",
      "metadata": {
        "id": "view-in-github",
        "colab_type": "text"
      },
      "source": [
        "<a href=\"https://colab.research.google.com/github/Priyo-prog/Deep-Learning-with-Tensorflow/blob/main/Basics/basic_tensorflow_experiment.ipynb\" target=\"_parent\"><img src=\"https://colab.research.google.com/assets/colab-badge.svg\" alt=\"Open In Colab\"/></a>"
      ]
    },
    {
      "cell_type": "markdown",
      "source": [
        "# Basics of Tensorflow\n",
        "\n",
        "The scalars, vectors and matrix all are tensors by concept.All can be created using basic tf.constant(). Only difference is scalar has no dimension, vector has 1 and matrix vector has 2 or more."
      ],
      "metadata": {
        "id": "SlNdKJVpH351"
      }
    },
    {
      "cell_type": "code",
      "source": [
        "import tensorflow as tf\n",
        "\n",
        "scalar = tf.constant(7) # A simple value is pushed\n",
        "scalar.ndim , scalar.shape"
      ],
      "metadata": {
        "id": "M2xD6PYPIp-Q",
        "outputId": "2bf0b9e7-641e-4d50-b268-19c8d763b8ca",
        "colab": {
          "base_uri": "https://localhost:8080/"
        }
      },
      "execution_count": 6,
      "outputs": [
        {
          "output_type": "execute_result",
          "data": {
            "text/plain": [
              "(0, TensorShape([]))"
            ]
          },
          "metadata": {},
          "execution_count": 6
        }
      ]
    },
    {
      "cell_type": "code",
      "source": [
        "vector = tf.constant([2,4]) # A list is pushed in the tf.constant()\n",
        "vector.ndim"
      ],
      "metadata": {
        "id": "yuvUxQq5I68X",
        "outputId": "978c39a1-c2ee-4d0b-bc4f-675625395ee6",
        "colab": {
          "base_uri": "https://localhost:8080/"
        }
      },
      "execution_count": 3,
      "outputs": [
        {
          "output_type": "execute_result",
          "data": {
            "text/plain": [
              "1"
            ]
          },
          "metadata": {},
          "execution_count": 3
        }
      ]
    },
    {
      "cell_type": "code",
      "source": [
        "matrix = tf.constant([[7,10],\n",
        "                     [10,7]]) # A two-dimensional matrix is pushed into the tf.constant()\n",
        "\n",
        "matrix.ndim"
      ],
      "metadata": {
        "id": "TAV_C8jHJQyQ",
        "outputId": "7c118c7b-8021-427a-879f-81dfb537fe2a",
        "colab": {
          "base_uri": "https://localhost:8080/"
        }
      },
      "execution_count": 5,
      "outputs": [
        {
          "output_type": "execute_result",
          "data": {
            "text/plain": [
              "2"
            ]
          },
          "metadata": {},
          "execution_count": 5
        }
      ]
    },
    {
      "cell_type": "markdown",
      "source": [
        "By default the data type is int32. we can change this to int64 which will take more space or we can change the data type to float16"
      ],
      "metadata": {
        "id": "WltexXl2JtRc"
      }
    },
    {
      "cell_type": "code",
      "source": [
        "float_matrix = tf.constant([[8.6, 3.4],\n",
        "                           [5.8, 8.2]], dtype=tf.float16)\n",
        "float_matrix"
      ],
      "metadata": {
        "id": "UDxCqwMyQG8d",
        "outputId": "502215f4-9be8-4087-f6b5-f457bcfadf6f",
        "colab": {
          "base_uri": "https://localhost:8080/"
        }
      },
      "execution_count": 7,
      "outputs": [
        {
          "output_type": "execute_result",
          "data": {
            "text/plain": [
              "<tf.Tensor: shape=(2, 2), dtype=float16, numpy=\n",
              "array([[8.6, 3.4],\n",
              "       [5.8, 8.2]], dtype=float16)>"
            ]
          },
          "metadata": {},
          "execution_count": 7
        }
      ]
    },
    {
      "cell_type": "code",
      "source": [
        "# What is the dimension of float_matrix ?\n",
        "float_matrix.ndim"
      ],
      "metadata": {
        "id": "R8ztFKegQdjx",
        "outputId": "3652443a-a3e0-474d-bc28-d4546fa900fd",
        "colab": {
          "base_uri": "https://localhost:8080/"
        }
      },
      "execution_count": 8,
      "outputs": [
        {
          "output_type": "execute_result",
          "data": {
            "text/plain": [
              "2"
            ]
          },
          "metadata": {},
          "execution_count": 8
        }
      ]
    },
    {
      "cell_type": "markdown",
      "source": [
        "We can notice that the dimension of the tensor is equal to the number elements in the shape. Basically the number of rows in the tensor is the dimension"
      ],
      "metadata": {
        "id": "YQfuYcr8Q3bZ"
      }
    },
    {
      "cell_type": "code",
      "source": [
        "# Create a tensor \n",
        "tensor = tf.constant([[[1,2,3],\n",
        "                       [4,5,6]],\n",
        "                      [[7,8,9],\n",
        "                       [10,11,12]],\n",
        "                      [[14,15,16],\n",
        "                       [17,18,19]]])\n",
        "\n",
        "tensor"
      ],
      "metadata": {
        "id": "bP06p7-MRI4J",
        "outputId": "41e1b886-0113-4187-ed87-ede54a3fa15b",
        "colab": {
          "base_uri": "https://localhost:8080/"
        }
      },
      "execution_count": 9,
      "outputs": [
        {
          "output_type": "execute_result",
          "data": {
            "text/plain": [
              "<tf.Tensor: shape=(3, 2, 3), dtype=int32, numpy=\n",
              "array([[[ 1,  2,  3],\n",
              "        [ 4,  5,  6]],\n",
              "\n",
              "       [[ 7,  8,  9],\n",
              "        [10, 11, 12]],\n",
              "\n",
              "       [[14, 15, 16],\n",
              "        [17, 18, 19]]], dtype=int32)>"
            ]
          },
          "metadata": {},
          "execution_count": 9
        }
      ]
    },
    {
      "cell_type": "code",
      "source": [
        "# dimension of the tensor\n",
        "tensor.ndim"
      ],
      "metadata": {
        "id": "pBZ_6FCyS-Aq",
        "outputId": "a4b42680-4737-4fa3-ab76-4aecf27167e2",
        "colab": {
          "base_uri": "https://localhost:8080/"
        }
      },
      "execution_count": 10,
      "outputs": [
        {
          "output_type": "execute_result",
          "data": {
            "text/plain": [
              "3"
            ]
          },
          "metadata": {},
          "execution_count": 10
        }
      ]
    },
    {
      "cell_type": "code",
      "source": [],
      "metadata": {
        "id": "Z6hKQa82TWJZ"
      },
      "execution_count": null,
      "outputs": []
    }
  ]
}