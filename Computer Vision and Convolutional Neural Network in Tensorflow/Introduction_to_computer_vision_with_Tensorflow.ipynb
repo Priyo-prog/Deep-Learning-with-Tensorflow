{
  "nbformat": 4,
  "nbformat_minor": 0,
  "metadata": {
    "colab": {
      "name": "Introduction to computer vision with Tensorflow.ipynb",
      "provenance": [],
      "authorship_tag": "ABX9TyMEVcbQbfMphioAzvWxOsbs",
      "include_colab_link": true
    },
    "kernelspec": {
      "name": "python3",
      "display_name": "Python 3"
    },
    "language_info": {
      "name": "python"
    }
  },
  "cells": [
    {
      "cell_type": "markdown",
      "metadata": {
        "id": "view-in-github",
        "colab_type": "text"
      },
      "source": [
        "<a href=\"https://colab.research.google.com/github/Priyo-prog/Deep-Learning-with-Tensorflow/blob/main/Computer%20Vision%20and%20Convolutional%20Neural%20Network%20in%20Tensorflow/Introduction_to_computer_vision_with_Tensorflow.ipynb\" target=\"_parent\"><img src=\"https://colab.research.google.com/assets/colab-badge.svg\" alt=\"Open In Colab\"/></a>"
      ]
    },
    {
      "cell_type": "markdown",
      "metadata": {
        "id": "Cj09D_7_1KK9"
      },
      "source": [
        "# Introduction to Convolutional Neural Network and computer vision with Tensorflow\n",
        "\n",
        "Computer vision is the practice of writing algorithms which can discover patterns in visual data. Such as the camera of a self-driving car recognizing the car infront.\n"
      ]
    },
    {
      "cell_type": "markdown",
      "metadata": {
        "id": "bBO5g94_1gUK"
      },
      "source": [
        "## Get the data"
      ]
    },
    {
      "cell_type": "code",
      "metadata": {
        "colab": {
          "base_uri": "https://localhost:8080/"
        },
        "id": "e6XhelQ72PKm",
        "outputId": "374e3d12-b507-4c7e-e21a-f5ea8c62481d"
      },
      "source": [
        "import zipfile\n",
        "\n",
        "!wget https://storage.googleapis.com/ztm_tf_course/food_vision/pizza_steak.zip\n",
        "\n",
        "# Unzip the downlaoded file\n",
        "zip_ref = zipfile.ZipFile(\"pizza_steak.zip\")\n",
        "zip_ref.extractall()\n",
        "zip_ref.close()"
      ],
      "execution_count": 1,
      "outputs": [
        {
          "output_type": "stream",
          "name": "stdout",
          "text": [
            "--2021-09-23 13:38:58--  https://storage.googleapis.com/ztm_tf_course/food_vision/pizza_steak.zip\n",
            "Resolving storage.googleapis.com (storage.googleapis.com)... 142.250.159.128, 74.125.70.128, 74.125.69.128, ...\n",
            "Connecting to storage.googleapis.com (storage.googleapis.com)|142.250.159.128|:443... connected.\n",
            "HTTP request sent, awaiting response... 200 OK\n",
            "Length: 109579078 (105M) [application/zip]\n",
            "Saving to: ‘pizza_steak.zip’\n",
            "\n",
            "pizza_steak.zip     100%[===================>] 104.50M   141MB/s    in 0.7s    \n",
            "\n",
            "2021-09-23 13:38:59 (141 MB/s) - ‘pizza_steak.zip’ saved [109579078/109579078]\n",
            "\n"
          ]
        }
      ]
    },
    {
      "cell_type": "code",
      "metadata": {
        "id": "k6RO76644TPL"
      },
      "source": [
        ""
      ],
      "execution_count": null,
      "outputs": []
    }
  ]
}