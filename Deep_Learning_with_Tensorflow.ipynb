{
  "nbformat": 4,
  "nbformat_minor": 0,
  "metadata": {
    "colab": {
      "name": "Deep Learning with Tensorflow.ipynb",
      "provenance": [],
      "authorship_tag": "ABX9TyMYViExaUnkxhTdkdHKELx/",
      "include_colab_link": true
    },
    "kernelspec": {
      "name": "python3",
      "display_name": "Python 3"
    },
    "language_info": {
      "name": "python"
    }
  },
  "cells": [
    {
      "cell_type": "markdown",
      "metadata": {
        "id": "view-in-github",
        "colab_type": "text"
      },
      "source": [
        "<a href=\"https://colab.research.google.com/github/Priyo-prog/Deep-Learning-with-Tensorflow/blob/main/Deep_Learning_with_Tensorflow.ipynb\" target=\"_parent\"><img src=\"https://colab.research.google.com/assets/colab-badge.svg\" alt=\"Open In Colab\"/></a>"
      ]
    },
    {
      "cell_type": "markdown",
      "metadata": {
        "id": "Mg5N_iHikMTQ"
      },
      "source": [
        "# **Fundamentals of Tensorflow**"
      ]
    },
    {
      "cell_type": "markdown",
      "metadata": {
        "id": "5iYg7qEakgVQ"
      },
      "source": [
        "We are going to cover :\n",
        "\n",
        "\n",
        "1.   Introductions to Tensors\n",
        "2.   Getting informations from Tensors\n",
        "3.   Manipulating Tensors\n",
        "4.   Tensors & Numpy\n",
        "5.   Using @tf.functions\n",
        "6.   Using GPUs with Tensorflow (or TPUs)\n",
        "\n"
      ]
    },
    {
      "cell_type": "code",
      "metadata": {
        "id": "gid1NfMCp187"
      },
      "source": [
        "import tensorflow as tf"
      ],
      "execution_count": 1,
      "outputs": []
    },
    {
      "cell_type": "code",
      "metadata": {
        "colab": {
          "base_uri": "https://localhost:8080/",
          "height": 35
        },
        "id": "cDrPJEb8xN7u",
        "outputId": "a7697f02-23d8-477e-8337-2ac6b09e2578"
      },
      "source": [
        "tf.__version__ "
      ],
      "execution_count": null,
      "outputs": [
        {
          "output_type": "execute_result",
          "data": {
            "application/vnd.google.colaboratory.intrinsic+json": {
              "type": "string"
            },
            "text/plain": [
              "'2.5.0'"
            ]
          },
          "metadata": {
            "tags": []
          },
          "execution_count": 2
        }
      ]
    },
    {
      "cell_type": "markdown",
      "metadata": {
        "id": "xKMsubGclVrP"
      },
      "source": [
        "### **Introductions to Tensors**"
      ]
    },
    {
      "cell_type": "code",
      "metadata": {
        "id": "NFSHJ9RoxW_r",
        "colab": {
          "base_uri": "https://localhost:8080/"
        },
        "outputId": "833fcb8c-6d0e-4b4a-ce62-3c1b96da2552"
      },
      "source": [
        "# create tensors using tf.constant()\n",
        "scalar = tf.constant(7)\n",
        "scalar"
      ],
      "execution_count": null,
      "outputs": [
        {
          "output_type": "execute_result",
          "data": {
            "text/plain": [
              "<tf.Tensor: shape=(), dtype=int32, numpy=7>"
            ]
          },
          "metadata": {
            "tags": []
          },
          "execution_count": 3
        }
      ]
    },
    {
      "cell_type": "code",
      "metadata": {
        "id": "mIIbBjV1mY42",
        "colab": {
          "base_uri": "https://localhost:8080/"
        },
        "outputId": "459c708f-75b0-4c7e-9614-b87b68edeff8"
      },
      "source": [
        "#Check the number of dimensions of a tensor (ndim stands for number of dimensions)\n",
        "scalar.ndim"
      ],
      "execution_count": null,
      "outputs": [
        {
          "output_type": "execute_result",
          "data": {
            "text/plain": [
              "0"
            ]
          },
          "metadata": {
            "tags": []
          },
          "execution_count": 4
        }
      ]
    },
    {
      "cell_type": "code",
      "metadata": {
        "id": "oFKsPnwNtJwK",
        "colab": {
          "base_uri": "https://localhost:8080/"
        },
        "outputId": "fc7df526-ca73-465d-cad7-5f7fa7ae34c7"
      },
      "source": [
        "# Create a vector\n",
        "vector = tf.constant([10,10])\n",
        "vector"
      ],
      "execution_count": 3,
      "outputs": [
        {
          "output_type": "execute_result",
          "data": {
            "text/plain": [
              "<tf.Tensor: shape=(2,), dtype=int32, numpy=array([10, 10], dtype=int32)>"
            ]
          },
          "metadata": {
            "tags": []
          },
          "execution_count": 3
        }
      ]
    },
    {
      "cell_type": "code",
      "metadata": {
        "colab": {
          "base_uri": "https://localhost:8080/"
        },
        "id": "Ny81wdYZ5xEW",
        "outputId": "8a134885-bb55-419e-e1d6-594990ca76f8"
      },
      "source": [
        "vector.ndim"
      ],
      "execution_count": 4,
      "outputs": [
        {
          "output_type": "execute_result",
          "data": {
            "text/plain": [
              "1"
            ]
          },
          "metadata": {
            "tags": []
          },
          "execution_count": 4
        }
      ]
    },
    {
      "cell_type": "code",
      "metadata": {
        "id": "B4aNBv4puQvC",
        "colab": {
          "base_uri": "https://localhost:8080/"
        },
        "outputId": "9d2ff272-71a8-4377-aa8d-25073457147b"
      },
      "source": [
        "# Create a matrix\n",
        "matrix = tf.constant([[20,12],\n",
        "                      [15,23]], dtype=tf.float16) # You can specify the datatype of the tensor\n",
        "matrix"
      ],
      "execution_count": 5,
      "outputs": [
        {
          "output_type": "execute_result",
          "data": {
            "text/plain": [
              "<tf.Tensor: shape=(2, 2), dtype=float16, numpy=\n",
              "array([[20., 12.],\n",
              "       [15., 23.]], dtype=float16)>"
            ]
          },
          "metadata": {
            "tags": []
          },
          "execution_count": 5
        }
      ]
    },
    {
      "cell_type": "code",
      "metadata": {
        "id": "6VZyWTDG6Rgc",
        "outputId": "ed5db616-f5a0-4d47-a3ed-6b3049298c1c",
        "colab": {
          "base_uri": "https://localhost:8080/"
        }
      },
      "source": [
        "matrix.ndim"
      ],
      "execution_count": 6,
      "outputs": [
        {
          "output_type": "execute_result",
          "data": {
            "text/plain": [
              "2"
            ]
          },
          "metadata": {
            "tags": []
          },
          "execution_count": 6
        }
      ]
    },
    {
      "cell_type": "code",
      "metadata": {
        "id": "9Oj-A2QS6TWS",
        "outputId": "620304fc-6dcd-42ab-8d0c-37ef63eee03e",
        "colab": {
          "base_uri": "https://localhost:8080/"
        }
      },
      "source": [
        "# Create another matrix\n",
        "matrix1 = tf.constant([[12,34],\n",
        "                       [33,38],\n",
        "                       [67,55]])\n",
        "matrix1"
      ],
      "execution_count": 8,
      "outputs": [
        {
          "output_type": "execute_result",
          "data": {
            "text/plain": [
              "<tf.Tensor: shape=(3, 2), dtype=int32, numpy=\n",
              "array([[12, 34],\n",
              "       [33, 38],\n",
              "       [67, 55]], dtype=int32)>"
            ]
          },
          "metadata": {
            "tags": []
          },
          "execution_count": 8
        }
      ]
    },
    {
      "cell_type": "code",
      "metadata": {
        "id": "dVNJxaof7lWC",
        "outputId": "4bc4efd3-8b96-466f-8b26-a29337a540b2",
        "colab": {
          "base_uri": "https://localhost:8080/"
        }
      },
      "source": [
        "matrix1.ndim # This dimension is according to the number of contents inside the shape"
      ],
      "execution_count": 10,
      "outputs": [
        {
          "output_type": "execute_result",
          "data": {
            "text/plain": [
              "2"
            ]
          },
          "metadata": {
            "tags": []
          },
          "execution_count": 10
        }
      ]
    },
    {
      "cell_type": "code",
      "metadata": {
        "id": "vzfbDoq37vmv"
      },
      "source": [
        ""
      ],
      "execution_count": null,
      "outputs": []
    }
  ]
}