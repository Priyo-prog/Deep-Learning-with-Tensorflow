{
  "nbformat": 4,
  "nbformat_minor": 0,
  "metadata": {
    "colab": {
      "name": "Movie_Recommendation_system_Boltzmann_Machine.ipynb",
      "provenance": [],
      "authorship_tag": "ABX9TyMhXrIpgkkEcfsP+wTYZ0Mo",
      "include_colab_link": true
    },
    "kernelspec": {
      "name": "python3",
      "display_name": "Python 3"
    },
    "language_info": {
      "name": "python"
    }
  },
  "cells": [
    {
      "cell_type": "markdown",
      "metadata": {
        "id": "view-in-github",
        "colab_type": "text"
      },
      "source": [
        "<a href=\"https://colab.research.google.com/github/Priyo-prog/Deep-Learning-with-Tensorflow/blob/main/Movie-Recommendation-using-Boltzmann-Machine/Movie_Recommendation_system_Boltzmann_Machine.ipynb\" target=\"_parent\"><img src=\"https://colab.research.google.com/assets/colab-badge.svg\" alt=\"Open In Colab\"/></a>"
      ]
    },
    {
      "cell_type": "markdown",
      "metadata": {
        "id": "0s7M-QboPuoU"
      },
      "source": [
        "# Movie Recommendation System with Boltzmann Machine\n",
        "\n",
        "* Download data from https://grouplens.org/datasets/movielens/\n",
        "\n",
        "* Build the Restricted Boltzmann Machine to make a movie recommendation system"
      ]
    },
    {
      "cell_type": "markdown",
      "metadata": {
        "id": "PwtXoZ--SiJk"
      },
      "source": [
        "## Import important libraries"
      ]
    },
    {
      "cell_type": "code",
      "metadata": {
        "id": "CepSFEnTS4pf"
      },
      "source": [
        "import numpy as np\n",
        "import pandas as pd\n",
        "import torch\n",
        "import torch.nn as nn"
      ],
      "execution_count": 2,
      "outputs": []
    },
    {
      "cell_type": "code",
      "metadata": {
        "id": "rurOF_wuTHnr"
      },
      "source": [
        ""
      ],
      "execution_count": null,
      "outputs": []
    }
  ]
}